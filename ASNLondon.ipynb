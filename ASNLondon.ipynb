{
 "cells": [
  {
   "cell_type": "code",
   "execution_count": 1,
   "metadata": {},
   "outputs": [],
   "source": [
    "import sqlite3\n",
    "import pandas as pd\n",
    "import numpy as np\n",
    "import matplotlib.pyplot as plt\n",
    "import time\n",
    "import datetime\n",
    "import filterbyip as fbi\n",
    "import Cdf\n",
    "import Pmf"
   ]
  },
  {
   "cell_type": "code",
   "execution_count": 2,
   "metadata": {},
   "outputs": [],
   "source": [
    "def write_percentiles(filename, c):\n",
    "\twith open(filename, 'w') as f:\n",
    "\t\tf.write('values; percentile\\n')\n",
    "\t\tfor x, y in zip(c.xs, c.ps):\n",
    "\t\t\tf.write('%.2f, %.2f\\n'%(x, y))"
   ]
  },
  {
   "cell_type": "code",
   "execution_count": 3,
   "metadata": {},
   "outputs": [],
   "source": [
    "def print_percentiles(c, name):\n",
    "\tprint('-----------------------------\\n')\n",
    "\tprint('percentile values distribution for %s\\n' % name)\n",
    "\n",
    "\tprint('50th Percentile:%f\\n' % c.Percentile(50))\n",
    "\tprint('90th Percentile:%f\\n' % c.Percentile(90))\n",
    "\tprint('99th Percentile:%f\\n' % c.Percentile(99))\n",
    "\tprint('25th Percentile:%f\\n' % c.Percentile(25))\n",
    "\tprint('75th Percentile:%f\\n' % c.Percentile(75))\n",
    "\tprint('20th Percentile:%f\\n' % c.Percentile(50))\n",
    "\tprint('40th Percentile:%f\\n' % c.Percentile(90))\n",
    "\tprint('60th Percentile:%f\\n' % c.Percentile(99))\n",
    "\tprint('80th Percentile:%f\\n' % c.Percentile(25))\n",
    "\n",
    "\tprint('-----------------------------\\n')"
   ]
  },
  {
   "cell_type": "code",
   "execution_count": 4,
   "metadata": {},
   "outputs": [
    {
     "name": "stdout",
     "output_type": "stream",
     "text": [
      "Populating the interactive namespace from numpy and matplotlib\n"
     ]
    }
   ],
   "source": [
    "import warnings\n",
    "warnings.filterwarnings('ignore')\n",
    "\n",
    "%pylab inline"
   ]
  },
  {
   "cell_type": "code",
   "execution_count": 5,
   "metadata": {},
   "outputs": [
    {
     "data": {
      "text/html": [
       "<style>body {\n",
       "    margin: 0;\n",
       "    font-family: Helvetica;\n",
       "}\n",
       "table.dataframe {\n",
       "    border-collapse: collapse;\n",
       "    border: none;\n",
       "}\n",
       "table.dataframe tr {\n",
       "    border: none;\n",
       "}\n",
       "table.dataframe td, table.dataframe th {\n",
       "    margin: 0;\n",
       "    border: 1px solid white;\n",
       "    padding-left: 0.25em;\n",
       "    padding-right: 0.25em;\n",
       "}\n",
       "table.dataframe th:not(:empty) {\n",
       "    background-color: #fec;\n",
       "    text-align: left;\n",
       "    font-weight: normal;\n",
       "}\n",
       "table.dataframe tr:nth-child(2) th:empty {\n",
       "    border-left: none;\n",
       "    border-right: 1px dashed #888;\n",
       "}\n",
       "table.dataframe td {\n",
       "    border: 2px solid #ccf;\n",
       "    background-color: #f4f4ff;\n",
       "}\n",
       "h3 {\n",
       "    color: white;\n",
       "    background-color: black;\n",
       "    padding: 0.5em;\n",
       "}\n",
       "\n",
       ".CodeMirror {\n",
       "    font-family: 'Consolas';\n",
       "}\n",
       "\n",
       "div.cell.code_cell {\n",
       "    font-family: 'Consolas';\n",
       "}\n",
       "\n",
       "div.output_area pre {\n",
       "    font-family: 'Consolas';\n",
       "}\n",
       "</style>"
      ],
      "text/plain": [
       "<IPython.core.display.HTML object>"
      ]
     },
     "execution_count": 5,
     "metadata": {},
     "output_type": "execute_result"
    }
   ],
   "source": [
    "from IPython.core.display import HTML\n",
    "css = open('style-table.css').read() + open('style-notebook.css').read()\n",
    "HTML('<style>{}</style>'.format(css))"
   ]
  },
  {
   "cell_type": "code",
   "execution_count": 6,
   "metadata": {},
   "outputs": [],
   "source": [
    "quic_data = \"./AWS_results/London/data/output_quic.csv\""
   ]
  },
  {
   "cell_type": "code",
   "execution_count": 7,
   "metadata": {},
   "outputs": [],
   "source": [
    "tcol_names = ['TimeOfMeasurement', 'Url', 'Path', 'Ip', 'Port', 'DNSTime', 'ConnectionEstablishmentTime', 'TTFB', 'TotalDownloadTime', 'HttpResponse', 'Protocol']\n",
    "as_names = ['Url', 'Ip', 'ASNo','ASName','Lat','Lon'] "
   ]
  },
  {
   "cell_type": "code",
   "execution_count": 8,
   "metadata": {},
   "outputs": [],
   "source": [
    "t = pd.read_csv(quic_data,';', names=tcol_names, header=None)"
   ]
  },
  {
   "cell_type": "code",
   "execution_count": 9,
   "metadata": {},
   "outputs": [],
   "source": [
    "t = t.dropna()"
   ]
  },
  {
   "cell_type": "code",
   "execution_count": 10,
   "metadata": {},
   "outputs": [],
   "source": [
    "asndata = \"./data/pi-1/quic_perf/asinfo.csv\""
   ]
  },
  {
   "cell_type": "code",
   "execution_count": 11,
   "metadata": {},
   "outputs": [
    {
     "data": {
      "text/html": [
       "<div>\n",
       "<style scoped>\n",
       "    .dataframe tbody tr th:only-of-type {\n",
       "        vertical-align: middle;\n",
       "    }\n",
       "\n",
       "    .dataframe tbody tr th {\n",
       "        vertical-align: top;\n",
       "    }\n",
       "\n",
       "    .dataframe thead th {\n",
       "        text-align: right;\n",
       "    }\n",
       "</style>\n",
       "<table border=\"1\" class=\"dataframe\">\n",
       "  <thead>\n",
       "    <tr style=\"text-align: right;\">\n",
       "      <th></th>\n",
       "      <th>Url</th>\n",
       "      <th>Ip</th>\n",
       "      <th>ASNo</th>\n",
       "      <th>ASName</th>\n",
       "      <th>Lat</th>\n",
       "      <th>Lon</th>\n",
       "    </tr>\n",
       "  </thead>\n",
       "  <tbody>\n",
       "    <tr>\n",
       "      <th>0</th>\n",
       "      <td>www.google.com</td>\n",
       "      <td>172.217.19.68</td>\n",
       "      <td>15169.0</td>\n",
       "      <td>GOOGLE - Google LLC</td>\n",
       "      <td>-122.0574</td>\n",
       "      <td>37.4192</td>\n",
       "    </tr>\n",
       "    <tr>\n",
       "      <th>1</th>\n",
       "      <td>www.youtube.com</td>\n",
       "      <td>172.217.22.78</td>\n",
       "      <td>15169.0</td>\n",
       "      <td>GOOGLE - Google LLC</td>\n",
       "      <td>-122.0574</td>\n",
       "      <td>37.4192</td>\n",
       "    </tr>\n",
       "    <tr>\n",
       "      <th>2</th>\n",
       "      <td>www.google.co.in</td>\n",
       "      <td>216.58.213.227</td>\n",
       "      <td>15169.0</td>\n",
       "      <td>GOOGLE - Google LLC</td>\n",
       "      <td>-122.0574</td>\n",
       "      <td>37.4192</td>\n",
       "    </tr>\n",
       "    <tr>\n",
       "      <th>3</th>\n",
       "      <td>www.blogspot.com</td>\n",
       "      <td>172.217.18.9</td>\n",
       "      <td>15169.0</td>\n",
       "      <td>GOOGLE - Google LLC</td>\n",
       "      <td>-122.0574</td>\n",
       "      <td>37.4192</td>\n",
       "    </tr>\n",
       "    <tr>\n",
       "      <th>4</th>\n",
       "      <td>www.google.co.jp</td>\n",
       "      <td>216.58.210.3</td>\n",
       "      <td>15169.0</td>\n",
       "      <td>GOOGLE - Google LLC</td>\n",
       "      <td>-122.0574</td>\n",
       "      <td>37.4192</td>\n",
       "    </tr>\n",
       "    <tr>\n",
       "      <th>...</th>\n",
       "      <td>...</td>\n",
       "      <td>...</td>\n",
       "      <td>...</td>\n",
       "      <td>...</td>\n",
       "      <td>...</td>\n",
       "      <td>...</td>\n",
       "    </tr>\n",
       "    <tr>\n",
       "      <th>7428</th>\n",
       "      <td>www.holidaysequences.com</td>\n",
       "      <td>35.190.16.47</td>\n",
       "      <td>15169.0</td>\n",
       "      <td>GOOGLE - Google LLC</td>\n",
       "      <td>-122.0574</td>\n",
       "      <td>37.4192</td>\n",
       "    </tr>\n",
       "    <tr>\n",
       "      <th>7429</th>\n",
       "      <td>www.nickzammeti.com</td>\n",
       "      <td>130.211.40.170</td>\n",
       "      <td>15169.0</td>\n",
       "      <td>GOOGLE - Google LLC</td>\n",
       "      <td>4.35</td>\n",
       "      <td>50.8500</td>\n",
       "    </tr>\n",
       "    <tr>\n",
       "      <th>7430</th>\n",
       "      <td>www.redlink-network.org</td>\n",
       "      <td>35.190.35.16</td>\n",
       "      <td>15169.0</td>\n",
       "      <td>GOOGLE - Google LLC</td>\n",
       "      <td>-122.0574</td>\n",
       "      <td>37.4192</td>\n",
       "    </tr>\n",
       "    <tr>\n",
       "      <th>7431</th>\n",
       "      <td>www.reefh2o.com</td>\n",
       "      <td>35.190.16.47</td>\n",
       "      <td>15169.0</td>\n",
       "      <td>GOOGLE - Google LLC</td>\n",
       "      <td>-122.0574</td>\n",
       "      <td>37.4192</td>\n",
       "    </tr>\n",
       "    <tr>\n",
       "      <th>7432</th>\n",
       "      <td>www.vanbind.com</td>\n",
       "      <td>35.190.71.195</td>\n",
       "      <td>15169.0</td>\n",
       "      <td>GOOGLE - Google LLC</td>\n",
       "      <td>-122.0574</td>\n",
       "      <td>37.4192</td>\n",
       "    </tr>\n",
       "  </tbody>\n",
       "</table>\n",
       "<p>7433 rows × 6 columns</p>\n",
       "</div>"
      ],
      "text/plain": [
       "                           Url              Ip     ASNo               ASName  \\\n",
       "0               www.google.com   172.217.19.68  15169.0  GOOGLE - Google LLC   \n",
       "1              www.youtube.com   172.217.22.78  15169.0  GOOGLE - Google LLC   \n",
       "2             www.google.co.in  216.58.213.227  15169.0  GOOGLE - Google LLC   \n",
       "3             www.blogspot.com    172.217.18.9  15169.0  GOOGLE - Google LLC   \n",
       "4             www.google.co.jp    216.58.210.3  15169.0  GOOGLE - Google LLC   \n",
       "...                        ...             ...      ...                  ...   \n",
       "7428  www.holidaysequences.com    35.190.16.47  15169.0  GOOGLE - Google LLC   \n",
       "7429       www.nickzammeti.com  130.211.40.170  15169.0  GOOGLE - Google LLC   \n",
       "7430   www.redlink-network.org    35.190.35.16  15169.0  GOOGLE - Google LLC   \n",
       "7431           www.reefh2o.com    35.190.16.47  15169.0  GOOGLE - Google LLC   \n",
       "7432           www.vanbind.com   35.190.71.195  15169.0  GOOGLE - Google LLC   \n",
       "\n",
       "            Lat      Lon  \n",
       "0     -122.0574  37.4192  \n",
       "1     -122.0574  37.4192  \n",
       "2     -122.0574  37.4192  \n",
       "3     -122.0574  37.4192  \n",
       "4     -122.0574  37.4192  \n",
       "...         ...      ...  \n",
       "7428  -122.0574  37.4192  \n",
       "7429       4.35  50.8500  \n",
       "7430  -122.0574  37.4192  \n",
       "7431  -122.0574  37.4192  \n",
       "7432  -122.0574  37.4192  \n",
       "\n",
       "[7433 rows x 6 columns]"
      ]
     },
     "execution_count": 11,
     "metadata": {},
     "output_type": "execute_result"
    }
   ],
   "source": [
    "asn = pd.read_csv(asndata, ',', names=as_names, header=None)\n",
    "asn"
   ]
  },
  {
   "cell_type": "code",
   "execution_count": 12,
   "metadata": {},
   "outputs": [
    {
     "data": {
      "text/plain": [
       "ASNo     ASName                                              \n",
       "15169.0  GOOGLE - Google LLC                                     5040\n",
       "15133.0  EDGECAST - MCI Communications Services                   557\n",
       "7506.0   INTERQ GMO Internet                                      148\n",
       "24940.0  HETZNER-AS - Hetzner Online GmbH                         126\n",
       "16276.0  OVH - OVH SAS                                            102\n",
       "                                                                 ... \n",
       "30148.0  SUCURI-SEC - Sucuri                                        1\n",
       "48666.0  AS-MAROSNET - MAROSNET Telecommunication Company LLC       1\n",
       "30860.0  YURTEH-AS - Virtual Systems LLC                            1\n",
       "30933.0  PROTEXIA-EU - KDA WEB SERVICES LTD                         1\n",
       "37907.0  DIGIROCK DigiRock                                          1\n",
       "Length: 216, dtype: int64"
      ]
     },
     "execution_count": 12,
     "metadata": {},
     "output_type": "execute_result"
    }
   ],
   "source": [
    "#pd.set_option('display.max_rows', 500)\n",
    "asn.groupby(['ASNo', 'ASName']).size().sort_values(ascending=False)\n"
   ]
  },
  {
   "cell_type": "code",
   "execution_count": 13,
   "metadata": {
    "scrolled": true
   },
   "outputs": [
    {
     "data": {
      "text/plain": [
       "Url       7433\n",
       "Ip        7424\n",
       "ASNo      7424\n",
       "ASName    7424\n",
       "Lat       7424\n",
       "Lon       7424\n",
       "dtype: int64"
      ]
     },
     "execution_count": 13,
     "metadata": {},
     "output_type": "execute_result"
    }
   ],
   "source": [
    "asn.count()"
   ]
  },
  {
   "cell_type": "code",
   "execution_count": 14,
   "metadata": {},
   "outputs": [
    {
     "data": {
      "text/html": [
       "<div>\n",
       "<style scoped>\n",
       "    .dataframe tbody tr th:only-of-type {\n",
       "        vertical-align: middle;\n",
       "    }\n",
       "\n",
       "    .dataframe tbody tr th {\n",
       "        vertical-align: top;\n",
       "    }\n",
       "\n",
       "    .dataframe thead th {\n",
       "        text-align: right;\n",
       "    }\n",
       "</style>\n",
       "<table border=\"1\" class=\"dataframe\">\n",
       "  <thead>\n",
       "    <tr style=\"text-align: right;\">\n",
       "      <th></th>\n",
       "      <th>Url</th>\n",
       "      <th>Ip</th>\n",
       "      <th>ASNo</th>\n",
       "      <th>ASName</th>\n",
       "      <th>Lat</th>\n",
       "      <th>Lon</th>\n",
       "    </tr>\n",
       "  </thead>\n",
       "  <tbody>\n",
       "    <tr>\n",
       "      <th>0</th>\n",
       "      <td>www.google.com</td>\n",
       "      <td>172.217.19.68</td>\n",
       "      <td>15169.0</td>\n",
       "      <td>GOOGLE - Google LLC</td>\n",
       "      <td>-122.0574</td>\n",
       "      <td>37.4192</td>\n",
       "    </tr>\n",
       "    <tr>\n",
       "      <th>1</th>\n",
       "      <td>www.youtube.com</td>\n",
       "      <td>172.217.22.78</td>\n",
       "      <td>15169.0</td>\n",
       "      <td>GOOGLE - Google LLC</td>\n",
       "      <td>-122.0574</td>\n",
       "      <td>37.4192</td>\n",
       "    </tr>\n",
       "    <tr>\n",
       "      <th>2</th>\n",
       "      <td>www.google.co.in</td>\n",
       "      <td>216.58.213.227</td>\n",
       "      <td>15169.0</td>\n",
       "      <td>GOOGLE - Google LLC</td>\n",
       "      <td>-122.0574</td>\n",
       "      <td>37.4192</td>\n",
       "    </tr>\n",
       "    <tr>\n",
       "      <th>3</th>\n",
       "      <td>www.blogspot.com</td>\n",
       "      <td>172.217.18.9</td>\n",
       "      <td>15169.0</td>\n",
       "      <td>GOOGLE - Google LLC</td>\n",
       "      <td>-122.0574</td>\n",
       "      <td>37.4192</td>\n",
       "    </tr>\n",
       "    <tr>\n",
       "      <th>4</th>\n",
       "      <td>www.google.co.jp</td>\n",
       "      <td>216.58.210.3</td>\n",
       "      <td>15169.0</td>\n",
       "      <td>GOOGLE - Google LLC</td>\n",
       "      <td>-122.0574</td>\n",
       "      <td>37.4192</td>\n",
       "    </tr>\n",
       "  </tbody>\n",
       "</table>\n",
       "</div>"
      ],
      "text/plain": [
       "                Url              Ip     ASNo               ASName        Lat  \\\n",
       "0    www.google.com   172.217.19.68  15169.0  GOOGLE - Google LLC  -122.0574   \n",
       "1   www.youtube.com   172.217.22.78  15169.0  GOOGLE - Google LLC  -122.0574   \n",
       "2  www.google.co.in  216.58.213.227  15169.0  GOOGLE - Google LLC  -122.0574   \n",
       "3  www.blogspot.com    172.217.18.9  15169.0  GOOGLE - Google LLC  -122.0574   \n",
       "4  www.google.co.jp    216.58.210.3  15169.0  GOOGLE - Google LLC  -122.0574   \n",
       "\n",
       "       Lon  \n",
       "0  37.4192  \n",
       "1  37.4192  \n",
       "2  37.4192  \n",
       "3  37.4192  \n",
       "4  37.4192  "
      ]
     },
     "execution_count": 14,
     "metadata": {},
     "output_type": "execute_result"
    }
   ],
   "source": [
    "asn.head()"
   ]
  },
  {
   "cell_type": "code",
   "execution_count": 15,
   "metadata": {},
   "outputs": [],
   "source": [
    "t = t.join(asn.set_index('Url'), on='Url', rsuffix='_right')"
   ]
  },
  {
   "cell_type": "code",
   "execution_count": 16,
   "metadata": {},
   "outputs": [],
   "source": [
    "t = t.drop('Ip_right', axis=1)"
   ]
  },
  {
   "cell_type": "code",
   "execution_count": 17,
   "metadata": {},
   "outputs": [
    {
     "data": {
      "text/plain": [
       "TimeOfMeasurement              591451\n",
       "Url                            591451\n",
       "Path                           591451\n",
       "Ip                             591451\n",
       "Port                           591451\n",
       "DNSTime                        591451\n",
       "ConnectionEstablishmentTime    591451\n",
       "TTFB                           591451\n",
       "TotalDownloadTime              591451\n",
       "HttpResponse                   591451\n",
       "Protocol                       591451\n",
       "ASNo                           461470\n",
       "ASName                         461470\n",
       "Lat                            461470\n",
       "Lon                            461470\n",
       "dtype: int64"
      ]
     },
     "execution_count": 17,
     "metadata": {},
     "output_type": "execute_result"
    }
   ],
   "source": [
    "t.count()"
   ]
  },
  {
   "cell_type": "code",
   "execution_count": 18,
   "metadata": {},
   "outputs": [
    {
     "data": {
      "text/html": [
       "<div>\n",
       "<style scoped>\n",
       "    .dataframe tbody tr th:only-of-type {\n",
       "        vertical-align: middle;\n",
       "    }\n",
       "\n",
       "    .dataframe tbody tr th {\n",
       "        vertical-align: top;\n",
       "    }\n",
       "\n",
       "    .dataframe thead th {\n",
       "        text-align: right;\n",
       "    }\n",
       "</style>\n",
       "<table border=\"1\" class=\"dataframe\">\n",
       "  <thead>\n",
       "    <tr style=\"text-align: right;\">\n",
       "      <th></th>\n",
       "      <th>TimeOfMeasurement</th>\n",
       "      <th>Url</th>\n",
       "      <th>Path</th>\n",
       "      <th>Ip</th>\n",
       "      <th>Port</th>\n",
       "      <th>DNSTime</th>\n",
       "      <th>ConnectionEstablishmentTime</th>\n",
       "      <th>TTFB</th>\n",
       "      <th>TotalDownloadTime</th>\n",
       "      <th>HttpResponse</th>\n",
       "      <th>Protocol</th>\n",
       "      <th>ASNo</th>\n",
       "      <th>ASName</th>\n",
       "      <th>Lat</th>\n",
       "      <th>Lon</th>\n",
       "    </tr>\n",
       "  </thead>\n",
       "  <tbody>\n",
       "    <tr>\n",
       "      <th>0</th>\n",
       "      <td>1.589652e+09</td>\n",
       "      <td>www.0dayrox2.blogspot.com</td>\n",
       "      <td>/</td>\n",
       "      <td>216.58.205.33</td>\n",
       "      <td>443</td>\n",
       "      <td>12.391</td>\n",
       "      <td>60.646</td>\n",
       "      <td>294.884</td>\n",
       "      <td>453.066</td>\n",
       "      <td>404.0</td>\n",
       "      <td>Q043</td>\n",
       "      <td>15169.0</td>\n",
       "      <td>GOOGLE - Google LLC</td>\n",
       "      <td>-122.0574</td>\n",
       "      <td>37.4192</td>\n",
       "    </tr>\n",
       "    <tr>\n",
       "      <th>1</th>\n",
       "      <td>1.589652e+09</td>\n",
       "      <td>www.0dayrox2.blogspot.com</td>\n",
       "      <td>/</td>\n",
       "      <td>216.58.205.33</td>\n",
       "      <td>443</td>\n",
       "      <td>0.908</td>\n",
       "      <td>74.243</td>\n",
       "      <td>355.084</td>\n",
       "      <td>448.920</td>\n",
       "      <td>404.0</td>\n",
       "      <td>Q046</td>\n",
       "      <td>15169.0</td>\n",
       "      <td>GOOGLE - Google LLC</td>\n",
       "      <td>-122.0574</td>\n",
       "      <td>37.4192</td>\n",
       "    </tr>\n",
       "    <tr>\n",
       "      <th>2</th>\n",
       "      <td>1.589652e+09</td>\n",
       "      <td>www.0dayrox2.blogspot.com</td>\n",
       "      <td>/</td>\n",
       "      <td>216.58.205.33</td>\n",
       "      <td>443</td>\n",
       "      <td>0.944</td>\n",
       "      <td>21.414</td>\n",
       "      <td>860.889</td>\n",
       "      <td>988.966</td>\n",
       "      <td>404.0</td>\n",
       "      <td>Q050</td>\n",
       "      <td>15169.0</td>\n",
       "      <td>GOOGLE - Google LLC</td>\n",
       "      <td>-122.0574</td>\n",
       "      <td>37.4192</td>\n",
       "    </tr>\n",
       "    <tr>\n",
       "      <th>8</th>\n",
       "      <td>1.589652e+09</td>\n",
       "      <td>www.0dayrox.blogspot.com</td>\n",
       "      <td>/</td>\n",
       "      <td>216.58.205.33</td>\n",
       "      <td>443</td>\n",
       "      <td>18.836</td>\n",
       "      <td>19.287</td>\n",
       "      <td>308.384</td>\n",
       "      <td>420.452</td>\n",
       "      <td>404.0</td>\n",
       "      <td>Q043</td>\n",
       "      <td>15169.0</td>\n",
       "      <td>GOOGLE - Google LLC</td>\n",
       "      <td>-122.0574</td>\n",
       "      <td>37.4192</td>\n",
       "    </tr>\n",
       "    <tr>\n",
       "      <th>9</th>\n",
       "      <td>1.589652e+09</td>\n",
       "      <td>www.0dayrox.blogspot.com</td>\n",
       "      <td>/</td>\n",
       "      <td>216.58.205.33</td>\n",
       "      <td>443</td>\n",
       "      <td>22.519</td>\n",
       "      <td>25.195</td>\n",
       "      <td>249.730</td>\n",
       "      <td>398.125</td>\n",
       "      <td>404.0</td>\n",
       "      <td>Q046</td>\n",
       "      <td>15169.0</td>\n",
       "      <td>GOOGLE - Google LLC</td>\n",
       "      <td>-122.0574</td>\n",
       "      <td>37.4192</td>\n",
       "    </tr>\n",
       "  </tbody>\n",
       "</table>\n",
       "</div>"
      ],
      "text/plain": [
       "   TimeOfMeasurement                        Url Path             Ip Port  \\\n",
       "0       1.589652e+09  www.0dayrox2.blogspot.com    /  216.58.205.33  443   \n",
       "1       1.589652e+09  www.0dayrox2.blogspot.com    /  216.58.205.33  443   \n",
       "2       1.589652e+09  www.0dayrox2.blogspot.com    /  216.58.205.33  443   \n",
       "8       1.589652e+09   www.0dayrox.blogspot.com    /  216.58.205.33  443   \n",
       "9       1.589652e+09   www.0dayrox.blogspot.com    /  216.58.205.33  443   \n",
       "\n",
       "   DNSTime  ConnectionEstablishmentTime     TTFB  TotalDownloadTime  \\\n",
       "0   12.391                       60.646  294.884            453.066   \n",
       "1    0.908                       74.243  355.084            448.920   \n",
       "2    0.944                       21.414  860.889            988.966   \n",
       "8   18.836                       19.287  308.384            420.452   \n",
       "9   22.519                       25.195  249.730            398.125   \n",
       "\n",
       "   HttpResponse Protocol     ASNo               ASName        Lat      Lon  \n",
       "0         404.0     Q043  15169.0  GOOGLE - Google LLC  -122.0574  37.4192  \n",
       "1         404.0     Q046  15169.0  GOOGLE - Google LLC  -122.0574  37.4192  \n",
       "2         404.0     Q050  15169.0  GOOGLE - Google LLC  -122.0574  37.4192  \n",
       "8         404.0     Q043  15169.0  GOOGLE - Google LLC  -122.0574  37.4192  \n",
       "9         404.0     Q046  15169.0  GOOGLE - Google LLC  -122.0574  37.4192  "
      ]
     },
     "execution_count": 18,
     "metadata": {},
     "output_type": "execute_result"
    }
   ],
   "source": [
    "t.head()"
   ]
  },
  {
   "cell_type": "code",
   "execution_count": 19,
   "metadata": {},
   "outputs": [],
   "source": [
    "def timestamp2human(timestamp):\n",
    "    return datetime.datetime.fromtimestamp(int(timestamp)).strftime('%c')"
   ]
  },
  {
   "cell_type": "code",
   "execution_count": 20,
   "metadata": {},
   "outputs": [],
   "source": [
    "#t['TimeOfMeasurement'] = t['TimeOfMeasurement'].apply(timestamp2human)"
   ]
  },
  {
   "cell_type": "code",
   "execution_count": 21,
   "metadata": {},
   "outputs": [
    {
     "data": {
      "text/html": [
       "<div>\n",
       "<style scoped>\n",
       "    .dataframe tbody tr th:only-of-type {\n",
       "        vertical-align: middle;\n",
       "    }\n",
       "\n",
       "    .dataframe tbody tr th {\n",
       "        vertical-align: top;\n",
       "    }\n",
       "\n",
       "    .dataframe thead th {\n",
       "        text-align: right;\n",
       "    }\n",
       "</style>\n",
       "<table border=\"1\" class=\"dataframe\">\n",
       "  <thead>\n",
       "    <tr style=\"text-align: right;\">\n",
       "      <th></th>\n",
       "      <th>TimeOfMeasurement</th>\n",
       "      <th>Url</th>\n",
       "      <th>Path</th>\n",
       "      <th>Ip</th>\n",
       "      <th>Port</th>\n",
       "      <th>DNSTime</th>\n",
       "      <th>ConnectionEstablishmentTime</th>\n",
       "      <th>TTFB</th>\n",
       "      <th>TotalDownloadTime</th>\n",
       "      <th>HttpResponse</th>\n",
       "      <th>Protocol</th>\n",
       "      <th>ASNo</th>\n",
       "      <th>ASName</th>\n",
       "      <th>Lat</th>\n",
       "      <th>Lon</th>\n",
       "    </tr>\n",
       "  </thead>\n",
       "  <tbody>\n",
       "    <tr>\n",
       "      <th>0</th>\n",
       "      <td>1.589652e+09</td>\n",
       "      <td>www.0dayrox2.blogspot.com</td>\n",
       "      <td>/</td>\n",
       "      <td>216.58.205.33</td>\n",
       "      <td>443</td>\n",
       "      <td>12.391</td>\n",
       "      <td>60.646</td>\n",
       "      <td>294.884</td>\n",
       "      <td>453.066</td>\n",
       "      <td>404.0</td>\n",
       "      <td>Q043</td>\n",
       "      <td>15169.0</td>\n",
       "      <td>GOOGLE - Google LLC</td>\n",
       "      <td>-122.0574</td>\n",
       "      <td>37.4192</td>\n",
       "    </tr>\n",
       "    <tr>\n",
       "      <th>1</th>\n",
       "      <td>1.589652e+09</td>\n",
       "      <td>www.0dayrox2.blogspot.com</td>\n",
       "      <td>/</td>\n",
       "      <td>216.58.205.33</td>\n",
       "      <td>443</td>\n",
       "      <td>0.908</td>\n",
       "      <td>74.243</td>\n",
       "      <td>355.084</td>\n",
       "      <td>448.920</td>\n",
       "      <td>404.0</td>\n",
       "      <td>Q046</td>\n",
       "      <td>15169.0</td>\n",
       "      <td>GOOGLE - Google LLC</td>\n",
       "      <td>-122.0574</td>\n",
       "      <td>37.4192</td>\n",
       "    </tr>\n",
       "    <tr>\n",
       "      <th>2</th>\n",
       "      <td>1.589652e+09</td>\n",
       "      <td>www.0dayrox2.blogspot.com</td>\n",
       "      <td>/</td>\n",
       "      <td>216.58.205.33</td>\n",
       "      <td>443</td>\n",
       "      <td>0.944</td>\n",
       "      <td>21.414</td>\n",
       "      <td>860.889</td>\n",
       "      <td>988.966</td>\n",
       "      <td>404.0</td>\n",
       "      <td>Q050</td>\n",
       "      <td>15169.0</td>\n",
       "      <td>GOOGLE - Google LLC</td>\n",
       "      <td>-122.0574</td>\n",
       "      <td>37.4192</td>\n",
       "    </tr>\n",
       "    <tr>\n",
       "      <th>8</th>\n",
       "      <td>1.589652e+09</td>\n",
       "      <td>www.0dayrox.blogspot.com</td>\n",
       "      <td>/</td>\n",
       "      <td>216.58.205.33</td>\n",
       "      <td>443</td>\n",
       "      <td>18.836</td>\n",
       "      <td>19.287</td>\n",
       "      <td>308.384</td>\n",
       "      <td>420.452</td>\n",
       "      <td>404.0</td>\n",
       "      <td>Q043</td>\n",
       "      <td>15169.0</td>\n",
       "      <td>GOOGLE - Google LLC</td>\n",
       "      <td>-122.0574</td>\n",
       "      <td>37.4192</td>\n",
       "    </tr>\n",
       "    <tr>\n",
       "      <th>9</th>\n",
       "      <td>1.589652e+09</td>\n",
       "      <td>www.0dayrox.blogspot.com</td>\n",
       "      <td>/</td>\n",
       "      <td>216.58.205.33</td>\n",
       "      <td>443</td>\n",
       "      <td>22.519</td>\n",
       "      <td>25.195</td>\n",
       "      <td>249.730</td>\n",
       "      <td>398.125</td>\n",
       "      <td>404.0</td>\n",
       "      <td>Q046</td>\n",
       "      <td>15169.0</td>\n",
       "      <td>GOOGLE - Google LLC</td>\n",
       "      <td>-122.0574</td>\n",
       "      <td>37.4192</td>\n",
       "    </tr>\n",
       "  </tbody>\n",
       "</table>\n",
       "</div>"
      ],
      "text/plain": [
       "   TimeOfMeasurement                        Url Path             Ip Port  \\\n",
       "0       1.589652e+09  www.0dayrox2.blogspot.com    /  216.58.205.33  443   \n",
       "1       1.589652e+09  www.0dayrox2.blogspot.com    /  216.58.205.33  443   \n",
       "2       1.589652e+09  www.0dayrox2.blogspot.com    /  216.58.205.33  443   \n",
       "8       1.589652e+09   www.0dayrox.blogspot.com    /  216.58.205.33  443   \n",
       "9       1.589652e+09   www.0dayrox.blogspot.com    /  216.58.205.33  443   \n",
       "\n",
       "   DNSTime  ConnectionEstablishmentTime     TTFB  TotalDownloadTime  \\\n",
       "0   12.391                       60.646  294.884            453.066   \n",
       "1    0.908                       74.243  355.084            448.920   \n",
       "2    0.944                       21.414  860.889            988.966   \n",
       "8   18.836                       19.287  308.384            420.452   \n",
       "9   22.519                       25.195  249.730            398.125   \n",
       "\n",
       "   HttpResponse Protocol     ASNo               ASName        Lat      Lon  \n",
       "0         404.0     Q043  15169.0  GOOGLE - Google LLC  -122.0574  37.4192  \n",
       "1         404.0     Q046  15169.0  GOOGLE - Google LLC  -122.0574  37.4192  \n",
       "2         404.0     Q050  15169.0  GOOGLE - Google LLC  -122.0574  37.4192  \n",
       "8         404.0     Q043  15169.0  GOOGLE - Google LLC  -122.0574  37.4192  \n",
       "9         404.0     Q046  15169.0  GOOGLE - Google LLC  -122.0574  37.4192  "
      ]
     },
     "execution_count": 21,
     "metadata": {},
     "output_type": "execute_result"
    }
   ],
   "source": [
    "t.head()"
   ]
  },
  {
   "cell_type": "code",
   "execution_count": 22,
   "metadata": {},
   "outputs": [
    {
     "data": {
      "text/html": [
       "<div>\n",
       "<style scoped>\n",
       "    .dataframe tbody tr th:only-of-type {\n",
       "        vertical-align: middle;\n",
       "    }\n",
       "\n",
       "    .dataframe tbody tr th {\n",
       "        vertical-align: top;\n",
       "    }\n",
       "\n",
       "    .dataframe thead th {\n",
       "        text-align: right;\n",
       "    }\n",
       "</style>\n",
       "<table border=\"1\" class=\"dataframe\">\n",
       "  <thead>\n",
       "    <tr style=\"text-align: right;\">\n",
       "      <th></th>\n",
       "      <th>TimeOfMeasurement</th>\n",
       "      <th>Url</th>\n",
       "      <th>Path</th>\n",
       "      <th>Ip</th>\n",
       "      <th>Port</th>\n",
       "      <th>DNSTime</th>\n",
       "      <th>ConnectionEstablishmentTime</th>\n",
       "      <th>TTFB</th>\n",
       "      <th>TotalDownloadTime</th>\n",
       "      <th>HttpResponse</th>\n",
       "      <th>Protocol</th>\n",
       "      <th>ASNo</th>\n",
       "      <th>ASName</th>\n",
       "      <th>Lat</th>\n",
       "      <th>Lon</th>\n",
       "    </tr>\n",
       "  </thead>\n",
       "  <tbody>\n",
       "    <tr>\n",
       "      <th>1680994</th>\n",
       "      <td>1.589986e+09</td>\n",
       "      <td>www.sivergameoficial.blogspot.com</td>\n",
       "      <td>/</td>\n",
       "      <td>172.217.169.1</td>\n",
       "      <td>443</td>\n",
       "      <td>40.044</td>\n",
       "      <td>80.554</td>\n",
       "      <td>860.409</td>\n",
       "      <td>860.481</td>\n",
       "      <td>301.0</td>\n",
       "      <td>Q050</td>\n",
       "      <td>15169.0</td>\n",
       "      <td>GOOGLE - Google LLC</td>\n",
       "      <td>-122.0574</td>\n",
       "      <td>37.4192</td>\n",
       "    </tr>\n",
       "    <tr>\n",
       "      <th>1680996</th>\n",
       "      <td>1.589986e+09</td>\n",
       "      <td>www.ngeegame.blogspot.com</td>\n",
       "      <td>/</td>\n",
       "      <td>172.217.169.1</td>\n",
       "      <td>443</td>\n",
       "      <td>78.479</td>\n",
       "      <td>126.002</td>\n",
       "      <td>864.780</td>\n",
       "      <td>864.867</td>\n",
       "      <td>301.0</td>\n",
       "      <td>Q043</td>\n",
       "      <td>15169.0</td>\n",
       "      <td>GOOGLE - Google LLC</td>\n",
       "      <td>-122.0574</td>\n",
       "      <td>37.4192</td>\n",
       "    </tr>\n",
       "    <tr>\n",
       "      <th>1680997</th>\n",
       "      <td>1.589986e+09</td>\n",
       "      <td>www.ngeegame.blogspot.com</td>\n",
       "      <td>/</td>\n",
       "      <td>172.217.169.1</td>\n",
       "      <td>443</td>\n",
       "      <td>41.667</td>\n",
       "      <td>79.404</td>\n",
       "      <td>243.788</td>\n",
       "      <td>243.866</td>\n",
       "      <td>301.0</td>\n",
       "      <td>Q046</td>\n",
       "      <td>15169.0</td>\n",
       "      <td>GOOGLE - Google LLC</td>\n",
       "      <td>-122.0574</td>\n",
       "      <td>37.4192</td>\n",
       "    </tr>\n",
       "    <tr>\n",
       "      <th>1680999</th>\n",
       "      <td>1.589986e+09</td>\n",
       "      <td>www.kumutushka.blogspot.com</td>\n",
       "      <td>/</td>\n",
       "      <td>172.217.169.1</td>\n",
       "      <td>443</td>\n",
       "      <td>82.059</td>\n",
       "      <td>121.421</td>\n",
       "      <td>891.318</td>\n",
       "      <td>891.388</td>\n",
       "      <td>301.0</td>\n",
       "      <td>Q046</td>\n",
       "      <td>15169.0</td>\n",
       "      <td>GOOGLE - Google LLC</td>\n",
       "      <td>-122.0574</td>\n",
       "      <td>37.4192</td>\n",
       "    </tr>\n",
       "    <tr>\n",
       "      <th>1681000</th>\n",
       "      <td>1.589987e+09</td>\n",
       "      <td>www.arguscarhire.com</td>\n",
       "      <td>/</td>\n",
       "      <td>93.184.220.191</td>\n",
       "      <td>443</td>\n",
       "      <td>410.245</td>\n",
       "      <td>120.637</td>\n",
       "      <td>201.588</td>\n",
       "      <td>409.898</td>\n",
       "      <td>200.0</td>\n",
       "      <td>Q043</td>\n",
       "      <td>15133.0</td>\n",
       "      <td>EDGECAST - MCI Communications Services</td>\n",
       "      <td>8.0</td>\n",
       "      <td>47.0000</td>\n",
       "    </tr>\n",
       "  </tbody>\n",
       "</table>\n",
       "</div>"
      ],
      "text/plain": [
       "         TimeOfMeasurement                                Url Path  \\\n",
       "1680994       1.589986e+09  www.sivergameoficial.blogspot.com    /   \n",
       "1680996       1.589986e+09          www.ngeegame.blogspot.com    /   \n",
       "1680997       1.589986e+09          www.ngeegame.blogspot.com    /   \n",
       "1680999       1.589986e+09        www.kumutushka.blogspot.com    /   \n",
       "1681000       1.589987e+09               www.arguscarhire.com    /   \n",
       "\n",
       "                     Ip Port  DNSTime  ConnectionEstablishmentTime     TTFB  \\\n",
       "1680994   172.217.169.1  443   40.044                       80.554  860.409   \n",
       "1680996   172.217.169.1  443   78.479                      126.002  864.780   \n",
       "1680997   172.217.169.1  443   41.667                       79.404  243.788   \n",
       "1680999   172.217.169.1  443   82.059                      121.421  891.318   \n",
       "1681000  93.184.220.191  443  410.245                      120.637  201.588   \n",
       "\n",
       "         TotalDownloadTime  HttpResponse Protocol     ASNo  \\\n",
       "1680994            860.481         301.0     Q050  15169.0   \n",
       "1680996            864.867         301.0     Q043  15169.0   \n",
       "1680997            243.866         301.0     Q046  15169.0   \n",
       "1680999            891.388         301.0     Q046  15169.0   \n",
       "1681000            409.898         200.0     Q043  15133.0   \n",
       "\n",
       "                                         ASName        Lat      Lon  \n",
       "1680994                     GOOGLE - Google LLC  -122.0574  37.4192  \n",
       "1680996                     GOOGLE - Google LLC  -122.0574  37.4192  \n",
       "1680997                     GOOGLE - Google LLC  -122.0574  37.4192  \n",
       "1680999                     GOOGLE - Google LLC  -122.0574  37.4192  \n",
       "1681000  EDGECAST - MCI Communications Services        8.0  47.0000  "
      ]
     },
     "execution_count": 22,
     "metadata": {},
     "output_type": "execute_result"
    }
   ],
   "source": [
    "t.tail()"
   ]
  },
  {
   "cell_type": "code",
   "execution_count": 23,
   "metadata": {},
   "outputs": [],
   "source": [
    "def filter_by_ip(df, column):\n",
    "  \"\"\"reads a DataFrame, calls fbi.filter_v{4,6} to get DataFrames with rows\n",
    "     containing only v4, v6 endpoints. Returns the two DataFrame as a tuple\"\"\"\n",
    "\n",
    "  dfv6 = fbi.filter_v6(df, column)\n",
    "  dfv4 = fbi.filter_v4(df, column)\n",
    "  return dfv4, dfv6"
   ]
  },
  {
   "cell_type": "code",
   "execution_count": 24,
   "metadata": {},
   "outputs": [],
   "source": [
    "#quic4, quic6 = filter_by_ip(t, column = 'Ip')\n",
    "quic4 = t[t['Ip'].str.contains(\"\\.\")]\n",
    "quic6 = t[t['Ip'].str.contains(\"\\:\")]"
   ]
  },
  {
   "cell_type": "code",
   "execution_count": 25,
   "metadata": {},
   "outputs": [],
   "source": [
    "quic4 = quic4[quic4['HttpResponse'] == 200.0]\n",
    "quic6 = quic6[quic6['HttpResponse'] == 200.0]"
   ]
  },
  {
   "cell_type": "code",
   "execution_count": 26,
   "metadata": {},
   "outputs": [
    {
     "data": {
      "text/plain": [
       "TimeOfMeasurement              132001\n",
       "Url                            132001\n",
       "Path                           132001\n",
       "Ip                             132001\n",
       "Port                           132001\n",
       "DNSTime                        132001\n",
       "ConnectionEstablishmentTime    132001\n",
       "TTFB                           132001\n",
       "TotalDownloadTime              132001\n",
       "HttpResponse                   132001\n",
       "Protocol                       132001\n",
       "ASNo                            85358\n",
       "ASName                          85358\n",
       "Lat                             85358\n",
       "Lon                             85358\n",
       "dtype: int64"
      ]
     },
     "execution_count": 26,
     "metadata": {},
     "output_type": "execute_result"
    }
   ],
   "source": [
    "quic4.count()"
   ]
  },
  {
   "cell_type": "code",
   "execution_count": 27,
   "metadata": {},
   "outputs": [
    {
     "data": {
      "text/html": [
       "<div>\n",
       "<style scoped>\n",
       "    .dataframe tbody tr th:only-of-type {\n",
       "        vertical-align: middle;\n",
       "    }\n",
       "\n",
       "    .dataframe tbody tr th {\n",
       "        vertical-align: top;\n",
       "    }\n",
       "\n",
       "    .dataframe thead th {\n",
       "        text-align: right;\n",
       "    }\n",
       "</style>\n",
       "<table border=\"1\" class=\"dataframe\">\n",
       "  <thead>\n",
       "    <tr style=\"text-align: right;\">\n",
       "      <th></th>\n",
       "      <th>TimeOfMeasurement</th>\n",
       "      <th>Url</th>\n",
       "      <th>Path</th>\n",
       "      <th>Ip</th>\n",
       "      <th>Port</th>\n",
       "      <th>DNSTime</th>\n",
       "      <th>ConnectionEstablishmentTime</th>\n",
       "      <th>TTFB</th>\n",
       "      <th>TotalDownloadTime</th>\n",
       "      <th>HttpResponse</th>\n",
       "      <th>Protocol</th>\n",
       "      <th>ASNo</th>\n",
       "      <th>ASName</th>\n",
       "      <th>Lat</th>\n",
       "      <th>Lon</th>\n",
       "    </tr>\n",
       "  </thead>\n",
       "  <tbody>\n",
       "    <tr>\n",
       "      <th>24</th>\n",
       "      <td>1.589652e+09</td>\n",
       "      <td>www.100negocios.com</td>\n",
       "      <td>/</td>\n",
       "      <td>66.198.240.11</td>\n",
       "      <td>443</td>\n",
       "      <td>284.825</td>\n",
       "      <td>180.878</td>\n",
       "      <td>755.496</td>\n",
       "      <td>964.221</td>\n",
       "      <td>200.0</td>\n",
       "      <td>Q043</td>\n",
       "      <td>NaN</td>\n",
       "      <td>NaN</td>\n",
       "      <td>NaN</td>\n",
       "      <td>NaN</td>\n",
       "    </tr>\n",
       "    <tr>\n",
       "      <th>25</th>\n",
       "      <td>1.589652e+09</td>\n",
       "      <td>www.100negocios.com</td>\n",
       "      <td>/</td>\n",
       "      <td>66.198.240.11</td>\n",
       "      <td>443</td>\n",
       "      <td>0.803</td>\n",
       "      <td>178.837</td>\n",
       "      <td>791.951</td>\n",
       "      <td>12.283</td>\n",
       "      <td>200.0</td>\n",
       "      <td>Q046</td>\n",
       "      <td>NaN</td>\n",
       "      <td>NaN</td>\n",
       "      <td>NaN</td>\n",
       "      <td>NaN</td>\n",
       "    </tr>\n",
       "    <tr>\n",
       "      <th>26</th>\n",
       "      <td>1.589652e+09</td>\n",
       "      <td>www.100negocios.com</td>\n",
       "      <td>/</td>\n",
       "      <td>66.198.240.11</td>\n",
       "      <td>443</td>\n",
       "      <td>3.324</td>\n",
       "      <td>181.487</td>\n",
       "      <td>759.422</td>\n",
       "      <td>980.456</td>\n",
       "      <td>200.0</td>\n",
       "      <td>Q050</td>\n",
       "      <td>NaN</td>\n",
       "      <td>NaN</td>\n",
       "      <td>NaN</td>\n",
       "      <td>NaN</td>\n",
       "    </tr>\n",
       "    <tr>\n",
       "      <th>120</th>\n",
       "      <td>1.589652e+09</td>\n",
       "      <td>www.1-link.org</td>\n",
       "      <td>/</td>\n",
       "      <td>78.142.29.4</td>\n",
       "      <td>443</td>\n",
       "      <td>143.923</td>\n",
       "      <td>124.283</td>\n",
       "      <td>116.427</td>\n",
       "      <td>119.377</td>\n",
       "      <td>200.0</td>\n",
       "      <td>Q043</td>\n",
       "      <td>206349.0</td>\n",
       "      <td>BLUEANGELHOST - BlueAngelHost Pvt. Ltd</td>\n",
       "      <td>23.3333</td>\n",
       "      <td>42.7</td>\n",
       "    </tr>\n",
       "    <tr>\n",
       "      <th>121</th>\n",
       "      <td>1.589652e+09</td>\n",
       "      <td>www.1-link.org</td>\n",
       "      <td>/</td>\n",
       "      <td>78.142.29.4</td>\n",
       "      <td>443</td>\n",
       "      <td>0.742</td>\n",
       "      <td>139.123</td>\n",
       "      <td>335.342</td>\n",
       "      <td>338.804</td>\n",
       "      <td>200.0</td>\n",
       "      <td>Q046</td>\n",
       "      <td>206349.0</td>\n",
       "      <td>BLUEANGELHOST - BlueAngelHost Pvt. Ltd</td>\n",
       "      <td>23.3333</td>\n",
       "      <td>42.7</td>\n",
       "    </tr>\n",
       "  </tbody>\n",
       "</table>\n",
       "</div>"
      ],
      "text/plain": [
       "     TimeOfMeasurement                  Url Path             Ip Port  DNSTime  \\\n",
       "24        1.589652e+09  www.100negocios.com    /  66.198.240.11  443  284.825   \n",
       "25        1.589652e+09  www.100negocios.com    /  66.198.240.11  443    0.803   \n",
       "26        1.589652e+09  www.100negocios.com    /  66.198.240.11  443    3.324   \n",
       "120       1.589652e+09       www.1-link.org    /    78.142.29.4  443  143.923   \n",
       "121       1.589652e+09       www.1-link.org    /    78.142.29.4  443    0.742   \n",
       "\n",
       "     ConnectionEstablishmentTime     TTFB  TotalDownloadTime  HttpResponse  \\\n",
       "24                       180.878  755.496            964.221         200.0   \n",
       "25                       178.837  791.951             12.283         200.0   \n",
       "26                       181.487  759.422            980.456         200.0   \n",
       "120                      124.283  116.427            119.377         200.0   \n",
       "121                      139.123  335.342            338.804         200.0   \n",
       "\n",
       "    Protocol      ASNo                                  ASName      Lat   Lon  \n",
       "24      Q043       NaN                                     NaN      NaN   NaN  \n",
       "25      Q046       NaN                                     NaN      NaN   NaN  \n",
       "26      Q050       NaN                                     NaN      NaN   NaN  \n",
       "120     Q043  206349.0  BLUEANGELHOST - BlueAngelHost Pvt. Ltd  23.3333  42.7  \n",
       "121     Q046  206349.0  BLUEANGELHOST - BlueAngelHost Pvt. Ltd  23.3333  42.7  "
      ]
     },
     "execution_count": 27,
     "metadata": {},
     "output_type": "execute_result"
    }
   ],
   "source": [
    "quic4.head()"
   ]
  },
  {
   "cell_type": "code",
   "execution_count": 28,
   "metadata": {},
   "outputs": [
    {
     "data": {
      "text/plain": [
       "TimeOfMeasurement              0\n",
       "Url                            0\n",
       "Path                           0\n",
       "Ip                             0\n",
       "Port                           0\n",
       "DNSTime                        0\n",
       "ConnectionEstablishmentTime    0\n",
       "TTFB                           0\n",
       "TotalDownloadTime              0\n",
       "HttpResponse                   0\n",
       "Protocol                       0\n",
       "ASNo                           0\n",
       "ASName                         0\n",
       "Lat                            0\n",
       "Lon                            0\n",
       "dtype: int64"
      ]
     },
     "execution_count": 28,
     "metadata": {},
     "output_type": "execute_result"
    }
   ],
   "source": [
    "quic6.count()"
   ]
  },
  {
   "cell_type": "code",
   "execution_count": 29,
   "metadata": {
    "lines_to_next_cell": 2
   },
   "outputs": [
    {
     "data": {
      "text/html": [
       "<div>\n",
       "<style scoped>\n",
       "    .dataframe tbody tr th:only-of-type {\n",
       "        vertical-align: middle;\n",
       "    }\n",
       "\n",
       "    .dataframe tbody tr th {\n",
       "        vertical-align: top;\n",
       "    }\n",
       "\n",
       "    .dataframe thead th {\n",
       "        text-align: right;\n",
       "    }\n",
       "</style>\n",
       "<table border=\"1\" class=\"dataframe\">\n",
       "  <thead>\n",
       "    <tr style=\"text-align: right;\">\n",
       "      <th></th>\n",
       "      <th>TimeOfMeasurement</th>\n",
       "      <th>Url</th>\n",
       "      <th>Path</th>\n",
       "      <th>Ip</th>\n",
       "      <th>Port</th>\n",
       "      <th>DNSTime</th>\n",
       "      <th>ConnectionEstablishmentTime</th>\n",
       "      <th>TTFB</th>\n",
       "      <th>TotalDownloadTime</th>\n",
       "      <th>HttpResponse</th>\n",
       "      <th>Protocol</th>\n",
       "      <th>ASNo</th>\n",
       "      <th>ASName</th>\n",
       "      <th>Lat</th>\n",
       "      <th>Lon</th>\n",
       "    </tr>\n",
       "  </thead>\n",
       "  <tbody>\n",
       "  </tbody>\n",
       "</table>\n",
       "</div>"
      ],
      "text/plain": [
       "Empty DataFrame\n",
       "Columns: [TimeOfMeasurement, Url, Path, Ip, Port, DNSTime, ConnectionEstablishmentTime, TTFB, TotalDownloadTime, HttpResponse, Protocol, ASNo, ASName, Lat, Lon]\n",
       "Index: []"
      ]
     },
     "execution_count": 29,
     "metadata": {},
     "output_type": "execute_result"
    }
   ],
   "source": [
    "quic6.head()"
   ]
  },
  {
   "cell_type": "code",
   "execution_count": 30,
   "metadata": {},
   "outputs": [
    {
     "data": {
      "text/plain": [
       "ASNo      ASName                                   \n",
       "15169.0   GOOGLE - Google LLC                          362430\n",
       "15133.0   EDGECAST - MCI Communications Services        44679\n",
       "35415.0   WEBZILLA - Webzilla B.V.                       4191\n",
       "55293.0   A2HOSTING - A2 Hosting                         4039\n",
       "203226.0  IHCRU - Internet-Hosting Ltd                   3690\n",
       "                                                        ...  \n",
       "63408.0   SHOPIFYASN2 - Shopify                            46\n",
       "55720.0   GIGABIT-MY Gigabit Hosting Sdn Bhd               46\n",
       "43754.0   ASIATECH - Asiatech Data Transfer Inc PLC        41\n",
       "20473.0   AS-CHOOPA - Choopa                               24\n",
       "47748.0   DATICUM - Daticum JSC                            21\n",
       "Length: 85, dtype: int64"
      ]
     },
     "execution_count": 30,
     "metadata": {},
     "output_type": "execute_result"
    }
   ],
   "source": [
    "t.groupby(['ASNo', 'ASName']).size().sort_values(ascending=False)"
   ]
  },
  {
   "cell_type": "code",
   "execution_count": 31,
   "metadata": {},
   "outputs": [
    {
     "data": {
      "text/plain": [
       "ASNo      ASName                                   \n",
       "15169.0   GOOGLE - Google LLC                          362430\n",
       "15133.0   EDGECAST - MCI Communications Services        44679\n",
       "35415.0   WEBZILLA - Webzilla B.V.                       4191\n",
       "55293.0   A2HOSTING - A2 Hosting                         4039\n",
       "203226.0  IHCRU - Internet-Hosting Ltd                   3690\n",
       "                                                        ...  \n",
       "63408.0   SHOPIFYASN2 - Shopify                            46\n",
       "55720.0   GIGABIT-MY Gigabit Hosting Sdn Bhd               46\n",
       "43754.0   ASIATECH - Asiatech Data Transfer Inc PLC        41\n",
       "20473.0   AS-CHOOPA - Choopa                               24\n",
       "47748.0   DATICUM - Daticum JSC                            21\n",
       "Length: 85, dtype: int64"
      ]
     },
     "execution_count": 31,
     "metadata": {},
     "output_type": "execute_result"
    }
   ],
   "source": [
    "t.groupby(['ASNo', 'ASName']).size().sort_values(ascending=False)"
   ]
  },
  {
   "cell_type": "code",
   "execution_count": 32,
   "metadata": {},
   "outputs": [],
   "source": [
    "quic15169 = quic4.loc[t['ASNo'] == 15169]\n",
    "quic15133 = quic4.loc[t['ASNo'] == 15133]\n",
    "quic55293= quic4.loc[t['ASNo'] == 55293]\n",
    "quic35415 = quic4.loc[t['ASNo'] == 35415]\n",
    "quic203226 = quic4.loc[t['ASNo'] == 203226]"
   ]
  },
  {
   "cell_type": "code",
   "execution_count": 33,
   "metadata": {},
   "outputs": [
    {
     "data": {
      "text/plain": [
       "TimeOfMeasurement              34289\n",
       "Url                            34289\n",
       "Path                           34289\n",
       "Ip                             34289\n",
       "Port                           34289\n",
       "DNSTime                        34289\n",
       "ConnectionEstablishmentTime    34289\n",
       "TTFB                           34289\n",
       "TotalDownloadTime              34289\n",
       "HttpResponse                   34289\n",
       "Protocol                       34289\n",
       "ASNo                           34289\n",
       "ASName                         34289\n",
       "Lat                            34289\n",
       "Lon                            34289\n",
       "dtype: int64"
      ]
     },
     "execution_count": 33,
     "metadata": {},
     "output_type": "execute_result"
    }
   ],
   "source": [
    "quic15169.count()"
   ]
  },
  {
   "cell_type": "code",
   "execution_count": 34,
   "metadata": {},
   "outputs": [
    {
     "data": {
      "text/plain": [
       "TimeOfMeasurement              26540\n",
       "Url                            26540\n",
       "Path                           26540\n",
       "Ip                             26540\n",
       "Port                           26540\n",
       "DNSTime                        26540\n",
       "ConnectionEstablishmentTime    26540\n",
       "TTFB                           26540\n",
       "TotalDownloadTime              26540\n",
       "HttpResponse                   26540\n",
       "Protocol                       26540\n",
       "ASNo                           26540\n",
       "ASName                         26540\n",
       "Lat                            26540\n",
       "Lon                            26540\n",
       "dtype: int64"
      ]
     },
     "execution_count": 34,
     "metadata": {},
     "output_type": "execute_result"
    }
   ],
   "source": [
    "quic15133.count()"
   ]
  },
  {
   "cell_type": "code",
   "execution_count": 35,
   "metadata": {},
   "outputs": [
    {
     "data": {
      "text/plain": [
       "TimeOfMeasurement              26540\n",
       "Url                            26540\n",
       "Path                           26540\n",
       "Ip                             26540\n",
       "Port                           26540\n",
       "DNSTime                        26540\n",
       "ConnectionEstablishmentTime    26540\n",
       "TTFB                           26540\n",
       "TotalDownloadTime              26540\n",
       "HttpResponse                   26540\n",
       "Protocol                       26540\n",
       "ASNo                           26540\n",
       "ASName                         26540\n",
       "Lat                            26540\n",
       "Lon                            26540\n",
       "dtype: int64"
      ]
     },
     "execution_count": 35,
     "metadata": {},
     "output_type": "execute_result"
    }
   ],
   "source": [
    "quic15133.count()"
   ]
  },
  {
   "cell_type": "code",
   "execution_count": 36,
   "metadata": {},
   "outputs": [
    {
     "data": {
      "text/plain": [
       "TimeOfMeasurement              2293\n",
       "Url                            2293\n",
       "Path                           2293\n",
       "Ip                             2293\n",
       "Port                           2293\n",
       "DNSTime                        2293\n",
       "ConnectionEstablishmentTime    2293\n",
       "TTFB                           2293\n",
       "TotalDownloadTime              2293\n",
       "HttpResponse                   2293\n",
       "Protocol                       2293\n",
       "ASNo                           2293\n",
       "ASName                         2293\n",
       "Lat                            2293\n",
       "Lon                            2293\n",
       "dtype: int64"
      ]
     },
     "execution_count": 36,
     "metadata": {},
     "output_type": "execute_result"
    }
   ],
   "source": [
    "quic55293.count()"
   ]
  },
  {
   "cell_type": "code",
   "execution_count": 37,
   "metadata": {},
   "outputs": [
    {
     "data": {
      "text/plain": [
       "TimeOfMeasurement              834\n",
       "Url                            834\n",
       "Path                           834\n",
       "Ip                             834\n",
       "Port                           834\n",
       "DNSTime                        834\n",
       "ConnectionEstablishmentTime    834\n",
       "TTFB                           834\n",
       "TotalDownloadTime              834\n",
       "HttpResponse                   834\n",
       "Protocol                       834\n",
       "ASNo                           834\n",
       "ASName                         834\n",
       "Lat                            834\n",
       "Lon                            834\n",
       "dtype: int64"
      ]
     },
     "execution_count": 37,
     "metadata": {},
     "output_type": "execute_result"
    }
   ],
   "source": [
    "quic35415.count()"
   ]
  },
  {
   "cell_type": "code",
   "execution_count": 38,
   "metadata": {},
   "outputs": [],
   "source": [
    "quic15169_6 = quic6.loc[t['ASNo'] == 15169]\n",
    "quic15133_6 = quic6.loc[t['ASNo'] == 15133]\n",
    "quic55293_6 = quic6.loc[t['ASNo'] == 55293]\n",
    "quic35415_6 = quic6.loc[t['ASNo'] == 35415]\n",
    "quic203226_6 = quic6.loc[t['ASNo'] == 203226]"
   ]
  },
  {
   "cell_type": "code",
   "execution_count": 39,
   "metadata": {},
   "outputs": [
    {
     "data": {
      "text/plain": [
       "TimeOfMeasurement              0\n",
       "Url                            0\n",
       "Path                           0\n",
       "Ip                             0\n",
       "Port                           0\n",
       "DNSTime                        0\n",
       "ConnectionEstablishmentTime    0\n",
       "TTFB                           0\n",
       "TotalDownloadTime              0\n",
       "HttpResponse                   0\n",
       "Protocol                       0\n",
       "ASNo                           0\n",
       "ASName                         0\n",
       "Lat                            0\n",
       "Lon                            0\n",
       "dtype: int64"
      ]
     },
     "execution_count": 39,
     "metadata": {},
     "output_type": "execute_result"
    }
   ],
   "source": [
    "quic15169_6.count()"
   ]
  },
  {
   "cell_type": "code",
   "execution_count": 40,
   "metadata": {},
   "outputs": [
    {
     "data": {
      "text/plain": [
       "TimeOfMeasurement              26540\n",
       "Url                            26540\n",
       "Path                           26540\n",
       "Ip                             26540\n",
       "Port                           26540\n",
       "DNSTime                        26540\n",
       "ConnectionEstablishmentTime    26540\n",
       "TTFB                           26540\n",
       "TotalDownloadTime              26540\n",
       "HttpResponse                   26540\n",
       "Protocol                       26540\n",
       "ASNo                           26540\n",
       "ASName                         26540\n",
       "Lat                            26540\n",
       "Lon                            26540\n",
       "dtype: int64"
      ]
     },
     "execution_count": 40,
     "metadata": {},
     "output_type": "execute_result"
    }
   ],
   "source": [
    "quic15133.count()"
   ]
  },
  {
   "cell_type": "code",
   "execution_count": 41,
   "metadata": {},
   "outputs": [],
   "source": [
    "x = Cdf.MakeCdfFromList(quic15169['ConnectionEstablishmentTime'].values)\n",
    "x1 =Cdf.MakeCdfFromList(quic15133['ConnectionEstablishmentTime'].values)\n",
    "x3 = Cdf.MakeCdfFromList(quic55293['ConnectionEstablishmentTime'].values)\n",
    "x4 = Cdf.MakeCdfFromList(quic35415['ConnectionEstablishmentTime'].values)\n",
    "x5 = Cdf.MakeCdfFromList(quic203226['ConnectionEstablishmentTime'].values)"
   ]
  },
  {
   "cell_type": "code",
   "execution_count": 42,
   "metadata": {},
   "outputs": [
    {
     "name": "stdout",
     "output_type": "stream",
     "text": [
      "-----------------------------\n",
      "\n",
      "percentile values distribution for quic15133\n",
      "\n",
      "50th Percentile:43.501000\n",
      "\n",
      "90th Percentile:269.016000\n",
      "\n",
      "99th Percentile:903.117000\n",
      "\n",
      "25th Percentile:40.429000\n",
      "\n",
      "75th Percentile:80.390000\n",
      "\n",
      "20th Percentile:43.501000\n",
      "\n",
      "40th Percentile:269.016000\n",
      "\n",
      "60th Percentile:903.117000\n",
      "\n",
      "80th Percentile:40.429000\n",
      "\n",
      "-----------------------------\n",
      "\n",
      "-----------------------------\n",
      "\n",
      "percentile values distribution for quic55293\n",
      "\n",
      "50th Percentile:244.467000\n",
      "\n",
      "90th Percentile:324.208000\n",
      "\n",
      "99th Percentile:677.527000\n",
      "\n",
      "25th Percentile:240.754000\n",
      "\n",
      "75th Percentile:247.199000\n",
      "\n",
      "20th Percentile:244.467000\n",
      "\n",
      "40th Percentile:324.208000\n",
      "\n",
      "60th Percentile:677.527000\n",
      "\n",
      "80th Percentile:240.754000\n",
      "\n",
      "-----------------------------\n",
      "\n",
      "-----------------------------\n",
      "\n",
      "percentile values distribution for quic35415\n",
      "\n",
      "50th Percentile:80.707000\n",
      "\n",
      "90th Percentile:85.168000\n",
      "\n",
      "99th Percentile:611.199000\n",
      "\n",
      "25th Percentile:78.542000\n",
      "\n",
      "75th Percentile:81.918000\n",
      "\n",
      "20th Percentile:80.707000\n",
      "\n",
      "40th Percentile:85.168000\n",
      "\n",
      "60th Percentile:611.199000\n",
      "\n",
      "80th Percentile:78.542000\n",
      "\n",
      "-----------------------------\n",
      "\n",
      "-----------------------------\n",
      "\n",
      "percentile values distribution for quic203226\n",
      "\n",
      "50th Percentile:161.937000\n",
      "\n",
      "90th Percentile:166.257000\n",
      "\n",
      "99th Percentile:717.959000\n",
      "\n",
      "25th Percentile:159.920000\n",
      "\n",
      "75th Percentile:165.077000\n",
      "\n",
      "20th Percentile:161.937000\n",
      "\n",
      "40th Percentile:166.257000\n",
      "\n",
      "60th Percentile:717.959000\n",
      "\n",
      "80th Percentile:159.920000\n",
      "\n",
      "-----------------------------\n",
      "\n",
      "-----------------------------\n",
      "\n",
      "percentile values distribution for quic15169\n",
      "\n",
      "50th Percentile:80.375000\n",
      "\n",
      "90th Percentile:101.330000\n",
      "\n",
      "99th Percentile:800.244000\n",
      "\n",
      "25th Percentile:77.868000\n",
      "\n",
      "75th Percentile:81.790000\n",
      "\n",
      "20th Percentile:80.375000\n",
      "\n",
      "40th Percentile:101.330000\n",
      "\n",
      "60th Percentile:800.244000\n",
      "\n",
      "80th Percentile:77.868000\n",
      "\n",
      "-----------------------------\n",
      "\n"
     ]
    }
   ],
   "source": [
    "print_percentiles(x1, 'quic15133')\n",
    "print_percentiles(x3, 'quic55293')\n",
    "print_percentiles(x4, 'quic35415')\n",
    "print_percentiles(x5, 'quic203226')\n",
    "print_percentiles(x, 'quic15169')"
   ]
  },
  {
   "cell_type": "code",
   "execution_count": 43,
   "metadata": {},
   "outputs": [
    {
     "name": "stderr",
     "output_type": "stream",
     "text": [
      "findfont: Font family ['monospace'] not found. Falling back to DejaVu Sans.\n",
      "findfont: Font family ['monospace'] not found. Falling back to DejaVu Sans.\n",
      "findfont: Font family ['monospace'] not found. Falling back to DejaVu Sans.\n",
      "findfont: Font family ['monospace'] not found. Falling back to DejaVu Sans.\n",
      "findfont: Font family ['monospace'] not found. Falling back to DejaVu Sans.\n",
      "findfont: Font family ['monospace'] not found. Falling back to DejaVu Sans.\n"
     ]
    },
    {
     "data": {
      "image/png": "[encoded data removed]",
      "text/plain": [
       "<Figure size 900x600 with 1 Axes>"
      ]
     },
     "metadata": {
      "needs_background": "light"
     },
     "output_type": "display_data"
    }
   ],
   "source": [
    "data = {'$\\\\bf{ASN}$': ['GOOGLE', 'EDGECAST', 'A2HOSTING', 'WEBZILLA', 'IHCRU'],\n",
    "\t'$\\\\bf{25th}$': [\"{:.2f}\".format(x.Percentile(25)), \"{:.2f}\".format(x1.Percentile(25)), \"{:.2f}\".format(x3.Percentile(25)), \"{:.2f}\".format(x4.Percentile(25)), \"{:.2f}\".format(x5.Percentile(25))],\n",
    "\t'$\\\\bf{50th}$': [\"{:.2f}\".format(x.Percentile(50)), \"{:.2f}\".format(x1.Percentile(50)), \"{:.2f}\".format(x3.Percentile(50)), \"{:.2f}\".format(x4.Percentile(50)), \"{:.2f}\".format(x5.Percentile(50))],\n",
    "\t'$\\\\bf{75th}$': [\"{:.2f}\".format(x.Percentile(75)), \"{:.2f}\".format(x1.Percentile(75)), \"{:.2f}\".format(x3.Percentile(75)), \"{:.2f}\".format(x4.Percentile(75)), \"{:.2f}\".format(x5.Percentile(75))],\n",
    "\t'$\\\\bf{80th}$': [\"{:.2f}\".format(x.Percentile(80)), \"{:.2f}\".format(x1.Percentile(80)), \"{:.2f}\".format(x3.Percentile(80)), \"{:.2f}\".format(x4.Percentile(80)), \"{:.2f}\".format(x5.Percentile(80))],\n",
    "    '$\\\\bf{90th}$': [\"{:.2f}\".format(x.Percentile(90)), \"{:.2f}\".format(x1.Percentile(90)), \"{:.2f}\".format(x3.Percentile(90)), \"{:.2f}\".format(x4.Percentile(90)), \"{:.2f}\".format(x5.Percentile(90))]\n",
    "        }    \n",
    "\n",
    "df_percentile = pd.DataFrame(data)\n",
    "\n",
    "fig, ax = plt.subplots(dpi=150)\n",
    "\n",
    " #hide axes\n",
    "fig.patch.set_visible(False)\n",
    "ax.axis('off')\n",
    "ax.axis('tight')\n",
    "\n",
    "ax.table(cellText=df_percentile.values, colLabels=df_percentile.columns, loc='center', cellLoc='center')\n",
    "\n",
    "#fig.tight_layout()\n",
    "plt.savefig('./AWS/London/ASN/handshake_times_IPv4_asno_percentile.png', format='png', bbox_inches='tight')\n"
   ]
  },
  {
   "cell_type": "code",
   "execution_count": 44,
   "metadata": {},
   "outputs": [],
   "source": [
    "write_percentiles('quic15133.csv', x1)\n",
    "write_percentiles('quic55293.csv', x3)\n",
    "write_percentiles('quic35415.csv', x4)\n",
    "write_percentiles('quic203226.csv', x5)\n",
    "write_percentiles('quic15169.csv', x)"
   ]
  },
  {
   "cell_type": "code",
   "execution_count": 45,
   "metadata": {
    "scrolled": false
   },
   "outputs": [
    {
     "name": "stderr",
     "output_type": "stream",
     "text": [
      "findfont: Font family ['monospace'] not found. Falling back to DejaVu Sans.\n",
      "findfont: Font family ['monospace'] not found. Falling back to DejaVu Sans.\n"
     ]
    },
    {
     "data": {
      "image/png": "[encoded data removed]",
      "text/plain": [
       "<Figure size 720x216 with 2 Axes>"
      ]
     },
     "metadata": {
      "needs_background": "light"
     },
     "output_type": "display_data"
    }
   ],
   "source": [
    "fig = plt.figure(figsize = (10,3))\n",
    "plt.rcParams['font.size'] = 12\n",
    "ax = plt.gca()\n",
    "yticks = np.arange(0,1.1,0.2)\n",
    "\n",
    "#15169\n",
    "plt.plot(x.xs, x.ps, marker='s', linewidth=0.3, markersize=5, fillstyle='none', color = 'orange')\n",
    "#15133\n",
    "plt.plot(x1.xs, x1.ps, marker='s', linewidth=0.3, markersize=5, fillstyle='none', color = 'red')\n",
    "#55293\n",
    "plt.plot(x3.xs, x3.ps, marker='s', linewidth=0.3, markersize=5, fillstyle='none', color = 'green')\n",
    "#35415\n",
    "plt.plot(x4.xs, x4.ps, marker='s', linewidth=0.3, markersize=5, fillstyle='none', color = 'black')\n",
    "#203226\n",
    "plt.plot(x5.xs, x5.ps, marker='s', linewidth=0.3, markersize=5, fillstyle='none', color = 'blue')\n",
    "\n",
    "\n",
    "\n",
    "ax = fig.axes[0]\n",
    "ax.grid(False)\n",
    "ax.set_yticks(yticks)\n",
    "ax.set_ylim([0,1.05])\n",
    "##ax.set_xlim([20,100])\n",
    "ax.set_xscale('log')\n",
    "ax.set_xlabel('latency (x-axis is cut)', fontsize=12)\n",
    "ax.set_ylabel('CDF', fontsize=12)\n",
    "\n",
    "plt.legend(['GOOGLE', 'EDGECAST', 'A2Hosting', 'Webzilla', 'IHCRU'], fontsize=11, loc='best')\n",
    "\n",
    "ax.spines['right'].set_color('none')\n",
    "ax.spines['top'].set_color('none')\n",
    "ax.yaxis.set_ticks_position('left')\n",
    "ax.xaxis.set_ticks_position('bottom')\n",
    "ax.spines['bottom'].set_position(('axes', -0.05))\n",
    "ax.spines['left'].set_position(('axes', -0.05))\n",
    "\n",
    "ax3 = ax.twinx()\n",
    "ax3.spines['right'].set_color('none')\n",
    "ax3.spines['top'].set_color('none')\n",
    "ax3.spines['left'].set_color('none')\n",
    "ax3.spines['bottom'].set_color('none')\n",
    "ax3.yaxis.set_ticks_position('none')\n",
    "plt.setp(ax3.get_yticklabels(), visible=False)\n",
    "\n",
    "plt.title('Handshake Times with IPv4', fontsize=12, y=1.05)\n",
    "plt.savefig('./AWS/London/ASN/handshake_times_IPv4_asno.png', format='png', bbox_inches='tight')\n"
   ]
  },
  {
   "cell_type": "code",
   "execution_count": null,
   "metadata": {},
   "outputs": [],
   "source": []
  },
  {
   "cell_type": "code",
   "execution_count": 46,
   "metadata": {},
   "outputs": [],
   "source": [
    "x = Cdf.MakeCdfFromList(quic15169['TTFB'].values)\n",
    "x1 =Cdf.MakeCdfFromList(quic15133['TTFB'].values)\n",
    "x3 = Cdf.MakeCdfFromList(quic55293['TTFB'].values)\n",
    "x4 = Cdf.MakeCdfFromList(quic35415['TTFB'].values)\n",
    "x5 = Cdf.MakeCdfFromList(quic203226['TTFB'].values)"
   ]
  },
  {
   "cell_type": "code",
   "execution_count": 47,
   "metadata": {},
   "outputs": [
    {
     "name": "stdout",
     "output_type": "stream",
     "text": [
      "-----------------------------\n",
      "\n",
      "percentile values distribution for quic15133\n",
      "\n",
      "50th Percentile:150.956000\n",
      "\n",
      "90th Percentile:684.998000\n",
      "\n",
      "99th Percentile:954.003000\n",
      "\n",
      "25th Percentile:80.927000\n",
      "\n",
      "75th Percentile:373.714000\n",
      "\n",
      "20th Percentile:150.956000\n",
      "\n",
      "40th Percentile:684.998000\n",
      "\n",
      "60th Percentile:954.003000\n",
      "\n",
      "80th Percentile:80.927000\n",
      "\n",
      "-----------------------------\n",
      "\n",
      "-----------------------------\n",
      "\n",
      "percentile values distribution for quic55293\n",
      "\n",
      "50th Percentile:368.589000\n",
      "\n",
      "90th Percentile:695.944000\n",
      "\n",
      "99th Percentile:940.109000\n",
      "\n",
      "25th Percentile:364.716000\n",
      "\n",
      "75th Percentile:454.664000\n",
      "\n",
      "20th Percentile:368.589000\n",
      "\n",
      "40th Percentile:695.944000\n",
      "\n",
      "60th Percentile:940.109000\n",
      "\n",
      "80th Percentile:364.716000\n",
      "\n",
      "-----------------------------\n",
      "\n",
      "-----------------------------\n",
      "\n",
      "percentile values distribution for quic35415\n",
      "\n",
      "50th Percentile:121.685000\n",
      "\n",
      "90th Percentile:200.891000\n",
      "\n",
      "99th Percentile:696.325000\n",
      "\n",
      "25th Percentile:119.313000\n",
      "\n",
      "75th Percentile:160.003000\n",
      "\n",
      "20th Percentile:121.685000\n",
      "\n",
      "40th Percentile:200.891000\n",
      "\n",
      "60th Percentile:696.325000\n",
      "\n",
      "80th Percentile:119.313000\n",
      "\n",
      "-----------------------------\n",
      "\n",
      "-----------------------------\n",
      "\n",
      "percentile values distribution for quic203226\n",
      "\n",
      "50th Percentile:245.901000\n",
      "\n",
      "90th Percentile:475.002000\n",
      "\n",
      "99th Percentile:897.104000\n",
      "\n",
      "25th Percentile:242.222000\n",
      "\n",
      "75th Percentile:280.600000\n",
      "\n",
      "20th Percentile:245.901000\n",
      "\n",
      "40th Percentile:475.002000\n",
      "\n",
      "60th Percentile:897.104000\n",
      "\n",
      "80th Percentile:242.222000\n",
      "\n",
      "-----------------------------\n",
      "\n",
      "-----------------------------\n",
      "\n",
      "percentile values distribution for quic15169\n",
      "\n",
      "50th Percentile:122.569000\n",
      "\n",
      "90th Percentile:274.388000\n",
      "\n",
      "99th Percentile:874.677000\n",
      "\n",
      "25th Percentile:119.001000\n",
      "\n",
      "75th Percentile:164.405000\n",
      "\n",
      "20th Percentile:122.569000\n",
      "\n",
      "40th Percentile:274.388000\n",
      "\n",
      "60th Percentile:874.677000\n",
      "\n",
      "80th Percentile:119.001000\n",
      "\n",
      "-----------------------------\n",
      "\n"
     ]
    }
   ],
   "source": [
    "print_percentiles(x1, 'quic15133')\n",
    "print_percentiles(x3, 'quic55293')\n",
    "print_percentiles(x4, 'quic35415')\n",
    "print_percentiles(x5, 'quic203226')\n",
    "print_percentiles(x, 'quic15169')"
   ]
  },
  {
   "cell_type": "code",
   "execution_count": 48,
   "metadata": {},
   "outputs": [],
   "source": [
    "write_percentiles('quic15133.csv', x1)\n",
    "write_percentiles('quic55293.csv', x3)\n",
    "write_percentiles('quic35415.csv', x4)\n",
    "write_percentiles('quic203226.csv', x5)\n",
    "write_percentiles('quic15169.csv', x)"
   ]
  },
  {
   "cell_type": "code",
   "execution_count": 49,
   "metadata": {},
   "outputs": [
    {
     "name": "stderr",
     "output_type": "stream",
     "text": [
      "findfont: Font family ['monospace'] not found. Falling back to DejaVu Sans.\n",
      "findfont: Font family ['monospace'] not found. Falling back to DejaVu Sans.\n",
      "findfont: Font family ['monospace'] not found. Falling back to DejaVu Sans.\n",
      "findfont: Font family ['monospace'] not found. Falling back to DejaVu Sans.\n",
      "findfont: Font family ['monospace'] not found. Falling back to DejaVu Sans.\n"
     ]
    },
    {
     "data": {
      "image/png": "[encoded data removed]",
      "text/plain": [
       "<Figure size 900x600 with 1 Axes>"
      ]
     },
     "metadata": {
      "needs_background": "light"
     },
     "output_type": "display_data"
    }
   ],
   "source": [
    "data = {'$\\\\bf{ASN}$': ['GOOGLE', 'EDGECAST', 'A2HOSTING', 'WEBZILLA', 'IHCRU'],\n",
    "\t'$\\\\bf{25th}$': [\"{:.2f}\".format(x.Percentile(25)), \"{:.2f}\".format(x1.Percentile(25)), \"{:.2f}\".format(x3.Percentile(25)), \"{:.2f}\".format(x4.Percentile(25)), \"{:.2f}\".format(x5.Percentile(25))],\n",
    "\t'$\\\\bf{50th}$': [\"{:.2f}\".format(x.Percentile(50)), \"{:.2f}\".format(x1.Percentile(50)), \"{:.2f}\".format(x3.Percentile(50)), \"{:.2f}\".format(x4.Percentile(50)), \"{:.2f}\".format(x5.Percentile(50))],\n",
    "\t'$\\\\bf{75th}$': [\"{:.2f}\".format(x.Percentile(75)), \"{:.2f}\".format(x1.Percentile(75)), \"{:.2f}\".format(x3.Percentile(75)), \"{:.2f}\".format(x4.Percentile(75)), \"{:.2f}\".format(x5.Percentile(75))],\n",
    "\t'$\\\\bf{80th}$': [\"{:.2f}\".format(x.Percentile(80)), \"{:.2f}\".format(x1.Percentile(80)), \"{:.2f}\".format(x3.Percentile(80)), \"{:.2f}\".format(x4.Percentile(80)), \"{:.2f}\".format(x5.Percentile(80))],\n",
    "    '$\\\\bf{90th}$': [\"{:.2f}\".format(x.Percentile(90)), \"{:.2f}\".format(x1.Percentile(90)), \"{:.2f}\".format(x3.Percentile(90)), \"{:.2f}\".format(x4.Percentile(90)), \"{:.2f}\".format(x5.Percentile(90))]\n",
    "        }    \n",
    "\n",
    "df_percentile = pd.DataFrame(data)\n",
    "\n",
    "fig, ax = plt.subplots(dpi=150)\n",
    "\n",
    " #hide axes\n",
    "fig.patch.set_visible(False)\n",
    "ax.axis('off')\n",
    "ax.axis('tight')\n",
    "\n",
    "ax.table(cellText=df_percentile.values, colLabels=df_percentile.columns, loc='center', cellLoc='center')\n",
    "\n",
    "#fig.tight_layout()\n",
    "plt.savefig('./AWS/London/ASN/TTFB_ipv4_asno_percentile.png', format='png', bbox_inches='tight')"
   ]
  },
  {
   "cell_type": "code",
   "execution_count": 50,
   "metadata": {},
   "outputs": [
    {
     "data": {
      "image/png": "[encoded data removed]",
      "text/plain": [
       "<Figure size 720x216 with 2 Axes>"
      ]
     },
     "metadata": {
      "needs_background": "light"
     },
     "output_type": "display_data"
    }
   ],
   "source": [
    "fig = plt.figure(figsize = (10,3))\n",
    "plt.rcParams['font.size'] = 12\n",
    "ax = plt.gca()\n",
    "yticks = np.arange(0,1.1,0.2)\n",
    "\n",
    "#15169\n",
    "plt.plot(x.xs, x.ps, marker='s', linewidth=0.3, markersize=5, fillstyle='none', color = 'orange')\n",
    "#15133\n",
    "plt.plot(x1.xs, x1.ps, marker='s', linewidth=0.3, markersize=5, fillstyle='none', color = 'red')\n",
    "#55293\n",
    "plt.plot(x3.xs, x3.ps, marker='s', linewidth=0.3, markersize=5, fillstyle='none', color = 'green')\n",
    "#35415\n",
    "plt.plot(x4.xs, x4.ps, marker='s', linewidth=0.3, markersize=5, fillstyle='none', color = 'black')\n",
    "#203226\n",
    "plt.plot(x5.xs, x5.ps, marker='s', linewidth=0.3, markersize=5, fillstyle='none', color = 'blue')\n",
    "\n",
    "\n",
    "ax = fig.axes[0]\n",
    "ax.grid(False)\n",
    "ax.set_yticks(yticks)\n",
    "ax.set_ylim([0,1.05])\n",
    "#ax.set_xlim([20,1000])\n",
    "ax.set_xscale('log')\n",
    "ax.set_xlabel('TTFB', fontsize=12)\n",
    "ax.set_ylabel('CDF', fontsize=12)\n",
    "\n",
    "plt.legend(['GOOGLE', 'EDGECAST', 'A2Hosting', 'Webzilla', 'IHCRU'], fontsize=11, loc='best')\n",
    "\n",
    "ax.spines['right'].set_color('none')\n",
    "ax.spines['top'].set_color('none')\n",
    "ax.yaxis.set_ticks_position('left')\n",
    "ax.xaxis.set_ticks_position('bottom')\n",
    "ax.spines['bottom'].set_position(('axes', -0.05))\n",
    "ax.spines['left'].set_position(('axes', -0.05))\n",
    "\n",
    "ax3 = ax.twinx()\n",
    "ax3.spines['right'].set_color('none')\n",
    "ax3.spines['top'].set_color('none')\n",
    "ax3.spines['left'].set_color('none')\n",
    "ax3.spines['bottom'].set_color('none')\n",
    "ax3.yaxis.set_ticks_position('none')\n",
    "plt.setp(ax3.get_yticklabels(), visible=False)\n",
    "\n",
    "plt.title('TTFB with IPv4', fontsize=12, y=1.05)\n",
    "plt.savefig('./AWS/London/ASN/TTFB_ipv4_asno.png', format='png', bbox_inches='tight')"
   ]
  },
  {
   "cell_type": "code",
   "execution_count": 51,
   "metadata": {},
   "outputs": [],
   "source": [
    "x = Cdf.MakeCdfFromList(quic15169['TotalDownloadTime'].values)\n",
    "x1 =Cdf.MakeCdfFromList(quic15133['TotalDownloadTime'].values)\n",
    "x3 = Cdf.MakeCdfFromList(quic55293['TotalDownloadTime'].values)\n",
    "x4 = Cdf.MakeCdfFromList(quic35415['TotalDownloadTime'].values)\n",
    "x5 = Cdf.MakeCdfFromList(quic203226['TotalDownloadTime'].values)"
   ]
  },
  {
   "cell_type": "code",
   "execution_count": 52,
   "metadata": {},
   "outputs": [
    {
     "name": "stdout",
     "output_type": "stream",
     "text": [
      "-----------------------------\n",
      "\n",
      "percentile values distribution for quic15133\n",
      "\n",
      "50th Percentile:276.106000\n",
      "\n",
      "90th Percentile:776.681000\n",
      "\n",
      "99th Percentile:979.964000\n",
      "\n",
      "25th Percentile:123.583000\n",
      "\n",
      "75th Percentile:513.702000\n",
      "\n",
      "20th Percentile:276.106000\n",
      "\n",
      "40th Percentile:776.681000\n",
      "\n",
      "60th Percentile:979.964000\n",
      "\n",
      "80th Percentile:123.583000\n",
      "\n",
      "-----------------------------\n",
      "\n",
      "-----------------------------\n",
      "\n",
      "percentile values distribution for quic55293\n",
      "\n",
      "50th Percentile:409.533000\n",
      "\n",
      "90th Percentile:724.854000\n",
      "\n",
      "99th Percentile:921.790000\n",
      "\n",
      "25th Percentile:367.295000\n",
      "\n",
      "75th Percentile:532.398000\n",
      "\n",
      "20th Percentile:409.533000\n",
      "\n",
      "40th Percentile:724.854000\n",
      "\n",
      "60th Percentile:921.790000\n",
      "\n",
      "80th Percentile:367.295000\n",
      "\n",
      "-----------------------------\n",
      "\n",
      "-----------------------------\n",
      "\n",
      "percentile values distribution for quic35415\n",
      "\n",
      "50th Percentile:126.252000\n",
      "\n",
      "90th Percentile:206.836000\n",
      "\n",
      "99th Percentile:696.583000\n",
      "\n",
      "25th Percentile:120.645000\n",
      "\n",
      "75th Percentile:165.360000\n",
      "\n",
      "20th Percentile:126.252000\n",
      "\n",
      "40th Percentile:206.836000\n",
      "\n",
      "60th Percentile:696.583000\n",
      "\n",
      "80th Percentile:120.645000\n",
      "\n",
      "-----------------------------\n",
      "\n",
      "-----------------------------\n",
      "\n",
      "percentile values distribution for quic203226\n",
      "\n",
      "50th Percentile:246.189000\n",
      "\n",
      "90th Percentile:450.411000\n",
      "\n",
      "99th Percentile:896.475000\n",
      "\n",
      "25th Percentile:242.366000\n",
      "\n",
      "75th Percentile:282.620000\n",
      "\n",
      "20th Percentile:246.189000\n",
      "\n",
      "40th Percentile:450.411000\n",
      "\n",
      "60th Percentile:896.475000\n",
      "\n",
      "80th Percentile:242.366000\n",
      "\n",
      "-----------------------------\n",
      "\n",
      "-----------------------------\n",
      "\n",
      "percentile values distribution for quic15169\n",
      "\n",
      "50th Percentile:123.258000\n",
      "\n",
      "90th Percentile:368.710000\n",
      "\n",
      "99th Percentile:900.463000\n",
      "\n",
      "25th Percentile:119.421000\n",
      "\n",
      "75th Percentile:166.774000\n",
      "\n",
      "20th Percentile:123.258000\n",
      "\n",
      "40th Percentile:368.710000\n",
      "\n",
      "60th Percentile:900.463000\n",
      "\n",
      "80th Percentile:119.421000\n",
      "\n",
      "-----------------------------\n",
      "\n"
     ]
    }
   ],
   "source": [
    "print_percentiles(x1, 'quic15133')\n",
    "print_percentiles(x3, 'quic55293')\n",
    "print_percentiles(x4, 'quic35415')\n",
    "print_percentiles(x5, 'quic203226')\n",
    "print_percentiles(x, 'quic15169')"
   ]
  },
  {
   "cell_type": "code",
   "execution_count": 53,
   "metadata": {},
   "outputs": [],
   "source": [
    "write_percentiles('quic15133.csv', x1)\n",
    "write_percentiles('quic55293.csv', x3)\n",
    "write_percentiles('quic35415.csv', x4)\n",
    "write_percentiles('quic203226.csv', x5)\n",
    "write_percentiles('quic15169.csv', x)"
   ]
  },
  {
   "cell_type": "code",
   "execution_count": 54,
   "metadata": {},
   "outputs": [
    {
     "name": "stderr",
     "output_type": "stream",
     "text": [
      "findfont: Font family ['monospace'] not found. Falling back to DejaVu Sans.\n",
      "findfont: Font family ['monospace'] not found. Falling back to DejaVu Sans.\n",
      "findfont: Font family ['monospace'] not found. Falling back to DejaVu Sans.\n",
      "findfont: Font family ['monospace'] not found. Falling back to DejaVu Sans.\n",
      "findfont: Font family ['monospace'] not found. Falling back to DejaVu Sans.\n"
     ]
    },
    {
     "data": {
      "image/png": "[encoded data removed]",
      "text/plain": [
       "<Figure size 900x600 with 1 Axes>"
      ]
     },
     "metadata": {
      "needs_background": "light"
     },
     "output_type": "display_data"
    }
   ],
   "source": [
    "data = {'$\\\\bf{ASN}$': ['GOOGLE', 'EDGECAST', 'A2HOSTING', 'WEBZILLA', 'IHCRU'],\n",
    "\t'$\\\\bf{25th}$': [\"{:.2f}\".format(x.Percentile(25)), \"{:.2f}\".format(x1.Percentile(25)), \"{:.2f}\".format(x3.Percentile(25)), \"{:.2f}\".format(x4.Percentile(25)), \"{:.2f}\".format(x5.Percentile(25))],\n",
    "\t'$\\\\bf{50th}$': [\"{:.2f}\".format(x.Percentile(50)), \"{:.2f}\".format(x1.Percentile(50)), \"{:.2f}\".format(x3.Percentile(50)), \"{:.2f}\".format(x4.Percentile(50)), \"{:.2f}\".format(x5.Percentile(50))],\n",
    "\t'$\\\\bf{75th}$': [\"{:.2f}\".format(x.Percentile(75)), \"{:.2f}\".format(x1.Percentile(75)), \"{:.2f}\".format(x3.Percentile(75)), \"{:.2f}\".format(x4.Percentile(75)), \"{:.2f}\".format(x5.Percentile(75))],\n",
    "\t'$\\\\bf{80th}$': [\"{:.2f}\".format(x.Percentile(80)), \"{:.2f}\".format(x1.Percentile(80)), \"{:.2f}\".format(x3.Percentile(80)), \"{:.2f}\".format(x4.Percentile(80)), \"{:.2f}\".format(x5.Percentile(80))],\n",
    "    '$\\\\bf{90th}$': [\"{:.2f}\".format(x.Percentile(90)), \"{:.2f}\".format(x1.Percentile(90)), \"{:.2f}\".format(x3.Percentile(90)), \"{:.2f}\".format(x4.Percentile(90)), \"{:.2f}\".format(x5.Percentile(90))]\n",
    "        }    \n",
    "\n",
    "df_percentile = pd.DataFrame(data)\n",
    "\n",
    "fig, ax = plt.subplots(dpi=150)\n",
    "\n",
    " #hide axes\n",
    "fig.patch.set_visible(False)\n",
    "ax.axis('off')\n",
    "ax.axis('tight')\n",
    "\n",
    "ax.table(cellText=df_percentile.values, colLabels=df_percentile.columns, loc='center', cellLoc='center')\n",
    "\n",
    "#fig.tight_layout()\n",
    "plt.savefig('./AWS/London/ASN/TotalDownloadTime_ipv4_asno_percentile.png', format='png', bbox_inches='tight')"
   ]
  },
  {
   "cell_type": "code",
   "execution_count": 55,
   "metadata": {},
   "outputs": [
    {
     "data": {
      "image/png": "[encoded data removed]",
      "text/plain": [
       "<Figure size 720x216 with 2 Axes>"
      ]
     },
     "metadata": {
      "needs_background": "light"
     },
     "output_type": "display_data"
    }
   ],
   "source": [
    "fig = plt.figure(figsize = (10,3))\n",
    "plt.rcParams['font.size'] = 12\n",
    "ax = plt.gca()\n",
    "yticks = np.arange(0,1.1,0.2)\n",
    "\n",
    "#15169\n",
    "plt.plot(x.xs, x.ps, marker='s', linewidth=0.3, markersize=5, fillstyle='none', color = 'orange')\n",
    "#15133\n",
    "plt.plot(x1.xs, x1.ps, marker='s', linewidth=0.3, markersize=5, fillstyle='none', color = 'red')\n",
    "#55293\n",
    "plt.plot(x3.xs, x3.ps, marker='s', linewidth=0.3, markersize=5, fillstyle='none', color = 'green')\n",
    "#35415\n",
    "plt.plot(x4.xs, x4.ps, marker='s', linewidth=0.3, markersize=5, fillstyle='none', color = 'black')\n",
    "#203226\n",
    "plt.plot(x5.xs, x5.ps, marker='s', linewidth=0.3, markersize=5, fillstyle='none', color = 'blue')\n",
    "\n",
    "\n",
    "ax = fig.axes[0]\n",
    "ax.grid(False)\n",
    "ax.set_yticks(yticks)\n",
    "ax.set_ylim([0,1.05])\n",
    "#ax.set_xlim([20,1000])\n",
    "ax.set_xscale('log')\n",
    "ax.set_xlabel('TotalDownloadTime', fontsize=12)\n",
    "ax.set_ylabel('CDF', fontsize=12)\n",
    "\n",
    "plt.legend(['GOOGLE', 'EDGECAST', 'A2Hosting', 'Webzilla', 'IHCRU'], fontsize=11, loc='best')\n",
    "\n",
    "ax.spines['right'].set_color('none')\n",
    "ax.spines['top'].set_color('none')\n",
    "ax.yaxis.set_ticks_position('left')\n",
    "ax.xaxis.set_ticks_position('bottom')\n",
    "ax.spines['bottom'].set_position(('axes', -0.05))\n",
    "ax.spines['left'].set_position(('axes', -0.05))\n",
    "\n",
    "ax3 = ax.twinx()\n",
    "ax3.spines['right'].set_color('none')\n",
    "ax3.spines['top'].set_color('none')\n",
    "ax3.spines['left'].set_color('none')\n",
    "ax3.spines['bottom'].set_color('none')\n",
    "ax3.yaxis.set_ticks_position('none')\n",
    "plt.setp(ax3.get_yticklabels(), visible=False)\n",
    "\n",
    "plt.title('TotalDownloadTime with IPv4', fontsize=12, y=1.05)\n",
    "plt.savefig('./AWS/London/ASN/TotalDownloadTime_ipv4_asno.png', format='png', bbox_inches='tight')"
   ]
  },
  {
   "cell_type": "code",
   "execution_count": 56,
   "metadata": {},
   "outputs": [],
   "source": [
    "#GOOGLE\n",
    "quic46 = quic15169.loc[t['Protocol'] == 'Q046']\n",
    "quic43 = quic15169.loc[t['Protocol'] == 'Q043']\n",
    "quic50 = quic15169.loc[t['Protocol'] == 'Q050']\n",
    "quich24 = quic15169.loc[t['Protocol'] == 'FF000018']"
   ]
  },
  {
   "cell_type": "code",
   "execution_count": 57,
   "metadata": {},
   "outputs": [],
   "source": [
    "x = Cdf.MakeCdfFromList(quic43['ConnectionEstablishmentTime'].values)\n",
    "x1 =Cdf.MakeCdfFromList(quic46['ConnectionEstablishmentTime'].values)\n",
    "x3 = Cdf.MakeCdfFromList(quic50['ConnectionEstablishmentTime'].values)\n",
    "x5 = Cdf.MakeCdfFromList(quich24['ConnectionEstablishmentTime'].values)"
   ]
  },
  {
   "cell_type": "code",
   "execution_count": 58,
   "metadata": {},
   "outputs": [
    {
     "name": "stdout",
     "output_type": "stream",
     "text": [
      "-----------------------------\n",
      "\n",
      "percentile values distribution for Q046\n",
      "\n",
      "50th Percentile:80.015000\n",
      "\n",
      "90th Percentile:118.407000\n",
      "\n",
      "99th Percentile:803.320000\n",
      "\n",
      "25th Percentile:77.840000\n",
      "\n",
      "75th Percentile:81.769000\n",
      "\n",
      "20th Percentile:80.015000\n",
      "\n",
      "40th Percentile:118.407000\n",
      "\n",
      "60th Percentile:803.320000\n",
      "\n",
      "80th Percentile:77.840000\n",
      "\n",
      "-----------------------------\n",
      "\n",
      "-----------------------------\n",
      "\n",
      "percentile values distribution for Q050\n",
      "\n",
      "50th Percentile:80.080000\n",
      "\n",
      "90th Percentile:119.589000\n",
      "\n",
      "99th Percentile:806.957000\n",
      "\n",
      "25th Percentile:77.817000\n",
      "\n",
      "75th Percentile:81.981000\n",
      "\n",
      "20th Percentile:80.080000\n",
      "\n",
      "40th Percentile:119.589000\n",
      "\n",
      "60th Percentile:806.957000\n",
      "\n",
      "80th Percentile:77.817000\n",
      "\n",
      "-----------------------------\n",
      "\n",
      "-----------------------------\n",
      "\n",
      "percentile values distribution for Q043\n",
      "\n",
      "50th Percentile:80.731000\n",
      "\n",
      "90th Percentile:85.391000\n",
      "\n",
      "99th Percentile:780.974000\n",
      "\n",
      "25th Percentile:78.024000\n",
      "\n",
      "75th Percentile:81.611000\n",
      "\n",
      "20th Percentile:80.731000\n",
      "\n",
      "40th Percentile:85.391000\n",
      "\n",
      "60th Percentile:780.974000\n",
      "\n",
      "80th Percentile:78.024000\n",
      "\n",
      "-----------------------------\n",
      "\n"
     ]
    }
   ],
   "source": [
    "print_percentiles(x1, 'Q046')\n",
    "print_percentiles(x3, 'Q050')\n",
    "#print_percentiles(x5, 'h24')\n",
    "print_percentiles(x, 'Q043')"
   ]
  },
  {
   "cell_type": "code",
   "execution_count": 59,
   "metadata": {},
   "outputs": [
    {
     "name": "stderr",
     "output_type": "stream",
     "text": [
      "findfont: Font family ['monospace'] not found. Falling back to DejaVu Sans.\n",
      "findfont: Font family ['monospace'] not found. Falling back to DejaVu Sans.\n"
     ]
    },
    {
     "data": {
      "image/png": "[encoded data removed]",
      "text/plain": [
       "<Figure size 900x600 with 1 Axes>"
      ]
     },
     "metadata": {
      "needs_background": "light"
     },
     "output_type": "display_data"
    }
   ],
   "source": [
    "data = {'$\\\\bf{Protocol}$': ['Q043', 'Q046', 'Q050'],\n",
    "\t'$\\\\bf{25th}$': [\"{:.2f}\".format(x.Percentile(25)), \"{:.2f}\".format(x1.Percentile(25)), \"{:.2f}\".format(x3.Percentile(25))],\n",
    "\t'$\\\\bf{50th}$': [\"{:.2f}\".format(x.Percentile(50)), \"{:.2f}\".format(x1.Percentile(50)), \"{:.2f}\".format(x3.Percentile(50))],\n",
    "\t'$\\\\bf{75th}$': [\"{:.2f}\".format(x.Percentile(75)), \"{:.2f}\".format(x1.Percentile(75)), \"{:.2f}\".format(x3.Percentile(75))],\n",
    "\t'$\\\\bf{80th}$': [\"{:.2f}\".format(x.Percentile(80)), \"{:.2f}\".format(x1.Percentile(80)), \"{:.2f}\".format(x3.Percentile(80))],\n",
    "    '$\\\\bf{90th}$': [\"{:.2f}\".format(x.Percentile(90)), \"{:.2f}\".format(x1.Percentile(90)), \"{:.2f}\".format(x3.Percentile(90))]\n",
    "        }    \n",
    "\n",
    "df_percentile = pd.DataFrame(data)\n",
    "\n",
    "fig, ax = plt.subplots(dpi=150)\n",
    "\n",
    " #hide axes\n",
    "fig.patch.set_visible(False)\n",
    "ax.axis('off')\n",
    "ax.axis('tight')\n",
    "\n",
    "ax.table(cellText=df_percentile.values, colLabels=df_percentile.columns, loc='center', cellLoc='center')\n",
    "\n",
    "#fig.tight_layout()\n",
    "plt.savefig('./AWS/CapeTown/ASN/handshake_times_ipv4_asn15169_percentile.png', format='png', bbox_inches='tight')"
   ]
  },
  {
   "cell_type": "code",
   "execution_count": 60,
   "metadata": {},
   "outputs": [
    {
     "data": {
      "image/png": "[encoded data removed]",
      "text/plain": [
       "<Figure size 720x216 with 2 Axes>"
      ]
     },
     "metadata": {
      "needs_background": "light"
     },
     "output_type": "display_data"
    }
   ],
   "source": [
    "fig = plt.figure(figsize = (10,3))\n",
    "plt.rcParams['font.size'] = 12\n",
    "ax = plt.gca()\n",
    "yticks = np.arange(0,1.1,0.2)\n",
    "\n",
    "#Q043\n",
    "plt.plot(x.xs, x.ps, marker='s', linewidth=0.3, markersize=5, fillstyle='none', color = 'orange')\n",
    "#Q046\n",
    "plt.plot(x1.xs, x1.ps, marker='s', linewidth=0.3, markersize=5, fillstyle='none', color = 'red')\n",
    "#Q050\n",
    "plt.plot(x3.xs, x3.ps, marker='s', linewidth=0.3, markersize=5, fillstyle='none', color = 'green')\n",
    "#Qh24\n",
    "plt.plot(x5.xs, x5.ps, marker='s', linewidth=0.3, markersize=5, fillstyle='none', color = 'blue')\n",
    "\n",
    "\n",
    "\n",
    "ax = fig.axes[0]\n",
    "ax.grid(False)\n",
    "ax.set_yticks(yticks)\n",
    "ax.set_ylim([0,1.05])\n",
    "#ax.set_xlim([20,100])\n",
    "ax.set_xscale('log')\n",
    "ax.set_xlabel('latency (x-axis is cut)', fontsize=12)\n",
    "ax.set_ylabel('CDF', fontsize=12)\n",
    "\n",
    "plt.legend(['Q043', 'Q046', 'Q050', 'IETF h-24'] , fontsize=11, loc='best')\n",
    "\n",
    "ax.spines['right'].set_color('none')\n",
    "ax.spines['top'].set_color('none')\n",
    "ax.yaxis.set_ticks_position('left')\n",
    "ax.xaxis.set_ticks_position('bottom')\n",
    "ax.spines['bottom'].set_position(('axes', -0.05))\n",
    "ax.spines['left'].set_position(('axes', -0.05))\n",
    "\n",
    "ax3 = ax.twinx()\n",
    "ax3.spines['right'].set_color('none')\n",
    "ax3.spines['top'].set_color('none')\n",
    "ax3.spines['left'].set_color('none')\n",
    "ax3.spines['bottom'].set_color('none')\n",
    "ax3.yaxis.set_ticks_position('none')\n",
    "plt.setp(ax3.get_yticklabels(), visible=False)\n",
    "\n",
    "plt.title('Handshake Times with IPv4', fontsize=12, y=1.05)\n",
    "plt.savefig('./AWS/CapeTown/ASN/handshake_times_ipv4_asn15169.png', format='png', bbox_inches='tight')\n"
   ]
  },
  {
   "cell_type": "code",
   "execution_count": 61,
   "metadata": {},
   "outputs": [],
   "source": [
    "x = Cdf.MakeCdfFromList(quic43['TTFB'].values)\n",
    "x1 =Cdf.MakeCdfFromList(quic46['TTFB'].values)\n",
    "x3 = Cdf.MakeCdfFromList(quic50['TTFB'].values)\n",
    "x5 = Cdf.MakeCdfFromList(quich24['TTFB'].values)"
   ]
  },
  {
   "cell_type": "code",
   "execution_count": 62,
   "metadata": {
    "lines_to_next_cell": 2
   },
   "outputs": [
    {
     "name": "stdout",
     "output_type": "stream",
     "text": [
      "-----------------------------\n",
      "\n",
      "percentile values distribution for Q046\n",
      "\n",
      "50th Percentile:122.178000\n",
      "\n",
      "90th Percentile:275.119000\n",
      "\n",
      "99th Percentile:879.154000\n",
      "\n",
      "25th Percentile:118.696000\n",
      "\n",
      "75th Percentile:163.444000\n",
      "\n",
      "20th Percentile:122.178000\n",
      "\n",
      "40th Percentile:275.119000\n",
      "\n",
      "60th Percentile:879.154000\n",
      "\n",
      "80th Percentile:118.696000\n",
      "\n",
      "-----------------------------\n",
      "\n",
      "-----------------------------\n",
      "\n",
      "percentile values distribution for Q050\n",
      "\n",
      "50th Percentile:122.129000\n",
      "\n",
      "90th Percentile:273.664000\n",
      "\n",
      "99th Percentile:874.677000\n",
      "\n",
      "25th Percentile:118.642000\n",
      "\n",
      "75th Percentile:162.997000\n",
      "\n",
      "20th Percentile:122.129000\n",
      "\n",
      "40th Percentile:273.664000\n",
      "\n",
      "60th Percentile:874.677000\n",
      "\n",
      "80th Percentile:118.642000\n",
      "\n",
      "-----------------------------\n",
      "\n",
      "-----------------------------\n",
      "\n",
      "percentile values distribution for Q043\n",
      "\n",
      "50th Percentile:123.579000\n",
      "\n",
      "90th Percentile:274.388000\n",
      "\n",
      "99th Percentile:864.389000\n",
      "\n",
      "25th Percentile:120.102000\n",
      "\n",
      "75th Percentile:166.200000\n",
      "\n",
      "20th Percentile:123.579000\n",
      "\n",
      "40th Percentile:274.388000\n",
      "\n",
      "60th Percentile:864.389000\n",
      "\n",
      "80th Percentile:120.102000\n",
      "\n",
      "-----------------------------\n",
      "\n"
     ]
    }
   ],
   "source": [
    "print_percentiles(x1, 'Q046')\n",
    "print_percentiles(x3, 'Q050')\n",
    "#print_percentiles(x5, 'h24')\n",
    "print_percentiles(x, 'Q043')"
   ]
  },
  {
   "cell_type": "code",
   "execution_count": 63,
   "metadata": {},
   "outputs": [
    {
     "name": "stderr",
     "output_type": "stream",
     "text": [
      "findfont: Font family ['monospace'] not found. Falling back to DejaVu Sans.\n"
     ]
    },
    {
     "data": {
      "image/png": "[encoded data removed]",
      "text/plain": [
       "<Figure size 900x600 with 1 Axes>"
      ]
     },
     "metadata": {
      "needs_background": "light"
     },
     "output_type": "display_data"
    }
   ],
   "source": [
    "data = {'$\\\\bf{Protocol}$': ['Q043', 'Q046', 'Q050'],\n",
    "\t'$\\\\bf{25th}$': [\"{:.2f}\".format(x.Percentile(25)), \"{:.2f}\".format(x1.Percentile(25)), \"{:.2f}\".format(x3.Percentile(25))],\n",
    "\t'$\\\\bf{50th}$': [\"{:.2f}\".format(x.Percentile(50)), \"{:.2f}\".format(x1.Percentile(50)), \"{:.2f}\".format(x3.Percentile(50))],\n",
    "\t'$\\\\bf{75th}$': [\"{:.2f}\".format(x.Percentile(75)), \"{:.2f}\".format(x1.Percentile(75)), \"{:.2f}\".format(x3.Percentile(75))],\n",
    "\t'$\\\\bf{80th}$': [\"{:.2f}\".format(x.Percentile(80)), \"{:.2f}\".format(x1.Percentile(80)), \"{:.2f}\".format(x3.Percentile(80))],\n",
    "    '$\\\\bf{90th}$': [\"{:.2f}\".format(x.Percentile(90)), \"{:.2f}\".format(x1.Percentile(90)), \"{:.2f}\".format(x3.Percentile(90))]\n",
    "        }   \n",
    "\n",
    "df_percentile = pd.DataFrame(data)\n",
    "\n",
    "fig, ax = plt.subplots(dpi=150)\n",
    "\n",
    " #hide axes\n",
    "fig.patch.set_visible(False)\n",
    "ax.axis('off')\n",
    "ax.axis('tight')\n",
    "\n",
    "ax.table(cellText=df_percentile.values, colLabels=df_percentile.columns, loc='center', cellLoc='center')\n",
    "\n",
    "#fig.tight_layout()\n",
    "plt.savefig('./AWS/CapeTown/ASN/handshake_times_ipv4_asn15169_percentile.png', format='png', bbox_inches='tight')"
   ]
  },
  {
   "cell_type": "code",
   "execution_count": 64,
   "metadata": {},
   "outputs": [
    {
     "data": {
      "image/png": "[encoded data removed]",
      "text/plain": [
       "<Figure size 720x216 with 2 Axes>"
      ]
     },
     "metadata": {
      "needs_background": "light"
     },
     "output_type": "display_data"
    }
   ],
   "source": [
    "fig = plt.figure(figsize = (10,3))\n",
    "plt.rcParams['font.size'] = 12\n",
    "ax = plt.gca()\n",
    "yticks = np.arange(0,1.1,0.2)\n",
    "\n",
    "#Q043\n",
    "plt.plot(x.xs, x.ps, marker='s', linewidth=0.3, markersize=5, fillstyle='none', color = 'orange')\n",
    "#Q046\n",
    "plt.plot(x1.xs, x1.ps, marker='s', linewidth=0.3, markersize=5, fillstyle='none', color = 'red')\n",
    "#Q050\n",
    "plt.plot(x3.xs, x3.ps, marker='s', linewidth=0.3, markersize=5, fillstyle='none', color = 'green')\n",
    "#h24\n",
    "#plt.plot(x5.xs, x5.ps, marker='s', linewidth=0.3, markersize=5, fillstyle='none', color = 'blue')\n",
    "\n",
    "\n",
    "\n",
    "ax = fig.axes[0]\n",
    "ax.grid(False)\n",
    "ax.set_yticks(yticks)\n",
    "ax.set_ylim([0,1.05])\n",
    "#ax.set_xlim([20,1000])\n",
    "ax.set_xscale('log')\n",
    "ax.set_xlabel('TTFB', fontsize=12)\n",
    "ax.set_ylabel('CDF', fontsize=12)\n",
    "\n",
    "plt.legend(['Q043', 'Q046', 'Q050'] , fontsize=11, loc='best')\n",
    "\n",
    "ax.spines['right'].set_color('none')\n",
    "ax.spines['top'].set_color('none')\n",
    "ax.yaxis.set_ticks_position('left')\n",
    "ax.xaxis.set_ticks_position('bottom')\n",
    "ax.spines['bottom'].set_position(('axes', -0.05))\n",
    "ax.spines['left'].set_position(('axes', -0.05))\n",
    "\n",
    "ax3 = ax.twinx()\n",
    "ax3.spines['right'].set_color('none')\n",
    "ax3.spines['top'].set_color('none')\n",
    "ax3.spines['left'].set_color('none')\n",
    "ax3.spines['bottom'].set_color('none')\n",
    "ax3.yaxis.set_ticks_position('none')\n",
    "plt.setp(ax3.get_yticklabels(), visible=False)\n",
    "\n",
    "plt.title('TTFB', fontsize=12, y=1.05)\n",
    "plt.savefig('./AWS/CapeTown/ASN/TTFB_ipv4_asn15169.png', format='png', bbox_inches='tight')\n"
   ]
  },
  {
   "cell_type": "code",
   "execution_count": 65,
   "metadata": {},
   "outputs": [],
   "source": [
    "x = Cdf.MakeCdfFromList(quic43['TotalDownloadTime'].values)\n",
    "x1 =Cdf.MakeCdfFromList(quic46['TotalDownloadTime'].values)\n",
    "x3 = Cdf.MakeCdfFromList(quic50['TotalDownloadTime'].values)\n",
    "x5 = Cdf.MakeCdfFromList(quich24['TotalDownloadTime'].values)"
   ]
  },
  {
   "cell_type": "code",
   "execution_count": 66,
   "metadata": {},
   "outputs": [
    {
     "name": "stdout",
     "output_type": "stream",
     "text": [
      "-----------------------------\n",
      "\n",
      "percentile values distribution for Q046\n",
      "\n",
      "50th Percentile:122.888000\n",
      "\n",
      "90th Percentile:368.654000\n",
      "\n",
      "99th Percentile:898.423000\n",
      "\n",
      "25th Percentile:119.078000\n",
      "\n",
      "75th Percentile:165.890000\n",
      "\n",
      "20th Percentile:122.888000\n",
      "\n",
      "40th Percentile:368.654000\n",
      "\n",
      "60th Percentile:898.423000\n",
      "\n",
      "80th Percentile:119.078000\n",
      "\n",
      "-----------------------------\n",
      "\n",
      "-----------------------------\n",
      "\n",
      "percentile values distribution for Q050\n",
      "\n",
      "50th Percentile:122.877000\n",
      "\n",
      "90th Percentile:369.046000\n",
      "\n",
      "99th Percentile:900.407000\n",
      "\n",
      "25th Percentile:119.162000\n",
      "\n",
      "75th Percentile:166.071000\n",
      "\n",
      "20th Percentile:122.877000\n",
      "\n",
      "40th Percentile:369.046000\n",
      "\n",
      "60th Percentile:900.407000\n",
      "\n",
      "80th Percentile:119.162000\n",
      "\n",
      "-----------------------------\n",
      "\n",
      "-----------------------------\n",
      "\n",
      "percentile values distribution for Q043\n",
      "\n",
      "50th Percentile:124.225000\n",
      "\n",
      "90th Percentile:368.752000\n",
      "\n",
      "99th Percentile:900.801000\n",
      "\n",
      "25th Percentile:120.504000\n",
      "\n",
      "75th Percentile:202.311000\n",
      "\n",
      "20th Percentile:124.225000\n",
      "\n",
      "40th Percentile:368.752000\n",
      "\n",
      "60th Percentile:900.801000\n",
      "\n",
      "80th Percentile:120.504000\n",
      "\n",
      "-----------------------------\n",
      "\n"
     ]
    }
   ],
   "source": [
    "print_percentiles(x1, 'Q046')\n",
    "print_percentiles(x3, 'Q050')\n",
    "#print_percentiles(x5, 'h24')\n",
    "print_percentiles(x, 'Q043')"
   ]
  },
  {
   "cell_type": "code",
   "execution_count": 67,
   "metadata": {},
   "outputs": [
    {
     "name": "stderr",
     "output_type": "stream",
     "text": [
      "findfont: Font family ['monospace'] not found. Falling back to DejaVu Sans.\n"
     ]
    },
    {
     "data": {
      "image/png": "[encoded data removed]",
      "text/plain": [
       "<Figure size 900x600 with 1 Axes>"
      ]
     },
     "metadata": {
      "needs_background": "light"
     },
     "output_type": "display_data"
    }
   ],
   "source": [
    "data = {'$\\\\bf{Protocol}$': ['Q043', 'Q046', 'Q050'],\n",
    "\t'$\\\\bf{25th}$': [\"{:.2f}\".format(x.Percentile(25)), \"{:.2f}\".format(x1.Percentile(25)), \"{:.2f}\".format(x3.Percentile(25))],\n",
    "\t'$\\\\bf{50th}$': [\"{:.2f}\".format(x.Percentile(50)), \"{:.2f}\".format(x1.Percentile(50)), \"{:.2f}\".format(x3.Percentile(50))],\n",
    "\t'$\\\\bf{75th}$': [\"{:.2f}\".format(x.Percentile(75)), \"{:.2f}\".format(x1.Percentile(75)), \"{:.2f}\".format(x3.Percentile(75))],\n",
    "\t'$\\\\bf{80th}$': [\"{:.2f}\".format(x.Percentile(80)), \"{:.2f}\".format(x1.Percentile(80)), \"{:.2f}\".format(x3.Percentile(80))],\n",
    "    '$\\\\bf{90th}$': [\"{:.2f}\".format(x.Percentile(90)), \"{:.2f}\".format(x1.Percentile(90)), \"{:.2f}\".format(x3.Percentile(90))]\n",
    "        }   \n",
    "\n",
    "df_percentile = pd.DataFrame(data)\n",
    "\n",
    "fig, ax = plt.subplots(dpi=150)\n",
    "\n",
    " #hide axes\n",
    "fig.patch.set_visible(False)\n",
    "ax.axis('off')\n",
    "ax.axis('tight')\n",
    "\n",
    "ax.table(cellText=df_percentile.values, colLabels=df_percentile.columns, loc='center', cellLoc='center')\n",
    "\n",
    "#fig.tight_layout()\n",
    "plt.savefig('./AWS/CapeTown/ASN/total_download_time_ipv4_asn15169_percentile.png', format='png', bbox_inches='tight')"
   ]
  },
  {
   "cell_type": "code",
   "execution_count": 68,
   "metadata": {},
   "outputs": [
    {
     "data": {
      "image/png": "[encoded data removed]",
      "text/plain": [
       "<Figure size 720x216 with 2 Axes>"
      ]
     },
     "metadata": {
      "needs_background": "light"
     },
     "output_type": "display_data"
    }
   ],
   "source": [
    "fig = plt.figure(figsize = (10,3))\n",
    "plt.rcParams['font.size'] = 12\n",
    "ax = plt.gca()\n",
    "yticks = np.arange(0,1.1,0.2)\n",
    "\n",
    "#Q043\n",
    "plt.plot(x.xs, x.ps, marker='s', linewidth=0.3, markersize=5, fillstyle='none', color = 'orange')\n",
    "#Q046\n",
    "plt.plot(x1.xs, x1.ps, marker='s', linewidth=0.3, markersize=5, fillstyle='none', color = 'red')\n",
    "#Q050\n",
    "plt.plot(x3.xs, x3.ps, marker='s', linewidth=0.3, markersize=5, fillstyle='none', color = 'green')\n",
    "#h24\n",
    "#plt.plot(x5.xs, x5.ps, marker='s', linewidth=0.3, markersize=5, fillstyle='none', color = 'blue')\n",
    "\n",
    "\n",
    "\n",
    "ax = fig.axes[0]\n",
    "ax.grid(False)\n",
    "ax.set_yticks(yticks)\n",
    "ax.set_ylim([0,1.05])\n",
    "#ax.set_xlim([20,1000])\n",
    "ax.set_xscale('log')\n",
    "ax.set_xlabel('TotalDownloadTime', fontsize=12)\n",
    "ax.set_ylabel('CDF', fontsize=12)\n",
    "\n",
    "plt.legend(['Q043', 'Q046', 'Q050'] , fontsize=11, loc='best')\n",
    "\n",
    "ax.spines['right'].set_color('none')\n",
    "ax.spines['top'].set_color('none')\n",
    "ax.yaxis.set_ticks_position('left')\n",
    "ax.xaxis.set_ticks_position('bottom')\n",
    "ax.spines['bottom'].set_position(('axes', -0.05))\n",
    "ax.spines['left'].set_position(('axes', -0.05))\n",
    "\n",
    "ax3 = ax.twinx()\n",
    "ax3.spines['right'].set_color('none')\n",
    "ax3.spines['top'].set_color('none')\n",
    "ax3.spines['left'].set_color('none')\n",
    "ax3.spines['bottom'].set_color('none')\n",
    "ax3.yaxis.set_ticks_position('none')\n",
    "plt.setp(ax3.get_yticklabels(), visible=False)\n",
    "\n",
    "plt.title('Total Download Time', fontsize=12, y=1.05)\n",
    "plt.savefig('./AWS/CapeTown/ASN/total_download_time_ipv4_asn15169.png', format='png', bbox_inches='tight')\n"
   ]
  },
  {
   "cell_type": "code",
   "execution_count": 69,
   "metadata": {},
   "outputs": [],
   "source": [
    "#Edgecast\n",
    "quic44 = quic15133.loc[t['Protocol'] == 'Q046']\n",
    "quic43 = quic15133.loc[t['Protocol'] == 'Q043']\n",
    "quic39 = quic15133.loc[t['Protocol'] == 'Q050']\n",
    "quic35 = quic15133.loc[t['Protocol'] == 'FF000018']"
   ]
  },
  {
   "cell_type": "code",
   "execution_count": 70,
   "metadata": {},
   "outputs": [],
   "source": [
    "x = Cdf.MakeCdfFromList(quic43['ConnectionEstablishmentTime'].values)\n",
    "x1 =Cdf.MakeCdfFromList(quic46['ConnectionEstablishmentTime'].values)\n",
    "x3 = Cdf.MakeCdfFromList(quic50['ConnectionEstablishmentTime'].values)\n",
    "x5 = Cdf.MakeCdfFromList(quich24['ConnectionEstablishmentTime'].values)"
   ]
  },
  {
   "cell_type": "code",
   "execution_count": 71,
   "metadata": {},
   "outputs": [
    {
     "name": "stdout",
     "output_type": "stream",
     "text": [
      "-----------------------------\n",
      "\n",
      "percentile values distribution for Q046\n",
      "\n",
      "50th Percentile:80.015000\n",
      "\n",
      "90th Percentile:118.407000\n",
      "\n",
      "99th Percentile:803.320000\n",
      "\n",
      "25th Percentile:77.840000\n",
      "\n",
      "75th Percentile:81.769000\n",
      "\n",
      "20th Percentile:80.015000\n",
      "\n",
      "40th Percentile:118.407000\n",
      "\n",
      "60th Percentile:803.320000\n",
      "\n",
      "80th Percentile:77.840000\n",
      "\n",
      "-----------------------------\n",
      "\n",
      "-----------------------------\n",
      "\n",
      "percentile values distribution for Q050\n",
      "\n",
      "50th Percentile:80.080000\n",
      "\n",
      "90th Percentile:119.589000\n",
      "\n",
      "99th Percentile:806.957000\n",
      "\n",
      "25th Percentile:77.817000\n",
      "\n",
      "75th Percentile:81.981000\n",
      "\n",
      "20th Percentile:80.080000\n",
      "\n",
      "40th Percentile:119.589000\n",
      "\n",
      "60th Percentile:806.957000\n",
      "\n",
      "80th Percentile:77.817000\n",
      "\n",
      "-----------------------------\n",
      "\n",
      "-----------------------------\n",
      "\n",
      "percentile values distribution for Q043\n",
      "\n",
      "50th Percentile:43.427000\n",
      "\n",
      "90th Percentile:122.252000\n",
      "\n",
      "99th Percentile:887.333000\n",
      "\n",
      "25th Percentile:40.322000\n",
      "\n",
      "75th Percentile:47.821000\n",
      "\n",
      "20th Percentile:43.427000\n",
      "\n",
      "40th Percentile:122.252000\n",
      "\n",
      "60th Percentile:887.333000\n",
      "\n",
      "80th Percentile:40.322000\n",
      "\n",
      "-----------------------------\n",
      "\n"
     ]
    }
   ],
   "source": [
    "print_percentiles(x1, 'Q046')\n",
    "print_percentiles(x3, 'Q050')\n",
    "#print_percentiles(x5, 'h24')\n",
    "print_percentiles(x, 'Q043')"
   ]
  },
  {
   "cell_type": "code",
   "execution_count": 72,
   "metadata": {},
   "outputs": [
    {
     "name": "stderr",
     "output_type": "stream",
     "text": [
      "findfont: Font family ['monospace'] not found. Falling back to DejaVu Sans.\n"
     ]
    },
    {
     "data": {
      "image/png": "[encoded data removed]",
      "text/plain": [
       "<Figure size 900x600 with 1 Axes>"
      ]
     },
     "metadata": {
      "needs_background": "light"
     },
     "output_type": "display_data"
    }
   ],
   "source": [
    "data = {'$\\\\bf{Protocol}$': ['Q043', 'Q046', 'Q050'],\n",
    "\t'$\\\\bf{25th}$': [\"{:.2f}\".format(x.Percentile(25)), \"{:.2f}\".format(x1.Percentile(25)), \"{:.2f}\".format(x3.Percentile(25))],\n",
    "\t'$\\\\bf{50th}$': [\"{:.2f}\".format(x.Percentile(50)), \"{:.2f}\".format(x1.Percentile(50)), \"{:.2f}\".format(x3.Percentile(50))],\n",
    "\t'$\\\\bf{75th}$': [\"{:.2f}\".format(x.Percentile(75)), \"{:.2f}\".format(x1.Percentile(75)), \"{:.2f}\".format(x3.Percentile(75))],\n",
    "\t'$\\\\bf{80th}$': [\"{:.2f}\".format(x.Percentile(80)), \"{:.2f}\".format(x1.Percentile(80)), \"{:.2f}\".format(x3.Percentile(80))],\n",
    "    '$\\\\bf{90th}$': [\"{:.2f}\".format(x.Percentile(90)), \"{:.2f}\".format(x1.Percentile(90)), \"{:.2f}\".format(x3.Percentile(90))]\n",
    "        }   \n",
    "\n",
    "df_percentile = pd.DataFrame(data)\n",
    "\n",
    "fig, ax = plt.subplots(dpi=150)\n",
    "\n",
    " #hide axes\n",
    "fig.patch.set_visible(False)\n",
    "ax.axis('off')\n",
    "ax.axis('tight')\n",
    "\n",
    "ax.table(cellText=df_percentile.values, colLabels=df_percentile.columns, loc='center', cellLoc='center')\n",
    "\n",
    "#fig.tight_layout()\n",
    "plt.savefig('./AWS/CapeTown/ASN/handshake_times_ipv4_asn15133_percentile.png', format='png', bbox_inches='tight')"
   ]
  },
  {
   "cell_type": "code",
   "execution_count": 73,
   "metadata": {},
   "outputs": [
    {
     "data": {
      "image/png": "[encoded data removed]",
      "text/plain": [
       "<Figure size 720x216 with 2 Axes>"
      ]
     },
     "metadata": {
      "needs_background": "light"
     },
     "output_type": "display_data"
    }
   ],
   "source": [
    "fig = plt.figure(figsize = (10,3))\n",
    "plt.rcParams['font.size'] = 12\n",
    "ax = plt.gca()\n",
    "yticks = np.arange(0,1.1,0.2)\n",
    "\n",
    "#Q043\n",
    "plt.plot(x.xs, x.ps, marker='s', linewidth=0.3, markersize=5, fillstyle='none', color = 'orange')\n",
    "#Q046\n",
    "plt.plot(x1.xs, x1.ps, marker='s', linewidth=0.3, markersize=5, fillstyle='none', color = 'red')\n",
    "#Q050\n",
    "plt.plot(x3.xs, x3.ps, marker='s', linewidth=0.3, markersize=5, fillstyle='none', color = 'green')\n",
    "#h24\n",
    "#plt.plot(x5.xs, x5.ps, marker='s', linewidth=0.3, markersize=5, fillstyle='none', color = 'blue')\n",
    "\n",
    "\n",
    "\n",
    "ax = fig.axes[0]\n",
    "ax.grid(False)\n",
    "ax.set_yticks(yticks)\n",
    "ax.set_ylim([0,1.05])\n",
    "#ax.set_xlim([20,100])\n",
    "ax.set_xscale('log')\n",
    "ax.set_xlabel('latency (x-axis is cut)', fontsize=12)\n",
    "ax.set_ylabel('CDF', fontsize=12)\n",
    "\n",
    "plt.legend(['Q043', 'Q046', 'Q050'] , fontsize=11, loc='best')\n",
    "\n",
    "ax.spines['right'].set_color('none')\n",
    "ax.spines['top'].set_color('none')\n",
    "ax.yaxis.set_ticks_position('left')\n",
    "ax.xaxis.set_ticks_position('bottom')\n",
    "ax.spines['bottom'].set_position(('axes', -0.05))\n",
    "ax.spines['left'].set_position(('axes', -0.05))\n",
    "\n",
    "ax3 = ax.twinx()\n",
    "ax3.spines['right'].set_color('none')\n",
    "ax3.spines['top'].set_color('none')\n",
    "ax3.spines['left'].set_color('none')\n",
    "ax3.spines['bottom'].set_color('none')\n",
    "ax3.yaxis.set_ticks_position('none')\n",
    "plt.setp(ax3.get_yticklabels(), visible=False)\n",
    "\n",
    "plt.title('Handshake Times with IPv4', fontsize=12, y=1.05)\n",
    "plt.savefig('./AWS/CapeTown/ASN/handshake_times_ipv4_asn15133.png', format='png', bbox_inches='tight')\n"
   ]
  },
  {
   "cell_type": "code",
   "execution_count": 74,
   "metadata": {},
   "outputs": [],
   "source": [
    "x = Cdf.MakeCdfFromList(quic43['TTFB'].values)\n",
    "x1 =Cdf.MakeCdfFromList(quic46['TTFB'].values)\n",
    "x3 = Cdf.MakeCdfFromList(quic50['TTFB'].values)\n",
    "x5 = Cdf.MakeCdfFromList(quich24['TTFB'].values)"
   ]
  },
  {
   "cell_type": "code",
   "execution_count": 75,
   "metadata": {
    "lines_to_next_cell": 2
   },
   "outputs": [
    {
     "name": "stdout",
     "output_type": "stream",
     "text": [
      "-----------------------------\n",
      "\n",
      "percentile values distribution for Q046\n",
      "\n",
      "50th Percentile:122.178000\n",
      "\n",
      "90th Percentile:275.119000\n",
      "\n",
      "99th Percentile:879.154000\n",
      "\n",
      "25th Percentile:118.696000\n",
      "\n",
      "75th Percentile:163.444000\n",
      "\n",
      "20th Percentile:122.178000\n",
      "\n",
      "40th Percentile:275.119000\n",
      "\n",
      "60th Percentile:879.154000\n",
      "\n",
      "80th Percentile:118.696000\n",
      "\n",
      "-----------------------------\n",
      "\n",
      "-----------------------------\n",
      "\n",
      "percentile values distribution for Q050\n",
      "\n",
      "50th Percentile:122.129000\n",
      "\n",
      "90th Percentile:273.664000\n",
      "\n",
      "99th Percentile:874.677000\n",
      "\n",
      "25th Percentile:118.642000\n",
      "\n",
      "75th Percentile:162.997000\n",
      "\n",
      "20th Percentile:122.129000\n",
      "\n",
      "40th Percentile:273.664000\n",
      "\n",
      "60th Percentile:874.677000\n",
      "\n",
      "80th Percentile:118.642000\n",
      "\n",
      "-----------------------------\n",
      "\n",
      "-----------------------------\n",
      "\n",
      "percentile values distribution for Q043\n",
      "\n",
      "50th Percentile:165.508000\n",
      "\n",
      "90th Percentile:706.210000\n",
      "\n",
      "99th Percentile:964.562000\n",
      "\n",
      "25th Percentile:81.900000\n",
      "\n",
      "75th Percentile:435.780000\n",
      "\n",
      "20th Percentile:165.508000\n",
      "\n",
      "40th Percentile:706.210000\n",
      "\n",
      "60th Percentile:964.562000\n",
      "\n",
      "80th Percentile:81.900000\n",
      "\n",
      "-----------------------------\n",
      "\n"
     ]
    }
   ],
   "source": [
    "print_percentiles(x1, 'Q046')\n",
    "print_percentiles(x3, 'Q050')\n",
    "#print_percentiles(x5, 'h24')\n",
    "print_percentiles(x, 'Q043')"
   ]
  },
  {
   "cell_type": "code",
   "execution_count": 76,
   "metadata": {},
   "outputs": [
    {
     "name": "stderr",
     "output_type": "stream",
     "text": [
      "findfont: Font family ['monospace'] not found. Falling back to DejaVu Sans.\n"
     ]
    },
    {
     "data": {
      "image/png": "[encoded data removed]",
      "text/plain": [
       "<Figure size 900x600 with 1 Axes>"
      ]
     },
     "metadata": {
      "needs_background": "light"
     },
     "output_type": "display_data"
    }
   ],
   "source": [
    "data = {'$\\\\bf{Protocol}$': ['Q043', 'Q046', 'Q050'],\n",
    "\t'$\\\\bf{25th}$': [\"{:.2f}\".format(x.Percentile(25)), \"{:.2f}\".format(x1.Percentile(25)), \"{:.2f}\".format(x3.Percentile(25))],\n",
    "\t'$\\\\bf{50th}$': [\"{:.2f}\".format(x.Percentile(50)), \"{:.2f}\".format(x1.Percentile(50)), \"{:.2f}\".format(x3.Percentile(50))],\n",
    "\t'$\\\\bf{75th}$': [\"{:.2f}\".format(x.Percentile(75)), \"{:.2f}\".format(x1.Percentile(75)), \"{:.2f}\".format(x3.Percentile(75))],\n",
    "\t'$\\\\bf{80th}$': [\"{:.2f}\".format(x.Percentile(80)), \"{:.2f}\".format(x1.Percentile(80)), \"{:.2f}\".format(x3.Percentile(80))],\n",
    "    '$\\\\bf{90th}$': [\"{:.2f}\".format(x.Percentile(90)), \"{:.2f}\".format(x1.Percentile(90)), \"{:.2f}\".format(x3.Percentile(90))]\n",
    "        }   \n",
    "\n",
    "df_percentile = pd.DataFrame(data)\n",
    "\n",
    "fig, ax = plt.subplots(dpi=150)\n",
    "\n",
    " #hide axes\n",
    "fig.patch.set_visible(False)\n",
    "ax.axis('off')\n",
    "ax.axis('tight')\n",
    "\n",
    "ax.table(cellText=df_percentile.values, colLabels=df_percentile.columns, loc='center', cellLoc='center')\n",
    "\n",
    "#fig.tight_layout()\n",
    "plt.savefig('./AWS/CapeTown/ASN/TTFB_ipv4_asn15133_percentile.png', format='png', bbox_inches='tight')\n"
   ]
  },
  {
   "cell_type": "code",
   "execution_count": 77,
   "metadata": {},
   "outputs": [
    {
     "data": {
      "image/png": "[encoded data removed]",
      "text/plain": [
       "<Figure size 720x216 with 2 Axes>"
      ]
     },
     "metadata": {
      "needs_background": "light"
     },
     "output_type": "display_data"
    }
   ],
   "source": [
    "fig = plt.figure(figsize = (10,3))\n",
    "plt.rcParams['font.size'] = 12\n",
    "ax = plt.gca()\n",
    "yticks = np.arange(0,1.1,0.2)\n",
    "\n",
    "#Q043\n",
    "plt.plot(x.xs, x.ps, marker='s', linewidth=0.3, markersize=5, fillstyle='none', color = 'orange')\n",
    "#Q046\n",
    "plt.plot(x1.xs, x1.ps, marker='s', linewidth=0.3, markersize=5, fillstyle='none', color = 'red')\n",
    "#Q050\n",
    "plt.plot(x3.xs, x3.ps, marker='s', linewidth=0.3, markersize=5, fillstyle='none', color = 'green')\n",
    "#h4\n",
    "plt.plot(x5.xs, x5.ps, marker='s', linewidth=0.3, markersize=5, fillstyle='none', color = 'blue')\n",
    "\n",
    "\n",
    "\n",
    "ax = fig.axes[0]\n",
    "ax.grid(False)\n",
    "ax.set_yticks(yticks)\n",
    "ax.set_ylim([0,1.05])\n",
    "#ax.set_xlim([20,1000])\n",
    "ax.set_xscale('log')\n",
    "ax.set_xlabel('TTFB', fontsize=12)\n",
    "ax.set_ylabel('CDF', fontsize=12)\n",
    "\n",
    "plt.legend(['Q043', 'Q046', 'Q050'] , fontsize=11, loc='best')\n",
    "\n",
    "ax.spines['right'].set_color('none')\n",
    "ax.spines['top'].set_color('none')\n",
    "ax.yaxis.set_ticks_position('left')\n",
    "ax.xaxis.set_ticks_position('bottom')\n",
    "ax.spines['bottom'].set_position(('axes', -0.05))\n",
    "ax.spines['left'].set_position(('axes', -0.05))\n",
    "\n",
    "ax3 = ax.twinx()\n",
    "ax3.spines['right'].set_color('none')\n",
    "ax3.spines['top'].set_color('none')\n",
    "ax3.spines['left'].set_color('none')\n",
    "ax3.spines['bottom'].set_color('none')\n",
    "ax3.yaxis.set_ticks_position('none')\n",
    "plt.setp(ax3.get_yticklabels(), visible=False)\n",
    "\n",
    "plt.title('TTFB', fontsize=12, y=1.05)\n",
    "plt.savefig('./AWS/CapeTown/ASN/TTFB_ipv4_asn15133.png', format='png', bbox_inches='tight')\n"
   ]
  },
  {
   "cell_type": "code",
   "execution_count": 78,
   "metadata": {},
   "outputs": [],
   "source": [
    "x = Cdf.MakeCdfFromList(quic43['TotalDownloadTime'].values)\n",
    "x1 =Cdf.MakeCdfFromList(quic46['TotalDownloadTime'].values)\n",
    "x3 = Cdf.MakeCdfFromList(quic50['TotalDownloadTime'].values)\n",
    "x5 = Cdf.MakeCdfFromList(quich24['TotalDownloadTime'].values)"
   ]
  },
  {
   "cell_type": "code",
   "execution_count": 79,
   "metadata": {
    "lines_to_next_cell": 2
   },
   "outputs": [
    {
     "name": "stdout",
     "output_type": "stream",
     "text": [
      "-----------------------------\n",
      "\n",
      "percentile values distribution for Q046\n",
      "\n",
      "50th Percentile:122.888000\n",
      "\n",
      "90th Percentile:368.654000\n",
      "\n",
      "99th Percentile:898.423000\n",
      "\n",
      "25th Percentile:119.078000\n",
      "\n",
      "75th Percentile:165.890000\n",
      "\n",
      "20th Percentile:122.888000\n",
      "\n",
      "40th Percentile:368.654000\n",
      "\n",
      "60th Percentile:898.423000\n",
      "\n",
      "80th Percentile:119.078000\n",
      "\n",
      "-----------------------------\n",
      "\n",
      "-----------------------------\n",
      "\n",
      "percentile values distribution for Q050\n",
      "\n",
      "50th Percentile:122.877000\n",
      "\n",
      "90th Percentile:369.046000\n",
      "\n",
      "99th Percentile:900.407000\n",
      "\n",
      "25th Percentile:119.162000\n",
      "\n",
      "75th Percentile:166.071000\n",
      "\n",
      "20th Percentile:122.877000\n",
      "\n",
      "40th Percentile:369.046000\n",
      "\n",
      "60th Percentile:900.407000\n",
      "\n",
      "80th Percentile:119.162000\n",
      "\n",
      "-----------------------------\n",
      "\n",
      "-----------------------------\n",
      "\n",
      "percentile values distribution for Q043\n",
      "\n",
      "50th Percentile:287.686000\n",
      "\n",
      "90th Percentile:795.216000\n",
      "\n",
      "99th Percentile:980.867000\n",
      "\n",
      "25th Percentile:125.896000\n",
      "\n",
      "75th Percentile:552.708000\n",
      "\n",
      "20th Percentile:287.686000\n",
      "\n",
      "40th Percentile:795.216000\n",
      "\n",
      "60th Percentile:980.867000\n",
      "\n",
      "80th Percentile:125.896000\n",
      "\n",
      "-----------------------------\n",
      "\n"
     ]
    }
   ],
   "source": [
    "print_percentiles(x1, 'Q046')\n",
    "print_percentiles(x3, 'Q050')\n",
    "#print_percentiles(x5, 'h24')\n",
    "print_percentiles(x, 'Q043')"
   ]
  },
  {
   "cell_type": "code",
   "execution_count": 80,
   "metadata": {},
   "outputs": [
    {
     "name": "stderr",
     "output_type": "stream",
     "text": [
      "findfont: Font family ['monospace'] not found. Falling back to DejaVu Sans.\n"
     ]
    },
    {
     "data": {
      "image/png": "[encoded data removed]",
      "text/plain": [
       "<Figure size 900x600 with 1 Axes>"
      ]
     },
     "metadata": {
      "needs_background": "light"
     },
     "output_type": "display_data"
    }
   ],
   "source": [
    "data = {'$\\\\bf{Protocol}$': ['Q043', 'Q046', 'Q050'],\n",
    "\t'$\\\\bf{25th}$': [\"{:.2f}\".format(x.Percentile(25)), \"{:.2f}\".format(x1.Percentile(25)), \"{:.2f}\".format(x3.Percentile(25))],\n",
    "\t'$\\\\bf{50th}$': [\"{:.2f}\".format(x.Percentile(50)), \"{:.2f}\".format(x1.Percentile(50)), \"{:.2f}\".format(x3.Percentile(50))],\n",
    "\t'$\\\\bf{75th}$': [\"{:.2f}\".format(x.Percentile(75)), \"{:.2f}\".format(x1.Percentile(75)), \"{:.2f}\".format(x3.Percentile(75))],\n",
    "\t'$\\\\bf{80th}$': [\"{:.2f}\".format(x.Percentile(80)), \"{:.2f}\".format(x1.Percentile(80)), \"{:.2f}\".format(x3.Percentile(80))],\n",
    "    '$\\\\bf{90th}$': [\"{:.2f}\".format(x.Percentile(90)), \"{:.2f}\".format(x1.Percentile(90)), \"{:.2f}\".format(x3.Percentile(90))]\n",
    "        }   \n",
    "\n",
    "df_percentile = pd.DataFrame(data)\n",
    "\n",
    "fig, ax = plt.subplots(dpi=150)\n",
    "\n",
    " #hide axes\n",
    "fig.patch.set_visible(False)\n",
    "ax.axis('off')\n",
    "ax.axis('tight')\n",
    "\n",
    "ax.table(cellText=df_percentile.values, colLabels=df_percentile.columns, loc='center', cellLoc='center')\n",
    "\n",
    "#fig.tight_layout()\n",
    "plt.savefig('./AWS/CapeTown/ASN/Total_Download_time_ipv4_asn15133_percentile.png', format='png', bbox_inches='tight')"
   ]
  },
  {
   "cell_type": "code",
   "execution_count": 81,
   "metadata": {},
   "outputs": [
    {
     "data": {
      "image/png": "[encoded data removed]",
      "text/plain": [
       "<Figure size 720x216 with 2 Axes>"
      ]
     },
     "metadata": {
      "needs_background": "light"
     },
     "output_type": "display_data"
    }
   ],
   "source": [
    "fig = plt.figure(figsize = (10,3))\n",
    "plt.rcParams['font.size'] = 12\n",
    "ax = plt.gca()\n",
    "yticks = np.arange(0,1.1,0.2)\n",
    "\n",
    "#Q043\n",
    "plt.plot(x.xs, x.ps, marker='s', linewidth=0.3, markersize=5, fillstyle='none', color = 'orange')\n",
    "#Q046\n",
    "plt.plot(x1.xs, x1.ps, marker='s', linewidth=0.3, markersize=5, fillstyle='none', color = 'red')\n",
    "#Q050\n",
    "plt.plot(x3.xs, x3.ps, marker='s', linewidth=0.3, markersize=5, fillstyle='none', color = 'green')\n",
    "#h24\n",
    "#plt.plot(x5.xs, x5.ps, marker='s', linewidth=0.3, markersize=5, fillstyle='none', color = 'blue')\n",
    "\n",
    "\n",
    "\n",
    "ax = fig.axes[0]\n",
    "ax.grid(False)\n",
    "ax.set_yticks(yticks)\n",
    "ax.set_ylim([0,1.05])\n",
    "#ax.set_xlim([20,1000])\n",
    "ax.set_xscale('log')\n",
    "ax.set_xlabel('TotalDownloadTime', fontsize=12)\n",
    "ax.set_ylabel('CDF', fontsize=12)\n",
    "\n",
    "plt.legend(['Q043', 'Q046', 'Q050'] , fontsize=11, loc='best')\n",
    "\n",
    "ax.spines['right'].set_color('none')\n",
    "ax.spines['top'].set_color('none')\n",
    "ax.yaxis.set_ticks_position('left')\n",
    "ax.xaxis.set_ticks_position('bottom')\n",
    "ax.spines['bottom'].set_position(('axes', -0.05))\n",
    "ax.spines['left'].set_position(('axes', -0.05))\n",
    "\n",
    "ax3 = ax.twinx()\n",
    "ax3.spines['right'].set_color('none')\n",
    "ax3.spines['top'].set_color('none')\n",
    "ax3.spines['left'].set_color('none')\n",
    "ax3.spines['bottom'].set_color('none')\n",
    "ax3.yaxis.set_ticks_position('none')\n",
    "plt.setp(ax3.get_yticklabels(), visible=False)\n",
    "\n",
    "plt.title('TotalDownloadTime', fontsize=12, y=1.05)\n",
    "plt.savefig('./AWS/CapeTown/ASN/Total_Download_time_ipv4_asn15133.png', format='png', bbox_inches='tight')\n",
    "\n"
   ]
  },
  {
   "cell_type": "code",
   "execution_count": 82,
   "metadata": {},
   "outputs": [],
   "source": [
    "# IHCRU - Internet-Hosting Ltd\n",
    "quic203226 = quic4.loc[t['ASNo'] == 203226]\n",
    "quic46 = quic203226.loc[t['Protocol'] == 'Q046']\n",
    "quic43 = quic203226.loc[t['Protocol'] == 'Q043']\n",
    "quic50 = quic203226.loc[t['Protocol'] == 'Q050']\n",
    "quich24 = quic203226.loc[t['Protocol'] == 'FF000018']"
   ]
  },
  {
   "cell_type": "code",
   "execution_count": 83,
   "metadata": {},
   "outputs": [],
   "source": [
    "x = Cdf.MakeCdfFromList(quic43['ConnectionEstablishmentTime'].values)\n",
    "x1 =Cdf.MakeCdfFromList(quic46['ConnectionEstablishmentTime'].values)\n",
    "x3 = Cdf.MakeCdfFromList(quic50['ConnectionEstablishmentTime'].values)\n",
    "x5 = Cdf.MakeCdfFromList(quich24['ConnectionEstablishmentTime'].values)"
   ]
  },
  {
   "cell_type": "markdown",
   "metadata": {
    "lines_to_next_cell": 2
   },
   "source": [
    "print_percentiles(x1, 'Q046')\n",
    "print_percentiles(x3, 'Q050')\n",
    "print_percentiles(x5, 'h24')\n",
    "print_percentiles(x, 'Q043')"
   ]
  },
  {
   "cell_type": "code",
   "execution_count": 84,
   "metadata": {},
   "outputs": [
    {
     "name": "stderr",
     "output_type": "stream",
     "text": [
      "findfont: Font family ['monospace'] not found. Falling back to DejaVu Sans.\n"
     ]
    },
    {
     "data": {
      "image/png": "[encoded data removed]",
      "text/plain": [
       "<Figure size 900x600 with 1 Axes>"
      ]
     },
     "metadata": {
      "needs_background": "light"
     },
     "output_type": "display_data"
    }
   ],
   "source": [
    "data = {'$\\\\bf{Protocol}$': ['Q043', 'Q046', 'Q050'],\n",
    "\t'$\\\\bf{25th}$': [\"{:.2f}\".format(x.Percentile(25)), \"{:.2f}\".format(x1.Percentile(25)), \"{:.2f}\".format(x3.Percentile(25))],\n",
    "\t'$\\\\bf{50th}$': [\"{:.2f}\".format(x.Percentile(50)), \"{:.2f}\".format(x1.Percentile(50)), \"{:.2f}\".format(x3.Percentile(50))],\n",
    "\t'$\\\\bf{75th}$': [\"{:.2f}\".format(x.Percentile(75)), \"{:.2f}\".format(x1.Percentile(75)), \"{:.2f}\".format(x3.Percentile(75))],\n",
    "\t'$\\\\bf{80th}$': [\"{:.2f}\".format(x.Percentile(80)), \"{:.2f}\".format(x1.Percentile(80)), \"{:.2f}\".format(x3.Percentile(80))],\n",
    "    '$\\\\bf{90th}$': [\"{:.2f}\".format(x.Percentile(90)), \"{:.2f}\".format(x1.Percentile(90)), \"{:.2f}\".format(x3.Percentile(90))]\n",
    "        }    \n",
    "\n",
    "df_percentile = pd.DataFrame(data)\n",
    "\n",
    "fig, ax = plt.subplots(dpi=150)\n",
    "\n",
    " #hide axes\n",
    "fig.patch.set_visible(False)\n",
    "ax.axis('off')\n",
    "ax.axis('tight')\n",
    "\n",
    "ax.table(cellText=df_percentile.values, colLabels=df_percentile.columns, loc='center', cellLoc='center')\n",
    "\n",
    "#fig.tight_layout()\n",
    "plt.savefig('./AWS/CapeTown/ASN/handshake_times_ipv4_asn203226_percentile.png', format='png', bbox_inches='tight')"
   ]
  },
  {
   "cell_type": "code",
   "execution_count": 85,
   "metadata": {},
   "outputs": [
    {
     "data": {
      "image/png": "[encoded data removed]",
      "text/plain": [
       "<Figure size 720x216 with 2 Axes>"
      ]
     },
     "metadata": {
      "needs_background": "light"
     },
     "output_type": "display_data"
    }
   ],
   "source": [
    "fig = plt.figure(figsize = (10,3))\n",
    "plt.rcParams['font.size'] = 12\n",
    "ax = plt.gca()\n",
    "yticks = np.arange(0,1.1,0.2)\n",
    "\n",
    "#Q043\n",
    "plt.plot(x.xs, x.ps, marker='s', linewidth=0.3, markersize=5, fillstyle='none', color = 'orange')\n",
    "#Q046\n",
    "plt.plot(x1.xs, x1.ps, marker='s', linewidth=0.3, markersize=5, fillstyle='none', color = 'red')\n",
    "#Q050\n",
    "plt.plot(x3.xs, x3.ps, marker='s', linewidth=0.3, markersize=5, fillstyle='none', color = 'green')\n",
    "#h24\n",
    "#plt.plot(x5.xs, x5.ps, marker='s', linewidth=0.3, markersize=5, fillstyle='none', color = 'blue')\n",
    "\n",
    "\n",
    "\n",
    "ax = fig.axes[0]\n",
    "ax.grid(False)\n",
    "ax.set_yticks(yticks)\n",
    "ax.set_ylim([0,1.05])\n",
    "#ax.set_xlim([20,100])\n",
    "ax.set_xscale('log')\n",
    "ax.set_xlabel('latency (x-axis is cut)', fontsize=12)\n",
    "ax.set_ylabel('CDF', fontsize=12)\n",
    "\n",
    "plt.legend(['Q043', 'Q046', 'Q050'] , fontsize=11, loc='best')\n",
    "\n",
    "ax.spines['right'].set_color('none')\n",
    "ax.spines['top'].set_color('none')\n",
    "ax.yaxis.set_ticks_position('left')\n",
    "ax.xaxis.set_ticks_position('bottom')\n",
    "ax.spines['bottom'].set_position(('axes', -0.05))\n",
    "ax.spines['left'].set_position(('axes', -0.05))\n",
    "\n",
    "ax3 = ax.twinx()\n",
    "ax3.spines['right'].set_color('none')\n",
    "ax3.spines['top'].set_color('none')\n",
    "ax3.spines['left'].set_color('none')\n",
    "ax3.spines['bottom'].set_color('none')\n",
    "ax3.yaxis.set_ticks_position('none')\n",
    "plt.setp(ax3.get_yticklabels(), visible=False)\n",
    "\n",
    "plt.title('Handshake Times with IPv4', fontsize=12, y=1.05)\n",
    "plt.savefig('./AWS/CapeTown/ASN/handshake_times_ipv4_asn203226.png', format='png', bbox_inches='tight')\n"
   ]
  },
  {
   "cell_type": "code",
   "execution_count": 86,
   "metadata": {},
   "outputs": [],
   "source": [
    "x = Cdf.MakeCdfFromList(quic43['TTFB'].values)\n",
    "x1 =Cdf.MakeCdfFromList(quic46['TTFB'].values)\n",
    "x3 = Cdf.MakeCdfFromList(quic50['TTFB'].values)\n",
    "x5 = Cdf.MakeCdfFromList(quich24['TTFB'].values)"
   ]
  },
  {
   "cell_type": "code",
   "execution_count": 87,
   "metadata": {
    "lines_to_next_cell": 2
   },
   "outputs": [
    {
     "name": "stdout",
     "output_type": "stream",
     "text": [
      "-----------------------------\n",
      "\n",
      "percentile values distribution for Q046\n",
      "\n",
      "50th Percentile:245.194000\n",
      "\n",
      "90th Percentile:328.445000\n",
      "\n",
      "99th Percentile:681.938000\n",
      "\n",
      "25th Percentile:242.025000\n",
      "\n",
      "75th Percentile:268.142000\n",
      "\n",
      "20th Percentile:245.194000\n",
      "\n",
      "40th Percentile:328.445000\n",
      "\n",
      "60th Percentile:681.938000\n",
      "\n",
      "80th Percentile:242.025000\n",
      "\n",
      "-----------------------------\n",
      "\n",
      "-----------------------------\n",
      "\n",
      "percentile values distribution for Q050\n",
      "\n",
      "50th Percentile:245.556000\n",
      "\n",
      "90th Percentile:368.092000\n",
      "\n",
      "99th Percentile:694.484000\n",
      "\n",
      "25th Percentile:241.200000\n",
      "\n",
      "75th Percentile:280.028000\n",
      "\n",
      "20th Percentile:245.556000\n",
      "\n",
      "40th Percentile:368.092000\n",
      "\n",
      "60th Percentile:694.484000\n",
      "\n",
      "80th Percentile:241.200000\n",
      "\n",
      "-----------------------------\n",
      "\n",
      "-----------------------------\n",
      "\n",
      "percentile values distribution for Q043\n",
      "\n",
      "50th Percentile:246.945000\n",
      "\n",
      "90th Percentile:571.564000\n",
      "\n",
      "99th Percentile:985.238000\n",
      "\n",
      "25th Percentile:242.832000\n",
      "\n",
      "75th Percentile:283.250000\n",
      "\n",
      "20th Percentile:246.945000\n",
      "\n",
      "40th Percentile:571.564000\n",
      "\n",
      "60th Percentile:985.238000\n",
      "\n",
      "80th Percentile:242.832000\n",
      "\n",
      "-----------------------------\n",
      "\n"
     ]
    }
   ],
   "source": [
    "print_percentiles(x1, 'Q046')\n",
    "print_percentiles(x3, 'Q050')\n",
    "#print_percentiles(x5, 'h24')\n",
    "print_percentiles(x, 'Q043')"
   ]
  },
  {
   "cell_type": "code",
   "execution_count": 88,
   "metadata": {},
   "outputs": [
    {
     "name": "stderr",
     "output_type": "stream",
     "text": [
      "findfont: Font family ['monospace'] not found. Falling back to DejaVu Sans.\n"
     ]
    },
    {
     "data": {
      "image/png": "[encoded data removed]",
      "text/plain": [
       "<Figure size 900x600 with 1 Axes>"
      ]
     },
     "metadata": {
      "needs_background": "light"
     },
     "output_type": "display_data"
    }
   ],
   "source": [
    "data = {'$\\\\bf{Protocol}$': ['Q043', 'Q046', 'Q050'],\n",
    "\t'$\\\\bf{25th}$': [\"{:.2f}\".format(x.Percentile(25)), \"{:.2f}\".format(x1.Percentile(25)), \"{:.2f}\".format(x3.Percentile(25))],\n",
    "\t'$\\\\bf{50th}$': [\"{:.2f}\".format(x.Percentile(50)), \"{:.2f}\".format(x1.Percentile(50)), \"{:.2f}\".format(x3.Percentile(50))],\n",
    "\t'$\\\\bf{75th}$': [\"{:.2f}\".format(x.Percentile(75)), \"{:.2f}\".format(x1.Percentile(75)), \"{:.2f}\".format(x3.Percentile(75))],\n",
    "\t'$\\\\bf{80th}$': [\"{:.2f}\".format(x.Percentile(80)), \"{:.2f}\".format(x1.Percentile(80)), \"{:.2f}\".format(x3.Percentile(80))],\n",
    "    '$\\\\bf{90th}$': [\"{:.2f}\".format(x.Percentile(90)), \"{:.2f}\".format(x1.Percentile(90)), \"{:.2f}\".format(x3.Percentile(90))]\n",
    "        }    \n",
    "\n",
    "df_percentile = pd.DataFrame(data)\n",
    "\n",
    "fig, ax = plt.subplots(dpi=150)\n",
    "\n",
    " #hide axes\n",
    "fig.patch.set_visible(False)\n",
    "ax.axis('off')\n",
    "ax.axis('tight')\n",
    "\n",
    "ax.table(cellText=df_percentile.values, colLabels=df_percentile.columns, loc='center', cellLoc='center')\n",
    "\n",
    "#fig.tight_layout()\n",
    "plt.savefig('./AWS/CapeTown/ASN/ttfb_ipv4_asn203226_percentile.png', format='png', bbox_inches='tight')"
   ]
  },
  {
   "cell_type": "code",
   "execution_count": 89,
   "metadata": {},
   "outputs": [
    {
     "data": {
      "image/png": "[encoded data removed]",
      "text/plain": [
       "<Figure size 720x216 with 2 Axes>"
      ]
     },
     "metadata": {
      "needs_background": "light"
     },
     "output_type": "display_data"
    }
   ],
   "source": [
    "fig = plt.figure(figsize = (10,3))\n",
    "plt.rcParams['font.size'] = 12\n",
    "ax = plt.gca()\n",
    "yticks = np.arange(0,1.1,0.2)\n",
    "\n",
    "#Q043\n",
    "plt.plot(x.xs, x.ps, marker='s', linewidth=0.3, markersize=5, fillstyle='none', color = 'orange')\n",
    "#Q046\n",
    "plt.plot(x1.xs, x1.ps, marker='s', linewidth=0.3, markersize=5, fillstyle='none', color = 'red')\n",
    "#Q050\n",
    "plt.plot(x3.xs, x3.ps, marker='s', linewidth=0.3, markersize=5, fillstyle='none', color = 'green')\n",
    "#Q=h24\n",
    "#plt.plot(x5.xs, x5.ps, marker='s', linewidth=0.3, markersize=5, fillstyle='none', color = 'blue')\n",
    "\n",
    "\n",
    "\n",
    "ax = fig.axes[0]\n",
    "ax.grid(False)\n",
    "ax.set_yticks(yticks)\n",
    "ax.set_ylim([0,1.05])\n",
    "#ax.set_xlim([20,600])\n",
    "ax.set_xscale('log')\n",
    "ax.set_xlabel('TTFB', fontsize=12)\n",
    "ax.set_ylabel('CDF', fontsize=12)\n",
    "\n",
    "plt.legend(['Q043', 'Q046', 'Q050'] , fontsize=11, loc='best')\n",
    "\n",
    "ax.spines['right'].set_color('none')\n",
    "ax.spines['top'].set_color('none')\n",
    "ax.yaxis.set_ticks_position('left')\n",
    "ax.xaxis.set_ticks_position('bottom')\n",
    "ax.spines['bottom'].set_position(('axes', -0.05))\n",
    "ax.spines['left'].set_position(('axes', -0.05))\n",
    "\n",
    "ax3 = ax.twinx()\n",
    "ax3.spines['right'].set_color('none')\n",
    "ax3.spines['top'].set_color('none')\n",
    "ax3.spines['left'].set_color('none')\n",
    "ax3.spines['bottom'].set_color('none')\n",
    "ax3.yaxis.set_ticks_position('none')\n",
    "plt.setp(ax3.get_yticklabels(), visible=False)\n",
    "\n",
    "plt.title('TTFB', fontsize=12, y=1.05)\n",
    "plt.savefig('./AWS/CapeTown/ASN/ttfb_ipv4_asn203226.png', format='png', bbox_inches='tight')\n"
   ]
  },
  {
   "cell_type": "code",
   "execution_count": 90,
   "metadata": {},
   "outputs": [],
   "source": [
    "x = Cdf.MakeCdfFromList(quic43['TotalDownloadTime'].values)\n",
    "x1 =Cdf.MakeCdfFromList(quic46['TotalDownloadTime'].values)\n",
    "x3 = Cdf.MakeCdfFromList(quic50['TotalDownloadTime'].values)\n",
    "x5 = Cdf.MakeCdfFromList(quich24['TotalDownloadTime'].values)"
   ]
  },
  {
   "cell_type": "code",
   "execution_count": 91,
   "metadata": {
    "lines_to_next_cell": 2
   },
   "outputs": [
    {
     "name": "stdout",
     "output_type": "stream",
     "text": [
      "-----------------------------\n",
      "\n",
      "percentile values distribution for Q046\n",
      "\n",
      "50th Percentile:245.526000\n",
      "\n",
      "90th Percentile:329.499000\n",
      "\n",
      "99th Percentile:702.135000\n",
      "\n",
      "25th Percentile:242.303000\n",
      "\n",
      "75th Percentile:282.171000\n",
      "\n",
      "20th Percentile:245.526000\n",
      "\n",
      "40th Percentile:329.499000\n",
      "\n",
      "60th Percentile:702.135000\n",
      "\n",
      "80th Percentile:242.303000\n",
      "\n",
      "-----------------------------\n",
      "\n",
      "-----------------------------\n",
      "\n",
      "percentile values distribution for Q050\n",
      "\n",
      "50th Percentile:245.702000\n",
      "\n",
      "90th Percentile:368.328000\n",
      "\n",
      "99th Percentile:768.456000\n",
      "\n",
      "25th Percentile:241.387000\n",
      "\n",
      "75th Percentile:281.582000\n",
      "\n",
      "20th Percentile:245.702000\n",
      "\n",
      "40th Percentile:368.328000\n",
      "\n",
      "60th Percentile:768.456000\n",
      "\n",
      "80th Percentile:241.387000\n",
      "\n",
      "-----------------------------\n",
      "\n",
      "-----------------------------\n",
      "\n",
      "percentile values distribution for Q043\n",
      "\n",
      "50th Percentile:247.131000\n",
      "\n",
      "90th Percentile:629.935000\n",
      "\n",
      "99th Percentile:985.309000\n",
      "\n",
      "25th Percentile:242.906000\n",
      "\n",
      "75th Percentile:284.238000\n",
      "\n",
      "20th Percentile:247.131000\n",
      "\n",
      "40th Percentile:629.935000\n",
      "\n",
      "60th Percentile:985.309000\n",
      "\n",
      "80th Percentile:242.906000\n",
      "\n",
      "-----------------------------\n",
      "\n"
     ]
    }
   ],
   "source": [
    "print_percentiles(x1, 'Q046')\n",
    "print_percentiles(x3, 'Q050')\n",
    "#print_percentiles(x5, 'h24')\n",
    "print_percentiles(x, 'Q043')"
   ]
  },
  {
   "cell_type": "code",
   "execution_count": 92,
   "metadata": {},
   "outputs": [
    {
     "name": "stderr",
     "output_type": "stream",
     "text": [
      "findfont: Font family ['monospace'] not found. Falling back to DejaVu Sans.\n"
     ]
    },
    {
     "data": {
      "image/png": "[encoded data removed]",
      "text/plain": [
       "<Figure size 900x600 with 1 Axes>"
      ]
     },
     "metadata": {
      "needs_background": "light"
     },
     "output_type": "display_data"
    }
   ],
   "source": [
    "data = {'$\\\\bf{Protocol}$': ['Q043', 'Q046', 'Q050'],\n",
    "\t'$\\\\bf{25th}$': [\"{:.2f}\".format(x.Percentile(25)), \"{:.2f}\".format(x1.Percentile(25)), \"{:.2f}\".format(x3.Percentile(25))],\n",
    "\t'$\\\\bf{50th}$': [\"{:.2f}\".format(x.Percentile(50)), \"{:.2f}\".format(x1.Percentile(50)), \"{:.2f}\".format(x3.Percentile(50))],\n",
    "\t'$\\\\bf{75th}$': [\"{:.2f}\".format(x.Percentile(75)), \"{:.2f}\".format(x1.Percentile(75)), \"{:.2f}\".format(x3.Percentile(75))],\n",
    "\t'$\\\\bf{80th}$': [\"{:.2f}\".format(x.Percentile(80)), \"{:.2f}\".format(x1.Percentile(80)), \"{:.2f}\".format(x3.Percentile(80))],\n",
    "    '$\\\\bf{90th}$': [\"{:.2f}\".format(x.Percentile(90)), \"{:.2f}\".format(x1.Percentile(90)), \"{:.2f}\".format(x3.Percentile(90))]\n",
    "        }    \n",
    "\n",
    "df_percentile = pd.DataFrame(data)\n",
    "\n",
    "fig, ax = plt.subplots(dpi=150)\n",
    "\n",
    " #hide axes\n",
    "fig.patch.set_visible(False)\n",
    "ax.axis('off')\n",
    "ax.axis('tight')\n",
    "\n",
    "ax.table(cellText=df_percentile.values, colLabels=df_percentile.columns, loc='center', cellLoc='center')\n",
    "\n",
    "#fig.tight_layout()\n",
    "plt.savefig('./AWS/CapeTown/ASN/totaldownloadtime_ipv4_asn203226_percentile.png', format='png', bbox_inches='tight')\n"
   ]
  },
  {
   "cell_type": "code",
   "execution_count": 93,
   "metadata": {},
   "outputs": [
    {
     "data": {
      "image/png": "[encoded data removed]",
      "text/plain": [
       "<Figure size 720x216 with 2 Axes>"
      ]
     },
     "metadata": {
      "needs_background": "light"
     },
     "output_type": "display_data"
    }
   ],
   "source": [
    "fig = plt.figure(figsize = (10,3))\n",
    "plt.rcParams['font.size'] = 12\n",
    "ax = plt.gca()\n",
    "yticks = np.arange(0,1.1,0.2)\n",
    "\n",
    "#Q043\n",
    "plt.plot(x.xs, x.ps, marker='s', linewidth=0.3, markersize=5, fillstyle='none', color = 'orange')\n",
    "#Q046\n",
    "plt.plot(x1.xs, x1.ps, marker='s', linewidth=0.3, markersize=5, fillstyle='none', color = 'red')\n",
    "#Q050\n",
    "plt.plot(x3.xs, x3.ps, marker='s', linewidth=0.3, markersize=5, fillstyle='none', color = 'green')\n",
    "#h24\n",
    "#plt.plot(x5.xs, x5.ps, marker='s', linewidth=0.3, markersize=5, fillstyle='none', color = 'blue')\n",
    "\n",
    "\n",
    "\n",
    "ax = fig.axes[0]\n",
    "ax.grid(False)\n",
    "ax.set_yticks(yticks)\n",
    "ax.set_ylim([0,1.05])\n",
    "#ax.set_xlim([20,600])\n",
    "ax.set_xscale('log')\n",
    "ax.set_xlabel('TotalDownloadTime', fontsize=12)\n",
    "ax.set_ylabel('CDF', fontsize=12)\n",
    "\n",
    "plt.legend(['Q043', 'Q046', 'Q050'] , fontsize=11, loc='best')\n",
    "\n",
    "ax.spines['right'].set_color('none')\n",
    "ax.spines['top'].set_color('none')\n",
    "ax.yaxis.set_ticks_position('left')\n",
    "ax.xaxis.set_ticks_position('bottom')\n",
    "ax.spines['bottom'].set_position(('axes', -0.05))\n",
    "ax.spines['left'].set_position(('axes', -0.05))\n",
    "\n",
    "ax3 = ax.twinx()\n",
    "ax3.spines['right'].set_color('none')\n",
    "ax3.spines['top'].set_color('none')\n",
    "ax3.spines['left'].set_color('none')\n",
    "ax3.spines['bottom'].set_color('none')\n",
    "ax3.yaxis.set_ticks_position('none')\n",
    "plt.setp(ax3.get_yticklabels(), visible=False)\n",
    "\n",
    "plt.title('TotalDownloadTime', fontsize=12, y=1.05)\n",
    "plt.savefig('./AWS/CapeTown/ASN/totaldownloadtime_ipv4_asn203226.png', format='png', bbox_inches='tight')\n"
   ]
  },
  {
   "cell_type": "code",
   "execution_count": null,
   "metadata": {},
   "outputs": [],
   "source": []
  },
  {
   "cell_type": "code",
   "execution_count": null,
   "metadata": {},
   "outputs": [],
   "source": []
  },
  {
   "cell_type": "code",
   "execution_count": null,
   "metadata": {},
   "outputs": [],
   "source": []
  },
  {
   "cell_type": "code",
   "execution_count": null,
   "metadata": {},
   "outputs": [],
   "source": []
  },
  {
   "cell_type": "code",
   "execution_count": null,
   "metadata": {},
   "outputs": [],
   "source": []
  },
  {
   "cell_type": "code",
   "execution_count": null,
   "metadata": {},
   "outputs": [],
   "source": []
  }
 ],
 "metadata": {
  "jupytext": {
   "formats": "ipynb,py:light",
   "text_representation": {
    "extension": ".py",
    "format_name": "light",
    "format_version": "1.3",
    "jupytext_version": "0.8.4"
   }
  },
  "kernelspec": {
   "display_name": "Python 3",
   "language": "python",
   "name": "python3"
  },
  "language_info": {
   "codemirror_mode": {
    "name": "ipython",
    "version": 3
   },
   "file_extension": ".py",
   "mimetype": "text/x-python",
   "name": "python",
   "nbconvert_exporter": "python",
   "pygments_lexer": "ipython3",
   "version": "3.7.5"
  }
 },
 "nbformat": 4,
 "nbformat_minor": 2
}
