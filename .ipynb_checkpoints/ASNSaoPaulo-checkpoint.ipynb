{
 "cells": [
  {
   "cell_type": "code",
   "execution_count": 1,
   "metadata": {},
   "outputs": [],
   "source": [
    "import sqlite3\n",
    "import pandas as pd\n",
    "import numpy as np\n",
    "import matplotlib.pyplot as plt\n",
    "import time\n",
    "import datetime\n",
    "import filterbyip as fbi\n",
    "import Cdf\n",
    "import Pmf"
   ]
  },
  {
   "cell_type": "code",
   "execution_count": 2,
   "metadata": {},
   "outputs": [],
   "source": [
    "def write_percentiles(filename, c):\n",
    "\twith open(filename, 'w') as f:\n",
    "\t\tf.write('values; percentile\\n')\n",
    "\t\tfor x, y in zip(c.xs, c.ps):\n",
    "\t\t\tf.write('%.2f, %.2f\\n'%(x, y))"
   ]
  },
  {
   "cell_type": "code",
   "execution_count": 3,
   "metadata": {},
   "outputs": [],
   "source": [
    "def print_percentiles(c, name):\n",
    "\tprint('-----------------------------\\n')\n",
    "\tprint('percentile values distribution for %s\\n' % name)\n",
    "\n",
    "\tprint('50th Percentile:%f\\n' % c.Percentile(50))\n",
    "\tprint('90th Percentile:%f\\n' % c.Percentile(90))\n",
    "\tprint('99th Percentile:%f\\n' % c.Percentile(99))\n",
    "\tprint('25th Percentile:%f\\n' % c.Percentile(25))\n",
    "\tprint('75th Percentile:%f\\n' % c.Percentile(75))\n",
    "\tprint('20th Percentile:%f\\n' % c.Percentile(50))\n",
    "\tprint('40th Percentile:%f\\n' % c.Percentile(90))\n",
    "\tprint('60th Percentile:%f\\n' % c.Percentile(99))\n",
    "\tprint('80th Percentile:%f\\n' % c.Percentile(25))\n",
    "\n",
    "\tprint('-----------------------------\\n')"
   ]
  },
  {
   "cell_type": "code",
   "execution_count": 4,
   "metadata": {},
   "outputs": [
    {
     "name": "stdout",
     "output_type": "stream",
     "text": [
      "Populating the interactive namespace from numpy and matplotlib\n"
     ]
    }
   ],
   "source": [
    "import warnings\n",
    "warnings.filterwarnings('ignore')\n",
    "\n",
    "%pylab inline"
   ]
  },
  {
   "cell_type": "code",
   "execution_count": 5,
   "metadata": {},
   "outputs": [
    {
     "data": {
      "text/html": [
       "<style>body {\n",
       "    margin: 0;\n",
       "    font-family: Helvetica;\n",
       "}\n",
       "table.dataframe {\n",
       "    border-collapse: collapse;\n",
       "    border: none;\n",
       "}\n",
       "table.dataframe tr {\n",
       "    border: none;\n",
       "}\n",
       "table.dataframe td, table.dataframe th {\n",
       "    margin: 0;\n",
       "    border: 1px solid white;\n",
       "    padding-left: 0.25em;\n",
       "    padding-right: 0.25em;\n",
       "}\n",
       "table.dataframe th:not(:empty) {\n",
       "    background-color: #fec;\n",
       "    text-align: left;\n",
       "    font-weight: normal;\n",
       "}\n",
       "table.dataframe tr:nth-child(2) th:empty {\n",
       "    border-left: none;\n",
       "    border-right: 1px dashed #888;\n",
       "}\n",
       "table.dataframe td {\n",
       "    border: 2px solid #ccf;\n",
       "    background-color: #f4f4ff;\n",
       "}\n",
       "h3 {\n",
       "    color: white;\n",
       "    background-color: black;\n",
       "    padding: 0.5em;\n",
       "}\n",
       "\n",
       ".CodeMirror {\n",
       "    font-family: 'Consolas';\n",
       "}\n",
       "\n",
       "div.cell.code_cell {\n",
       "    font-family: 'Consolas';\n",
       "}\n",
       "\n",
       "div.output_area pre {\n",
       "    font-family: 'Consolas';\n",
       "}\n",
       "</style>"
      ],
      "text/plain": [
       "<IPython.core.display.HTML object>"
      ]
     },
     "execution_count": 5,
     "metadata": {},
     "output_type": "execute_result"
    }
   ],
   "source": [
    "from IPython.core.display import HTML\n",
    "css = open('style-table.css').read() + open('style-notebook.css').read()\n",
    "HTML('<style>{}</style>'.format(css))"
   ]
  },
  {
   "cell_type": "code",
   "execution_count": 6,
   "metadata": {},
   "outputs": [],
   "source": [
    "quic_data = \"./AWS_results/SaoPaulo/data/output_quic.csv\""
   ]
  },
  {
   "cell_type": "code",
   "execution_count": 7,
   "metadata": {},
   "outputs": [],
   "source": [
    "tcol_names = ['TimeOfMeasurement', 'Url', 'Path', 'Ip', 'Port', 'DNSTime', 'ConnectionEstablishmentTime', 'TTFB', 'TotalDownloadTime', 'HttpResponse', 'Protocol']\n",
    "as_names = ['Url', 'Ip', 'ASNo','ASName','Lat','Lon'] "
   ]
  },
  {
   "cell_type": "code",
   "execution_count": 8,
   "metadata": {},
   "outputs": [],
   "source": [
    "t = pd.read_csv(quic_data,';', names=tcol_names, header=None)"
   ]
  },
  {
   "cell_type": "code",
   "execution_count": 9,
   "metadata": {},
   "outputs": [],
   "source": [
    "t = t.dropna()"
   ]
  },
  {
   "cell_type": "code",
   "execution_count": 10,
   "metadata": {},
   "outputs": [],
   "source": [
    "asndata = \"./data/pi-1/quic_perf/asinfo.csv\""
   ]
  },
  {
   "cell_type": "code",
   "execution_count": 11,
   "metadata": {},
   "outputs": [
    {
     "data": {
      "text/html": [
       "<div>\n",
       "<style scoped>\n",
       "    .dataframe tbody tr th:only-of-type {\n",
       "        vertical-align: middle;\n",
       "    }\n",
       "\n",
       "    .dataframe tbody tr th {\n",
       "        vertical-align: top;\n",
       "    }\n",
       "\n",
       "    .dataframe thead th {\n",
       "        text-align: right;\n",
       "    }\n",
       "</style>\n",
       "<table border=\"1\" class=\"dataframe\">\n",
       "  <thead>\n",
       "    <tr style=\"text-align: right;\">\n",
       "      <th></th>\n",
       "      <th>Url</th>\n",
       "      <th>Ip</th>\n",
       "      <th>ASNo</th>\n",
       "      <th>ASName</th>\n",
       "      <th>Lat</th>\n",
       "      <th>Lon</th>\n",
       "    </tr>\n",
       "  </thead>\n",
       "  <tbody>\n",
       "    <tr>\n",
       "      <th>0</th>\n",
       "      <td>www.google.com</td>\n",
       "      <td>172.217.19.68</td>\n",
       "      <td>15169.0</td>\n",
       "      <td>GOOGLE - Google LLC</td>\n",
       "      <td>-122.0574</td>\n",
       "      <td>37.4192</td>\n",
       "    </tr>\n",
       "    <tr>\n",
       "      <th>1</th>\n",
       "      <td>www.youtube.com</td>\n",
       "      <td>172.217.22.78</td>\n",
       "      <td>15169.0</td>\n",
       "      <td>GOOGLE - Google LLC</td>\n",
       "      <td>-122.0574</td>\n",
       "      <td>37.4192</td>\n",
       "    </tr>\n",
       "    <tr>\n",
       "      <th>2</th>\n",
       "      <td>www.google.co.in</td>\n",
       "      <td>216.58.213.227</td>\n",
       "      <td>15169.0</td>\n",
       "      <td>GOOGLE - Google LLC</td>\n",
       "      <td>-122.0574</td>\n",
       "      <td>37.4192</td>\n",
       "    </tr>\n",
       "    <tr>\n",
       "      <th>3</th>\n",
       "      <td>www.blogspot.com</td>\n",
       "      <td>172.217.18.9</td>\n",
       "      <td>15169.0</td>\n",
       "      <td>GOOGLE - Google LLC</td>\n",
       "      <td>-122.0574</td>\n",
       "      <td>37.4192</td>\n",
       "    </tr>\n",
       "    <tr>\n",
       "      <th>4</th>\n",
       "      <td>www.google.co.jp</td>\n",
       "      <td>216.58.210.3</td>\n",
       "      <td>15169.0</td>\n",
       "      <td>GOOGLE - Google LLC</td>\n",
       "      <td>-122.0574</td>\n",
       "      <td>37.4192</td>\n",
       "    </tr>\n",
       "    <tr>\n",
       "      <th>...</th>\n",
       "      <td>...</td>\n",
       "      <td>...</td>\n",
       "      <td>...</td>\n",
       "      <td>...</td>\n",
       "      <td>...</td>\n",
       "      <td>...</td>\n",
       "    </tr>\n",
       "    <tr>\n",
       "      <th>7428</th>\n",
       "      <td>www.holidaysequences.com</td>\n",
       "      <td>35.190.16.47</td>\n",
       "      <td>15169.0</td>\n",
       "      <td>GOOGLE - Google LLC</td>\n",
       "      <td>-122.0574</td>\n",
       "      <td>37.4192</td>\n",
       "    </tr>\n",
       "    <tr>\n",
       "      <th>7429</th>\n",
       "      <td>www.nickzammeti.com</td>\n",
       "      <td>130.211.40.170</td>\n",
       "      <td>15169.0</td>\n",
       "      <td>GOOGLE - Google LLC</td>\n",
       "      <td>4.35</td>\n",
       "      <td>50.8500</td>\n",
       "    </tr>\n",
       "    <tr>\n",
       "      <th>7430</th>\n",
       "      <td>www.redlink-network.org</td>\n",
       "      <td>35.190.35.16</td>\n",
       "      <td>15169.0</td>\n",
       "      <td>GOOGLE - Google LLC</td>\n",
       "      <td>-122.0574</td>\n",
       "      <td>37.4192</td>\n",
       "    </tr>\n",
       "    <tr>\n",
       "      <th>7431</th>\n",
       "      <td>www.reefh2o.com</td>\n",
       "      <td>35.190.16.47</td>\n",
       "      <td>15169.0</td>\n",
       "      <td>GOOGLE - Google LLC</td>\n",
       "      <td>-122.0574</td>\n",
       "      <td>37.4192</td>\n",
       "    </tr>\n",
       "    <tr>\n",
       "      <th>7432</th>\n",
       "      <td>www.vanbind.com</td>\n",
       "      <td>35.190.71.195</td>\n",
       "      <td>15169.0</td>\n",
       "      <td>GOOGLE - Google LLC</td>\n",
       "      <td>-122.0574</td>\n",
       "      <td>37.4192</td>\n",
       "    </tr>\n",
       "  </tbody>\n",
       "</table>\n",
       "<p>7433 rows × 6 columns</p>\n",
       "</div>"
      ],
      "text/plain": [
       "                           Url              Ip     ASNo               ASName  \\\n",
       "0               www.google.com   172.217.19.68  15169.0  GOOGLE - Google LLC   \n",
       "1              www.youtube.com   172.217.22.78  15169.0  GOOGLE - Google LLC   \n",
       "2             www.google.co.in  216.58.213.227  15169.0  GOOGLE - Google LLC   \n",
       "3             www.blogspot.com    172.217.18.9  15169.0  GOOGLE - Google LLC   \n",
       "4             www.google.co.jp    216.58.210.3  15169.0  GOOGLE - Google LLC   \n",
       "...                        ...             ...      ...                  ...   \n",
       "7428  www.holidaysequences.com    35.190.16.47  15169.0  GOOGLE - Google LLC   \n",
       "7429       www.nickzammeti.com  130.211.40.170  15169.0  GOOGLE - Google LLC   \n",
       "7430   www.redlink-network.org    35.190.35.16  15169.0  GOOGLE - Google LLC   \n",
       "7431           www.reefh2o.com    35.190.16.47  15169.0  GOOGLE - Google LLC   \n",
       "7432           www.vanbind.com   35.190.71.195  15169.0  GOOGLE - Google LLC   \n",
       "\n",
       "            Lat      Lon  \n",
       "0     -122.0574  37.4192  \n",
       "1     -122.0574  37.4192  \n",
       "2     -122.0574  37.4192  \n",
       "3     -122.0574  37.4192  \n",
       "4     -122.0574  37.4192  \n",
       "...         ...      ...  \n",
       "7428  -122.0574  37.4192  \n",
       "7429       4.35  50.8500  \n",
       "7430  -122.0574  37.4192  \n",
       "7431  -122.0574  37.4192  \n",
       "7432  -122.0574  37.4192  \n",
       "\n",
       "[7433 rows x 6 columns]"
      ]
     },
     "execution_count": 11,
     "metadata": {},
     "output_type": "execute_result"
    }
   ],
   "source": [
    "asn = pd.read_csv(asndata, ',', names=as_names, header=None)\n",
    "asn"
   ]
  },
  {
   "cell_type": "code",
   "execution_count": 12,
   "metadata": {},
   "outputs": [
    {
     "data": {
      "text/plain": [
       "ASNo     ASName                                              \n",
       "15169.0  GOOGLE - Google LLC                                     5040\n",
       "15133.0  EDGECAST - MCI Communications Services                   557\n",
       "7506.0   INTERQ GMO Internet                                      148\n",
       "24940.0  HETZNER-AS - Hetzner Online GmbH                         126\n",
       "16276.0  OVH - OVH SAS                                            102\n",
       "                                                                 ... \n",
       "30148.0  SUCURI-SEC - Sucuri                                        1\n",
       "48666.0  AS-MAROSNET - MAROSNET Telecommunication Company LLC       1\n",
       "30860.0  YURTEH-AS - Virtual Systems LLC                            1\n",
       "30933.0  PROTEXIA-EU - KDA WEB SERVICES LTD                         1\n",
       "37907.0  DIGIROCK DigiRock                                          1\n",
       "Length: 216, dtype: int64"
      ]
     },
     "execution_count": 12,
     "metadata": {},
     "output_type": "execute_result"
    }
   ],
   "source": [
    "#pd.set_option('display.max_rows', 500)\n",
    "asn.groupby(['ASNo', 'ASName']).size().sort_values(ascending=False)\n"
   ]
  },
  {
   "cell_type": "code",
   "execution_count": 13,
   "metadata": {
    "scrolled": true
   },
   "outputs": [
    {
     "data": {
      "text/plain": [
       "Url       7433\n",
       "Ip        7424\n",
       "ASNo      7424\n",
       "ASName    7424\n",
       "Lat       7424\n",
       "Lon       7424\n",
       "dtype: int64"
      ]
     },
     "execution_count": 13,
     "metadata": {},
     "output_type": "execute_result"
    }
   ],
   "source": [
    "asn.count()"
   ]
  },
  {
   "cell_type": "code",
   "execution_count": 14,
   "metadata": {},
   "outputs": [
    {
     "data": {
      "text/html": [
       "<div>\n",
       "<style scoped>\n",
       "    .dataframe tbody tr th:only-of-type {\n",
       "        vertical-align: middle;\n",
       "    }\n",
       "\n",
       "    .dataframe tbody tr th {\n",
       "        vertical-align: top;\n",
       "    }\n",
       "\n",
       "    .dataframe thead th {\n",
       "        text-align: right;\n",
       "    }\n",
       "</style>\n",
       "<table border=\"1\" class=\"dataframe\">\n",
       "  <thead>\n",
       "    <tr style=\"text-align: right;\">\n",
       "      <th></th>\n",
       "      <th>Url</th>\n",
       "      <th>Ip</th>\n",
       "      <th>ASNo</th>\n",
       "      <th>ASName</th>\n",
       "      <th>Lat</th>\n",
       "      <th>Lon</th>\n",
       "    </tr>\n",
       "  </thead>\n",
       "  <tbody>\n",
       "    <tr>\n",
       "      <th>0</th>\n",
       "      <td>www.google.com</td>\n",
       "      <td>172.217.19.68</td>\n",
       "      <td>15169.0</td>\n",
       "      <td>GOOGLE - Google LLC</td>\n",
       "      <td>-122.0574</td>\n",
       "      <td>37.4192</td>\n",
       "    </tr>\n",
       "    <tr>\n",
       "      <th>1</th>\n",
       "      <td>www.youtube.com</td>\n",
       "      <td>172.217.22.78</td>\n",
       "      <td>15169.0</td>\n",
       "      <td>GOOGLE - Google LLC</td>\n",
       "      <td>-122.0574</td>\n",
       "      <td>37.4192</td>\n",
       "    </tr>\n",
       "    <tr>\n",
       "      <th>2</th>\n",
       "      <td>www.google.co.in</td>\n",
       "      <td>216.58.213.227</td>\n",
       "      <td>15169.0</td>\n",
       "      <td>GOOGLE - Google LLC</td>\n",
       "      <td>-122.0574</td>\n",
       "      <td>37.4192</td>\n",
       "    </tr>\n",
       "    <tr>\n",
       "      <th>3</th>\n",
       "      <td>www.blogspot.com</td>\n",
       "      <td>172.217.18.9</td>\n",
       "      <td>15169.0</td>\n",
       "      <td>GOOGLE - Google LLC</td>\n",
       "      <td>-122.0574</td>\n",
       "      <td>37.4192</td>\n",
       "    </tr>\n",
       "    <tr>\n",
       "      <th>4</th>\n",
       "      <td>www.google.co.jp</td>\n",
       "      <td>216.58.210.3</td>\n",
       "      <td>15169.0</td>\n",
       "      <td>GOOGLE - Google LLC</td>\n",
       "      <td>-122.0574</td>\n",
       "      <td>37.4192</td>\n",
       "    </tr>\n",
       "  </tbody>\n",
       "</table>\n",
       "</div>"
      ],
      "text/plain": [
       "                Url              Ip     ASNo               ASName        Lat  \\\n",
       "0    www.google.com   172.217.19.68  15169.0  GOOGLE - Google LLC  -122.0574   \n",
       "1   www.youtube.com   172.217.22.78  15169.0  GOOGLE - Google LLC  -122.0574   \n",
       "2  www.google.co.in  216.58.213.227  15169.0  GOOGLE - Google LLC  -122.0574   \n",
       "3  www.blogspot.com    172.217.18.9  15169.0  GOOGLE - Google LLC  -122.0574   \n",
       "4  www.google.co.jp    216.58.210.3  15169.0  GOOGLE - Google LLC  -122.0574   \n",
       "\n",
       "       Lon  \n",
       "0  37.4192  \n",
       "1  37.4192  \n",
       "2  37.4192  \n",
       "3  37.4192  \n",
       "4  37.4192  "
      ]
     },
     "execution_count": 14,
     "metadata": {},
     "output_type": "execute_result"
    }
   ],
   "source": [
    "asn.head()"
   ]
  },
  {
   "cell_type": "code",
   "execution_count": 15,
   "metadata": {},
   "outputs": [],
   "source": [
    "t = t.join(asn.set_index('Url'), on='Url', rsuffix='_right')"
   ]
  },
  {
   "cell_type": "code",
   "execution_count": 16,
   "metadata": {},
   "outputs": [],
   "source": [
    "t = t.drop('Ip_right', axis=1)"
   ]
  },
  {
   "cell_type": "code",
   "execution_count": 17,
   "metadata": {},
   "outputs": [
    {
     "data": {
      "text/plain": [
       "TimeOfMeasurement              719206\n",
       "Url                            719206\n",
       "Path                           719206\n",
       "Ip                             719206\n",
       "Port                           719206\n",
       "DNSTime                        719206\n",
       "ConnectionEstablishmentTime    719206\n",
       "TTFB                           719206\n",
       "TotalDownloadTime              719206\n",
       "HttpResponse                   719206\n",
       "Protocol                       719206\n",
       "ASNo                           561180\n",
       "ASName                         561180\n",
       "Lat                            561180\n",
       "Lon                            561180\n",
       "dtype: int64"
      ]
     },
     "execution_count": 17,
     "metadata": {},
     "output_type": "execute_result"
    }
   ],
   "source": [
    "t.count()"
   ]
  },
  {
   "cell_type": "code",
   "execution_count": 18,
   "metadata": {},
   "outputs": [
    {
     "data": {
      "text/html": [
       "<div>\n",
       "<style scoped>\n",
       "    .dataframe tbody tr th:only-of-type {\n",
       "        vertical-align: middle;\n",
       "    }\n",
       "\n",
       "    .dataframe tbody tr th {\n",
       "        vertical-align: top;\n",
       "    }\n",
       "\n",
       "    .dataframe thead th {\n",
       "        text-align: right;\n",
       "    }\n",
       "</style>\n",
       "<table border=\"1\" class=\"dataframe\">\n",
       "  <thead>\n",
       "    <tr style=\"text-align: right;\">\n",
       "      <th></th>\n",
       "      <th>TimeOfMeasurement</th>\n",
       "      <th>Url</th>\n",
       "      <th>Path</th>\n",
       "      <th>Ip</th>\n",
       "      <th>Port</th>\n",
       "      <th>DNSTime</th>\n",
       "      <th>ConnectionEstablishmentTime</th>\n",
       "      <th>TTFB</th>\n",
       "      <th>TotalDownloadTime</th>\n",
       "      <th>HttpResponse</th>\n",
       "      <th>Protocol</th>\n",
       "      <th>ASNo</th>\n",
       "      <th>ASName</th>\n",
       "      <th>Lat</th>\n",
       "      <th>Lon</th>\n",
       "    </tr>\n",
       "  </thead>\n",
       "  <tbody>\n",
       "    <tr>\n",
       "      <th>0</th>\n",
       "      <td>1.589587e+09</td>\n",
       "      <td>www.0dayrox2.blogspot.com</td>\n",
       "      <td>/</td>\n",
       "      <td>216.58.202.1</td>\n",
       "      <td>443</td>\n",
       "      <td>165.824</td>\n",
       "      <td>94.965</td>\n",
       "      <td>295.938</td>\n",
       "      <td>458.868</td>\n",
       "      <td>404.0</td>\n",
       "      <td>Q043</td>\n",
       "      <td>15169.0</td>\n",
       "      <td>GOOGLE - Google LLC</td>\n",
       "      <td>-122.0574</td>\n",
       "      <td>37.4192</td>\n",
       "    </tr>\n",
       "    <tr>\n",
       "      <th>1</th>\n",
       "      <td>1.589587e+09</td>\n",
       "      <td>www.0dayrox2.blogspot.com</td>\n",
       "      <td>/</td>\n",
       "      <td>216.58.202.1</td>\n",
       "      <td>443</td>\n",
       "      <td>0.879</td>\n",
       "      <td>100.239</td>\n",
       "      <td>304.954</td>\n",
       "      <td>708.229</td>\n",
       "      <td>404.0</td>\n",
       "      <td>Q046</td>\n",
       "      <td>15169.0</td>\n",
       "      <td>GOOGLE - Google LLC</td>\n",
       "      <td>-122.0574</td>\n",
       "      <td>37.4192</td>\n",
       "    </tr>\n",
       "    <tr>\n",
       "      <th>2</th>\n",
       "      <td>1.589587e+09</td>\n",
       "      <td>www.0dayrox2.blogspot.com</td>\n",
       "      <td>/</td>\n",
       "      <td>216.58.202.1</td>\n",
       "      <td>443</td>\n",
       "      <td>0.894</td>\n",
       "      <td>100.598</td>\n",
       "      <td>313.368</td>\n",
       "      <td>715.168</td>\n",
       "      <td>404.0</td>\n",
       "      <td>Q050</td>\n",
       "      <td>15169.0</td>\n",
       "      <td>GOOGLE - Google LLC</td>\n",
       "      <td>-122.0574</td>\n",
       "      <td>37.4192</td>\n",
       "    </tr>\n",
       "    <tr>\n",
       "      <th>8</th>\n",
       "      <td>1.589587e+09</td>\n",
       "      <td>www.0dayrox.blogspot.com</td>\n",
       "      <td>/</td>\n",
       "      <td>216.58.202.1</td>\n",
       "      <td>443</td>\n",
       "      <td>163.712</td>\n",
       "      <td>97.075</td>\n",
       "      <td>292.238</td>\n",
       "      <td>454.798</td>\n",
       "      <td>404.0</td>\n",
       "      <td>Q043</td>\n",
       "      <td>15169.0</td>\n",
       "      <td>GOOGLE - Google LLC</td>\n",
       "      <td>-122.0574</td>\n",
       "      <td>37.4192</td>\n",
       "    </tr>\n",
       "    <tr>\n",
       "      <th>9</th>\n",
       "      <td>1.589587e+09</td>\n",
       "      <td>www.0dayrox.blogspot.com</td>\n",
       "      <td>/</td>\n",
       "      <td>216.58.202.1</td>\n",
       "      <td>443</td>\n",
       "      <td>0.874</td>\n",
       "      <td>94.907</td>\n",
       "      <td>294.142</td>\n",
       "      <td>697.891</td>\n",
       "      <td>404.0</td>\n",
       "      <td>Q046</td>\n",
       "      <td>15169.0</td>\n",
       "      <td>GOOGLE - Google LLC</td>\n",
       "      <td>-122.0574</td>\n",
       "      <td>37.4192</td>\n",
       "    </tr>\n",
       "  </tbody>\n",
       "</table>\n",
       "</div>"
      ],
      "text/plain": [
       "   TimeOfMeasurement                        Url Path            Ip Port  \\\n",
       "0       1.589587e+09  www.0dayrox2.blogspot.com    /  216.58.202.1  443   \n",
       "1       1.589587e+09  www.0dayrox2.blogspot.com    /  216.58.202.1  443   \n",
       "2       1.589587e+09  www.0dayrox2.blogspot.com    /  216.58.202.1  443   \n",
       "8       1.589587e+09   www.0dayrox.blogspot.com    /  216.58.202.1  443   \n",
       "9       1.589587e+09   www.0dayrox.blogspot.com    /  216.58.202.1  443   \n",
       "\n",
       "   DNSTime  ConnectionEstablishmentTime     TTFB  TotalDownloadTime  \\\n",
       "0  165.824                       94.965  295.938            458.868   \n",
       "1    0.879                      100.239  304.954            708.229   \n",
       "2    0.894                      100.598  313.368            715.168   \n",
       "8  163.712                       97.075  292.238            454.798   \n",
       "9    0.874                       94.907  294.142            697.891   \n",
       "\n",
       "   HttpResponse Protocol     ASNo               ASName        Lat      Lon  \n",
       "0         404.0     Q043  15169.0  GOOGLE - Google LLC  -122.0574  37.4192  \n",
       "1         404.0     Q046  15169.0  GOOGLE - Google LLC  -122.0574  37.4192  \n",
       "2         404.0     Q050  15169.0  GOOGLE - Google LLC  -122.0574  37.4192  \n",
       "8         404.0     Q043  15169.0  GOOGLE - Google LLC  -122.0574  37.4192  \n",
       "9         404.0     Q046  15169.0  GOOGLE - Google LLC  -122.0574  37.4192  "
      ]
     },
     "execution_count": 18,
     "metadata": {},
     "output_type": "execute_result"
    }
   ],
   "source": [
    "t.head()"
   ]
  },
  {
   "cell_type": "code",
   "execution_count": 19,
   "metadata": {},
   "outputs": [],
   "source": [
    "def timestamp2human(timestamp):\n",
    "    return datetime.datetime.fromtimestamp(int(timestamp)).strftime('%c')"
   ]
  },
  {
   "cell_type": "code",
   "execution_count": 20,
   "metadata": {},
   "outputs": [],
   "source": [
    "#t['TimeOfMeasurement'] = t['TimeOfMeasurement'].apply(timestamp2human)"
   ]
  },
  {
   "cell_type": "code",
   "execution_count": 21,
   "metadata": {},
   "outputs": [
    {
     "data": {
      "text/html": [
       "<div>\n",
       "<style scoped>\n",
       "    .dataframe tbody tr th:only-of-type {\n",
       "        vertical-align: middle;\n",
       "    }\n",
       "\n",
       "    .dataframe tbody tr th {\n",
       "        vertical-align: top;\n",
       "    }\n",
       "\n",
       "    .dataframe thead th {\n",
       "        text-align: right;\n",
       "    }\n",
       "</style>\n",
       "<table border=\"1\" class=\"dataframe\">\n",
       "  <thead>\n",
       "    <tr style=\"text-align: right;\">\n",
       "      <th></th>\n",
       "      <th>TimeOfMeasurement</th>\n",
       "      <th>Url</th>\n",
       "      <th>Path</th>\n",
       "      <th>Ip</th>\n",
       "      <th>Port</th>\n",
       "      <th>DNSTime</th>\n",
       "      <th>ConnectionEstablishmentTime</th>\n",
       "      <th>TTFB</th>\n",
       "      <th>TotalDownloadTime</th>\n",
       "      <th>HttpResponse</th>\n",
       "      <th>Protocol</th>\n",
       "      <th>ASNo</th>\n",
       "      <th>ASName</th>\n",
       "      <th>Lat</th>\n",
       "      <th>Lon</th>\n",
       "    </tr>\n",
       "  </thead>\n",
       "  <tbody>\n",
       "    <tr>\n",
       "      <th>0</th>\n",
       "      <td>1.589587e+09</td>\n",
       "      <td>www.0dayrox2.blogspot.com</td>\n",
       "      <td>/</td>\n",
       "      <td>216.58.202.1</td>\n",
       "      <td>443</td>\n",
       "      <td>165.824</td>\n",
       "      <td>94.965</td>\n",
       "      <td>295.938</td>\n",
       "      <td>458.868</td>\n",
       "      <td>404.0</td>\n",
       "      <td>Q043</td>\n",
       "      <td>15169.0</td>\n",
       "      <td>GOOGLE - Google LLC</td>\n",
       "      <td>-122.0574</td>\n",
       "      <td>37.4192</td>\n",
       "    </tr>\n",
       "    <tr>\n",
       "      <th>1</th>\n",
       "      <td>1.589587e+09</td>\n",
       "      <td>www.0dayrox2.blogspot.com</td>\n",
       "      <td>/</td>\n",
       "      <td>216.58.202.1</td>\n",
       "      <td>443</td>\n",
       "      <td>0.879</td>\n",
       "      <td>100.239</td>\n",
       "      <td>304.954</td>\n",
       "      <td>708.229</td>\n",
       "      <td>404.0</td>\n",
       "      <td>Q046</td>\n",
       "      <td>15169.0</td>\n",
       "      <td>GOOGLE - Google LLC</td>\n",
       "      <td>-122.0574</td>\n",
       "      <td>37.4192</td>\n",
       "    </tr>\n",
       "    <tr>\n",
       "      <th>2</th>\n",
       "      <td>1.589587e+09</td>\n",
       "      <td>www.0dayrox2.blogspot.com</td>\n",
       "      <td>/</td>\n",
       "      <td>216.58.202.1</td>\n",
       "      <td>443</td>\n",
       "      <td>0.894</td>\n",
       "      <td>100.598</td>\n",
       "      <td>313.368</td>\n",
       "      <td>715.168</td>\n",
       "      <td>404.0</td>\n",
       "      <td>Q050</td>\n",
       "      <td>15169.0</td>\n",
       "      <td>GOOGLE - Google LLC</td>\n",
       "      <td>-122.0574</td>\n",
       "      <td>37.4192</td>\n",
       "    </tr>\n",
       "    <tr>\n",
       "      <th>8</th>\n",
       "      <td>1.589587e+09</td>\n",
       "      <td>www.0dayrox.blogspot.com</td>\n",
       "      <td>/</td>\n",
       "      <td>216.58.202.1</td>\n",
       "      <td>443</td>\n",
       "      <td>163.712</td>\n",
       "      <td>97.075</td>\n",
       "      <td>292.238</td>\n",
       "      <td>454.798</td>\n",
       "      <td>404.0</td>\n",
       "      <td>Q043</td>\n",
       "      <td>15169.0</td>\n",
       "      <td>GOOGLE - Google LLC</td>\n",
       "      <td>-122.0574</td>\n",
       "      <td>37.4192</td>\n",
       "    </tr>\n",
       "    <tr>\n",
       "      <th>9</th>\n",
       "      <td>1.589587e+09</td>\n",
       "      <td>www.0dayrox.blogspot.com</td>\n",
       "      <td>/</td>\n",
       "      <td>216.58.202.1</td>\n",
       "      <td>443</td>\n",
       "      <td>0.874</td>\n",
       "      <td>94.907</td>\n",
       "      <td>294.142</td>\n",
       "      <td>697.891</td>\n",
       "      <td>404.0</td>\n",
       "      <td>Q046</td>\n",
       "      <td>15169.0</td>\n",
       "      <td>GOOGLE - Google LLC</td>\n",
       "      <td>-122.0574</td>\n",
       "      <td>37.4192</td>\n",
       "    </tr>\n",
       "  </tbody>\n",
       "</table>\n",
       "</div>"
      ],
      "text/plain": [
       "   TimeOfMeasurement                        Url Path            Ip Port  \\\n",
       "0       1.589587e+09  www.0dayrox2.blogspot.com    /  216.58.202.1  443   \n",
       "1       1.589587e+09  www.0dayrox2.blogspot.com    /  216.58.202.1  443   \n",
       "2       1.589587e+09  www.0dayrox2.blogspot.com    /  216.58.202.1  443   \n",
       "8       1.589587e+09   www.0dayrox.blogspot.com    /  216.58.202.1  443   \n",
       "9       1.589587e+09   www.0dayrox.blogspot.com    /  216.58.202.1  443   \n",
       "\n",
       "   DNSTime  ConnectionEstablishmentTime     TTFB  TotalDownloadTime  \\\n",
       "0  165.824                       94.965  295.938            458.868   \n",
       "1    0.879                      100.239  304.954            708.229   \n",
       "2    0.894                      100.598  313.368            715.168   \n",
       "8  163.712                       97.075  292.238            454.798   \n",
       "9    0.874                       94.907  294.142            697.891   \n",
       "\n",
       "   HttpResponse Protocol     ASNo               ASName        Lat      Lon  \n",
       "0         404.0     Q043  15169.0  GOOGLE - Google LLC  -122.0574  37.4192  \n",
       "1         404.0     Q046  15169.0  GOOGLE - Google LLC  -122.0574  37.4192  \n",
       "2         404.0     Q050  15169.0  GOOGLE - Google LLC  -122.0574  37.4192  \n",
       "8         404.0     Q043  15169.0  GOOGLE - Google LLC  -122.0574  37.4192  \n",
       "9         404.0     Q046  15169.0  GOOGLE - Google LLC  -122.0574  37.4192  "
      ]
     },
     "execution_count": 21,
     "metadata": {},
     "output_type": "execute_result"
    }
   ],
   "source": [
    "t.head()"
   ]
  },
  {
   "cell_type": "code",
   "execution_count": 22,
   "metadata": {},
   "outputs": [
    {
     "data": {
      "text/html": [
       "<div>\n",
       "<style scoped>\n",
       "    .dataframe tbody tr th:only-of-type {\n",
       "        vertical-align: middle;\n",
       "    }\n",
       "\n",
       "    .dataframe tbody tr th {\n",
       "        vertical-align: top;\n",
       "    }\n",
       "\n",
       "    .dataframe thead th {\n",
       "        text-align: right;\n",
       "    }\n",
       "</style>\n",
       "<table border=\"1\" class=\"dataframe\">\n",
       "  <thead>\n",
       "    <tr style=\"text-align: right;\">\n",
       "      <th></th>\n",
       "      <th>TimeOfMeasurement</th>\n",
       "      <th>Url</th>\n",
       "      <th>Path</th>\n",
       "      <th>Ip</th>\n",
       "      <th>Port</th>\n",
       "      <th>DNSTime</th>\n",
       "      <th>ConnectionEstablishmentTime</th>\n",
       "      <th>TTFB</th>\n",
       "      <th>TotalDownloadTime</th>\n",
       "      <th>HttpResponse</th>\n",
       "      <th>Protocol</th>\n",
       "      <th>ASNo</th>\n",
       "      <th>ASName</th>\n",
       "      <th>Lat</th>\n",
       "      <th>Lon</th>\n",
       "    </tr>\n",
       "  </thead>\n",
       "  <tbody>\n",
       "    <tr>\n",
       "      <th>2044629</th>\n",
       "      <td>1.589991e+09</td>\n",
       "      <td>www.vstrokax.net</td>\n",
       "      <td>/</td>\n",
       "      <td>208.88.226.236</td>\n",
       "      <td>443</td>\n",
       "      <td>2.102</td>\n",
       "      <td>367.459</td>\n",
       "      <td>527.913</td>\n",
       "      <td>527.983</td>\n",
       "      <td>301.0</td>\n",
       "      <td>Q050</td>\n",
       "      <td>35415.0</td>\n",
       "      <td>WEBZILLA - Webzilla B.V.</td>\n",
       "      <td>4.8995</td>\n",
       "      <td>52.3824</td>\n",
       "    </tr>\n",
       "    <tr>\n",
       "      <th>2044631</th>\n",
       "      <td>1.589991e+09</td>\n",
       "      <td>www.aabiertaalfonsoviii.blogspot.com</td>\n",
       "      <td>/</td>\n",
       "      <td>172.217.29.225</td>\n",
       "      <td>443</td>\n",
       "      <td>81.868</td>\n",
       "      <td>162.266</td>\n",
       "      <td>453.552</td>\n",
       "      <td>453.647</td>\n",
       "      <td>301.0</td>\n",
       "      <td>Q050</td>\n",
       "      <td>15169.0</td>\n",
       "      <td>GOOGLE - Google LLC</td>\n",
       "      <td>-122.0574</td>\n",
       "      <td>37.4192</td>\n",
       "    </tr>\n",
       "    <tr>\n",
       "      <th>2044632</th>\n",
       "      <td>1.589991e+09</td>\n",
       "      <td>www.pedagogasdapaz.blogspot.com</td>\n",
       "      <td>/</td>\n",
       "      <td>172.217.29.225</td>\n",
       "      <td>443</td>\n",
       "      <td>199.852</td>\n",
       "      <td>166.587</td>\n",
       "      <td>368.815</td>\n",
       "      <td>368.885</td>\n",
       "      <td>301.0</td>\n",
       "      <td>Q043</td>\n",
       "      <td>15169.0</td>\n",
       "      <td>GOOGLE - Google LLC</td>\n",
       "      <td>-122.0574</td>\n",
       "      <td>37.4192</td>\n",
       "    </tr>\n",
       "    <tr>\n",
       "      <th>2044637</th>\n",
       "      <td>1.589991e+09</td>\n",
       "      <td>www.pedagogasdapaz.blogspot.com</td>\n",
       "      <td>/</td>\n",
       "      <td>172.217.29.225</td>\n",
       "      <td>443</td>\n",
       "      <td>42.789</td>\n",
       "      <td>160.420</td>\n",
       "      <td>362.691</td>\n",
       "      <td>362.778</td>\n",
       "      <td>301.0</td>\n",
       "      <td>Q046</td>\n",
       "      <td>15169.0</td>\n",
       "      <td>GOOGLE - Google LLC</td>\n",
       "      <td>-122.0574</td>\n",
       "      <td>37.4192</td>\n",
       "    </tr>\n",
       "    <tr>\n",
       "      <th>2044640</th>\n",
       "      <td>1.589991e+09</td>\n",
       "      <td>www.pedagogasdapaz.blogspot.com</td>\n",
       "      <td>/</td>\n",
       "      <td>172.217.29.225</td>\n",
       "      <td>443</td>\n",
       "      <td>85.936</td>\n",
       "      <td>168.939</td>\n",
       "      <td>369.464</td>\n",
       "      <td>369.543</td>\n",
       "      <td>301.0</td>\n",
       "      <td>Q050</td>\n",
       "      <td>15169.0</td>\n",
       "      <td>GOOGLE - Google LLC</td>\n",
       "      <td>-122.0574</td>\n",
       "      <td>37.4192</td>\n",
       "    </tr>\n",
       "  </tbody>\n",
       "</table>\n",
       "</div>"
      ],
      "text/plain": [
       "         TimeOfMeasurement                                   Url Path  \\\n",
       "2044629       1.589991e+09                      www.vstrokax.net    /   \n",
       "2044631       1.589991e+09  www.aabiertaalfonsoviii.blogspot.com    /   \n",
       "2044632       1.589991e+09       www.pedagogasdapaz.blogspot.com    /   \n",
       "2044637       1.589991e+09       www.pedagogasdapaz.blogspot.com    /   \n",
       "2044640       1.589991e+09       www.pedagogasdapaz.blogspot.com    /   \n",
       "\n",
       "                     Ip Port  DNSTime  ConnectionEstablishmentTime     TTFB  \\\n",
       "2044629  208.88.226.236  443    2.102                      367.459  527.913   \n",
       "2044631  172.217.29.225  443   81.868                      162.266  453.552   \n",
       "2044632  172.217.29.225  443  199.852                      166.587  368.815   \n",
       "2044637  172.217.29.225  443   42.789                      160.420  362.691   \n",
       "2044640  172.217.29.225  443   85.936                      168.939  369.464   \n",
       "\n",
       "         TotalDownloadTime  HttpResponse Protocol     ASNo  \\\n",
       "2044629            527.983         301.0     Q050  35415.0   \n",
       "2044631            453.647         301.0     Q050  15169.0   \n",
       "2044632            368.885         301.0     Q043  15169.0   \n",
       "2044637            362.778         301.0     Q046  15169.0   \n",
       "2044640            369.543         301.0     Q050  15169.0   \n",
       "\n",
       "                           ASName        Lat      Lon  \n",
       "2044629  WEBZILLA - Webzilla B.V.     4.8995  52.3824  \n",
       "2044631       GOOGLE - Google LLC  -122.0574  37.4192  \n",
       "2044632       GOOGLE - Google LLC  -122.0574  37.4192  \n",
       "2044637       GOOGLE - Google LLC  -122.0574  37.4192  \n",
       "2044640       GOOGLE - Google LLC  -122.0574  37.4192  "
      ]
     },
     "execution_count": 22,
     "metadata": {},
     "output_type": "execute_result"
    }
   ],
   "source": [
    "t.tail()"
   ]
  },
  {
   "cell_type": "code",
   "execution_count": 23,
   "metadata": {},
   "outputs": [],
   "source": [
    "def filter_by_ip(df, column):\n",
    "  \"\"\"reads a DataFrame, calls fbi.filter_v{4,6} to get DataFrames with rows\n",
    "     containing only v4, v6 endpoints. Returns the two DataFrame as a tuple\"\"\"\n",
    "\n",
    "  dfv6 = fbi.filter_v6(df, column)\n",
    "  dfv4 = fbi.filter_v4(df, column)\n",
    "  return dfv4, dfv6"
   ]
  },
  {
   "cell_type": "code",
   "execution_count": 24,
   "metadata": {},
   "outputs": [],
   "source": [
    "#quic4, quic6 = filter_by_ip(t, column = 'Ip')\n",
    "quic4 = t[t['Ip'].str.contains(\"\\.\")]\n",
    "quic6 = t[t['Ip'].str.contains(\"\\:\")]"
   ]
  },
  {
   "cell_type": "code",
   "execution_count": 25,
   "metadata": {},
   "outputs": [],
   "source": [
    "quic4 = quic4[quic4['HttpResponse'] == 200.0]\n",
    "quic6 = quic6[quic6['HttpResponse'] == 200.0]"
   ]
  },
  {
   "cell_type": "code",
   "execution_count": 26,
   "metadata": {},
   "outputs": [
    {
     "data": {
      "text/plain": [
       "TimeOfMeasurement              160691\n",
       "Url                            160691\n",
       "Path                           160691\n",
       "Ip                             160691\n",
       "Port                           160691\n",
       "DNSTime                        160691\n",
       "ConnectionEstablishmentTime    160691\n",
       "TTFB                           160691\n",
       "TotalDownloadTime              160691\n",
       "HttpResponse                   160691\n",
       "Protocol                       160691\n",
       "ASNo                           104052\n",
       "ASName                         104052\n",
       "Lat                            104052\n",
       "Lon                            104052\n",
       "dtype: int64"
      ]
     },
     "execution_count": 26,
     "metadata": {},
     "output_type": "execute_result"
    }
   ],
   "source": [
    "quic4.count()"
   ]
  },
  {
   "cell_type": "code",
   "execution_count": 27,
   "metadata": {},
   "outputs": [
    {
     "data": {
      "text/html": [
       "<div>\n",
       "<style scoped>\n",
       "    .dataframe tbody tr th:only-of-type {\n",
       "        vertical-align: middle;\n",
       "    }\n",
       "\n",
       "    .dataframe tbody tr th {\n",
       "        vertical-align: top;\n",
       "    }\n",
       "\n",
       "    .dataframe thead th {\n",
       "        text-align: right;\n",
       "    }\n",
       "</style>\n",
       "<table border=\"1\" class=\"dataframe\">\n",
       "  <thead>\n",
       "    <tr style=\"text-align: right;\">\n",
       "      <th></th>\n",
       "      <th>TimeOfMeasurement</th>\n",
       "      <th>Url</th>\n",
       "      <th>Path</th>\n",
       "      <th>Ip</th>\n",
       "      <th>Port</th>\n",
       "      <th>DNSTime</th>\n",
       "      <th>ConnectionEstablishmentTime</th>\n",
       "      <th>TTFB</th>\n",
       "      <th>TotalDownloadTime</th>\n",
       "      <th>HttpResponse</th>\n",
       "      <th>Protocol</th>\n",
       "      <th>ASNo</th>\n",
       "      <th>ASName</th>\n",
       "      <th>Lat</th>\n",
       "      <th>Lon</th>\n",
       "    </tr>\n",
       "  </thead>\n",
       "  <tbody>\n",
       "    <tr>\n",
       "      <th>24</th>\n",
       "      <td>1.589587e+09</td>\n",
       "      <td>www.100negocios.com</td>\n",
       "      <td>/</td>\n",
       "      <td>66.198.240.11</td>\n",
       "      <td>443</td>\n",
       "      <td>874.597</td>\n",
       "      <td>287.670</td>\n",
       "      <td>927.895</td>\n",
       "      <td>262.651</td>\n",
       "      <td>200.0</td>\n",
       "      <td>Q043</td>\n",
       "      <td>NaN</td>\n",
       "      <td>NaN</td>\n",
       "      <td>NaN</td>\n",
       "      <td>NaN</td>\n",
       "    </tr>\n",
       "    <tr>\n",
       "      <th>25</th>\n",
       "      <td>1.589587e+09</td>\n",
       "      <td>www.100negocios.com</td>\n",
       "      <td>/</td>\n",
       "      <td>66.198.240.11</td>\n",
       "      <td>443</td>\n",
       "      <td>0.727</td>\n",
       "      <td>340.110</td>\n",
       "      <td>999.997</td>\n",
       "      <td>396.007</td>\n",
       "      <td>200.0</td>\n",
       "      <td>Q046</td>\n",
       "      <td>NaN</td>\n",
       "      <td>NaN</td>\n",
       "      <td>NaN</td>\n",
       "      <td>NaN</td>\n",
       "    </tr>\n",
       "    <tr>\n",
       "      <th>26</th>\n",
       "      <td>1.589587e+09</td>\n",
       "      <td>www.100negocios.com</td>\n",
       "      <td>/</td>\n",
       "      <td>66.198.240.11</td>\n",
       "      <td>443</td>\n",
       "      <td>1.190</td>\n",
       "      <td>289.276</td>\n",
       "      <td>918.674</td>\n",
       "      <td>269.840</td>\n",
       "      <td>200.0</td>\n",
       "      <td>Q050</td>\n",
       "      <td>NaN</td>\n",
       "      <td>NaN</td>\n",
       "      <td>NaN</td>\n",
       "      <td>NaN</td>\n",
       "    </tr>\n",
       "    <tr>\n",
       "      <th>120</th>\n",
       "      <td>1.589587e+09</td>\n",
       "      <td>www.1-link.org</td>\n",
       "      <td>/</td>\n",
       "      <td>78.142.29.4</td>\n",
       "      <td>443</td>\n",
       "      <td>974.984</td>\n",
       "      <td>430.008</td>\n",
       "      <td>704.252</td>\n",
       "      <td>717.761</td>\n",
       "      <td>200.0</td>\n",
       "      <td>Q043</td>\n",
       "      <td>206349.0</td>\n",
       "      <td>BLUEANGELHOST - BlueAngelHost Pvt. Ltd</td>\n",
       "      <td>23.3333</td>\n",
       "      <td>42.7</td>\n",
       "    </tr>\n",
       "    <tr>\n",
       "      <th>121</th>\n",
       "      <td>1.589587e+09</td>\n",
       "      <td>www.1-link.org</td>\n",
       "      <td>/</td>\n",
       "      <td>78.142.29.4</td>\n",
       "      <td>443</td>\n",
       "      <td>0.775</td>\n",
       "      <td>432.655</td>\n",
       "      <td>703.623</td>\n",
       "      <td>716.550</td>\n",
       "      <td>200.0</td>\n",
       "      <td>Q046</td>\n",
       "      <td>206349.0</td>\n",
       "      <td>BLUEANGELHOST - BlueAngelHost Pvt. Ltd</td>\n",
       "      <td>23.3333</td>\n",
       "      <td>42.7</td>\n",
       "    </tr>\n",
       "  </tbody>\n",
       "</table>\n",
       "</div>"
      ],
      "text/plain": [
       "     TimeOfMeasurement                  Url Path             Ip Port  DNSTime  \\\n",
       "24        1.589587e+09  www.100negocios.com    /  66.198.240.11  443  874.597   \n",
       "25        1.589587e+09  www.100negocios.com    /  66.198.240.11  443    0.727   \n",
       "26        1.589587e+09  www.100negocios.com    /  66.198.240.11  443    1.190   \n",
       "120       1.589587e+09       www.1-link.org    /    78.142.29.4  443  974.984   \n",
       "121       1.589587e+09       www.1-link.org    /    78.142.29.4  443    0.775   \n",
       "\n",
       "     ConnectionEstablishmentTime     TTFB  TotalDownloadTime  HttpResponse  \\\n",
       "24                       287.670  927.895            262.651         200.0   \n",
       "25                       340.110  999.997            396.007         200.0   \n",
       "26                       289.276  918.674            269.840         200.0   \n",
       "120                      430.008  704.252            717.761         200.0   \n",
       "121                      432.655  703.623            716.550         200.0   \n",
       "\n",
       "    Protocol      ASNo                                  ASName      Lat   Lon  \n",
       "24      Q043       NaN                                     NaN      NaN   NaN  \n",
       "25      Q046       NaN                                     NaN      NaN   NaN  \n",
       "26      Q050       NaN                                     NaN      NaN   NaN  \n",
       "120     Q043  206349.0  BLUEANGELHOST - BlueAngelHost Pvt. Ltd  23.3333  42.7  \n",
       "121     Q046  206349.0  BLUEANGELHOST - BlueAngelHost Pvt. Ltd  23.3333  42.7  "
      ]
     },
     "execution_count": 27,
     "metadata": {},
     "output_type": "execute_result"
    }
   ],
   "source": [
    "quic4.head()"
   ]
  },
  {
   "cell_type": "code",
   "execution_count": 28,
   "metadata": {},
   "outputs": [
    {
     "data": {
      "text/plain": [
       "TimeOfMeasurement              0\n",
       "Url                            0\n",
       "Path                           0\n",
       "Ip                             0\n",
       "Port                           0\n",
       "DNSTime                        0\n",
       "ConnectionEstablishmentTime    0\n",
       "TTFB                           0\n",
       "TotalDownloadTime              0\n",
       "HttpResponse                   0\n",
       "Protocol                       0\n",
       "ASNo                           0\n",
       "ASName                         0\n",
       "Lat                            0\n",
       "Lon                            0\n",
       "dtype: int64"
      ]
     },
     "execution_count": 28,
     "metadata": {},
     "output_type": "execute_result"
    }
   ],
   "source": [
    "quic6.count()"
   ]
  },
  {
   "cell_type": "code",
   "execution_count": 29,
   "metadata": {
    "lines_to_next_cell": 2
   },
   "outputs": [
    {
     "data": {
      "text/html": [
       "<div>\n",
       "<style scoped>\n",
       "    .dataframe tbody tr th:only-of-type {\n",
       "        vertical-align: middle;\n",
       "    }\n",
       "\n",
       "    .dataframe tbody tr th {\n",
       "        vertical-align: top;\n",
       "    }\n",
       "\n",
       "    .dataframe thead th {\n",
       "        text-align: right;\n",
       "    }\n",
       "</style>\n",
       "<table border=\"1\" class=\"dataframe\">\n",
       "  <thead>\n",
       "    <tr style=\"text-align: right;\">\n",
       "      <th></th>\n",
       "      <th>TimeOfMeasurement</th>\n",
       "      <th>Url</th>\n",
       "      <th>Path</th>\n",
       "      <th>Ip</th>\n",
       "      <th>Port</th>\n",
       "      <th>DNSTime</th>\n",
       "      <th>ConnectionEstablishmentTime</th>\n",
       "      <th>TTFB</th>\n",
       "      <th>TotalDownloadTime</th>\n",
       "      <th>HttpResponse</th>\n",
       "      <th>Protocol</th>\n",
       "      <th>ASNo</th>\n",
       "      <th>ASName</th>\n",
       "      <th>Lat</th>\n",
       "      <th>Lon</th>\n",
       "    </tr>\n",
       "  </thead>\n",
       "  <tbody>\n",
       "  </tbody>\n",
       "</table>\n",
       "</div>"
      ],
      "text/plain": [
       "Empty DataFrame\n",
       "Columns: [TimeOfMeasurement, Url, Path, Ip, Port, DNSTime, ConnectionEstablishmentTime, TTFB, TotalDownloadTime, HttpResponse, Protocol, ASNo, ASName, Lat, Lon]\n",
       "Index: []"
      ]
     },
     "execution_count": 29,
     "metadata": {},
     "output_type": "execute_result"
    }
   ],
   "source": [
    "quic6.head()"
   ]
  },
  {
   "cell_type": "code",
   "execution_count": 30,
   "metadata": {},
   "outputs": [
    {
     "data": {
      "text/plain": [
       "ASNo      ASName                                   \n",
       "15169.0   GOOGLE - Google LLC                          440791\n",
       "15133.0   EDGECAST - MCI Communications Services        54610\n",
       "35415.0   WEBZILLA - Webzilla B.V.                       5063\n",
       "55293.0   A2HOSTING - A2 Hosting                         4869\n",
       "203226.0  IHCRU - Internet-Hosting Ltd                   4448\n",
       "                                                        ...  \n",
       "63408.0   SHOPIFYASN2 - Shopify                            55\n",
       "55720.0   GIGABIT-MY Gigabit Hosting Sdn Bhd               54\n",
       "43754.0   ASIATECH - Asiatech Data Transfer Inc PLC        51\n",
       "20473.0   AS-CHOOPA - Choopa                               29\n",
       "47748.0   DATICUM - Daticum JSC                            27\n",
       "Length: 85, dtype: int64"
      ]
     },
     "execution_count": 30,
     "metadata": {},
     "output_type": "execute_result"
    }
   ],
   "source": [
    "t.groupby(['ASNo', 'ASName']).size().sort_values(ascending=False)"
   ]
  },
  {
   "cell_type": "code",
   "execution_count": 31,
   "metadata": {},
   "outputs": [
    {
     "data": {
      "text/plain": [
       "ASNo      ASName                                   \n",
       "15169.0   GOOGLE - Google LLC                          440791\n",
       "15133.0   EDGECAST - MCI Communications Services        54610\n",
       "35415.0   WEBZILLA - Webzilla B.V.                       5063\n",
       "55293.0   A2HOSTING - A2 Hosting                         4869\n",
       "203226.0  IHCRU - Internet-Hosting Ltd                   4448\n",
       "                                                        ...  \n",
       "63408.0   SHOPIFYASN2 - Shopify                            55\n",
       "55720.0   GIGABIT-MY Gigabit Hosting Sdn Bhd               54\n",
       "43754.0   ASIATECH - Asiatech Data Transfer Inc PLC        51\n",
       "20473.0   AS-CHOOPA - Choopa                               29\n",
       "47748.0   DATICUM - Daticum JSC                            27\n",
       "Length: 85, dtype: int64"
      ]
     },
     "execution_count": 31,
     "metadata": {},
     "output_type": "execute_result"
    }
   ],
   "source": [
    "t.groupby(['ASNo', 'ASName']).size().sort_values(ascending=False)"
   ]
  },
  {
   "cell_type": "code",
   "execution_count": 32,
   "metadata": {},
   "outputs": [],
   "source": [
    "quic15169 = quic4.loc[t['ASNo'] == 15169]\n",
    "quic15133 = quic4.loc[t['ASNo'] == 15133]\n",
    "quic55293= quic4.loc[t['ASNo'] == 55293]\n",
    "quic35415 = quic4.loc[t['ASNo'] == 35415]\n",
    "quic203226 = quic4.loc[t['ASNo'] == 203226]"
   ]
  },
  {
   "cell_type": "code",
   "execution_count": 33,
   "metadata": {},
   "outputs": [
    {
     "data": {
      "text/plain": [
       "TimeOfMeasurement              41576\n",
       "Url                            41576\n",
       "Path                           41576\n",
       "Ip                             41576\n",
       "Port                           41576\n",
       "DNSTime                        41576\n",
       "ConnectionEstablishmentTime    41576\n",
       "TTFB                           41576\n",
       "TotalDownloadTime              41576\n",
       "HttpResponse                   41576\n",
       "Protocol                       41576\n",
       "ASNo                           41576\n",
       "ASName                         41576\n",
       "Lat                            41576\n",
       "Lon                            41576\n",
       "dtype: int64"
      ]
     },
     "execution_count": 33,
     "metadata": {},
     "output_type": "execute_result"
    }
   ],
   "source": [
    "quic15169.count()"
   ]
  },
  {
   "cell_type": "code",
   "execution_count": 34,
   "metadata": {},
   "outputs": [
    {
     "data": {
      "text/plain": [
       "TimeOfMeasurement              32970\n",
       "Url                            32970\n",
       "Path                           32970\n",
       "Ip                             32970\n",
       "Port                           32970\n",
       "DNSTime                        32970\n",
       "ConnectionEstablishmentTime    32970\n",
       "TTFB                           32970\n",
       "TotalDownloadTime              32970\n",
       "HttpResponse                   32970\n",
       "Protocol                       32970\n",
       "ASNo                           32970\n",
       "ASName                         32970\n",
       "Lat                            32970\n",
       "Lon                            32970\n",
       "dtype: int64"
      ]
     },
     "execution_count": 34,
     "metadata": {},
     "output_type": "execute_result"
    }
   ],
   "source": [
    "quic15133.count()"
   ]
  },
  {
   "cell_type": "code",
   "execution_count": 35,
   "metadata": {},
   "outputs": [
    {
     "data": {
      "text/plain": [
       "TimeOfMeasurement              32970\n",
       "Url                            32970\n",
       "Path                           32970\n",
       "Ip                             32970\n",
       "Port                           32970\n",
       "DNSTime                        32970\n",
       "ConnectionEstablishmentTime    32970\n",
       "TTFB                           32970\n",
       "TotalDownloadTime              32970\n",
       "HttpResponse                   32970\n",
       "Protocol                       32970\n",
       "ASNo                           32970\n",
       "ASName                         32970\n",
       "Lat                            32970\n",
       "Lon                            32970\n",
       "dtype: int64"
      ]
     },
     "execution_count": 35,
     "metadata": {},
     "output_type": "execute_result"
    }
   ],
   "source": [
    "quic15133.count()"
   ]
  },
  {
   "cell_type": "code",
   "execution_count": 36,
   "metadata": {},
   "outputs": [
    {
     "data": {
      "text/plain": [
       "TimeOfMeasurement              2760\n",
       "Url                            2760\n",
       "Path                           2760\n",
       "Ip                             2760\n",
       "Port                           2760\n",
       "DNSTime                        2760\n",
       "ConnectionEstablishmentTime    2760\n",
       "TTFB                           2760\n",
       "TotalDownloadTime              2760\n",
       "HttpResponse                   2760\n",
       "Protocol                       2760\n",
       "ASNo                           2760\n",
       "ASName                         2760\n",
       "Lat                            2760\n",
       "Lon                            2760\n",
       "dtype: int64"
      ]
     },
     "execution_count": 36,
     "metadata": {},
     "output_type": "execute_result"
    }
   ],
   "source": [
    "quic55293.count()"
   ]
  },
  {
   "cell_type": "code",
   "execution_count": 37,
   "metadata": {},
   "outputs": [
    {
     "data": {
      "text/plain": [
       "TimeOfMeasurement              1024\n",
       "Url                            1024\n",
       "Path                           1024\n",
       "Ip                             1024\n",
       "Port                           1024\n",
       "DNSTime                        1024\n",
       "ConnectionEstablishmentTime    1024\n",
       "TTFB                           1024\n",
       "TotalDownloadTime              1024\n",
       "HttpResponse                   1024\n",
       "Protocol                       1024\n",
       "ASNo                           1024\n",
       "ASName                         1024\n",
       "Lat                            1024\n",
       "Lon                            1024\n",
       "dtype: int64"
      ]
     },
     "execution_count": 37,
     "metadata": {},
     "output_type": "execute_result"
    }
   ],
   "source": [
    "quic35415.count()"
   ]
  },
  {
   "cell_type": "code",
   "execution_count": 38,
   "metadata": {},
   "outputs": [],
   "source": [
    "quic15169_6 = quic6.loc[t['ASNo'] == 15169]\n",
    "quic15133_6 = quic6.loc[t['ASNo'] == 15133]\n",
    "quic55293_6 = quic6.loc[t['ASNo'] == 55293]\n",
    "quic35415_6 = quic6.loc[t['ASNo'] == 35415]\n",
    "quic203226_6 = quic6.loc[t['ASNo'] == 203226]"
   ]
  },
  {
   "cell_type": "code",
   "execution_count": 39,
   "metadata": {},
   "outputs": [
    {
     "data": {
      "text/plain": [
       "TimeOfMeasurement              0\n",
       "Url                            0\n",
       "Path                           0\n",
       "Ip                             0\n",
       "Port                           0\n",
       "DNSTime                        0\n",
       "ConnectionEstablishmentTime    0\n",
       "TTFB                           0\n",
       "TotalDownloadTime              0\n",
       "HttpResponse                   0\n",
       "Protocol                       0\n",
       "ASNo                           0\n",
       "ASName                         0\n",
       "Lat                            0\n",
       "Lon                            0\n",
       "dtype: int64"
      ]
     },
     "execution_count": 39,
     "metadata": {},
     "output_type": "execute_result"
    }
   ],
   "source": [
    "quic15169_6.count()"
   ]
  },
  {
   "cell_type": "code",
   "execution_count": 40,
   "metadata": {},
   "outputs": [
    {
     "data": {
      "text/plain": [
       "TimeOfMeasurement              32970\n",
       "Url                            32970\n",
       "Path                           32970\n",
       "Ip                             32970\n",
       "Port                           32970\n",
       "DNSTime                        32970\n",
       "ConnectionEstablishmentTime    32970\n",
       "TTFB                           32970\n",
       "TotalDownloadTime              32970\n",
       "HttpResponse                   32970\n",
       "Protocol                       32970\n",
       "ASNo                           32970\n",
       "ASName                         32970\n",
       "Lat                            32970\n",
       "Lon                            32970\n",
       "dtype: int64"
      ]
     },
     "execution_count": 40,
     "metadata": {},
     "output_type": "execute_result"
    }
   ],
   "source": [
    "quic15133.count()"
   ]
  },
  {
   "cell_type": "code",
   "execution_count": 41,
   "metadata": {},
   "outputs": [],
   "source": [
    "x = Cdf.MakeCdfFromList(quic15169['ConnectionEstablishmentTime'].values)\n",
    "x1 =Cdf.MakeCdfFromList(quic15133['ConnectionEstablishmentTime'].values)\n",
    "x3 = Cdf.MakeCdfFromList(quic55293['ConnectionEstablishmentTime'].values)\n",
    "x4 = Cdf.MakeCdfFromList(quic35415['ConnectionEstablishmentTime'].values)\n",
    "x5 = Cdf.MakeCdfFromList(quic203226['ConnectionEstablishmentTime'].values)"
   ]
  },
  {
   "cell_type": "code",
   "execution_count": 42,
   "metadata": {},
   "outputs": [
    {
     "name": "stdout",
     "output_type": "stream",
     "text": [
      "-----------------------------\n",
      "\n",
      "percentile values distribution for quic15133\n",
      "\n",
      "50th Percentile:240.631000\n",
      "\n",
      "90th Percentile:271.942000\n",
      "\n",
      "99th Percentile:552.169000\n",
      "\n",
      "25th Percentile:218.998000\n",
      "\n",
      "75th Percentile:246.132000\n",
      "\n",
      "20th Percentile:240.631000\n",
      "\n",
      "40th Percentile:271.942000\n",
      "\n",
      "60th Percentile:552.169000\n",
      "\n",
      "80th Percentile:218.998000\n",
      "\n",
      "-----------------------------\n",
      "\n",
      "-----------------------------\n",
      "\n",
      "percentile values distribution for quic55293\n",
      "\n",
      "50th Percentile:326.275000\n",
      "\n",
      "90th Percentile:719.689000\n",
      "\n",
      "99th Percentile:819.330000\n",
      "\n",
      "25th Percentile:291.560000\n",
      "\n",
      "75th Percentile:328.895000\n",
      "\n",
      "20th Percentile:326.275000\n",
      "\n",
      "40th Percentile:719.689000\n",
      "\n",
      "60th Percentile:819.330000\n",
      "\n",
      "80th Percentile:291.560000\n",
      "\n",
      "-----------------------------\n",
      "\n",
      "-----------------------------\n",
      "\n",
      "percentile values distribution for quic35415\n",
      "\n",
      "50th Percentile:409.310000\n",
      "\n",
      "90th Percentile:450.900000\n",
      "\n",
      "99th Percentile:758.102000\n",
      "\n",
      "25th Percentile:405.783000\n",
      "\n",
      "75th Percentile:447.914000\n",
      "\n",
      "20th Percentile:409.310000\n",
      "\n",
      "40th Percentile:450.900000\n",
      "\n",
      "60th Percentile:758.102000\n",
      "\n",
      "80th Percentile:405.783000\n",
      "\n",
      "-----------------------------\n",
      "\n",
      "-----------------------------\n",
      "\n",
      "percentile values distribution for quic203226\n",
      "\n",
      "50th Percentile:494.220000\n",
      "\n",
      "90th Percentile:574.450000\n",
      "\n",
      "99th Percentile:818.313000\n",
      "\n",
      "25th Percentile:488.724000\n",
      "\n",
      "75th Percentile:567.612000\n",
      "\n",
      "20th Percentile:494.220000\n",
      "\n",
      "40th Percentile:574.450000\n",
      "\n",
      "60th Percentile:818.313000\n",
      "\n",
      "80th Percentile:488.724000\n",
      "\n",
      "-----------------------------\n",
      "\n",
      "-----------------------------\n",
      "\n",
      "percentile values distribution for quic15169\n",
      "\n",
      "50th Percentile:158.974000\n",
      "\n",
      "90th Percentile:165.855000\n",
      "\n",
      "99th Percentile:772.645000\n",
      "\n",
      "25th Percentile:95.588000\n",
      "\n",
      "75th Percentile:161.972000\n",
      "\n",
      "20th Percentile:158.974000\n",
      "\n",
      "40th Percentile:165.855000\n",
      "\n",
      "60th Percentile:772.645000\n",
      "\n",
      "80th Percentile:95.588000\n",
      "\n",
      "-----------------------------\n",
      "\n"
     ]
    }
   ],
   "source": [
    "print_percentiles(x1, 'quic15133')\n",
    "print_percentiles(x3, 'quic55293')\n",
    "print_percentiles(x4, 'quic35415')\n",
    "print_percentiles(x5, 'quic203226')\n",
    "print_percentiles(x, 'quic15169')"
   ]
  },
  {
   "cell_type": "code",
   "execution_count": 43,
   "metadata": {},
   "outputs": [
    {
     "name": "stderr",
     "output_type": "stream",
     "text": [
      "findfont: Font family ['monospace'] not found. Falling back to DejaVu Sans.\n",
      "findfont: Font family ['monospace'] not found. Falling back to DejaVu Sans.\n",
      "findfont: Font family ['monospace'] not found. Falling back to DejaVu Sans.\n",
      "findfont: Font family ['monospace'] not found. Falling back to DejaVu Sans.\n",
      "findfont: Font family ['monospace'] not found. Falling back to DejaVu Sans.\n",
      "findfont: Font family ['monospace'] not found. Falling back to DejaVu Sans.\n"
     ]
    },
    {
     "data": {
      "image/png": "[encoded data removed]",
      "text/plain": [
       "<Figure size 900x600 with 1 Axes>"
      ]
     },
     "metadata": {
      "needs_background": "light"
     },
     "output_type": "display_data"
    }
   ],
   "source": [
    "data = {'$\\\\bf{ASN}$': ['GOOGLE', 'EDGECAST', 'A2HOSTING', 'WEBZILLA', 'IHCRU'],\n",
    "\t'$\\\\bf{25th}$': [\"{:.2f}\".format(x.Percentile(25)), \"{:.2f}\".format(x1.Percentile(25)), \"{:.2f}\".format(x3.Percentile(25)), \"{:.2f}\".format(x4.Percentile(25)), \"{:.2f}\".format(x5.Percentile(25))],\n",
    "\t'$\\\\bf{50th}$': [\"{:.2f}\".format(x.Percentile(50)), \"{:.2f}\".format(x1.Percentile(50)), \"{:.2f}\".format(x3.Percentile(50)), \"{:.2f}\".format(x4.Percentile(50)), \"{:.2f}\".format(x5.Percentile(50))],\n",
    "\t'$\\\\bf{75th}$': [\"{:.2f}\".format(x.Percentile(75)), \"{:.2f}\".format(x1.Percentile(75)), \"{:.2f}\".format(x3.Percentile(75)), \"{:.2f}\".format(x4.Percentile(75)), \"{:.2f}\".format(x5.Percentile(75))],\n",
    "\t'$\\\\bf{80th}$': [\"{:.2f}\".format(x.Percentile(80)), \"{:.2f}\".format(x1.Percentile(80)), \"{:.2f}\".format(x3.Percentile(80)), \"{:.2f}\".format(x4.Percentile(80)), \"{:.2f}\".format(x5.Percentile(80))],\n",
    "    '$\\\\bf{90th}$': [\"{:.2f}\".format(x.Percentile(90)), \"{:.2f}\".format(x1.Percentile(90)), \"{:.2f}\".format(x3.Percentile(90)), \"{:.2f}\".format(x4.Percentile(90)), \"{:.2f}\".format(x5.Percentile(90))]\n",
    "        }    \n",
    "\n",
    "df_percentile = pd.DataFrame(data)\n",
    "\n",
    "fig, ax = plt.subplots(dpi=150)\n",
    "\n",
    " #hide axes\n",
    "fig.patch.set_visible(False)\n",
    "ax.axis('off')\n",
    "ax.axis('tight')\n",
    "\n",
    "ax.table(cellText=df_percentile.values, colLabels=df_percentile.columns, loc='center', cellLoc='center')\n",
    "\n",
    "#fig.tight_layout()\n",
    "plt.savefig('./AWS/SaoPaulo/ASN/handshake_times_IPv4_asno_percentile.png', format='png', bbox_inches='tight')\n"
   ]
  },
  {
   "cell_type": "code",
   "execution_count": 44,
   "metadata": {},
   "outputs": [],
   "source": [
    "write_percentiles('quic15133.csv', x1)\n",
    "write_percentiles('quic55293.csv', x3)\n",
    "write_percentiles('quic35415.csv', x4)\n",
    "write_percentiles('quic203226.csv', x5)\n",
    "write_percentiles('quic15169.csv', x)"
   ]
  },
  {
   "cell_type": "code",
   "execution_count": 45,
   "metadata": {
    "scrolled": false
   },
   "outputs": [
    {
     "name": "stderr",
     "output_type": "stream",
     "text": [
      "findfont: Font family ['monospace'] not found. Falling back to DejaVu Sans.\n",
      "findfont: Font family ['monospace'] not found. Falling back to DejaVu Sans.\n"
     ]
    },
    {
     "data": {
      "image/png": "[encoded data removed]",
      "text/plain": [
       "<Figure size 720x216 with 2 Axes>"
      ]
     },
     "metadata": {
      "needs_background": "light"
     },
     "output_type": "display_data"
    }
   ],
   "source": [
    "fig = plt.figure(figsize = (10,3))\n",
    "plt.rcParams['font.size'] = 12\n",
    "ax = plt.gca()\n",
    "yticks = np.arange(0,1.1,0.2)\n",
    "\n",
    "#15169\n",
    "plt.plot(x.xs, x.ps, marker='s', linewidth=0.3, markersize=5, fillstyle='none', color = 'orange')\n",
    "#15133\n",
    "plt.plot(x1.xs, x1.ps, marker='s', linewidth=0.3, markersize=5, fillstyle='none', color = 'red')\n",
    "#55293\n",
    "plt.plot(x3.xs, x3.ps, marker='s', linewidth=0.3, markersize=5, fillstyle='none', color = 'green')\n",
    "#35415\n",
    "plt.plot(x4.xs, x4.ps, marker='s', linewidth=0.3, markersize=5, fillstyle='none', color = 'black')\n",
    "#203226\n",
    "plt.plot(x5.xs, x5.ps, marker='s', linewidth=0.3, markersize=5, fillstyle='none', color = 'blue')\n",
    "\n",
    "\n",
    "\n",
    "ax = fig.axes[0]\n",
    "ax.grid(False)\n",
    "ax.set_yticks(yticks)\n",
    "ax.set_ylim([0,1.05])\n",
    "##ax.set_xlim([20,100])\n",
    "ax.set_xscale('log')\n",
    "ax.set_xlabel('latency (x-axis is cut)', fontsize=12)\n",
    "ax.set_ylabel('CDF', fontsize=12)\n",
    "\n",
    "plt.legend(['GOOGLE', 'EDGECAST', 'A2Hosting', 'Webzilla', 'IHCRU'], fontsize=11, loc='best')\n",
    "\n",
    "ax.spines['right'].set_color('none')\n",
    "ax.spines['top'].set_color('none')\n",
    "ax.yaxis.set_ticks_position('left')\n",
    "ax.xaxis.set_ticks_position('bottom')\n",
    "ax.spines['bottom'].set_position(('axes', -0.05))\n",
    "ax.spines['left'].set_position(('axes', -0.05))\n",
    "\n",
    "ax3 = ax.twinx()\n",
    "ax3.spines['right'].set_color('none')\n",
    "ax3.spines['top'].set_color('none')\n",
    "ax3.spines['left'].set_color('none')\n",
    "ax3.spines['bottom'].set_color('none')\n",
    "ax3.yaxis.set_ticks_position('none')\n",
    "plt.setp(ax3.get_yticklabels(), visible=False)\n",
    "\n",
    "plt.title('Handshake Times with IPv4', fontsize=12, y=1.05)\n",
    "plt.savefig('./AWS/SaoPaulo/ASN/handshake_times_IPv4_asno.png', format='png', bbox_inches='tight')\n"
   ]
  },
  {
   "cell_type": "code",
   "execution_count": null,
   "metadata": {},
   "outputs": [],
   "source": []
  },
  {
   "cell_type": "code",
   "execution_count": 46,
   "metadata": {},
   "outputs": [],
   "source": [
    "x = Cdf.MakeCdfFromList(quic15169['TTFB'].values)\n",
    "x1 =Cdf.MakeCdfFromList(quic15133['TTFB'].values)\n",
    "x3 = Cdf.MakeCdfFromList(quic55293['TTFB'].values)\n",
    "x4 = Cdf.MakeCdfFromList(quic35415['TTFB'].values)\n",
    "x5 = Cdf.MakeCdfFromList(quic203226['TTFB'].values)"
   ]
  },
  {
   "cell_type": "code",
   "execution_count": 47,
   "metadata": {},
   "outputs": [
    {
     "name": "stdout",
     "output_type": "stream",
     "text": [
      "-----------------------------\n",
      "\n",
      "percentile values distribution for quic15133\n",
      "\n",
      "50th Percentile:396.462000\n",
      "\n",
      "90th Percentile:736.838000\n",
      "\n",
      "99th Percentile:960.921000\n",
      "\n",
      "25th Percentile:332.251000\n",
      "\n",
      "75th Percentile:572.329000\n",
      "\n",
      "20th Percentile:396.462000\n",
      "\n",
      "40th Percentile:736.838000\n",
      "\n",
      "60th Percentile:960.921000\n",
      "\n",
      "80th Percentile:332.251000\n",
      "\n",
      "-----------------------------\n",
      "\n",
      "-----------------------------\n",
      "\n",
      "percentile values distribution for quic55293\n",
      "\n",
      "50th Percentile:489.188000\n",
      "\n",
      "90th Percentile:732.301000\n",
      "\n",
      "99th Percentile:975.824000\n",
      "\n",
      "25th Percentile:433.965000\n",
      "\n",
      "75th Percentile:513.776000\n",
      "\n",
      "20th Percentile:489.188000\n",
      "\n",
      "40th Percentile:732.301000\n",
      "\n",
      "60th Percentile:975.824000\n",
      "\n",
      "80th Percentile:433.965000\n",
      "\n",
      "-----------------------------\n",
      "\n",
      "-----------------------------\n",
      "\n",
      "percentile values distribution for quic35415\n",
      "\n",
      "50th Percentile:651.087000\n",
      "\n",
      "90th Percentile:696.795000\n",
      "\n",
      "99th Percentile:870.859000\n",
      "\n",
      "25th Percentile:612.559000\n",
      "\n",
      "75th Percentile:687.800000\n",
      "\n",
      "20th Percentile:651.087000\n",
      "\n",
      "40th Percentile:696.795000\n",
      "\n",
      "60th Percentile:870.859000\n",
      "\n",
      "80th Percentile:612.559000\n",
      "\n",
      "-----------------------------\n",
      "\n",
      "-----------------------------\n",
      "\n",
      "percentile values distribution for quic203226\n",
      "\n",
      "50th Percentile:770.870000\n",
      "\n",
      "90th Percentile:877.474000\n",
      "\n",
      "99th Percentile:978.325000\n",
      "\n",
      "25th Percentile:731.700000\n",
      "\n",
      "75th Percentile:841.972000\n",
      "\n",
      "20th Percentile:770.870000\n",
      "\n",
      "40th Percentile:877.474000\n",
      "\n",
      "60th Percentile:978.325000\n",
      "\n",
      "80th Percentile:731.700000\n",
      "\n",
      "-----------------------------\n",
      "\n",
      "-----------------------------\n",
      "\n",
      "percentile values distribution for quic15169\n",
      "\n",
      "50th Percentile:246.240000\n",
      "\n",
      "90th Percentile:368.603000\n",
      "\n",
      "99th Percentile:879.457000\n",
      "\n",
      "25th Percentile:182.911000\n",
      "\n",
      "75th Percentile:286.865000\n",
      "\n",
      "20th Percentile:246.240000\n",
      "\n",
      "40th Percentile:368.603000\n",
      "\n",
      "60th Percentile:879.457000\n",
      "\n",
      "80th Percentile:182.911000\n",
      "\n",
      "-----------------------------\n",
      "\n"
     ]
    }
   ],
   "source": [
    "print_percentiles(x1, 'quic15133')\n",
    "print_percentiles(x3, 'quic55293')\n",
    "print_percentiles(x4, 'quic35415')\n",
    "print_percentiles(x5, 'quic203226')\n",
    "print_percentiles(x, 'quic15169')"
   ]
  },
  {
   "cell_type": "code",
   "execution_count": 48,
   "metadata": {},
   "outputs": [],
   "source": [
    "write_percentiles('quic15133.csv', x1)\n",
    "write_percentiles('quic55293.csv', x3)\n",
    "write_percentiles('quic35415.csv', x4)\n",
    "write_percentiles('quic203226.csv', x5)\n",
    "write_percentiles('quic15169.csv', x)"
   ]
  },
  {
   "cell_type": "code",
   "execution_count": 49,
   "metadata": {},
   "outputs": [
    {
     "name": "stderr",
     "output_type": "stream",
     "text": [
      "findfont: Font family ['monospace'] not found. Falling back to DejaVu Sans.\n",
      "findfont: Font family ['monospace'] not found. Falling back to DejaVu Sans.\n",
      "findfont: Font family ['monospace'] not found. Falling back to DejaVu Sans.\n",
      "findfont: Font family ['monospace'] not found. Falling back to DejaVu Sans.\n",
      "findfont: Font family ['monospace'] not found. Falling back to DejaVu Sans.\n"
     ]
    },
    {
     "data": {
      "image/png": "[encoded data removed]",
      "text/plain": [
       "<Figure size 900x600 with 1 Axes>"
      ]
     },
     "metadata": {
      "needs_background": "light"
     },
     "output_type": "display_data"
    }
   ],
   "source": [
    "data = {'$\\\\bf{ASN}$': ['GOOGLE', 'EDGECAST', 'A2HOSTING', 'WEBZILLA', 'IHCRU'],\n",
    "\t'$\\\\bf{25th}$': [\"{:.2f}\".format(x.Percentile(25)), \"{:.2f}\".format(x1.Percentile(25)), \"{:.2f}\".format(x3.Percentile(25)), \"{:.2f}\".format(x4.Percentile(25)), \"{:.2f}\".format(x5.Percentile(25))],\n",
    "\t'$\\\\bf{50th}$': [\"{:.2f}\".format(x.Percentile(50)), \"{:.2f}\".format(x1.Percentile(50)), \"{:.2f}\".format(x3.Percentile(50)), \"{:.2f}\".format(x4.Percentile(50)), \"{:.2f}\".format(x5.Percentile(50))],\n",
    "\t'$\\\\bf{75th}$': [\"{:.2f}\".format(x.Percentile(75)), \"{:.2f}\".format(x1.Percentile(75)), \"{:.2f}\".format(x3.Percentile(75)), \"{:.2f}\".format(x4.Percentile(75)), \"{:.2f}\".format(x5.Percentile(75))],\n",
    "\t'$\\\\bf{80th}$': [\"{:.2f}\".format(x.Percentile(80)), \"{:.2f}\".format(x1.Percentile(80)), \"{:.2f}\".format(x3.Percentile(80)), \"{:.2f}\".format(x4.Percentile(80)), \"{:.2f}\".format(x5.Percentile(80))],\n",
    "    '$\\\\bf{90th}$': [\"{:.2f}\".format(x.Percentile(90)), \"{:.2f}\".format(x1.Percentile(90)), \"{:.2f}\".format(x3.Percentile(90)), \"{:.2f}\".format(x4.Percentile(90)), \"{:.2f}\".format(x5.Percentile(90))]\n",
    "        }    \n",
    "\n",
    "df_percentile = pd.DataFrame(data)\n",
    "\n",
    "fig, ax = plt.subplots(dpi=150)\n",
    "\n",
    " #hide axes\n",
    "fig.patch.set_visible(False)\n",
    "ax.axis('off')\n",
    "ax.axis('tight')\n",
    "\n",
    "ax.table(cellText=df_percentile.values, colLabels=df_percentile.columns, loc='center', cellLoc='center')\n",
    "\n",
    "#fig.tight_layout()\n",
    "plt.savefig('./AWS/SaoPaulo/ASN/TTFB_ipv4_asno_percentile.png', format='png', bbox_inches='tight')"
   ]
  },
  {
   "cell_type": "code",
   "execution_count": 50,
   "metadata": {},
   "outputs": [
    {
     "data": {
      "image/png": "[encoded data removed]",
      "text/plain": [
       "<Figure size 720x216 with 2 Axes>"
      ]
     },
     "metadata": {
      "needs_background": "light"
     },
     "output_type": "display_data"
    }
   ],
   "source": [
    "fig = plt.figure(figsize = (10,3))\n",
    "plt.rcParams['font.size'] = 12\n",
    "ax = plt.gca()\n",
    "yticks = np.arange(0,1.1,0.2)\n",
    "\n",
    "#15169\n",
    "plt.plot(x.xs, x.ps, marker='s', linewidth=0.3, markersize=5, fillstyle='none', color = 'orange')\n",
    "#15133\n",
    "plt.plot(x1.xs, x1.ps, marker='s', linewidth=0.3, markersize=5, fillstyle='none', color = 'red')\n",
    "#55293\n",
    "plt.plot(x3.xs, x3.ps, marker='s', linewidth=0.3, markersize=5, fillstyle='none', color = 'green')\n",
    "#35415\n",
    "plt.plot(x4.xs, x4.ps, marker='s', linewidth=0.3, markersize=5, fillstyle='none', color = 'black')\n",
    "#203226\n",
    "plt.plot(x5.xs, x5.ps, marker='s', linewidth=0.3, markersize=5, fillstyle='none', color = 'blue')\n",
    "\n",
    "\n",
    "ax = fig.axes[0]\n",
    "ax.grid(False)\n",
    "ax.set_yticks(yticks)\n",
    "ax.set_ylim([0,1.05])\n",
    "#ax.set_xlim([20,1000])\n",
    "ax.set_xscale('log')\n",
    "ax.set_xlabel('TTFB', fontsize=12)\n",
    "ax.set_ylabel('CDF', fontsize=12)\n",
    "\n",
    "plt.legend(['GOOGLE', 'EDGECAST', 'A2Hosting', 'Webzilla', 'IHCRU'], fontsize=11, loc='best')\n",
    "\n",
    "ax.spines['right'].set_color('none')\n",
    "ax.spines['top'].set_color('none')\n",
    "ax.yaxis.set_ticks_position('left')\n",
    "ax.xaxis.set_ticks_position('bottom')\n",
    "ax.spines['bottom'].set_position(('axes', -0.05))\n",
    "ax.spines['left'].set_position(('axes', -0.05))\n",
    "\n",
    "ax3 = ax.twinx()\n",
    "ax3.spines['right'].set_color('none')\n",
    "ax3.spines['top'].set_color('none')\n",
    "ax3.spines['left'].set_color('none')\n",
    "ax3.spines['bottom'].set_color('none')\n",
    "ax3.yaxis.set_ticks_position('none')\n",
    "plt.setp(ax3.get_yticklabels(), visible=False)\n",
    "\n",
    "plt.title('TTFB with IPv4', fontsize=12, y=1.05)\n",
    "plt.savefig('./AWS/SaoPaulo/ASN/TTFB_ipv4_asno.png', format='png', bbox_inches='tight')"
   ]
  },
  {
   "cell_type": "code",
   "execution_count": 51,
   "metadata": {},
   "outputs": [],
   "source": [
    "x = Cdf.MakeCdfFromList(quic15169['TotalDownloadTime'].values)\n",
    "x1 =Cdf.MakeCdfFromList(quic15133['TotalDownloadTime'].values)\n",
    "x3 = Cdf.MakeCdfFromList(quic55293['TotalDownloadTime'].values)\n",
    "x4 = Cdf.MakeCdfFromList(quic35415['TotalDownloadTime'].values)\n",
    "x5 = Cdf.MakeCdfFromList(quic203226['TotalDownloadTime'].values)"
   ]
  },
  {
   "cell_type": "code",
   "execution_count": 52,
   "metadata": {},
   "outputs": [
    {
     "name": "stdout",
     "output_type": "stream",
     "text": [
      "-----------------------------\n",
      "\n",
      "percentile values distribution for quic15133\n",
      "\n",
      "50th Percentile:555.889000\n",
      "\n",
      "90th Percentile:898.622000\n",
      "\n",
      "99th Percentile:982.874000\n",
      "\n",
      "25th Percentile:285.342000\n",
      "\n",
      "75th Percentile:746.371000\n",
      "\n",
      "20th Percentile:555.889000\n",
      "\n",
      "40th Percentile:898.622000\n",
      "\n",
      "60th Percentile:982.874000\n",
      "\n",
      "80th Percentile:285.342000\n",
      "\n",
      "-----------------------------\n",
      "\n",
      "-----------------------------\n",
      "\n",
      "percentile values distribution for quic55293\n",
      "\n",
      "50th Percentile:529.850000\n",
      "\n",
      "90th Percentile:862.396000\n",
      "\n",
      "99th Percentile:980.458000\n",
      "\n",
      "25th Percentile:444.701000\n",
      "\n",
      "75th Percentile:695.540000\n",
      "\n",
      "20th Percentile:529.850000\n",
      "\n",
      "40th Percentile:862.396000\n",
      "\n",
      "60th Percentile:980.458000\n",
      "\n",
      "80th Percentile:444.701000\n",
      "\n",
      "-----------------------------\n",
      "\n",
      "-----------------------------\n",
      "\n",
      "percentile values distribution for quic35415\n",
      "\n",
      "50th Percentile:733.029000\n",
      "\n",
      "90th Percentile:938.690000\n",
      "\n",
      "99th Percentile:980.188000\n",
      "\n",
      "25th Percentile:622.438000\n",
      "\n",
      "75th Percentile:865.059000\n",
      "\n",
      "20th Percentile:733.029000\n",
      "\n",
      "40th Percentile:938.690000\n",
      "\n",
      "60th Percentile:980.188000\n",
      "\n",
      "80th Percentile:622.438000\n",
      "\n",
      "-----------------------------\n",
      "\n",
      "-----------------------------\n",
      "\n",
      "percentile values distribution for quic203226\n",
      "\n",
      "50th Percentile:777.570000\n",
      "\n",
      "90th Percentile:899.410000\n",
      "\n",
      "99th Percentile:982.117000\n",
      "\n",
      "25th Percentile:732.720000\n",
      "\n",
      "75th Percentile:856.643000\n",
      "\n",
      "20th Percentile:777.570000\n",
      "\n",
      "40th Percentile:899.410000\n",
      "\n",
      "60th Percentile:982.117000\n",
      "\n",
      "80th Percentile:732.720000\n",
      "\n",
      "-----------------------------\n",
      "\n",
      "-----------------------------\n",
      "\n",
      "percentile values distribution for quic15169\n",
      "\n",
      "50th Percentile:247.123000\n",
      "\n",
      "90th Percentile:487.219000\n",
      "\n",
      "99th Percentile:921.325000\n",
      "\n",
      "25th Percentile:183.927000\n",
      "\n",
      "75th Percentile:287.613000\n",
      "\n",
      "20th Percentile:247.123000\n",
      "\n",
      "40th Percentile:487.219000\n",
      "\n",
      "60th Percentile:921.325000\n",
      "\n",
      "80th Percentile:183.927000\n",
      "\n",
      "-----------------------------\n",
      "\n"
     ]
    }
   ],
   "source": [
    "print_percentiles(x1, 'quic15133')\n",
    "print_percentiles(x3, 'quic55293')\n",
    "print_percentiles(x4, 'quic35415')\n",
    "print_percentiles(x5, 'quic203226')\n",
    "print_percentiles(x, 'quic15169')"
   ]
  },
  {
   "cell_type": "code",
   "execution_count": 53,
   "metadata": {},
   "outputs": [],
   "source": [
    "write_percentiles('quic15133.csv', x1)\n",
    "write_percentiles('quic55293.csv', x3)\n",
    "write_percentiles('quic35415.csv', x4)\n",
    "write_percentiles('quic203226.csv', x5)\n",
    "write_percentiles('quic15169.csv', x)"
   ]
  },
  {
   "cell_type": "code",
   "execution_count": 54,
   "metadata": {},
   "outputs": [
    {
     "name": "stderr",
     "output_type": "stream",
     "text": [
      "findfont: Font family ['monospace'] not found. Falling back to DejaVu Sans.\n",
      "findfont: Font family ['monospace'] not found. Falling back to DejaVu Sans.\n",
      "findfont: Font family ['monospace'] not found. Falling back to DejaVu Sans.\n",
      "findfont: Font family ['monospace'] not found. Falling back to DejaVu Sans.\n",
      "findfont: Font family ['monospace'] not found. Falling back to DejaVu Sans.\n"
     ]
    },
    {
     "data": {
      "image/png": "[encoded data removed]",
      "text/plain": [
       "<Figure size 900x600 with 1 Axes>"
      ]
     },
     "metadata": {
      "needs_background": "light"
     },
     "output_type": "display_data"
    }
   ],
   "source": [
    "data = {'$\\\\bf{ASN}$': ['GOOGLE', 'EDGECAST', 'A2HOSTING', 'WEBZILLA', 'IHCRU'],\n",
    "\t'$\\\\bf{25th}$': [\"{:.2f}\".format(x.Percentile(25)), \"{:.2f}\".format(x1.Percentile(25)), \"{:.2f}\".format(x3.Percentile(25)), \"{:.2f}\".format(x4.Percentile(25)), \"{:.2f}\".format(x5.Percentile(25))],\n",
    "\t'$\\\\bf{50th}$': [\"{:.2f}\".format(x.Percentile(50)), \"{:.2f}\".format(x1.Percentile(50)), \"{:.2f}\".format(x3.Percentile(50)), \"{:.2f}\".format(x4.Percentile(50)), \"{:.2f}\".format(x5.Percentile(50))],\n",
    "\t'$\\\\bf{75th}$': [\"{:.2f}\".format(x.Percentile(75)), \"{:.2f}\".format(x1.Percentile(75)), \"{:.2f}\".format(x3.Percentile(75)), \"{:.2f}\".format(x4.Percentile(75)), \"{:.2f}\".format(x5.Percentile(75))],\n",
    "\t'$\\\\bf{80th}$': [\"{:.2f}\".format(x.Percentile(80)), \"{:.2f}\".format(x1.Percentile(80)), \"{:.2f}\".format(x3.Percentile(80)), \"{:.2f}\".format(x4.Percentile(80)), \"{:.2f}\".format(x5.Percentile(80))],\n",
    "    '$\\\\bf{90th}$': [\"{:.2f}\".format(x.Percentile(90)), \"{:.2f}\".format(x1.Percentile(90)), \"{:.2f}\".format(x3.Percentile(90)), \"{:.2f}\".format(x4.Percentile(90)), \"{:.2f}\".format(x5.Percentile(90))]\n",
    "        }    \n",
    "\n",
    "df_percentile = pd.DataFrame(data)\n",
    "\n",
    "fig, ax = plt.subplots(dpi=150)\n",
    "\n",
    " #hide axes\n",
    "fig.patch.set_visible(False)\n",
    "ax.axis('off')\n",
    "ax.axis('tight')\n",
    "\n",
    "ax.table(cellText=df_percentile.values, colLabels=df_percentile.columns, loc='center', cellLoc='center')\n",
    "\n",
    "#fig.tight_layout()\n",
    "plt.savefig('./AWS/SaoPaulo/ASN/TotalDownloadTime_ipv4_asno_percentile.png', format='png', bbox_inches='tight')"
   ]
  },
  {
   "cell_type": "code",
   "execution_count": 55,
   "metadata": {},
   "outputs": [
    {
     "data": {
      "image/png": "[encoded data removed]",
      "text/plain": [
       "<Figure size 720x216 with 2 Axes>"
      ]
     },
     "metadata": {
      "needs_background": "light"
     },
     "output_type": "display_data"
    }
   ],
   "source": [
    "fig = plt.figure(figsize = (10,3))\n",
    "plt.rcParams['font.size'] = 12\n",
    "ax = plt.gca()\n",
    "yticks = np.arange(0,1.1,0.2)\n",
    "\n",
    "#15169\n",
    "plt.plot(x.xs, x.ps, marker='s', linewidth=0.3, markersize=5, fillstyle='none', color = 'orange')\n",
    "#15133\n",
    "plt.plot(x1.xs, x1.ps, marker='s', linewidth=0.3, markersize=5, fillstyle='none', color = 'red')\n",
    "#55293\n",
    "plt.plot(x3.xs, x3.ps, marker='s', linewidth=0.3, markersize=5, fillstyle='none', color = 'green')\n",
    "#35415\n",
    "plt.plot(x4.xs, x4.ps, marker='s', linewidth=0.3, markersize=5, fillstyle='none', color = 'black')\n",
    "#203226\n",
    "plt.plot(x5.xs, x5.ps, marker='s', linewidth=0.3, markersize=5, fillstyle='none', color = 'blue')\n",
    "\n",
    "\n",
    "ax = fig.axes[0]\n",
    "ax.grid(False)\n",
    "ax.set_yticks(yticks)\n",
    "ax.set_ylim([0,1.05])\n",
    "#ax.set_xlim([20,1000])\n",
    "ax.set_xscale('log')\n",
    "ax.set_xlabel('TotalDownloadTime', fontsize=12)\n",
    "ax.set_ylabel('CDF', fontsize=12)\n",
    "\n",
    "plt.legend(['GOOGLE', 'EDGECAST', 'A2Hosting', 'Webzilla', 'IHCRU'], fontsize=11, loc='best')\n",
    "\n",
    "ax.spines['right'].set_color('none')\n",
    "ax.spines['top'].set_color('none')\n",
    "ax.yaxis.set_ticks_position('left')\n",
    "ax.xaxis.set_ticks_position('bottom')\n",
    "ax.spines['bottom'].set_position(('axes', -0.05))\n",
    "ax.spines['left'].set_position(('axes', -0.05))\n",
    "\n",
    "ax3 = ax.twinx()\n",
    "ax3.spines['right'].set_color('none')\n",
    "ax3.spines['top'].set_color('none')\n",
    "ax3.spines['left'].set_color('none')\n",
    "ax3.spines['bottom'].set_color('none')\n",
    "ax3.yaxis.set_ticks_position('none')\n",
    "plt.setp(ax3.get_yticklabels(), visible=False)\n",
    "\n",
    "plt.title('TotalDownloadTime with IPv4', fontsize=12, y=1.05)\n",
    "plt.savefig('./AWS/SaoPaulo/ASN/TotalDownloadTime_ipv4_asno.png', format='png', bbox_inches='tight')"
   ]
  },
  {
   "cell_type": "code",
   "execution_count": 56,
   "metadata": {},
   "outputs": [],
   "source": [
    "#GOOGLE\n",
    "quic46 = quic15169.loc[t['Protocol'] == 'Q046']\n",
    "quic43 = quic15169.loc[t['Protocol'] == 'Q043']\n",
    "quic50 = quic15169.loc[t['Protocol'] == 'Q050']\n",
    "quich24 = quic15169.loc[t['Protocol'] == 'FF000018']"
   ]
  },
  {
   "cell_type": "code",
   "execution_count": 57,
   "metadata": {},
   "outputs": [],
   "source": [
    "x = Cdf.MakeCdfFromList(quic43['ConnectionEstablishmentTime'].values)\n",
    "x1 =Cdf.MakeCdfFromList(quic46['ConnectionEstablishmentTime'].values)\n",
    "x3 = Cdf.MakeCdfFromList(quic50['ConnectionEstablishmentTime'].values)\n",
    "x5 = Cdf.MakeCdfFromList(quich24['ConnectionEstablishmentTime'].values)"
   ]
  },
  {
   "cell_type": "code",
   "execution_count": 58,
   "metadata": {},
   "outputs": [
    {
     "name": "stdout",
     "output_type": "stream",
     "text": [
      "-----------------------------\n",
      "\n",
      "percentile values distribution for Q046\n",
      "\n",
      "50th Percentile:158.924000\n",
      "\n",
      "90th Percentile:165.787000\n",
      "\n",
      "99th Percentile:775.810000\n",
      "\n",
      "25th Percentile:95.668000\n",
      "\n",
      "75th Percentile:161.940000\n",
      "\n",
      "20th Percentile:158.924000\n",
      "\n",
      "40th Percentile:165.787000\n",
      "\n",
      "60th Percentile:775.810000\n",
      "\n",
      "80th Percentile:95.668000\n",
      "\n",
      "-----------------------------\n",
      "\n",
      "-----------------------------\n",
      "\n",
      "percentile values distribution for Q050\n",
      "\n",
      "50th Percentile:158.953000\n",
      "\n",
      "90th Percentile:165.783000\n",
      "\n",
      "99th Percentile:795.477000\n",
      "\n",
      "25th Percentile:95.550000\n",
      "\n",
      "75th Percentile:162.026000\n",
      "\n",
      "20th Percentile:158.953000\n",
      "\n",
      "40th Percentile:165.783000\n",
      "\n",
      "60th Percentile:795.477000\n",
      "\n",
      "80th Percentile:95.550000\n",
      "\n",
      "-----------------------------\n",
      "\n",
      "-----------------------------\n",
      "\n",
      "percentile values distribution for Q043\n",
      "\n",
      "50th Percentile:159.123000\n",
      "\n",
      "90th Percentile:165.893000\n",
      "\n",
      "99th Percentile:732.704000\n",
      "\n",
      "25th Percentile:95.566000\n",
      "\n",
      "75th Percentile:161.972000\n",
      "\n",
      "20th Percentile:159.123000\n",
      "\n",
      "40th Percentile:165.893000\n",
      "\n",
      "60th Percentile:732.704000\n",
      "\n",
      "80th Percentile:95.566000\n",
      "\n",
      "-----------------------------\n",
      "\n"
     ]
    }
   ],
   "source": [
    "print_percentiles(x1, 'Q046')\n",
    "print_percentiles(x3, 'Q050')\n",
    "#print_percentiles(x5, 'h24')\n",
    "print_percentiles(x, 'Q043')"
   ]
  },
  {
   "cell_type": "code",
   "execution_count": 59,
   "metadata": {},
   "outputs": [
    {
     "name": "stderr",
     "output_type": "stream",
     "text": [
      "findfont: Font family ['monospace'] not found. Falling back to DejaVu Sans.\n",
      "findfont: Font family ['monospace'] not found. Falling back to DejaVu Sans.\n"
     ]
    },
    {
     "data": {
      "image/png": "[encoded data removed]",
      "text/plain": [
       "<Figure size 900x600 with 1 Axes>"
      ]
     },
     "metadata": {
      "needs_background": "light"
     },
     "output_type": "display_data"
    }
   ],
   "source": [
    "data = {'$\\\\bf{Protocol}$': ['Q043', 'Q046', 'Q050'],\n",
    "\t'$\\\\bf{25th}$': [\"{:.2f}\".format(x.Percentile(25)), \"{:.2f}\".format(x1.Percentile(25)), \"{:.2f}\".format(x3.Percentile(25))],\n",
    "\t'$\\\\bf{50th}$': [\"{:.2f}\".format(x.Percentile(50)), \"{:.2f}\".format(x1.Percentile(50)), \"{:.2f}\".format(x3.Percentile(50))],\n",
    "\t'$\\\\bf{75th}$': [\"{:.2f}\".format(x.Percentile(75)), \"{:.2f}\".format(x1.Percentile(75)), \"{:.2f}\".format(x3.Percentile(75))],\n",
    "\t'$\\\\bf{80th}$': [\"{:.2f}\".format(x.Percentile(80)), \"{:.2f}\".format(x1.Percentile(80)), \"{:.2f}\".format(x3.Percentile(80))],\n",
    "    '$\\\\bf{90th}$': [\"{:.2f}\".format(x.Percentile(90)), \"{:.2f}\".format(x1.Percentile(90)), \"{:.2f}\".format(x3.Percentile(90))]\n",
    "        }    \n",
    "\n",
    "df_percentile = pd.DataFrame(data)\n",
    "\n",
    "fig, ax = plt.subplots(dpi=150)\n",
    "\n",
    " #hide axes\n",
    "fig.patch.set_visible(False)\n",
    "ax.axis('off')\n",
    "ax.axis('tight')\n",
    "\n",
    "ax.table(cellText=df_percentile.values, colLabels=df_percentile.columns, loc='center', cellLoc='center')\n",
    "\n",
    "#fig.tight_layout()\n",
    "plt.savefig('./AWS/SaoPaulo/ASN/handshake_times_ipv4_asn15169_percentile.png', format='png', bbox_inches='tight')"
   ]
  },
  {
   "cell_type": "code",
   "execution_count": 60,
   "metadata": {},
   "outputs": [
    {
     "data": {
      "image/png": "[encoded data removed]",
      "text/plain": [
       "<Figure size 720x216 with 2 Axes>"
      ]
     },
     "metadata": {
      "needs_background": "light"
     },
     "output_type": "display_data"
    }
   ],
   "source": [
    "fig = plt.figure(figsize = (10,3))\n",
    "plt.rcParams['font.size'] = 12\n",
    "ax = plt.gca()\n",
    "yticks = np.arange(0,1.1,0.2)\n",
    "\n",
    "#Q043\n",
    "plt.plot(x.xs, x.ps, marker='s', linewidth=0.3, markersize=5, fillstyle='none', color = 'orange')\n",
    "#Q046\n",
    "plt.plot(x1.xs, x1.ps, marker='s', linewidth=0.3, markersize=5, fillstyle='none', color = 'red')\n",
    "#Q050\n",
    "plt.plot(x3.xs, x3.ps, marker='s', linewidth=0.3, markersize=5, fillstyle='none', color = 'green')\n",
    "#Qh24\n",
    "plt.plot(x5.xs, x5.ps, marker='s', linewidth=0.3, markersize=5, fillstyle='none', color = 'blue')\n",
    "\n",
    "\n",
    "\n",
    "ax = fig.axes[0]\n",
    "ax.grid(False)\n",
    "ax.set_yticks(yticks)\n",
    "ax.set_ylim([0,1.05])\n",
    "#ax.set_xlim([20,100])\n",
    "ax.set_xscale('log')\n",
    "ax.set_xlabel('latency (x-axis is cut)', fontsize=12)\n",
    "ax.set_ylabel('CDF', fontsize=12)\n",
    "\n",
    "plt.legend(['Q043', 'Q046', 'Q050', 'IETF h-24'] , fontsize=11, loc='best')\n",
    "\n",
    "ax.spines['right'].set_color('none')\n",
    "ax.spines['top'].set_color('none')\n",
    "ax.yaxis.set_ticks_position('left')\n",
    "ax.xaxis.set_ticks_position('bottom')\n",
    "ax.spines['bottom'].set_position(('axes', -0.05))\n",
    "ax.spines['left'].set_position(('axes', -0.05))\n",
    "\n",
    "ax3 = ax.twinx()\n",
    "ax3.spines['right'].set_color('none')\n",
    "ax3.spines['top'].set_color('none')\n",
    "ax3.spines['left'].set_color('none')\n",
    "ax3.spines['bottom'].set_color('none')\n",
    "ax3.yaxis.set_ticks_position('none')\n",
    "plt.setp(ax3.get_yticklabels(), visible=False)\n",
    "\n",
    "plt.title('Handshake Times with IPv4', fontsize=12, y=1.05)\n",
    "plt.savefig('./AWS/SaoPaulo/ASN/handshake_times_ipv4_asn15169.png', format='png', bbox_inches='tight')\n"
   ]
  },
  {
   "cell_type": "code",
   "execution_count": 61,
   "metadata": {},
   "outputs": [],
   "source": [
    "x = Cdf.MakeCdfFromList(quic43['TTFB'].values)\n",
    "x1 =Cdf.MakeCdfFromList(quic46['TTFB'].values)\n",
    "x3 = Cdf.MakeCdfFromList(quic50['TTFB'].values)\n",
    "x5 = Cdf.MakeCdfFromList(quich24['TTFB'].values)"
   ]
  },
  {
   "cell_type": "code",
   "execution_count": 62,
   "metadata": {
    "lines_to_next_cell": 2
   },
   "outputs": [
    {
     "name": "stdout",
     "output_type": "stream",
     "text": [
      "-----------------------------\n",
      "\n",
      "percentile values distribution for Q046\n",
      "\n",
      "50th Percentile:245.568000\n",
      "\n",
      "90th Percentile:368.270000\n",
      "\n",
      "99th Percentile:880.774000\n",
      "\n",
      "25th Percentile:182.013000\n",
      "\n",
      "75th Percentile:286.156000\n",
      "\n",
      "20th Percentile:245.568000\n",
      "\n",
      "40th Percentile:368.270000\n",
      "\n",
      "60th Percentile:880.774000\n",
      "\n",
      "80th Percentile:182.013000\n",
      "\n",
      "-----------------------------\n",
      "\n",
      "-----------------------------\n",
      "\n",
      "percentile values distribution for Q050\n",
      "\n",
      "50th Percentile:245.565000\n",
      "\n",
      "90th Percentile:368.364000\n",
      "\n",
      "99th Percentile:883.222000\n",
      "\n",
      "25th Percentile:181.732000\n",
      "\n",
      "75th Percentile:286.109000\n",
      "\n",
      "20th Percentile:245.565000\n",
      "\n",
      "40th Percentile:368.364000\n",
      "\n",
      "60th Percentile:883.222000\n",
      "\n",
      "80th Percentile:181.732000\n",
      "\n",
      "-----------------------------\n",
      "\n",
      "-----------------------------\n",
      "\n",
      "percentile values distribution for Q043\n",
      "\n",
      "50th Percentile:246.953000\n",
      "\n",
      "90th Percentile:371.792000\n",
      "\n",
      "99th Percentile:859.038000\n",
      "\n",
      "25th Percentile:185.298000\n",
      "\n",
      "75th Percentile:287.440000\n",
      "\n",
      "20th Percentile:246.953000\n",
      "\n",
      "40th Percentile:371.792000\n",
      "\n",
      "60th Percentile:859.038000\n",
      "\n",
      "80th Percentile:185.298000\n",
      "\n",
      "-----------------------------\n",
      "\n"
     ]
    }
   ],
   "source": [
    "print_percentiles(x1, 'Q046')\n",
    "print_percentiles(x3, 'Q050')\n",
    "#print_percentiles(x5, 'h24')\n",
    "print_percentiles(x, 'Q043')"
   ]
  },
  {
   "cell_type": "code",
   "execution_count": 63,
   "metadata": {},
   "outputs": [
    {
     "name": "stderr",
     "output_type": "stream",
     "text": [
      "findfont: Font family ['monospace'] not found. Falling back to DejaVu Sans.\n"
     ]
    },
    {
     "data": {
      "image/png": "[encoded data removed]",
      "text/plain": [
       "<Figure size 900x600 with 1 Axes>"
      ]
     },
     "metadata": {
      "needs_background": "light"
     },
     "output_type": "display_data"
    }
   ],
   "source": [
    "data = {'$\\\\bf{Protocol}$': ['Q043', 'Q046', 'Q050'],\n",
    "\t'$\\\\bf{25th}$': [\"{:.2f}\".format(x.Percentile(25)), \"{:.2f}\".format(x1.Percentile(25)), \"{:.2f}\".format(x3.Percentile(25))],\n",
    "\t'$\\\\bf{50th}$': [\"{:.2f}\".format(x.Percentile(50)), \"{:.2f}\".format(x1.Percentile(50)), \"{:.2f}\".format(x3.Percentile(50))],\n",
    "\t'$\\\\bf{75th}$': [\"{:.2f}\".format(x.Percentile(75)), \"{:.2f}\".format(x1.Percentile(75)), \"{:.2f}\".format(x3.Percentile(75))],\n",
    "\t'$\\\\bf{80th}$': [\"{:.2f}\".format(x.Percentile(80)), \"{:.2f}\".format(x1.Percentile(80)), \"{:.2f}\".format(x3.Percentile(80))],\n",
    "    '$\\\\bf{90th}$': [\"{:.2f}\".format(x.Percentile(90)), \"{:.2f}\".format(x1.Percentile(90)), \"{:.2f}\".format(x3.Percentile(90))]\n",
    "        }   \n",
    "\n",
    "df_percentile = pd.DataFrame(data)\n",
    "\n",
    "fig, ax = plt.subplots(dpi=150)\n",
    "\n",
    " #hide axes\n",
    "fig.patch.set_visible(False)\n",
    "ax.axis('off')\n",
    "ax.axis('tight')\n",
    "\n",
    "ax.table(cellText=df_percentile.values, colLabels=df_percentile.columns, loc='center', cellLoc='center')\n",
    "\n",
    "#fig.tight_layout()\n",
    "plt.savefig('./AWS/SaoPaulo/ASN/handshake_times_ipv4_asn15169_percentile.png', format='png', bbox_inches='tight')"
   ]
  },
  {
   "cell_type": "code",
   "execution_count": 64,
   "metadata": {},
   "outputs": [
    {
     "data": {
      "image/png": "[encoded data removed]",
      "text/plain": [
       "<Figure size 720x216 with 2 Axes>"
      ]
     },
     "metadata": {
      "needs_background": "light"
     },
     "output_type": "display_data"
    }
   ],
   "source": [
    "fig = plt.figure(figsize = (10,3))\n",
    "plt.rcParams['font.size'] = 12\n",
    "ax = plt.gca()\n",
    "yticks = np.arange(0,1.1,0.2)\n",
    "\n",
    "#Q043\n",
    "plt.plot(x.xs, x.ps, marker='s', linewidth=0.3, markersize=5, fillstyle='none', color = 'orange')\n",
    "#Q046\n",
    "plt.plot(x1.xs, x1.ps, marker='s', linewidth=0.3, markersize=5, fillstyle='none', color = 'red')\n",
    "#Q050\n",
    "plt.plot(x3.xs, x3.ps, marker='s', linewidth=0.3, markersize=5, fillstyle='none', color = 'green')\n",
    "#h24\n",
    "#plt.plot(x5.xs, x5.ps, marker='s', linewidth=0.3, markersize=5, fillstyle='none', color = 'blue')\n",
    "\n",
    "\n",
    "\n",
    "ax = fig.axes[0]\n",
    "ax.grid(False)\n",
    "ax.set_yticks(yticks)\n",
    "ax.set_ylim([0,1.05])\n",
    "#ax.set_xlim([20,1000])\n",
    "ax.set_xscale('log')\n",
    "ax.set_xlabel('TTFB', fontsize=12)\n",
    "ax.set_ylabel('CDF', fontsize=12)\n",
    "\n",
    "plt.legend(['Q043', 'Q046', 'Q050'] , fontsize=11, loc='best')\n",
    "\n",
    "ax.spines['right'].set_color('none')\n",
    "ax.spines['top'].set_color('none')\n",
    "ax.yaxis.set_ticks_position('left')\n",
    "ax.xaxis.set_ticks_position('bottom')\n",
    "ax.spines['bottom'].set_position(('axes', -0.05))\n",
    "ax.spines['left'].set_position(('axes', -0.05))\n",
    "\n",
    "ax3 = ax.twinx()\n",
    "ax3.spines['right'].set_color('none')\n",
    "ax3.spines['top'].set_color('none')\n",
    "ax3.spines['left'].set_color('none')\n",
    "ax3.spines['bottom'].set_color('none')\n",
    "ax3.yaxis.set_ticks_position('none')\n",
    "plt.setp(ax3.get_yticklabels(), visible=False)\n",
    "\n",
    "plt.title('TTFB', fontsize=12, y=1.05)\n",
    "plt.savefig('./AWS/SaoPaulo/ASN/TTFB_ipv4_asn15169.png', format='png', bbox_inches='tight')\n"
   ]
  },
  {
   "cell_type": "code",
   "execution_count": 65,
   "metadata": {},
   "outputs": [],
   "source": [
    "x = Cdf.MakeCdfFromList(quic43['TotalDownloadTime'].values)\n",
    "x1 =Cdf.MakeCdfFromList(quic46['TotalDownloadTime'].values)\n",
    "x3 = Cdf.MakeCdfFromList(quic50['TotalDownloadTime'].values)\n",
    "x5 = Cdf.MakeCdfFromList(quich24['TotalDownloadTime'].values)"
   ]
  },
  {
   "cell_type": "code",
   "execution_count": 66,
   "metadata": {},
   "outputs": [
    {
     "name": "stdout",
     "output_type": "stream",
     "text": [
      "-----------------------------\n",
      "\n",
      "percentile values distribution for Q046\n",
      "\n",
      "50th Percentile:246.821000\n",
      "\n",
      "90th Percentile:488.642000\n",
      "\n",
      "99th Percentile:920.302000\n",
      "\n",
      "25th Percentile:183.269000\n",
      "\n",
      "75th Percentile:287.417000\n",
      "\n",
      "20th Percentile:246.821000\n",
      "\n",
      "40th Percentile:488.642000\n",
      "\n",
      "60th Percentile:920.302000\n",
      "\n",
      "80th Percentile:183.269000\n",
      "\n",
      "-----------------------------\n",
      "\n",
      "-----------------------------\n",
      "\n",
      "percentile values distribution for Q050\n",
      "\n",
      "50th Percentile:246.764000\n",
      "\n",
      "90th Percentile:474.209000\n",
      "\n",
      "99th Percentile:928.074000\n",
      "\n",
      "25th Percentile:182.782000\n",
      "\n",
      "75th Percentile:287.363000\n",
      "\n",
      "20th Percentile:246.764000\n",
      "\n",
      "40th Percentile:474.209000\n",
      "\n",
      "60th Percentile:928.074000\n",
      "\n",
      "80th Percentile:182.782000\n",
      "\n",
      "-----------------------------\n",
      "\n",
      "-----------------------------\n",
      "\n",
      "percentile values distribution for Q043\n",
      "\n",
      "50th Percentile:248.164000\n",
      "\n",
      "90th Percentile:488.355000\n",
      "\n",
      "99th Percentile:917.088000\n",
      "\n",
      "25th Percentile:186.156000\n",
      "\n",
      "75th Percentile:287.950000\n",
      "\n",
      "20th Percentile:248.164000\n",
      "\n",
      "40th Percentile:488.355000\n",
      "\n",
      "60th Percentile:917.088000\n",
      "\n",
      "80th Percentile:186.156000\n",
      "\n",
      "-----------------------------\n",
      "\n"
     ]
    }
   ],
   "source": [
    "print_percentiles(x1, 'Q046')\n",
    "print_percentiles(x3, 'Q050')\n",
    "#print_percentiles(x5, 'h24')\n",
    "print_percentiles(x, 'Q043')"
   ]
  },
  {
   "cell_type": "code",
   "execution_count": 67,
   "metadata": {},
   "outputs": [
    {
     "name": "stderr",
     "output_type": "stream",
     "text": [
      "findfont: Font family ['monospace'] not found. Falling back to DejaVu Sans.\n"
     ]
    },
    {
     "data": {
      "image/png": "[encoded data removed]",
      "text/plain": [
       "<Figure size 900x600 with 1 Axes>"
      ]
     },
     "metadata": {
      "needs_background": "light"
     },
     "output_type": "display_data"
    }
   ],
   "source": [
    "data = {'$\\\\bf{Protocol}$': ['Q043', 'Q046', 'Q050'],\n",
    "\t'$\\\\bf{25th}$': [\"{:.2f}\".format(x.Percentile(25)), \"{:.2f}\".format(x1.Percentile(25)), \"{:.2f}\".format(x3.Percentile(25))],\n",
    "\t'$\\\\bf{50th}$': [\"{:.2f}\".format(x.Percentile(50)), \"{:.2f}\".format(x1.Percentile(50)), \"{:.2f}\".format(x3.Percentile(50))],\n",
    "\t'$\\\\bf{75th}$': [\"{:.2f}\".format(x.Percentile(75)), \"{:.2f}\".format(x1.Percentile(75)), \"{:.2f}\".format(x3.Percentile(75))],\n",
    "\t'$\\\\bf{80th}$': [\"{:.2f}\".format(x.Percentile(80)), \"{:.2f}\".format(x1.Percentile(80)), \"{:.2f}\".format(x3.Percentile(80))],\n",
    "    '$\\\\bf{90th}$': [\"{:.2f}\".format(x.Percentile(90)), \"{:.2f}\".format(x1.Percentile(90)), \"{:.2f}\".format(x3.Percentile(90))]\n",
    "        }   \n",
    "\n",
    "df_percentile = pd.DataFrame(data)\n",
    "\n",
    "fig, ax = plt.subplots(dpi=150)\n",
    "\n",
    " #hide axes\n",
    "fig.patch.set_visible(False)\n",
    "ax.axis('off')\n",
    "ax.axis('tight')\n",
    "\n",
    "ax.table(cellText=df_percentile.values, colLabels=df_percentile.columns, loc='center', cellLoc='center')\n",
    "\n",
    "#fig.tight_layout()\n",
    "plt.savefig('./AWS/SaoPaulo/ASN/total_download_time_ipv4_asn15169_percentile.png', format='png', bbox_inches='tight')"
   ]
  },
  {
   "cell_type": "code",
   "execution_count": 68,
   "metadata": {},
   "outputs": [
    {
     "data": {
      "image/png": "[encoded data removed]",
      "text/plain": [
       "<Figure size 720x216 with 2 Axes>"
      ]
     },
     "metadata": {
      "needs_background": "light"
     },
     "output_type": "display_data"
    }
   ],
   "source": [
    "fig = plt.figure(figsize = (10,3))\n",
    "plt.rcParams['font.size'] = 12\n",
    "ax = plt.gca()\n",
    "yticks = np.arange(0,1.1,0.2)\n",
    "\n",
    "#Q043\n",
    "plt.plot(x.xs, x.ps, marker='s', linewidth=0.3, markersize=5, fillstyle='none', color = 'orange')\n",
    "#Q046\n",
    "plt.plot(x1.xs, x1.ps, marker='s', linewidth=0.3, markersize=5, fillstyle='none', color = 'red')\n",
    "#Q050\n",
    "plt.plot(x3.xs, x3.ps, marker='s', linewidth=0.3, markersize=5, fillstyle='none', color = 'green')\n",
    "#h24\n",
    "#plt.plot(x5.xs, x5.ps, marker='s', linewidth=0.3, markersize=5, fillstyle='none', color = 'blue')\n",
    "\n",
    "\n",
    "\n",
    "ax = fig.axes[0]\n",
    "ax.grid(False)\n",
    "ax.set_yticks(yticks)\n",
    "ax.set_ylim([0,1.05])\n",
    "#ax.set_xlim([20,1000])\n",
    "ax.set_xscale('log')\n",
    "ax.set_xlabel('TotalDownloadTime', fontsize=12)\n",
    "ax.set_ylabel('CDF', fontsize=12)\n",
    "\n",
    "plt.legend(['Q043', 'Q046', 'Q050'] , fontsize=11, loc='best')\n",
    "\n",
    "ax.spines['right'].set_color('none')\n",
    "ax.spines['top'].set_color('none')\n",
    "ax.yaxis.set_ticks_position('left')\n",
    "ax.xaxis.set_ticks_position('bottom')\n",
    "ax.spines['bottom'].set_position(('axes', -0.05))\n",
    "ax.spines['left'].set_position(('axes', -0.05))\n",
    "\n",
    "ax3 = ax.twinx()\n",
    "ax3.spines['right'].set_color('none')\n",
    "ax3.spines['top'].set_color('none')\n",
    "ax3.spines['left'].set_color('none')\n",
    "ax3.spines['bottom'].set_color('none')\n",
    "ax3.yaxis.set_ticks_position('none')\n",
    "plt.setp(ax3.get_yticklabels(), visible=False)\n",
    "\n",
    "plt.title('Total Download Time', fontsize=12, y=1.05)\n",
    "plt.savefig('./AWS/SaoPaulo/ASN/total_download_time_ipv4_asn15169.png', format='png', bbox_inches='tight')\n"
   ]
  },
  {
   "cell_type": "code",
   "execution_count": 69,
   "metadata": {},
   "outputs": [],
   "source": [
    "#Edgecast\n",
    "quic44 = quic15133.loc[t['Protocol'] == 'Q046']\n",
    "quic43 = quic15133.loc[t['Protocol'] == 'Q043']\n",
    "quic39 = quic15133.loc[t['Protocol'] == 'Q050']\n",
    "quic35 = quic15133.loc[t['Protocol'] == 'FF000018']"
   ]
  },
  {
   "cell_type": "code",
   "execution_count": 70,
   "metadata": {},
   "outputs": [],
   "source": [
    "x = Cdf.MakeCdfFromList(quic43['ConnectionEstablishmentTime'].values)\n",
    "x1 =Cdf.MakeCdfFromList(quic46['ConnectionEstablishmentTime'].values)\n",
    "x3 = Cdf.MakeCdfFromList(quic50['ConnectionEstablishmentTime'].values)\n",
    "x5 = Cdf.MakeCdfFromList(quich24['ConnectionEstablishmentTime'].values)"
   ]
  },
  {
   "cell_type": "code",
   "execution_count": 71,
   "metadata": {},
   "outputs": [
    {
     "name": "stdout",
     "output_type": "stream",
     "text": [
      "-----------------------------\n",
      "\n",
      "percentile values distribution for Q046\n",
      "\n",
      "50th Percentile:158.924000\n",
      "\n",
      "90th Percentile:165.787000\n",
      "\n",
      "99th Percentile:775.810000\n",
      "\n",
      "25th Percentile:95.668000\n",
      "\n",
      "75th Percentile:161.940000\n",
      "\n",
      "20th Percentile:158.924000\n",
      "\n",
      "40th Percentile:165.787000\n",
      "\n",
      "60th Percentile:775.810000\n",
      "\n",
      "80th Percentile:95.668000\n",
      "\n",
      "-----------------------------\n",
      "\n",
      "-----------------------------\n",
      "\n",
      "percentile values distribution for Q050\n",
      "\n",
      "50th Percentile:158.953000\n",
      "\n",
      "90th Percentile:165.783000\n",
      "\n",
      "99th Percentile:795.477000\n",
      "\n",
      "25th Percentile:95.550000\n",
      "\n",
      "75th Percentile:162.026000\n",
      "\n",
      "20th Percentile:158.953000\n",
      "\n",
      "40th Percentile:165.783000\n",
      "\n",
      "60th Percentile:795.477000\n",
      "\n",
      "80th Percentile:95.550000\n",
      "\n",
      "-----------------------------\n",
      "\n",
      "-----------------------------\n",
      "\n",
      "percentile values distribution for Q043\n",
      "\n",
      "50th Percentile:242.193000\n",
      "\n",
      "90th Percentile:248.947000\n",
      "\n",
      "99th Percentile:372.860000\n",
      "\n",
      "25th Percentile:219.001000\n",
      "\n",
      "75th Percentile:246.828000\n",
      "\n",
      "20th Percentile:242.193000\n",
      "\n",
      "40th Percentile:248.947000\n",
      "\n",
      "60th Percentile:372.860000\n",
      "\n",
      "80th Percentile:219.001000\n",
      "\n",
      "-----------------------------\n",
      "\n"
     ]
    }
   ],
   "source": [
    "print_percentiles(x1, 'Q046')\n",
    "print_percentiles(x3, 'Q050')\n",
    "#print_percentiles(x5, 'h24')\n",
    "print_percentiles(x, 'Q043')"
   ]
  },
  {
   "cell_type": "code",
   "execution_count": 72,
   "metadata": {},
   "outputs": [
    {
     "name": "stderr",
     "output_type": "stream",
     "text": [
      "findfont: Font family ['monospace'] not found. Falling back to DejaVu Sans.\n"
     ]
    },
    {
     "data": {
      "image/png": "[encoded data removed]",
      "text/plain": [
       "<Figure size 900x600 with 1 Axes>"
      ]
     },
     "metadata": {
      "needs_background": "light"
     },
     "output_type": "display_data"
    }
   ],
   "source": [
    "data = {'$\\\\bf{Protocol}$': ['Q043', 'Q046', 'Q050'],\n",
    "\t'$\\\\bf{25th}$': [\"{:.2f}\".format(x.Percentile(25)), \"{:.2f}\".format(x1.Percentile(25)), \"{:.2f}\".format(x3.Percentile(25))],\n",
    "\t'$\\\\bf{50th}$': [\"{:.2f}\".format(x.Percentile(50)), \"{:.2f}\".format(x1.Percentile(50)), \"{:.2f}\".format(x3.Percentile(50))],\n",
    "\t'$\\\\bf{75th}$': [\"{:.2f}\".format(x.Percentile(75)), \"{:.2f}\".format(x1.Percentile(75)), \"{:.2f}\".format(x3.Percentile(75))],\n",
    "\t'$\\\\bf{80th}$': [\"{:.2f}\".format(x.Percentile(80)), \"{:.2f}\".format(x1.Percentile(80)), \"{:.2f}\".format(x3.Percentile(80))],\n",
    "    '$\\\\bf{90th}$': [\"{:.2f}\".format(x.Percentile(90)), \"{:.2f}\".format(x1.Percentile(90)), \"{:.2f}\".format(x3.Percentile(90))]\n",
    "        }   \n",
    "\n",
    "df_percentile = pd.DataFrame(data)\n",
    "\n",
    "fig, ax = plt.subplots(dpi=150)\n",
    "\n",
    " #hide axes\n",
    "fig.patch.set_visible(False)\n",
    "ax.axis('off')\n",
    "ax.axis('tight')\n",
    "\n",
    "ax.table(cellText=df_percentile.values, colLabels=df_percentile.columns, loc='center', cellLoc='center')\n",
    "\n",
    "#fig.tight_layout()\n",
    "plt.savefig('./AWS/SaoPaulo/ASN/handshake_times_ipv4_asn15133_percentile.png', format='png', bbox_inches='tight')"
   ]
  },
  {
   "cell_type": "code",
   "execution_count": 73,
   "metadata": {},
   "outputs": [
    {
     "data": {
      "image/png": "[encoded data removed]",
      "text/plain": [
       "<Figure size 720x216 with 2 Axes>"
      ]
     },
     "metadata": {
      "needs_background": "light"
     },
     "output_type": "display_data"
    }
   ],
   "source": [
    "fig = plt.figure(figsize = (10,3))\n",
    "plt.rcParams['font.size'] = 12\n",
    "ax = plt.gca()\n",
    "yticks = np.arange(0,1.1,0.2)\n",
    "\n",
    "#Q043\n",
    "plt.plot(x.xs, x.ps, marker='s', linewidth=0.3, markersize=5, fillstyle='none', color = 'orange')\n",
    "#Q046\n",
    "plt.plot(x1.xs, x1.ps, marker='s', linewidth=0.3, markersize=5, fillstyle='none', color = 'red')\n",
    "#Q050\n",
    "plt.plot(x3.xs, x3.ps, marker='s', linewidth=0.3, markersize=5, fillstyle='none', color = 'green')\n",
    "#h24\n",
    "#plt.plot(x5.xs, x5.ps, marker='s', linewidth=0.3, markersize=5, fillstyle='none', color = 'blue')\n",
    "\n",
    "\n",
    "\n",
    "ax = fig.axes[0]\n",
    "ax.grid(False)\n",
    "ax.set_yticks(yticks)\n",
    "ax.set_ylim([0,1.05])\n",
    "#ax.set_xlim([20,100])\n",
    "ax.set_xscale('log')\n",
    "ax.set_xlabel('latency (x-axis is cut)', fontsize=12)\n",
    "ax.set_ylabel('CDF', fontsize=12)\n",
    "\n",
    "plt.legend(['Q043', 'Q046', 'Q050'] , fontsize=11, loc='best')\n",
    "\n",
    "ax.spines['right'].set_color('none')\n",
    "ax.spines['top'].set_color('none')\n",
    "ax.yaxis.set_ticks_position('left')\n",
    "ax.xaxis.set_ticks_position('bottom')\n",
    "ax.spines['bottom'].set_position(('axes', -0.05))\n",
    "ax.spines['left'].set_position(('axes', -0.05))\n",
    "\n",
    "ax3 = ax.twinx()\n",
    "ax3.spines['right'].set_color('none')\n",
    "ax3.spines['top'].set_color('none')\n",
    "ax3.spines['left'].set_color('none')\n",
    "ax3.spines['bottom'].set_color('none')\n",
    "ax3.yaxis.set_ticks_position('none')\n",
    "plt.setp(ax3.get_yticklabels(), visible=False)\n",
    "\n",
    "plt.title('Handshake Times with IPv4', fontsize=12, y=1.05)\n",
    "plt.savefig('./AWS/SaoPaulo/ASN/handshake_times_ipv4_asn15133.png', format='png', bbox_inches='tight')\n"
   ]
  },
  {
   "cell_type": "code",
   "execution_count": 74,
   "metadata": {},
   "outputs": [],
   "source": [
    "x = Cdf.MakeCdfFromList(quic43['TTFB'].values)\n",
    "x1 =Cdf.MakeCdfFromList(quic46['TTFB'].values)\n",
    "x3 = Cdf.MakeCdfFromList(quic50['TTFB'].values)\n",
    "x5 = Cdf.MakeCdfFromList(quich24['TTFB'].values)"
   ]
  },
  {
   "cell_type": "code",
   "execution_count": 75,
   "metadata": {
    "lines_to_next_cell": 2
   },
   "outputs": [
    {
     "name": "stdout",
     "output_type": "stream",
     "text": [
      "-----------------------------\n",
      "\n",
      "percentile values distribution for Q046\n",
      "\n",
      "50th Percentile:245.568000\n",
      "\n",
      "90th Percentile:368.270000\n",
      "\n",
      "99th Percentile:880.774000\n",
      "\n",
      "25th Percentile:182.013000\n",
      "\n",
      "75th Percentile:286.156000\n",
      "\n",
      "20th Percentile:245.568000\n",
      "\n",
      "40th Percentile:368.270000\n",
      "\n",
      "60th Percentile:880.774000\n",
      "\n",
      "80th Percentile:182.013000\n",
      "\n",
      "-----------------------------\n",
      "\n",
      "-----------------------------\n",
      "\n",
      "percentile values distribution for Q050\n",
      "\n",
      "50th Percentile:245.565000\n",
      "\n",
      "90th Percentile:368.364000\n",
      "\n",
      "99th Percentile:883.222000\n",
      "\n",
      "25th Percentile:181.732000\n",
      "\n",
      "75th Percentile:286.109000\n",
      "\n",
      "20th Percentile:245.565000\n",
      "\n",
      "40th Percentile:368.364000\n",
      "\n",
      "60th Percentile:883.222000\n",
      "\n",
      "80th Percentile:181.732000\n",
      "\n",
      "-----------------------------\n",
      "\n",
      "-----------------------------\n",
      "\n",
      "percentile values distribution for Q043\n",
      "\n",
      "50th Percentile:423.810000\n",
      "\n",
      "90th Percentile:775.355000\n",
      "\n",
      "99th Percentile:960.986000\n",
      "\n",
      "25th Percentile:335.107000\n",
      "\n",
      "75th Percentile:606.825000\n",
      "\n",
      "20th Percentile:423.810000\n",
      "\n",
      "40th Percentile:775.355000\n",
      "\n",
      "60th Percentile:960.986000\n",
      "\n",
      "80th Percentile:335.107000\n",
      "\n",
      "-----------------------------\n",
      "\n"
     ]
    }
   ],
   "source": [
    "print_percentiles(x1, 'Q046')\n",
    "print_percentiles(x3, 'Q050')\n",
    "#print_percentiles(x5, 'h24')\n",
    "print_percentiles(x, 'Q043')"
   ]
  },
  {
   "cell_type": "code",
   "execution_count": 76,
   "metadata": {},
   "outputs": [
    {
     "name": "stderr",
     "output_type": "stream",
     "text": [
      "findfont: Font family ['monospace'] not found. Falling back to DejaVu Sans.\n"
     ]
    },
    {
     "data": {
      "image/png": "[encoded data removed]",
      "text/plain": [
       "<Figure size 900x600 with 1 Axes>"
      ]
     },
     "metadata": {
      "needs_background": "light"
     },
     "output_type": "display_data"
    }
   ],
   "source": [
    "data = {'$\\\\bf{Protocol}$': ['Q043', 'Q046', 'Q050'],\n",
    "\t'$\\\\bf{25th}$': [\"{:.2f}\".format(x.Percentile(25)), \"{:.2f}\".format(x1.Percentile(25)), \"{:.2f}\".format(x3.Percentile(25))],\n",
    "\t'$\\\\bf{50th}$': [\"{:.2f}\".format(x.Percentile(50)), \"{:.2f}\".format(x1.Percentile(50)), \"{:.2f}\".format(x3.Percentile(50))],\n",
    "\t'$\\\\bf{75th}$': [\"{:.2f}\".format(x.Percentile(75)), \"{:.2f}\".format(x1.Percentile(75)), \"{:.2f}\".format(x3.Percentile(75))],\n",
    "\t'$\\\\bf{80th}$': [\"{:.2f}\".format(x.Percentile(80)), \"{:.2f}\".format(x1.Percentile(80)), \"{:.2f}\".format(x3.Percentile(80))],\n",
    "    '$\\\\bf{90th}$': [\"{:.2f}\".format(x.Percentile(90)), \"{:.2f}\".format(x1.Percentile(90)), \"{:.2f}\".format(x3.Percentile(90))]\n",
    "        }   \n",
    "\n",
    "df_percentile = pd.DataFrame(data)\n",
    "\n",
    "fig, ax = plt.subplots(dpi=150)\n",
    "\n",
    " #hide axes\n",
    "fig.patch.set_visible(False)\n",
    "ax.axis('off')\n",
    "ax.axis('tight')\n",
    "\n",
    "ax.table(cellText=df_percentile.values, colLabels=df_percentile.columns, loc='center', cellLoc='center')\n",
    "\n",
    "#fig.tight_layout()\n",
    "plt.savefig('./AWS/SaoPaulo/ASN/TTFB_ipv4_asn15133_percentile.png', format='png', bbox_inches='tight')\n"
   ]
  },
  {
   "cell_type": "code",
   "execution_count": 77,
   "metadata": {},
   "outputs": [
    {
     "data": {
      "image/png": "[encoded data removed]",
      "text/plain": [
       "<Figure size 720x216 with 2 Axes>"
      ]
     },
     "metadata": {
      "needs_background": "light"
     },
     "output_type": "display_data"
    }
   ],
   "source": [
    "fig = plt.figure(figsize = (10,3))\n",
    "plt.rcParams['font.size'] = 12\n",
    "ax = plt.gca()\n",
    "yticks = np.arange(0,1.1,0.2)\n",
    "\n",
    "#Q043\n",
    "plt.plot(x.xs, x.ps, marker='s', linewidth=0.3, markersize=5, fillstyle='none', color = 'orange')\n",
    "#Q046\n",
    "plt.plot(x1.xs, x1.ps, marker='s', linewidth=0.3, markersize=5, fillstyle='none', color = 'red')\n",
    "#Q050\n",
    "plt.plot(x3.xs, x3.ps, marker='s', linewidth=0.3, markersize=5, fillstyle='none', color = 'green')\n",
    "#h4\n",
    "plt.plot(x5.xs, x5.ps, marker='s', linewidth=0.3, markersize=5, fillstyle='none', color = 'blue')\n",
    "\n",
    "\n",
    "\n",
    "ax = fig.axes[0]\n",
    "ax.grid(False)\n",
    "ax.set_yticks(yticks)\n",
    "ax.set_ylim([0,1.05])\n",
    "#ax.set_xlim([20,1000])\n",
    "ax.set_xscale('log')\n",
    "ax.set_xlabel('TTFB', fontsize=12)\n",
    "ax.set_ylabel('CDF', fontsize=12)\n",
    "\n",
    "plt.legend(['Q043', 'Q046', 'Q050'] , fontsize=11, loc='best')\n",
    "\n",
    "ax.spines['right'].set_color('none')\n",
    "ax.spines['top'].set_color('none')\n",
    "ax.yaxis.set_ticks_position('left')\n",
    "ax.xaxis.set_ticks_position('bottom')\n",
    "ax.spines['bottom'].set_position(('axes', -0.05))\n",
    "ax.spines['left'].set_position(('axes', -0.05))\n",
    "\n",
    "ax3 = ax.twinx()\n",
    "ax3.spines['right'].set_color('none')\n",
    "ax3.spines['top'].set_color('none')\n",
    "ax3.spines['left'].set_color('none')\n",
    "ax3.spines['bottom'].set_color('none')\n",
    "ax3.yaxis.set_ticks_position('none')\n",
    "plt.setp(ax3.get_yticklabels(), visible=False)\n",
    "\n",
    "plt.title('TTFB', fontsize=12, y=1.05)\n",
    "plt.savefig('./AWS/SaoPaulo/ASN/TTFB_ipv4_asn15133.png', format='png', bbox_inches='tight')\n"
   ]
  },
  {
   "cell_type": "code",
   "execution_count": 78,
   "metadata": {},
   "outputs": [],
   "source": [
    "x = Cdf.MakeCdfFromList(quic43['TotalDownloadTime'].values)\n",
    "x1 =Cdf.MakeCdfFromList(quic46['TotalDownloadTime'].values)\n",
    "x3 = Cdf.MakeCdfFromList(quic50['TotalDownloadTime'].values)\n",
    "x5 = Cdf.MakeCdfFromList(quich24['TotalDownloadTime'].values)"
   ]
  },
  {
   "cell_type": "code",
   "execution_count": 79,
   "metadata": {
    "lines_to_next_cell": 2
   },
   "outputs": [
    {
     "name": "stdout",
     "output_type": "stream",
     "text": [
      "-----------------------------\n",
      "\n",
      "percentile values distribution for Q046\n",
      "\n",
      "50th Percentile:246.821000\n",
      "\n",
      "90th Percentile:488.642000\n",
      "\n",
      "99th Percentile:920.302000\n",
      "\n",
      "25th Percentile:183.269000\n",
      "\n",
      "75th Percentile:287.417000\n",
      "\n",
      "20th Percentile:246.821000\n",
      "\n",
      "40th Percentile:488.642000\n",
      "\n",
      "60th Percentile:920.302000\n",
      "\n",
      "80th Percentile:183.269000\n",
      "\n",
      "-----------------------------\n",
      "\n",
      "-----------------------------\n",
      "\n",
      "percentile values distribution for Q050\n",
      "\n",
      "50th Percentile:246.764000\n",
      "\n",
      "90th Percentile:474.209000\n",
      "\n",
      "99th Percentile:928.074000\n",
      "\n",
      "25th Percentile:182.782000\n",
      "\n",
      "75th Percentile:287.363000\n",
      "\n",
      "20th Percentile:246.764000\n",
      "\n",
      "40th Percentile:474.209000\n",
      "\n",
      "60th Percentile:928.074000\n",
      "\n",
      "80th Percentile:182.782000\n",
      "\n",
      "-----------------------------\n",
      "\n",
      "-----------------------------\n",
      "\n",
      "percentile values distribution for Q043\n",
      "\n",
      "50th Percentile:550.360000\n",
      "\n",
      "90th Percentile:902.437000\n",
      "\n",
      "99th Percentile:984.163000\n",
      "\n",
      "25th Percentile:242.795000\n",
      "\n",
      "75th Percentile:775.582000\n",
      "\n",
      "20th Percentile:550.360000\n",
      "\n",
      "40th Percentile:902.437000\n",
      "\n",
      "60th Percentile:984.163000\n",
      "\n",
      "80th Percentile:242.795000\n",
      "\n",
      "-----------------------------\n",
      "\n"
     ]
    }
   ],
   "source": [
    "print_percentiles(x1, 'Q046')\n",
    "print_percentiles(x3, 'Q050')\n",
    "#print_percentiles(x5, 'h24')\n",
    "print_percentiles(x, 'Q043')"
   ]
  },
  {
   "cell_type": "code",
   "execution_count": 80,
   "metadata": {},
   "outputs": [
    {
     "name": "stderr",
     "output_type": "stream",
     "text": [
      "findfont: Font family ['monospace'] not found. Falling back to DejaVu Sans.\n"
     ]
    },
    {
     "data": {
      "image/png": "[encoded data removed]",
      "text/plain": [
       "<Figure size 900x600 with 1 Axes>"
      ]
     },
     "metadata": {
      "needs_background": "light"
     },
     "output_type": "display_data"
    }
   ],
   "source": [
    "data = {'$\\\\bf{Protocol}$': ['Q043', 'Q046', 'Q050'],\n",
    "\t'$\\\\bf{25th}$': [\"{:.2f}\".format(x.Percentile(25)), \"{:.2f}\".format(x1.Percentile(25)), \"{:.2f}\".format(x3.Percentile(25))],\n",
    "\t'$\\\\bf{50th}$': [\"{:.2f}\".format(x.Percentile(50)), \"{:.2f}\".format(x1.Percentile(50)), \"{:.2f}\".format(x3.Percentile(50))],\n",
    "\t'$\\\\bf{75th}$': [\"{:.2f}\".format(x.Percentile(75)), \"{:.2f}\".format(x1.Percentile(75)), \"{:.2f}\".format(x3.Percentile(75))],\n",
    "\t'$\\\\bf{80th}$': [\"{:.2f}\".format(x.Percentile(80)), \"{:.2f}\".format(x1.Percentile(80)), \"{:.2f}\".format(x3.Percentile(80))],\n",
    "    '$\\\\bf{90th}$': [\"{:.2f}\".format(x.Percentile(90)), \"{:.2f}\".format(x1.Percentile(90)), \"{:.2f}\".format(x3.Percentile(90))]\n",
    "        }   \n",
    "\n",
    "df_percentile = pd.DataFrame(data)\n",
    "\n",
    "fig, ax = plt.subplots(dpi=150)\n",
    "\n",
    " #hide axes\n",
    "fig.patch.set_visible(False)\n",
    "ax.axis('off')\n",
    "ax.axis('tight')\n",
    "\n",
    "ax.table(cellText=df_percentile.values, colLabels=df_percentile.columns, loc='center', cellLoc='center')\n",
    "\n",
    "#fig.tight_layout()\n",
    "plt.savefig('./AWS/SaoPaulo/ASN/Total_Download_time_ipv4_asn15133_percentile.png', format='png', bbox_inches='tight')"
   ]
  },
  {
   "cell_type": "code",
   "execution_count": 81,
   "metadata": {},
   "outputs": [
    {
     "data": {
      "image/png": "[encoded data removed]",
      "text/plain": [
       "<Figure size 720x216 with 2 Axes>"
      ]
     },
     "metadata": {
      "needs_background": "light"
     },
     "output_type": "display_data"
    }
   ],
   "source": [
    "fig = plt.figure(figsize = (10,3))\n",
    "plt.rcParams['font.size'] = 12\n",
    "ax = plt.gca()\n",
    "yticks = np.arange(0,1.1,0.2)\n",
    "\n",
    "#Q043\n",
    "plt.plot(x.xs, x.ps, marker='s', linewidth=0.3, markersize=5, fillstyle='none', color = 'orange')\n",
    "#Q046\n",
    "plt.plot(x1.xs, x1.ps, marker='s', linewidth=0.3, markersize=5, fillstyle='none', color = 'red')\n",
    "#Q050\n",
    "plt.plot(x3.xs, x3.ps, marker='s', linewidth=0.3, markersize=5, fillstyle='none', color = 'green')\n",
    "#h24\n",
    "#plt.plot(x5.xs, x5.ps, marker='s', linewidth=0.3, markersize=5, fillstyle='none', color = 'blue')\n",
    "\n",
    "\n",
    "\n",
    "ax = fig.axes[0]\n",
    "ax.grid(False)\n",
    "ax.set_yticks(yticks)\n",
    "ax.set_ylim([0,1.05])\n",
    "#ax.set_xlim([20,1000])\n",
    "ax.set_xscale('log')\n",
    "ax.set_xlabel('TotalDownloadTime', fontsize=12)\n",
    "ax.set_ylabel('CDF', fontsize=12)\n",
    "\n",
    "plt.legend(['Q043', 'Q046', 'Q050'] , fontsize=11, loc='best')\n",
    "\n",
    "ax.spines['right'].set_color('none')\n",
    "ax.spines['top'].set_color('none')\n",
    "ax.yaxis.set_ticks_position('left')\n",
    "ax.xaxis.set_ticks_position('bottom')\n",
    "ax.spines['bottom'].set_position(('axes', -0.05))\n",
    "ax.spines['left'].set_position(('axes', -0.05))\n",
    "\n",
    "ax3 = ax.twinx()\n",
    "ax3.spines['right'].set_color('none')\n",
    "ax3.spines['top'].set_color('none')\n",
    "ax3.spines['left'].set_color('none')\n",
    "ax3.spines['bottom'].set_color('none')\n",
    "ax3.yaxis.set_ticks_position('none')\n",
    "plt.setp(ax3.get_yticklabels(), visible=False)\n",
    "\n",
    "plt.title('TotalDownloadTime', fontsize=12, y=1.05)\n",
    "plt.savefig('./AWS/SaoPaulo/ASN/Total_Download_time_ipv4_asn15133.png', format='png', bbox_inches='tight')\n",
    "\n"
   ]
  },
  {
   "cell_type": "code",
   "execution_count": 82,
   "metadata": {},
   "outputs": [],
   "source": [
    "# IHCRU - Internet-Hosting Ltd\n",
    "quic203226 = quic4.loc[t['ASNo'] == 203226]\n",
    "quic46 = quic203226.loc[t['Protocol'] == 'Q046']\n",
    "quic43 = quic203226.loc[t['Protocol'] == 'Q043']\n",
    "quic50 = quic203226.loc[t['Protocol'] == 'Q050']\n",
    "quich24 = quic203226.loc[t['Protocol'] == 'FF000018']"
   ]
  },
  {
   "cell_type": "code",
   "execution_count": 83,
   "metadata": {},
   "outputs": [],
   "source": [
    "x = Cdf.MakeCdfFromList(quic43['ConnectionEstablishmentTime'].values)\n",
    "x1 =Cdf.MakeCdfFromList(quic46['ConnectionEstablishmentTime'].values)\n",
    "x3 = Cdf.MakeCdfFromList(quic50['ConnectionEstablishmentTime'].values)\n",
    "x5 = Cdf.MakeCdfFromList(quich24['ConnectionEstablishmentTime'].values)"
   ]
  },
  {
   "cell_type": "markdown",
   "metadata": {
    "lines_to_next_cell": 2
   },
   "source": [
    "print_percentiles(x1, 'Q046')\n",
    "print_percentiles(x3, 'Q050')\n",
    "print_percentiles(x5, 'h24')\n",
    "print_percentiles(x, 'Q043')"
   ]
  },
  {
   "cell_type": "code",
   "execution_count": 84,
   "metadata": {},
   "outputs": [
    {
     "name": "stderr",
     "output_type": "stream",
     "text": [
      "findfont: Font family ['monospace'] not found. Falling back to DejaVu Sans.\n"
     ]
    },
    {
     "data": {
      "image/png": "[encoded data removed]",
      "text/plain": [
       "<Figure size 900x600 with 1 Axes>"
      ]
     },
     "metadata": {
      "needs_background": "light"
     },
     "output_type": "display_data"
    }
   ],
   "source": [
    "data = {'$\\\\bf{Protocol}$': ['Q043', 'Q046', 'Q050'],\n",
    "\t'$\\\\bf{25th}$': [\"{:.2f}\".format(x.Percentile(25)), \"{:.2f}\".format(x1.Percentile(25)), \"{:.2f}\".format(x3.Percentile(25))],\n",
    "\t'$\\\\bf{50th}$': [\"{:.2f}\".format(x.Percentile(50)), \"{:.2f}\".format(x1.Percentile(50)), \"{:.2f}\".format(x3.Percentile(50))],\n",
    "\t'$\\\\bf{75th}$': [\"{:.2f}\".format(x.Percentile(75)), \"{:.2f}\".format(x1.Percentile(75)), \"{:.2f}\".format(x3.Percentile(75))],\n",
    "\t'$\\\\bf{80th}$': [\"{:.2f}\".format(x.Percentile(80)), \"{:.2f}\".format(x1.Percentile(80)), \"{:.2f}\".format(x3.Percentile(80))],\n",
    "    '$\\\\bf{90th}$': [\"{:.2f}\".format(x.Percentile(90)), \"{:.2f}\".format(x1.Percentile(90)), \"{:.2f}\".format(x3.Percentile(90))]\n",
    "        }    \n",
    "\n",
    "df_percentile = pd.DataFrame(data)\n",
    "\n",
    "fig, ax = plt.subplots(dpi=150)\n",
    "\n",
    " #hide axes\n",
    "fig.patch.set_visible(False)\n",
    "ax.axis('off')\n",
    "ax.axis('tight')\n",
    "\n",
    "ax.table(cellText=df_percentile.values, colLabels=df_percentile.columns, loc='center', cellLoc='center')\n",
    "\n",
    "#fig.tight_layout()\n",
    "plt.savefig('./AWS/SaoPaulo/ASN/handshake_times_ipv4_asn203226_percentile.png', format='png', bbox_inches='tight')"
   ]
  },
  {
   "cell_type": "code",
   "execution_count": 85,
   "metadata": {},
   "outputs": [
    {
     "data": {
      "image/png": "[encoded data removed]",
      "text/plain": [
       "<Figure size 720x216 with 2 Axes>"
      ]
     },
     "metadata": {
      "needs_background": "light"
     },
     "output_type": "display_data"
    }
   ],
   "source": [
    "fig = plt.figure(figsize = (10,3))\n",
    "plt.rcParams['font.size'] = 12\n",
    "ax = plt.gca()\n",
    "yticks = np.arange(0,1.1,0.2)\n",
    "\n",
    "#Q043\n",
    "plt.plot(x.xs, x.ps, marker='s', linewidth=0.3, markersize=5, fillstyle='none', color = 'orange')\n",
    "#Q046\n",
    "plt.plot(x1.xs, x1.ps, marker='s', linewidth=0.3, markersize=5, fillstyle='none', color = 'red')\n",
    "#Q050\n",
    "plt.plot(x3.xs, x3.ps, marker='s', linewidth=0.3, markersize=5, fillstyle='none', color = 'green')\n",
    "#h24\n",
    "#plt.plot(x5.xs, x5.ps, marker='s', linewidth=0.3, markersize=5, fillstyle='none', color = 'blue')\n",
    "\n",
    "\n",
    "\n",
    "ax = fig.axes[0]\n",
    "ax.grid(False)\n",
    "ax.set_yticks(yticks)\n",
    "ax.set_ylim([0,1.05])\n",
    "#ax.set_xlim([20,100])\n",
    "ax.set_xscale('log')\n",
    "ax.set_xlabel('latency (x-axis is cut)', fontsize=12)\n",
    "ax.set_ylabel('CDF', fontsize=12)\n",
    "\n",
    "plt.legend(['Q043', 'Q046', 'Q050'] , fontsize=11, loc='best')\n",
    "\n",
    "ax.spines['right'].set_color('none')\n",
    "ax.spines['top'].set_color('none')\n",
    "ax.yaxis.set_ticks_position('left')\n",
    "ax.xaxis.set_ticks_position('bottom')\n",
    "ax.spines['bottom'].set_position(('axes', -0.05))\n",
    "ax.spines['left'].set_position(('axes', -0.05))\n",
    "\n",
    "ax3 = ax.twinx()\n",
    "ax3.spines['right'].set_color('none')\n",
    "ax3.spines['top'].set_color('none')\n",
    "ax3.spines['left'].set_color('none')\n",
    "ax3.spines['bottom'].set_color('none')\n",
    "ax3.yaxis.set_ticks_position('none')\n",
    "plt.setp(ax3.get_yticklabels(), visible=False)\n",
    "\n",
    "plt.title('Handshake Times with IPv4', fontsize=12, y=1.05)\n",
    "plt.savefig('./AWS/SaoPaulo/ASN/handshake_times_ipv4_asn203226.png', format='png', bbox_inches='tight')\n"
   ]
  },
  {
   "cell_type": "code",
   "execution_count": 86,
   "metadata": {},
   "outputs": [],
   "source": [
    "x = Cdf.MakeCdfFromList(quic43['TTFB'].values)\n",
    "x1 =Cdf.MakeCdfFromList(quic46['TTFB'].values)\n",
    "x3 = Cdf.MakeCdfFromList(quic50['TTFB'].values)\n",
    "x5 = Cdf.MakeCdfFromList(quich24['TTFB'].values)"
   ]
  },
  {
   "cell_type": "code",
   "execution_count": 87,
   "metadata": {
    "lines_to_next_cell": 2
   },
   "outputs": [
    {
     "name": "stdout",
     "output_type": "stream",
     "text": [
      "-----------------------------\n",
      "\n",
      "percentile values distribution for Q046\n",
      "\n",
      "50th Percentile:770.461000\n",
      "\n",
      "90th Percentile:896.245000\n",
      "\n",
      "99th Percentile:967.591000\n",
      "\n",
      "25th Percentile:731.690000\n",
      "\n",
      "75th Percentile:845.147000\n",
      "\n",
      "20th Percentile:770.461000\n",
      "\n",
      "40th Percentile:896.245000\n",
      "\n",
      "60th Percentile:967.591000\n",
      "\n",
      "80th Percentile:731.690000\n",
      "\n",
      "-----------------------------\n",
      "\n",
      "-----------------------------\n",
      "\n",
      "percentile values distribution for Q050\n",
      "\n",
      "50th Percentile:773.243000\n",
      "\n",
      "90th Percentile:860.967000\n",
      "\n",
      "99th Percentile:950.350000\n",
      "\n",
      "25th Percentile:730.993000\n",
      "\n",
      "75th Percentile:839.924000\n",
      "\n",
      "20th Percentile:773.243000\n",
      "\n",
      "40th Percentile:860.967000\n",
      "\n",
      "60th Percentile:950.350000\n",
      "\n",
      "80th Percentile:730.993000\n",
      "\n",
      "-----------------------------\n",
      "\n",
      "-----------------------------\n",
      "\n",
      "percentile values distribution for Q043\n",
      "\n",
      "50th Percentile:755.488000\n",
      "\n",
      "90th Percentile:878.663000\n",
      "\n",
      "99th Percentile:982.038000\n",
      "\n",
      "25th Percentile:733.032000\n",
      "\n",
      "75th Percentile:828.602000\n",
      "\n",
      "20th Percentile:755.488000\n",
      "\n",
      "40th Percentile:878.663000\n",
      "\n",
      "60th Percentile:982.038000\n",
      "\n",
      "80th Percentile:733.032000\n",
      "\n",
      "-----------------------------\n",
      "\n"
     ]
    }
   ],
   "source": [
    "print_percentiles(x1, 'Q046')\n",
    "print_percentiles(x3, 'Q050')\n",
    "#print_percentiles(x5, 'h24')\n",
    "print_percentiles(x, 'Q043')"
   ]
  },
  {
   "cell_type": "code",
   "execution_count": 88,
   "metadata": {},
   "outputs": [
    {
     "name": "stderr",
     "output_type": "stream",
     "text": [
      "findfont: Font family ['monospace'] not found. Falling back to DejaVu Sans.\n"
     ]
    },
    {
     "data": {
      "image/png": "[encoded data removed]",
      "text/plain": [
       "<Figure size 900x600 with 1 Axes>"
      ]
     },
     "metadata": {
      "needs_background": "light"
     },
     "output_type": "display_data"
    }
   ],
   "source": [
    "data = {'$\\\\bf{Protocol}$': ['Q043', 'Q046', 'Q050'],\n",
    "\t'$\\\\bf{25th}$': [\"{:.2f}\".format(x.Percentile(25)), \"{:.2f}\".format(x1.Percentile(25)), \"{:.2f}\".format(x3.Percentile(25))],\n",
    "\t'$\\\\bf{50th}$': [\"{:.2f}\".format(x.Percentile(50)), \"{:.2f}\".format(x1.Percentile(50)), \"{:.2f}\".format(x3.Percentile(50))],\n",
    "\t'$\\\\bf{75th}$': [\"{:.2f}\".format(x.Percentile(75)), \"{:.2f}\".format(x1.Percentile(75)), \"{:.2f}\".format(x3.Percentile(75))],\n",
    "\t'$\\\\bf{80th}$': [\"{:.2f}\".format(x.Percentile(80)), \"{:.2f}\".format(x1.Percentile(80)), \"{:.2f}\".format(x3.Percentile(80))],\n",
    "    '$\\\\bf{90th}$': [\"{:.2f}\".format(x.Percentile(90)), \"{:.2f}\".format(x1.Percentile(90)), \"{:.2f}\".format(x3.Percentile(90))]\n",
    "        }    \n",
    "\n",
    "df_percentile = pd.DataFrame(data)\n",
    "\n",
    "fig, ax = plt.subplots(dpi=150)\n",
    "\n",
    " #hide axes\n",
    "fig.patch.set_visible(False)\n",
    "ax.axis('off')\n",
    "ax.axis('tight')\n",
    "\n",
    "ax.table(cellText=df_percentile.values, colLabels=df_percentile.columns, loc='center', cellLoc='center')\n",
    "\n",
    "#fig.tight_layout()\n",
    "plt.savefig('./AWS/SaoPaulo/ASN/ttfb_ipv4_asn203226_percentile.png', format='png', bbox_inches='tight')"
   ]
  },
  {
   "cell_type": "code",
   "execution_count": 89,
   "metadata": {},
   "outputs": [
    {
     "data": {
      "image/png": "[encoded data removed]",
      "text/plain": [
       "<Figure size 720x216 with 2 Axes>"
      ]
     },
     "metadata": {
      "needs_background": "light"
     },
     "output_type": "display_data"
    }
   ],
   "source": [
    "fig = plt.figure(figsize = (10,3))\n",
    "plt.rcParams['font.size'] = 12\n",
    "ax = plt.gca()\n",
    "yticks = np.arange(0,1.1,0.2)\n",
    "\n",
    "#Q043\n",
    "plt.plot(x.xs, x.ps, marker='s', linewidth=0.3, markersize=5, fillstyle='none', color = 'orange')\n",
    "#Q046\n",
    "plt.plot(x1.xs, x1.ps, marker='s', linewidth=0.3, markersize=5, fillstyle='none', color = 'red')\n",
    "#Q050\n",
    "plt.plot(x3.xs, x3.ps, marker='s', linewidth=0.3, markersize=5, fillstyle='none', color = 'green')\n",
    "#Q=h24\n",
    "#plt.plot(x5.xs, x5.ps, marker='s', linewidth=0.3, markersize=5, fillstyle='none', color = 'blue')\n",
    "\n",
    "\n",
    "\n",
    "ax = fig.axes[0]\n",
    "ax.grid(False)\n",
    "ax.set_yticks(yticks)\n",
    "ax.set_ylim([0,1.05])\n",
    "#ax.set_xlim([20,600])\n",
    "ax.set_xscale('log')\n",
    "ax.set_xlabel('TTFB', fontsize=12)\n",
    "ax.set_ylabel('CDF', fontsize=12)\n",
    "\n",
    "plt.legend(['Q043', 'Q046', 'Q050'] , fontsize=11, loc='best')\n",
    "\n",
    "ax.spines['right'].set_color('none')\n",
    "ax.spines['top'].set_color('none')\n",
    "ax.yaxis.set_ticks_position('left')\n",
    "ax.xaxis.set_ticks_position('bottom')\n",
    "ax.spines['bottom'].set_position(('axes', -0.05))\n",
    "ax.spines['left'].set_position(('axes', -0.05))\n",
    "\n",
    "ax3 = ax.twinx()\n",
    "ax3.spines['right'].set_color('none')\n",
    "ax3.spines['top'].set_color('none')\n",
    "ax3.spines['left'].set_color('none')\n",
    "ax3.spines['bottom'].set_color('none')\n",
    "ax3.yaxis.set_ticks_position('none')\n",
    "plt.setp(ax3.get_yticklabels(), visible=False)\n",
    "\n",
    "plt.title('TTFB', fontsize=12, y=1.05)\n",
    "plt.savefig('./AWS/SaoPaulo/ASN/ttfb_ipv4_asn203226.png', format='png', bbox_inches='tight')\n"
   ]
  },
  {
   "cell_type": "code",
   "execution_count": 90,
   "metadata": {},
   "outputs": [],
   "source": [
    "x = Cdf.MakeCdfFromList(quic43['TotalDownloadTime'].values)\n",
    "x1 =Cdf.MakeCdfFromList(quic46['TotalDownloadTime'].values)\n",
    "x3 = Cdf.MakeCdfFromList(quic50['TotalDownloadTime'].values)\n",
    "x5 = Cdf.MakeCdfFromList(quich24['TotalDownloadTime'].values)"
   ]
  },
  {
   "cell_type": "code",
   "execution_count": 91,
   "metadata": {
    "lines_to_next_cell": 2
   },
   "outputs": [
    {
     "name": "stdout",
     "output_type": "stream",
     "text": [
      "-----------------------------\n",
      "\n",
      "percentile values distribution for Q046\n",
      "\n",
      "50th Percentile:777.570000\n",
      "\n",
      "90th Percentile:906.512000\n",
      "\n",
      "99th Percentile:982.117000\n",
      "\n",
      "25th Percentile:732.659000\n",
      "\n",
      "75th Percentile:857.075000\n",
      "\n",
      "20th Percentile:777.570000\n",
      "\n",
      "40th Percentile:906.512000\n",
      "\n",
      "60th Percentile:982.117000\n",
      "\n",
      "80th Percentile:732.659000\n",
      "\n",
      "-----------------------------\n",
      "\n",
      "-----------------------------\n",
      "\n",
      "percentile values distribution for Q050\n",
      "\n",
      "50th Percentile:778.108000\n",
      "\n",
      "90th Percentile:897.150000\n",
      "\n",
      "99th Percentile:981.508000\n",
      "\n",
      "25th Percentile:732.254000\n",
      "\n",
      "75th Percentile:856.528000\n",
      "\n",
      "20th Percentile:778.108000\n",
      "\n",
      "40th Percentile:897.150000\n",
      "\n",
      "60th Percentile:981.508000\n",
      "\n",
      "80th Percentile:732.254000\n",
      "\n",
      "-----------------------------\n",
      "\n",
      "-----------------------------\n",
      "\n",
      "percentile values distribution for Q043\n",
      "\n",
      "50th Percentile:777.148000\n",
      "\n",
      "90th Percentile:899.775000\n",
      "\n",
      "99th Percentile:983.963000\n",
      "\n",
      "25th Percentile:733.341000\n",
      "\n",
      "75th Percentile:855.599000\n",
      "\n",
      "20th Percentile:777.148000\n",
      "\n",
      "40th Percentile:899.775000\n",
      "\n",
      "60th Percentile:983.963000\n",
      "\n",
      "80th Percentile:733.341000\n",
      "\n",
      "-----------------------------\n",
      "\n"
     ]
    }
   ],
   "source": [
    "print_percentiles(x1, 'Q046')\n",
    "print_percentiles(x3, 'Q050')\n",
    "#print_percentiles(x5, 'h24')\n",
    "print_percentiles(x, 'Q043')"
   ]
  },
  {
   "cell_type": "code",
   "execution_count": 92,
   "metadata": {},
   "outputs": [
    {
     "name": "stderr",
     "output_type": "stream",
     "text": [
      "findfont: Font family ['monospace'] not found. Falling back to DejaVu Sans.\n"
     ]
    },
    {
     "data": {
      "image/png": "[encoded data removed]",
      "text/plain": [
       "<Figure size 900x600 with 1 Axes>"
      ]
     },
     "metadata": {
      "needs_background": "light"
     },
     "output_type": "display_data"
    }
   ],
   "source": [
    "data = {'$\\\\bf{Protocol}$': ['Q043', 'Q046', 'Q050'],\n",
    "\t'$\\\\bf{25th}$': [\"{:.2f}\".format(x.Percentile(25)), \"{:.2f}\".format(x1.Percentile(25)), \"{:.2f}\".format(x3.Percentile(25))],\n",
    "\t'$\\\\bf{50th}$': [\"{:.2f}\".format(x.Percentile(50)), \"{:.2f}\".format(x1.Percentile(50)), \"{:.2f}\".format(x3.Percentile(50))],\n",
    "\t'$\\\\bf{75th}$': [\"{:.2f}\".format(x.Percentile(75)), \"{:.2f}\".format(x1.Percentile(75)), \"{:.2f}\".format(x3.Percentile(75))],\n",
    "\t'$\\\\bf{80th}$': [\"{:.2f}\".format(x.Percentile(80)), \"{:.2f}\".format(x1.Percentile(80)), \"{:.2f}\".format(x3.Percentile(80))],\n",
    "    '$\\\\bf{90th}$': [\"{:.2f}\".format(x.Percentile(90)), \"{:.2f}\".format(x1.Percentile(90)), \"{:.2f}\".format(x3.Percentile(90))]\n",
    "        }    \n",
    "\n",
    "df_percentile = pd.DataFrame(data)\n",
    "\n",
    "fig, ax = plt.subplots(dpi=150)\n",
    "\n",
    " #hide axes\n",
    "fig.patch.set_visible(False)\n",
    "ax.axis('off')\n",
    "ax.axis('tight')\n",
    "\n",
    "ax.table(cellText=df_percentile.values, colLabels=df_percentile.columns, loc='center', cellLoc='center')\n",
    "\n",
    "#fig.tight_layout()\n",
    "plt.savefig('./AWS/SaoPaulo/ASN/totaldownloadtime_ipv4_asn203226_percentile.png', format='png', bbox_inches='tight')\n"
   ]
  },
  {
   "cell_type": "code",
   "execution_count": 93,
   "metadata": {},
   "outputs": [
    {
     "data": {
      "image/png": "[encoded data removed]",
      "text/plain": [
       "<Figure size 720x216 with 2 Axes>"
      ]
     },
     "metadata": {
      "needs_background": "light"
     },
     "output_type": "display_data"
    }
   ],
   "source": [
    "fig = plt.figure(figsize = (10,3))\n",
    "plt.rcParams['font.size'] = 12\n",
    "ax = plt.gca()\n",
    "yticks = np.arange(0,1.1,0.2)\n",
    "\n",
    "#Q043\n",
    "plt.plot(x.xs, x.ps, marker='s', linewidth=0.3, markersize=5, fillstyle='none', color = 'orange')\n",
    "#Q046\n",
    "plt.plot(x1.xs, x1.ps, marker='s', linewidth=0.3, markersize=5, fillstyle='none', color = 'red')\n",
    "#Q050\n",
    "plt.plot(x3.xs, x3.ps, marker='s', linewidth=0.3, markersize=5, fillstyle='none', color = 'green')\n",
    "#h24\n",
    "#plt.plot(x5.xs, x5.ps, marker='s', linewidth=0.3, markersize=5, fillstyle='none', color = 'blue')\n",
    "\n",
    "\n",
    "\n",
    "ax = fig.axes[0]\n",
    "ax.grid(False)\n",
    "ax.set_yticks(yticks)\n",
    "ax.set_ylim([0,1.05])\n",
    "#ax.set_xlim([20,600])\n",
    "ax.set_xscale('log')\n",
    "ax.set_xlabel('TotalDownloadTime', fontsize=12)\n",
    "ax.set_ylabel('CDF', fontsize=12)\n",
    "\n",
    "plt.legend(['Q043', 'Q046', 'Q050'] , fontsize=11, loc='best')\n",
    "\n",
    "ax.spines['right'].set_color('none')\n",
    "ax.spines['top'].set_color('none')\n",
    "ax.yaxis.set_ticks_position('left')\n",
    "ax.xaxis.set_ticks_position('bottom')\n",
    "ax.spines['bottom'].set_position(('axes', -0.05))\n",
    "ax.spines['left'].set_position(('axes', -0.05))\n",
    "\n",
    "ax3 = ax.twinx()\n",
    "ax3.spines['right'].set_color('none')\n",
    "ax3.spines['top'].set_color('none')\n",
    "ax3.spines['left'].set_color('none')\n",
    "ax3.spines['bottom'].set_color('none')\n",
    "ax3.yaxis.set_ticks_position('none')\n",
    "plt.setp(ax3.get_yticklabels(), visible=False)\n",
    "\n",
    "plt.title('TotalDownloadTime', fontsize=12, y=1.05)\n",
    "plt.savefig('./AWS/SaoPaulo/ASN/totaldownloadtime_ipv4_asn203226.png', format='png', bbox_inches='tight')\n"
   ]
  },
  {
   "cell_type": "code",
   "execution_count": null,
   "metadata": {},
   "outputs": [],
   "source": []
  },
  {
   "cell_type": "code",
   "execution_count": null,
   "metadata": {},
   "outputs": [],
   "source": []
  },
  {
   "cell_type": "code",
   "execution_count": null,
   "metadata": {},
   "outputs": [],
   "source": []
  },
  {
   "cell_type": "code",
   "execution_count": null,
   "metadata": {},
   "outputs": [],
   "source": []
  },
  {
   "cell_type": "code",
   "execution_count": null,
   "metadata": {},
   "outputs": [],
   "source": []
  },
  {
   "cell_type": "code",
   "execution_count": null,
   "metadata": {},
   "outputs": [],
   "source": []
  }
 ],
 "metadata": {
  "jupytext": {
   "formats": "ipynb,py:light",
   "text_representation": {
    "extension": ".py",
    "format_name": "light",
    "format_version": "1.3",
    "jupytext_version": "0.8.4"
   }
  },
  "kernelspec": {
   "display_name": "Python 3",
   "language": "python",
   "name": "python3"
  },
  "language_info": {
   "codemirror_mode": {
    "name": "ipython",
    "version": 3
   },
   "file_extension": ".py",
   "mimetype": "text/x-python",
   "name": "python",
   "nbconvert_exporter": "python",
   "pygments_lexer": "ipython3",
   "version": "3.7.5"
  }
 },
 "nbformat": 4,
 "nbformat_minor": 2
}
