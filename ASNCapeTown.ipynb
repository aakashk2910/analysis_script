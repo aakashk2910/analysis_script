{
 "cells": [
  {
   "cell_type": "code",
   "execution_count": 1,
   "metadata": {},
   "outputs": [],
   "source": [
    "import sqlite3\n",
    "import pandas as pd\n",
    "import numpy as np\n",
    "import matplotlib.pyplot as plt\n",
    "import time\n",
    "import datetime\n",
    "import filterbyip as fbi\n",
    "import Cdf\n",
    "import Pmf"
   ]
  },
  {
   "cell_type": "code",
   "execution_count": 2,
   "metadata": {},
   "outputs": [],
   "source": [
    "def write_percentiles(filename, c):\n",
    "\twith open(filename, 'w') as f:\n",
    "\t\tf.write('values; percentile\\n')\n",
    "\t\tfor x, y in zip(c.xs, c.ps):\n",
    "\t\t\tf.write('%.2f, %.2f\\n'%(x, y))"
   ]
  },
  {
   "cell_type": "code",
   "execution_count": 3,
   "metadata": {},
   "outputs": [],
   "source": [
    "def print_percentiles(c, name):\n",
    "\tprint('-----------------------------\\n')\n",
    "\tprint('percentile values distribution for %s\\n' % name)\n",
    "\n",
    "\tprint('50th Percentile:%f\\n' % c.Percentile(50))\n",
    "\tprint('90th Percentile:%f\\n' % c.Percentile(90))\n",
    "\tprint('99th Percentile:%f\\n' % c.Percentile(99))\n",
    "\tprint('25th Percentile:%f\\n' % c.Percentile(25))\n",
    "\tprint('75th Percentile:%f\\n' % c.Percentile(75))\n",
    "\tprint('20th Percentile:%f\\n' % c.Percentile(50))\n",
    "\tprint('40th Percentile:%f\\n' % c.Percentile(90))\n",
    "\tprint('60th Percentile:%f\\n' % c.Percentile(99))\n",
    "\tprint('80th Percentile:%f\\n' % c.Percentile(25))\n",
    "\n",
    "\tprint('-----------------------------\\n')"
   ]
  },
  {
   "cell_type": "code",
   "execution_count": 4,
   "metadata": {},
   "outputs": [
    {
     "name": "stdout",
     "output_type": "stream",
     "text": [
      "Populating the interactive namespace from numpy and matplotlib\n"
     ]
    }
   ],
   "source": [
    "import warnings\n",
    "warnings.filterwarnings('ignore')\n",
    "\n",
    "%pylab inline"
   ]
  },
  {
   "cell_type": "code",
   "execution_count": 5,
   "metadata": {},
   "outputs": [
    {
     "data": {
      "text/html": [
       "<style>body {\n",
       "    margin: 0;\n",
       "    font-family: Helvetica;\n",
       "}\n",
       "table.dataframe {\n",
       "    border-collapse: collapse;\n",
       "    border: none;\n",
       "}\n",
       "table.dataframe tr {\n",
       "    border: none;\n",
       "}\n",
       "table.dataframe td, table.dataframe th {\n",
       "    margin: 0;\n",
       "    border: 1px solid white;\n",
       "    padding-left: 0.25em;\n",
       "    padding-right: 0.25em;\n",
       "}\n",
       "table.dataframe th:not(:empty) {\n",
       "    background-color: #fec;\n",
       "    text-align: left;\n",
       "    font-weight: normal;\n",
       "}\n",
       "table.dataframe tr:nth-child(2) th:empty {\n",
       "    border-left: none;\n",
       "    border-right: 1px dashed #888;\n",
       "}\n",
       "table.dataframe td {\n",
       "    border: 2px solid #ccf;\n",
       "    background-color: #f4f4ff;\n",
       "}\n",
       "h3 {\n",
       "    color: white;\n",
       "    background-color: black;\n",
       "    padding: 0.5em;\n",
       "}\n",
       "\n",
       ".CodeMirror {\n",
       "    font-family: 'Consolas';\n",
       "}\n",
       "\n",
       "div.cell.code_cell {\n",
       "    font-family: 'Consolas';\n",
       "}\n",
       "\n",
       "div.output_area pre {\n",
       "    font-family: 'Consolas';\n",
       "}\n",
       "</style>"
      ],
      "text/plain": [
       "<IPython.core.display.HTML object>"
      ]
     },
     "execution_count": 5,
     "metadata": {},
     "output_type": "execute_result"
    }
   ],
   "source": [
    "from IPython.core.display import HTML\n",
    "css = open('style-table.css').read() + open('style-notebook.css').read()\n",
    "HTML('<style>{}</style>'.format(css))"
   ]
  },
  {
   "cell_type": "code",
   "execution_count": 6,
   "metadata": {},
   "outputs": [],
   "source": [
    "quic_data = \"./AWS_results/CapeTown/data/output_quic.csv\""
   ]
  },
  {
   "cell_type": "code",
   "execution_count": 7,
   "metadata": {},
   "outputs": [],
   "source": [
    "tcol_names = ['TimeOfMeasurement', 'Url', 'Path', 'Ip', 'Port', 'DNSTime', 'ConnectionEstablishmentTime', 'TTFB', 'TotalDownloadTime', 'HttpResponse', 'Protocol']\n",
    "as_names = ['Url', 'Ip', 'ASNo','ASName','Lat','Lon'] "
   ]
  },
  {
   "cell_type": "code",
   "execution_count": 8,
   "metadata": {},
   "outputs": [],
   "source": [
    "t = pd.read_csv(quic_data,';', names=tcol_names, header=None)"
   ]
  },
  {
   "cell_type": "code",
   "execution_count": 9,
   "metadata": {},
   "outputs": [],
   "source": [
    "t = t.dropna()"
   ]
  },
  {
   "cell_type": "code",
   "execution_count": 10,
   "metadata": {},
   "outputs": [],
   "source": [
    "asndata = \"./data/pi-1/quic_perf/asinfo.csv\""
   ]
  },
  {
   "cell_type": "code",
   "execution_count": 11,
   "metadata": {},
   "outputs": [
    {
     "data": {
      "text/html": [
       "<div>\n",
       "<style scoped>\n",
       "    .dataframe tbody tr th:only-of-type {\n",
       "        vertical-align: middle;\n",
       "    }\n",
       "\n",
       "    .dataframe tbody tr th {\n",
       "        vertical-align: top;\n",
       "    }\n",
       "\n",
       "    .dataframe thead th {\n",
       "        text-align: right;\n",
       "    }\n",
       "</style>\n",
       "<table border=\"1\" class=\"dataframe\">\n",
       "  <thead>\n",
       "    <tr style=\"text-align: right;\">\n",
       "      <th></th>\n",
       "      <th>Url</th>\n",
       "      <th>Ip</th>\n",
       "      <th>ASNo</th>\n",
       "      <th>ASName</th>\n",
       "      <th>Lat</th>\n",
       "      <th>Lon</th>\n",
       "    </tr>\n",
       "  </thead>\n",
       "  <tbody>\n",
       "    <tr>\n",
       "      <th>0</th>\n",
       "      <td>www.google.com</td>\n",
       "      <td>172.217.19.68</td>\n",
       "      <td>15169.0</td>\n",
       "      <td>GOOGLE - Google LLC</td>\n",
       "      <td>-122.0574</td>\n",
       "      <td>37.4192</td>\n",
       "    </tr>\n",
       "    <tr>\n",
       "      <th>1</th>\n",
       "      <td>www.youtube.com</td>\n",
       "      <td>172.217.22.78</td>\n",
       "      <td>15169.0</td>\n",
       "      <td>GOOGLE - Google LLC</td>\n",
       "      <td>-122.0574</td>\n",
       "      <td>37.4192</td>\n",
       "    </tr>\n",
       "    <tr>\n",
       "      <th>2</th>\n",
       "      <td>www.google.co.in</td>\n",
       "      <td>216.58.213.227</td>\n",
       "      <td>15169.0</td>\n",
       "      <td>GOOGLE - Google LLC</td>\n",
       "      <td>-122.0574</td>\n",
       "      <td>37.4192</td>\n",
       "    </tr>\n",
       "    <tr>\n",
       "      <th>3</th>\n",
       "      <td>www.blogspot.com</td>\n",
       "      <td>172.217.18.9</td>\n",
       "      <td>15169.0</td>\n",
       "      <td>GOOGLE - Google LLC</td>\n",
       "      <td>-122.0574</td>\n",
       "      <td>37.4192</td>\n",
       "    </tr>\n",
       "    <tr>\n",
       "      <th>4</th>\n",
       "      <td>www.google.co.jp</td>\n",
       "      <td>216.58.210.3</td>\n",
       "      <td>15169.0</td>\n",
       "      <td>GOOGLE - Google LLC</td>\n",
       "      <td>-122.0574</td>\n",
       "      <td>37.4192</td>\n",
       "    </tr>\n",
       "    <tr>\n",
       "      <th>...</th>\n",
       "      <td>...</td>\n",
       "      <td>...</td>\n",
       "      <td>...</td>\n",
       "      <td>...</td>\n",
       "      <td>...</td>\n",
       "      <td>...</td>\n",
       "    </tr>\n",
       "    <tr>\n",
       "      <th>7428</th>\n",
       "      <td>www.holidaysequences.com</td>\n",
       "      <td>35.190.16.47</td>\n",
       "      <td>15169.0</td>\n",
       "      <td>GOOGLE - Google LLC</td>\n",
       "      <td>-122.0574</td>\n",
       "      <td>37.4192</td>\n",
       "    </tr>\n",
       "    <tr>\n",
       "      <th>7429</th>\n",
       "      <td>www.nickzammeti.com</td>\n",
       "      <td>130.211.40.170</td>\n",
       "      <td>15169.0</td>\n",
       "      <td>GOOGLE - Google LLC</td>\n",
       "      <td>4.35</td>\n",
       "      <td>50.8500</td>\n",
       "    </tr>\n",
       "    <tr>\n",
       "      <th>7430</th>\n",
       "      <td>www.redlink-network.org</td>\n",
       "      <td>35.190.35.16</td>\n",
       "      <td>15169.0</td>\n",
       "      <td>GOOGLE - Google LLC</td>\n",
       "      <td>-122.0574</td>\n",
       "      <td>37.4192</td>\n",
       "    </tr>\n",
       "    <tr>\n",
       "      <th>7431</th>\n",
       "      <td>www.reefh2o.com</td>\n",
       "      <td>35.190.16.47</td>\n",
       "      <td>15169.0</td>\n",
       "      <td>GOOGLE - Google LLC</td>\n",
       "      <td>-122.0574</td>\n",
       "      <td>37.4192</td>\n",
       "    </tr>\n",
       "    <tr>\n",
       "      <th>7432</th>\n",
       "      <td>www.vanbind.com</td>\n",
       "      <td>35.190.71.195</td>\n",
       "      <td>15169.0</td>\n",
       "      <td>GOOGLE - Google LLC</td>\n",
       "      <td>-122.0574</td>\n",
       "      <td>37.4192</td>\n",
       "    </tr>\n",
       "  </tbody>\n",
       "</table>\n",
       "<p>7433 rows × 6 columns</p>\n",
       "</div>"
      ],
      "text/plain": [
       "                           Url              Ip     ASNo               ASName  \\\n",
       "0               www.google.com   172.217.19.68  15169.0  GOOGLE - Google LLC   \n",
       "1              www.youtube.com   172.217.22.78  15169.0  GOOGLE - Google LLC   \n",
       "2             www.google.co.in  216.58.213.227  15169.0  GOOGLE - Google LLC   \n",
       "3             www.blogspot.com    172.217.18.9  15169.0  GOOGLE - Google LLC   \n",
       "4             www.google.co.jp    216.58.210.3  15169.0  GOOGLE - Google LLC   \n",
       "...                        ...             ...      ...                  ...   \n",
       "7428  www.holidaysequences.com    35.190.16.47  15169.0  GOOGLE - Google LLC   \n",
       "7429       www.nickzammeti.com  130.211.40.170  15169.0  GOOGLE - Google LLC   \n",
       "7430   www.redlink-network.org    35.190.35.16  15169.0  GOOGLE - Google LLC   \n",
       "7431           www.reefh2o.com    35.190.16.47  15169.0  GOOGLE - Google LLC   \n",
       "7432           www.vanbind.com   35.190.71.195  15169.0  GOOGLE - Google LLC   \n",
       "\n",
       "            Lat      Lon  \n",
       "0     -122.0574  37.4192  \n",
       "1     -122.0574  37.4192  \n",
       "2     -122.0574  37.4192  \n",
       "3     -122.0574  37.4192  \n",
       "4     -122.0574  37.4192  \n",
       "...         ...      ...  \n",
       "7428  -122.0574  37.4192  \n",
       "7429       4.35  50.8500  \n",
       "7430  -122.0574  37.4192  \n",
       "7431  -122.0574  37.4192  \n",
       "7432  -122.0574  37.4192  \n",
       "\n",
       "[7433 rows x 6 columns]"
      ]
     },
     "execution_count": 11,
     "metadata": {},
     "output_type": "execute_result"
    }
   ],
   "source": [
    "asn = pd.read_csv(asndata, ',', names=as_names, header=None)\n",
    "asn"
   ]
  },
  {
   "cell_type": "code",
   "execution_count": 12,
   "metadata": {},
   "outputs": [
    {
     "data": {
      "text/plain": [
       "ASNo     ASName                                              \n",
       "15169.0  GOOGLE - Google LLC                                     5040\n",
       "15133.0  EDGECAST - MCI Communications Services                   557\n",
       "7506.0   INTERQ GMO Internet                                      148\n",
       "24940.0  HETZNER-AS - Hetzner Online GmbH                         126\n",
       "16276.0  OVH - OVH SAS                                            102\n",
       "                                                                 ... \n",
       "30148.0  SUCURI-SEC - Sucuri                                        1\n",
       "48666.0  AS-MAROSNET - MAROSNET Telecommunication Company LLC       1\n",
       "30860.0  YURTEH-AS - Virtual Systems LLC                            1\n",
       "30933.0  PROTEXIA-EU - KDA WEB SERVICES LTD                         1\n",
       "37907.0  DIGIROCK DigiRock                                          1\n",
       "Length: 216, dtype: int64"
      ]
     },
     "execution_count": 12,
     "metadata": {},
     "output_type": "execute_result"
    }
   ],
   "source": [
    "#pd.set_option('display.max_rows', 500)\n",
    "asn.groupby(['ASNo', 'ASName']).size().sort_values(ascending=False)\n"
   ]
  },
  {
   "cell_type": "code",
   "execution_count": 13,
   "metadata": {
    "scrolled": true
   },
   "outputs": [
    {
     "data": {
      "text/plain": [
       "Url       7433\n",
       "Ip        7424\n",
       "ASNo      7424\n",
       "ASName    7424\n",
       "Lat       7424\n",
       "Lon       7424\n",
       "dtype: int64"
      ]
     },
     "execution_count": 13,
     "metadata": {},
     "output_type": "execute_result"
    }
   ],
   "source": [
    "asn.count()"
   ]
  },
  {
   "cell_type": "code",
   "execution_count": 14,
   "metadata": {},
   "outputs": [
    {
     "data": {
      "text/html": [
       "<div>\n",
       "<style scoped>\n",
       "    .dataframe tbody tr th:only-of-type {\n",
       "        vertical-align: middle;\n",
       "    }\n",
       "\n",
       "    .dataframe tbody tr th {\n",
       "        vertical-align: top;\n",
       "    }\n",
       "\n",
       "    .dataframe thead th {\n",
       "        text-align: right;\n",
       "    }\n",
       "</style>\n",
       "<table border=\"1\" class=\"dataframe\">\n",
       "  <thead>\n",
       "    <tr style=\"text-align: right;\">\n",
       "      <th></th>\n",
       "      <th>Url</th>\n",
       "      <th>Ip</th>\n",
       "      <th>ASNo</th>\n",
       "      <th>ASName</th>\n",
       "      <th>Lat</th>\n",
       "      <th>Lon</th>\n",
       "    </tr>\n",
       "  </thead>\n",
       "  <tbody>\n",
       "    <tr>\n",
       "      <th>0</th>\n",
       "      <td>www.google.com</td>\n",
       "      <td>172.217.19.68</td>\n",
       "      <td>15169.0</td>\n",
       "      <td>GOOGLE - Google LLC</td>\n",
       "      <td>-122.0574</td>\n",
       "      <td>37.4192</td>\n",
       "    </tr>\n",
       "    <tr>\n",
       "      <th>1</th>\n",
       "      <td>www.youtube.com</td>\n",
       "      <td>172.217.22.78</td>\n",
       "      <td>15169.0</td>\n",
       "      <td>GOOGLE - Google LLC</td>\n",
       "      <td>-122.0574</td>\n",
       "      <td>37.4192</td>\n",
       "    </tr>\n",
       "    <tr>\n",
       "      <th>2</th>\n",
       "      <td>www.google.co.in</td>\n",
       "      <td>216.58.213.227</td>\n",
       "      <td>15169.0</td>\n",
       "      <td>GOOGLE - Google LLC</td>\n",
       "      <td>-122.0574</td>\n",
       "      <td>37.4192</td>\n",
       "    </tr>\n",
       "    <tr>\n",
       "      <th>3</th>\n",
       "      <td>www.blogspot.com</td>\n",
       "      <td>172.217.18.9</td>\n",
       "      <td>15169.0</td>\n",
       "      <td>GOOGLE - Google LLC</td>\n",
       "      <td>-122.0574</td>\n",
       "      <td>37.4192</td>\n",
       "    </tr>\n",
       "    <tr>\n",
       "      <th>4</th>\n",
       "      <td>www.google.co.jp</td>\n",
       "      <td>216.58.210.3</td>\n",
       "      <td>15169.0</td>\n",
       "      <td>GOOGLE - Google LLC</td>\n",
       "      <td>-122.0574</td>\n",
       "      <td>37.4192</td>\n",
       "    </tr>\n",
       "  </tbody>\n",
       "</table>\n",
       "</div>"
      ],
      "text/plain": [
       "                Url              Ip     ASNo               ASName        Lat  \\\n",
       "0    www.google.com   172.217.19.68  15169.0  GOOGLE - Google LLC  -122.0574   \n",
       "1   www.youtube.com   172.217.22.78  15169.0  GOOGLE - Google LLC  -122.0574   \n",
       "2  www.google.co.in  216.58.213.227  15169.0  GOOGLE - Google LLC  -122.0574   \n",
       "3  www.blogspot.com    172.217.18.9  15169.0  GOOGLE - Google LLC  -122.0574   \n",
       "4  www.google.co.jp    216.58.210.3  15169.0  GOOGLE - Google LLC  -122.0574   \n",
       "\n",
       "       Lon  \n",
       "0  37.4192  \n",
       "1  37.4192  \n",
       "2  37.4192  \n",
       "3  37.4192  \n",
       "4  37.4192  "
      ]
     },
     "execution_count": 14,
     "metadata": {},
     "output_type": "execute_result"
    }
   ],
   "source": [
    "asn.head()"
   ]
  },
  {
   "cell_type": "code",
   "execution_count": 15,
   "metadata": {},
   "outputs": [],
   "source": [
    "t = t.join(asn.set_index('Url'), on='Url', rsuffix='_right')"
   ]
  },
  {
   "cell_type": "code",
   "execution_count": 16,
   "metadata": {},
   "outputs": [],
   "source": [
    "t = t.drop('Ip_right', axis=1)"
   ]
  },
  {
   "cell_type": "code",
   "execution_count": 17,
   "metadata": {},
   "outputs": [
    {
     "data": {
      "text/plain": [
       "TimeOfMeasurement              744283\n",
       "Url                            744283\n",
       "Path                           744283\n",
       "Ip                             744283\n",
       "Port                           744283\n",
       "DNSTime                        744283\n",
       "ConnectionEstablishmentTime    744283\n",
       "TTFB                           744283\n",
       "TotalDownloadTime              744283\n",
       "HttpResponse                   744283\n",
       "Protocol                       744283\n",
       "ASNo                           580469\n",
       "ASName                         580469\n",
       "Lat                            580469\n",
       "Lon                            580469\n",
       "dtype: int64"
      ]
     },
     "execution_count": 17,
     "metadata": {},
     "output_type": "execute_result"
    }
   ],
   "source": [
    "t.count()"
   ]
  },
  {
   "cell_type": "code",
   "execution_count": 18,
   "metadata": {},
   "outputs": [
    {
     "data": {
      "text/html": [
       "<div>\n",
       "<style scoped>\n",
       "    .dataframe tbody tr th:only-of-type {\n",
       "        vertical-align: middle;\n",
       "    }\n",
       "\n",
       "    .dataframe tbody tr th {\n",
       "        vertical-align: top;\n",
       "    }\n",
       "\n",
       "    .dataframe thead th {\n",
       "        text-align: right;\n",
       "    }\n",
       "</style>\n",
       "<table border=\"1\" class=\"dataframe\">\n",
       "  <thead>\n",
       "    <tr style=\"text-align: right;\">\n",
       "      <th></th>\n",
       "      <th>TimeOfMeasurement</th>\n",
       "      <th>Url</th>\n",
       "      <th>Path</th>\n",
       "      <th>Ip</th>\n",
       "      <th>Port</th>\n",
       "      <th>DNSTime</th>\n",
       "      <th>ConnectionEstablishmentTime</th>\n",
       "      <th>TTFB</th>\n",
       "      <th>TotalDownloadTime</th>\n",
       "      <th>HttpResponse</th>\n",
       "      <th>Protocol</th>\n",
       "      <th>ASNo</th>\n",
       "      <th>ASName</th>\n",
       "      <th>Lat</th>\n",
       "      <th>Lon</th>\n",
       "    </tr>\n",
       "  </thead>\n",
       "  <tbody>\n",
       "    <tr>\n",
       "      <th>0</th>\n",
       "      <td>1.589587e+09</td>\n",
       "      <td>www.0dayrox2.blogspot.com</td>\n",
       "      <td>/</td>\n",
       "      <td>172.217.170.65</td>\n",
       "      <td>443</td>\n",
       "      <td>347.245</td>\n",
       "      <td>372.930</td>\n",
       "      <td>318.241</td>\n",
       "      <td>678.709</td>\n",
       "      <td>404.0</td>\n",
       "      <td>Q043</td>\n",
       "      <td>15169.0</td>\n",
       "      <td>GOOGLE - Google LLC</td>\n",
       "      <td>-122.0574</td>\n",
       "      <td>37.4192</td>\n",
       "    </tr>\n",
       "    <tr>\n",
       "      <th>1</th>\n",
       "      <td>1.589587e+09</td>\n",
       "      <td>www.0dayrox2.blogspot.com</td>\n",
       "      <td>/</td>\n",
       "      <td>172.217.170.65</td>\n",
       "      <td>443</td>\n",
       "      <td>0.423</td>\n",
       "      <td>364.186</td>\n",
       "      <td>800.422</td>\n",
       "      <td>160.957</td>\n",
       "      <td>404.0</td>\n",
       "      <td>Q046</td>\n",
       "      <td>15169.0</td>\n",
       "      <td>GOOGLE - Google LLC</td>\n",
       "      <td>-122.0574</td>\n",
       "      <td>37.4192</td>\n",
       "    </tr>\n",
       "    <tr>\n",
       "      <th>2</th>\n",
       "      <td>1.589587e+09</td>\n",
       "      <td>www.0dayrox2.blogspot.com</td>\n",
       "      <td>/</td>\n",
       "      <td>172.217.170.65</td>\n",
       "      <td>443</td>\n",
       "      <td>0.350</td>\n",
       "      <td>365.495</td>\n",
       "      <td>273.920</td>\n",
       "      <td>651.475</td>\n",
       "      <td>404.0</td>\n",
       "      <td>Q050</td>\n",
       "      <td>15169.0</td>\n",
       "      <td>GOOGLE - Google LLC</td>\n",
       "      <td>-122.0574</td>\n",
       "      <td>37.4192</td>\n",
       "    </tr>\n",
       "    <tr>\n",
       "      <th>8</th>\n",
       "      <td>1.589587e+09</td>\n",
       "      <td>www.0dayrox.blogspot.com</td>\n",
       "      <td>/</td>\n",
       "      <td>172.217.170.33</td>\n",
       "      <td>443</td>\n",
       "      <td>341.801</td>\n",
       "      <td>373.314</td>\n",
       "      <td>788.356</td>\n",
       "      <td>151.801</td>\n",
       "      <td>404.0</td>\n",
       "      <td>Q043</td>\n",
       "      <td>15169.0</td>\n",
       "      <td>GOOGLE - Google LLC</td>\n",
       "      <td>-122.0574</td>\n",
       "      <td>37.4192</td>\n",
       "    </tr>\n",
       "    <tr>\n",
       "      <th>9</th>\n",
       "      <td>1.589587e+09</td>\n",
       "      <td>www.0dayrox.blogspot.com</td>\n",
       "      <td>/</td>\n",
       "      <td>172.217.170.33</td>\n",
       "      <td>443</td>\n",
       "      <td>0.366</td>\n",
       "      <td>371.684</td>\n",
       "      <td>778.456</td>\n",
       "      <td>139.038</td>\n",
       "      <td>404.0</td>\n",
       "      <td>Q046</td>\n",
       "      <td>15169.0</td>\n",
       "      <td>GOOGLE - Google LLC</td>\n",
       "      <td>-122.0574</td>\n",
       "      <td>37.4192</td>\n",
       "    </tr>\n",
       "  </tbody>\n",
       "</table>\n",
       "</div>"
      ],
      "text/plain": [
       "   TimeOfMeasurement                        Url Path              Ip Port  \\\n",
       "0       1.589587e+09  www.0dayrox2.blogspot.com    /  172.217.170.65  443   \n",
       "1       1.589587e+09  www.0dayrox2.blogspot.com    /  172.217.170.65  443   \n",
       "2       1.589587e+09  www.0dayrox2.blogspot.com    /  172.217.170.65  443   \n",
       "8       1.589587e+09   www.0dayrox.blogspot.com    /  172.217.170.33  443   \n",
       "9       1.589587e+09   www.0dayrox.blogspot.com    /  172.217.170.33  443   \n",
       "\n",
       "   DNSTime  ConnectionEstablishmentTime     TTFB  TotalDownloadTime  \\\n",
       "0  347.245                      372.930  318.241            678.709   \n",
       "1    0.423                      364.186  800.422            160.957   \n",
       "2    0.350                      365.495  273.920            651.475   \n",
       "8  341.801                      373.314  788.356            151.801   \n",
       "9    0.366                      371.684  778.456            139.038   \n",
       "\n",
       "   HttpResponse Protocol     ASNo               ASName        Lat      Lon  \n",
       "0         404.0     Q043  15169.0  GOOGLE - Google LLC  -122.0574  37.4192  \n",
       "1         404.0     Q046  15169.0  GOOGLE - Google LLC  -122.0574  37.4192  \n",
       "2         404.0     Q050  15169.0  GOOGLE - Google LLC  -122.0574  37.4192  \n",
       "8         404.0     Q043  15169.0  GOOGLE - Google LLC  -122.0574  37.4192  \n",
       "9         404.0     Q046  15169.0  GOOGLE - Google LLC  -122.0574  37.4192  "
      ]
     },
     "execution_count": 18,
     "metadata": {},
     "output_type": "execute_result"
    }
   ],
   "source": [
    "t.head()"
   ]
  },
  {
   "cell_type": "code",
   "execution_count": 19,
   "metadata": {},
   "outputs": [],
   "source": [
    "def timestamp2human(timestamp):\n",
    "    return datetime.datetime.fromtimestamp(int(timestamp)).strftime('%c')"
   ]
  },
  {
   "cell_type": "code",
   "execution_count": 20,
   "metadata": {},
   "outputs": [],
   "source": [
    "#t['TimeOfMeasurement'] = t['TimeOfMeasurement'].apply(timestamp2human)"
   ]
  },
  {
   "cell_type": "code",
   "execution_count": 21,
   "metadata": {},
   "outputs": [
    {
     "data": {
      "text/html": [
       "<div>\n",
       "<style scoped>\n",
       "    .dataframe tbody tr th:only-of-type {\n",
       "        vertical-align: middle;\n",
       "    }\n",
       "\n",
       "    .dataframe tbody tr th {\n",
       "        vertical-align: top;\n",
       "    }\n",
       "\n",
       "    .dataframe thead th {\n",
       "        text-align: right;\n",
       "    }\n",
       "</style>\n",
       "<table border=\"1\" class=\"dataframe\">\n",
       "  <thead>\n",
       "    <tr style=\"text-align: right;\">\n",
       "      <th></th>\n",
       "      <th>TimeOfMeasurement</th>\n",
       "      <th>Url</th>\n",
       "      <th>Path</th>\n",
       "      <th>Ip</th>\n",
       "      <th>Port</th>\n",
       "      <th>DNSTime</th>\n",
       "      <th>ConnectionEstablishmentTime</th>\n",
       "      <th>TTFB</th>\n",
       "      <th>TotalDownloadTime</th>\n",
       "      <th>HttpResponse</th>\n",
       "      <th>Protocol</th>\n",
       "      <th>ASNo</th>\n",
       "      <th>ASName</th>\n",
       "      <th>Lat</th>\n",
       "      <th>Lon</th>\n",
       "    </tr>\n",
       "  </thead>\n",
       "  <tbody>\n",
       "    <tr>\n",
       "      <th>0</th>\n",
       "      <td>1.589587e+09</td>\n",
       "      <td>www.0dayrox2.blogspot.com</td>\n",
       "      <td>/</td>\n",
       "      <td>172.217.170.65</td>\n",
       "      <td>443</td>\n",
       "      <td>347.245</td>\n",
       "      <td>372.930</td>\n",
       "      <td>318.241</td>\n",
       "      <td>678.709</td>\n",
       "      <td>404.0</td>\n",
       "      <td>Q043</td>\n",
       "      <td>15169.0</td>\n",
       "      <td>GOOGLE - Google LLC</td>\n",
       "      <td>-122.0574</td>\n",
       "      <td>37.4192</td>\n",
       "    </tr>\n",
       "    <tr>\n",
       "      <th>1</th>\n",
       "      <td>1.589587e+09</td>\n",
       "      <td>www.0dayrox2.blogspot.com</td>\n",
       "      <td>/</td>\n",
       "      <td>172.217.170.65</td>\n",
       "      <td>443</td>\n",
       "      <td>0.423</td>\n",
       "      <td>364.186</td>\n",
       "      <td>800.422</td>\n",
       "      <td>160.957</td>\n",
       "      <td>404.0</td>\n",
       "      <td>Q046</td>\n",
       "      <td>15169.0</td>\n",
       "      <td>GOOGLE - Google LLC</td>\n",
       "      <td>-122.0574</td>\n",
       "      <td>37.4192</td>\n",
       "    </tr>\n",
       "    <tr>\n",
       "      <th>2</th>\n",
       "      <td>1.589587e+09</td>\n",
       "      <td>www.0dayrox2.blogspot.com</td>\n",
       "      <td>/</td>\n",
       "      <td>172.217.170.65</td>\n",
       "      <td>443</td>\n",
       "      <td>0.350</td>\n",
       "      <td>365.495</td>\n",
       "      <td>273.920</td>\n",
       "      <td>651.475</td>\n",
       "      <td>404.0</td>\n",
       "      <td>Q050</td>\n",
       "      <td>15169.0</td>\n",
       "      <td>GOOGLE - Google LLC</td>\n",
       "      <td>-122.0574</td>\n",
       "      <td>37.4192</td>\n",
       "    </tr>\n",
       "    <tr>\n",
       "      <th>8</th>\n",
       "      <td>1.589587e+09</td>\n",
       "      <td>www.0dayrox.blogspot.com</td>\n",
       "      <td>/</td>\n",
       "      <td>172.217.170.33</td>\n",
       "      <td>443</td>\n",
       "      <td>341.801</td>\n",
       "      <td>373.314</td>\n",
       "      <td>788.356</td>\n",
       "      <td>151.801</td>\n",
       "      <td>404.0</td>\n",
       "      <td>Q043</td>\n",
       "      <td>15169.0</td>\n",
       "      <td>GOOGLE - Google LLC</td>\n",
       "      <td>-122.0574</td>\n",
       "      <td>37.4192</td>\n",
       "    </tr>\n",
       "    <tr>\n",
       "      <th>9</th>\n",
       "      <td>1.589587e+09</td>\n",
       "      <td>www.0dayrox.blogspot.com</td>\n",
       "      <td>/</td>\n",
       "      <td>172.217.170.33</td>\n",
       "      <td>443</td>\n",
       "      <td>0.366</td>\n",
       "      <td>371.684</td>\n",
       "      <td>778.456</td>\n",
       "      <td>139.038</td>\n",
       "      <td>404.0</td>\n",
       "      <td>Q046</td>\n",
       "      <td>15169.0</td>\n",
       "      <td>GOOGLE - Google LLC</td>\n",
       "      <td>-122.0574</td>\n",
       "      <td>37.4192</td>\n",
       "    </tr>\n",
       "  </tbody>\n",
       "</table>\n",
       "</div>"
      ],
      "text/plain": [
       "   TimeOfMeasurement                        Url Path              Ip Port  \\\n",
       "0       1.589587e+09  www.0dayrox2.blogspot.com    /  172.217.170.65  443   \n",
       "1       1.589587e+09  www.0dayrox2.blogspot.com    /  172.217.170.65  443   \n",
       "2       1.589587e+09  www.0dayrox2.blogspot.com    /  172.217.170.65  443   \n",
       "8       1.589587e+09   www.0dayrox.blogspot.com    /  172.217.170.33  443   \n",
       "9       1.589587e+09   www.0dayrox.blogspot.com    /  172.217.170.33  443   \n",
       "\n",
       "   DNSTime  ConnectionEstablishmentTime     TTFB  TotalDownloadTime  \\\n",
       "0  347.245                      372.930  318.241            678.709   \n",
       "1    0.423                      364.186  800.422            160.957   \n",
       "2    0.350                      365.495  273.920            651.475   \n",
       "8  341.801                      373.314  788.356            151.801   \n",
       "9    0.366                      371.684  778.456            139.038   \n",
       "\n",
       "   HttpResponse Protocol     ASNo               ASName        Lat      Lon  \n",
       "0         404.0     Q043  15169.0  GOOGLE - Google LLC  -122.0574  37.4192  \n",
       "1         404.0     Q046  15169.0  GOOGLE - Google LLC  -122.0574  37.4192  \n",
       "2         404.0     Q050  15169.0  GOOGLE - Google LLC  -122.0574  37.4192  \n",
       "8         404.0     Q043  15169.0  GOOGLE - Google LLC  -122.0574  37.4192  \n",
       "9         404.0     Q046  15169.0  GOOGLE - Google LLC  -122.0574  37.4192  "
      ]
     },
     "execution_count": 21,
     "metadata": {},
     "output_type": "execute_result"
    }
   ],
   "source": [
    "t.head()"
   ]
  },
  {
   "cell_type": "code",
   "execution_count": 22,
   "metadata": {},
   "outputs": [
    {
     "data": {
      "text/html": [
       "<div>\n",
       "<style scoped>\n",
       "    .dataframe tbody tr th:only-of-type {\n",
       "        vertical-align: middle;\n",
       "    }\n",
       "\n",
       "    .dataframe tbody tr th {\n",
       "        vertical-align: top;\n",
       "    }\n",
       "\n",
       "    .dataframe thead th {\n",
       "        text-align: right;\n",
       "    }\n",
       "</style>\n",
       "<table border=\"1\" class=\"dataframe\">\n",
       "  <thead>\n",
       "    <tr style=\"text-align: right;\">\n",
       "      <th></th>\n",
       "      <th>TimeOfMeasurement</th>\n",
       "      <th>Url</th>\n",
       "      <th>Path</th>\n",
       "      <th>Ip</th>\n",
       "      <th>Port</th>\n",
       "      <th>DNSTime</th>\n",
       "      <th>ConnectionEstablishmentTime</th>\n",
       "      <th>TTFB</th>\n",
       "      <th>TotalDownloadTime</th>\n",
       "      <th>HttpResponse</th>\n",
       "      <th>Protocol</th>\n",
       "      <th>ASNo</th>\n",
       "      <th>ASName</th>\n",
       "      <th>Lat</th>\n",
       "      <th>Lon</th>\n",
       "    </tr>\n",
       "  </thead>\n",
       "  <tbody>\n",
       "    <tr>\n",
       "      <th>2112243</th>\n",
       "      <td>1.589989e+09</td>\n",
       "      <td>www.eigo-net-slang-jiten.blogspot.com</td>\n",
       "      <td>/</td>\n",
       "      <td>216.58.223.129</td>\n",
       "      <td>443</td>\n",
       "      <td>1.017</td>\n",
       "      <td>382.325</td>\n",
       "      <td>727.119</td>\n",
       "      <td>727.166</td>\n",
       "      <td>301.0</td>\n",
       "      <td>Q046</td>\n",
       "      <td>NaN</td>\n",
       "      <td>NaN</td>\n",
       "      <td>NaN</td>\n",
       "      <td>NaN</td>\n",
       "    </tr>\n",
       "    <tr>\n",
       "      <th>2112244</th>\n",
       "      <td>1.589989e+09</td>\n",
       "      <td>www.linuxiumcomau.blogspot.com</td>\n",
       "      <td>/</td>\n",
       "      <td>216.58.223.129</td>\n",
       "      <td>443</td>\n",
       "      <td>170.449</td>\n",
       "      <td>382.129</td>\n",
       "      <td>752.708</td>\n",
       "      <td>752.743</td>\n",
       "      <td>301.0</td>\n",
       "      <td>Q043</td>\n",
       "      <td>15169.0</td>\n",
       "      <td>GOOGLE - Google LLC</td>\n",
       "      <td>-122.0574</td>\n",
       "      <td>37.4192</td>\n",
       "    </tr>\n",
       "    <tr>\n",
       "      <th>2112245</th>\n",
       "      <td>1.589989e+09</td>\n",
       "      <td>www.eigo-net-slang-jiten.blogspot.com</td>\n",
       "      <td>/</td>\n",
       "      <td>172.217.170.33</td>\n",
       "      <td>443</td>\n",
       "      <td>1.244</td>\n",
       "      <td>382.812</td>\n",
       "      <td>713.655</td>\n",
       "      <td>713.706</td>\n",
       "      <td>301.0</td>\n",
       "      <td>Q050</td>\n",
       "      <td>NaN</td>\n",
       "      <td>NaN</td>\n",
       "      <td>NaN</td>\n",
       "      <td>NaN</td>\n",
       "    </tr>\n",
       "    <tr>\n",
       "      <th>2112251</th>\n",
       "      <td>1.589989e+09</td>\n",
       "      <td>www.linuxiumcomau.blogspot.com</td>\n",
       "      <td>/</td>\n",
       "      <td>216.58.223.129</td>\n",
       "      <td>443</td>\n",
       "      <td>170.173</td>\n",
       "      <td>373.044</td>\n",
       "      <td>727.269</td>\n",
       "      <td>727.314</td>\n",
       "      <td>301.0</td>\n",
       "      <td>Q046</td>\n",
       "      <td>15169.0</td>\n",
       "      <td>GOOGLE - Google LLC</td>\n",
       "      <td>-122.0574</td>\n",
       "      <td>37.4192</td>\n",
       "    </tr>\n",
       "    <tr>\n",
       "      <th>2112252</th>\n",
       "      <td>1.589989e+09</td>\n",
       "      <td>www.linuxiumcomau.blogspot.com</td>\n",
       "      <td>/</td>\n",
       "      <td>216.58.223.129</td>\n",
       "      <td>443</td>\n",
       "      <td>1.186</td>\n",
       "      <td>374.318</td>\n",
       "      <td>733.448</td>\n",
       "      <td>733.492</td>\n",
       "      <td>301.0</td>\n",
       "      <td>Q050</td>\n",
       "      <td>15169.0</td>\n",
       "      <td>GOOGLE - Google LLC</td>\n",
       "      <td>-122.0574</td>\n",
       "      <td>37.4192</td>\n",
       "    </tr>\n",
       "  </tbody>\n",
       "</table>\n",
       "</div>"
      ],
      "text/plain": [
       "         TimeOfMeasurement                                    Url Path  \\\n",
       "2112243       1.589989e+09  www.eigo-net-slang-jiten.blogspot.com    /   \n",
       "2112244       1.589989e+09         www.linuxiumcomau.blogspot.com    /   \n",
       "2112245       1.589989e+09  www.eigo-net-slang-jiten.blogspot.com    /   \n",
       "2112251       1.589989e+09         www.linuxiumcomau.blogspot.com    /   \n",
       "2112252       1.589989e+09         www.linuxiumcomau.blogspot.com    /   \n",
       "\n",
       "                     Ip Port  DNSTime  ConnectionEstablishmentTime     TTFB  \\\n",
       "2112243  216.58.223.129  443    1.017                      382.325  727.119   \n",
       "2112244  216.58.223.129  443  170.449                      382.129  752.708   \n",
       "2112245  172.217.170.33  443    1.244                      382.812  713.655   \n",
       "2112251  216.58.223.129  443  170.173                      373.044  727.269   \n",
       "2112252  216.58.223.129  443    1.186                      374.318  733.448   \n",
       "\n",
       "         TotalDownloadTime  HttpResponse Protocol     ASNo  \\\n",
       "2112243            727.166         301.0     Q046      NaN   \n",
       "2112244            752.743         301.0     Q043  15169.0   \n",
       "2112245            713.706         301.0     Q050      NaN   \n",
       "2112251            727.314         301.0     Q046  15169.0   \n",
       "2112252            733.492         301.0     Q050  15169.0   \n",
       "\n",
       "                      ASName        Lat      Lon  \n",
       "2112243                  NaN        NaN      NaN  \n",
       "2112244  GOOGLE - Google LLC  -122.0574  37.4192  \n",
       "2112245                  NaN        NaN      NaN  \n",
       "2112251  GOOGLE - Google LLC  -122.0574  37.4192  \n",
       "2112252  GOOGLE - Google LLC  -122.0574  37.4192  "
      ]
     },
     "execution_count": 22,
     "metadata": {},
     "output_type": "execute_result"
    }
   ],
   "source": [
    "t.tail()"
   ]
  },
  {
   "cell_type": "code",
   "execution_count": 23,
   "metadata": {},
   "outputs": [],
   "source": [
    "def filter_by_ip(df, column):\n",
    "  \"\"\"reads a DataFrame, calls fbi.filter_v{4,6} to get DataFrames with rows\n",
    "     containing only v4, v6 endpoints. Returns the two DataFrame as a tuple\"\"\"\n",
    "\n",
    "  dfv6 = fbi.filter_v6(df, column)\n",
    "  dfv4 = fbi.filter_v4(df, column)\n",
    "  return dfv4, dfv6"
   ]
  },
  {
   "cell_type": "code",
   "execution_count": 24,
   "metadata": {},
   "outputs": [],
   "source": [
    "#quic4, quic6 = filter_by_ip(t, column = 'Ip')\n",
    "quic4 = t[t['Ip'].str.contains(\"\\.\")]\n",
    "quic6 = t[t['Ip'].str.contains(\"\\:\")]"
   ]
  },
  {
   "cell_type": "code",
   "execution_count": 25,
   "metadata": {},
   "outputs": [],
   "source": [
    "quic4 = quic4[quic4['HttpResponse'] == 200.0]\n",
    "quic6 = quic6[quic6['HttpResponse'] == 200.0]"
   ]
  },
  {
   "cell_type": "code",
   "execution_count": 26,
   "metadata": {},
   "outputs": [
    {
     "data": {
      "text/plain": [
       "TimeOfMeasurement              167202\n",
       "Url                            167202\n",
       "Path                           167202\n",
       "Ip                             167202\n",
       "Port                           167202\n",
       "DNSTime                        167202\n",
       "ConnectionEstablishmentTime    167202\n",
       "TTFB                           167202\n",
       "TotalDownloadTime              167202\n",
       "HttpResponse                   167202\n",
       "Protocol                       167202\n",
       "ASNo                           108444\n",
       "ASName                         108444\n",
       "Lat                            108444\n",
       "Lon                            108444\n",
       "dtype: int64"
      ]
     },
     "execution_count": 26,
     "metadata": {},
     "output_type": "execute_result"
    }
   ],
   "source": [
    "quic4.count()"
   ]
  },
  {
   "cell_type": "code",
   "execution_count": 27,
   "metadata": {},
   "outputs": [
    {
     "data": {
      "text/html": [
       "<div>\n",
       "<style scoped>\n",
       "    .dataframe tbody tr th:only-of-type {\n",
       "        vertical-align: middle;\n",
       "    }\n",
       "\n",
       "    .dataframe tbody tr th {\n",
       "        vertical-align: top;\n",
       "    }\n",
       "\n",
       "    .dataframe thead th {\n",
       "        text-align: right;\n",
       "    }\n",
       "</style>\n",
       "<table border=\"1\" class=\"dataframe\">\n",
       "  <thead>\n",
       "    <tr style=\"text-align: right;\">\n",
       "      <th></th>\n",
       "      <th>TimeOfMeasurement</th>\n",
       "      <th>Url</th>\n",
       "      <th>Path</th>\n",
       "      <th>Ip</th>\n",
       "      <th>Port</th>\n",
       "      <th>DNSTime</th>\n",
       "      <th>ConnectionEstablishmentTime</th>\n",
       "      <th>TTFB</th>\n",
       "      <th>TotalDownloadTime</th>\n",
       "      <th>HttpResponse</th>\n",
       "      <th>Protocol</th>\n",
       "      <th>ASNo</th>\n",
       "      <th>ASName</th>\n",
       "      <th>Lat</th>\n",
       "      <th>Lon</th>\n",
       "    </tr>\n",
       "  </thead>\n",
       "  <tbody>\n",
       "    <tr>\n",
       "      <th>24</th>\n",
       "      <td>1.589587e+09</td>\n",
       "      <td>www.100negocios.com</td>\n",
       "      <td>/</td>\n",
       "      <td>66.198.240.11</td>\n",
       "      <td>443</td>\n",
       "      <td>754.037</td>\n",
       "      <td>491.258</td>\n",
       "      <td>275.414</td>\n",
       "      <td>846.099</td>\n",
       "      <td>200.0</td>\n",
       "      <td>Q043</td>\n",
       "      <td>NaN</td>\n",
       "      <td>NaN</td>\n",
       "      <td>NaN</td>\n",
       "      <td>NaN</td>\n",
       "    </tr>\n",
       "    <tr>\n",
       "      <th>25</th>\n",
       "      <td>1.589587e+09</td>\n",
       "      <td>www.100negocios.com</td>\n",
       "      <td>/</td>\n",
       "      <td>66.198.240.11</td>\n",
       "      <td>443</td>\n",
       "      <td>0.337</td>\n",
       "      <td>491.489</td>\n",
       "      <td>218.640</td>\n",
       "      <td>790.981</td>\n",
       "      <td>200.0</td>\n",
       "      <td>Q046</td>\n",
       "      <td>NaN</td>\n",
       "      <td>NaN</td>\n",
       "      <td>NaN</td>\n",
       "      <td>NaN</td>\n",
       "    </tr>\n",
       "    <tr>\n",
       "      <th>26</th>\n",
       "      <td>1.589587e+09</td>\n",
       "      <td>www.100negocios.com</td>\n",
       "      <td>/</td>\n",
       "      <td>66.198.240.11</td>\n",
       "      <td>443</td>\n",
       "      <td>0.377</td>\n",
       "      <td>491.364</td>\n",
       "      <td>227.626</td>\n",
       "      <td>824.312</td>\n",
       "      <td>200.0</td>\n",
       "      <td>Q050</td>\n",
       "      <td>NaN</td>\n",
       "      <td>NaN</td>\n",
       "      <td>NaN</td>\n",
       "      <td>NaN</td>\n",
       "    </tr>\n",
       "    <tr>\n",
       "      <th>120</th>\n",
       "      <td>1.589587e+09</td>\n",
       "      <td>www.1-link.org</td>\n",
       "      <td>/</td>\n",
       "      <td>78.142.29.4</td>\n",
       "      <td>443</td>\n",
       "      <td>214.211</td>\n",
       "      <td>380.288</td>\n",
       "      <td>631.592</td>\n",
       "      <td>642.976</td>\n",
       "      <td>200.0</td>\n",
       "      <td>Q043</td>\n",
       "      <td>206349.0</td>\n",
       "      <td>BLUEANGELHOST - BlueAngelHost Pvt. Ltd</td>\n",
       "      <td>23.3333</td>\n",
       "      <td>42.7</td>\n",
       "    </tr>\n",
       "    <tr>\n",
       "      <th>121</th>\n",
       "      <td>1.589587e+09</td>\n",
       "      <td>www.1-link.org</td>\n",
       "      <td>/</td>\n",
       "      <td>78.142.29.4</td>\n",
       "      <td>443</td>\n",
       "      <td>0.398</td>\n",
       "      <td>377.697</td>\n",
       "      <td>757.248</td>\n",
       "      <td>768.764</td>\n",
       "      <td>200.0</td>\n",
       "      <td>Q046</td>\n",
       "      <td>206349.0</td>\n",
       "      <td>BLUEANGELHOST - BlueAngelHost Pvt. Ltd</td>\n",
       "      <td>23.3333</td>\n",
       "      <td>42.7</td>\n",
       "    </tr>\n",
       "  </tbody>\n",
       "</table>\n",
       "</div>"
      ],
      "text/plain": [
       "     TimeOfMeasurement                  Url Path             Ip Port  DNSTime  \\\n",
       "24        1.589587e+09  www.100negocios.com    /  66.198.240.11  443  754.037   \n",
       "25        1.589587e+09  www.100negocios.com    /  66.198.240.11  443    0.337   \n",
       "26        1.589587e+09  www.100negocios.com    /  66.198.240.11  443    0.377   \n",
       "120       1.589587e+09       www.1-link.org    /    78.142.29.4  443  214.211   \n",
       "121       1.589587e+09       www.1-link.org    /    78.142.29.4  443    0.398   \n",
       "\n",
       "     ConnectionEstablishmentTime     TTFB  TotalDownloadTime  HttpResponse  \\\n",
       "24                       491.258  275.414            846.099         200.0   \n",
       "25                       491.489  218.640            790.981         200.0   \n",
       "26                       491.364  227.626            824.312         200.0   \n",
       "120                      380.288  631.592            642.976         200.0   \n",
       "121                      377.697  757.248            768.764         200.0   \n",
       "\n",
       "    Protocol      ASNo                                  ASName      Lat   Lon  \n",
       "24      Q043       NaN                                     NaN      NaN   NaN  \n",
       "25      Q046       NaN                                     NaN      NaN   NaN  \n",
       "26      Q050       NaN                                     NaN      NaN   NaN  \n",
       "120     Q043  206349.0  BLUEANGELHOST - BlueAngelHost Pvt. Ltd  23.3333  42.7  \n",
       "121     Q046  206349.0  BLUEANGELHOST - BlueAngelHost Pvt. Ltd  23.3333  42.7  "
      ]
     },
     "execution_count": 27,
     "metadata": {},
     "output_type": "execute_result"
    }
   ],
   "source": [
    "quic4.head()"
   ]
  },
  {
   "cell_type": "code",
   "execution_count": 28,
   "metadata": {},
   "outputs": [
    {
     "data": {
      "text/plain": [
       "TimeOfMeasurement              0\n",
       "Url                            0\n",
       "Path                           0\n",
       "Ip                             0\n",
       "Port                           0\n",
       "DNSTime                        0\n",
       "ConnectionEstablishmentTime    0\n",
       "TTFB                           0\n",
       "TotalDownloadTime              0\n",
       "HttpResponse                   0\n",
       "Protocol                       0\n",
       "ASNo                           0\n",
       "ASName                         0\n",
       "Lat                            0\n",
       "Lon                            0\n",
       "dtype: int64"
      ]
     },
     "execution_count": 28,
     "metadata": {},
     "output_type": "execute_result"
    }
   ],
   "source": [
    "quic6.count()"
   ]
  },
  {
   "cell_type": "code",
   "execution_count": 29,
   "metadata": {
    "lines_to_next_cell": 2
   },
   "outputs": [
    {
     "data": {
      "text/html": [
       "<div>\n",
       "<style scoped>\n",
       "    .dataframe tbody tr th:only-of-type {\n",
       "        vertical-align: middle;\n",
       "    }\n",
       "\n",
       "    .dataframe tbody tr th {\n",
       "        vertical-align: top;\n",
       "    }\n",
       "\n",
       "    .dataframe thead th {\n",
       "        text-align: right;\n",
       "    }\n",
       "</style>\n",
       "<table border=\"1\" class=\"dataframe\">\n",
       "  <thead>\n",
       "    <tr style=\"text-align: right;\">\n",
       "      <th></th>\n",
       "      <th>TimeOfMeasurement</th>\n",
       "      <th>Url</th>\n",
       "      <th>Path</th>\n",
       "      <th>Ip</th>\n",
       "      <th>Port</th>\n",
       "      <th>DNSTime</th>\n",
       "      <th>ConnectionEstablishmentTime</th>\n",
       "      <th>TTFB</th>\n",
       "      <th>TotalDownloadTime</th>\n",
       "      <th>HttpResponse</th>\n",
       "      <th>Protocol</th>\n",
       "      <th>ASNo</th>\n",
       "      <th>ASName</th>\n",
       "      <th>Lat</th>\n",
       "      <th>Lon</th>\n",
       "    </tr>\n",
       "  </thead>\n",
       "  <tbody>\n",
       "  </tbody>\n",
       "</table>\n",
       "</div>"
      ],
      "text/plain": [
       "Empty DataFrame\n",
       "Columns: [TimeOfMeasurement, Url, Path, Ip, Port, DNSTime, ConnectionEstablishmentTime, TTFB, TotalDownloadTime, HttpResponse, Protocol, ASNo, ASName, Lat, Lon]\n",
       "Index: []"
      ]
     },
     "execution_count": 29,
     "metadata": {},
     "output_type": "execute_result"
    }
   ],
   "source": [
    "quic6.head()"
   ]
  },
  {
   "cell_type": "code",
   "execution_count": 30,
   "metadata": {},
   "outputs": [
    {
     "data": {
      "text/plain": [
       "ASNo      ASName                                   \n",
       "15169.0   GOOGLE - Google LLC                          455626\n",
       "15133.0   EDGECAST - MCI Communications Services        56593\n",
       "35415.0   WEBZILLA - Webzilla B.V.                       5250\n",
       "55293.0   A2HOSTING - A2 Hosting                         5020\n",
       "203226.0  IHCRU - Internet-Hosting Ltd                   4673\n",
       "                                                        ...  \n",
       "55720.0   GIGABIT-MY Gigabit Hosting Sdn Bhd               56\n",
       "63408.0   SHOPIFYASN2 - Shopify                            56\n",
       "43754.0   ASIATECH - Asiatech Data Transfer Inc PLC        53\n",
       "47748.0   DATICUM - Daticum JSC                            30\n",
       "20473.0   AS-CHOOPA - Choopa                               27\n",
       "Length: 85, dtype: int64"
      ]
     },
     "execution_count": 30,
     "metadata": {},
     "output_type": "execute_result"
    }
   ],
   "source": [
    "t.groupby(['ASNo', 'ASName']).size().sort_values(ascending=False)"
   ]
  },
  {
   "cell_type": "code",
   "execution_count": 31,
   "metadata": {},
   "outputs": [
    {
     "data": {
      "text/plain": [
       "ASNo      ASName                                   \n",
       "15169.0   GOOGLE - Google LLC                          455626\n",
       "15133.0   EDGECAST - MCI Communications Services        56593\n",
       "35415.0   WEBZILLA - Webzilla B.V.                       5250\n",
       "55293.0   A2HOSTING - A2 Hosting                         5020\n",
       "203226.0  IHCRU - Internet-Hosting Ltd                   4673\n",
       "                                                        ...  \n",
       "55720.0   GIGABIT-MY Gigabit Hosting Sdn Bhd               56\n",
       "63408.0   SHOPIFYASN2 - Shopify                            56\n",
       "43754.0   ASIATECH - Asiatech Data Transfer Inc PLC        53\n",
       "47748.0   DATICUM - Daticum JSC                            30\n",
       "20473.0   AS-CHOOPA - Choopa                               27\n",
       "Length: 85, dtype: int64"
      ]
     },
     "execution_count": 31,
     "metadata": {},
     "output_type": "execute_result"
    }
   ],
   "source": [
    "t.groupby(['ASNo', 'ASName']).size().sort_values(ascending=False)"
   ]
  },
  {
   "cell_type": "code",
   "execution_count": 32,
   "metadata": {},
   "outputs": [],
   "source": [
    "quic15169 = quic4.loc[t['ASNo'] == 15169]\n",
    "quic15133 = quic4.loc[t['ASNo'] == 15133]\n",
    "quic55293= quic4.loc[t['ASNo'] == 55293]\n",
    "quic35415 = quic4.loc[t['ASNo'] == 35415]\n",
    "quic203226 = quic4.loc[t['ASNo'] == 203226]"
   ]
  },
  {
   "cell_type": "code",
   "execution_count": 33,
   "metadata": {},
   "outputs": [
    {
     "data": {
      "text/plain": [
       "TimeOfMeasurement              42702\n",
       "Url                            42702\n",
       "Path                           42702\n",
       "Ip                             42702\n",
       "Port                           42702\n",
       "DNSTime                        42702\n",
       "ConnectionEstablishmentTime    42702\n",
       "TTFB                           42702\n",
       "TotalDownloadTime              42702\n",
       "HttpResponse                   42702\n",
       "Protocol                       42702\n",
       "ASNo                           42702\n",
       "ASName                         42702\n",
       "Lat                            42702\n",
       "Lon                            42702\n",
       "dtype: int64"
      ]
     },
     "execution_count": 33,
     "metadata": {},
     "output_type": "execute_result"
    }
   ],
   "source": [
    "quic15169.count()"
   ]
  },
  {
   "cell_type": "code",
   "execution_count": 34,
   "metadata": {},
   "outputs": [
    {
     "data": {
      "text/plain": [
       "TimeOfMeasurement              34880\n",
       "Url                            34880\n",
       "Path                           34880\n",
       "Ip                             34880\n",
       "Port                           34880\n",
       "DNSTime                        34880\n",
       "ConnectionEstablishmentTime    34880\n",
       "TTFB                           34880\n",
       "TotalDownloadTime              34880\n",
       "HttpResponse                   34880\n",
       "Protocol                       34880\n",
       "ASNo                           34880\n",
       "ASName                         34880\n",
       "Lat                            34880\n",
       "Lon                            34880\n",
       "dtype: int64"
      ]
     },
     "execution_count": 34,
     "metadata": {},
     "output_type": "execute_result"
    }
   ],
   "source": [
    "quic15133.count()"
   ]
  },
  {
   "cell_type": "code",
   "execution_count": 35,
   "metadata": {},
   "outputs": [
    {
     "data": {
      "text/plain": [
       "TimeOfMeasurement              34880\n",
       "Url                            34880\n",
       "Path                           34880\n",
       "Ip                             34880\n",
       "Port                           34880\n",
       "DNSTime                        34880\n",
       "ConnectionEstablishmentTime    34880\n",
       "TTFB                           34880\n",
       "TotalDownloadTime              34880\n",
       "HttpResponse                   34880\n",
       "Protocol                       34880\n",
       "ASNo                           34880\n",
       "ASName                         34880\n",
       "Lat                            34880\n",
       "Lon                            34880\n",
       "dtype: int64"
      ]
     },
     "execution_count": 35,
     "metadata": {},
     "output_type": "execute_result"
    }
   ],
   "source": [
    "quic15133.count()"
   ]
  },
  {
   "cell_type": "code",
   "execution_count": 36,
   "metadata": {},
   "outputs": [
    {
     "data": {
      "text/plain": [
       "TimeOfMeasurement              2844\n",
       "Url                            2844\n",
       "Path                           2844\n",
       "Ip                             2844\n",
       "Port                           2844\n",
       "DNSTime                        2844\n",
       "ConnectionEstablishmentTime    2844\n",
       "TTFB                           2844\n",
       "TotalDownloadTime              2844\n",
       "HttpResponse                   2844\n",
       "Protocol                       2844\n",
       "ASNo                           2844\n",
       "ASName                         2844\n",
       "Lat                            2844\n",
       "Lon                            2844\n",
       "dtype: int64"
      ]
     },
     "execution_count": 36,
     "metadata": {},
     "output_type": "execute_result"
    }
   ],
   "source": [
    "quic55293.count()"
   ]
  },
  {
   "cell_type": "code",
   "execution_count": 37,
   "metadata": {},
   "outputs": [
    {
     "data": {
      "text/plain": [
       "TimeOfMeasurement              1067\n",
       "Url                            1067\n",
       "Path                           1067\n",
       "Ip                             1067\n",
       "Port                           1067\n",
       "DNSTime                        1067\n",
       "ConnectionEstablishmentTime    1067\n",
       "TTFB                           1067\n",
       "TotalDownloadTime              1067\n",
       "HttpResponse                   1067\n",
       "Protocol                       1067\n",
       "ASNo                           1067\n",
       "ASName                         1067\n",
       "Lat                            1067\n",
       "Lon                            1067\n",
       "dtype: int64"
      ]
     },
     "execution_count": 37,
     "metadata": {},
     "output_type": "execute_result"
    }
   ],
   "source": [
    "quic35415.count()"
   ]
  },
  {
   "cell_type": "code",
   "execution_count": 38,
   "metadata": {},
   "outputs": [],
   "source": [
    "quic15169_6 = quic6.loc[t['ASNo'] == 15169]\n",
    "quic15133_6 = quic6.loc[t['ASNo'] == 15133]\n",
    "quic55293_6 = quic6.loc[t['ASNo'] == 55293]\n",
    "quic35415_6 = quic6.loc[t['ASNo'] == 35415]\n",
    "quic203226_6 = quic6.loc[t['ASNo'] == 203226]"
   ]
  },
  {
   "cell_type": "code",
   "execution_count": 39,
   "metadata": {},
   "outputs": [
    {
     "data": {
      "text/plain": [
       "TimeOfMeasurement              0\n",
       "Url                            0\n",
       "Path                           0\n",
       "Ip                             0\n",
       "Port                           0\n",
       "DNSTime                        0\n",
       "ConnectionEstablishmentTime    0\n",
       "TTFB                           0\n",
       "TotalDownloadTime              0\n",
       "HttpResponse                   0\n",
       "Protocol                       0\n",
       "ASNo                           0\n",
       "ASName                         0\n",
       "Lat                            0\n",
       "Lon                            0\n",
       "dtype: int64"
      ]
     },
     "execution_count": 39,
     "metadata": {},
     "output_type": "execute_result"
    }
   ],
   "source": [
    "quic15169_6.count()"
   ]
  },
  {
   "cell_type": "code",
   "execution_count": 40,
   "metadata": {},
   "outputs": [
    {
     "data": {
      "text/plain": [
       "TimeOfMeasurement              34880\n",
       "Url                            34880\n",
       "Path                           34880\n",
       "Ip                             34880\n",
       "Port                           34880\n",
       "DNSTime                        34880\n",
       "ConnectionEstablishmentTime    34880\n",
       "TTFB                           34880\n",
       "TotalDownloadTime              34880\n",
       "HttpResponse                   34880\n",
       "Protocol                       34880\n",
       "ASNo                           34880\n",
       "ASName                         34880\n",
       "Lat                            34880\n",
       "Lon                            34880\n",
       "dtype: int64"
      ]
     },
     "execution_count": 40,
     "metadata": {},
     "output_type": "execute_result"
    }
   ],
   "source": [
    "quic15133.count()"
   ]
  },
  {
   "cell_type": "code",
   "execution_count": 41,
   "metadata": {},
   "outputs": [],
   "source": [
    "x = Cdf.MakeCdfFromList(quic15169['ConnectionEstablishmentTime'].values)\n",
    "x1 =Cdf.MakeCdfFromList(quic15133['ConnectionEstablishmentTime'].values)\n",
    "x3 = Cdf.MakeCdfFromList(quic55293['ConnectionEstablishmentTime'].values)\n",
    "x4 = Cdf.MakeCdfFromList(quic35415['ConnectionEstablishmentTime'].values)\n",
    "x5 = Cdf.MakeCdfFromList(quic203226['ConnectionEstablishmentTime'].values)"
   ]
  },
  {
   "cell_type": "code",
   "execution_count": 42,
   "metadata": {},
   "outputs": [
    {
     "name": "stdout",
     "output_type": "stream",
     "text": [
      "-----------------------------\n",
      "\n",
      "percentile values distribution for quic15133\n",
      "\n",
      "50th Percentile:37.578000\n",
      "\n",
      "90th Percentile:40.766000\n",
      "\n",
      "99th Percentile:57.368000\n",
      "\n",
      "25th Percentile:35.882000\n",
      "\n",
      "75th Percentile:38.781000\n",
      "\n",
      "20th Percentile:37.578000\n",
      "\n",
      "40th Percentile:40.766000\n",
      "\n",
      "60th Percentile:57.368000\n",
      "\n",
      "80th Percentile:35.882000\n",
      "\n",
      "-----------------------------\n",
      "\n",
      "-----------------------------\n",
      "\n",
      "percentile values distribution for quic55293\n",
      "\n",
      "50th Percentile:509.122000\n",
      "\n",
      "90th Percentile:592.434000\n",
      "\n",
      "99th Percentile:607.399000\n",
      "\n",
      "25th Percentile:507.833000\n",
      "\n",
      "75th Percentile:519.351000\n",
      "\n",
      "20th Percentile:509.122000\n",
      "\n",
      "40th Percentile:592.434000\n",
      "\n",
      "60th Percentile:607.399000\n",
      "\n",
      "80th Percentile:507.833000\n",
      "\n",
      "-----------------------------\n",
      "\n",
      "-----------------------------\n",
      "\n",
      "percentile values distribution for quic35415\n",
      "\n",
      "50th Percentile:305.381000\n",
      "\n",
      "90th Percentile:315.783000\n",
      "\n",
      "99th Percentile:422.701000\n",
      "\n",
      "25th Percentile:298.743000\n",
      "\n",
      "75th Percentile:310.404000\n",
      "\n",
      "20th Percentile:305.381000\n",
      "\n",
      "40th Percentile:315.783000\n",
      "\n",
      "60th Percentile:422.701000\n",
      "\n",
      "80th Percentile:298.743000\n",
      "\n",
      "-----------------------------\n",
      "\n",
      "-----------------------------\n",
      "\n",
      "percentile values distribution for quic203226\n",
      "\n",
      "50th Percentile:424.450000\n",
      "\n",
      "90th Percentile:442.734000\n",
      "\n",
      "99th Percentile:701.419000\n",
      "\n",
      "25th Percentile:422.715000\n",
      "\n",
      "75th Percentile:432.442000\n",
      "\n",
      "20th Percentile:424.450000\n",
      "\n",
      "40th Percentile:442.734000\n",
      "\n",
      "60th Percentile:701.419000\n",
      "\n",
      "80th Percentile:422.715000\n",
      "\n",
      "-----------------------------\n",
      "\n",
      "-----------------------------\n",
      "\n",
      "percentile values distribution for quic15169\n",
      "\n",
      "50th Percentile:369.354000\n",
      "\n",
      "90th Percentile:378.845000\n",
      "\n",
      "99th Percentile:546.406000\n",
      "\n",
      "25th Percentile:364.813000\n",
      "\n",
      "75th Percentile:374.676000\n",
      "\n",
      "20th Percentile:369.354000\n",
      "\n",
      "40th Percentile:378.845000\n",
      "\n",
      "60th Percentile:546.406000\n",
      "\n",
      "80th Percentile:364.813000\n",
      "\n",
      "-----------------------------\n",
      "\n"
     ]
    }
   ],
   "source": [
    "print_percentiles(x1, 'quic15133')\n",
    "print_percentiles(x3, 'quic55293')\n",
    "print_percentiles(x4, 'quic35415')\n",
    "print_percentiles(x5, 'quic203226')\n",
    "print_percentiles(x, 'quic15169')"
   ]
  },
  {
   "cell_type": "code",
   "execution_count": 43,
   "metadata": {},
   "outputs": [
    {
     "name": "stderr",
     "output_type": "stream",
     "text": [
      "findfont: Font family ['monospace'] not found. Falling back to DejaVu Sans.\n",
      "findfont: Font family ['monospace'] not found. Falling back to DejaVu Sans.\n",
      "findfont: Font family ['monospace'] not found. Falling back to DejaVu Sans.\n",
      "findfont: Font family ['monospace'] not found. Falling back to DejaVu Sans.\n",
      "findfont: Font family ['monospace'] not found. Falling back to DejaVu Sans.\n",
      "findfont: Font family ['monospace'] not found. Falling back to DejaVu Sans.\n"
     ]
    },
    {
     "data": {
      "image/png": "[encoded data removed]",
      "text/plain": [
       "<Figure size 900x600 with 1 Axes>"
      ]
     },
     "metadata": {
      "needs_background": "light"
     },
     "output_type": "display_data"
    }
   ],
   "source": [
    "data = {'$\\\\bf{ASN}$': ['GOOGLE', 'EDGECAST', 'A2HOSTING', 'WEBZILLA', 'IHCRU'],\n",
    "\t'$\\\\bf{25th}$': [\"{:.2f}\".format(x.Percentile(25)), \"{:.2f}\".format(x1.Percentile(25)), \"{:.2f}\".format(x3.Percentile(25)), \"{:.2f}\".format(x4.Percentile(25)), \"{:.2f}\".format(x5.Percentile(25))],\n",
    "\t'$\\\\bf{50th}$': [\"{:.2f}\".format(x.Percentile(50)), \"{:.2f}\".format(x1.Percentile(50)), \"{:.2f}\".format(x3.Percentile(50)), \"{:.2f}\".format(x4.Percentile(50)), \"{:.2f}\".format(x5.Percentile(50))],\n",
    "\t'$\\\\bf{75th}$': [\"{:.2f}\".format(x.Percentile(75)), \"{:.2f}\".format(x1.Percentile(75)), \"{:.2f}\".format(x3.Percentile(75)), \"{:.2f}\".format(x4.Percentile(75)), \"{:.2f}\".format(x5.Percentile(75))],\n",
    "\t'$\\\\bf{80th}$': [\"{:.2f}\".format(x.Percentile(80)), \"{:.2f}\".format(x1.Percentile(80)), \"{:.2f}\".format(x3.Percentile(80)), \"{:.2f}\".format(x4.Percentile(80)), \"{:.2f}\".format(x5.Percentile(80))],\n",
    "    '$\\\\bf{90th}$': [\"{:.2f}\".format(x.Percentile(90)), \"{:.2f}\".format(x1.Percentile(90)), \"{:.2f}\".format(x3.Percentile(90)), \"{:.2f}\".format(x4.Percentile(90)), \"{:.2f}\".format(x5.Percentile(90))]\n",
    "        }    \n",
    "\n",
    "df_percentile = pd.DataFrame(data)\n",
    "\n",
    "fig, ax = plt.subplots(dpi=150)\n",
    "\n",
    " #hide axes\n",
    "fig.patch.set_visible(False)\n",
    "ax.axis('off')\n",
    "ax.axis('tight')\n",
    "\n",
    "ax.table(cellText=df_percentile.values, colLabels=df_percentile.columns, loc='center', cellLoc='center')\n",
    "\n",
    "#fig.tight_layout()\n",
    "plt.savefig('./AWS/CapeTown/ASN/handshake_times_IPv4_asno_percentile.png', format='png', bbox_inches='tight')\n"
   ]
  },
  {
   "cell_type": "code",
   "execution_count": 44,
   "metadata": {},
   "outputs": [],
   "source": [
    "write_percentiles('quic15133.csv', x1)\n",
    "write_percentiles('quic55293.csv', x3)\n",
    "write_percentiles('quic35415.csv', x4)\n",
    "write_percentiles('quic203226.csv', x5)\n",
    "write_percentiles('quic15169.csv', x)"
   ]
  },
  {
   "cell_type": "code",
   "execution_count": 45,
   "metadata": {
    "scrolled": false
   },
   "outputs": [
    {
     "name": "stderr",
     "output_type": "stream",
     "text": [
      "findfont: Font family ['monospace'] not found. Falling back to DejaVu Sans.\n",
      "findfont: Font family ['monospace'] not found. Falling back to DejaVu Sans.\n"
     ]
    },
    {
     "data": {
      "image/png": "[encoded data removed]",
      "text/plain": [
       "<Figure size 720x216 with 2 Axes>"
      ]
     },
     "metadata": {
      "needs_background": "light"
     },
     "output_type": "display_data"
    }
   ],
   "source": [
    "fig = plt.figure(figsize = (10,3))\n",
    "plt.rcParams['font.size'] = 12\n",
    "ax = plt.gca()\n",
    "yticks = np.arange(0,1.1,0.2)\n",
    "\n",
    "#15169\n",
    "plt.plot(x.xs, x.ps, marker='s', linewidth=0.3, markersize=5, fillstyle='none', color = 'orange')\n",
    "#15133\n",
    "plt.plot(x1.xs, x1.ps, marker='s', linewidth=0.3, markersize=5, fillstyle='none', color = 'red')\n",
    "#55293\n",
    "plt.plot(x3.xs, x3.ps, marker='s', linewidth=0.3, markersize=5, fillstyle='none', color = 'green')\n",
    "#35415\n",
    "plt.plot(x4.xs, x4.ps, marker='s', linewidth=0.3, markersize=5, fillstyle='none', color = 'black')\n",
    "#203226\n",
    "plt.plot(x5.xs, x5.ps, marker='s', linewidth=0.3, markersize=5, fillstyle='none', color = 'blue')\n",
    "\n",
    "\n",
    "\n",
    "ax = fig.axes[0]\n",
    "ax.grid(False)\n",
    "ax.set_yticks(yticks)\n",
    "ax.set_ylim([0,1.05])\n",
    "##ax.set_xlim([20,100])\n",
    "ax.set_xscale('log')\n",
    "ax.set_xlabel('latency (x-axis is cut)', fontsize=12)\n",
    "ax.set_ylabel('CDF', fontsize=12)\n",
    "\n",
    "plt.legend(['GOOGLE', 'EDGECAST', 'A2Hosting', 'Webzilla', 'IHCRU'], fontsize=11, loc='best')\n",
    "\n",
    "ax.spines['right'].set_color('none')\n",
    "ax.spines['top'].set_color('none')\n",
    "ax.yaxis.set_ticks_position('left')\n",
    "ax.xaxis.set_ticks_position('bottom')\n",
    "ax.spines['bottom'].set_position(('axes', -0.05))\n",
    "ax.spines['left'].set_position(('axes', -0.05))\n",
    "\n",
    "ax3 = ax.twinx()\n",
    "ax3.spines['right'].set_color('none')\n",
    "ax3.spines['top'].set_color('none')\n",
    "ax3.spines['left'].set_color('none')\n",
    "ax3.spines['bottom'].set_color('none')\n",
    "ax3.yaxis.set_ticks_position('none')\n",
    "plt.setp(ax3.get_yticklabels(), visible=False)\n",
    "\n",
    "plt.title('Handshake Times with IPv4', fontsize=12, y=1.05)\n",
    "plt.savefig('./AWS/CapeTown/ASN/handshake_times_IPv4_asno.png', format='png', bbox_inches='tight')\n"
   ]
  },
  {
   "cell_type": "code",
   "execution_count": null,
   "metadata": {},
   "outputs": [],
   "source": []
  },
  {
   "cell_type": "code",
   "execution_count": 46,
   "metadata": {},
   "outputs": [],
   "source": [
    "x = Cdf.MakeCdfFromList(quic15169['TTFB'].values)\n",
    "x1 =Cdf.MakeCdfFromList(quic15133['TTFB'].values)\n",
    "x3 = Cdf.MakeCdfFromList(quic55293['TTFB'].values)\n",
    "x4 = Cdf.MakeCdfFromList(quic35415['TTFB'].values)\n",
    "x5 = Cdf.MakeCdfFromList(quic203226['TTFB'].values)"
   ]
  },
  {
   "cell_type": "code",
   "execution_count": 47,
   "metadata": {},
   "outputs": [
    {
     "name": "stdout",
     "output_type": "stream",
     "text": [
      "-----------------------------\n",
      "\n",
      "percentile values distribution for quic15133\n",
      "\n",
      "50th Percentile:228.692000\n",
      "\n",
      "90th Percentile:697.637000\n",
      "\n",
      "99th Percentile:951.238000\n",
      "\n",
      "25th Percentile:56.888000\n",
      "\n",
      "75th Percentile:412.942000\n",
      "\n",
      "20th Percentile:228.692000\n",
      "\n",
      "40th Percentile:697.637000\n",
      "\n",
      "60th Percentile:951.238000\n",
      "\n",
      "80th Percentile:56.888000\n",
      "\n",
      "-----------------------------\n",
      "\n",
      "-----------------------------\n",
      "\n",
      "percentile values distribution for quic55293\n",
      "\n",
      "50th Percentile:764.597000\n",
      "\n",
      "90th Percentile:888.126000\n",
      "\n",
      "99th Percentile:908.556000\n",
      "\n",
      "25th Percentile:760.399000\n",
      "\n",
      "75th Percentile:784.525000\n",
      "\n",
      "20th Percentile:764.597000\n",
      "\n",
      "40th Percentile:888.126000\n",
      "\n",
      "60th Percentile:908.556000\n",
      "\n",
      "80th Percentile:760.399000\n",
      "\n",
      "-----------------------------\n",
      "\n",
      "-----------------------------\n",
      "\n",
      "percentile values distribution for quic35415\n",
      "\n",
      "50th Percentile:466.474000\n",
      "\n",
      "90th Percentile:520.842000\n",
      "\n",
      "99th Percentile:733.385000\n",
      "\n",
      "25th Percentile:456.443000\n",
      "\n",
      "75th Percentile:496.270000\n",
      "\n",
      "20th Percentile:466.474000\n",
      "\n",
      "40th Percentile:520.842000\n",
      "\n",
      "60th Percentile:733.385000\n",
      "\n",
      "80th Percentile:456.443000\n",
      "\n",
      "-----------------------------\n",
      "\n",
      "-----------------------------\n",
      "\n",
      "percentile values distribution for quic203226\n",
      "\n",
      "50th Percentile:649.680000\n",
      "\n",
      "90th Percentile:717.392000\n",
      "\n",
      "99th Percentile:993.994000\n",
      "\n",
      "25th Percentile:639.452000\n",
      "\n",
      "75th Percentile:671.537000\n",
      "\n",
      "20th Percentile:649.680000\n",
      "\n",
      "40th Percentile:717.392000\n",
      "\n",
      "60th Percentile:993.994000\n",
      "\n",
      "80th Percentile:639.452000\n",
      "\n",
      "-----------------------------\n",
      "\n",
      "-----------------------------\n",
      "\n",
      "percentile values distribution for quic15169\n",
      "\n",
      "50th Percentile:605.811000\n",
      "\n",
      "90th Percentile:677.146000\n",
      "\n",
      "99th Percentile:867.058000\n",
      "\n",
      "25th Percentile:594.983000\n",
      "\n",
      "75th Percentile:620.454000\n",
      "\n",
      "20th Percentile:605.811000\n",
      "\n",
      "40th Percentile:677.146000\n",
      "\n",
      "60th Percentile:867.058000\n",
      "\n",
      "80th Percentile:594.983000\n",
      "\n",
      "-----------------------------\n",
      "\n"
     ]
    }
   ],
   "source": [
    "print_percentiles(x1, 'quic15133')\n",
    "print_percentiles(x3, 'quic55293')\n",
    "print_percentiles(x4, 'quic35415')\n",
    "print_percentiles(x5, 'quic203226')\n",
    "print_percentiles(x, 'quic15169')"
   ]
  },
  {
   "cell_type": "code",
   "execution_count": 48,
   "metadata": {},
   "outputs": [],
   "source": [
    "write_percentiles('quic15133.csv', x1)\n",
    "write_percentiles('quic55293.csv', x3)\n",
    "write_percentiles('quic35415.csv', x4)\n",
    "write_percentiles('quic203226.csv', x5)\n",
    "write_percentiles('quic15169.csv', x)"
   ]
  },
  {
   "cell_type": "code",
   "execution_count": 49,
   "metadata": {},
   "outputs": [
    {
     "name": "stderr",
     "output_type": "stream",
     "text": [
      "findfont: Font family ['monospace'] not found. Falling back to DejaVu Sans.\n",
      "findfont: Font family ['monospace'] not found. Falling back to DejaVu Sans.\n",
      "findfont: Font family ['monospace'] not found. Falling back to DejaVu Sans.\n",
      "findfont: Font family ['monospace'] not found. Falling back to DejaVu Sans.\n",
      "findfont: Font family ['monospace'] not found. Falling back to DejaVu Sans.\n"
     ]
    },
    {
     "data": {
      "image/png": "[encoded data removed]",
      "text/plain": [
       "<Figure size 900x600 with 1 Axes>"
      ]
     },
     "metadata": {
      "needs_background": "light"
     },
     "output_type": "display_data"
    }
   ],
   "source": [
    "data = {'$\\\\bf{ASN}$': ['GOOGLE', 'EDGECAST', 'A2HOSTING', 'WEBZILLA', 'IHCRU'],\n",
    "\t'$\\\\bf{25th}$': [\"{:.2f}\".format(x.Percentile(25)), \"{:.2f}\".format(x1.Percentile(25)), \"{:.2f}\".format(x3.Percentile(25)), \"{:.2f}\".format(x4.Percentile(25)), \"{:.2f}\".format(x5.Percentile(25))],\n",
    "\t'$\\\\bf{50th}$': [\"{:.2f}\".format(x.Percentile(50)), \"{:.2f}\".format(x1.Percentile(50)), \"{:.2f}\".format(x3.Percentile(50)), \"{:.2f}\".format(x4.Percentile(50)), \"{:.2f}\".format(x5.Percentile(50))],\n",
    "\t'$\\\\bf{75th}$': [\"{:.2f}\".format(x.Percentile(75)), \"{:.2f}\".format(x1.Percentile(75)), \"{:.2f}\".format(x3.Percentile(75)), \"{:.2f}\".format(x4.Percentile(75)), \"{:.2f}\".format(x5.Percentile(75))],\n",
    "\t'$\\\\bf{80th}$': [\"{:.2f}\".format(x.Percentile(80)), \"{:.2f}\".format(x1.Percentile(80)), \"{:.2f}\".format(x3.Percentile(80)), \"{:.2f}\".format(x4.Percentile(80)), \"{:.2f}\".format(x5.Percentile(80))],\n",
    "    '$\\\\bf{90th}$': [\"{:.2f}\".format(x.Percentile(90)), \"{:.2f}\".format(x1.Percentile(90)), \"{:.2f}\".format(x3.Percentile(90)), \"{:.2f}\".format(x4.Percentile(90)), \"{:.2f}\".format(x5.Percentile(90))]\n",
    "        }    \n",
    "\n",
    "df_percentile = pd.DataFrame(data)\n",
    "\n",
    "fig, ax = plt.subplots(dpi=150)\n",
    "\n",
    " #hide axes\n",
    "fig.patch.set_visible(False)\n",
    "ax.axis('off')\n",
    "ax.axis('tight')\n",
    "\n",
    "ax.table(cellText=df_percentile.values, colLabels=df_percentile.columns, loc='center', cellLoc='center')\n",
    "\n",
    "#fig.tight_layout()\n",
    "plt.savefig('./AWS/CapeTown/ASN/TTFB_ipv4_asno_percentile.png', format='png', bbox_inches='tight')"
   ]
  },
  {
   "cell_type": "code",
   "execution_count": 50,
   "metadata": {},
   "outputs": [
    {
     "data": {
      "image/png": "[encoded data removed]",
      "text/plain": [
       "<Figure size 720x216 with 2 Axes>"
      ]
     },
     "metadata": {
      "needs_background": "light"
     },
     "output_type": "display_data"
    }
   ],
   "source": [
    "fig = plt.figure(figsize = (10,3))\n",
    "plt.rcParams['font.size'] = 12\n",
    "ax = plt.gca()\n",
    "yticks = np.arange(0,1.1,0.2)\n",
    "\n",
    "#15169\n",
    "plt.plot(x.xs, x.ps, marker='s', linewidth=0.3, markersize=5, fillstyle='none', color = 'orange')\n",
    "#15133\n",
    "plt.plot(x1.xs, x1.ps, marker='s', linewidth=0.3, markersize=5, fillstyle='none', color = 'red')\n",
    "#55293\n",
    "plt.plot(x3.xs, x3.ps, marker='s', linewidth=0.3, markersize=5, fillstyle='none', color = 'green')\n",
    "#35415\n",
    "plt.plot(x4.xs, x4.ps, marker='s', linewidth=0.3, markersize=5, fillstyle='none', color = 'black')\n",
    "#203226\n",
    "plt.plot(x5.xs, x5.ps, marker='s', linewidth=0.3, markersize=5, fillstyle='none', color = 'blue')\n",
    "\n",
    "\n",
    "ax = fig.axes[0]\n",
    "ax.grid(False)\n",
    "ax.set_yticks(yticks)\n",
    "ax.set_ylim([0,1.05])\n",
    "#ax.set_xlim([20,1000])\n",
    "ax.set_xscale('log')\n",
    "ax.set_xlabel('TTFB', fontsize=12)\n",
    "ax.set_ylabel('CDF', fontsize=12)\n",
    "\n",
    "plt.legend(['GOOGLE', 'EDGECAST', 'A2Hosting', 'Webzilla', 'IHCRU'], fontsize=11, loc='best')\n",
    "\n",
    "ax.spines['right'].set_color('none')\n",
    "ax.spines['top'].set_color('none')\n",
    "ax.yaxis.set_ticks_position('left')\n",
    "ax.xaxis.set_ticks_position('bottom')\n",
    "ax.spines['bottom'].set_position(('axes', -0.05))\n",
    "ax.spines['left'].set_position(('axes', -0.05))\n",
    "\n",
    "ax3 = ax.twinx()\n",
    "ax3.spines['right'].set_color('none')\n",
    "ax3.spines['top'].set_color('none')\n",
    "ax3.spines['left'].set_color('none')\n",
    "ax3.spines['bottom'].set_color('none')\n",
    "ax3.yaxis.set_ticks_position('none')\n",
    "plt.setp(ax3.get_yticklabels(), visible=False)\n",
    "\n",
    "plt.title('TTFB with IPv4', fontsize=12, y=1.05)\n",
    "plt.savefig('./AWS/CapeTown/ASN/TTFB_ipv4_asno.png', format='png', bbox_inches='tight')"
   ]
  },
  {
   "cell_type": "code",
   "execution_count": 51,
   "metadata": {},
   "outputs": [],
   "source": [
    "x = Cdf.MakeCdfFromList(quic15169['TotalDownloadTime'].values)\n",
    "x1 =Cdf.MakeCdfFromList(quic15133['TotalDownloadTime'].values)\n",
    "x3 = Cdf.MakeCdfFromList(quic55293['TotalDownloadTime'].values)\n",
    "x4 = Cdf.MakeCdfFromList(quic35415['TotalDownloadTime'].values)\n",
    "x5 = Cdf.MakeCdfFromList(quic203226['TotalDownloadTime'].values)"
   ]
  },
  {
   "cell_type": "code",
   "execution_count": 52,
   "metadata": {},
   "outputs": [
    {
     "name": "stdout",
     "output_type": "stream",
     "text": [
      "-----------------------------\n",
      "\n",
      "percentile values distribution for quic15133\n",
      "\n",
      "50th Percentile:223.493000\n",
      "\n",
      "90th Percentile:785.077000\n",
      "\n",
      "99th Percentile:972.286000\n",
      "\n",
      "25th Percentile:89.969000\n",
      "\n",
      "75th Percentile:553.323000\n",
      "\n",
      "20th Percentile:223.493000\n",
      "\n",
      "40th Percentile:785.077000\n",
      "\n",
      "60th Percentile:972.286000\n",
      "\n",
      "80th Percentile:89.969000\n",
      "\n",
      "-----------------------------\n",
      "\n",
      "-----------------------------\n",
      "\n",
      "percentile values distribution for quic55293\n",
      "\n",
      "50th Percentile:762.763000\n",
      "\n",
      "90th Percentile:942.147000\n",
      "\n",
      "99th Percentile:995.940000\n",
      "\n",
      "25th Percentile:154.492000\n",
      "\n",
      "75th Percentile:786.691000\n",
      "\n",
      "20th Percentile:762.763000\n",
      "\n",
      "40th Percentile:942.147000\n",
      "\n",
      "60th Percentile:995.940000\n",
      "\n",
      "80th Percentile:154.492000\n",
      "\n",
      "-----------------------------\n",
      "\n",
      "-----------------------------\n",
      "\n",
      "percentile values distribution for quic35415\n",
      "\n",
      "50th Percentile:546.330000\n",
      "\n",
      "90th Percentile:672.705000\n",
      "\n",
      "99th Percentile:781.747000\n",
      "\n",
      "25th Percentile:463.923000\n",
      "\n",
      "75th Percentile:646.008000\n",
      "\n",
      "20th Percentile:546.330000\n",
      "\n",
      "40th Percentile:672.705000\n",
      "\n",
      "60th Percentile:781.747000\n",
      "\n",
      "80th Percentile:463.923000\n",
      "\n",
      "-----------------------------\n",
      "\n",
      "-----------------------------\n",
      "\n",
      "percentile values distribution for quic203226\n",
      "\n",
      "50th Percentile:657.116000\n",
      "\n",
      "90th Percentile:730.162000\n",
      "\n",
      "99th Percentile:862.267000\n",
      "\n",
      "25th Percentile:640.183000\n",
      "\n",
      "75th Percentile:695.608000\n",
      "\n",
      "20th Percentile:657.116000\n",
      "\n",
      "40th Percentile:730.162000\n",
      "\n",
      "60th Percentile:862.267000\n",
      "\n",
      "80th Percentile:640.183000\n",
      "\n",
      "-----------------------------\n",
      "\n",
      "-----------------------------\n",
      "\n",
      "percentile values distribution for quic15169\n",
      "\n",
      "50th Percentile:606.590000\n",
      "\n",
      "90th Percentile:696.628000\n",
      "\n",
      "99th Percentile:941.476000\n",
      "\n",
      "25th Percentile:596.126000\n",
      "\n",
      "75th Percentile:622.187000\n",
      "\n",
      "20th Percentile:606.590000\n",
      "\n",
      "40th Percentile:696.628000\n",
      "\n",
      "60th Percentile:941.476000\n",
      "\n",
      "80th Percentile:596.126000\n",
      "\n",
      "-----------------------------\n",
      "\n"
     ]
    }
   ],
   "source": [
    "print_percentiles(x1, 'quic15133')\n",
    "print_percentiles(x3, 'quic55293')\n",
    "print_percentiles(x4, 'quic35415')\n",
    "print_percentiles(x5, 'quic203226')\n",
    "print_percentiles(x, 'quic15169')"
   ]
  },
  {
   "cell_type": "code",
   "execution_count": 53,
   "metadata": {},
   "outputs": [],
   "source": [
    "write_percentiles('quic15133.csv', x1)\n",
    "write_percentiles('quic55293.csv', x3)\n",
    "write_percentiles('quic35415.csv', x4)\n",
    "write_percentiles('quic203226.csv', x5)\n",
    "write_percentiles('quic15169.csv', x)"
   ]
  },
  {
   "cell_type": "code",
   "execution_count": 54,
   "metadata": {},
   "outputs": [
    {
     "name": "stderr",
     "output_type": "stream",
     "text": [
      "findfont: Font family ['monospace'] not found. Falling back to DejaVu Sans.\n",
      "findfont: Font family ['monospace'] not found. Falling back to DejaVu Sans.\n",
      "findfont: Font family ['monospace'] not found. Falling back to DejaVu Sans.\n",
      "findfont: Font family ['monospace'] not found. Falling back to DejaVu Sans.\n",
      "findfont: Font family ['monospace'] not found. Falling back to DejaVu Sans.\n"
     ]
    },
    {
     "data": {
      "image/png": "[encoded data removed]",
      "text/plain": [
       "<Figure size 900x600 with 1 Axes>"
      ]
     },
     "metadata": {
      "needs_background": "light"
     },
     "output_type": "display_data"
    }
   ],
   "source": [
    "data = {'$\\\\bf{ASN}$': ['GOOGLE', 'EDGECAST', 'A2HOSTING', 'WEBZILLA', 'IHCRU'],\n",
    "\t'$\\\\bf{25th}$': [\"{:.2f}\".format(x.Percentile(25)), \"{:.2f}\".format(x1.Percentile(25)), \"{:.2f}\".format(x3.Percentile(25)), \"{:.2f}\".format(x4.Percentile(25)), \"{:.2f}\".format(x5.Percentile(25))],\n",
    "\t'$\\\\bf{50th}$': [\"{:.2f}\".format(x.Percentile(50)), \"{:.2f}\".format(x1.Percentile(50)), \"{:.2f}\".format(x3.Percentile(50)), \"{:.2f}\".format(x4.Percentile(50)), \"{:.2f}\".format(x5.Percentile(50))],\n",
    "\t'$\\\\bf{75th}$': [\"{:.2f}\".format(x.Percentile(75)), \"{:.2f}\".format(x1.Percentile(75)), \"{:.2f}\".format(x3.Percentile(75)), \"{:.2f}\".format(x4.Percentile(75)), \"{:.2f}\".format(x5.Percentile(75))],\n",
    "\t'$\\\\bf{80th}$': [\"{:.2f}\".format(x.Percentile(80)), \"{:.2f}\".format(x1.Percentile(80)), \"{:.2f}\".format(x3.Percentile(80)), \"{:.2f}\".format(x4.Percentile(80)), \"{:.2f}\".format(x5.Percentile(80))],\n",
    "    '$\\\\bf{90th}$': [\"{:.2f}\".format(x.Percentile(90)), \"{:.2f}\".format(x1.Percentile(90)), \"{:.2f}\".format(x3.Percentile(90)), \"{:.2f}\".format(x4.Percentile(90)), \"{:.2f}\".format(x5.Percentile(90))]\n",
    "        }    \n",
    "\n",
    "df_percentile = pd.DataFrame(data)\n",
    "\n",
    "fig, ax = plt.subplots(dpi=150)\n",
    "\n",
    " #hide axes\n",
    "fig.patch.set_visible(False)\n",
    "ax.axis('off')\n",
    "ax.axis('tight')\n",
    "\n",
    "ax.table(cellText=df_percentile.values, colLabels=df_percentile.columns, loc='center', cellLoc='center')\n",
    "\n",
    "#fig.tight_layout()\n",
    "plt.savefig('./AWS/CapeTown/ASN/TotalDownloadTime_ipv4_asno_percentile.png', format='png', bbox_inches='tight')"
   ]
  },
  {
   "cell_type": "code",
   "execution_count": 55,
   "metadata": {},
   "outputs": [
    {
     "data": {
      "image/png": "[encoded data removed]",
      "text/plain": [
       "<Figure size 720x216 with 2 Axes>"
      ]
     },
     "metadata": {
      "needs_background": "light"
     },
     "output_type": "display_data"
    }
   ],
   "source": [
    "fig = plt.figure(figsize = (10,3))\n",
    "plt.rcParams['font.size'] = 12\n",
    "ax = plt.gca()\n",
    "yticks = np.arange(0,1.1,0.2)\n",
    "\n",
    "#15169\n",
    "plt.plot(x.xs, x.ps, marker='s', linewidth=0.3, markersize=5, fillstyle='none', color = 'orange')\n",
    "#15133\n",
    "plt.plot(x1.xs, x1.ps, marker='s', linewidth=0.3, markersize=5, fillstyle='none', color = 'red')\n",
    "#55293\n",
    "plt.plot(x3.xs, x3.ps, marker='s', linewidth=0.3, markersize=5, fillstyle='none', color = 'green')\n",
    "#35415\n",
    "plt.plot(x4.xs, x4.ps, marker='s', linewidth=0.3, markersize=5, fillstyle='none', color = 'black')\n",
    "#203226\n",
    "plt.plot(x5.xs, x5.ps, marker='s', linewidth=0.3, markersize=5, fillstyle='none', color = 'blue')\n",
    "\n",
    "\n",
    "ax = fig.axes[0]\n",
    "ax.grid(False)\n",
    "ax.set_yticks(yticks)\n",
    "ax.set_ylim([0,1.05])\n",
    "#ax.set_xlim([20,1000])\n",
    "ax.set_xscale('log')\n",
    "ax.set_xlabel('TotalDownloadTime', fontsize=12)\n",
    "ax.set_ylabel('CDF', fontsize=12)\n",
    "\n",
    "plt.legend(['GOOGLE', 'EDGECAST', 'A2Hosting', 'Webzilla', 'IHCRU'], fontsize=11, loc='best')\n",
    "\n",
    "ax.spines['right'].set_color('none')\n",
    "ax.spines['top'].set_color('none')\n",
    "ax.yaxis.set_ticks_position('left')\n",
    "ax.xaxis.set_ticks_position('bottom')\n",
    "ax.spines['bottom'].set_position(('axes', -0.05))\n",
    "ax.spines['left'].set_position(('axes', -0.05))\n",
    "\n",
    "ax3 = ax.twinx()\n",
    "ax3.spines['right'].set_color('none')\n",
    "ax3.spines['top'].set_color('none')\n",
    "ax3.spines['left'].set_color('none')\n",
    "ax3.spines['bottom'].set_color('none')\n",
    "ax3.yaxis.set_ticks_position('none')\n",
    "plt.setp(ax3.get_yticklabels(), visible=False)\n",
    "\n",
    "plt.title('TotalDownloadTime with IPv4', fontsize=12, y=1.05)\n",
    "plt.savefig('./AWS/CapeTown/ASN/TotalDownloadTime_ipv4_asno.png', format='png', bbox_inches='tight')"
   ]
  },
  {
   "cell_type": "code",
   "execution_count": 56,
   "metadata": {},
   "outputs": [],
   "source": [
    "#GOOGLE\n",
    "quic46 = quic15169.loc[t['Protocol'] == 'Q046']\n",
    "quic43 = quic15169.loc[t['Protocol'] == 'Q043']\n",
    "quic50 = quic15169.loc[t['Protocol'] == 'Q050']\n",
    "quich24 = quic15169.loc[t['Protocol'] == 'FF000018']"
   ]
  },
  {
   "cell_type": "code",
   "execution_count": 57,
   "metadata": {},
   "outputs": [],
   "source": [
    "x = Cdf.MakeCdfFromList(quic43['ConnectionEstablishmentTime'].values)\n",
    "x1 =Cdf.MakeCdfFromList(quic46['ConnectionEstablishmentTime'].values)\n",
    "x3 = Cdf.MakeCdfFromList(quic50['ConnectionEstablishmentTime'].values)\n",
    "x5 = Cdf.MakeCdfFromList(quich24['ConnectionEstablishmentTime'].values)"
   ]
  },
  {
   "cell_type": "code",
   "execution_count": 58,
   "metadata": {},
   "outputs": [
    {
     "name": "stdout",
     "output_type": "stream",
     "text": [
      "-----------------------------\n",
      "\n",
      "percentile values distribution for Q046\n",
      "\n",
      "50th Percentile:369.277000\n",
      "\n",
      "90th Percentile:378.903000\n",
      "\n",
      "99th Percentile:546.031000\n",
      "\n",
      "25th Percentile:364.803000\n",
      "\n",
      "75th Percentile:374.562000\n",
      "\n",
      "20th Percentile:369.277000\n",
      "\n",
      "40th Percentile:378.903000\n",
      "\n",
      "60th Percentile:546.031000\n",
      "\n",
      "80th Percentile:364.803000\n",
      "\n",
      "-----------------------------\n",
      "\n",
      "-----------------------------\n",
      "\n",
      "percentile values distribution for Q050\n",
      "\n",
      "50th Percentile:369.423000\n",
      "\n",
      "90th Percentile:378.893000\n",
      "\n",
      "99th Percentile:541.916000\n",
      "\n",
      "25th Percentile:364.816000\n",
      "\n",
      "75th Percentile:374.718000\n",
      "\n",
      "20th Percentile:369.423000\n",
      "\n",
      "40th Percentile:378.893000\n",
      "\n",
      "60th Percentile:541.916000\n",
      "\n",
      "80th Percentile:364.816000\n",
      "\n",
      "-----------------------------\n",
      "\n",
      "-----------------------------\n",
      "\n",
      "percentile values distribution for Q043\n",
      "\n",
      "50th Percentile:369.354000\n",
      "\n",
      "90th Percentile:378.719000\n",
      "\n",
      "99th Percentile:549.580000\n",
      "\n",
      "25th Percentile:364.825000\n",
      "\n",
      "75th Percentile:374.713000\n",
      "\n",
      "20th Percentile:369.354000\n",
      "\n",
      "40th Percentile:378.719000\n",
      "\n",
      "60th Percentile:549.580000\n",
      "\n",
      "80th Percentile:364.825000\n",
      "\n",
      "-----------------------------\n",
      "\n"
     ]
    }
   ],
   "source": [
    "print_percentiles(x1, 'Q046')\n",
    "print_percentiles(x3, 'Q050')\n",
    "#print_percentiles(x5, 'h24')\n",
    "print_percentiles(x, 'Q043')"
   ]
  },
  {
   "cell_type": "code",
   "execution_count": 59,
   "metadata": {},
   "outputs": [
    {
     "name": "stderr",
     "output_type": "stream",
     "text": [
      "findfont: Font family ['monospace'] not found. Falling back to DejaVu Sans.\n",
      "findfont: Font family ['monospace'] not found. Falling back to DejaVu Sans.\n"
     ]
    },
    {
     "data": {
      "image/png": "[encoded data removed]",
      "text/plain": [
       "<Figure size 900x600 with 1 Axes>"
      ]
     },
     "metadata": {
      "needs_background": "light"
     },
     "output_type": "display_data"
    }
   ],
   "source": [
    "data = {'$\\\\bf{Protocol}$': ['Q043', 'Q046', 'Q050'],\n",
    "\t'$\\\\bf{25th}$': [\"{:.2f}\".format(x.Percentile(25)), \"{:.2f}\".format(x1.Percentile(25)), \"{:.2f}\".format(x3.Percentile(25))],\n",
    "\t'$\\\\bf{50th}$': [\"{:.2f}\".format(x.Percentile(50)), \"{:.2f}\".format(x1.Percentile(50)), \"{:.2f}\".format(x3.Percentile(50))],\n",
    "\t'$\\\\bf{75th}$': [\"{:.2f}\".format(x.Percentile(75)), \"{:.2f}\".format(x1.Percentile(75)), \"{:.2f}\".format(x3.Percentile(75))],\n",
    "\t'$\\\\bf{80th}$': [\"{:.2f}\".format(x.Percentile(80)), \"{:.2f}\".format(x1.Percentile(80)), \"{:.2f}\".format(x3.Percentile(80))],\n",
    "    '$\\\\bf{90th}$': [\"{:.2f}\".format(x.Percentile(90)), \"{:.2f}\".format(x1.Percentile(90)), \"{:.2f}\".format(x3.Percentile(90))]\n",
    "        }    \n",
    "\n",
    "df_percentile = pd.DataFrame(data)\n",
    "\n",
    "fig, ax = plt.subplots(dpi=150)\n",
    "\n",
    " #hide axes\n",
    "fig.patch.set_visible(False)\n",
    "ax.axis('off')\n",
    "ax.axis('tight')\n",
    "\n",
    "ax.table(cellText=df_percentile.values, colLabels=df_percentile.columns, loc='center', cellLoc='center')\n",
    "\n",
    "#fig.tight_layout()\n",
    "plt.savefig('./AWS/CapeTown/ASN/handshake_times_ipv4_asn15169_percentile.png', format='png', bbox_inches='tight')"
   ]
  },
  {
   "cell_type": "code",
   "execution_count": 60,
   "metadata": {},
   "outputs": [
    {
     "data": {
      "image/png": "[encoded data removed]",
      "text/plain": [
       "<Figure size 720x216 with 2 Axes>"
      ]
     },
     "metadata": {
      "needs_background": "light"
     },
     "output_type": "display_data"
    }
   ],
   "source": [
    "fig = plt.figure(figsize = (10,3))\n",
    "plt.rcParams['font.size'] = 12\n",
    "ax = plt.gca()\n",
    "yticks = np.arange(0,1.1,0.2)\n",
    "\n",
    "#Q043\n",
    "plt.plot(x.xs, x.ps, marker='s', linewidth=0.3, markersize=5, fillstyle='none', color = 'orange')\n",
    "#Q046\n",
    "plt.plot(x1.xs, x1.ps, marker='s', linewidth=0.3, markersize=5, fillstyle='none', color = 'red')\n",
    "#Q050\n",
    "plt.plot(x3.xs, x3.ps, marker='s', linewidth=0.3, markersize=5, fillstyle='none', color = 'green')\n",
    "#Qh24\n",
    "plt.plot(x5.xs, x5.ps, marker='s', linewidth=0.3, markersize=5, fillstyle='none', color = 'blue')\n",
    "\n",
    "\n",
    "\n",
    "ax = fig.axes[0]\n",
    "ax.grid(False)\n",
    "ax.set_yticks(yticks)\n",
    "ax.set_ylim([0,1.05])\n",
    "#ax.set_xlim([20,100])\n",
    "ax.set_xscale('log')\n",
    "ax.set_xlabel('latency (x-axis is cut)', fontsize=12)\n",
    "ax.set_ylabel('CDF', fontsize=12)\n",
    "\n",
    "plt.legend(['Q043', 'Q046', 'Q050', 'IETF h-24'] , fontsize=11, loc='best')\n",
    "\n",
    "ax.spines['right'].set_color('none')\n",
    "ax.spines['top'].set_color('none')\n",
    "ax.yaxis.set_ticks_position('left')\n",
    "ax.xaxis.set_ticks_position('bottom')\n",
    "ax.spines['bottom'].set_position(('axes', -0.05))\n",
    "ax.spines['left'].set_position(('axes', -0.05))\n",
    "\n",
    "ax3 = ax.twinx()\n",
    "ax3.spines['right'].set_color('none')\n",
    "ax3.spines['top'].set_color('none')\n",
    "ax3.spines['left'].set_color('none')\n",
    "ax3.spines['bottom'].set_color('none')\n",
    "ax3.yaxis.set_ticks_position('none')\n",
    "plt.setp(ax3.get_yticklabels(), visible=False)\n",
    "\n",
    "plt.title('Handshake Times with IPv4', fontsize=12, y=1.05)\n",
    "plt.savefig('./AWS/CapeTown/ASN/handshake_times_ipv4_asn15169.png', format='png', bbox_inches='tight')\n"
   ]
  },
  {
   "cell_type": "code",
   "execution_count": 61,
   "metadata": {},
   "outputs": [],
   "source": [
    "x = Cdf.MakeCdfFromList(quic43['TTFB'].values)\n",
    "x1 =Cdf.MakeCdfFromList(quic46['TTFB'].values)\n",
    "x3 = Cdf.MakeCdfFromList(quic50['TTFB'].values)\n",
    "x5 = Cdf.MakeCdfFromList(quich24['TTFB'].values)"
   ]
  },
  {
   "cell_type": "code",
   "execution_count": 62,
   "metadata": {
    "lines_to_next_cell": 2
   },
   "outputs": [
    {
     "name": "stdout",
     "output_type": "stream",
     "text": [
      "-----------------------------\n",
      "\n",
      "percentile values distribution for Q046\n",
      "\n",
      "50th Percentile:605.280000\n",
      "\n",
      "90th Percentile:674.935000\n",
      "\n",
      "99th Percentile:859.274000\n",
      "\n",
      "25th Percentile:593.889000\n",
      "\n",
      "75th Percentile:619.015000\n",
      "\n",
      "20th Percentile:605.280000\n",
      "\n",
      "40th Percentile:674.935000\n",
      "\n",
      "60th Percentile:859.274000\n",
      "\n",
      "80th Percentile:593.889000\n",
      "\n",
      "-----------------------------\n",
      "\n",
      "-----------------------------\n",
      "\n",
      "percentile values distribution for Q050\n",
      "\n",
      "50th Percentile:605.262000\n",
      "\n",
      "90th Percentile:674.918000\n",
      "\n",
      "99th Percentile:870.167000\n",
      "\n",
      "25th Percentile:594.363000\n",
      "\n",
      "75th Percentile:619.173000\n",
      "\n",
      "20th Percentile:605.262000\n",
      "\n",
      "40th Percentile:674.918000\n",
      "\n",
      "60th Percentile:870.167000\n",
      "\n",
      "80th Percentile:594.363000\n",
      "\n",
      "-----------------------------\n",
      "\n",
      "-----------------------------\n",
      "\n",
      "percentile values distribution for Q043\n",
      "\n",
      "50th Percentile:606.932000\n",
      "\n",
      "90th Percentile:682.795000\n",
      "\n",
      "99th Percentile:872.786000\n",
      "\n",
      "25th Percentile:596.500000\n",
      "\n",
      "75th Percentile:624.167000\n",
      "\n",
      "20th Percentile:606.932000\n",
      "\n",
      "40th Percentile:682.795000\n",
      "\n",
      "60th Percentile:872.786000\n",
      "\n",
      "80th Percentile:596.500000\n",
      "\n",
      "-----------------------------\n",
      "\n"
     ]
    }
   ],
   "source": [
    "print_percentiles(x1, 'Q046')\n",
    "print_percentiles(x3, 'Q050')\n",
    "#print_percentiles(x5, 'h24')\n",
    "print_percentiles(x, 'Q043')"
   ]
  },
  {
   "cell_type": "code",
   "execution_count": 63,
   "metadata": {},
   "outputs": [
    {
     "name": "stderr",
     "output_type": "stream",
     "text": [
      "findfont: Font family ['monospace'] not found. Falling back to DejaVu Sans.\n"
     ]
    },
    {
     "data": {
      "image/png": "[encoded data removed]",
      "text/plain": [
       "<Figure size 900x600 with 1 Axes>"
      ]
     },
     "metadata": {
      "needs_background": "light"
     },
     "output_type": "display_data"
    }
   ],
   "source": [
    "data = {'$\\\\bf{Protocol}$': ['Q043', 'Q046', 'Q050'],\n",
    "\t'$\\\\bf{25th}$': [\"{:.2f}\".format(x.Percentile(25)), \"{:.2f}\".format(x1.Percentile(25)), \"{:.2f}\".format(x3.Percentile(25))],\n",
    "\t'$\\\\bf{50th}$': [\"{:.2f}\".format(x.Percentile(50)), \"{:.2f}\".format(x1.Percentile(50)), \"{:.2f}\".format(x3.Percentile(50))],\n",
    "\t'$\\\\bf{75th}$': [\"{:.2f}\".format(x.Percentile(75)), \"{:.2f}\".format(x1.Percentile(75)), \"{:.2f}\".format(x3.Percentile(75))],\n",
    "\t'$\\\\bf{80th}$': [\"{:.2f}\".format(x.Percentile(80)), \"{:.2f}\".format(x1.Percentile(80)), \"{:.2f}\".format(x3.Percentile(80))],\n",
    "    '$\\\\bf{90th}$': [\"{:.2f}\".format(x.Percentile(90)), \"{:.2f}\".format(x1.Percentile(90)), \"{:.2f}\".format(x3.Percentile(90))]\n",
    "        }   \n",
    "\n",
    "df_percentile = pd.DataFrame(data)\n",
    "\n",
    "fig, ax = plt.subplots(dpi=150)\n",
    "\n",
    " #hide axes\n",
    "fig.patch.set_visible(False)\n",
    "ax.axis('off')\n",
    "ax.axis('tight')\n",
    "\n",
    "ax.table(cellText=df_percentile.values, colLabels=df_percentile.columns, loc='center', cellLoc='center')\n",
    "\n",
    "#fig.tight_layout()\n",
    "plt.savefig('./AWS/CapeTown/ASN/handshake_times_ipv4_asn15169_percentile.png', format='png', bbox_inches='tight')"
   ]
  },
  {
   "cell_type": "code",
   "execution_count": 64,
   "metadata": {},
   "outputs": [
    {
     "data": {
      "image/png": "[encoded data removed]",
      "text/plain": [
       "<Figure size 720x216 with 2 Axes>"
      ]
     },
     "metadata": {
      "needs_background": "light"
     },
     "output_type": "display_data"
    }
   ],
   "source": [
    "fig = plt.figure(figsize = (10,3))\n",
    "plt.rcParams['font.size'] = 12\n",
    "ax = plt.gca()\n",
    "yticks = np.arange(0,1.1,0.2)\n",
    "\n",
    "#Q043\n",
    "plt.plot(x.xs, x.ps, marker='s', linewidth=0.3, markersize=5, fillstyle='none', color = 'orange')\n",
    "#Q046\n",
    "plt.plot(x1.xs, x1.ps, marker='s', linewidth=0.3, markersize=5, fillstyle='none', color = 'red')\n",
    "#Q050\n",
    "plt.plot(x3.xs, x3.ps, marker='s', linewidth=0.3, markersize=5, fillstyle='none', color = 'green')\n",
    "#h24\n",
    "#plt.plot(x5.xs, x5.ps, marker='s', linewidth=0.3, markersize=5, fillstyle='none', color = 'blue')\n",
    "\n",
    "\n",
    "\n",
    "ax = fig.axes[0]\n",
    "ax.grid(False)\n",
    "ax.set_yticks(yticks)\n",
    "ax.set_ylim([0,1.05])\n",
    "#ax.set_xlim([20,1000])\n",
    "ax.set_xscale('log')\n",
    "ax.set_xlabel('TTFB', fontsize=12)\n",
    "ax.set_ylabel('CDF', fontsize=12)\n",
    "\n",
    "plt.legend(['Q043', 'Q046', 'Q050'] , fontsize=11, loc='best')\n",
    "\n",
    "ax.spines['right'].set_color('none')\n",
    "ax.spines['top'].set_color('none')\n",
    "ax.yaxis.set_ticks_position('left')\n",
    "ax.xaxis.set_ticks_position('bottom')\n",
    "ax.spines['bottom'].set_position(('axes', -0.05))\n",
    "ax.spines['left'].set_position(('axes', -0.05))\n",
    "\n",
    "ax3 = ax.twinx()\n",
    "ax3.spines['right'].set_color('none')\n",
    "ax3.spines['top'].set_color('none')\n",
    "ax3.spines['left'].set_color('none')\n",
    "ax3.spines['bottom'].set_color('none')\n",
    "ax3.yaxis.set_ticks_position('none')\n",
    "plt.setp(ax3.get_yticklabels(), visible=False)\n",
    "\n",
    "plt.title('TTFB', fontsize=12, y=1.05)\n",
    "plt.savefig('./AWS/CapeTown/ASN/TTFB_ipv4_asn15169.png', format='png', bbox_inches='tight')\n"
   ]
  },
  {
   "cell_type": "code",
   "execution_count": 65,
   "metadata": {},
   "outputs": [],
   "source": [
    "x = Cdf.MakeCdfFromList(quic43['TotalDownloadTime'].values)\n",
    "x1 =Cdf.MakeCdfFromList(quic46['TotalDownloadTime'].values)\n",
    "x3 = Cdf.MakeCdfFromList(quic50['TotalDownloadTime'].values)\n",
    "x5 = Cdf.MakeCdfFromList(quich24['TotalDownloadTime'].values)"
   ]
  },
  {
   "cell_type": "code",
   "execution_count": 66,
   "metadata": {},
   "outputs": [
    {
     "name": "stdout",
     "output_type": "stream",
     "text": [
      "-----------------------------\n",
      "\n",
      "percentile values distribution for Q046\n",
      "\n",
      "50th Percentile:606.121000\n",
      "\n",
      "90th Percentile:693.067000\n",
      "\n",
      "99th Percentile:938.749000\n",
      "\n",
      "25th Percentile:595.142000\n",
      "\n",
      "75th Percentile:620.432000\n",
      "\n",
      "20th Percentile:606.121000\n",
      "\n",
      "40th Percentile:693.067000\n",
      "\n",
      "60th Percentile:938.749000\n",
      "\n",
      "80th Percentile:595.142000\n",
      "\n",
      "-----------------------------\n",
      "\n",
      "-----------------------------\n",
      "\n",
      "percentile values distribution for Q050\n",
      "\n",
      "50th Percentile:606.017000\n",
      "\n",
      "90th Percentile:691.856000\n",
      "\n",
      "99th Percentile:939.546000\n",
      "\n",
      "25th Percentile:595.373000\n",
      "\n",
      "75th Percentile:620.543000\n",
      "\n",
      "20th Percentile:606.017000\n",
      "\n",
      "40th Percentile:691.856000\n",
      "\n",
      "60th Percentile:939.546000\n",
      "\n",
      "80th Percentile:595.373000\n",
      "\n",
      "-----------------------------\n",
      "\n",
      "-----------------------------\n",
      "\n",
      "percentile values distribution for Q043\n",
      "\n",
      "50th Percentile:607.832000\n",
      "\n",
      "90th Percentile:703.798000\n",
      "\n",
      "99th Percentile:945.316000\n",
      "\n",
      "25th Percentile:597.547000\n",
      "\n",
      "75th Percentile:626.852000\n",
      "\n",
      "20th Percentile:607.832000\n",
      "\n",
      "40th Percentile:703.798000\n",
      "\n",
      "60th Percentile:945.316000\n",
      "\n",
      "80th Percentile:597.547000\n",
      "\n",
      "-----------------------------\n",
      "\n"
     ]
    }
   ],
   "source": [
    "print_percentiles(x1, 'Q046')\n",
    "print_percentiles(x3, 'Q050')\n",
    "#print_percentiles(x5, 'h24')\n",
    "print_percentiles(x, 'Q043')"
   ]
  },
  {
   "cell_type": "code",
   "execution_count": 67,
   "metadata": {},
   "outputs": [
    {
     "name": "stderr",
     "output_type": "stream",
     "text": [
      "findfont: Font family ['monospace'] not found. Falling back to DejaVu Sans.\n"
     ]
    },
    {
     "data": {
      "image/png": "[encoded data removed]",
      "text/plain": [
       "<Figure size 900x600 with 1 Axes>"
      ]
     },
     "metadata": {
      "needs_background": "light"
     },
     "output_type": "display_data"
    }
   ],
   "source": [
    "data = {'$\\\\bf{Protocol}$': ['Q043', 'Q046', 'Q050'],\n",
    "\t'$\\\\bf{25th}$': [\"{:.2f}\".format(x.Percentile(25)), \"{:.2f}\".format(x1.Percentile(25)), \"{:.2f}\".format(x3.Percentile(25))],\n",
    "\t'$\\\\bf{50th}$': [\"{:.2f}\".format(x.Percentile(50)), \"{:.2f}\".format(x1.Percentile(50)), \"{:.2f}\".format(x3.Percentile(50))],\n",
    "\t'$\\\\bf{75th}$': [\"{:.2f}\".format(x.Percentile(75)), \"{:.2f}\".format(x1.Percentile(75)), \"{:.2f}\".format(x3.Percentile(75))],\n",
    "\t'$\\\\bf{80th}$': [\"{:.2f}\".format(x.Percentile(80)), \"{:.2f}\".format(x1.Percentile(80)), \"{:.2f}\".format(x3.Percentile(80))],\n",
    "    '$\\\\bf{90th}$': [\"{:.2f}\".format(x.Percentile(90)), \"{:.2f}\".format(x1.Percentile(90)), \"{:.2f}\".format(x3.Percentile(90))]\n",
    "        }   \n",
    "\n",
    "df_percentile = pd.DataFrame(data)\n",
    "\n",
    "fig, ax = plt.subplots(dpi=150)\n",
    "\n",
    " #hide axes\n",
    "fig.patch.set_visible(False)\n",
    "ax.axis('off')\n",
    "ax.axis('tight')\n",
    "\n",
    "ax.table(cellText=df_percentile.values, colLabels=df_percentile.columns, loc='center', cellLoc='center')\n",
    "\n",
    "#fig.tight_layout()\n",
    "plt.savefig('./AWS/CapeTown/ASN/total_download_time_ipv4_asn15169_percentile.png', format='png', bbox_inches='tight')"
   ]
  },
  {
   "cell_type": "code",
   "execution_count": 68,
   "metadata": {},
   "outputs": [
    {
     "data": {
      "image/png": "[encoded data removed]",
      "text/plain": [
       "<Figure size 720x216 with 2 Axes>"
      ]
     },
     "metadata": {
      "needs_background": "light"
     },
     "output_type": "display_data"
    }
   ],
   "source": [
    "fig = plt.figure(figsize = (10,3))\n",
    "plt.rcParams['font.size'] = 12\n",
    "ax = plt.gca()\n",
    "yticks = np.arange(0,1.1,0.2)\n",
    "\n",
    "#Q043\n",
    "plt.plot(x.xs, x.ps, marker='s', linewidth=0.3, markersize=5, fillstyle='none', color = 'orange')\n",
    "#Q046\n",
    "plt.plot(x1.xs, x1.ps, marker='s', linewidth=0.3, markersize=5, fillstyle='none', color = 'red')\n",
    "#Q050\n",
    "plt.plot(x3.xs, x3.ps, marker='s', linewidth=0.3, markersize=5, fillstyle='none', color = 'green')\n",
    "#h24\n",
    "#plt.plot(x5.xs, x5.ps, marker='s', linewidth=0.3, markersize=5, fillstyle='none', color = 'blue')\n",
    "\n",
    "\n",
    "\n",
    "ax = fig.axes[0]\n",
    "ax.grid(False)\n",
    "ax.set_yticks(yticks)\n",
    "ax.set_ylim([0,1.05])\n",
    "#ax.set_xlim([20,1000])\n",
    "ax.set_xscale('log')\n",
    "ax.set_xlabel('TotalDownloadTime', fontsize=12)\n",
    "ax.set_ylabel('CDF', fontsize=12)\n",
    "\n",
    "plt.legend(['Q043', 'Q046', 'Q050'] , fontsize=11, loc='best')\n",
    "\n",
    "ax.spines['right'].set_color('none')\n",
    "ax.spines['top'].set_color('none')\n",
    "ax.yaxis.set_ticks_position('left')\n",
    "ax.xaxis.set_ticks_position('bottom')\n",
    "ax.spines['bottom'].set_position(('axes', -0.05))\n",
    "ax.spines['left'].set_position(('axes', -0.05))\n",
    "\n",
    "ax3 = ax.twinx()\n",
    "ax3.spines['right'].set_color('none')\n",
    "ax3.spines['top'].set_color('none')\n",
    "ax3.spines['left'].set_color('none')\n",
    "ax3.spines['bottom'].set_color('none')\n",
    "ax3.yaxis.set_ticks_position('none')\n",
    "plt.setp(ax3.get_yticklabels(), visible=False)\n",
    "\n",
    "plt.title('Total Download Time', fontsize=12, y=1.05)\n",
    "plt.savefig('./AWS/CapeTown/ASN/total_download_time_ipv4_asn15169.png', format='png', bbox_inches='tight')\n"
   ]
  },
  {
   "cell_type": "code",
   "execution_count": 69,
   "metadata": {},
   "outputs": [],
   "source": [
    "#Edgecast\n",
    "quic44 = quic15133.loc[t['Protocol'] == 'Q046']\n",
    "quic43 = quic15133.loc[t['Protocol'] == 'Q043']\n",
    "quic39 = quic15133.loc[t['Protocol'] == 'Q050']\n",
    "quic35 = quic15133.loc[t['Protocol'] == 'FF000018']"
   ]
  },
  {
   "cell_type": "code",
   "execution_count": 70,
   "metadata": {},
   "outputs": [],
   "source": [
    "x = Cdf.MakeCdfFromList(quic43['ConnectionEstablishmentTime'].values)\n",
    "x1 =Cdf.MakeCdfFromList(quic46['ConnectionEstablishmentTime'].values)\n",
    "x3 = Cdf.MakeCdfFromList(quic50['ConnectionEstablishmentTime'].values)\n",
    "x5 = Cdf.MakeCdfFromList(quich24['ConnectionEstablishmentTime'].values)"
   ]
  },
  {
   "cell_type": "code",
   "execution_count": 71,
   "metadata": {},
   "outputs": [
    {
     "name": "stdout",
     "output_type": "stream",
     "text": [
      "-----------------------------\n",
      "\n",
      "percentile values distribution for Q046\n",
      "\n",
      "50th Percentile:369.277000\n",
      "\n",
      "90th Percentile:378.903000\n",
      "\n",
      "99th Percentile:546.031000\n",
      "\n",
      "25th Percentile:364.803000\n",
      "\n",
      "75th Percentile:374.562000\n",
      "\n",
      "20th Percentile:369.277000\n",
      "\n",
      "40th Percentile:378.903000\n",
      "\n",
      "60th Percentile:546.031000\n",
      "\n",
      "80th Percentile:364.803000\n",
      "\n",
      "-----------------------------\n",
      "\n",
      "-----------------------------\n",
      "\n",
      "percentile values distribution for Q050\n",
      "\n",
      "50th Percentile:369.423000\n",
      "\n",
      "90th Percentile:378.893000\n",
      "\n",
      "99th Percentile:541.916000\n",
      "\n",
      "25th Percentile:364.816000\n",
      "\n",
      "75th Percentile:374.718000\n",
      "\n",
      "20th Percentile:369.423000\n",
      "\n",
      "40th Percentile:378.893000\n",
      "\n",
      "60th Percentile:541.916000\n",
      "\n",
      "80th Percentile:364.816000\n",
      "\n",
      "-----------------------------\n",
      "\n",
      "-----------------------------\n",
      "\n",
      "percentile values distribution for Q043\n",
      "\n",
      "50th Percentile:37.639000\n",
      "\n",
      "90th Percentile:40.818000\n",
      "\n",
      "99th Percentile:57.459000\n",
      "\n",
      "25th Percentile:35.958000\n",
      "\n",
      "75th Percentile:38.862000\n",
      "\n",
      "20th Percentile:37.639000\n",
      "\n",
      "40th Percentile:40.818000\n",
      "\n",
      "60th Percentile:57.459000\n",
      "\n",
      "80th Percentile:35.958000\n",
      "\n",
      "-----------------------------\n",
      "\n"
     ]
    }
   ],
   "source": [
    "print_percentiles(x1, 'Q046')\n",
    "print_percentiles(x3, 'Q050')\n",
    "#print_percentiles(x5, 'h24')\n",
    "print_percentiles(x, 'Q043')"
   ]
  },
  {
   "cell_type": "code",
   "execution_count": 72,
   "metadata": {},
   "outputs": [
    {
     "name": "stderr",
     "output_type": "stream",
     "text": [
      "findfont: Font family ['monospace'] not found. Falling back to DejaVu Sans.\n"
     ]
    },
    {
     "data": {
      "image/png": "[encoded data removed]",
      "text/plain": [
       "<Figure size 900x600 with 1 Axes>"
      ]
     },
     "metadata": {
      "needs_background": "light"
     },
     "output_type": "display_data"
    }
   ],
   "source": [
    "data = {'$\\\\bf{Protocol}$': ['Q043', 'Q046', 'Q050'],\n",
    "\t'$\\\\bf{25th}$': [\"{:.2f}\".format(x.Percentile(25)), \"{:.2f}\".format(x1.Percentile(25)), \"{:.2f}\".format(x3.Percentile(25))],\n",
    "\t'$\\\\bf{50th}$': [\"{:.2f}\".format(x.Percentile(50)), \"{:.2f}\".format(x1.Percentile(50)), \"{:.2f}\".format(x3.Percentile(50))],\n",
    "\t'$\\\\bf{75th}$': [\"{:.2f}\".format(x.Percentile(75)), \"{:.2f}\".format(x1.Percentile(75)), \"{:.2f}\".format(x3.Percentile(75))],\n",
    "\t'$\\\\bf{80th}$': [\"{:.2f}\".format(x.Percentile(80)), \"{:.2f}\".format(x1.Percentile(80)), \"{:.2f}\".format(x3.Percentile(80))],\n",
    "    '$\\\\bf{90th}$': [\"{:.2f}\".format(x.Percentile(90)), \"{:.2f}\".format(x1.Percentile(90)), \"{:.2f}\".format(x3.Percentile(90))]\n",
    "        }   \n",
    "\n",
    "df_percentile = pd.DataFrame(data)\n",
    "\n",
    "fig, ax = plt.subplots(dpi=150)\n",
    "\n",
    " #hide axes\n",
    "fig.patch.set_visible(False)\n",
    "ax.axis('off')\n",
    "ax.axis('tight')\n",
    "\n",
    "ax.table(cellText=df_percentile.values, colLabels=df_percentile.columns, loc='center', cellLoc='center')\n",
    "\n",
    "#fig.tight_layout()\n",
    "plt.savefig('./AWS/CapeTown/ASN/handshake_times_ipv4_asn15133_percentile.png', format='png', bbox_inches='tight')"
   ]
  },
  {
   "cell_type": "code",
   "execution_count": 73,
   "metadata": {},
   "outputs": [
    {
     "data": {
      "image/png": "[encoded data removed]",
      "text/plain": [
       "<Figure size 720x216 with 2 Axes>"
      ]
     },
     "metadata": {
      "needs_background": "light"
     },
     "output_type": "display_data"
    }
   ],
   "source": [
    "fig = plt.figure(figsize = (10,3))\n",
    "plt.rcParams['font.size'] = 12\n",
    "ax = plt.gca()\n",
    "yticks = np.arange(0,1.1,0.2)\n",
    "\n",
    "#Q043\n",
    "plt.plot(x.xs, x.ps, marker='s', linewidth=0.3, markersize=5, fillstyle='none', color = 'orange')\n",
    "#Q046\n",
    "plt.plot(x1.xs, x1.ps, marker='s', linewidth=0.3, markersize=5, fillstyle='none', color = 'red')\n",
    "#Q050\n",
    "plt.plot(x3.xs, x3.ps, marker='s', linewidth=0.3, markersize=5, fillstyle='none', color = 'green')\n",
    "#h24\n",
    "#plt.plot(x5.xs, x5.ps, marker='s', linewidth=0.3, markersize=5, fillstyle='none', color = 'blue')\n",
    "\n",
    "\n",
    "\n",
    "ax = fig.axes[0]\n",
    "ax.grid(False)\n",
    "ax.set_yticks(yticks)\n",
    "ax.set_ylim([0,1.05])\n",
    "#ax.set_xlim([20,100])\n",
    "ax.set_xscale('log')\n",
    "ax.set_xlabel('latency (x-axis is cut)', fontsize=12)\n",
    "ax.set_ylabel('CDF', fontsize=12)\n",
    "\n",
    "plt.legend(['Q043', 'Q046', 'Q050'] , fontsize=11, loc='best')\n",
    "\n",
    "ax.spines['right'].set_color('none')\n",
    "ax.spines['top'].set_color('none')\n",
    "ax.yaxis.set_ticks_position('left')\n",
    "ax.xaxis.set_ticks_position('bottom')\n",
    "ax.spines['bottom'].set_position(('axes', -0.05))\n",
    "ax.spines['left'].set_position(('axes', -0.05))\n",
    "\n",
    "ax3 = ax.twinx()\n",
    "ax3.spines['right'].set_color('none')\n",
    "ax3.spines['top'].set_color('none')\n",
    "ax3.spines['left'].set_color('none')\n",
    "ax3.spines['bottom'].set_color('none')\n",
    "ax3.yaxis.set_ticks_position('none')\n",
    "plt.setp(ax3.get_yticklabels(), visible=False)\n",
    "\n",
    "plt.title('Handshake Times with IPv4', fontsize=12, y=1.05)\n",
    "plt.savefig('./AWS/CapeTown/ASN/handshake_times_ipv4_asn15133.png', format='png', bbox_inches='tight')\n"
   ]
  },
  {
   "cell_type": "code",
   "execution_count": 74,
   "metadata": {},
   "outputs": [],
   "source": [
    "x = Cdf.MakeCdfFromList(quic43['TTFB'].values)\n",
    "x1 =Cdf.MakeCdfFromList(quic46['TTFB'].values)\n",
    "x3 = Cdf.MakeCdfFromList(quic50['TTFB'].values)\n",
    "x5 = Cdf.MakeCdfFromList(quich24['TTFB'].values)"
   ]
  },
  {
   "cell_type": "code",
   "execution_count": 75,
   "metadata": {
    "lines_to_next_cell": 2
   },
   "outputs": [
    {
     "name": "stdout",
     "output_type": "stream",
     "text": [
      "-----------------------------\n",
      "\n",
      "percentile values distribution for Q046\n",
      "\n",
      "50th Percentile:605.280000\n",
      "\n",
      "90th Percentile:674.935000\n",
      "\n",
      "99th Percentile:859.274000\n",
      "\n",
      "25th Percentile:593.889000\n",
      "\n",
      "75th Percentile:619.015000\n",
      "\n",
      "20th Percentile:605.280000\n",
      "\n",
      "40th Percentile:674.935000\n",
      "\n",
      "60th Percentile:859.274000\n",
      "\n",
      "80th Percentile:593.889000\n",
      "\n",
      "-----------------------------\n",
      "\n",
      "-----------------------------\n",
      "\n",
      "percentile values distribution for Q050\n",
      "\n",
      "50th Percentile:605.262000\n",
      "\n",
      "90th Percentile:674.918000\n",
      "\n",
      "99th Percentile:870.167000\n",
      "\n",
      "25th Percentile:594.363000\n",
      "\n",
      "75th Percentile:619.173000\n",
      "\n",
      "20th Percentile:605.262000\n",
      "\n",
      "40th Percentile:674.918000\n",
      "\n",
      "60th Percentile:870.167000\n",
      "\n",
      "80th Percentile:594.363000\n",
      "\n",
      "-----------------------------\n",
      "\n",
      "-----------------------------\n",
      "\n",
      "percentile values distribution for Q043\n",
      "\n",
      "50th Percentile:324.871000\n",
      "\n",
      "90th Percentile:819.151000\n",
      "\n",
      "99th Percentile:971.168000\n",
      "\n",
      "25th Percentile:72.636000\n",
      "\n",
      "75th Percentile:551.365000\n",
      "\n",
      "20th Percentile:324.871000\n",
      "\n",
      "40th Percentile:819.151000\n",
      "\n",
      "60th Percentile:971.168000\n",
      "\n",
      "80th Percentile:72.636000\n",
      "\n",
      "-----------------------------\n",
      "\n"
     ]
    }
   ],
   "source": [
    "print_percentiles(x1, 'Q046')\n",
    "print_percentiles(x3, 'Q050')\n",
    "#print_percentiles(x5, 'h24')\n",
    "print_percentiles(x, 'Q043')"
   ]
  },
  {
   "cell_type": "code",
   "execution_count": 76,
   "metadata": {},
   "outputs": [
    {
     "name": "stderr",
     "output_type": "stream",
     "text": [
      "findfont: Font family ['monospace'] not found. Falling back to DejaVu Sans.\n"
     ]
    },
    {
     "data": {
      "image/png": "[encoded data removed]",
      "text/plain": [
       "<Figure size 900x600 with 1 Axes>"
      ]
     },
     "metadata": {
      "needs_background": "light"
     },
     "output_type": "display_data"
    }
   ],
   "source": [
    "data = {'$\\\\bf{Protocol}$': ['Q043', 'Q046', 'Q050'],\n",
    "\t'$\\\\bf{25th}$': [\"{:.2f}\".format(x.Percentile(25)), \"{:.2f}\".format(x1.Percentile(25)), \"{:.2f}\".format(x3.Percentile(25))],\n",
    "\t'$\\\\bf{50th}$': [\"{:.2f}\".format(x.Percentile(50)), \"{:.2f}\".format(x1.Percentile(50)), \"{:.2f}\".format(x3.Percentile(50))],\n",
    "\t'$\\\\bf{75th}$': [\"{:.2f}\".format(x.Percentile(75)), \"{:.2f}\".format(x1.Percentile(75)), \"{:.2f}\".format(x3.Percentile(75))],\n",
    "\t'$\\\\bf{80th}$': [\"{:.2f}\".format(x.Percentile(80)), \"{:.2f}\".format(x1.Percentile(80)), \"{:.2f}\".format(x3.Percentile(80))],\n",
    "    '$\\\\bf{90th}$': [\"{:.2f}\".format(x.Percentile(90)), \"{:.2f}\".format(x1.Percentile(90)), \"{:.2f}\".format(x3.Percentile(90))]\n",
    "        }   \n",
    "\n",
    "df_percentile = pd.DataFrame(data)\n",
    "\n",
    "fig, ax = plt.subplots(dpi=150)\n",
    "\n",
    " #hide axes\n",
    "fig.patch.set_visible(False)\n",
    "ax.axis('off')\n",
    "ax.axis('tight')\n",
    "\n",
    "ax.table(cellText=df_percentile.values, colLabels=df_percentile.columns, loc='center', cellLoc='center')\n",
    "\n",
    "#fig.tight_layout()\n",
    "plt.savefig('./AWS/CapeTown/ASN/TTFB_ipv4_asn15133_percentile.png', format='png', bbox_inches='tight')\n"
   ]
  },
  {
   "cell_type": "code",
   "execution_count": 77,
   "metadata": {},
   "outputs": [
    {
     "data": {
      "image/png": "[encoded data removed]",
      "text/plain": [
       "<Figure size 720x216 with 2 Axes>"
      ]
     },
     "metadata": {
      "needs_background": "light"
     },
     "output_type": "display_data"
    }
   ],
   "source": [
    "fig = plt.figure(figsize = (10,3))\n",
    "plt.rcParams['font.size'] = 12\n",
    "ax = plt.gca()\n",
    "yticks = np.arange(0,1.1,0.2)\n",
    "\n",
    "#Q043\n",
    "plt.plot(x.xs, x.ps, marker='s', linewidth=0.3, markersize=5, fillstyle='none', color = 'orange')\n",
    "#Q046\n",
    "plt.plot(x1.xs, x1.ps, marker='s', linewidth=0.3, markersize=5, fillstyle='none', color = 'red')\n",
    "#Q050\n",
    "plt.plot(x3.xs, x3.ps, marker='s', linewidth=0.3, markersize=5, fillstyle='none', color = 'green')\n",
    "#h4\n",
    "plt.plot(x5.xs, x5.ps, marker='s', linewidth=0.3, markersize=5, fillstyle='none', color = 'blue')\n",
    "\n",
    "\n",
    "\n",
    "ax = fig.axes[0]\n",
    "ax.grid(False)\n",
    "ax.set_yticks(yticks)\n",
    "ax.set_ylim([0,1.05])\n",
    "#ax.set_xlim([20,1000])\n",
    "ax.set_xscale('log')\n",
    "ax.set_xlabel('TTFB', fontsize=12)\n",
    "ax.set_ylabel('CDF', fontsize=12)\n",
    "\n",
    "plt.legend(['Q043', 'Q046', 'Q050'] , fontsize=11, loc='best')\n",
    "\n",
    "ax.spines['right'].set_color('none')\n",
    "ax.spines['top'].set_color('none')\n",
    "ax.yaxis.set_ticks_position('left')\n",
    "ax.xaxis.set_ticks_position('bottom')\n",
    "ax.spines['bottom'].set_position(('axes', -0.05))\n",
    "ax.spines['left'].set_position(('axes', -0.05))\n",
    "\n",
    "ax3 = ax.twinx()\n",
    "ax3.spines['right'].set_color('none')\n",
    "ax3.spines['top'].set_color('none')\n",
    "ax3.spines['left'].set_color('none')\n",
    "ax3.spines['bottom'].set_color('none')\n",
    "ax3.yaxis.set_ticks_position('none')\n",
    "plt.setp(ax3.get_yticklabels(), visible=False)\n",
    "\n",
    "plt.title('TTFB', fontsize=12, y=1.05)\n",
    "plt.savefig('./AWS/CapeTown/ASN/TTFB_ipv4_asn15133.png', format='png', bbox_inches='tight')\n"
   ]
  },
  {
   "cell_type": "code",
   "execution_count": 78,
   "metadata": {},
   "outputs": [],
   "source": [
    "x = Cdf.MakeCdfFromList(quic43['TotalDownloadTime'].values)\n",
    "x1 =Cdf.MakeCdfFromList(quic46['TotalDownloadTime'].values)\n",
    "x3 = Cdf.MakeCdfFromList(quic50['TotalDownloadTime'].values)\n",
    "x5 = Cdf.MakeCdfFromList(quich24['TotalDownloadTime'].values)"
   ]
  },
  {
   "cell_type": "code",
   "execution_count": 79,
   "metadata": {
    "lines_to_next_cell": 2
   },
   "outputs": [
    {
     "name": "stdout",
     "output_type": "stream",
     "text": [
      "-----------------------------\n",
      "\n",
      "percentile values distribution for Q046\n",
      "\n",
      "50th Percentile:606.121000\n",
      "\n",
      "90th Percentile:693.067000\n",
      "\n",
      "99th Percentile:938.749000\n",
      "\n",
      "25th Percentile:595.142000\n",
      "\n",
      "75th Percentile:620.432000\n",
      "\n",
      "20th Percentile:606.121000\n",
      "\n",
      "40th Percentile:693.067000\n",
      "\n",
      "60th Percentile:938.749000\n",
      "\n",
      "80th Percentile:595.142000\n",
      "\n",
      "-----------------------------\n",
      "\n",
      "-----------------------------\n",
      "\n",
      "percentile values distribution for Q050\n",
      "\n",
      "50th Percentile:606.017000\n",
      "\n",
      "90th Percentile:691.856000\n",
      "\n",
      "99th Percentile:939.546000\n",
      "\n",
      "25th Percentile:595.373000\n",
      "\n",
      "75th Percentile:620.543000\n",
      "\n",
      "20th Percentile:606.017000\n",
      "\n",
      "40th Percentile:691.856000\n",
      "\n",
      "60th Percentile:939.546000\n",
      "\n",
      "80th Percentile:595.373000\n",
      "\n",
      "-----------------------------\n",
      "\n",
      "-----------------------------\n",
      "\n",
      "percentile values distribution for Q043\n",
      "\n",
      "50th Percentile:341.548000\n",
      "\n",
      "90th Percentile:850.578000\n",
      "\n",
      "99th Percentile:984.012000\n",
      "\n",
      "25th Percentile:98.282000\n",
      "\n",
      "75th Percentile:657.430000\n",
      "\n",
      "20th Percentile:341.548000\n",
      "\n",
      "40th Percentile:850.578000\n",
      "\n",
      "60th Percentile:984.012000\n",
      "\n",
      "80th Percentile:98.282000\n",
      "\n",
      "-----------------------------\n",
      "\n"
     ]
    }
   ],
   "source": [
    "print_percentiles(x1, 'Q046')\n",
    "print_percentiles(x3, 'Q050')\n",
    "#print_percentiles(x5, 'h24')\n",
    "print_percentiles(x, 'Q043')"
   ]
  },
  {
   "cell_type": "code",
   "execution_count": 80,
   "metadata": {},
   "outputs": [
    {
     "name": "stderr",
     "output_type": "stream",
     "text": [
      "findfont: Font family ['monospace'] not found. Falling back to DejaVu Sans.\n"
     ]
    },
    {
     "data": {
      "image/png": "[encoded data removed]",
      "text/plain": [
       "<Figure size 900x600 with 1 Axes>"
      ]
     },
     "metadata": {
      "needs_background": "light"
     },
     "output_type": "display_data"
    }
   ],
   "source": [
    "data = {'$\\\\bf{Protocol}$': ['Q043', 'Q046', 'Q050'],\n",
    "\t'$\\\\bf{25th}$': [\"{:.2f}\".format(x.Percentile(25)), \"{:.2f}\".format(x1.Percentile(25)), \"{:.2f}\".format(x3.Percentile(25))],\n",
    "\t'$\\\\bf{50th}$': [\"{:.2f}\".format(x.Percentile(50)), \"{:.2f}\".format(x1.Percentile(50)), \"{:.2f}\".format(x3.Percentile(50))],\n",
    "\t'$\\\\bf{75th}$': [\"{:.2f}\".format(x.Percentile(75)), \"{:.2f}\".format(x1.Percentile(75)), \"{:.2f}\".format(x3.Percentile(75))],\n",
    "\t'$\\\\bf{80th}$': [\"{:.2f}\".format(x.Percentile(80)), \"{:.2f}\".format(x1.Percentile(80)), \"{:.2f}\".format(x3.Percentile(80))],\n",
    "    '$\\\\bf{90th}$': [\"{:.2f}\".format(x.Percentile(90)), \"{:.2f}\".format(x1.Percentile(90)), \"{:.2f}\".format(x3.Percentile(90))]\n",
    "        }   \n",
    "\n",
    "df_percentile = pd.DataFrame(data)\n",
    "\n",
    "fig, ax = plt.subplots(dpi=150)\n",
    "\n",
    " #hide axes\n",
    "fig.patch.set_visible(False)\n",
    "ax.axis('off')\n",
    "ax.axis('tight')\n",
    "\n",
    "ax.table(cellText=df_percentile.values, colLabels=df_percentile.columns, loc='center', cellLoc='center')\n",
    "\n",
    "#fig.tight_layout()\n",
    "plt.savefig('./AWS/CapeTown/ASN/Total_Download_time_ipv4_asn15133_percentile.png', format='png', bbox_inches='tight')"
   ]
  },
  {
   "cell_type": "code",
   "execution_count": 81,
   "metadata": {},
   "outputs": [
    {
     "data": {
      "image/png": "[encoded data removed]",
      "text/plain": [
       "<Figure size 720x216 with 2 Axes>"
      ]
     },
     "metadata": {
      "needs_background": "light"
     },
     "output_type": "display_data"
    }
   ],
   "source": [
    "fig = plt.figure(figsize = (10,3))\n",
    "plt.rcParams['font.size'] = 12\n",
    "ax = plt.gca()\n",
    "yticks = np.arange(0,1.1,0.2)\n",
    "\n",
    "#Q043\n",
    "plt.plot(x.xs, x.ps, marker='s', linewidth=0.3, markersize=5, fillstyle='none', color = 'orange')\n",
    "#Q046\n",
    "plt.plot(x1.xs, x1.ps, marker='s', linewidth=0.3, markersize=5, fillstyle='none', color = 'red')\n",
    "#Q050\n",
    "plt.plot(x3.xs, x3.ps, marker='s', linewidth=0.3, markersize=5, fillstyle='none', color = 'green')\n",
    "#h24\n",
    "#plt.plot(x5.xs, x5.ps, marker='s', linewidth=0.3, markersize=5, fillstyle='none', color = 'blue')\n",
    "\n",
    "\n",
    "\n",
    "ax = fig.axes[0]\n",
    "ax.grid(False)\n",
    "ax.set_yticks(yticks)\n",
    "ax.set_ylim([0,1.05])\n",
    "#ax.set_xlim([20,1000])\n",
    "ax.set_xscale('log')\n",
    "ax.set_xlabel('TotalDownloadTime', fontsize=12)\n",
    "ax.set_ylabel('CDF', fontsize=12)\n",
    "\n",
    "plt.legend(['Q043', 'Q046', 'Q050'] , fontsize=11, loc='best')\n",
    "\n",
    "ax.spines['right'].set_color('none')\n",
    "ax.spines['top'].set_color('none')\n",
    "ax.yaxis.set_ticks_position('left')\n",
    "ax.xaxis.set_ticks_position('bottom')\n",
    "ax.spines['bottom'].set_position(('axes', -0.05))\n",
    "ax.spines['left'].set_position(('axes', -0.05))\n",
    "\n",
    "ax3 = ax.twinx()\n",
    "ax3.spines['right'].set_color('none')\n",
    "ax3.spines['top'].set_color('none')\n",
    "ax3.spines['left'].set_color('none')\n",
    "ax3.spines['bottom'].set_color('none')\n",
    "ax3.yaxis.set_ticks_position('none')\n",
    "plt.setp(ax3.get_yticklabels(), visible=False)\n",
    "\n",
    "plt.title('TotalDownloadTime', fontsize=12, y=1.05)\n",
    "plt.savefig('./AWS/CapeTown/ASN/Total_Download_time_ipv4_asn15133.png', format='png', bbox_inches='tight')\n",
    "\n"
   ]
  },
  {
   "cell_type": "code",
   "execution_count": 82,
   "metadata": {},
   "outputs": [],
   "source": [
    "# IHCRU - Internet-Hosting Ltd\n",
    "quic203226 = quic4.loc[t['ASNo'] == 203226]\n",
    "quic46 = quic203226.loc[t['Protocol'] == 'Q046']\n",
    "quic43 = quic203226.loc[t['Protocol'] == 'Q043']\n",
    "quic50 = quic203226.loc[t['Protocol'] == 'Q050']\n",
    "quich24 = quic203226.loc[t['Protocol'] == 'FF000018']"
   ]
  },
  {
   "cell_type": "code",
   "execution_count": 83,
   "metadata": {},
   "outputs": [],
   "source": [
    "x = Cdf.MakeCdfFromList(quic43['ConnectionEstablishmentTime'].values)\n",
    "x1 =Cdf.MakeCdfFromList(quic46['ConnectionEstablishmentTime'].values)\n",
    "x3 = Cdf.MakeCdfFromList(quic50['ConnectionEstablishmentTime'].values)\n",
    "x5 = Cdf.MakeCdfFromList(quich24['ConnectionEstablishmentTime'].values)"
   ]
  },
  {
   "cell_type": "markdown",
   "metadata": {
    "lines_to_next_cell": 2
   },
   "source": [
    "print_percentiles(x1, 'Q046')\n",
    "print_percentiles(x3, 'Q050')\n",
    "print_percentiles(x5, 'h24')\n",
    "print_percentiles(x, 'Q043')"
   ]
  },
  {
   "cell_type": "code",
   "execution_count": 84,
   "metadata": {},
   "outputs": [
    {
     "name": "stderr",
     "output_type": "stream",
     "text": [
      "findfont: Font family ['monospace'] not found. Falling back to DejaVu Sans.\n"
     ]
    },
    {
     "data": {
      "image/png": "[encoded data removed]",
      "text/plain": [
       "<Figure size 900x600 with 1 Axes>"
      ]
     },
     "metadata": {
      "needs_background": "light"
     },
     "output_type": "display_data"
    }
   ],
   "source": [
    "data = {'$\\\\bf{Protocol}$': ['Q043', 'Q046', 'Q050'],\n",
    "\t'$\\\\bf{25th}$': [\"{:.2f}\".format(x.Percentile(25)), \"{:.2f}\".format(x1.Percentile(25)), \"{:.2f}\".format(x3.Percentile(25))],\n",
    "\t'$\\\\bf{50th}$': [\"{:.2f}\".format(x.Percentile(50)), \"{:.2f}\".format(x1.Percentile(50)), \"{:.2f}\".format(x3.Percentile(50))],\n",
    "\t'$\\\\bf{75th}$': [\"{:.2f}\".format(x.Percentile(75)), \"{:.2f}\".format(x1.Percentile(75)), \"{:.2f}\".format(x3.Percentile(75))],\n",
    "\t'$\\\\bf{80th}$': [\"{:.2f}\".format(x.Percentile(80)), \"{:.2f}\".format(x1.Percentile(80)), \"{:.2f}\".format(x3.Percentile(80))],\n",
    "    '$\\\\bf{90th}$': [\"{:.2f}\".format(x.Percentile(90)), \"{:.2f}\".format(x1.Percentile(90)), \"{:.2f}\".format(x3.Percentile(90))]\n",
    "        }    \n",
    "\n",
    "df_percentile = pd.DataFrame(data)\n",
    "\n",
    "fig, ax = plt.subplots(dpi=150)\n",
    "\n",
    " #hide axes\n",
    "fig.patch.set_visible(False)\n",
    "ax.axis('off')\n",
    "ax.axis('tight')\n",
    "\n",
    "ax.table(cellText=df_percentile.values, colLabels=df_percentile.columns, loc='center', cellLoc='center')\n",
    "\n",
    "#fig.tight_layout()\n",
    "plt.savefig('./AWS/CapeTown/ASN/handshake_times_ipv4_asn203226_percentile.png', format='png', bbox_inches='tight')"
   ]
  },
  {
   "cell_type": "code",
   "execution_count": 85,
   "metadata": {},
   "outputs": [
    {
     "data": {
      "image/png": "[encoded data removed]",
      "text/plain": [
       "<Figure size 720x216 with 2 Axes>"
      ]
     },
     "metadata": {
      "needs_background": "light"
     },
     "output_type": "display_data"
    }
   ],
   "source": [
    "fig = plt.figure(figsize = (10,3))\n",
    "plt.rcParams['font.size'] = 12\n",
    "ax = plt.gca()\n",
    "yticks = np.arange(0,1.1,0.2)\n",
    "\n",
    "#Q043\n",
    "plt.plot(x.xs, x.ps, marker='s', linewidth=0.3, markersize=5, fillstyle='none', color = 'orange')\n",
    "#Q046\n",
    "plt.plot(x1.xs, x1.ps, marker='s', linewidth=0.3, markersize=5, fillstyle='none', color = 'red')\n",
    "#Q050\n",
    "plt.plot(x3.xs, x3.ps, marker='s', linewidth=0.3, markersize=5, fillstyle='none', color = 'green')\n",
    "#h24\n",
    "#plt.plot(x5.xs, x5.ps, marker='s', linewidth=0.3, markersize=5, fillstyle='none', color = 'blue')\n",
    "\n",
    "\n",
    "\n",
    "ax = fig.axes[0]\n",
    "ax.grid(False)\n",
    "ax.set_yticks(yticks)\n",
    "ax.set_ylim([0,1.05])\n",
    "#ax.set_xlim([20,100])\n",
    "ax.set_xscale('log')\n",
    "ax.set_xlabel('latency (x-axis is cut)', fontsize=12)\n",
    "ax.set_ylabel('CDF', fontsize=12)\n",
    "\n",
    "plt.legend(['Q043', 'Q046', 'Q050'] , fontsize=11, loc='best')\n",
    "\n",
    "ax.spines['right'].set_color('none')\n",
    "ax.spines['top'].set_color('none')\n",
    "ax.yaxis.set_ticks_position('left')\n",
    "ax.xaxis.set_ticks_position('bottom')\n",
    "ax.spines['bottom'].set_position(('axes', -0.05))\n",
    "ax.spines['left'].set_position(('axes', -0.05))\n",
    "\n",
    "ax3 = ax.twinx()\n",
    "ax3.spines['right'].set_color('none')\n",
    "ax3.spines['top'].set_color('none')\n",
    "ax3.spines['left'].set_color('none')\n",
    "ax3.spines['bottom'].set_color('none')\n",
    "ax3.yaxis.set_ticks_position('none')\n",
    "plt.setp(ax3.get_yticklabels(), visible=False)\n",
    "\n",
    "plt.title('Handshake Times with IPv4', fontsize=12, y=1.05)\n",
    "plt.savefig('./AWS/CapeTown/ASN/handshake_times_ipv4_asn203226.png', format='png', bbox_inches='tight')\n"
   ]
  },
  {
   "cell_type": "code",
   "execution_count": 86,
   "metadata": {},
   "outputs": [],
   "source": [
    "x = Cdf.MakeCdfFromList(quic43['TTFB'].values)\n",
    "x1 =Cdf.MakeCdfFromList(quic46['TTFB'].values)\n",
    "x3 = Cdf.MakeCdfFromList(quic50['TTFB'].values)\n",
    "x5 = Cdf.MakeCdfFromList(quich24['TTFB'].values)"
   ]
  },
  {
   "cell_type": "code",
   "execution_count": 87,
   "metadata": {
    "lines_to_next_cell": 2
   },
   "outputs": [
    {
     "name": "stdout",
     "output_type": "stream",
     "text": [
      "-----------------------------\n",
      "\n",
      "percentile values distribution for Q046\n",
      "\n",
      "50th Percentile:647.515000\n",
      "\n",
      "90th Percentile:712.341000\n",
      "\n",
      "99th Percentile:994.053000\n",
      "\n",
      "25th Percentile:638.627000\n",
      "\n",
      "75th Percentile:667.668000\n",
      "\n",
      "20th Percentile:647.515000\n",
      "\n",
      "40th Percentile:712.341000\n",
      "\n",
      "60th Percentile:994.053000\n",
      "\n",
      "80th Percentile:638.627000\n",
      "\n",
      "-----------------------------\n",
      "\n",
      "-----------------------------\n",
      "\n",
      "percentile values distribution for Q050\n",
      "\n",
      "50th Percentile:649.680000\n",
      "\n",
      "90th Percentile:719.177000\n",
      "\n",
      "99th Percentile:994.781000\n",
      "\n",
      "25th Percentile:639.403000\n",
      "\n",
      "75th Percentile:675.827000\n",
      "\n",
      "20th Percentile:649.680000\n",
      "\n",
      "40th Percentile:719.177000\n",
      "\n",
      "60th Percentile:994.781000\n",
      "\n",
      "80th Percentile:639.403000\n",
      "\n",
      "-----------------------------\n",
      "\n",
      "-----------------------------\n",
      "\n",
      "percentile values distribution for Q043\n",
      "\n",
      "50th Percentile:651.741000\n",
      "\n",
      "90th Percentile:720.094000\n",
      "\n",
      "99th Percentile:992.951000\n",
      "\n",
      "25th Percentile:640.416000\n",
      "\n",
      "75th Percentile:673.162000\n",
      "\n",
      "20th Percentile:651.741000\n",
      "\n",
      "40th Percentile:720.094000\n",
      "\n",
      "60th Percentile:992.951000\n",
      "\n",
      "80th Percentile:640.416000\n",
      "\n",
      "-----------------------------\n",
      "\n"
     ]
    }
   ],
   "source": [
    "print_percentiles(x1, 'Q046')\n",
    "print_percentiles(x3, 'Q050')\n",
    "#print_percentiles(x5, 'h24')\n",
    "print_percentiles(x, 'Q043')"
   ]
  },
  {
   "cell_type": "code",
   "execution_count": 88,
   "metadata": {},
   "outputs": [
    {
     "name": "stderr",
     "output_type": "stream",
     "text": [
      "findfont: Font family ['monospace'] not found. Falling back to DejaVu Sans.\n"
     ]
    },
    {
     "data": {
      "image/png": "[encoded data removed]",
      "text/plain": [
       "<Figure size 900x600 with 1 Axes>"
      ]
     },
     "metadata": {
      "needs_background": "light"
     },
     "output_type": "display_data"
    }
   ],
   "source": [
    "data = {'$\\\\bf{Protocol}$': ['Q043', 'Q046', 'Q050'],\n",
    "\t'$\\\\bf{25th}$': [\"{:.2f}\".format(x.Percentile(25)), \"{:.2f}\".format(x1.Percentile(25)), \"{:.2f}\".format(x3.Percentile(25))],\n",
    "\t'$\\\\bf{50th}$': [\"{:.2f}\".format(x.Percentile(50)), \"{:.2f}\".format(x1.Percentile(50)), \"{:.2f}\".format(x3.Percentile(50))],\n",
    "\t'$\\\\bf{75th}$': [\"{:.2f}\".format(x.Percentile(75)), \"{:.2f}\".format(x1.Percentile(75)), \"{:.2f}\".format(x3.Percentile(75))],\n",
    "\t'$\\\\bf{80th}$': [\"{:.2f}\".format(x.Percentile(80)), \"{:.2f}\".format(x1.Percentile(80)), \"{:.2f}\".format(x3.Percentile(80))],\n",
    "    '$\\\\bf{90th}$': [\"{:.2f}\".format(x.Percentile(90)), \"{:.2f}\".format(x1.Percentile(90)), \"{:.2f}\".format(x3.Percentile(90))]\n",
    "        }    \n",
    "\n",
    "df_percentile = pd.DataFrame(data)\n",
    "\n",
    "fig, ax = plt.subplots(dpi=150)\n",
    "\n",
    " #hide axes\n",
    "fig.patch.set_visible(False)\n",
    "ax.axis('off')\n",
    "ax.axis('tight')\n",
    "\n",
    "ax.table(cellText=df_percentile.values, colLabels=df_percentile.columns, loc='center', cellLoc='center')\n",
    "\n",
    "#fig.tight_layout()\n",
    "plt.savefig('./AWS/CapeTown/ASN/ttfb_ipv4_asn203226_percentile.png', format='png', bbox_inches='tight')"
   ]
  },
  {
   "cell_type": "code",
   "execution_count": 89,
   "metadata": {},
   "outputs": [
    {
     "data": {
      "image/png": "[encoded data removed]",
      "text/plain": [
       "<Figure size 720x216 with 2 Axes>"
      ]
     },
     "metadata": {
      "needs_background": "light"
     },
     "output_type": "display_data"
    }
   ],
   "source": [
    "fig = plt.figure(figsize = (10,3))\n",
    "plt.rcParams['font.size'] = 12\n",
    "ax = plt.gca()\n",
    "yticks = np.arange(0,1.1,0.2)\n",
    "\n",
    "#Q043\n",
    "plt.plot(x.xs, x.ps, marker='s', linewidth=0.3, markersize=5, fillstyle='none', color = 'orange')\n",
    "#Q046\n",
    "plt.plot(x1.xs, x1.ps, marker='s', linewidth=0.3, markersize=5, fillstyle='none', color = 'red')\n",
    "#Q050\n",
    "plt.plot(x3.xs, x3.ps, marker='s', linewidth=0.3, markersize=5, fillstyle='none', color = 'green')\n",
    "#Q=h24\n",
    "#plt.plot(x5.xs, x5.ps, marker='s', linewidth=0.3, markersize=5, fillstyle='none', color = 'blue')\n",
    "\n",
    "\n",
    "\n",
    "ax = fig.axes[0]\n",
    "ax.grid(False)\n",
    "ax.set_yticks(yticks)\n",
    "ax.set_ylim([0,1.05])\n",
    "#ax.set_xlim([20,600])\n",
    "ax.set_xscale('log')\n",
    "ax.set_xlabel('TTFB', fontsize=12)\n",
    "ax.set_ylabel('CDF', fontsize=12)\n",
    "\n",
    "plt.legend(['Q043', 'Q046', 'Q050'] , fontsize=11, loc='best')\n",
    "\n",
    "ax.spines['right'].set_color('none')\n",
    "ax.spines['top'].set_color('none')\n",
    "ax.yaxis.set_ticks_position('left')\n",
    "ax.xaxis.set_ticks_position('bottom')\n",
    "ax.spines['bottom'].set_position(('axes', -0.05))\n",
    "ax.spines['left'].set_position(('axes', -0.05))\n",
    "\n",
    "ax3 = ax.twinx()\n",
    "ax3.spines['right'].set_color('none')\n",
    "ax3.spines['top'].set_color('none')\n",
    "ax3.spines['left'].set_color('none')\n",
    "ax3.spines['bottom'].set_color('none')\n",
    "ax3.yaxis.set_ticks_position('none')\n",
    "plt.setp(ax3.get_yticklabels(), visible=False)\n",
    "\n",
    "plt.title('TTFB', fontsize=12, y=1.05)\n",
    "plt.savefig('./AWS/CapeTown/ASN/ttfb_ipv4_asn203226.png', format='png', bbox_inches='tight')\n"
   ]
  },
  {
   "cell_type": "code",
   "execution_count": 90,
   "metadata": {},
   "outputs": [],
   "source": [
    "x = Cdf.MakeCdfFromList(quic43['TotalDownloadTime'].values)\n",
    "x1 =Cdf.MakeCdfFromList(quic46['TotalDownloadTime'].values)\n",
    "x3 = Cdf.MakeCdfFromList(quic50['TotalDownloadTime'].values)\n",
    "x5 = Cdf.MakeCdfFromList(quich24['TotalDownloadTime'].values)"
   ]
  },
  {
   "cell_type": "code",
   "execution_count": 91,
   "metadata": {
    "lines_to_next_cell": 2
   },
   "outputs": [
    {
     "name": "stdout",
     "output_type": "stream",
     "text": [
      "-----------------------------\n",
      "\n",
      "percentile values distribution for Q046\n",
      "\n",
      "50th Percentile:654.868000\n",
      "\n",
      "90th Percentile:724.181000\n",
      "\n",
      "99th Percentile:831.672000\n",
      "\n",
      "25th Percentile:639.452000\n",
      "\n",
      "75th Percentile:690.742000\n",
      "\n",
      "20th Percentile:654.868000\n",
      "\n",
      "40th Percentile:724.181000\n",
      "\n",
      "60th Percentile:831.672000\n",
      "\n",
      "80th Percentile:639.452000\n",
      "\n",
      "-----------------------------\n",
      "\n",
      "-----------------------------\n",
      "\n",
      "percentile values distribution for Q050\n",
      "\n",
      "50th Percentile:656.715000\n",
      "\n",
      "90th Percentile:730.539000\n",
      "\n",
      "99th Percentile:924.585000\n",
      "\n",
      "25th Percentile:640.128000\n",
      "\n",
      "75th Percentile:699.362000\n",
      "\n",
      "20th Percentile:656.715000\n",
      "\n",
      "40th Percentile:730.539000\n",
      "\n",
      "60th Percentile:924.585000\n",
      "\n",
      "80th Percentile:640.128000\n",
      "\n",
      "-----------------------------\n",
      "\n",
      "-----------------------------\n",
      "\n",
      "percentile values distribution for Q043\n",
      "\n",
      "50th Percentile:658.221000\n",
      "\n",
      "90th Percentile:734.665000\n",
      "\n",
      "99th Percentile:923.309000\n",
      "\n",
      "25th Percentile:640.897000\n",
      "\n",
      "75th Percentile:697.136000\n",
      "\n",
      "20th Percentile:658.221000\n",
      "\n",
      "40th Percentile:734.665000\n",
      "\n",
      "60th Percentile:923.309000\n",
      "\n",
      "80th Percentile:640.897000\n",
      "\n",
      "-----------------------------\n",
      "\n"
     ]
    }
   ],
   "source": [
    "print_percentiles(x1, 'Q046')\n",
    "print_percentiles(x3, 'Q050')\n",
    "#print_percentiles(x5, 'h24')\n",
    "print_percentiles(x, 'Q043')"
   ]
  },
  {
   "cell_type": "code",
   "execution_count": 92,
   "metadata": {},
   "outputs": [
    {
     "name": "stderr",
     "output_type": "stream",
     "text": [
      "findfont: Font family ['monospace'] not found. Falling back to DejaVu Sans.\n"
     ]
    },
    {
     "data": {
      "image/png": "[encoded data removed]",
      "text/plain": [
       "<Figure size 900x600 with 1 Axes>"
      ]
     },
     "metadata": {
      "needs_background": "light"
     },
     "output_type": "display_data"
    }
   ],
   "source": [
    "data = {'$\\\\bf{Protocol}$': ['Q043', 'Q046', 'Q050'],\n",
    "\t'$\\\\bf{25th}$': [\"{:.2f}\".format(x.Percentile(25)), \"{:.2f}\".format(x1.Percentile(25)), \"{:.2f}\".format(x3.Percentile(25))],\n",
    "\t'$\\\\bf{50th}$': [\"{:.2f}\".format(x.Percentile(50)), \"{:.2f}\".format(x1.Percentile(50)), \"{:.2f}\".format(x3.Percentile(50))],\n",
    "\t'$\\\\bf{75th}$': [\"{:.2f}\".format(x.Percentile(75)), \"{:.2f}\".format(x1.Percentile(75)), \"{:.2f}\".format(x3.Percentile(75))],\n",
    "\t'$\\\\bf{80th}$': [\"{:.2f}\".format(x.Percentile(80)), \"{:.2f}\".format(x1.Percentile(80)), \"{:.2f}\".format(x3.Percentile(80))],\n",
    "    '$\\\\bf{90th}$': [\"{:.2f}\".format(x.Percentile(90)), \"{:.2f}\".format(x1.Percentile(90)), \"{:.2f}\".format(x3.Percentile(90))]\n",
    "        }    \n",
    "\n",
    "df_percentile = pd.DataFrame(data)\n",
    "\n",
    "fig, ax = plt.subplots(dpi=150)\n",
    "\n",
    " #hide axes\n",
    "fig.patch.set_visible(False)\n",
    "ax.axis('off')\n",
    "ax.axis('tight')\n",
    "\n",
    "ax.table(cellText=df_percentile.values, colLabels=df_percentile.columns, loc='center', cellLoc='center')\n",
    "\n",
    "#fig.tight_layout()\n",
    "plt.savefig('./AWS/CapeTown/ASN/totaldownloadtime_ipv4_asn203226_percentile.png', format='png', bbox_inches='tight')\n"
   ]
  },
  {
   "cell_type": "code",
   "execution_count": 93,
   "metadata": {},
   "outputs": [
    {
     "data": {
      "image/png": "[encoded data removed]",
      "text/plain": [
       "<Figure size 720x216 with 2 Axes>"
      ]
     },
     "metadata": {
      "needs_background": "light"
     },
     "output_type": "display_data"
    }
   ],
   "source": [
    "fig = plt.figure(figsize = (10,3))\n",
    "plt.rcParams['font.size'] = 12\n",
    "ax = plt.gca()\n",
    "yticks = np.arange(0,1.1,0.2)\n",
    "\n",
    "#Q043\n",
    "plt.plot(x.xs, x.ps, marker='s', linewidth=0.3, markersize=5, fillstyle='none', color = 'orange')\n",
    "#Q046\n",
    "plt.plot(x1.xs, x1.ps, marker='s', linewidth=0.3, markersize=5, fillstyle='none', color = 'red')\n",
    "#Q050\n",
    "plt.plot(x3.xs, x3.ps, marker='s', linewidth=0.3, markersize=5, fillstyle='none', color = 'green')\n",
    "#h24\n",
    "#plt.plot(x5.xs, x5.ps, marker='s', linewidth=0.3, markersize=5, fillstyle='none', color = 'blue')\n",
    "\n",
    "\n",
    "\n",
    "ax = fig.axes[0]\n",
    "ax.grid(False)\n",
    "ax.set_yticks(yticks)\n",
    "ax.set_ylim([0,1.05])\n",
    "#ax.set_xlim([20,600])\n",
    "ax.set_xscale('log')\n",
    "ax.set_xlabel('TotalDownloadTime', fontsize=12)\n",
    "ax.set_ylabel('CDF', fontsize=12)\n",
    "\n",
    "plt.legend(['Q043', 'Q046', 'Q050'] , fontsize=11, loc='best')\n",
    "\n",
    "ax.spines['right'].set_color('none')\n",
    "ax.spines['top'].set_color('none')\n",
    "ax.yaxis.set_ticks_position('left')\n",
    "ax.xaxis.set_ticks_position('bottom')\n",
    "ax.spines['bottom'].set_position(('axes', -0.05))\n",
    "ax.spines['left'].set_position(('axes', -0.05))\n",
    "\n",
    "ax3 = ax.twinx()\n",
    "ax3.spines['right'].set_color('none')\n",
    "ax3.spines['top'].set_color('none')\n",
    "ax3.spines['left'].set_color('none')\n",
    "ax3.spines['bottom'].set_color('none')\n",
    "ax3.yaxis.set_ticks_position('none')\n",
    "plt.setp(ax3.get_yticklabels(), visible=False)\n",
    "\n",
    "plt.title('TotalDownloadTime', fontsize=12, y=1.05)\n",
    "plt.savefig('./AWS/CapeTown/ASN/totaldownloadtime_ipv4_asn203226.png', format='png', bbox_inches='tight')\n"
   ]
  },
  {
   "cell_type": "code",
   "execution_count": null,
   "metadata": {},
   "outputs": [],
   "source": []
  },
  {
   "cell_type": "code",
   "execution_count": null,
   "metadata": {},
   "outputs": [],
   "source": []
  },
  {
   "cell_type": "code",
   "execution_count": null,
   "metadata": {},
   "outputs": [],
   "source": []
  },
  {
   "cell_type": "code",
   "execution_count": null,
   "metadata": {},
   "outputs": [],
   "source": []
  },
  {
   "cell_type": "code",
   "execution_count": null,
   "metadata": {},
   "outputs": [],
   "source": []
  },
  {
   "cell_type": "code",
   "execution_count": null,
   "metadata": {},
   "outputs": [],
   "source": []
  }
 ],
 "metadata": {
  "jupytext": {
   "formats": "ipynb,py:light",
   "text_representation": {
    "extension": ".py",
    "format_name": "light",
    "format_version": "1.3",
    "jupytext_version": "0.8.4"
   }
  },
  "kernelspec": {
   "display_name": "Python 3",
   "language": "python",
   "name": "python3"
  },
  "language_info": {
   "codemirror_mode": {
    "name": "ipython",
    "version": 3
   },
   "file_extension": ".py",
   "mimetype": "text/x-python",
   "name": "python",
   "nbconvert_exporter": "python",
   "pygments_lexer": "ipython3",
   "version": "3.7.5"
  }
 },
 "nbformat": 4,
 "nbformat_minor": 2
}
