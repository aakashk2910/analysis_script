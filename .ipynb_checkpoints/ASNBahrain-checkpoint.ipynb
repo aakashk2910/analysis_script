{
 "cells": [
  {
   "cell_type": "code",
   "execution_count": 94,
   "metadata": {},
   "outputs": [],
   "source": [
    "import sqlite3\n",
    "import pandas as pd\n",
    "import numpy as np\n",
    "import matplotlib.pyplot as plt\n",
    "import time\n",
    "import datetime\n",
    "import filterbyip as fbi\n",
    "import Cdf\n",
    "import Pmf"
   ]
  },
  {
   "cell_type": "code",
   "execution_count": 95,
   "metadata": {},
   "outputs": [],
   "source": [
    "def write_percentiles(filename, c):\n",
    "\twith open(filename, 'w') as f:\n",
    "\t\tf.write('values; percentile\\n')\n",
    "\t\tfor x, y in zip(c.xs, c.ps):\n",
    "\t\t\tf.write('%.2f, %.2f\\n'%(x, y))"
   ]
  },
  {
   "cell_type": "code",
   "execution_count": 96,
   "metadata": {},
   "outputs": [],
   "source": [
    "def print_percentiles(c, name):\n",
    "\tprint('-----------------------------\\n')\n",
    "\tprint('percentile values distribution for %s\\n' % name)\n",
    "\n",
    "\tprint('50th Percentile:%f\\n' % c.Percentile(50))\n",
    "\tprint('90th Percentile:%f\\n' % c.Percentile(90))\n",
    "\tprint('99th Percentile:%f\\n' % c.Percentile(99))\n",
    "\tprint('25th Percentile:%f\\n' % c.Percentile(25))\n",
    "\tprint('75th Percentile:%f\\n' % c.Percentile(75))\n",
    "\tprint('20th Percentile:%f\\n' % c.Percentile(50))\n",
    "\tprint('40th Percentile:%f\\n' % c.Percentile(90))\n",
    "\tprint('60th Percentile:%f\\n' % c.Percentile(99))\n",
    "\tprint('80th Percentile:%f\\n' % c.Percentile(25))\n",
    "\n",
    "\tprint('-----------------------------\\n')"
   ]
  },
  {
   "cell_type": "code",
   "execution_count": 97,
   "metadata": {},
   "outputs": [
    {
     "name": "stdout",
     "output_type": "stream",
     "text": [
      "Populating the interactive namespace from numpy and matplotlib\n"
     ]
    }
   ],
   "source": [
    "import warnings\n",
    "warnings.filterwarnings('ignore')\n",
    "\n",
    "%pylab inline"
   ]
  },
  {
   "cell_type": "code",
   "execution_count": 98,
   "metadata": {},
   "outputs": [
    {
     "data": {
      "text/html": [
       "<style>body {\n",
       "    margin: 0;\n",
       "    font-family: Helvetica;\n",
       "}\n",
       "table.dataframe {\n",
       "    border-collapse: collapse;\n",
       "    border: none;\n",
       "}\n",
       "table.dataframe tr {\n",
       "    border: none;\n",
       "}\n",
       "table.dataframe td, table.dataframe th {\n",
       "    margin: 0;\n",
       "    border: 1px solid white;\n",
       "    padding-left: 0.25em;\n",
       "    padding-right: 0.25em;\n",
       "}\n",
       "table.dataframe th:not(:empty) {\n",
       "    background-color: #fec;\n",
       "    text-align: left;\n",
       "    font-weight: normal;\n",
       "}\n",
       "table.dataframe tr:nth-child(2) th:empty {\n",
       "    border-left: none;\n",
       "    border-right: 1px dashed #888;\n",
       "}\n",
       "table.dataframe td {\n",
       "    border: 2px solid #ccf;\n",
       "    background-color: #f4f4ff;\n",
       "}\n",
       "h3 {\n",
       "    color: white;\n",
       "    background-color: black;\n",
       "    padding: 0.5em;\n",
       "}\n",
       "\n",
       ".CodeMirror {\n",
       "    font-family: 'Consolas';\n",
       "}\n",
       "\n",
       "div.cell.code_cell {\n",
       "    font-family: 'Consolas';\n",
       "}\n",
       "\n",
       "div.output_area pre {\n",
       "    font-family: 'Consolas';\n",
       "}\n",
       "</style>"
      ],
      "text/plain": [
       "<IPython.core.display.HTML object>"
      ]
     },
     "execution_count": 98,
     "metadata": {},
     "output_type": "execute_result"
    }
   ],
   "source": [
    "from IPython.core.display import HTML\n",
    "css = open('style-table.css').read() + open('style-notebook.css').read()\n",
    "HTML('<style>{}</style>'.format(css))"
   ]
  },
  {
   "cell_type": "code",
   "execution_count": 99,
   "metadata": {},
   "outputs": [],
   "source": [
    "quic_data = \"./AWS_results/Bahrain/data/output_quic.csv\""
   ]
  },
  {
   "cell_type": "code",
   "execution_count": 100,
   "metadata": {},
   "outputs": [],
   "source": [
    "tcol_names = ['TimeOfMeasurement', 'Url', 'Path', 'Ip', 'Port', 'DNSTime', 'ConnectionEstablishmentTime', 'TTFB', 'TotalDownloadTime', 'HttpResponse', 'Protocol']\n",
    "as_names = ['Url', 'Ip', 'ASNo','ASName','Lat','Lon'] "
   ]
  },
  {
   "cell_type": "code",
   "execution_count": 101,
   "metadata": {},
   "outputs": [],
   "source": [
    "t = pd.read_csv(quic_data,';', names=tcol_names, header=None)"
   ]
  },
  {
   "cell_type": "code",
   "execution_count": 102,
   "metadata": {},
   "outputs": [],
   "source": [
    "t = t.dropna()"
   ]
  },
  {
   "cell_type": "code",
   "execution_count": 103,
   "metadata": {},
   "outputs": [],
   "source": [
    "asndata = \"./data2020/asinfo.csv\""
   ]
  },
  {
   "cell_type": "code",
   "execution_count": 104,
   "metadata": {},
   "outputs": [
    {
     "data": {
      "text/html": [
       "<div>\n",
       "<style scoped>\n",
       "    .dataframe tbody tr th:only-of-type {\n",
       "        vertical-align: middle;\n",
       "    }\n",
       "\n",
       "    .dataframe tbody tr th {\n",
       "        vertical-align: top;\n",
       "    }\n",
       "\n",
       "    .dataframe thead th {\n",
       "        text-align: right;\n",
       "    }\n",
       "</style>\n",
       "<table border=\"1\" class=\"dataframe\">\n",
       "  <thead>\n",
       "    <tr style=\"text-align: right;\">\n",
       "      <th></th>\n",
       "      <th>Url</th>\n",
       "      <th>Ip</th>\n",
       "      <th>ASNo</th>\n",
       "      <th>ASName</th>\n",
       "      <th>Lat</th>\n",
       "      <th>Lon</th>\n",
       "    </tr>\n",
       "  </thead>\n",
       "  <tbody>\n",
       "    <tr>\n",
       "      <th>0</th>\n",
       "      <td>www.google.com</td>\n",
       "      <td>172.217.19.68</td>\n",
       "      <td>15169.0</td>\n",
       "      <td>GOOGLE - Google LLC</td>\n",
       "      <td>-122.0574</td>\n",
       "      <td>37.4192</td>\n",
       "    </tr>\n",
       "    <tr>\n",
       "      <th>1</th>\n",
       "      <td>www.youtube.com</td>\n",
       "      <td>172.217.22.78</td>\n",
       "      <td>15169.0</td>\n",
       "      <td>GOOGLE - Google LLC</td>\n",
       "      <td>-122.0574</td>\n",
       "      <td>37.4192</td>\n",
       "    </tr>\n",
       "    <tr>\n",
       "      <th>2</th>\n",
       "      <td>www.google.co.in</td>\n",
       "      <td>216.58.213.227</td>\n",
       "      <td>15169.0</td>\n",
       "      <td>GOOGLE - Google LLC</td>\n",
       "      <td>-122.0574</td>\n",
       "      <td>37.4192</td>\n",
       "    </tr>\n",
       "    <tr>\n",
       "      <th>3</th>\n",
       "      <td>www.blogspot.com</td>\n",
       "      <td>172.217.18.9</td>\n",
       "      <td>15169.0</td>\n",
       "      <td>GOOGLE - Google LLC</td>\n",
       "      <td>-122.0574</td>\n",
       "      <td>37.4192</td>\n",
       "    </tr>\n",
       "    <tr>\n",
       "      <th>4</th>\n",
       "      <td>www.google.co.jp</td>\n",
       "      <td>216.58.210.3</td>\n",
       "      <td>15169.0</td>\n",
       "      <td>GOOGLE - Google LLC</td>\n",
       "      <td>-122.0574</td>\n",
       "      <td>37.4192</td>\n",
       "    </tr>\n",
       "    <tr>\n",
       "      <th>...</th>\n",
       "      <td>...</td>\n",
       "      <td>...</td>\n",
       "      <td>...</td>\n",
       "      <td>...</td>\n",
       "      <td>...</td>\n",
       "      <td>...</td>\n",
       "    </tr>\n",
       "    <tr>\n",
       "      <th>7428</th>\n",
       "      <td>www.holidaysequences.com</td>\n",
       "      <td>35.190.16.47</td>\n",
       "      <td>15169.0</td>\n",
       "      <td>GOOGLE - Google LLC</td>\n",
       "      <td>-122.0574</td>\n",
       "      <td>37.4192</td>\n",
       "    </tr>\n",
       "    <tr>\n",
       "      <th>7429</th>\n",
       "      <td>www.nickzammeti.com</td>\n",
       "      <td>130.211.40.170</td>\n",
       "      <td>15169.0</td>\n",
       "      <td>GOOGLE - Google LLC</td>\n",
       "      <td>4.35</td>\n",
       "      <td>50.8500</td>\n",
       "    </tr>\n",
       "    <tr>\n",
       "      <th>7430</th>\n",
       "      <td>www.redlink-network.org</td>\n",
       "      <td>35.190.35.16</td>\n",
       "      <td>15169.0</td>\n",
       "      <td>GOOGLE - Google LLC</td>\n",
       "      <td>-122.0574</td>\n",
       "      <td>37.4192</td>\n",
       "    </tr>\n",
       "    <tr>\n",
       "      <th>7431</th>\n",
       "      <td>www.reefh2o.com</td>\n",
       "      <td>35.190.16.47</td>\n",
       "      <td>15169.0</td>\n",
       "      <td>GOOGLE - Google LLC</td>\n",
       "      <td>-122.0574</td>\n",
       "      <td>37.4192</td>\n",
       "    </tr>\n",
       "    <tr>\n",
       "      <th>7432</th>\n",
       "      <td>www.vanbind.com</td>\n",
       "      <td>35.190.71.195</td>\n",
       "      <td>15169.0</td>\n",
       "      <td>GOOGLE - Google LLC</td>\n",
       "      <td>-122.0574</td>\n",
       "      <td>37.4192</td>\n",
       "    </tr>\n",
       "  </tbody>\n",
       "</table>\n",
       "<p>7433 rows × 6 columns</p>\n",
       "</div>"
      ],
      "text/plain": [
       "                           Url              Ip     ASNo               ASName  \\\n",
       "0               www.google.com   172.217.19.68  15169.0  GOOGLE - Google LLC   \n",
       "1              www.youtube.com   172.217.22.78  15169.0  GOOGLE - Google LLC   \n",
       "2             www.google.co.in  216.58.213.227  15169.0  GOOGLE - Google LLC   \n",
       "3             www.blogspot.com    172.217.18.9  15169.0  GOOGLE - Google LLC   \n",
       "4             www.google.co.jp    216.58.210.3  15169.0  GOOGLE - Google LLC   \n",
       "...                        ...             ...      ...                  ...   \n",
       "7428  www.holidaysequences.com    35.190.16.47  15169.0  GOOGLE - Google LLC   \n",
       "7429       www.nickzammeti.com  130.211.40.170  15169.0  GOOGLE - Google LLC   \n",
       "7430   www.redlink-network.org    35.190.35.16  15169.0  GOOGLE - Google LLC   \n",
       "7431           www.reefh2o.com    35.190.16.47  15169.0  GOOGLE - Google LLC   \n",
       "7432           www.vanbind.com   35.190.71.195  15169.0  GOOGLE - Google LLC   \n",
       "\n",
       "            Lat      Lon  \n",
       "0     -122.0574  37.4192  \n",
       "1     -122.0574  37.4192  \n",
       "2     -122.0574  37.4192  \n",
       "3     -122.0574  37.4192  \n",
       "4     -122.0574  37.4192  \n",
       "...         ...      ...  \n",
       "7428  -122.0574  37.4192  \n",
       "7429       4.35  50.8500  \n",
       "7430  -122.0574  37.4192  \n",
       "7431  -122.0574  37.4192  \n",
       "7432  -122.0574  37.4192  \n",
       "\n",
       "[7433 rows x 6 columns]"
      ]
     },
     "execution_count": 104,
     "metadata": {},
     "output_type": "execute_result"
    }
   ],
   "source": [
    "asn = pd.read_csv(asndata, ',', names=as_names, header=None)\n",
    "asn"
   ]
  },
  {
   "cell_type": "code",
   "execution_count": 105,
   "metadata": {},
   "outputs": [
    {
     "data": {
      "text/plain": [
       "ASNo     ASName                                              \n",
       "15169.0  GOOGLE - Google LLC                                     5040\n",
       "15133.0  EDGECAST - MCI Communications Services                   557\n",
       "7506.0   INTERQ GMO Internet                                      148\n",
       "24940.0  HETZNER-AS - Hetzner Online GmbH                         126\n",
       "16276.0  OVH - OVH SAS                                            102\n",
       "                                                                 ... \n",
       "30148.0  SUCURI-SEC - Sucuri                                        1\n",
       "48666.0  AS-MAROSNET - MAROSNET Telecommunication Company LLC       1\n",
       "30860.0  YURTEH-AS - Virtual Systems LLC                            1\n",
       "30933.0  PROTEXIA-EU - KDA WEB SERVICES LTD                         1\n",
       "37907.0  DIGIROCK DigiRock                                          1\n",
       "Length: 216, dtype: int64"
      ]
     },
     "execution_count": 105,
     "metadata": {},
     "output_type": "execute_result"
    }
   ],
   "source": [
    "#pd.set_option('display.max_rows', 500)\n",
    "asn.groupby(['ASNo', 'ASName']).size().sort_values(ascending=False)\n"
   ]
  },
  {
   "cell_type": "code",
   "execution_count": 106,
   "metadata": {
    "scrolled": true
   },
   "outputs": [
    {
     "data": {
      "text/plain": [
       "Url       7433\n",
       "Ip        7424\n",
       "ASNo      7424\n",
       "ASName    7424\n",
       "Lat       7424\n",
       "Lon       7424\n",
       "dtype: int64"
      ]
     },
     "execution_count": 106,
     "metadata": {},
     "output_type": "execute_result"
    }
   ],
   "source": [
    "asn.count()"
   ]
  },
  {
   "cell_type": "code",
   "execution_count": 107,
   "metadata": {},
   "outputs": [
    {
     "data": {
      "text/html": [
       "<div>\n",
       "<style scoped>\n",
       "    .dataframe tbody tr th:only-of-type {\n",
       "        vertical-align: middle;\n",
       "    }\n",
       "\n",
       "    .dataframe tbody tr th {\n",
       "        vertical-align: top;\n",
       "    }\n",
       "\n",
       "    .dataframe thead th {\n",
       "        text-align: right;\n",
       "    }\n",
       "</style>\n",
       "<table border=\"1\" class=\"dataframe\">\n",
       "  <thead>\n",
       "    <tr style=\"text-align: right;\">\n",
       "      <th></th>\n",
       "      <th>Url</th>\n",
       "      <th>Ip</th>\n",
       "      <th>ASNo</th>\n",
       "      <th>ASName</th>\n",
       "      <th>Lat</th>\n",
       "      <th>Lon</th>\n",
       "    </tr>\n",
       "  </thead>\n",
       "  <tbody>\n",
       "    <tr>\n",
       "      <th>0</th>\n",
       "      <td>www.google.com</td>\n",
       "      <td>172.217.19.68</td>\n",
       "      <td>15169.0</td>\n",
       "      <td>GOOGLE - Google LLC</td>\n",
       "      <td>-122.0574</td>\n",
       "      <td>37.4192</td>\n",
       "    </tr>\n",
       "    <tr>\n",
       "      <th>1</th>\n",
       "      <td>www.youtube.com</td>\n",
       "      <td>172.217.22.78</td>\n",
       "      <td>15169.0</td>\n",
       "      <td>GOOGLE - Google LLC</td>\n",
       "      <td>-122.0574</td>\n",
       "      <td>37.4192</td>\n",
       "    </tr>\n",
       "    <tr>\n",
       "      <th>2</th>\n",
       "      <td>www.google.co.in</td>\n",
       "      <td>216.58.213.227</td>\n",
       "      <td>15169.0</td>\n",
       "      <td>GOOGLE - Google LLC</td>\n",
       "      <td>-122.0574</td>\n",
       "      <td>37.4192</td>\n",
       "    </tr>\n",
       "    <tr>\n",
       "      <th>3</th>\n",
       "      <td>www.blogspot.com</td>\n",
       "      <td>172.217.18.9</td>\n",
       "      <td>15169.0</td>\n",
       "      <td>GOOGLE - Google LLC</td>\n",
       "      <td>-122.0574</td>\n",
       "      <td>37.4192</td>\n",
       "    </tr>\n",
       "    <tr>\n",
       "      <th>4</th>\n",
       "      <td>www.google.co.jp</td>\n",
       "      <td>216.58.210.3</td>\n",
       "      <td>15169.0</td>\n",
       "      <td>GOOGLE - Google LLC</td>\n",
       "      <td>-122.0574</td>\n",
       "      <td>37.4192</td>\n",
       "    </tr>\n",
       "  </tbody>\n",
       "</table>\n",
       "</div>"
      ],
      "text/plain": [
       "                Url              Ip     ASNo               ASName        Lat  \\\n",
       "0    www.google.com   172.217.19.68  15169.0  GOOGLE - Google LLC  -122.0574   \n",
       "1   www.youtube.com   172.217.22.78  15169.0  GOOGLE - Google LLC  -122.0574   \n",
       "2  www.google.co.in  216.58.213.227  15169.0  GOOGLE - Google LLC  -122.0574   \n",
       "3  www.blogspot.com    172.217.18.9  15169.0  GOOGLE - Google LLC  -122.0574   \n",
       "4  www.google.co.jp    216.58.210.3  15169.0  GOOGLE - Google LLC  -122.0574   \n",
       "\n",
       "       Lon  \n",
       "0  37.4192  \n",
       "1  37.4192  \n",
       "2  37.4192  \n",
       "3  37.4192  \n",
       "4  37.4192  "
      ]
     },
     "execution_count": 107,
     "metadata": {},
     "output_type": "execute_result"
    }
   ],
   "source": [
    "asn.head()"
   ]
  },
  {
   "cell_type": "code",
   "execution_count": 108,
   "metadata": {},
   "outputs": [],
   "source": [
    "t = t.join(asn.set_index('Url'), on='Url', rsuffix='_right')"
   ]
  },
  {
   "cell_type": "code",
   "execution_count": 109,
   "metadata": {},
   "outputs": [],
   "source": [
    "t = t.drop('Ip_right', axis=1)"
   ]
  },
  {
   "cell_type": "code",
   "execution_count": 110,
   "metadata": {},
   "outputs": [
    {
     "data": {
      "text/plain": [
       "TimeOfMeasurement              751301\n",
       "Url                            751301\n",
       "Path                           751301\n",
       "Ip                             751301\n",
       "Port                           751301\n",
       "DNSTime                        751301\n",
       "ConnectionEstablishmentTime    751301\n",
       "TTFB                           751301\n",
       "TotalDownloadTime              751301\n",
       "HttpResponse                   751301\n",
       "Protocol                       751301\n",
       "ASNo                           585374\n",
       "ASName                         585374\n",
       "Lat                            585374\n",
       "Lon                            585374\n",
       "dtype: int64"
      ]
     },
     "execution_count": 110,
     "metadata": {},
     "output_type": "execute_result"
    }
   ],
   "source": [
    "t.count()"
   ]
  },
  {
   "cell_type": "code",
   "execution_count": 111,
   "metadata": {},
   "outputs": [
    {
     "data": {
      "text/html": [
       "<div>\n",
       "<style scoped>\n",
       "    .dataframe tbody tr th:only-of-type {\n",
       "        vertical-align: middle;\n",
       "    }\n",
       "\n",
       "    .dataframe tbody tr th {\n",
       "        vertical-align: top;\n",
       "    }\n",
       "\n",
       "    .dataframe thead th {\n",
       "        text-align: right;\n",
       "    }\n",
       "</style>\n",
       "<table border=\"1\" class=\"dataframe\">\n",
       "  <thead>\n",
       "    <tr style=\"text-align: right;\">\n",
       "      <th></th>\n",
       "      <th>TimeOfMeasurement</th>\n",
       "      <th>Url</th>\n",
       "      <th>Path</th>\n",
       "      <th>Ip</th>\n",
       "      <th>Port</th>\n",
       "      <th>DNSTime</th>\n",
       "      <th>ConnectionEstablishmentTime</th>\n",
       "      <th>TTFB</th>\n",
       "      <th>TotalDownloadTime</th>\n",
       "      <th>HttpResponse</th>\n",
       "      <th>Protocol</th>\n",
       "      <th>ASNo</th>\n",
       "      <th>ASName</th>\n",
       "      <th>Lat</th>\n",
       "      <th>Lon</th>\n",
       "    </tr>\n",
       "  </thead>\n",
       "  <tbody>\n",
       "    <tr>\n",
       "      <th>0</th>\n",
       "      <td>1.589587e+09</td>\n",
       "      <td>www.0dayrox2.blogspot.com</td>\n",
       "      <td>/</td>\n",
       "      <td>216.58.207.1</td>\n",
       "      <td>443</td>\n",
       "      <td>443.620</td>\n",
       "      <td>241.357</td>\n",
       "      <td>517.799</td>\n",
       "      <td>788.130</td>\n",
       "      <td>404.0</td>\n",
       "      <td>Q043</td>\n",
       "      <td>15169.0</td>\n",
       "      <td>GOOGLE - Google LLC</td>\n",
       "      <td>-122.0574</td>\n",
       "      <td>37.4192</td>\n",
       "    </tr>\n",
       "    <tr>\n",
       "      <th>1</th>\n",
       "      <td>1.589587e+09</td>\n",
       "      <td>www.0dayrox2.blogspot.com</td>\n",
       "      <td>/</td>\n",
       "      <td>216.58.207.1</td>\n",
       "      <td>443</td>\n",
       "      <td>0.516</td>\n",
       "      <td>243.061</td>\n",
       "      <td>503.185</td>\n",
       "      <td>775.395</td>\n",
       "      <td>404.0</td>\n",
       "      <td>Q046</td>\n",
       "      <td>15169.0</td>\n",
       "      <td>GOOGLE - Google LLC</td>\n",
       "      <td>-122.0574</td>\n",
       "      <td>37.4192</td>\n",
       "    </tr>\n",
       "    <tr>\n",
       "      <th>2</th>\n",
       "      <td>1.589587e+09</td>\n",
       "      <td>www.0dayrox2.blogspot.com</td>\n",
       "      <td>/</td>\n",
       "      <td>216.58.207.1</td>\n",
       "      <td>443</td>\n",
       "      <td>3.661</td>\n",
       "      <td>236.985</td>\n",
       "      <td>497.940</td>\n",
       "      <td>766.237</td>\n",
       "      <td>404.0</td>\n",
       "      <td>Q050</td>\n",
       "      <td>15169.0</td>\n",
       "      <td>GOOGLE - Google LLC</td>\n",
       "      <td>-122.0574</td>\n",
       "      <td>37.4192</td>\n",
       "    </tr>\n",
       "    <tr>\n",
       "      <th>8</th>\n",
       "      <td>1.589587e+09</td>\n",
       "      <td>www.0dayrox.blogspot.com</td>\n",
       "      <td>/</td>\n",
       "      <td>216.58.208.225</td>\n",
       "      <td>443</td>\n",
       "      <td>255.472</td>\n",
       "      <td>244.896</td>\n",
       "      <td>530.279</td>\n",
       "      <td>20.093</td>\n",
       "      <td>404.0</td>\n",
       "      <td>Q043</td>\n",
       "      <td>15169.0</td>\n",
       "      <td>GOOGLE - Google LLC</td>\n",
       "      <td>-122.0574</td>\n",
       "      <td>37.4192</td>\n",
       "    </tr>\n",
       "    <tr>\n",
       "      <th>9</th>\n",
       "      <td>1.589587e+09</td>\n",
       "      <td>www.0dayrox.blogspot.com</td>\n",
       "      <td>/</td>\n",
       "      <td>216.58.208.225</td>\n",
       "      <td>443</td>\n",
       "      <td>0.489</td>\n",
       "      <td>242.906</td>\n",
       "      <td>699.822</td>\n",
       "      <td>971.926</td>\n",
       "      <td>404.0</td>\n",
       "      <td>Q046</td>\n",
       "      <td>15169.0</td>\n",
       "      <td>GOOGLE - Google LLC</td>\n",
       "      <td>-122.0574</td>\n",
       "      <td>37.4192</td>\n",
       "    </tr>\n",
       "  </tbody>\n",
       "</table>\n",
       "</div>"
      ],
      "text/plain": [
       "   TimeOfMeasurement                        Url Path              Ip Port  \\\n",
       "0       1.589587e+09  www.0dayrox2.blogspot.com    /    216.58.207.1  443   \n",
       "1       1.589587e+09  www.0dayrox2.blogspot.com    /    216.58.207.1  443   \n",
       "2       1.589587e+09  www.0dayrox2.blogspot.com    /    216.58.207.1  443   \n",
       "8       1.589587e+09   www.0dayrox.blogspot.com    /  216.58.208.225  443   \n",
       "9       1.589587e+09   www.0dayrox.blogspot.com    /  216.58.208.225  443   \n",
       "\n",
       "   DNSTime  ConnectionEstablishmentTime     TTFB  TotalDownloadTime  \\\n",
       "0  443.620                      241.357  517.799            788.130   \n",
       "1    0.516                      243.061  503.185            775.395   \n",
       "2    3.661                      236.985  497.940            766.237   \n",
       "8  255.472                      244.896  530.279             20.093   \n",
       "9    0.489                      242.906  699.822            971.926   \n",
       "\n",
       "   HttpResponse Protocol     ASNo               ASName        Lat      Lon  \n",
       "0         404.0     Q043  15169.0  GOOGLE - Google LLC  -122.0574  37.4192  \n",
       "1         404.0     Q046  15169.0  GOOGLE - Google LLC  -122.0574  37.4192  \n",
       "2         404.0     Q050  15169.0  GOOGLE - Google LLC  -122.0574  37.4192  \n",
       "8         404.0     Q043  15169.0  GOOGLE - Google LLC  -122.0574  37.4192  \n",
       "9         404.0     Q046  15169.0  GOOGLE - Google LLC  -122.0574  37.4192  "
      ]
     },
     "execution_count": 111,
     "metadata": {},
     "output_type": "execute_result"
    }
   ],
   "source": [
    "t.head()"
   ]
  },
  {
   "cell_type": "code",
   "execution_count": 112,
   "metadata": {},
   "outputs": [],
   "source": [
    "def timestamp2human(timestamp):\n",
    "    return datetime.datetime.fromtimestamp(int(timestamp)).strftime('%c')"
   ]
  },
  {
   "cell_type": "code",
   "execution_count": 113,
   "metadata": {},
   "outputs": [],
   "source": [
    "#t['TimeOfMeasurement'] = t['TimeOfMeasurement'].apply(timestamp2human)"
   ]
  },
  {
   "cell_type": "code",
   "execution_count": 114,
   "metadata": {},
   "outputs": [
    {
     "data": {
      "text/html": [
       "<div>\n",
       "<style scoped>\n",
       "    .dataframe tbody tr th:only-of-type {\n",
       "        vertical-align: middle;\n",
       "    }\n",
       "\n",
       "    .dataframe tbody tr th {\n",
       "        vertical-align: top;\n",
       "    }\n",
       "\n",
       "    .dataframe thead th {\n",
       "        text-align: right;\n",
       "    }\n",
       "</style>\n",
       "<table border=\"1\" class=\"dataframe\">\n",
       "  <thead>\n",
       "    <tr style=\"text-align: right;\">\n",
       "      <th></th>\n",
       "      <th>TimeOfMeasurement</th>\n",
       "      <th>Url</th>\n",
       "      <th>Path</th>\n",
       "      <th>Ip</th>\n",
       "      <th>Port</th>\n",
       "      <th>DNSTime</th>\n",
       "      <th>ConnectionEstablishmentTime</th>\n",
       "      <th>TTFB</th>\n",
       "      <th>TotalDownloadTime</th>\n",
       "      <th>HttpResponse</th>\n",
       "      <th>Protocol</th>\n",
       "      <th>ASNo</th>\n",
       "      <th>ASName</th>\n",
       "      <th>Lat</th>\n",
       "      <th>Lon</th>\n",
       "    </tr>\n",
       "  </thead>\n",
       "  <tbody>\n",
       "    <tr>\n",
       "      <th>0</th>\n",
       "      <td>1.589587e+09</td>\n",
       "      <td>www.0dayrox2.blogspot.com</td>\n",
       "      <td>/</td>\n",
       "      <td>216.58.207.1</td>\n",
       "      <td>443</td>\n",
       "      <td>443.620</td>\n",
       "      <td>241.357</td>\n",
       "      <td>517.799</td>\n",
       "      <td>788.130</td>\n",
       "      <td>404.0</td>\n",
       "      <td>Q043</td>\n",
       "      <td>15169.0</td>\n",
       "      <td>GOOGLE - Google LLC</td>\n",
       "      <td>-122.0574</td>\n",
       "      <td>37.4192</td>\n",
       "    </tr>\n",
       "    <tr>\n",
       "      <th>1</th>\n",
       "      <td>1.589587e+09</td>\n",
       "      <td>www.0dayrox2.blogspot.com</td>\n",
       "      <td>/</td>\n",
       "      <td>216.58.207.1</td>\n",
       "      <td>443</td>\n",
       "      <td>0.516</td>\n",
       "      <td>243.061</td>\n",
       "      <td>503.185</td>\n",
       "      <td>775.395</td>\n",
       "      <td>404.0</td>\n",
       "      <td>Q046</td>\n",
       "      <td>15169.0</td>\n",
       "      <td>GOOGLE - Google LLC</td>\n",
       "      <td>-122.0574</td>\n",
       "      <td>37.4192</td>\n",
       "    </tr>\n",
       "    <tr>\n",
       "      <th>2</th>\n",
       "      <td>1.589587e+09</td>\n",
       "      <td>www.0dayrox2.blogspot.com</td>\n",
       "      <td>/</td>\n",
       "      <td>216.58.207.1</td>\n",
       "      <td>443</td>\n",
       "      <td>3.661</td>\n",
       "      <td>236.985</td>\n",
       "      <td>497.940</td>\n",
       "      <td>766.237</td>\n",
       "      <td>404.0</td>\n",
       "      <td>Q050</td>\n",
       "      <td>15169.0</td>\n",
       "      <td>GOOGLE - Google LLC</td>\n",
       "      <td>-122.0574</td>\n",
       "      <td>37.4192</td>\n",
       "    </tr>\n",
       "    <tr>\n",
       "      <th>8</th>\n",
       "      <td>1.589587e+09</td>\n",
       "      <td>www.0dayrox.blogspot.com</td>\n",
       "      <td>/</td>\n",
       "      <td>216.58.208.225</td>\n",
       "      <td>443</td>\n",
       "      <td>255.472</td>\n",
       "      <td>244.896</td>\n",
       "      <td>530.279</td>\n",
       "      <td>20.093</td>\n",
       "      <td>404.0</td>\n",
       "      <td>Q043</td>\n",
       "      <td>15169.0</td>\n",
       "      <td>GOOGLE - Google LLC</td>\n",
       "      <td>-122.0574</td>\n",
       "      <td>37.4192</td>\n",
       "    </tr>\n",
       "    <tr>\n",
       "      <th>9</th>\n",
       "      <td>1.589587e+09</td>\n",
       "      <td>www.0dayrox.blogspot.com</td>\n",
       "      <td>/</td>\n",
       "      <td>216.58.208.225</td>\n",
       "      <td>443</td>\n",
       "      <td>0.489</td>\n",
       "      <td>242.906</td>\n",
       "      <td>699.822</td>\n",
       "      <td>971.926</td>\n",
       "      <td>404.0</td>\n",
       "      <td>Q046</td>\n",
       "      <td>15169.0</td>\n",
       "      <td>GOOGLE - Google LLC</td>\n",
       "      <td>-122.0574</td>\n",
       "      <td>37.4192</td>\n",
       "    </tr>\n",
       "  </tbody>\n",
       "</table>\n",
       "</div>"
      ],
      "text/plain": [
       "   TimeOfMeasurement                        Url Path              Ip Port  \\\n",
       "0       1.589587e+09  www.0dayrox2.blogspot.com    /    216.58.207.1  443   \n",
       "1       1.589587e+09  www.0dayrox2.blogspot.com    /    216.58.207.1  443   \n",
       "2       1.589587e+09  www.0dayrox2.blogspot.com    /    216.58.207.1  443   \n",
       "8       1.589587e+09   www.0dayrox.blogspot.com    /  216.58.208.225  443   \n",
       "9       1.589587e+09   www.0dayrox.blogspot.com    /  216.58.208.225  443   \n",
       "\n",
       "   DNSTime  ConnectionEstablishmentTime     TTFB  TotalDownloadTime  \\\n",
       "0  443.620                      241.357  517.799            788.130   \n",
       "1    0.516                      243.061  503.185            775.395   \n",
       "2    3.661                      236.985  497.940            766.237   \n",
       "8  255.472                      244.896  530.279             20.093   \n",
       "9    0.489                      242.906  699.822            971.926   \n",
       "\n",
       "   HttpResponse Protocol     ASNo               ASName        Lat      Lon  \n",
       "0         404.0     Q043  15169.0  GOOGLE - Google LLC  -122.0574  37.4192  \n",
       "1         404.0     Q046  15169.0  GOOGLE - Google LLC  -122.0574  37.4192  \n",
       "2         404.0     Q050  15169.0  GOOGLE - Google LLC  -122.0574  37.4192  \n",
       "8         404.0     Q043  15169.0  GOOGLE - Google LLC  -122.0574  37.4192  \n",
       "9         404.0     Q046  15169.0  GOOGLE - Google LLC  -122.0574  37.4192  "
      ]
     },
     "execution_count": 114,
     "metadata": {},
     "output_type": "execute_result"
    }
   ],
   "source": [
    "t.head()"
   ]
  },
  {
   "cell_type": "code",
   "execution_count": 115,
   "metadata": {},
   "outputs": [
    {
     "data": {
      "text/html": [
       "<div>\n",
       "<style scoped>\n",
       "    .dataframe tbody tr th:only-of-type {\n",
       "        vertical-align: middle;\n",
       "    }\n",
       "\n",
       "    .dataframe tbody tr th {\n",
       "        vertical-align: top;\n",
       "    }\n",
       "\n",
       "    .dataframe thead th {\n",
       "        text-align: right;\n",
       "    }\n",
       "</style>\n",
       "<table border=\"1\" class=\"dataframe\">\n",
       "  <thead>\n",
       "    <tr style=\"text-align: right;\">\n",
       "      <th></th>\n",
       "      <th>TimeOfMeasurement</th>\n",
       "      <th>Url</th>\n",
       "      <th>Path</th>\n",
       "      <th>Ip</th>\n",
       "      <th>Port</th>\n",
       "      <th>DNSTime</th>\n",
       "      <th>ConnectionEstablishmentTime</th>\n",
       "      <th>TTFB</th>\n",
       "      <th>TotalDownloadTime</th>\n",
       "      <th>HttpResponse</th>\n",
       "      <th>Protocol</th>\n",
       "      <th>ASNo</th>\n",
       "      <th>ASName</th>\n",
       "      <th>Lat</th>\n",
       "      <th>Lon</th>\n",
       "    </tr>\n",
       "  </thead>\n",
       "  <tbody>\n",
       "    <tr>\n",
       "      <th>2128532</th>\n",
       "      <td>1.589991e+09</td>\n",
       "      <td>www.adictasalalectura2.blogspot.com</td>\n",
       "      <td>/</td>\n",
       "      <td>172.217.19.161</td>\n",
       "      <td>443</td>\n",
       "      <td>0.401</td>\n",
       "      <td>239.884</td>\n",
       "      <td>499.703</td>\n",
       "      <td>499.749</td>\n",
       "      <td>301.0</td>\n",
       "      <td>Q046</td>\n",
       "      <td>15169.0</td>\n",
       "      <td>GOOGLE - Google LLC</td>\n",
       "      <td>-122.0574</td>\n",
       "      <td>37.4192</td>\n",
       "    </tr>\n",
       "    <tr>\n",
       "      <th>2128533</th>\n",
       "      <td>1.589991e+09</td>\n",
       "      <td>www.google.com.pt</td>\n",
       "      <td>/</td>\n",
       "      <td>172.217.21.35</td>\n",
       "      <td>443</td>\n",
       "      <td>0.449</td>\n",
       "      <td>235.149</td>\n",
       "      <td>245.256</td>\n",
       "      <td>245.306</td>\n",
       "      <td>404.0</td>\n",
       "      <td>Q050</td>\n",
       "      <td>NaN</td>\n",
       "      <td>NaN</td>\n",
       "      <td>NaN</td>\n",
       "      <td>NaN</td>\n",
       "    </tr>\n",
       "    <tr>\n",
       "      <th>2128539</th>\n",
       "      <td>1.589991e+09</td>\n",
       "      <td>www.adictasalalectura2.blogspot.com</td>\n",
       "      <td>/</td>\n",
       "      <td>216.58.208.225</td>\n",
       "      <td>443</td>\n",
       "      <td>146.867</td>\n",
       "      <td>238.475</td>\n",
       "      <td>505.550</td>\n",
       "      <td>505.614</td>\n",
       "      <td>301.0</td>\n",
       "      <td>Q050</td>\n",
       "      <td>15169.0</td>\n",
       "      <td>GOOGLE - Google LLC</td>\n",
       "      <td>-122.0574</td>\n",
       "      <td>37.4192</td>\n",
       "    </tr>\n",
       "    <tr>\n",
       "      <th>2128545</th>\n",
       "      <td>1.589991e+09</td>\n",
       "      <td>www.google.com.py</td>\n",
       "      <td>/</td>\n",
       "      <td>216.58.207.99</td>\n",
       "      <td>443</td>\n",
       "      <td>157.220</td>\n",
       "      <td>236.237</td>\n",
       "      <td>402.310</td>\n",
       "      <td>402.435</td>\n",
       "      <td>200.0</td>\n",
       "      <td>Q043</td>\n",
       "      <td>15169.0</td>\n",
       "      <td>GOOGLE - Google LLC</td>\n",
       "      <td>-122.0574</td>\n",
       "      <td>37.4192</td>\n",
       "    </tr>\n",
       "    <tr>\n",
       "      <th>2128546</th>\n",
       "      <td>1.589991e+09</td>\n",
       "      <td>www.partiturasmil.blogspot.com</td>\n",
       "      <td>/</td>\n",
       "      <td>172.217.19.161</td>\n",
       "      <td>443</td>\n",
       "      <td>125.523</td>\n",
       "      <td>237.241</td>\n",
       "      <td>655.446</td>\n",
       "      <td>655.511</td>\n",
       "      <td>301.0</td>\n",
       "      <td>Q046</td>\n",
       "      <td>15169.0</td>\n",
       "      <td>GOOGLE - Google LLC</td>\n",
       "      <td>-122.0574</td>\n",
       "      <td>37.4192</td>\n",
       "    </tr>\n",
       "  </tbody>\n",
       "</table>\n",
       "</div>"
      ],
      "text/plain": [
       "         TimeOfMeasurement                                  Url Path  \\\n",
       "2128532       1.589991e+09  www.adictasalalectura2.blogspot.com    /   \n",
       "2128533       1.589991e+09                    www.google.com.pt    /   \n",
       "2128539       1.589991e+09  www.adictasalalectura2.blogspot.com    /   \n",
       "2128545       1.589991e+09                    www.google.com.py    /   \n",
       "2128546       1.589991e+09       www.partiturasmil.blogspot.com    /   \n",
       "\n",
       "                     Ip Port  DNSTime  ConnectionEstablishmentTime     TTFB  \\\n",
       "2128532  172.217.19.161  443    0.401                      239.884  499.703   \n",
       "2128533   172.217.21.35  443    0.449                      235.149  245.256   \n",
       "2128539  216.58.208.225  443  146.867                      238.475  505.550   \n",
       "2128545   216.58.207.99  443  157.220                      236.237  402.310   \n",
       "2128546  172.217.19.161  443  125.523                      237.241  655.446   \n",
       "\n",
       "         TotalDownloadTime  HttpResponse Protocol     ASNo  \\\n",
       "2128532            499.749         301.0     Q046  15169.0   \n",
       "2128533            245.306         404.0     Q050      NaN   \n",
       "2128539            505.614         301.0     Q050  15169.0   \n",
       "2128545            402.435         200.0     Q043  15169.0   \n",
       "2128546            655.511         301.0     Q046  15169.0   \n",
       "\n",
       "                      ASName        Lat      Lon  \n",
       "2128532  GOOGLE - Google LLC  -122.0574  37.4192  \n",
       "2128533                  NaN        NaN      NaN  \n",
       "2128539  GOOGLE - Google LLC  -122.0574  37.4192  \n",
       "2128545  GOOGLE - Google LLC  -122.0574  37.4192  \n",
       "2128546  GOOGLE - Google LLC  -122.0574  37.4192  "
      ]
     },
     "execution_count": 115,
     "metadata": {},
     "output_type": "execute_result"
    }
   ],
   "source": [
    "t.tail()"
   ]
  },
  {
   "cell_type": "code",
   "execution_count": 116,
   "metadata": {},
   "outputs": [],
   "source": [
    "def filter_by_ip(df, column):\n",
    "  \"\"\"reads a DataFrame, calls fbi.filter_v{4,6} to get DataFrames with rows\n",
    "     containing only v4, v6 endpoints. Returns the two DataFrame as a tuple\"\"\"\n",
    "\n",
    "  dfv6 = fbi.filter_v6(df, column)\n",
    "  dfv4 = fbi.filter_v4(df, column)\n",
    "  return dfv4, dfv6"
   ]
  },
  {
   "cell_type": "code",
   "execution_count": 117,
   "metadata": {},
   "outputs": [],
   "source": [
    "#quic4, quic6 = filter_by_ip(t, column = 'Ip')\n",
    "quic4 = t[t['Ip'].str.contains(\"\\.\")]\n",
    "quic6 = t[t['Ip'].str.contains(\"\\:\")]"
   ]
  },
  {
   "cell_type": "code",
   "execution_count": 118,
   "metadata": {},
   "outputs": [],
   "source": [
    "quic4 = quic4[quic4['HttpResponse'] == 200.0]\n",
    "quic6 = quic6[quic6['HttpResponse'] == 200.0]"
   ]
  },
  {
   "cell_type": "code",
   "execution_count": 119,
   "metadata": {},
   "outputs": [
    {
     "data": {
      "text/plain": [
       "TimeOfMeasurement              168807\n",
       "Url                            168807\n",
       "Path                           168807\n",
       "Ip                             168807\n",
       "Port                           168807\n",
       "DNSTime                        168807\n",
       "ConnectionEstablishmentTime    168807\n",
       "TTFB                           168807\n",
       "TotalDownloadTime              168807\n",
       "HttpResponse                   168807\n",
       "Protocol                       168807\n",
       "ASNo                           109346\n",
       "ASName                         109346\n",
       "Lat                            109346\n",
       "Lon                            109346\n",
       "dtype: int64"
      ]
     },
     "execution_count": 119,
     "metadata": {},
     "output_type": "execute_result"
    }
   ],
   "source": [
    "quic4.count()"
   ]
  },
  {
   "cell_type": "code",
   "execution_count": 120,
   "metadata": {},
   "outputs": [
    {
     "data": {
      "text/html": [
       "<div>\n",
       "<style scoped>\n",
       "    .dataframe tbody tr th:only-of-type {\n",
       "        vertical-align: middle;\n",
       "    }\n",
       "\n",
       "    .dataframe tbody tr th {\n",
       "        vertical-align: top;\n",
       "    }\n",
       "\n",
       "    .dataframe thead th {\n",
       "        text-align: right;\n",
       "    }\n",
       "</style>\n",
       "<table border=\"1\" class=\"dataframe\">\n",
       "  <thead>\n",
       "    <tr style=\"text-align: right;\">\n",
       "      <th></th>\n",
       "      <th>TimeOfMeasurement</th>\n",
       "      <th>Url</th>\n",
       "      <th>Path</th>\n",
       "      <th>Ip</th>\n",
       "      <th>Port</th>\n",
       "      <th>DNSTime</th>\n",
       "      <th>ConnectionEstablishmentTime</th>\n",
       "      <th>TTFB</th>\n",
       "      <th>TotalDownloadTime</th>\n",
       "      <th>HttpResponse</th>\n",
       "      <th>Protocol</th>\n",
       "      <th>ASNo</th>\n",
       "      <th>ASName</th>\n",
       "      <th>Lat</th>\n",
       "      <th>Lon</th>\n",
       "    </tr>\n",
       "  </thead>\n",
       "  <tbody>\n",
       "    <tr>\n",
       "      <th>24</th>\n",
       "      <td>1.589587e+09</td>\n",
       "      <td>www.100negocios.com</td>\n",
       "      <td>/</td>\n",
       "      <td>66.198.240.11</td>\n",
       "      <td>443</td>\n",
       "      <td>131.700</td>\n",
       "      <td>442.924</td>\n",
       "      <td>146.515</td>\n",
       "      <td>660.393</td>\n",
       "      <td>200.0</td>\n",
       "      <td>Q043</td>\n",
       "      <td>NaN</td>\n",
       "      <td>NaN</td>\n",
       "      <td>NaN</td>\n",
       "      <td>NaN</td>\n",
       "    </tr>\n",
       "    <tr>\n",
       "      <th>25</th>\n",
       "      <td>1.589587e+09</td>\n",
       "      <td>www.100negocios.com</td>\n",
       "      <td>/</td>\n",
       "      <td>66.198.240.11</td>\n",
       "      <td>443</td>\n",
       "      <td>0.472</td>\n",
       "      <td>444.456</td>\n",
       "      <td>114.160</td>\n",
       "      <td>632.938</td>\n",
       "      <td>200.0</td>\n",
       "      <td>Q046</td>\n",
       "      <td>NaN</td>\n",
       "      <td>NaN</td>\n",
       "      <td>NaN</td>\n",
       "      <td>NaN</td>\n",
       "    </tr>\n",
       "    <tr>\n",
       "      <th>26</th>\n",
       "      <td>1.589587e+09</td>\n",
       "      <td>www.100negocios.com</td>\n",
       "      <td>/</td>\n",
       "      <td>66.198.240.11</td>\n",
       "      <td>443</td>\n",
       "      <td>1.245</td>\n",
       "      <td>443.276</td>\n",
       "      <td>145.352</td>\n",
       "      <td>678.986</td>\n",
       "      <td>200.0</td>\n",
       "      <td>Q050</td>\n",
       "      <td>NaN</td>\n",
       "      <td>NaN</td>\n",
       "      <td>NaN</td>\n",
       "      <td>NaN</td>\n",
       "    </tr>\n",
       "    <tr>\n",
       "      <th>120</th>\n",
       "      <td>1.589587e+09</td>\n",
       "      <td>www.1-link.org</td>\n",
       "      <td>/</td>\n",
       "      <td>78.142.29.4</td>\n",
       "      <td>443</td>\n",
       "      <td>919.298</td>\n",
       "      <td>303.051</td>\n",
       "      <td>489.413</td>\n",
       "      <td>497.385</td>\n",
       "      <td>200.0</td>\n",
       "      <td>Q043</td>\n",
       "      <td>206349.0</td>\n",
       "      <td>BLUEANGELHOST - BlueAngelHost Pvt. Ltd</td>\n",
       "      <td>23.3333</td>\n",
       "      <td>42.7</td>\n",
       "    </tr>\n",
       "    <tr>\n",
       "      <th>121</th>\n",
       "      <td>1.589587e+09</td>\n",
       "      <td>www.1-link.org</td>\n",
       "      <td>/</td>\n",
       "      <td>78.142.29.4</td>\n",
       "      <td>443</td>\n",
       "      <td>0.387</td>\n",
       "      <td>290.396</td>\n",
       "      <td>480.100</td>\n",
       "      <td>489.235</td>\n",
       "      <td>200.0</td>\n",
       "      <td>Q046</td>\n",
       "      <td>206349.0</td>\n",
       "      <td>BLUEANGELHOST - BlueAngelHost Pvt. Ltd</td>\n",
       "      <td>23.3333</td>\n",
       "      <td>42.7</td>\n",
       "    </tr>\n",
       "  </tbody>\n",
       "</table>\n",
       "</div>"
      ],
      "text/plain": [
       "     TimeOfMeasurement                  Url Path             Ip Port  DNSTime  \\\n",
       "24        1.589587e+09  www.100negocios.com    /  66.198.240.11  443  131.700   \n",
       "25        1.589587e+09  www.100negocios.com    /  66.198.240.11  443    0.472   \n",
       "26        1.589587e+09  www.100negocios.com    /  66.198.240.11  443    1.245   \n",
       "120       1.589587e+09       www.1-link.org    /    78.142.29.4  443  919.298   \n",
       "121       1.589587e+09       www.1-link.org    /    78.142.29.4  443    0.387   \n",
       "\n",
       "     ConnectionEstablishmentTime     TTFB  TotalDownloadTime  HttpResponse  \\\n",
       "24                       442.924  146.515            660.393         200.0   \n",
       "25                       444.456  114.160            632.938         200.0   \n",
       "26                       443.276  145.352            678.986         200.0   \n",
       "120                      303.051  489.413            497.385         200.0   \n",
       "121                      290.396  480.100            489.235         200.0   \n",
       "\n",
       "    Protocol      ASNo                                  ASName      Lat   Lon  \n",
       "24      Q043       NaN                                     NaN      NaN   NaN  \n",
       "25      Q046       NaN                                     NaN      NaN   NaN  \n",
       "26      Q050       NaN                                     NaN      NaN   NaN  \n",
       "120     Q043  206349.0  BLUEANGELHOST - BlueAngelHost Pvt. Ltd  23.3333  42.7  \n",
       "121     Q046  206349.0  BLUEANGELHOST - BlueAngelHost Pvt. Ltd  23.3333  42.7  "
      ]
     },
     "execution_count": 120,
     "metadata": {},
     "output_type": "execute_result"
    }
   ],
   "source": [
    "quic4.head()"
   ]
  },
  {
   "cell_type": "code",
   "execution_count": 121,
   "metadata": {},
   "outputs": [
    {
     "data": {
      "text/plain": [
       "TimeOfMeasurement              0\n",
       "Url                            0\n",
       "Path                           0\n",
       "Ip                             0\n",
       "Port                           0\n",
       "DNSTime                        0\n",
       "ConnectionEstablishmentTime    0\n",
       "TTFB                           0\n",
       "TotalDownloadTime              0\n",
       "HttpResponse                   0\n",
       "Protocol                       0\n",
       "ASNo                           0\n",
       "ASName                         0\n",
       "Lat                            0\n",
       "Lon                            0\n",
       "dtype: int64"
      ]
     },
     "execution_count": 121,
     "metadata": {},
     "output_type": "execute_result"
    }
   ],
   "source": [
    "quic6.count()"
   ]
  },
  {
   "cell_type": "code",
   "execution_count": 122,
   "metadata": {
    "lines_to_next_cell": 2
   },
   "outputs": [
    {
     "data": {
      "text/html": [
       "<div>\n",
       "<style scoped>\n",
       "    .dataframe tbody tr th:only-of-type {\n",
       "        vertical-align: middle;\n",
       "    }\n",
       "\n",
       "    .dataframe tbody tr th {\n",
       "        vertical-align: top;\n",
       "    }\n",
       "\n",
       "    .dataframe thead th {\n",
       "        text-align: right;\n",
       "    }\n",
       "</style>\n",
       "<table border=\"1\" class=\"dataframe\">\n",
       "  <thead>\n",
       "    <tr style=\"text-align: right;\">\n",
       "      <th></th>\n",
       "      <th>TimeOfMeasurement</th>\n",
       "      <th>Url</th>\n",
       "      <th>Path</th>\n",
       "      <th>Ip</th>\n",
       "      <th>Port</th>\n",
       "      <th>DNSTime</th>\n",
       "      <th>ConnectionEstablishmentTime</th>\n",
       "      <th>TTFB</th>\n",
       "      <th>TotalDownloadTime</th>\n",
       "      <th>HttpResponse</th>\n",
       "      <th>Protocol</th>\n",
       "      <th>ASNo</th>\n",
       "      <th>ASName</th>\n",
       "      <th>Lat</th>\n",
       "      <th>Lon</th>\n",
       "    </tr>\n",
       "  </thead>\n",
       "  <tbody>\n",
       "  </tbody>\n",
       "</table>\n",
       "</div>"
      ],
      "text/plain": [
       "Empty DataFrame\n",
       "Columns: [TimeOfMeasurement, Url, Path, Ip, Port, DNSTime, ConnectionEstablishmentTime, TTFB, TotalDownloadTime, HttpResponse, Protocol, ASNo, ASName, Lat, Lon]\n",
       "Index: []"
      ]
     },
     "execution_count": 122,
     "metadata": {},
     "output_type": "execute_result"
    }
   ],
   "source": [
    "quic6.head()"
   ]
  },
  {
   "cell_type": "code",
   "execution_count": 123,
   "metadata": {},
   "outputs": [
    {
     "data": {
      "text/plain": [
       "ASNo      ASName                                   \n",
       "15169.0   GOOGLE - Google LLC                          459095\n",
       "15133.0   EDGECAST - MCI Communications Services        57155\n",
       "35415.0   WEBZILLA - Webzilla B.V.                       5289\n",
       "55293.0   A2HOSTING - A2 Hosting                         5054\n",
       "203226.0  IHCRU - Internet-Hosting Ltd                   4698\n",
       "                                                        ...  \n",
       "63408.0   SHOPIFYASN2 - Shopify                            56\n",
       "55720.0   GIGABIT-MY Gigabit Hosting Sdn Bhd               55\n",
       "43754.0   ASIATECH - Asiatech Data Transfer Inc PLC        52\n",
       "20473.0   AS-CHOOPA - Choopa                               30\n",
       "47748.0   DATICUM - Daticum JSC                            30\n",
       "Length: 86, dtype: int64"
      ]
     },
     "execution_count": 123,
     "metadata": {},
     "output_type": "execute_result"
    }
   ],
   "source": [
    "t.groupby(['ASNo', 'ASName']).size().sort_values(ascending=False)"
   ]
  },
  {
   "cell_type": "code",
   "execution_count": 124,
   "metadata": {},
   "outputs": [
    {
     "data": {
      "text/plain": [
       "ASNo      ASName                                   \n",
       "15169.0   GOOGLE - Google LLC                          459095\n",
       "15133.0   EDGECAST - MCI Communications Services        57155\n",
       "35415.0   WEBZILLA - Webzilla B.V.                       5289\n",
       "55293.0   A2HOSTING - A2 Hosting                         5054\n",
       "203226.0  IHCRU - Internet-Hosting Ltd                   4698\n",
       "                                                        ...  \n",
       "63408.0   SHOPIFYASN2 - Shopify                            56\n",
       "55720.0   GIGABIT-MY Gigabit Hosting Sdn Bhd               55\n",
       "43754.0   ASIATECH - Asiatech Data Transfer Inc PLC        52\n",
       "20473.0   AS-CHOOPA - Choopa                               30\n",
       "47748.0   DATICUM - Daticum JSC                            30\n",
       "Length: 86, dtype: int64"
      ]
     },
     "execution_count": 124,
     "metadata": {},
     "output_type": "execute_result"
    }
   ],
   "source": [
    "t.groupby(['ASNo', 'ASName']).size().sort_values(ascending=False)"
   ]
  },
  {
   "cell_type": "code",
   "execution_count": 125,
   "metadata": {},
   "outputs": [],
   "source": [
    "quic15169 = quic4.loc[t['ASNo'] == 15169]\n",
    "quic15133 = quic4.loc[t['ASNo'] == 15133]\n",
    "quic55293= quic4.loc[t['ASNo'] == 55293]\n",
    "quic35415 = quic4.loc[t['ASNo'] == 35415]\n",
    "quic203226 = quic4.loc[t['ASNo'] == 203226]"
   ]
  },
  {
   "cell_type": "code",
   "execution_count": 126,
   "metadata": {},
   "outputs": [
    {
     "data": {
      "text/plain": [
       "TimeOfMeasurement              43049\n",
       "Url                            43049\n",
       "Path                           43049\n",
       "Ip                             43049\n",
       "Port                           43049\n",
       "DNSTime                        43049\n",
       "ConnectionEstablishmentTime    43049\n",
       "TTFB                           43049\n",
       "TotalDownloadTime              43049\n",
       "HttpResponse                   43049\n",
       "Protocol                       43049\n",
       "ASNo                           43049\n",
       "ASName                         43049\n",
       "Lat                            43049\n",
       "Lon                            43049\n",
       "dtype: int64"
      ]
     },
     "execution_count": 126,
     "metadata": {},
     "output_type": "execute_result"
    }
   ],
   "source": [
    "quic15169.count()"
   ]
  },
  {
   "cell_type": "code",
   "execution_count": 127,
   "metadata": {},
   "outputs": [
    {
     "data": {
      "text/plain": [
       "TimeOfMeasurement              35065\n",
       "Url                            35065\n",
       "Path                           35065\n",
       "Ip                             35065\n",
       "Port                           35065\n",
       "DNSTime                        35065\n",
       "ConnectionEstablishmentTime    35065\n",
       "TTFB                           35065\n",
       "TotalDownloadTime              35065\n",
       "HttpResponse                   35065\n",
       "Protocol                       35065\n",
       "ASNo                           35065\n",
       "ASName                         35065\n",
       "Lat                            35065\n",
       "Lon                            35065\n",
       "dtype: int64"
      ]
     },
     "execution_count": 127,
     "metadata": {},
     "output_type": "execute_result"
    }
   ],
   "source": [
    "quic15133.count()"
   ]
  },
  {
   "cell_type": "code",
   "execution_count": 128,
   "metadata": {},
   "outputs": [
    {
     "data": {
      "text/plain": [
       "TimeOfMeasurement              35065\n",
       "Url                            35065\n",
       "Path                           35065\n",
       "Ip                             35065\n",
       "Port                           35065\n",
       "DNSTime                        35065\n",
       "ConnectionEstablishmentTime    35065\n",
       "TTFB                           35065\n",
       "TotalDownloadTime              35065\n",
       "HttpResponse                   35065\n",
       "Protocol                       35065\n",
       "ASNo                           35065\n",
       "ASName                         35065\n",
       "Lat                            35065\n",
       "Lon                            35065\n",
       "dtype: int64"
      ]
     },
     "execution_count": 128,
     "metadata": {},
     "output_type": "execute_result"
    }
   ],
   "source": [
    "quic15133.count()"
   ]
  },
  {
   "cell_type": "code",
   "execution_count": 129,
   "metadata": {},
   "outputs": [
    {
     "data": {
      "text/plain": [
       "TimeOfMeasurement              2858\n",
       "Url                            2858\n",
       "Path                           2858\n",
       "Ip                             2858\n",
       "Port                           2858\n",
       "DNSTime                        2858\n",
       "ConnectionEstablishmentTime    2858\n",
       "TTFB                           2858\n",
       "TotalDownloadTime              2858\n",
       "HttpResponse                   2858\n",
       "Protocol                       2858\n",
       "ASNo                           2858\n",
       "ASName                         2858\n",
       "Lat                            2858\n",
       "Lon                            2858\n",
       "dtype: int64"
      ]
     },
     "execution_count": 129,
     "metadata": {},
     "output_type": "execute_result"
    }
   ],
   "source": [
    "quic55293.count()"
   ]
  },
  {
   "cell_type": "code",
   "execution_count": 130,
   "metadata": {},
   "outputs": [
    {
     "data": {
      "text/plain": [
       "TimeOfMeasurement              1072\n",
       "Url                            1072\n",
       "Path                           1072\n",
       "Ip                             1072\n",
       "Port                           1072\n",
       "DNSTime                        1072\n",
       "ConnectionEstablishmentTime    1072\n",
       "TTFB                           1072\n",
       "TotalDownloadTime              1072\n",
       "HttpResponse                   1072\n",
       "Protocol                       1072\n",
       "ASNo                           1072\n",
       "ASName                         1072\n",
       "Lat                            1072\n",
       "Lon                            1072\n",
       "dtype: int64"
      ]
     },
     "execution_count": 130,
     "metadata": {},
     "output_type": "execute_result"
    }
   ],
   "source": [
    "quic35415.count()"
   ]
  },
  {
   "cell_type": "code",
   "execution_count": 131,
   "metadata": {},
   "outputs": [],
   "source": [
    "quic15169_6 = quic6.loc[t['ASNo'] == 15169]\n",
    "quic15133_6 = quic6.loc[t['ASNo'] == 15133]\n",
    "quic55293_6 = quic6.loc[t['ASNo'] == 55293]\n",
    "quic35415_6 = quic6.loc[t['ASNo'] == 35415]\n",
    "quic203226_6 = quic6.loc[t['ASNo'] == 203226]"
   ]
  },
  {
   "cell_type": "code",
   "execution_count": 132,
   "metadata": {},
   "outputs": [
    {
     "data": {
      "text/plain": [
       "TimeOfMeasurement              0\n",
       "Url                            0\n",
       "Path                           0\n",
       "Ip                             0\n",
       "Port                           0\n",
       "DNSTime                        0\n",
       "ConnectionEstablishmentTime    0\n",
       "TTFB                           0\n",
       "TotalDownloadTime              0\n",
       "HttpResponse                   0\n",
       "Protocol                       0\n",
       "ASNo                           0\n",
       "ASName                         0\n",
       "Lat                            0\n",
       "Lon                            0\n",
       "dtype: int64"
      ]
     },
     "execution_count": 132,
     "metadata": {},
     "output_type": "execute_result"
    }
   ],
   "source": [
    "quic15169_6.count()"
   ]
  },
  {
   "cell_type": "code",
   "execution_count": 133,
   "metadata": {},
   "outputs": [
    {
     "data": {
      "text/plain": [
       "TimeOfMeasurement              35065\n",
       "Url                            35065\n",
       "Path                           35065\n",
       "Ip                             35065\n",
       "Port                           35065\n",
       "DNSTime                        35065\n",
       "ConnectionEstablishmentTime    35065\n",
       "TTFB                           35065\n",
       "TotalDownloadTime              35065\n",
       "HttpResponse                   35065\n",
       "Protocol                       35065\n",
       "ASNo                           35065\n",
       "ASName                         35065\n",
       "Lat                            35065\n",
       "Lon                            35065\n",
       "dtype: int64"
      ]
     },
     "execution_count": 133,
     "metadata": {},
     "output_type": "execute_result"
    }
   ],
   "source": [
    "quic15133.count()"
   ]
  },
  {
   "cell_type": "code",
   "execution_count": 134,
   "metadata": {},
   "outputs": [],
   "source": [
    "x = Cdf.MakeCdfFromList(quic15169['ConnectionEstablishmentTime'].values)\n",
    "x1 =Cdf.MakeCdfFromList(quic15133['ConnectionEstablishmentTime'].values)\n",
    "x3 = Cdf.MakeCdfFromList(quic55293['ConnectionEstablishmentTime'].values)\n",
    "x4 = Cdf.MakeCdfFromList(quic35415['ConnectionEstablishmentTime'].values)\n",
    "x5 = Cdf.MakeCdfFromList(quic203226['ConnectionEstablishmentTime'].values)"
   ]
  },
  {
   "cell_type": "code",
   "execution_count": 135,
   "metadata": {},
   "outputs": [
    {
     "name": "stdout",
     "output_type": "stream",
     "text": [
      "-----------------------------\n",
      "\n",
      "percentile values distribution for quic15133\n",
      "\n",
      "50th Percentile:216.994000\n",
      "\n",
      "90th Percentile:219.767000\n",
      "\n",
      "99th Percentile:324.635000\n",
      "\n",
      "25th Percentile:215.392000\n",
      "\n",
      "75th Percentile:217.604000\n",
      "\n",
      "20th Percentile:216.994000\n",
      "\n",
      "40th Percentile:219.767000\n",
      "\n",
      "60th Percentile:324.635000\n",
      "\n",
      "80th Percentile:215.392000\n",
      "\n",
      "-----------------------------\n",
      "\n",
      "-----------------------------\n",
      "\n",
      "percentile values distribution for quic55293\n",
      "\n",
      "50th Percentile:436.704000\n",
      "\n",
      "90th Percentile:553.160000\n",
      "\n",
      "99th Percentile:563.713000\n",
      "\n",
      "25th Percentile:431.644000\n",
      "\n",
      "75th Percentile:445.476000\n",
      "\n",
      "20th Percentile:436.704000\n",
      "\n",
      "40th Percentile:553.160000\n",
      "\n",
      "60th Percentile:563.713000\n",
      "\n",
      "80th Percentile:431.644000\n",
      "\n",
      "-----------------------------\n",
      "\n",
      "-----------------------------\n",
      "\n",
      "percentile values distribution for quic35415\n",
      "\n",
      "50th Percentile:267.633000\n",
      "\n",
      "90th Percentile:278.097000\n",
      "\n",
      "99th Percentile:390.627000\n",
      "\n",
      "25th Percentile:261.063000\n",
      "\n",
      "75th Percentile:273.304000\n",
      "\n",
      "20th Percentile:267.633000\n",
      "\n",
      "40th Percentile:278.097000\n",
      "\n",
      "60th Percentile:390.627000\n",
      "\n",
      "80th Percentile:261.063000\n",
      "\n",
      "-----------------------------\n",
      "\n",
      "-----------------------------\n",
      "\n",
      "percentile values distribution for quic203226\n",
      "\n",
      "50th Percentile:334.092000\n",
      "\n",
      "90th Percentile:361.852000\n",
      "\n",
      "99th Percentile:905.283000\n",
      "\n",
      "25th Percentile:325.034000\n",
      "\n",
      "75th Percentile:338.613000\n",
      "\n",
      "20th Percentile:334.092000\n",
      "\n",
      "40th Percentile:361.852000\n",
      "\n",
      "60th Percentile:905.283000\n",
      "\n",
      "80th Percentile:325.034000\n",
      "\n",
      "-----------------------------\n",
      "\n",
      "-----------------------------\n",
      "\n",
      "percentile values distribution for quic15169\n",
      "\n",
      "50th Percentile:237.217000\n",
      "\n",
      "90th Percentile:242.183000\n",
      "\n",
      "99th Percentile:359.767000\n",
      "\n",
      "25th Percentile:234.882000\n",
      "\n",
      "75th Percentile:239.793000\n",
      "\n",
      "20th Percentile:237.217000\n",
      "\n",
      "40th Percentile:242.183000\n",
      "\n",
      "60th Percentile:359.767000\n",
      "\n",
      "80th Percentile:234.882000\n",
      "\n",
      "-----------------------------\n",
      "\n"
     ]
    }
   ],
   "source": [
    "print_percentiles(x1, 'quic15133')\n",
    "print_percentiles(x3, 'quic55293')\n",
    "print_percentiles(x4, 'quic35415')\n",
    "print_percentiles(x5, 'quic203226')\n",
    "print_percentiles(x, 'quic15169')"
   ]
  },
  {
   "cell_type": "code",
   "execution_count": 136,
   "metadata": {},
   "outputs": [
    {
     "name": "stderr",
     "output_type": "stream",
     "text": [
      "findfont: Font family ['monospace'] not found. Falling back to DejaVu Sans.\n",
      "findfont: Font family ['monospace'] not found. Falling back to DejaVu Sans.\n"
     ]
    },
    {
     "data": {
      "image/png": "[encoded data removed]",
      "text/plain": [
       "<Figure size 900x600 with 1 Axes>"
      ]
     },
     "metadata": {
      "needs_background": "light"
     },
     "output_type": "display_data"
    }
   ],
   "source": [
    "data = {'$\\\\bf{ASN}$': ['GOOGLE', 'EDGECAST', 'A2HOSTING', 'WEBZILLA', 'IHCRU'],\n",
    "\t'$\\\\bf{25th}$': [\"{:.2f}\".format(x.Percentile(25)), \"{:.2f}\".format(x1.Percentile(25)), \"{:.2f}\".format(x3.Percentile(25)), \"{:.2f}\".format(x4.Percentile(25)), \"{:.2f}\".format(x5.Percentile(25))],\n",
    "\t'$\\\\bf{50th}$': [\"{:.2f}\".format(x.Percentile(50)), \"{:.2f}\".format(x1.Percentile(50)), \"{:.2f}\".format(x3.Percentile(50)), \"{:.2f}\".format(x4.Percentile(50)), \"{:.2f}\".format(x5.Percentile(50))],\n",
    "\t'$\\\\bf{75th}$': [\"{:.2f}\".format(x.Percentile(75)), \"{:.2f}\".format(x1.Percentile(75)), \"{:.2f}\".format(x3.Percentile(75)), \"{:.2f}\".format(x4.Percentile(75)), \"{:.2f}\".format(x5.Percentile(75))],\n",
    "\t'$\\\\bf{80th}$': [\"{:.2f}\".format(x.Percentile(80)), \"{:.2f}\".format(x1.Percentile(80)), \"{:.2f}\".format(x3.Percentile(80)), \"{:.2f}\".format(x4.Percentile(80)), \"{:.2f}\".format(x5.Percentile(80))],\n",
    "    '$\\\\bf{90th}$': [\"{:.2f}\".format(x.Percentile(90)), \"{:.2f}\".format(x1.Percentile(90)), \"{:.2f}\".format(x3.Percentile(90)), \"{:.2f}\".format(x4.Percentile(90)), \"{:.2f}\".format(x5.Percentile(90))]\n",
    "        }    \n",
    "\n",
    "df_percentile = pd.DataFrame(data)\n",
    "\n",
    "fig, ax = plt.subplots(dpi=150)\n",
    "\n",
    " #hide axes\n",
    "fig.patch.set_visible(False)\n",
    "ax.axis('off')\n",
    "ax.axis('tight')\n",
    "\n",
    "ax.table(cellText=df_percentile.values, colLabels=df_percentile.columns, loc='center', cellLoc='center')\n",
    "\n",
    "#fig.tight_layout()\n",
    "plt.savefig('./AWS/Bahrain/ASN/handshake_times_IPv4_asno_percentile.png', format='png', bbox_inches='tight')\n"
   ]
  },
  {
   "cell_type": "code",
   "execution_count": 137,
   "metadata": {},
   "outputs": [],
   "source": [
    "write_percentiles('quic15133.csv', x1)\n",
    "write_percentiles('quic55293.csv', x3)\n",
    "write_percentiles('quic35415.csv', x4)\n",
    "write_percentiles('quic203226.csv', x5)\n",
    "write_percentiles('quic15169.csv', x)"
   ]
  },
  {
   "cell_type": "code",
   "execution_count": 138,
   "metadata": {
    "scrolled": false
   },
   "outputs": [
    {
     "data": {
      "image/png": "[encoded data removed]",
      "text/plain": [
       "<Figure size 720x216 with 2 Axes>"
      ]
     },
     "metadata": {
      "needs_background": "light"
     },
     "output_type": "display_data"
    }
   ],
   "source": [
    "fig = plt.figure(figsize = (10,3))\n",
    "plt.rcParams['font.size'] = 12\n",
    "ax = plt.gca()\n",
    "yticks = np.arange(0,1.1,0.2)\n",
    "\n",
    "#15169\n",
    "plt.plot(x.xs, x.ps, marker='s', linewidth=0.3, markersize=5, fillstyle='none', color = 'orange')\n",
    "#15133\n",
    "plt.plot(x1.xs, x1.ps, marker='s', linewidth=0.3, markersize=5, fillstyle='none', color = 'red')\n",
    "#55293\n",
    "plt.plot(x3.xs, x3.ps, marker='s', linewidth=0.3, markersize=5, fillstyle='none', color = 'green')\n",
    "#35415\n",
    "plt.plot(x4.xs, x4.ps, marker='s', linewidth=0.3, markersize=5, fillstyle='none', color = 'black')\n",
    "#203226\n",
    "plt.plot(x5.xs, x5.ps, marker='s', linewidth=0.3, markersize=5, fillstyle='none', color = 'blue')\n",
    "\n",
    "\n",
    "\n",
    "ax = fig.axes[0]\n",
    "ax.grid(False)\n",
    "ax.set_yticks(yticks)\n",
    "ax.set_ylim([0,1.05])\n",
    "##ax.set_xlim([20,100])\n",
    "ax.set_xscale('log')\n",
    "ax.set_xlabel('latency (x-axis is cut)', fontsize=12)\n",
    "ax.set_ylabel('CDF', fontsize=12)\n",
    "\n",
    "plt.legend(['GOOGLE', 'EDGECAST', 'A2Hosting', 'Webzilla', 'IHCRU'], fontsize=11, loc='best')\n",
    "\n",
    "ax.spines['right'].set_color('none')\n",
    "ax.spines['top'].set_color('none')\n",
    "ax.yaxis.set_ticks_position('left')\n",
    "ax.xaxis.set_ticks_position('bottom')\n",
    "ax.spines['bottom'].set_position(('axes', -0.05))\n",
    "ax.spines['left'].set_position(('axes', -0.05))\n",
    "\n",
    "ax3 = ax.twinx()\n",
    "ax3.spines['right'].set_color('none')\n",
    "ax3.spines['top'].set_color('none')\n",
    "ax3.spines['left'].set_color('none')\n",
    "ax3.spines['bottom'].set_color('none')\n",
    "ax3.yaxis.set_ticks_position('none')\n",
    "plt.setp(ax3.get_yticklabels(), visible=False)\n",
    "\n",
    "plt.title('Handshake Times with IPv4', fontsize=12, y=1.05)\n",
    "plt.savefig('./AWS/Bahrain/ASN/handshake_times_IPv4_asno.png', format='png', bbox_inches='tight')\n"
   ]
  },
  {
   "cell_type": "code",
   "execution_count": null,
   "metadata": {},
   "outputs": [],
   "source": []
  },
  {
   "cell_type": "code",
   "execution_count": 139,
   "metadata": {},
   "outputs": [],
   "source": [
    "x = Cdf.MakeCdfFromList(quic15169['TTFB'].values)\n",
    "x1 =Cdf.MakeCdfFromList(quic15133['TTFB'].values)\n",
    "x3 = Cdf.MakeCdfFromList(quic55293['TTFB'].values)\n",
    "x4 = Cdf.MakeCdfFromList(quic35415['TTFB'].values)\n",
    "x5 = Cdf.MakeCdfFromList(quic203226['TTFB'].values)"
   ]
  },
  {
   "cell_type": "code",
   "execution_count": 140,
   "metadata": {},
   "outputs": [
    {
     "name": "stdout",
     "output_type": "stream",
     "text": [
      "-----------------------------\n",
      "\n",
      "percentile values distribution for quic15133\n",
      "\n",
      "50th Percentile:380.407000\n",
      "\n",
      "90th Percentile:715.127000\n",
      "\n",
      "99th Percentile:973.548000\n",
      "\n",
      "25th Percentile:324.433000\n",
      "\n",
      "75th Percentile:506.016000\n",
      "\n",
      "20th Percentile:380.407000\n",
      "\n",
      "40th Percentile:715.127000\n",
      "\n",
      "60th Percentile:973.548000\n",
      "\n",
      "80th Percentile:324.433000\n",
      "\n",
      "-----------------------------\n",
      "\n",
      "-----------------------------\n",
      "\n",
      "percentile values distribution for quic55293\n",
      "\n",
      "50th Percentile:657.004000\n",
      "\n",
      "90th Percentile:829.301000\n",
      "\n",
      "99th Percentile:845.087000\n",
      "\n",
      "25th Percentile:646.900000\n",
      "\n",
      "75th Percentile:676.522000\n",
      "\n",
      "20th Percentile:657.004000\n",
      "\n",
      "40th Percentile:829.301000\n",
      "\n",
      "60th Percentile:845.087000\n",
      "\n",
      "80th Percentile:646.900000\n",
      "\n",
      "-----------------------------\n",
      "\n",
      "-----------------------------\n",
      "\n",
      "percentile values distribution for quic35415\n",
      "\n",
      "50th Percentile:409.981000\n",
      "\n",
      "90th Percentile:462.353000\n",
      "\n",
      "99th Percentile:676.732000\n",
      "\n",
      "25th Percentile:400.115000\n",
      "\n",
      "75th Percentile:438.214000\n",
      "\n",
      "20th Percentile:409.981000\n",
      "\n",
      "40th Percentile:462.353000\n",
      "\n",
      "60th Percentile:676.732000\n",
      "\n",
      "80th Percentile:400.115000\n",
      "\n",
      "-----------------------------\n",
      "\n",
      "-----------------------------\n",
      "\n",
      "percentile values distribution for quic203226\n",
      "\n",
      "50th Percentile:509.986000\n",
      "\n",
      "90th Percentile:765.777000\n",
      "\n",
      "99th Percentile:927.246000\n",
      "\n",
      "25th Percentile:495.272000\n",
      "\n",
      "75th Percentile:548.793000\n",
      "\n",
      "20th Percentile:509.986000\n",
      "\n",
      "40th Percentile:765.777000\n",
      "\n",
      "60th Percentile:927.246000\n",
      "\n",
      "80th Percentile:495.272000\n",
      "\n",
      "-----------------------------\n",
      "\n",
      "-----------------------------\n",
      "\n",
      "percentile values distribution for quic15169\n",
      "\n",
      "50th Percentile:399.510000\n",
      "\n",
      "90th Percentile:499.239000\n",
      "\n",
      "99th Percentile:789.002000\n",
      "\n",
      "25th Percentile:393.343000\n",
      "\n",
      "75th Percentile:411.776000\n",
      "\n",
      "20th Percentile:399.510000\n",
      "\n",
      "40th Percentile:499.239000\n",
      "\n",
      "60th Percentile:789.002000\n",
      "\n",
      "80th Percentile:393.343000\n",
      "\n",
      "-----------------------------\n",
      "\n"
     ]
    }
   ],
   "source": [
    "print_percentiles(x1, 'quic15133')\n",
    "print_percentiles(x3, 'quic55293')\n",
    "print_percentiles(x4, 'quic35415')\n",
    "print_percentiles(x5, 'quic203226')\n",
    "print_percentiles(x, 'quic15169')"
   ]
  },
  {
   "cell_type": "code",
   "execution_count": 141,
   "metadata": {},
   "outputs": [],
   "source": [
    "write_percentiles('quic15133.csv', x1)\n",
    "write_percentiles('quic55293.csv', x3)\n",
    "write_percentiles('quic35415.csv', x4)\n",
    "write_percentiles('quic203226.csv', x5)\n",
    "write_percentiles('quic15169.csv', x)"
   ]
  },
  {
   "cell_type": "code",
   "execution_count": 142,
   "metadata": {},
   "outputs": [
    {
     "name": "stderr",
     "output_type": "stream",
     "text": [
      "findfont: Font family ['monospace'] not found. Falling back to DejaVu Sans.\n",
      "findfont: Font family ['monospace'] not found. Falling back to DejaVu Sans.\n"
     ]
    },
    {
     "data": {
      "image/png": "[encoded data removed]",
      "text/plain": [
       "<Figure size 900x600 with 1 Axes>"
      ]
     },
     "metadata": {
      "needs_background": "light"
     },
     "output_type": "display_data"
    }
   ],
   "source": [
    "data = {'$\\\\bf{ASN}$': ['GOOGLE', 'EDGECAST', 'A2HOSTING', 'WEBZILLA', 'IHCRU'],\n",
    "\t'$\\\\bf{25th}$': [\"{:.2f}\".format(x.Percentile(25)), \"{:.2f}\".format(x1.Percentile(25)), \"{:.2f}\".format(x3.Percentile(25)), \"{:.2f}\".format(x4.Percentile(25)), \"{:.2f}\".format(x5.Percentile(25))],\n",
    "\t'$\\\\bf{50th}$': [\"{:.2f}\".format(x.Percentile(50)), \"{:.2f}\".format(x1.Percentile(50)), \"{:.2f}\".format(x3.Percentile(50)), \"{:.2f}\".format(x4.Percentile(50)), \"{:.2f}\".format(x5.Percentile(50))],\n",
    "\t'$\\\\bf{75th}$': [\"{:.2f}\".format(x.Percentile(75)), \"{:.2f}\".format(x1.Percentile(75)), \"{:.2f}\".format(x3.Percentile(75)), \"{:.2f}\".format(x4.Percentile(75)), \"{:.2f}\".format(x5.Percentile(75))],\n",
    "\t'$\\\\bf{80th}$': [\"{:.2f}\".format(x.Percentile(80)), \"{:.2f}\".format(x1.Percentile(80)), \"{:.2f}\".format(x3.Percentile(80)), \"{:.2f}\".format(x4.Percentile(80)), \"{:.2f}\".format(x5.Percentile(80))],\n",
    "    '$\\\\bf{90th}$': [\"{:.2f}\".format(x.Percentile(90)), \"{:.2f}\".format(x1.Percentile(90)), \"{:.2f}\".format(x3.Percentile(90)), \"{:.2f}\".format(x4.Percentile(90)), \"{:.2f}\".format(x5.Percentile(90))]\n",
    "        }    \n",
    "\n",
    "df_percentile = pd.DataFrame(data)\n",
    "\n",
    "fig, ax = plt.subplots(dpi=150)\n",
    "\n",
    " #hide axes\n",
    "fig.patch.set_visible(False)\n",
    "ax.axis('off')\n",
    "ax.axis('tight')\n",
    "\n",
    "ax.table(cellText=df_percentile.values, colLabels=df_percentile.columns, loc='center', cellLoc='center')\n",
    "\n",
    "#fig.tight_layout()\n",
    "plt.savefig('./AWS/Bahrain/ASN/TTFB_ipv4_asno_percentile.png', format='png', bbox_inches='tight')"
   ]
  },
  {
   "cell_type": "code",
   "execution_count": 143,
   "metadata": {},
   "outputs": [
    {
     "data": {
      "image/png": "[encoded data removed]",
      "text/plain": [
       "<Figure size 720x216 with 2 Axes>"
      ]
     },
     "metadata": {
      "needs_background": "light"
     },
     "output_type": "display_data"
    }
   ],
   "source": [
    "fig = plt.figure(figsize = (10,3))\n",
    "plt.rcParams['font.size'] = 12\n",
    "ax = plt.gca()\n",
    "yticks = np.arange(0,1.1,0.2)\n",
    "\n",
    "#15169\n",
    "plt.plot(x.xs, x.ps, marker='s', linewidth=0.3, markersize=5, fillstyle='none', color = 'orange')\n",
    "#15133\n",
    "plt.plot(x1.xs, x1.ps, marker='s', linewidth=0.3, markersize=5, fillstyle='none', color = 'red')\n",
    "#55293\n",
    "plt.plot(x3.xs, x3.ps, marker='s', linewidth=0.3, markersize=5, fillstyle='none', color = 'green')\n",
    "#35415\n",
    "plt.plot(x4.xs, x4.ps, marker='s', linewidth=0.3, markersize=5, fillstyle='none', color = 'black')\n",
    "#203226\n",
    "plt.plot(x5.xs, x5.ps, marker='s', linewidth=0.3, markersize=5, fillstyle='none', color = 'blue')\n",
    "\n",
    "\n",
    "ax = fig.axes[0]\n",
    "ax.grid(False)\n",
    "ax.set_yticks(yticks)\n",
    "ax.set_ylim([0,1.05])\n",
    "#ax.set_xlim([20,1000])\n",
    "ax.set_xscale('log')\n",
    "ax.set_xlabel('TTFB', fontsize=12)\n",
    "ax.set_ylabel('CDF', fontsize=12)\n",
    "\n",
    "plt.legend(['GOOGLE', 'EDGECAST', 'A2Hosting', 'Webzilla', 'IHCRU'], fontsize=11, loc='best')\n",
    "\n",
    "ax.spines['right'].set_color('none')\n",
    "ax.spines['top'].set_color('none')\n",
    "ax.yaxis.set_ticks_position('left')\n",
    "ax.xaxis.set_ticks_position('bottom')\n",
    "ax.spines['bottom'].set_position(('axes', -0.05))\n",
    "ax.spines['left'].set_position(('axes', -0.05))\n",
    "\n",
    "ax3 = ax.twinx()\n",
    "ax3.spines['right'].set_color('none')\n",
    "ax3.spines['top'].set_color('none')\n",
    "ax3.spines['left'].set_color('none')\n",
    "ax3.spines['bottom'].set_color('none')\n",
    "ax3.yaxis.set_ticks_position('none')\n",
    "plt.setp(ax3.get_yticklabels(), visible=False)\n",
    "\n",
    "plt.title('TTFB with IPv4', fontsize=12, y=1.05)\n",
    "plt.savefig('./AWS/Bahrain/ASN/TTFB_ipv4_asno.png', format='png', bbox_inches='tight')"
   ]
  },
  {
   "cell_type": "code",
   "execution_count": 144,
   "metadata": {},
   "outputs": [],
   "source": [
    "x = Cdf.MakeCdfFromList(quic15169['TotalDownloadTime'].values)\n",
    "x1 =Cdf.MakeCdfFromList(quic15133['TotalDownloadTime'].values)\n",
    "x3 = Cdf.MakeCdfFromList(quic55293['TotalDownloadTime'].values)\n",
    "x4 = Cdf.MakeCdfFromList(quic35415['TotalDownloadTime'].values)\n",
    "x5 = Cdf.MakeCdfFromList(quic203226['TotalDownloadTime'].values)"
   ]
  },
  {
   "cell_type": "code",
   "execution_count": 145,
   "metadata": {},
   "outputs": [
    {
     "name": "stdout",
     "output_type": "stream",
     "text": [
      "-----------------------------\n",
      "\n",
      "percentile values distribution for quic15133\n",
      "\n",
      "50th Percentile:564.895000\n",
      "\n",
      "90th Percentile:794.085000\n",
      "\n",
      "99th Percentile:982.796000\n",
      "\n",
      "25th Percentile:458.454000\n",
      "\n",
      "75th Percentile:691.919000\n",
      "\n",
      "20th Percentile:564.895000\n",
      "\n",
      "40th Percentile:794.085000\n",
      "\n",
      "60th Percentile:982.796000\n",
      "\n",
      "80th Percentile:458.454000\n",
      "\n",
      "-----------------------------\n",
      "\n",
      "-----------------------------\n",
      "\n",
      "percentile values distribution for quic55293\n",
      "\n",
      "50th Percentile:673.328000\n",
      "\n",
      "90th Percentile:951.506000\n",
      "\n",
      "99th Percentile:995.781000\n",
      "\n",
      "25th Percentile:646.470000\n",
      "\n",
      "75th Percentile:893.666000\n",
      "\n",
      "20th Percentile:673.328000\n",
      "\n",
      "40th Percentile:951.506000\n",
      "\n",
      "60th Percentile:995.781000\n",
      "\n",
      "80th Percentile:646.470000\n",
      "\n",
      "-----------------------------\n",
      "\n",
      "-----------------------------\n",
      "\n",
      "percentile values distribution for quic35415\n",
      "\n",
      "50th Percentile:484.144000\n",
      "\n",
      "90th Percentile:594.220000\n",
      "\n",
      "99th Percentile:742.936000\n",
      "\n",
      "25th Percentile:407.565000\n",
      "\n",
      "75th Percentile:567.374000\n",
      "\n",
      "20th Percentile:484.144000\n",
      "\n",
      "40th Percentile:594.220000\n",
      "\n",
      "60th Percentile:742.936000\n",
      "\n",
      "80th Percentile:407.565000\n",
      "\n",
      "-----------------------------\n",
      "\n",
      "-----------------------------\n",
      "\n",
      "percentile values distribution for quic203226\n",
      "\n",
      "50th Percentile:513.480000\n",
      "\n",
      "90th Percentile:609.656000\n",
      "\n",
      "99th Percentile:930.364000\n",
      "\n",
      "25th Percentile:493.482000\n",
      "\n",
      "75th Percentile:551.820000\n",
      "\n",
      "20th Percentile:513.480000\n",
      "\n",
      "40th Percentile:609.656000\n",
      "\n",
      "60th Percentile:930.364000\n",
      "\n",
      "80th Percentile:493.482000\n",
      "\n",
      "-----------------------------\n",
      "\n",
      "-----------------------------\n",
      "\n",
      "percentile values distribution for quic15169\n",
      "\n",
      "50th Percentile:400.495000\n",
      "\n",
      "90th Percentile:514.619000\n",
      "\n",
      "99th Percentile:905.162000\n",
      "\n",
      "25th Percentile:394.369000\n",
      "\n",
      "75th Percentile:417.401000\n",
      "\n",
      "20th Percentile:400.495000\n",
      "\n",
      "40th Percentile:514.619000\n",
      "\n",
      "60th Percentile:905.162000\n",
      "\n",
      "80th Percentile:394.369000\n",
      "\n",
      "-----------------------------\n",
      "\n"
     ]
    }
   ],
   "source": [
    "print_percentiles(x1, 'quic15133')\n",
    "print_percentiles(x3, 'quic55293')\n",
    "print_percentiles(x4, 'quic35415')\n",
    "print_percentiles(x5, 'quic203226')\n",
    "print_percentiles(x, 'quic15169')"
   ]
  },
  {
   "cell_type": "code",
   "execution_count": 146,
   "metadata": {},
   "outputs": [],
   "source": [
    "write_percentiles('quic15133.csv', x1)\n",
    "write_percentiles('quic55293.csv', x3)\n",
    "write_percentiles('quic35415.csv', x4)\n",
    "write_percentiles('quic203226.csv', x5)\n",
    "write_percentiles('quic15169.csv', x)"
   ]
  },
  {
   "cell_type": "code",
   "execution_count": 147,
   "metadata": {},
   "outputs": [
    {
     "name": "stderr",
     "output_type": "stream",
     "text": [
      "findfont: Font family ['monospace'] not found. Falling back to DejaVu Sans.\n",
      "findfont: Font family ['monospace'] not found. Falling back to DejaVu Sans.\n"
     ]
    },
    {
     "data": {
      "image/png": "[encoded data removed]",
      "text/plain": [
       "<Figure size 900x600 with 1 Axes>"
      ]
     },
     "metadata": {
      "needs_background": "light"
     },
     "output_type": "display_data"
    }
   ],
   "source": [
    "data = {'$\\\\bf{ASN}$': ['GOOGLE', 'EDGECAST', 'A2HOSTING', 'WEBZILLA', 'IHCRU'],\n",
    "\t'$\\\\bf{25th}$': [\"{:.2f}\".format(x.Percentile(25)), \"{:.2f}\".format(x1.Percentile(25)), \"{:.2f}\".format(x3.Percentile(25)), \"{:.2f}\".format(x4.Percentile(25)), \"{:.2f}\".format(x5.Percentile(25))],\n",
    "\t'$\\\\bf{50th}$': [\"{:.2f}\".format(x.Percentile(50)), \"{:.2f}\".format(x1.Percentile(50)), \"{:.2f}\".format(x3.Percentile(50)), \"{:.2f}\".format(x4.Percentile(50)), \"{:.2f}\".format(x5.Percentile(50))],\n",
    "\t'$\\\\bf{75th}$': [\"{:.2f}\".format(x.Percentile(75)), \"{:.2f}\".format(x1.Percentile(75)), \"{:.2f}\".format(x3.Percentile(75)), \"{:.2f}\".format(x4.Percentile(75)), \"{:.2f}\".format(x5.Percentile(75))],\n",
    "\t'$\\\\bf{80th}$': [\"{:.2f}\".format(x.Percentile(80)), \"{:.2f}\".format(x1.Percentile(80)), \"{:.2f}\".format(x3.Percentile(80)), \"{:.2f}\".format(x4.Percentile(80)), \"{:.2f}\".format(x5.Percentile(80))],\n",
    "    '$\\\\bf{90th}$': [\"{:.2f}\".format(x.Percentile(90)), \"{:.2f}\".format(x1.Percentile(90)), \"{:.2f}\".format(x3.Percentile(90)), \"{:.2f}\".format(x4.Percentile(90)), \"{:.2f}\".format(x5.Percentile(90))]\n",
    "        }    \n",
    "\n",
    "df_percentile = pd.DataFrame(data)\n",
    "\n",
    "fig, ax = plt.subplots(dpi=150)\n",
    "\n",
    " #hide axes\n",
    "fig.patch.set_visible(False)\n",
    "ax.axis('off')\n",
    "ax.axis('tight')\n",
    "\n",
    "ax.table(cellText=df_percentile.values, colLabels=df_percentile.columns, loc='center', cellLoc='center')\n",
    "\n",
    "#fig.tight_layout()\n",
    "plt.savefig('./AWS/Bahrain/ASN/TotalDownloadTime_ipv4_asno_percentile.png', format='png', bbox_inches='tight')"
   ]
  },
  {
   "cell_type": "code",
   "execution_count": 148,
   "metadata": {},
   "outputs": [
    {
     "data": {
      "image/png": "[encoded data removed]",
      "text/plain": [
       "<Figure size 720x216 with 2 Axes>"
      ]
     },
     "metadata": {
      "needs_background": "light"
     },
     "output_type": "display_data"
    }
   ],
   "source": [
    "fig = plt.figure(figsize = (10,3))\n",
    "plt.rcParams['font.size'] = 12\n",
    "ax = plt.gca()\n",
    "yticks = np.arange(0,1.1,0.2)\n",
    "\n",
    "#15169\n",
    "plt.plot(x.xs, x.ps, marker='s', linewidth=0.3, markersize=5, fillstyle='none', color = 'orange')\n",
    "#15133\n",
    "plt.plot(x1.xs, x1.ps, marker='s', linewidth=0.3, markersize=5, fillstyle='none', color = 'red')\n",
    "#55293\n",
    "plt.plot(x3.xs, x3.ps, marker='s', linewidth=0.3, markersize=5, fillstyle='none', color = 'green')\n",
    "#35415\n",
    "plt.plot(x4.xs, x4.ps, marker='s', linewidth=0.3, markersize=5, fillstyle='none', color = 'black')\n",
    "#203226\n",
    "plt.plot(x5.xs, x5.ps, marker='s', linewidth=0.3, markersize=5, fillstyle='none', color = 'blue')\n",
    "\n",
    "\n",
    "ax = fig.axes[0]\n",
    "ax.grid(False)\n",
    "ax.set_yticks(yticks)\n",
    "ax.set_ylim([0,1.05])\n",
    "#ax.set_xlim([20,1000])\n",
    "ax.set_xscale('log')\n",
    "ax.set_xlabel('TotalDownloadTime', fontsize=12)\n",
    "ax.set_ylabel('CDF', fontsize=12)\n",
    "\n",
    "plt.legend(['GOOGLE', 'EDGECAST', 'A2Hosting', 'Webzilla', 'IHCRU'], fontsize=11, loc='best')\n",
    "\n",
    "ax.spines['right'].set_color('none')\n",
    "ax.spines['top'].set_color('none')\n",
    "ax.yaxis.set_ticks_position('left')\n",
    "ax.xaxis.set_ticks_position('bottom')\n",
    "ax.spines['bottom'].set_position(('axes', -0.05))\n",
    "ax.spines['left'].set_position(('axes', -0.05))\n",
    "\n",
    "ax3 = ax.twinx()\n",
    "ax3.spines['right'].set_color('none')\n",
    "ax3.spines['top'].set_color('none')\n",
    "ax3.spines['left'].set_color('none')\n",
    "ax3.spines['bottom'].set_color('none')\n",
    "ax3.yaxis.set_ticks_position('none')\n",
    "plt.setp(ax3.get_yticklabels(), visible=False)\n",
    "\n",
    "plt.title('TotalDownloadTime with IPv4', fontsize=12, y=1.05)\n",
    "plt.savefig('./AWS/Bahrain/ASN/TotalDownloadTime_ipv4_asno.png', format='png', bbox_inches='tight')"
   ]
  },
  {
   "cell_type": "code",
   "execution_count": 149,
   "metadata": {},
   "outputs": [],
   "source": [
    "#GOOGLE\n",
    "quic46 = quic15169.loc[t['Protocol'] == 'Q046']\n",
    "quic43 = quic15169.loc[t['Protocol'] == 'Q043']\n",
    "quic50 = quic15169.loc[t['Protocol'] == 'Q050']\n",
    "quich24 = quic15169.loc[t['Protocol'] == 'FF000018']"
   ]
  },
  {
   "cell_type": "code",
   "execution_count": 150,
   "metadata": {},
   "outputs": [],
   "source": [
    "x = Cdf.MakeCdfFromList(quic43['ConnectionEstablishmentTime'].values)\n",
    "x1 =Cdf.MakeCdfFromList(quic46['ConnectionEstablishmentTime'].values)\n",
    "x3 = Cdf.MakeCdfFromList(quic50['ConnectionEstablishmentTime'].values)\n",
    "x5 = Cdf.MakeCdfFromList(quich24['ConnectionEstablishmentTime'].values)"
   ]
  },
  {
   "cell_type": "code",
   "execution_count": 151,
   "metadata": {},
   "outputs": [
    {
     "name": "stdout",
     "output_type": "stream",
     "text": [
      "-----------------------------\n",
      "\n",
      "percentile values distribution for Q046\n",
      "\n",
      "50th Percentile:237.156000\n",
      "\n",
      "90th Percentile:242.235000\n",
      "\n",
      "99th Percentile:362.978000\n",
      "\n",
      "25th Percentile:234.823000\n",
      "\n",
      "75th Percentile:239.795000\n",
      "\n",
      "20th Percentile:237.156000\n",
      "\n",
      "40th Percentile:242.235000\n",
      "\n",
      "60th Percentile:362.978000\n",
      "\n",
      "80th Percentile:234.823000\n",
      "\n",
      "-----------------------------\n",
      "\n",
      "-----------------------------\n",
      "\n",
      "percentile values distribution for Q050\n",
      "\n",
      "50th Percentile:237.273000\n",
      "\n",
      "90th Percentile:242.225000\n",
      "\n",
      "99th Percentile:359.479000\n",
      "\n",
      "25th Percentile:235.002000\n",
      "\n",
      "75th Percentile:239.812000\n",
      "\n",
      "20th Percentile:237.273000\n",
      "\n",
      "40th Percentile:242.225000\n",
      "\n",
      "60th Percentile:359.479000\n",
      "\n",
      "80th Percentile:235.002000\n",
      "\n",
      "-----------------------------\n",
      "\n",
      "-----------------------------\n",
      "\n",
      "percentile values distribution for Q043\n",
      "\n",
      "50th Percentile:237.225000\n",
      "\n",
      "90th Percentile:242.116000\n",
      "\n",
      "99th Percentile:357.360000\n",
      "\n",
      "25th Percentile:234.815000\n",
      "\n",
      "75th Percentile:239.771000\n",
      "\n",
      "20th Percentile:237.225000\n",
      "\n",
      "40th Percentile:242.116000\n",
      "\n",
      "60th Percentile:357.360000\n",
      "\n",
      "80th Percentile:234.815000\n",
      "\n",
      "-----------------------------\n",
      "\n"
     ]
    }
   ],
   "source": [
    "print_percentiles(x1, 'Q046')\n",
    "print_percentiles(x3, 'Q050')\n",
    "#print_percentiles(x5, 'h24')\n",
    "print_percentiles(x, 'Q043')"
   ]
  },
  {
   "cell_type": "code",
   "execution_count": 152,
   "metadata": {},
   "outputs": [
    {
     "name": "stderr",
     "output_type": "stream",
     "text": [
      "findfont: Font family ['monospace'] not found. Falling back to DejaVu Sans.\n"
     ]
    },
    {
     "data": {
      "image/png": "[encoded data removed]",
      "text/plain": [
       "<Figure size 900x600 with 1 Axes>"
      ]
     },
     "metadata": {
      "needs_background": "light"
     },
     "output_type": "display_data"
    }
   ],
   "source": [
    "data = {'$\\\\bf{Protocol}$': ['Q043', 'Q046', 'Q050'],\n",
    "\t'$\\\\bf{25th}$': [\"{:.2f}\".format(x.Percentile(25)), \"{:.2f}\".format(x1.Percentile(25)), \"{:.2f}\".format(x3.Percentile(25))],\n",
    "\t'$\\\\bf{50th}$': [\"{:.2f}\".format(x.Percentile(50)), \"{:.2f}\".format(x1.Percentile(50)), \"{:.2f}\".format(x3.Percentile(50))],\n",
    "\t'$\\\\bf{75th}$': [\"{:.2f}\".format(x.Percentile(75)), \"{:.2f}\".format(x1.Percentile(75)), \"{:.2f}\".format(x3.Percentile(75))],\n",
    "\t'$\\\\bf{80th}$': [\"{:.2f}\".format(x.Percentile(80)), \"{:.2f}\".format(x1.Percentile(80)), \"{:.2f}\".format(x3.Percentile(80))],\n",
    "    '$\\\\bf{90th}$': [\"{:.2f}\".format(x.Percentile(90)), \"{:.2f}\".format(x1.Percentile(90)), \"{:.2f}\".format(x3.Percentile(90))]\n",
    "        }    \n",
    "\n",
    "df_percentile = pd.DataFrame(data)\n",
    "\n",
    "fig, ax = plt.subplots(dpi=150)\n",
    "\n",
    " #hide axes\n",
    "fig.patch.set_visible(False)\n",
    "ax.axis('off')\n",
    "ax.axis('tight')\n",
    "\n",
    "ax.table(cellText=df_percentile.values, colLabels=df_percentile.columns, loc='center', cellLoc='center')\n",
    "\n",
    "#fig.tight_layout()\n",
    "plt.savefig('./AWS/Bahrain/ASN/handshake_times_ipv4_asn15169_percentile.png', format='png', bbox_inches='tight')"
   ]
  },
  {
   "cell_type": "code",
   "execution_count": 153,
   "metadata": {},
   "outputs": [
    {
     "data": {
      "image/png": "[encoded data removed]",
      "text/plain": [
       "<Figure size 720x216 with 2 Axes>"
      ]
     },
     "metadata": {
      "needs_background": "light"
     },
     "output_type": "display_data"
    }
   ],
   "source": [
    "fig = plt.figure(figsize = (10,3))\n",
    "plt.rcParams['font.size'] = 12\n",
    "ax = plt.gca()\n",
    "yticks = np.arange(0,1.1,0.2)\n",
    "\n",
    "#Q043\n",
    "plt.plot(x.xs, x.ps, marker='s', linewidth=0.3, markersize=5, fillstyle='none', color = 'orange')\n",
    "#Q046\n",
    "plt.plot(x1.xs, x1.ps, marker='s', linewidth=0.3, markersize=5, fillstyle='none', color = 'red')\n",
    "#Q050\n",
    "plt.plot(x3.xs, x3.ps, marker='s', linewidth=0.3, markersize=5, fillstyle='none', color = 'green')\n",
    "#Qh24\n",
    "plt.plot(x5.xs, x5.ps, marker='s', linewidth=0.3, markersize=5, fillstyle='none', color = 'blue')\n",
    "\n",
    "\n",
    "\n",
    "ax = fig.axes[0]\n",
    "ax.grid(False)\n",
    "ax.set_yticks(yticks)\n",
    "ax.set_ylim([0,1.05])\n",
    "#ax.set_xlim([20,100])\n",
    "ax.set_xscale('log')\n",
    "ax.set_xlabel('latency (x-axis is cut)', fontsize=12)\n",
    "ax.set_ylabel('CDF', fontsize=12)\n",
    "\n",
    "plt.legend(['Q043', 'Q046', 'Q050', 'IETF h-24'] , fontsize=11, loc='best')\n",
    "\n",
    "ax.spines['right'].set_color('none')\n",
    "ax.spines['top'].set_color('none')\n",
    "ax.yaxis.set_ticks_position('left')\n",
    "ax.xaxis.set_ticks_position('bottom')\n",
    "ax.spines['bottom'].set_position(('axes', -0.05))\n",
    "ax.spines['left'].set_position(('axes', -0.05))\n",
    "\n",
    "ax3 = ax.twinx()\n",
    "ax3.spines['right'].set_color('none')\n",
    "ax3.spines['top'].set_color('none')\n",
    "ax3.spines['left'].set_color('none')\n",
    "ax3.spines['bottom'].set_color('none')\n",
    "ax3.yaxis.set_ticks_position('none')\n",
    "plt.setp(ax3.get_yticklabels(), visible=False)\n",
    "\n",
    "plt.title('Handshake Times with IPv4', fontsize=12, y=1.05)\n",
    "plt.savefig('./AWS/Bahrain/ASN/handshake_times_ipv4_asn15169.png', format='png', bbox_inches='tight')\n"
   ]
  },
  {
   "cell_type": "code",
   "execution_count": 154,
   "metadata": {},
   "outputs": [],
   "source": [
    "x = Cdf.MakeCdfFromList(quic43['TTFB'].values)\n",
    "x1 =Cdf.MakeCdfFromList(quic46['TTFB'].values)\n",
    "x3 = Cdf.MakeCdfFromList(quic50['TTFB'].values)\n",
    "x5 = Cdf.MakeCdfFromList(quich24['TTFB'].values)"
   ]
  },
  {
   "cell_type": "code",
   "execution_count": 155,
   "metadata": {
    "lines_to_next_cell": 2
   },
   "outputs": [
    {
     "name": "stdout",
     "output_type": "stream",
     "text": [
      "-----------------------------\n",
      "\n",
      "percentile values distribution for Q046\n",
      "\n",
      "50th Percentile:399.131000\n",
      "\n",
      "90th Percentile:497.392000\n",
      "\n",
      "99th Percentile:779.226000\n",
      "\n",
      "25th Percentile:392.878000\n",
      "\n",
      "75th Percentile:410.004000\n",
      "\n",
      "20th Percentile:399.131000\n",
      "\n",
      "40th Percentile:497.392000\n",
      "\n",
      "60th Percentile:779.226000\n",
      "\n",
      "80th Percentile:392.878000\n",
      "\n",
      "-----------------------------\n",
      "\n",
      "-----------------------------\n",
      "\n",
      "percentile values distribution for Q050\n",
      "\n",
      "50th Percentile:399.168000\n",
      "\n",
      "90th Percentile:495.939000\n",
      "\n",
      "99th Percentile:784.728000\n",
      "\n",
      "25th Percentile:392.848000\n",
      "\n",
      "75th Percentile:410.054000\n",
      "\n",
      "20th Percentile:399.168000\n",
      "\n",
      "40th Percentile:495.939000\n",
      "\n",
      "60th Percentile:784.728000\n",
      "\n",
      "80th Percentile:392.848000\n",
      "\n",
      "-----------------------------\n",
      "\n",
      "-----------------------------\n",
      "\n",
      "percentile values distribution for Q043\n",
      "\n",
      "50th Percentile:400.342000\n",
      "\n",
      "90th Percentile:504.689000\n",
      "\n",
      "99th Percentile:809.664000\n",
      "\n",
      "25th Percentile:394.258000\n",
      "\n",
      "75th Percentile:416.684000\n",
      "\n",
      "20th Percentile:400.342000\n",
      "\n",
      "40th Percentile:504.689000\n",
      "\n",
      "60th Percentile:809.664000\n",
      "\n",
      "80th Percentile:394.258000\n",
      "\n",
      "-----------------------------\n",
      "\n"
     ]
    }
   ],
   "source": [
    "print_percentiles(x1, 'Q046')\n",
    "print_percentiles(x3, 'Q050')\n",
    "#print_percentiles(x5, 'h24')\n",
    "print_percentiles(x, 'Q043')"
   ]
  },
  {
   "cell_type": "code",
   "execution_count": 156,
   "metadata": {},
   "outputs": [
    {
     "name": "stderr",
     "output_type": "stream",
     "text": [
      "findfont: Font family ['monospace'] not found. Falling back to DejaVu Sans.\n"
     ]
    },
    {
     "data": {
      "image/png": "[encoded data removed]",
      "text/plain": [
       "<Figure size 900x600 with 1 Axes>"
      ]
     },
     "metadata": {
      "needs_background": "light"
     },
     "output_type": "display_data"
    }
   ],
   "source": [
    "data = {'$\\\\bf{Protocol}$': ['Q043', 'Q046', 'Q050'],\n",
    "\t'$\\\\bf{25th}$': [\"{:.2f}\".format(x.Percentile(25)), \"{:.2f}\".format(x1.Percentile(25)), \"{:.2f}\".format(x3.Percentile(25))],\n",
    "\t'$\\\\bf{50th}$': [\"{:.2f}\".format(x.Percentile(50)), \"{:.2f}\".format(x1.Percentile(50)), \"{:.2f}\".format(x3.Percentile(50))],\n",
    "\t'$\\\\bf{75th}$': [\"{:.2f}\".format(x.Percentile(75)), \"{:.2f}\".format(x1.Percentile(75)), \"{:.2f}\".format(x3.Percentile(75))],\n",
    "\t'$\\\\bf{80th}$': [\"{:.2f}\".format(x.Percentile(80)), \"{:.2f}\".format(x1.Percentile(80)), \"{:.2f}\".format(x3.Percentile(80))],\n",
    "    '$\\\\bf{90th}$': [\"{:.2f}\".format(x.Percentile(90)), \"{:.2f}\".format(x1.Percentile(90)), \"{:.2f}\".format(x3.Percentile(90))]\n",
    "        }   \n",
    "\n",
    "df_percentile = pd.DataFrame(data)\n",
    "\n",
    "fig, ax = plt.subplots(dpi=150)\n",
    "\n",
    " #hide axes\n",
    "fig.patch.set_visible(False)\n",
    "ax.axis('off')\n",
    "ax.axis('tight')\n",
    "\n",
    "ax.table(cellText=df_percentile.values, colLabels=df_percentile.columns, loc='center', cellLoc='center')\n",
    "\n",
    "#fig.tight_layout()\n",
    "plt.savefig('./AWS/Bahrain/ASN/handshake_times_ipv4_asn15169_percentile.png', format='png', bbox_inches='tight')"
   ]
  },
  {
   "cell_type": "code",
   "execution_count": 157,
   "metadata": {},
   "outputs": [
    {
     "data": {
      "image/png": "[encoded data removed]",
      "text/plain": [
       "<Figure size 720x216 with 2 Axes>"
      ]
     },
     "metadata": {
      "needs_background": "light"
     },
     "output_type": "display_data"
    }
   ],
   "source": [
    "fig = plt.figure(figsize = (10,3))\n",
    "plt.rcParams['font.size'] = 12\n",
    "ax = plt.gca()\n",
    "yticks = np.arange(0,1.1,0.2)\n",
    "\n",
    "#Q043\n",
    "plt.plot(x.xs, x.ps, marker='s', linewidth=0.3, markersize=5, fillstyle='none', color = 'orange')\n",
    "#Q046\n",
    "plt.plot(x1.xs, x1.ps, marker='s', linewidth=0.3, markersize=5, fillstyle='none', color = 'red')\n",
    "#Q050\n",
    "plt.plot(x3.xs, x3.ps, marker='s', linewidth=0.3, markersize=5, fillstyle='none', color = 'green')\n",
    "#h24\n",
    "#plt.plot(x5.xs, x5.ps, marker='s', linewidth=0.3, markersize=5, fillstyle='none', color = 'blue')\n",
    "\n",
    "\n",
    "\n",
    "ax = fig.axes[0]\n",
    "ax.grid(False)\n",
    "ax.set_yticks(yticks)\n",
    "ax.set_ylim([0,1.05])\n",
    "#ax.set_xlim([20,1000])\n",
    "ax.set_xscale('log')\n",
    "ax.set_xlabel('TTFB', fontsize=12)\n",
    "ax.set_ylabel('CDF', fontsize=12)\n",
    "\n",
    "plt.legend(['Q043', 'Q046', 'Q050'] , fontsize=11, loc='best')\n",
    "\n",
    "ax.spines['right'].set_color('none')\n",
    "ax.spines['top'].set_color('none')\n",
    "ax.yaxis.set_ticks_position('left')\n",
    "ax.xaxis.set_ticks_position('bottom')\n",
    "ax.spines['bottom'].set_position(('axes', -0.05))\n",
    "ax.spines['left'].set_position(('axes', -0.05))\n",
    "\n",
    "ax3 = ax.twinx()\n",
    "ax3.spines['right'].set_color('none')\n",
    "ax3.spines['top'].set_color('none')\n",
    "ax3.spines['left'].set_color('none')\n",
    "ax3.spines['bottom'].set_color('none')\n",
    "ax3.yaxis.set_ticks_position('none')\n",
    "plt.setp(ax3.get_yticklabels(), visible=False)\n",
    "\n",
    "plt.title('TTFB', fontsize=12, y=1.05)\n",
    "plt.savefig('./AWS/Bahrain/ASN/TTFB_ipv4_asn15169.png', format='png', bbox_inches='tight')\n"
   ]
  },
  {
   "cell_type": "code",
   "execution_count": 158,
   "metadata": {},
   "outputs": [],
   "source": [
    "x = Cdf.MakeCdfFromList(quic43['TotalDownloadTime'].values)\n",
    "x1 =Cdf.MakeCdfFromList(quic46['TotalDownloadTime'].values)\n",
    "x3 = Cdf.MakeCdfFromList(quic50['TotalDownloadTime'].values)\n",
    "x5 = Cdf.MakeCdfFromList(quich24['TotalDownloadTime'].values)"
   ]
  },
  {
   "cell_type": "code",
   "execution_count": 159,
   "metadata": {},
   "outputs": [
    {
     "name": "stdout",
     "output_type": "stream",
     "text": [
      "-----------------------------\n",
      "\n",
      "percentile values distribution for Q046\n",
      "\n",
      "50th Percentile:400.017000\n",
      "\n",
      "90th Percentile:512.532000\n",
      "\n",
      "99th Percentile:900.218000\n",
      "\n",
      "25th Percentile:393.868000\n",
      "\n",
      "75th Percentile:414.358000\n",
      "\n",
      "20th Percentile:400.017000\n",
      "\n",
      "40th Percentile:512.532000\n",
      "\n",
      "60th Percentile:900.218000\n",
      "\n",
      "80th Percentile:393.868000\n",
      "\n",
      "-----------------------------\n",
      "\n",
      "-----------------------------\n",
      "\n",
      "percentile values distribution for Q050\n",
      "\n",
      "50th Percentile:400.081000\n",
      "\n",
      "90th Percentile:509.756000\n",
      "\n",
      "99th Percentile:906.145000\n",
      "\n",
      "25th Percentile:393.903000\n",
      "\n",
      "75th Percentile:414.398000\n",
      "\n",
      "20th Percentile:400.081000\n",
      "\n",
      "40th Percentile:509.756000\n",
      "\n",
      "60th Percentile:906.145000\n",
      "\n",
      "80th Percentile:393.903000\n",
      "\n",
      "-----------------------------\n",
      "\n",
      "-----------------------------\n",
      "\n",
      "percentile values distribution for Q043\n",
      "\n",
      "50th Percentile:401.428000\n",
      "\n",
      "90th Percentile:521.820000\n",
      "\n",
      "99th Percentile:906.122000\n",
      "\n",
      "25th Percentile:395.292000\n",
      "\n",
      "75th Percentile:437.040000\n",
      "\n",
      "20th Percentile:401.428000\n",
      "\n",
      "40th Percentile:521.820000\n",
      "\n",
      "60th Percentile:906.122000\n",
      "\n",
      "80th Percentile:395.292000\n",
      "\n",
      "-----------------------------\n",
      "\n"
     ]
    }
   ],
   "source": [
    "print_percentiles(x1, 'Q046')\n",
    "print_percentiles(x3, 'Q050')\n",
    "#print_percentiles(x5, 'h24')\n",
    "print_percentiles(x, 'Q043')"
   ]
  },
  {
   "cell_type": "code",
   "execution_count": 160,
   "metadata": {},
   "outputs": [
    {
     "name": "stderr",
     "output_type": "stream",
     "text": [
      "findfont: Font family ['monospace'] not found. Falling back to DejaVu Sans.\n"
     ]
    },
    {
     "data": {
      "image/png": "[encoded data removed]",
      "text/plain": [
       "<Figure size 900x600 with 1 Axes>"
      ]
     },
     "metadata": {
      "needs_background": "light"
     },
     "output_type": "display_data"
    }
   ],
   "source": [
    "data = {'$\\\\bf{Protocol}$': ['Q043', 'Q046', 'Q050'],\n",
    "\t'$\\\\bf{25th}$': [\"{:.2f}\".format(x.Percentile(25)), \"{:.2f}\".format(x1.Percentile(25)), \"{:.2f}\".format(x3.Percentile(25))],\n",
    "\t'$\\\\bf{50th}$': [\"{:.2f}\".format(x.Percentile(50)), \"{:.2f}\".format(x1.Percentile(50)), \"{:.2f}\".format(x3.Percentile(50))],\n",
    "\t'$\\\\bf{75th}$': [\"{:.2f}\".format(x.Percentile(75)), \"{:.2f}\".format(x1.Percentile(75)), \"{:.2f}\".format(x3.Percentile(75))],\n",
    "\t'$\\\\bf{80th}$': [\"{:.2f}\".format(x.Percentile(80)), \"{:.2f}\".format(x1.Percentile(80)), \"{:.2f}\".format(x3.Percentile(80))],\n",
    "    '$\\\\bf{90th}$': [\"{:.2f}\".format(x.Percentile(90)), \"{:.2f}\".format(x1.Percentile(90)), \"{:.2f}\".format(x3.Percentile(90))]\n",
    "        }   \n",
    "\n",
    "df_percentile = pd.DataFrame(data)\n",
    "\n",
    "fig, ax = plt.subplots(dpi=150)\n",
    "\n",
    " #hide axes\n",
    "fig.patch.set_visible(False)\n",
    "ax.axis('off')\n",
    "ax.axis('tight')\n",
    "\n",
    "ax.table(cellText=df_percentile.values, colLabels=df_percentile.columns, loc='center', cellLoc='center')\n",
    "\n",
    "#fig.tight_layout()\n",
    "plt.savefig('./AWS/Bahrain/ASN/total_download_time_ipv4_asn15169_percentile.png', format='png', bbox_inches='tight')"
   ]
  },
  {
   "cell_type": "code",
   "execution_count": 161,
   "metadata": {},
   "outputs": [
    {
     "data": {
      "image/png": "[encoded data removed]",
      "text/plain": [
       "<Figure size 720x216 with 2 Axes>"
      ]
     },
     "metadata": {
      "needs_background": "light"
     },
     "output_type": "display_data"
    }
   ],
   "source": [
    "fig = plt.figure(figsize = (10,3))\n",
    "plt.rcParams['font.size'] = 12\n",
    "ax = plt.gca()\n",
    "yticks = np.arange(0,1.1,0.2)\n",
    "\n",
    "#Q043\n",
    "plt.plot(x.xs, x.ps, marker='s', linewidth=0.3, markersize=5, fillstyle='none', color = 'orange')\n",
    "#Q046\n",
    "plt.plot(x1.xs, x1.ps, marker='s', linewidth=0.3, markersize=5, fillstyle='none', color = 'red')\n",
    "#Q050\n",
    "plt.plot(x3.xs, x3.ps, marker='s', linewidth=0.3, markersize=5, fillstyle='none', color = 'green')\n",
    "#h24\n",
    "#plt.plot(x5.xs, x5.ps, marker='s', linewidth=0.3, markersize=5, fillstyle='none', color = 'blue')\n",
    "\n",
    "\n",
    "\n",
    "ax = fig.axes[0]\n",
    "ax.grid(False)\n",
    "ax.set_yticks(yticks)\n",
    "ax.set_ylim([0,1.05])\n",
    "#ax.set_xlim([20,1000])\n",
    "ax.set_xscale('log')\n",
    "ax.set_xlabel('TotalDownloadTime', fontsize=12)\n",
    "ax.set_ylabel('CDF', fontsize=12)\n",
    "\n",
    "plt.legend(['Q043', 'Q046', 'Q050'] , fontsize=11, loc='best')\n",
    "\n",
    "ax.spines['right'].set_color('none')\n",
    "ax.spines['top'].set_color('none')\n",
    "ax.yaxis.set_ticks_position('left')\n",
    "ax.xaxis.set_ticks_position('bottom')\n",
    "ax.spines['bottom'].set_position(('axes', -0.05))\n",
    "ax.spines['left'].set_position(('axes', -0.05))\n",
    "\n",
    "ax3 = ax.twinx()\n",
    "ax3.spines['right'].set_color('none')\n",
    "ax3.spines['top'].set_color('none')\n",
    "ax3.spines['left'].set_color('none')\n",
    "ax3.spines['bottom'].set_color('none')\n",
    "ax3.yaxis.set_ticks_position('none')\n",
    "plt.setp(ax3.get_yticklabels(), visible=False)\n",
    "\n",
    "plt.title('Total Download Time', fontsize=12, y=1.05)\n",
    "plt.savefig('./AWS/Bahrain/ASN/total_download_time_ipv4_asn15169.png', format='png', bbox_inches='tight')\n"
   ]
  },
  {
   "cell_type": "code",
   "execution_count": 162,
   "metadata": {},
   "outputs": [],
   "source": [
    "#Edgecast\n",
    "quic44 = quic15133.loc[t['Protocol'] == 'Q046']\n",
    "quic43 = quic15133.loc[t['Protocol'] == 'Q043']\n",
    "quic39 = quic15133.loc[t['Protocol'] == 'Q050']\n",
    "quic35 = quic15133.loc[t['Protocol'] == 'FF000018']"
   ]
  },
  {
   "cell_type": "code",
   "execution_count": 163,
   "metadata": {},
   "outputs": [],
   "source": [
    "x = Cdf.MakeCdfFromList(quic43['ConnectionEstablishmentTime'].values)\n",
    "x1 =Cdf.MakeCdfFromList(quic46['ConnectionEstablishmentTime'].values)\n",
    "x3 = Cdf.MakeCdfFromList(quic50['ConnectionEstablishmentTime'].values)\n",
    "x5 = Cdf.MakeCdfFromList(quich24['ConnectionEstablishmentTime'].values)"
   ]
  },
  {
   "cell_type": "code",
   "execution_count": 164,
   "metadata": {},
   "outputs": [
    {
     "name": "stdout",
     "output_type": "stream",
     "text": [
      "-----------------------------\n",
      "\n",
      "percentile values distribution for Q046\n",
      "\n",
      "50th Percentile:237.156000\n",
      "\n",
      "90th Percentile:242.235000\n",
      "\n",
      "99th Percentile:362.978000\n",
      "\n",
      "25th Percentile:234.823000\n",
      "\n",
      "75th Percentile:239.795000\n",
      "\n",
      "20th Percentile:237.156000\n",
      "\n",
      "40th Percentile:242.235000\n",
      "\n",
      "60th Percentile:362.978000\n",
      "\n",
      "80th Percentile:234.823000\n",
      "\n",
      "-----------------------------\n",
      "\n",
      "-----------------------------\n",
      "\n",
      "percentile values distribution for Q050\n",
      "\n",
      "50th Percentile:237.273000\n",
      "\n",
      "90th Percentile:242.225000\n",
      "\n",
      "99th Percentile:359.479000\n",
      "\n",
      "25th Percentile:235.002000\n",
      "\n",
      "75th Percentile:239.812000\n",
      "\n",
      "20th Percentile:237.273000\n",
      "\n",
      "40th Percentile:242.225000\n",
      "\n",
      "60th Percentile:359.479000\n",
      "\n",
      "80th Percentile:235.002000\n",
      "\n",
      "-----------------------------\n",
      "\n",
      "-----------------------------\n",
      "\n",
      "percentile values distribution for Q043\n",
      "\n",
      "50th Percentile:217.012000\n",
      "\n",
      "90th Percentile:219.767000\n",
      "\n",
      "99th Percentile:324.704000\n",
      "\n",
      "25th Percentile:215.407000\n",
      "\n",
      "75th Percentile:217.631000\n",
      "\n",
      "20th Percentile:217.012000\n",
      "\n",
      "40th Percentile:219.767000\n",
      "\n",
      "60th Percentile:324.704000\n",
      "\n",
      "80th Percentile:215.407000\n",
      "\n",
      "-----------------------------\n",
      "\n"
     ]
    }
   ],
   "source": [
    "print_percentiles(x1, 'Q046')\n",
    "print_percentiles(x3, 'Q050')\n",
    "#print_percentiles(x5, 'h24')\n",
    "print_percentiles(x, 'Q043')"
   ]
  },
  {
   "cell_type": "code",
   "execution_count": 165,
   "metadata": {},
   "outputs": [
    {
     "name": "stderr",
     "output_type": "stream",
     "text": [
      "findfont: Font family ['monospace'] not found. Falling back to DejaVu Sans.\n"
     ]
    },
    {
     "data": {
      "image/png": "[encoded data removed]",
      "text/plain": [
       "<Figure size 900x600 with 1 Axes>"
      ]
     },
     "metadata": {
      "needs_background": "light"
     },
     "output_type": "display_data"
    }
   ],
   "source": [
    "data = {'$\\\\bf{Protocol}$': ['Q043', 'Q046', 'Q050'],\n",
    "\t'$\\\\bf{25th}$': [\"{:.2f}\".format(x.Percentile(25)), \"{:.2f}\".format(x1.Percentile(25)), \"{:.2f}\".format(x3.Percentile(25))],\n",
    "\t'$\\\\bf{50th}$': [\"{:.2f}\".format(x.Percentile(50)), \"{:.2f}\".format(x1.Percentile(50)), \"{:.2f}\".format(x3.Percentile(50))],\n",
    "\t'$\\\\bf{75th}$': [\"{:.2f}\".format(x.Percentile(75)), \"{:.2f}\".format(x1.Percentile(75)), \"{:.2f}\".format(x3.Percentile(75))],\n",
    "\t'$\\\\bf{80th}$': [\"{:.2f}\".format(x.Percentile(80)), \"{:.2f}\".format(x1.Percentile(80)), \"{:.2f}\".format(x3.Percentile(80))],\n",
    "    '$\\\\bf{90th}$': [\"{:.2f}\".format(x.Percentile(90)), \"{:.2f}\".format(x1.Percentile(90)), \"{:.2f}\".format(x3.Percentile(90))]\n",
    "        }   \n",
    "\n",
    "df_percentile = pd.DataFrame(data)\n",
    "\n",
    "fig, ax = plt.subplots(dpi=150)\n",
    "\n",
    " #hide axes\n",
    "fig.patch.set_visible(False)\n",
    "ax.axis('off')\n",
    "ax.axis('tight')\n",
    "\n",
    "ax.table(cellText=df_percentile.values, colLabels=df_percentile.columns, loc='center', cellLoc='center')\n",
    "\n",
    "#fig.tight_layout()\n",
    "plt.savefig('./AWS/Bahrain/ASN/handshake_times_ipv4_asn15133_percentile.png', format='png', bbox_inches='tight')"
   ]
  },
  {
   "cell_type": "code",
   "execution_count": 166,
   "metadata": {},
   "outputs": [
    {
     "data": {
      "image/png": "[encoded data removed]",
      "text/plain": [
       "<Figure size 720x216 with 2 Axes>"
      ]
     },
     "metadata": {
      "needs_background": "light"
     },
     "output_type": "display_data"
    }
   ],
   "source": [
    "fig = plt.figure(figsize = (10,3))\n",
    "plt.rcParams['font.size'] = 12\n",
    "ax = plt.gca()\n",
    "yticks = np.arange(0,1.1,0.2)\n",
    "\n",
    "#Q043\n",
    "plt.plot(x.xs, x.ps, marker='s', linewidth=0.3, markersize=5, fillstyle='none', color = 'orange')\n",
    "#Q046\n",
    "plt.plot(x1.xs, x1.ps, marker='s', linewidth=0.3, markersize=5, fillstyle='none', color = 'red')\n",
    "#Q050\n",
    "plt.plot(x3.xs, x3.ps, marker='s', linewidth=0.3, markersize=5, fillstyle='none', color = 'green')\n",
    "#h24\n",
    "#plt.plot(x5.xs, x5.ps, marker='s', linewidth=0.3, markersize=5, fillstyle='none', color = 'blue')\n",
    "\n",
    "\n",
    "\n",
    "ax = fig.axes[0]\n",
    "ax.grid(False)\n",
    "ax.set_yticks(yticks)\n",
    "ax.set_ylim([0,1.05])\n",
    "#ax.set_xlim([20,100])\n",
    "ax.set_xscale('log')\n",
    "ax.set_xlabel('latency (x-axis is cut)', fontsize=12)\n",
    "ax.set_ylabel('CDF', fontsize=12)\n",
    "\n",
    "plt.legend(['Q043', 'Q046', 'Q050'] , fontsize=11, loc='best')\n",
    "\n",
    "ax.spines['right'].set_color('none')\n",
    "ax.spines['top'].set_color('none')\n",
    "ax.yaxis.set_ticks_position('left')\n",
    "ax.xaxis.set_ticks_position('bottom')\n",
    "ax.spines['bottom'].set_position(('axes', -0.05))\n",
    "ax.spines['left'].set_position(('axes', -0.05))\n",
    "\n",
    "ax3 = ax.twinx()\n",
    "ax3.spines['right'].set_color('none')\n",
    "ax3.spines['top'].set_color('none')\n",
    "ax3.spines['left'].set_color('none')\n",
    "ax3.spines['bottom'].set_color('none')\n",
    "ax3.yaxis.set_ticks_position('none')\n",
    "plt.setp(ax3.get_yticklabels(), visible=False)\n",
    "\n",
    "plt.title('Handshake Times with IPv4', fontsize=12, y=1.05)\n",
    "plt.savefig('./AWS/Bahrain/ASN/handshake_times_ipv4_asn15133.png', format='png', bbox_inches='tight')\n"
   ]
  },
  {
   "cell_type": "code",
   "execution_count": 167,
   "metadata": {},
   "outputs": [],
   "source": [
    "x = Cdf.MakeCdfFromList(quic43['TTFB'].values)\n",
    "x1 =Cdf.MakeCdfFromList(quic46['TTFB'].values)\n",
    "x3 = Cdf.MakeCdfFromList(quic50['TTFB'].values)\n",
    "x5 = Cdf.MakeCdfFromList(quich24['TTFB'].values)"
   ]
  },
  {
   "cell_type": "code",
   "execution_count": 168,
   "metadata": {
    "lines_to_next_cell": 2
   },
   "outputs": [
    {
     "name": "stdout",
     "output_type": "stream",
     "text": [
      "-----------------------------\n",
      "\n",
      "percentile values distribution for Q046\n",
      "\n",
      "50th Percentile:399.131000\n",
      "\n",
      "90th Percentile:497.392000\n",
      "\n",
      "99th Percentile:779.226000\n",
      "\n",
      "25th Percentile:392.878000\n",
      "\n",
      "75th Percentile:410.004000\n",
      "\n",
      "20th Percentile:399.131000\n",
      "\n",
      "40th Percentile:497.392000\n",
      "\n",
      "60th Percentile:779.226000\n",
      "\n",
      "80th Percentile:392.878000\n",
      "\n",
      "-----------------------------\n",
      "\n",
      "-----------------------------\n",
      "\n",
      "percentile values distribution for Q050\n",
      "\n",
      "50th Percentile:399.168000\n",
      "\n",
      "90th Percentile:495.939000\n",
      "\n",
      "99th Percentile:784.728000\n",
      "\n",
      "25th Percentile:392.848000\n",
      "\n",
      "75th Percentile:410.054000\n",
      "\n",
      "20th Percentile:399.168000\n",
      "\n",
      "40th Percentile:495.939000\n",
      "\n",
      "60th Percentile:784.728000\n",
      "\n",
      "80th Percentile:392.848000\n",
      "\n",
      "-----------------------------\n",
      "\n",
      "-----------------------------\n",
      "\n",
      "percentile values distribution for Q043\n",
      "\n",
      "50th Percentile:427.846000\n",
      "\n",
      "90th Percentile:796.242000\n",
      "\n",
      "99th Percentile:983.399000\n",
      "\n",
      "25th Percentile:327.712000\n",
      "\n",
      "75th Percentile:542.393000\n",
      "\n",
      "20th Percentile:427.846000\n",
      "\n",
      "40th Percentile:796.242000\n",
      "\n",
      "60th Percentile:983.399000\n",
      "\n",
      "80th Percentile:327.712000\n",
      "\n",
      "-----------------------------\n",
      "\n"
     ]
    }
   ],
   "source": [
    "print_percentiles(x1, 'Q046')\n",
    "print_percentiles(x3, 'Q050')\n",
    "#print_percentiles(x5, 'h24')\n",
    "print_percentiles(x, 'Q043')"
   ]
  },
  {
   "cell_type": "code",
   "execution_count": 169,
   "metadata": {},
   "outputs": [
    {
     "name": "stderr",
     "output_type": "stream",
     "text": [
      "findfont: Font family ['monospace'] not found. Falling back to DejaVu Sans.\n"
     ]
    },
    {
     "data": {
      "image/png": "[encoded data removed]",
      "text/plain": [
       "<Figure size 900x600 with 1 Axes>"
      ]
     },
     "metadata": {
      "needs_background": "light"
     },
     "output_type": "display_data"
    }
   ],
   "source": [
    "data = {'$\\\\bf{Protocol}$': ['Q043', 'Q046', 'Q050'],\n",
    "\t'$\\\\bf{25th}$': [\"{:.2f}\".format(x.Percentile(25)), \"{:.2f}\".format(x1.Percentile(25)), \"{:.2f}\".format(x3.Percentile(25))],\n",
    "\t'$\\\\bf{50th}$': [\"{:.2f}\".format(x.Percentile(50)), \"{:.2f}\".format(x1.Percentile(50)), \"{:.2f}\".format(x3.Percentile(50))],\n",
    "\t'$\\\\bf{75th}$': [\"{:.2f}\".format(x.Percentile(75)), \"{:.2f}\".format(x1.Percentile(75)), \"{:.2f}\".format(x3.Percentile(75))],\n",
    "\t'$\\\\bf{80th}$': [\"{:.2f}\".format(x.Percentile(80)), \"{:.2f}\".format(x1.Percentile(80)), \"{:.2f}\".format(x3.Percentile(80))],\n",
    "    '$\\\\bf{90th}$': [\"{:.2f}\".format(x.Percentile(90)), \"{:.2f}\".format(x1.Percentile(90)), \"{:.2f}\".format(x3.Percentile(90))]\n",
    "        }   \n",
    "\n",
    "df_percentile = pd.DataFrame(data)\n",
    "\n",
    "fig, ax = plt.subplots(dpi=150)\n",
    "\n",
    " #hide axes\n",
    "fig.patch.set_visible(False)\n",
    "ax.axis('off')\n",
    "ax.axis('tight')\n",
    "\n",
    "ax.table(cellText=df_percentile.values, colLabels=df_percentile.columns, loc='center', cellLoc='center')\n",
    "\n",
    "#fig.tight_layout()\n",
    "plt.savefig('./AWS/Bahrain/ASN/TTFB_ipv4_asn15133_percentile.png', format='png', bbox_inches='tight')\n"
   ]
  },
  {
   "cell_type": "code",
   "execution_count": 170,
   "metadata": {},
   "outputs": [
    {
     "data": {
      "image/png": "[encoded data removed]",
      "text/plain": [
       "<Figure size 720x216 with 2 Axes>"
      ]
     },
     "metadata": {
      "needs_background": "light"
     },
     "output_type": "display_data"
    }
   ],
   "source": [
    "fig = plt.figure(figsize = (10,3))\n",
    "plt.rcParams['font.size'] = 12\n",
    "ax = plt.gca()\n",
    "yticks = np.arange(0,1.1,0.2)\n",
    "\n",
    "#Q043\n",
    "plt.plot(x.xs, x.ps, marker='s', linewidth=0.3, markersize=5, fillstyle='none', color = 'orange')\n",
    "#Q046\n",
    "plt.plot(x1.xs, x1.ps, marker='s', linewidth=0.3, markersize=5, fillstyle='none', color = 'red')\n",
    "#Q050\n",
    "plt.plot(x3.xs, x3.ps, marker='s', linewidth=0.3, markersize=5, fillstyle='none', color = 'green')\n",
    "#h4\n",
    "plt.plot(x5.xs, x5.ps, marker='s', linewidth=0.3, markersize=5, fillstyle='none', color = 'blue')\n",
    "\n",
    "\n",
    "\n",
    "ax = fig.axes[0]\n",
    "ax.grid(False)\n",
    "ax.set_yticks(yticks)\n",
    "ax.set_ylim([0,1.05])\n",
    "#ax.set_xlim([20,1000])\n",
    "ax.set_xscale('log')\n",
    "ax.set_xlabel('TTFB', fontsize=12)\n",
    "ax.set_ylabel('CDF', fontsize=12)\n",
    "\n",
    "plt.legend(['Q043', 'Q046', 'Q050'] , fontsize=11, loc='best')\n",
    "\n",
    "ax.spines['right'].set_color('none')\n",
    "ax.spines['top'].set_color('none')\n",
    "ax.yaxis.set_ticks_position('left')\n",
    "ax.xaxis.set_ticks_position('bottom')\n",
    "ax.spines['bottom'].set_position(('axes', -0.05))\n",
    "ax.spines['left'].set_position(('axes', -0.05))\n",
    "\n",
    "ax3 = ax.twinx()\n",
    "ax3.spines['right'].set_color('none')\n",
    "ax3.spines['top'].set_color('none')\n",
    "ax3.spines['left'].set_color('none')\n",
    "ax3.spines['bottom'].set_color('none')\n",
    "ax3.yaxis.set_ticks_position('none')\n",
    "plt.setp(ax3.get_yticklabels(), visible=False)\n",
    "\n",
    "plt.title('TTFB', fontsize=12, y=1.05)\n",
    "plt.savefig('./AWS/Bahrain/ASN/TTFB_ipv4_asn15133.png', format='png', bbox_inches='tight')\n"
   ]
  },
  {
   "cell_type": "code",
   "execution_count": 171,
   "metadata": {},
   "outputs": [],
   "source": [
    "x = Cdf.MakeCdfFromList(quic43['TotalDownloadTime'].values)\n",
    "x1 =Cdf.MakeCdfFromList(quic46['TotalDownloadTime'].values)\n",
    "x3 = Cdf.MakeCdfFromList(quic50['TotalDownloadTime'].values)\n",
    "x5 = Cdf.MakeCdfFromList(quich24['TotalDownloadTime'].values)"
   ]
  },
  {
   "cell_type": "code",
   "execution_count": 172,
   "metadata": {
    "lines_to_next_cell": 2
   },
   "outputs": [
    {
     "name": "stdout",
     "output_type": "stream",
     "text": [
      "-----------------------------\n",
      "\n",
      "percentile values distribution for Q046\n",
      "\n",
      "50th Percentile:400.017000\n",
      "\n",
      "90th Percentile:512.532000\n",
      "\n",
      "99th Percentile:900.218000\n",
      "\n",
      "25th Percentile:393.868000\n",
      "\n",
      "75th Percentile:414.358000\n",
      "\n",
      "20th Percentile:400.017000\n",
      "\n",
      "40th Percentile:512.532000\n",
      "\n",
      "60th Percentile:900.218000\n",
      "\n",
      "80th Percentile:393.868000\n",
      "\n",
      "-----------------------------\n",
      "\n",
      "-----------------------------\n",
      "\n",
      "percentile values distribution for Q050\n",
      "\n",
      "50th Percentile:400.081000\n",
      "\n",
      "90th Percentile:509.756000\n",
      "\n",
      "99th Percentile:906.145000\n",
      "\n",
      "25th Percentile:393.903000\n",
      "\n",
      "75th Percentile:414.398000\n",
      "\n",
      "20th Percentile:400.081000\n",
      "\n",
      "40th Percentile:509.756000\n",
      "\n",
      "60th Percentile:906.145000\n",
      "\n",
      "80th Percentile:393.903000\n",
      "\n",
      "-----------------------------\n",
      "\n",
      "-----------------------------\n",
      "\n",
      "percentile values distribution for Q043\n",
      "\n",
      "50th Percentile:576.315000\n",
      "\n",
      "90th Percentile:810.575000\n",
      "\n",
      "99th Percentile:983.899000\n",
      "\n",
      "25th Percentile:448.470000\n",
      "\n",
      "75th Percentile:718.552000\n",
      "\n",
      "20th Percentile:576.315000\n",
      "\n",
      "40th Percentile:810.575000\n",
      "\n",
      "60th Percentile:983.899000\n",
      "\n",
      "80th Percentile:448.470000\n",
      "\n",
      "-----------------------------\n",
      "\n"
     ]
    }
   ],
   "source": [
    "print_percentiles(x1, 'Q046')\n",
    "print_percentiles(x3, 'Q050')\n",
    "#print_percentiles(x5, 'h24')\n",
    "print_percentiles(x, 'Q043')"
   ]
  },
  {
   "cell_type": "code",
   "execution_count": 173,
   "metadata": {},
   "outputs": [
    {
     "name": "stderr",
     "output_type": "stream",
     "text": [
      "findfont: Font family ['monospace'] not found. Falling back to DejaVu Sans.\n"
     ]
    },
    {
     "data": {
      "image/png": "[encoded data removed]",
      "text/plain": [
       "<Figure size 900x600 with 1 Axes>"
      ]
     },
     "metadata": {
      "needs_background": "light"
     },
     "output_type": "display_data"
    }
   ],
   "source": [
    "data = {'$\\\\bf{Protocol}$': ['Q043', 'Q046', 'Q050'],\n",
    "\t'$\\\\bf{25th}$': [\"{:.2f}\".format(x.Percentile(25)), \"{:.2f}\".format(x1.Percentile(25)), \"{:.2f}\".format(x3.Percentile(25))],\n",
    "\t'$\\\\bf{50th}$': [\"{:.2f}\".format(x.Percentile(50)), \"{:.2f}\".format(x1.Percentile(50)), \"{:.2f}\".format(x3.Percentile(50))],\n",
    "\t'$\\\\bf{75th}$': [\"{:.2f}\".format(x.Percentile(75)), \"{:.2f}\".format(x1.Percentile(75)), \"{:.2f}\".format(x3.Percentile(75))],\n",
    "\t'$\\\\bf{80th}$': [\"{:.2f}\".format(x.Percentile(80)), \"{:.2f}\".format(x1.Percentile(80)), \"{:.2f}\".format(x3.Percentile(80))],\n",
    "    '$\\\\bf{90th}$': [\"{:.2f}\".format(x.Percentile(90)), \"{:.2f}\".format(x1.Percentile(90)), \"{:.2f}\".format(x3.Percentile(90))]\n",
    "        }   \n",
    "\n",
    "df_percentile = pd.DataFrame(data)\n",
    "\n",
    "fig, ax = plt.subplots(dpi=150)\n",
    "\n",
    " #hide axes\n",
    "fig.patch.set_visible(False)\n",
    "ax.axis('off')\n",
    "ax.axis('tight')\n",
    "\n",
    "ax.table(cellText=df_percentile.values, colLabels=df_percentile.columns, loc='center', cellLoc='center')\n",
    "\n",
    "#fig.tight_layout()\n",
    "plt.savefig('./AWS/Bahrain/ASN/Total_Download_time_ipv4_asn15133_percentile.png', format='png', bbox_inches='tight')"
   ]
  },
  {
   "cell_type": "code",
   "execution_count": 174,
   "metadata": {},
   "outputs": [
    {
     "data": {
      "image/png": "[encoded data removed]",
      "text/plain": [
       "<Figure size 720x216 with 2 Axes>"
      ]
     },
     "metadata": {
      "needs_background": "light"
     },
     "output_type": "display_data"
    }
   ],
   "source": [
    "fig = plt.figure(figsize = (10,3))\n",
    "plt.rcParams['font.size'] = 12\n",
    "ax = plt.gca()\n",
    "yticks = np.arange(0,1.1,0.2)\n",
    "\n",
    "#Q043\n",
    "plt.plot(x.xs, x.ps, marker='s', linewidth=0.3, markersize=5, fillstyle='none', color = 'orange')\n",
    "#Q046\n",
    "plt.plot(x1.xs, x1.ps, marker='s', linewidth=0.3, markersize=5, fillstyle='none', color = 'red')\n",
    "#Q050\n",
    "plt.plot(x3.xs, x3.ps, marker='s', linewidth=0.3, markersize=5, fillstyle='none', color = 'green')\n",
    "#h24\n",
    "#plt.plot(x5.xs, x5.ps, marker='s', linewidth=0.3, markersize=5, fillstyle='none', color = 'blue')\n",
    "\n",
    "\n",
    "\n",
    "ax = fig.axes[0]\n",
    "ax.grid(False)\n",
    "ax.set_yticks(yticks)\n",
    "ax.set_ylim([0,1.05])\n",
    "#ax.set_xlim([20,1000])\n",
    "ax.set_xscale('log')\n",
    "ax.set_xlabel('TotalDownloadTime', fontsize=12)\n",
    "ax.set_ylabel('CDF', fontsize=12)\n",
    "\n",
    "plt.legend(['Q043', 'Q046', 'Q050'] , fontsize=11, loc='best')\n",
    "\n",
    "ax.spines['right'].set_color('none')\n",
    "ax.spines['top'].set_color('none')\n",
    "ax.yaxis.set_ticks_position('left')\n",
    "ax.xaxis.set_ticks_position('bottom')\n",
    "ax.spines['bottom'].set_position(('axes', -0.05))\n",
    "ax.spines['left'].set_position(('axes', -0.05))\n",
    "\n",
    "ax3 = ax.twinx()\n",
    "ax3.spines['right'].set_color('none')\n",
    "ax3.spines['top'].set_color('none')\n",
    "ax3.spines['left'].set_color('none')\n",
    "ax3.spines['bottom'].set_color('none')\n",
    "ax3.yaxis.set_ticks_position('none')\n",
    "plt.setp(ax3.get_yticklabels(), visible=False)\n",
    "\n",
    "plt.title('TotalDownloadTime', fontsize=12, y=1.05)\n",
    "plt.savefig('./AWS/Bahrain/ASN/Total_Download_time_ipv4_asn15133.png', format='png', bbox_inches='tight')\n",
    "\n"
   ]
  },
  {
   "cell_type": "code",
   "execution_count": 175,
   "metadata": {},
   "outputs": [],
   "source": [
    "# IHCRU - Internet-Hosting Ltd\n",
    "quic203226 = quic4.loc[t['ASNo'] == 203226]\n",
    "quic46 = quic203226.loc[t['Protocol'] == 'Q046']\n",
    "quic43 = quic203226.loc[t['Protocol'] == 'Q043']\n",
    "quic50 = quic203226.loc[t['Protocol'] == 'Q050']\n",
    "quich24 = quic203226.loc[t['Protocol'] == 'FF000018']"
   ]
  },
  {
   "cell_type": "code",
   "execution_count": 176,
   "metadata": {},
   "outputs": [],
   "source": [
    "x = Cdf.MakeCdfFromList(quic43['ConnectionEstablishmentTime'].values)\n",
    "x1 =Cdf.MakeCdfFromList(quic46['ConnectionEstablishmentTime'].values)\n",
    "x3 = Cdf.MakeCdfFromList(quic50['ConnectionEstablishmentTime'].values)\n",
    "x5 = Cdf.MakeCdfFromList(quich24['ConnectionEstablishmentTime'].values)"
   ]
  },
  {
   "cell_type": "markdown",
   "metadata": {
    "lines_to_next_cell": 2
   },
   "source": [
    "print_percentiles(x1, 'Q046')\n",
    "print_percentiles(x3, 'Q050')\n",
    "print_percentiles(x5, 'h24')\n",
    "print_percentiles(x, 'Q043')"
   ]
  },
  {
   "cell_type": "code",
   "execution_count": 177,
   "metadata": {},
   "outputs": [
    {
     "name": "stderr",
     "output_type": "stream",
     "text": [
      "findfont: Font family ['monospace'] not found. Falling back to DejaVu Sans.\n"
     ]
    },
    {
     "data": {
      "image/png": "[encoded data removed]",
      "text/plain": [
       "<Figure size 900x600 with 1 Axes>"
      ]
     },
     "metadata": {
      "needs_background": "light"
     },
     "output_type": "display_data"
    }
   ],
   "source": [
    "data = {'$\\\\bf{Protocol}$': ['Q043', 'Q046', 'Q050'],\n",
    "\t'$\\\\bf{25th}$': [\"{:.2f}\".format(x.Percentile(25)), \"{:.2f}\".format(x1.Percentile(25)), \"{:.2f}\".format(x3.Percentile(25))],\n",
    "\t'$\\\\bf{50th}$': [\"{:.2f}\".format(x.Percentile(50)), \"{:.2f}\".format(x1.Percentile(50)), \"{:.2f}\".format(x3.Percentile(50))],\n",
    "\t'$\\\\bf{75th}$': [\"{:.2f}\".format(x.Percentile(75)), \"{:.2f}\".format(x1.Percentile(75)), \"{:.2f}\".format(x3.Percentile(75))],\n",
    "\t'$\\\\bf{80th}$': [\"{:.2f}\".format(x.Percentile(80)), \"{:.2f}\".format(x1.Percentile(80)), \"{:.2f}\".format(x3.Percentile(80))],\n",
    "    '$\\\\bf{90th}$': [\"{:.2f}\".format(x.Percentile(90)), \"{:.2f}\".format(x1.Percentile(90)), \"{:.2f}\".format(x3.Percentile(90))]\n",
    "        }    \n",
    "\n",
    "df_percentile = pd.DataFrame(data)\n",
    "\n",
    "fig, ax = plt.subplots(dpi=150)\n",
    "\n",
    " #hide axes\n",
    "fig.patch.set_visible(False)\n",
    "ax.axis('off')\n",
    "ax.axis('tight')\n",
    "\n",
    "ax.table(cellText=df_percentile.values, colLabels=df_percentile.columns, loc='center', cellLoc='center')\n",
    "\n",
    "#fig.tight_layout()\n",
    "plt.savefig('./AWS/Bahrain/ASN/handshake_times_ipv4_asn203226_percentile.png', format='png', bbox_inches='tight')"
   ]
  },
  {
   "cell_type": "code",
   "execution_count": 178,
   "metadata": {},
   "outputs": [
    {
     "data": {
      "image/png": "[encoded data removed]",
      "text/plain": [
       "<Figure size 720x216 with 2 Axes>"
      ]
     },
     "metadata": {
      "needs_background": "light"
     },
     "output_type": "display_data"
    }
   ],
   "source": [
    "fig = plt.figure(figsize = (10,3))\n",
    "plt.rcParams['font.size'] = 12\n",
    "ax = plt.gca()\n",
    "yticks = np.arange(0,1.1,0.2)\n",
    "\n",
    "#Q043\n",
    "plt.plot(x.xs, x.ps, marker='s', linewidth=0.3, markersize=5, fillstyle='none', color = 'orange')\n",
    "#Q046\n",
    "plt.plot(x1.xs, x1.ps, marker='s', linewidth=0.3, markersize=5, fillstyle='none', color = 'red')\n",
    "#Q050\n",
    "plt.plot(x3.xs, x3.ps, marker='s', linewidth=0.3, markersize=5, fillstyle='none', color = 'green')\n",
    "#h24\n",
    "#plt.plot(x5.xs, x5.ps, marker='s', linewidth=0.3, markersize=5, fillstyle='none', color = 'blue')\n",
    "\n",
    "\n",
    "\n",
    "ax = fig.axes[0]\n",
    "ax.grid(False)\n",
    "ax.set_yticks(yticks)\n",
    "ax.set_ylim([0,1.05])\n",
    "#ax.set_xlim([20,100])\n",
    "ax.set_xscale('log')\n",
    "ax.set_xlabel('latency (x-axis is cut)', fontsize=12)\n",
    "ax.set_ylabel('CDF', fontsize=12)\n",
    "\n",
    "plt.legend(['Q043', 'Q046', 'Q050'] , fontsize=11, loc='best')\n",
    "\n",
    "ax.spines['right'].set_color('none')\n",
    "ax.spines['top'].set_color('none')\n",
    "ax.yaxis.set_ticks_position('left')\n",
    "ax.xaxis.set_ticks_position('bottom')\n",
    "ax.spines['bottom'].set_position(('axes', -0.05))\n",
    "ax.spines['left'].set_position(('axes', -0.05))\n",
    "\n",
    "ax3 = ax.twinx()\n",
    "ax3.spines['right'].set_color('none')\n",
    "ax3.spines['top'].set_color('none')\n",
    "ax3.spines['left'].set_color('none')\n",
    "ax3.spines['bottom'].set_color('none')\n",
    "ax3.yaxis.set_ticks_position('none')\n",
    "plt.setp(ax3.get_yticklabels(), visible=False)\n",
    "\n",
    "plt.title('Handshake Times with IPv4', fontsize=12, y=1.05)\n",
    "plt.savefig('./AWS/Bahrain/ASN/handshake_times_ipv4_asn203226.png', format='png', bbox_inches='tight')\n"
   ]
  },
  {
   "cell_type": "code",
   "execution_count": 179,
   "metadata": {},
   "outputs": [],
   "source": [
    "x = Cdf.MakeCdfFromList(quic43['TTFB'].values)\n",
    "x1 =Cdf.MakeCdfFromList(quic46['TTFB'].values)\n",
    "x3 = Cdf.MakeCdfFromList(quic50['TTFB'].values)\n",
    "x5 = Cdf.MakeCdfFromList(quich24['TTFB'].values)"
   ]
  },
  {
   "cell_type": "code",
   "execution_count": 180,
   "metadata": {
    "lines_to_next_cell": 2
   },
   "outputs": [
    {
     "name": "stdout",
     "output_type": "stream",
     "text": [
      "-----------------------------\n",
      "\n",
      "percentile values distribution for Q046\n",
      "\n",
      "50th Percentile:508.984000\n",
      "\n",
      "90th Percentile:763.790000\n",
      "\n",
      "99th Percentile:919.127000\n",
      "\n",
      "25th Percentile:493.822000\n",
      "\n",
      "75th Percentile:545.059000\n",
      "\n",
      "20th Percentile:508.984000\n",
      "\n",
      "40th Percentile:763.790000\n",
      "\n",
      "60th Percentile:919.127000\n",
      "\n",
      "80th Percentile:493.822000\n",
      "\n",
      "-----------------------------\n",
      "\n",
      "-----------------------------\n",
      "\n",
      "percentile values distribution for Q050\n",
      "\n",
      "50th Percentile:510.372000\n",
      "\n",
      "90th Percentile:790.918000\n",
      "\n",
      "99th Percentile:946.863000\n",
      "\n",
      "25th Percentile:494.946000\n",
      "\n",
      "75th Percentile:550.325000\n",
      "\n",
      "20th Percentile:510.372000\n",
      "\n",
      "40th Percentile:790.918000\n",
      "\n",
      "60th Percentile:946.863000\n",
      "\n",
      "80th Percentile:494.946000\n",
      "\n",
      "-----------------------------\n",
      "\n",
      "-----------------------------\n",
      "\n",
      "percentile values distribution for Q043\n",
      "\n",
      "50th Percentile:510.146000\n",
      "\n",
      "90th Percentile:735.231000\n",
      "\n",
      "99th Percentile:907.910000\n",
      "\n",
      "25th Percentile:496.372000\n",
      "\n",
      "75th Percentile:546.400000\n",
      "\n",
      "20th Percentile:510.146000\n",
      "\n",
      "40th Percentile:735.231000\n",
      "\n",
      "60th Percentile:907.910000\n",
      "\n",
      "80th Percentile:496.372000\n",
      "\n",
      "-----------------------------\n",
      "\n"
     ]
    }
   ],
   "source": [
    "print_percentiles(x1, 'Q046')\n",
    "print_percentiles(x3, 'Q050')\n",
    "#print_percentiles(x5, 'h24')\n",
    "print_percentiles(x, 'Q043')"
   ]
  },
  {
   "cell_type": "code",
   "execution_count": 181,
   "metadata": {},
   "outputs": [
    {
     "name": "stderr",
     "output_type": "stream",
     "text": [
      "findfont: Font family ['monospace'] not found. Falling back to DejaVu Sans.\n"
     ]
    },
    {
     "data": {
      "image/png": "[encoded data removed]",
      "text/plain": [
       "<Figure size 900x600 with 1 Axes>"
      ]
     },
     "metadata": {
      "needs_background": "light"
     },
     "output_type": "display_data"
    }
   ],
   "source": [
    "data = {'$\\\\bf{Protocol}$': ['Q043', 'Q046', 'Q050'],\n",
    "\t'$\\\\bf{25th}$': [\"{:.2f}\".format(x.Percentile(25)), \"{:.2f}\".format(x1.Percentile(25)), \"{:.2f}\".format(x3.Percentile(25))],\n",
    "\t'$\\\\bf{50th}$': [\"{:.2f}\".format(x.Percentile(50)), \"{:.2f}\".format(x1.Percentile(50)), \"{:.2f}\".format(x3.Percentile(50))],\n",
    "\t'$\\\\bf{75th}$': [\"{:.2f}\".format(x.Percentile(75)), \"{:.2f}\".format(x1.Percentile(75)), \"{:.2f}\".format(x3.Percentile(75))],\n",
    "\t'$\\\\bf{80th}$': [\"{:.2f}\".format(x.Percentile(80)), \"{:.2f}\".format(x1.Percentile(80)), \"{:.2f}\".format(x3.Percentile(80))],\n",
    "    '$\\\\bf{90th}$': [\"{:.2f}\".format(x.Percentile(90)), \"{:.2f}\".format(x1.Percentile(90)), \"{:.2f}\".format(x3.Percentile(90))]\n",
    "        }    \n",
    "\n",
    "df_percentile = pd.DataFrame(data)\n",
    "\n",
    "fig, ax = plt.subplots(dpi=150)\n",
    "\n",
    " #hide axes\n",
    "fig.patch.set_visible(False)\n",
    "ax.axis('off')\n",
    "ax.axis('tight')\n",
    "\n",
    "ax.table(cellText=df_percentile.values, colLabels=df_percentile.columns, loc='center', cellLoc='center')\n",
    "\n",
    "#fig.tight_layout()\n",
    "plt.savefig('./AWS/Bahrain/ASN/ttfb_ipv4_asn203226_percentile.png', format='png', bbox_inches='tight')"
   ]
  },
  {
   "cell_type": "code",
   "execution_count": 182,
   "metadata": {},
   "outputs": [
    {
     "data": {
      "image/png": "[encoded data removed]",
      "text/plain": [
       "<Figure size 720x216 with 2 Axes>"
      ]
     },
     "metadata": {
      "needs_background": "light"
     },
     "output_type": "display_data"
    }
   ],
   "source": [
    "fig = plt.figure(figsize = (10,3))\n",
    "plt.rcParams['font.size'] = 12\n",
    "ax = plt.gca()\n",
    "yticks = np.arange(0,1.1,0.2)\n",
    "\n",
    "#Q043\n",
    "plt.plot(x.xs, x.ps, marker='s', linewidth=0.3, markersize=5, fillstyle='none', color = 'orange')\n",
    "#Q046\n",
    "plt.plot(x1.xs, x1.ps, marker='s', linewidth=0.3, markersize=5, fillstyle='none', color = 'red')\n",
    "#Q050\n",
    "plt.plot(x3.xs, x3.ps, marker='s', linewidth=0.3, markersize=5, fillstyle='none', color = 'green')\n",
    "#Q=h24\n",
    "#plt.plot(x5.xs, x5.ps, marker='s', linewidth=0.3, markersize=5, fillstyle='none', color = 'blue')\n",
    "\n",
    "\n",
    "\n",
    "ax = fig.axes[0]\n",
    "ax.grid(False)\n",
    "ax.set_yticks(yticks)\n",
    "ax.set_ylim([0,1.05])\n",
    "#ax.set_xlim([20,600])\n",
    "ax.set_xscale('log')\n",
    "ax.set_xlabel('TTFB', fontsize=12)\n",
    "ax.set_ylabel('CDF', fontsize=12)\n",
    "\n",
    "plt.legend(['Q043', 'Q046', 'Q050'] , fontsize=11, loc='best')\n",
    "\n",
    "ax.spines['right'].set_color('none')\n",
    "ax.spines['top'].set_color('none')\n",
    "ax.yaxis.set_ticks_position('left')\n",
    "ax.xaxis.set_ticks_position('bottom')\n",
    "ax.spines['bottom'].set_position(('axes', -0.05))\n",
    "ax.spines['left'].set_position(('axes', -0.05))\n",
    "\n",
    "ax3 = ax.twinx()\n",
    "ax3.spines['right'].set_color('none')\n",
    "ax3.spines['top'].set_color('none')\n",
    "ax3.spines['left'].set_color('none')\n",
    "ax3.spines['bottom'].set_color('none')\n",
    "ax3.yaxis.set_ticks_position('none')\n",
    "plt.setp(ax3.get_yticklabels(), visible=False)\n",
    "\n",
    "plt.title('TTFB', fontsize=12, y=1.05)\n",
    "plt.savefig('./AWS/Bahrain/ASN/ttfb_ipv4_asn203226.png', format='png', bbox_inches='tight')\n"
   ]
  },
  {
   "cell_type": "code",
   "execution_count": 183,
   "metadata": {},
   "outputs": [],
   "source": [
    "x = Cdf.MakeCdfFromList(quic43['TotalDownloadTime'].values)\n",
    "x1 =Cdf.MakeCdfFromList(quic46['TotalDownloadTime'].values)\n",
    "x3 = Cdf.MakeCdfFromList(quic50['TotalDownloadTime'].values)\n",
    "x5 = Cdf.MakeCdfFromList(quich24['TotalDownloadTime'].values)"
   ]
  },
  {
   "cell_type": "code",
   "execution_count": 184,
   "metadata": {
    "lines_to_next_cell": 2
   },
   "outputs": [
    {
     "name": "stdout",
     "output_type": "stream",
     "text": [
      "-----------------------------\n",
      "\n",
      "percentile values distribution for Q046\n",
      "\n",
      "50th Percentile:511.974000\n",
      "\n",
      "90th Percentile:605.889000\n",
      "\n",
      "99th Percentile:914.803000\n",
      "\n",
      "25th Percentile:492.917000\n",
      "\n",
      "75th Percentile:548.277000\n",
      "\n",
      "20th Percentile:511.974000\n",
      "\n",
      "40th Percentile:605.889000\n",
      "\n",
      "60th Percentile:914.803000\n",
      "\n",
      "80th Percentile:492.917000\n",
      "\n",
      "-----------------------------\n",
      "\n",
      "-----------------------------\n",
      "\n",
      "percentile values distribution for Q050\n",
      "\n",
      "50th Percentile:514.155000\n",
      "\n",
      "90th Percentile:619.148000\n",
      "\n",
      "99th Percentile:938.032000\n",
      "\n",
      "25th Percentile:493.095000\n",
      "\n",
      "75th Percentile:553.366000\n",
      "\n",
      "20th Percentile:514.155000\n",
      "\n",
      "40th Percentile:619.148000\n",
      "\n",
      "60th Percentile:938.032000\n",
      "\n",
      "80th Percentile:493.095000\n",
      "\n",
      "-----------------------------\n",
      "\n",
      "-----------------------------\n",
      "\n",
      "percentile values distribution for Q043\n",
      "\n",
      "50th Percentile:513.480000\n",
      "\n",
      "90th Percentile:601.652000\n",
      "\n",
      "99th Percentile:929.255000\n",
      "\n",
      "25th Percentile:494.728000\n",
      "\n",
      "75th Percentile:550.364000\n",
      "\n",
      "20th Percentile:513.480000\n",
      "\n",
      "40th Percentile:601.652000\n",
      "\n",
      "60th Percentile:929.255000\n",
      "\n",
      "80th Percentile:494.728000\n",
      "\n",
      "-----------------------------\n",
      "\n"
     ]
    }
   ],
   "source": [
    "print_percentiles(x1, 'Q046')\n",
    "print_percentiles(x3, 'Q050')\n",
    "#print_percentiles(x5, 'h24')\n",
    "print_percentiles(x, 'Q043')"
   ]
  },
  {
   "cell_type": "code",
   "execution_count": 185,
   "metadata": {},
   "outputs": [
    {
     "name": "stderr",
     "output_type": "stream",
     "text": [
      "findfont: Font family ['monospace'] not found. Falling back to DejaVu Sans.\n"
     ]
    },
    {
     "data": {
      "image/png": "[encoded data removed]",
      "text/plain": [
       "<Figure size 900x600 with 1 Axes>"
      ]
     },
     "metadata": {
      "needs_background": "light"
     },
     "output_type": "display_data"
    }
   ],
   "source": [
    "data = {'$\\\\bf{Protocol}$': ['Q043', 'Q046', 'Q050'],\n",
    "\t'$\\\\bf{25th}$': [\"{:.2f}\".format(x.Percentile(25)), \"{:.2f}\".format(x1.Percentile(25)), \"{:.2f}\".format(x3.Percentile(25))],\n",
    "\t'$\\\\bf{50th}$': [\"{:.2f}\".format(x.Percentile(50)), \"{:.2f}\".format(x1.Percentile(50)), \"{:.2f}\".format(x3.Percentile(50))],\n",
    "\t'$\\\\bf{75th}$': [\"{:.2f}\".format(x.Percentile(75)), \"{:.2f}\".format(x1.Percentile(75)), \"{:.2f}\".format(x3.Percentile(75))],\n",
    "\t'$\\\\bf{80th}$': [\"{:.2f}\".format(x.Percentile(80)), \"{:.2f}\".format(x1.Percentile(80)), \"{:.2f}\".format(x3.Percentile(80))],\n",
    "    '$\\\\bf{90th}$': [\"{:.2f}\".format(x.Percentile(90)), \"{:.2f}\".format(x1.Percentile(90)), \"{:.2f}\".format(x3.Percentile(90))]\n",
    "        }    \n",
    "\n",
    "df_percentile = pd.DataFrame(data)\n",
    "\n",
    "fig, ax = plt.subplots(dpi=150)\n",
    "\n",
    " #hide axes\n",
    "fig.patch.set_visible(False)\n",
    "ax.axis('off')\n",
    "ax.axis('tight')\n",
    "\n",
    "ax.table(cellText=df_percentile.values, colLabels=df_percentile.columns, loc='center', cellLoc='center')\n",
    "\n",
    "#fig.tight_layout()\n",
    "plt.savefig('./AWS/Bahrain/ASN/totaldownloadtime_ipv4_asn203226_percentile.png', format='png', bbox_inches='tight')\n"
   ]
  },
  {
   "cell_type": "code",
   "execution_count": 186,
   "metadata": {},
   "outputs": [
    {
     "data": {
      "image/png": "[encoded data removed]",
      "text/plain": [
       "<Figure size 720x216 with 2 Axes>"
      ]
     },
     "metadata": {
      "needs_background": "light"
     },
     "output_type": "display_data"
    }
   ],
   "source": [
    "fig = plt.figure(figsize = (10,3))\n",
    "plt.rcParams['font.size'] = 12\n",
    "ax = plt.gca()\n",
    "yticks = np.arange(0,1.1,0.2)\n",
    "\n",
    "#Q043\n",
    "plt.plot(x.xs, x.ps, marker='s', linewidth=0.3, markersize=5, fillstyle='none', color = 'orange')\n",
    "#Q046\n",
    "plt.plot(x1.xs, x1.ps, marker='s', linewidth=0.3, markersize=5, fillstyle='none', color = 'red')\n",
    "#Q050\n",
    "plt.plot(x3.xs, x3.ps, marker='s', linewidth=0.3, markersize=5, fillstyle='none', color = 'green')\n",
    "#h24\n",
    "#plt.plot(x5.xs, x5.ps, marker='s', linewidth=0.3, markersize=5, fillstyle='none', color = 'blue')\n",
    "\n",
    "\n",
    "\n",
    "ax = fig.axes[0]\n",
    "ax.grid(False)\n",
    "ax.set_yticks(yticks)\n",
    "ax.set_ylim([0,1.05])\n",
    "#ax.set_xlim([20,600])\n",
    "ax.set_xscale('log')\n",
    "ax.set_xlabel('TotalDownloadTime', fontsize=12)\n",
    "ax.set_ylabel('CDF', fontsize=12)\n",
    "\n",
    "plt.legend(['Q043', 'Q046', 'Q050'] , fontsize=11, loc='best')\n",
    "\n",
    "ax.spines['right'].set_color('none')\n",
    "ax.spines['top'].set_color('none')\n",
    "ax.yaxis.set_ticks_position('left')\n",
    "ax.xaxis.set_ticks_position('bottom')\n",
    "ax.spines['bottom'].set_position(('axes', -0.05))\n",
    "ax.spines['left'].set_position(('axes', -0.05))\n",
    "\n",
    "ax3 = ax.twinx()\n",
    "ax3.spines['right'].set_color('none')\n",
    "ax3.spines['top'].set_color('none')\n",
    "ax3.spines['left'].set_color('none')\n",
    "ax3.spines['bottom'].set_color('none')\n",
    "ax3.yaxis.set_ticks_position('none')\n",
    "plt.setp(ax3.get_yticklabels(), visible=False)\n",
    "\n",
    "plt.title('TotalDownloadTime', fontsize=12, y=1.05)\n",
    "plt.savefig('./AWS/Bahrain/ASN/totaldownloadtime_ipv4_asn203226.png', format='png', bbox_inches='tight')\n"
   ]
  },
  {
   "cell_type": "code",
   "execution_count": null,
   "metadata": {},
   "outputs": [],
   "source": []
  },
  {
   "cell_type": "code",
   "execution_count": null,
   "metadata": {},
   "outputs": [],
   "source": []
  },
  {
   "cell_type": "code",
   "execution_count": null,
   "metadata": {},
   "outputs": [],
   "source": []
  },
  {
   "cell_type": "code",
   "execution_count": null,
   "metadata": {},
   "outputs": [],
   "source": []
  },
  {
   "cell_type": "code",
   "execution_count": null,
   "metadata": {},
   "outputs": [],
   "source": []
  },
  {
   "cell_type": "code",
   "execution_count": null,
   "metadata": {},
   "outputs": [],
   "source": []
  }
 ],
 "metadata": {
  "jupytext": {
   "formats": "ipynb,py:light",
   "text_representation": {
    "extension": ".py",
    "format_name": "light",
    "format_version": "1.3",
    "jupytext_version": "0.8.4"
   }
  },
  "kernelspec": {
   "display_name": "Python 3",
   "language": "python",
   "name": "python3"
  },
  "language_info": {
   "codemirror_mode": {
    "name": "ipython",
    "version": 3
   },
   "file_extension": ".py",
   "mimetype": "text/x-python",
   "name": "python",
   "nbconvert_exporter": "python",
   "pygments_lexer": "ipython3",
   "version": "3.7.5"
  }
 },
 "nbformat": 4,
 "nbformat_minor": 2
}
