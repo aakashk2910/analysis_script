{
 "cells": [
  {
   "cell_type": "code",
   "execution_count": 1,
   "metadata": {},
   "outputs": [],
   "source": [
    "import sqlite3\n",
    "import pandas as pd\n",
    "import numpy as np\n",
    "import matplotlib.pyplot as plt\n",
    "import time\n",
    "import datetime\n",
    "import filterbyip as fbi\n",
    "import Cdf\n",
    "import Pmf"
   ]
  },
  {
   "cell_type": "code",
   "execution_count": 2,
   "metadata": {},
   "outputs": [],
   "source": [
    "def write_percentiles(filename, c):\n",
    "\twith open(filename, 'w') as f:\n",
    "\t\tf.write('values; percentile\\n')\n",
    "\t\tfor x, y in zip(c.xs, c.ps):\n",
    "\t\t\tf.write('%.2f, %.2f\\n'%(x, y))"
   ]
  },
  {
   "cell_type": "code",
   "execution_count": 3,
   "metadata": {},
   "outputs": [],
   "source": [
    "def print_percentiles(c, name):\n",
    "\tprint('-----------------------------\\n')\n",
    "\tprint('percentile values distribution for %s\\n' % name)\n",
    "\n",
    "\tprint('50th Percentile:%f\\n' % c.Percentile(50))\n",
    "\tprint('90th Percentile:%f\\n' % c.Percentile(90))\n",
    "\tprint('99th Percentile:%f\\n' % c.Percentile(99))\n",
    "\tprint('25th Percentile:%f\\n' % c.Percentile(25))\n",
    "\tprint('75th Percentile:%f\\n' % c.Percentile(75))\n",
    "\tprint('20th Percentile:%f\\n' % c.Percentile(50))\n",
    "\tprint('40th Percentile:%f\\n' % c.Percentile(90))\n",
    "\tprint('60th Percentile:%f\\n' % c.Percentile(99))\n",
    "\tprint('80th Percentile:%f\\n' % c.Percentile(25))\n",
    "\n",
    "\tprint('-----------------------------\\n')"
   ]
  },
  {
   "cell_type": "code",
   "execution_count": 4,
   "metadata": {},
   "outputs": [
    {
     "name": "stdout",
     "output_type": "stream",
     "text": [
      "Populating the interactive namespace from numpy and matplotlib\n"
     ]
    }
   ],
   "source": [
    "import warnings\n",
    "warnings.filterwarnings('ignore')\n",
    "\n",
    "%pylab inline"
   ]
  },
  {
   "cell_type": "code",
   "execution_count": 5,
   "metadata": {},
   "outputs": [
    {
     "data": {
      "text/html": [
       "<style>body {\n",
       "    margin: 0;\n",
       "    font-family: Helvetica;\n",
       "}\n",
       "table.dataframe {\n",
       "    border-collapse: collapse;\n",
       "    border: none;\n",
       "}\n",
       "table.dataframe tr {\n",
       "    border: none;\n",
       "}\n",
       "table.dataframe td, table.dataframe th {\n",
       "    margin: 0;\n",
       "    border: 1px solid white;\n",
       "    padding-left: 0.25em;\n",
       "    padding-right: 0.25em;\n",
       "}\n",
       "table.dataframe th:not(:empty) {\n",
       "    background-color: #fec;\n",
       "    text-align: left;\n",
       "    font-weight: normal;\n",
       "}\n",
       "table.dataframe tr:nth-child(2) th:empty {\n",
       "    border-left: none;\n",
       "    border-right: 1px dashed #888;\n",
       "}\n",
       "table.dataframe td {\n",
       "    border: 2px solid #ccf;\n",
       "    background-color: #f4f4ff;\n",
       "}\n",
       "h3 {\n",
       "    color: white;\n",
       "    background-color: black;\n",
       "    padding: 0.5em;\n",
       "}\n",
       "\n",
       ".CodeMirror {\n",
       "    font-family: 'Consolas';\n",
       "}\n",
       "\n",
       "div.cell.code_cell {\n",
       "    font-family: 'Consolas';\n",
       "}\n",
       "\n",
       "div.output_area pre {\n",
       "    font-family: 'Consolas';\n",
       "}\n",
       "</style>"
      ],
      "text/plain": [
       "<IPython.core.display.HTML object>"
      ]
     },
     "execution_count": 5,
     "metadata": {},
     "output_type": "execute_result"
    }
   ],
   "source": [
    "from IPython.core.display import HTML\n",
    "css = open('style-table.css').read() + open('style-notebook.css').read()\n",
    "HTML('<style>{}</style>'.format(css))"
   ]
  },
  {
   "cell_type": "code",
   "execution_count": 6,
   "metadata": {},
   "outputs": [],
   "source": [
    "quic_data = \"./AWS_results/Mumbai/data/output_quic.csv\""
   ]
  },
  {
   "cell_type": "code",
   "execution_count": 7,
   "metadata": {},
   "outputs": [],
   "source": [
    "tcol_names = ['TimeOfMeasurement', 'Url', 'Path', 'Ip', 'Port', 'DNSTime', 'ConnectionEstablishmentTime', 'TTFB', 'TotalDownloadTime', 'HttpResponse', 'Protocol']\n",
    "as_names = ['Url', 'Ip', 'ASNo','ASName','Lat','Lon'] "
   ]
  },
  {
   "cell_type": "code",
   "execution_count": 8,
   "metadata": {},
   "outputs": [],
   "source": [
    "t = pd.read_csv(quic_data,';', names=tcol_names, header=None)"
   ]
  },
  {
   "cell_type": "code",
   "execution_count": 9,
   "metadata": {},
   "outputs": [],
   "source": [
    "t = t.dropna()"
   ]
  },
  {
   "cell_type": "code",
   "execution_count": 10,
   "metadata": {},
   "outputs": [],
   "source": [
    "asndata = \"./data/pi-1/quic_perf/asinfo.csv\""
   ]
  },
  {
   "cell_type": "code",
   "execution_count": 11,
   "metadata": {},
   "outputs": [
    {
     "data": {
      "text/html": [
       "<div>\n",
       "<style scoped>\n",
       "    .dataframe tbody tr th:only-of-type {\n",
       "        vertical-align: middle;\n",
       "    }\n",
       "\n",
       "    .dataframe tbody tr th {\n",
       "        vertical-align: top;\n",
       "    }\n",
       "\n",
       "    .dataframe thead th {\n",
       "        text-align: right;\n",
       "    }\n",
       "</style>\n",
       "<table border=\"1\" class=\"dataframe\">\n",
       "  <thead>\n",
       "    <tr style=\"text-align: right;\">\n",
       "      <th></th>\n",
       "      <th>Url</th>\n",
       "      <th>Ip</th>\n",
       "      <th>ASNo</th>\n",
       "      <th>ASName</th>\n",
       "      <th>Lat</th>\n",
       "      <th>Lon</th>\n",
       "    </tr>\n",
       "  </thead>\n",
       "  <tbody>\n",
       "    <tr>\n",
       "      <th>0</th>\n",
       "      <td>www.google.com</td>\n",
       "      <td>172.217.19.68</td>\n",
       "      <td>15169.0</td>\n",
       "      <td>GOOGLE - Google LLC</td>\n",
       "      <td>-122.0574</td>\n",
       "      <td>37.4192</td>\n",
       "    </tr>\n",
       "    <tr>\n",
       "      <th>1</th>\n",
       "      <td>www.youtube.com</td>\n",
       "      <td>172.217.22.78</td>\n",
       "      <td>15169.0</td>\n",
       "      <td>GOOGLE - Google LLC</td>\n",
       "      <td>-122.0574</td>\n",
       "      <td>37.4192</td>\n",
       "    </tr>\n",
       "    <tr>\n",
       "      <th>2</th>\n",
       "      <td>www.google.co.in</td>\n",
       "      <td>216.58.213.227</td>\n",
       "      <td>15169.0</td>\n",
       "      <td>GOOGLE - Google LLC</td>\n",
       "      <td>-122.0574</td>\n",
       "      <td>37.4192</td>\n",
       "    </tr>\n",
       "    <tr>\n",
       "      <th>3</th>\n",
       "      <td>www.blogspot.com</td>\n",
       "      <td>172.217.18.9</td>\n",
       "      <td>15169.0</td>\n",
       "      <td>GOOGLE - Google LLC</td>\n",
       "      <td>-122.0574</td>\n",
       "      <td>37.4192</td>\n",
       "    </tr>\n",
       "    <tr>\n",
       "      <th>4</th>\n",
       "      <td>www.google.co.jp</td>\n",
       "      <td>216.58.210.3</td>\n",
       "      <td>15169.0</td>\n",
       "      <td>GOOGLE - Google LLC</td>\n",
       "      <td>-122.0574</td>\n",
       "      <td>37.4192</td>\n",
       "    </tr>\n",
       "    <tr>\n",
       "      <th>...</th>\n",
       "      <td>...</td>\n",
       "      <td>...</td>\n",
       "      <td>...</td>\n",
       "      <td>...</td>\n",
       "      <td>...</td>\n",
       "      <td>...</td>\n",
       "    </tr>\n",
       "    <tr>\n",
       "      <th>7428</th>\n",
       "      <td>www.holidaysequences.com</td>\n",
       "      <td>35.190.16.47</td>\n",
       "      <td>15169.0</td>\n",
       "      <td>GOOGLE - Google LLC</td>\n",
       "      <td>-122.0574</td>\n",
       "      <td>37.4192</td>\n",
       "    </tr>\n",
       "    <tr>\n",
       "      <th>7429</th>\n",
       "      <td>www.nickzammeti.com</td>\n",
       "      <td>130.211.40.170</td>\n",
       "      <td>15169.0</td>\n",
       "      <td>GOOGLE - Google LLC</td>\n",
       "      <td>4.35</td>\n",
       "      <td>50.8500</td>\n",
       "    </tr>\n",
       "    <tr>\n",
       "      <th>7430</th>\n",
       "      <td>www.redlink-network.org</td>\n",
       "      <td>35.190.35.16</td>\n",
       "      <td>15169.0</td>\n",
       "      <td>GOOGLE - Google LLC</td>\n",
       "      <td>-122.0574</td>\n",
       "      <td>37.4192</td>\n",
       "    </tr>\n",
       "    <tr>\n",
       "      <th>7431</th>\n",
       "      <td>www.reefh2o.com</td>\n",
       "      <td>35.190.16.47</td>\n",
       "      <td>15169.0</td>\n",
       "      <td>GOOGLE - Google LLC</td>\n",
       "      <td>-122.0574</td>\n",
       "      <td>37.4192</td>\n",
       "    </tr>\n",
       "    <tr>\n",
       "      <th>7432</th>\n",
       "      <td>www.vanbind.com</td>\n",
       "      <td>35.190.71.195</td>\n",
       "      <td>15169.0</td>\n",
       "      <td>GOOGLE - Google LLC</td>\n",
       "      <td>-122.0574</td>\n",
       "      <td>37.4192</td>\n",
       "    </tr>\n",
       "  </tbody>\n",
       "</table>\n",
       "<p>7433 rows × 6 columns</p>\n",
       "</div>"
      ],
      "text/plain": [
       "                           Url              Ip     ASNo               ASName  \\\n",
       "0               www.google.com   172.217.19.68  15169.0  GOOGLE - Google LLC   \n",
       "1              www.youtube.com   172.217.22.78  15169.0  GOOGLE - Google LLC   \n",
       "2             www.google.co.in  216.58.213.227  15169.0  GOOGLE - Google LLC   \n",
       "3             www.blogspot.com    172.217.18.9  15169.0  GOOGLE - Google LLC   \n",
       "4             www.google.co.jp    216.58.210.3  15169.0  GOOGLE - Google LLC   \n",
       "...                        ...             ...      ...                  ...   \n",
       "7428  www.holidaysequences.com    35.190.16.47  15169.0  GOOGLE - Google LLC   \n",
       "7429       www.nickzammeti.com  130.211.40.170  15169.0  GOOGLE - Google LLC   \n",
       "7430   www.redlink-network.org    35.190.35.16  15169.0  GOOGLE - Google LLC   \n",
       "7431           www.reefh2o.com    35.190.16.47  15169.0  GOOGLE - Google LLC   \n",
       "7432           www.vanbind.com   35.190.71.195  15169.0  GOOGLE - Google LLC   \n",
       "\n",
       "            Lat      Lon  \n",
       "0     -122.0574  37.4192  \n",
       "1     -122.0574  37.4192  \n",
       "2     -122.0574  37.4192  \n",
       "3     -122.0574  37.4192  \n",
       "4     -122.0574  37.4192  \n",
       "...         ...      ...  \n",
       "7428  -122.0574  37.4192  \n",
       "7429       4.35  50.8500  \n",
       "7430  -122.0574  37.4192  \n",
       "7431  -122.0574  37.4192  \n",
       "7432  -122.0574  37.4192  \n",
       "\n",
       "[7433 rows x 6 columns]"
      ]
     },
     "execution_count": 11,
     "metadata": {},
     "output_type": "execute_result"
    }
   ],
   "source": [
    "asn = pd.read_csv(asndata, ',', names=as_names, header=None)\n",
    "asn"
   ]
  },
  {
   "cell_type": "code",
   "execution_count": 12,
   "metadata": {},
   "outputs": [
    {
     "data": {
      "text/plain": [
       "ASNo     ASName                                              \n",
       "15169.0  GOOGLE - Google LLC                                     5040\n",
       "15133.0  EDGECAST - MCI Communications Services                   557\n",
       "7506.0   INTERQ GMO Internet                                      148\n",
       "24940.0  HETZNER-AS - Hetzner Online GmbH                         126\n",
       "16276.0  OVH - OVH SAS                                            102\n",
       "                                                                 ... \n",
       "30148.0  SUCURI-SEC - Sucuri                                        1\n",
       "48666.0  AS-MAROSNET - MAROSNET Telecommunication Company LLC       1\n",
       "30860.0  YURTEH-AS - Virtual Systems LLC                            1\n",
       "30933.0  PROTEXIA-EU - KDA WEB SERVICES LTD                         1\n",
       "37907.0  DIGIROCK DigiRock                                          1\n",
       "Length: 216, dtype: int64"
      ]
     },
     "execution_count": 12,
     "metadata": {},
     "output_type": "execute_result"
    }
   ],
   "source": [
    "#pd.set_option('display.max_rows', 500)\n",
    "asn.groupby(['ASNo', 'ASName']).size().sort_values(ascending=False)\n"
   ]
  },
  {
   "cell_type": "code",
   "execution_count": 13,
   "metadata": {
    "scrolled": true
   },
   "outputs": [
    {
     "data": {
      "text/plain": [
       "Url       7433\n",
       "Ip        7424\n",
       "ASNo      7424\n",
       "ASName    7424\n",
       "Lat       7424\n",
       "Lon       7424\n",
       "dtype: int64"
      ]
     },
     "execution_count": 13,
     "metadata": {},
     "output_type": "execute_result"
    }
   ],
   "source": [
    "asn.count()"
   ]
  },
  {
   "cell_type": "code",
   "execution_count": 14,
   "metadata": {},
   "outputs": [
    {
     "data": {
      "text/html": [
       "<div>\n",
       "<style scoped>\n",
       "    .dataframe tbody tr th:only-of-type {\n",
       "        vertical-align: middle;\n",
       "    }\n",
       "\n",
       "    .dataframe tbody tr th {\n",
       "        vertical-align: top;\n",
       "    }\n",
       "\n",
       "    .dataframe thead th {\n",
       "        text-align: right;\n",
       "    }\n",
       "</style>\n",
       "<table border=\"1\" class=\"dataframe\">\n",
       "  <thead>\n",
       "    <tr style=\"text-align: right;\">\n",
       "      <th></th>\n",
       "      <th>Url</th>\n",
       "      <th>Ip</th>\n",
       "      <th>ASNo</th>\n",
       "      <th>ASName</th>\n",
       "      <th>Lat</th>\n",
       "      <th>Lon</th>\n",
       "    </tr>\n",
       "  </thead>\n",
       "  <tbody>\n",
       "    <tr>\n",
       "      <th>0</th>\n",
       "      <td>www.google.com</td>\n",
       "      <td>172.217.19.68</td>\n",
       "      <td>15169.0</td>\n",
       "      <td>GOOGLE - Google LLC</td>\n",
       "      <td>-122.0574</td>\n",
       "      <td>37.4192</td>\n",
       "    </tr>\n",
       "    <tr>\n",
       "      <th>1</th>\n",
       "      <td>www.youtube.com</td>\n",
       "      <td>172.217.22.78</td>\n",
       "      <td>15169.0</td>\n",
       "      <td>GOOGLE - Google LLC</td>\n",
       "      <td>-122.0574</td>\n",
       "      <td>37.4192</td>\n",
       "    </tr>\n",
       "    <tr>\n",
       "      <th>2</th>\n",
       "      <td>www.google.co.in</td>\n",
       "      <td>216.58.213.227</td>\n",
       "      <td>15169.0</td>\n",
       "      <td>GOOGLE - Google LLC</td>\n",
       "      <td>-122.0574</td>\n",
       "      <td>37.4192</td>\n",
       "    </tr>\n",
       "    <tr>\n",
       "      <th>3</th>\n",
       "      <td>www.blogspot.com</td>\n",
       "      <td>172.217.18.9</td>\n",
       "      <td>15169.0</td>\n",
       "      <td>GOOGLE - Google LLC</td>\n",
       "      <td>-122.0574</td>\n",
       "      <td>37.4192</td>\n",
       "    </tr>\n",
       "    <tr>\n",
       "      <th>4</th>\n",
       "      <td>www.google.co.jp</td>\n",
       "      <td>216.58.210.3</td>\n",
       "      <td>15169.0</td>\n",
       "      <td>GOOGLE - Google LLC</td>\n",
       "      <td>-122.0574</td>\n",
       "      <td>37.4192</td>\n",
       "    </tr>\n",
       "  </tbody>\n",
       "</table>\n",
       "</div>"
      ],
      "text/plain": [
       "                Url              Ip     ASNo               ASName        Lat  \\\n",
       "0    www.google.com   172.217.19.68  15169.0  GOOGLE - Google LLC  -122.0574   \n",
       "1   www.youtube.com   172.217.22.78  15169.0  GOOGLE - Google LLC  -122.0574   \n",
       "2  www.google.co.in  216.58.213.227  15169.0  GOOGLE - Google LLC  -122.0574   \n",
       "3  www.blogspot.com    172.217.18.9  15169.0  GOOGLE - Google LLC  -122.0574   \n",
       "4  www.google.co.jp    216.58.210.3  15169.0  GOOGLE - Google LLC  -122.0574   \n",
       "\n",
       "       Lon  \n",
       "0  37.4192  \n",
       "1  37.4192  \n",
       "2  37.4192  \n",
       "3  37.4192  \n",
       "4  37.4192  "
      ]
     },
     "execution_count": 14,
     "metadata": {},
     "output_type": "execute_result"
    }
   ],
   "source": [
    "asn.head()"
   ]
  },
  {
   "cell_type": "code",
   "execution_count": 15,
   "metadata": {},
   "outputs": [],
   "source": [
    "t = t.join(asn.set_index('Url'), on='Url', rsuffix='_right')"
   ]
  },
  {
   "cell_type": "code",
   "execution_count": 16,
   "metadata": {},
   "outputs": [],
   "source": [
    "t = t.drop('Ip_right', axis=1)"
   ]
  },
  {
   "cell_type": "code",
   "execution_count": 17,
   "metadata": {},
   "outputs": [
    {
     "data": {
      "text/plain": [
       "TimeOfMeasurement              721382\n",
       "Url                            721382\n",
       "Path                           721382\n",
       "Ip                             721382\n",
       "Port                           721382\n",
       "DNSTime                        721382\n",
       "ConnectionEstablishmentTime    721382\n",
       "TTFB                           721382\n",
       "TotalDownloadTime              721382\n",
       "HttpResponse                   721382\n",
       "Protocol                       721382\n",
       "ASNo                           562796\n",
       "ASName                         562796\n",
       "Lat                            562796\n",
       "Lon                            562796\n",
       "dtype: int64"
      ]
     },
     "execution_count": 17,
     "metadata": {},
     "output_type": "execute_result"
    }
   ],
   "source": [
    "t.count()"
   ]
  },
  {
   "cell_type": "code",
   "execution_count": 18,
   "metadata": {},
   "outputs": [
    {
     "data": {
      "text/html": [
       "<div>\n",
       "<style scoped>\n",
       "    .dataframe tbody tr th:only-of-type {\n",
       "        vertical-align: middle;\n",
       "    }\n",
       "\n",
       "    .dataframe tbody tr th {\n",
       "        vertical-align: top;\n",
       "    }\n",
       "\n",
       "    .dataframe thead th {\n",
       "        text-align: right;\n",
       "    }\n",
       "</style>\n",
       "<table border=\"1\" class=\"dataframe\">\n",
       "  <thead>\n",
       "    <tr style=\"text-align: right;\">\n",
       "      <th></th>\n",
       "      <th>TimeOfMeasurement</th>\n",
       "      <th>Url</th>\n",
       "      <th>Path</th>\n",
       "      <th>Ip</th>\n",
       "      <th>Port</th>\n",
       "      <th>DNSTime</th>\n",
       "      <th>ConnectionEstablishmentTime</th>\n",
       "      <th>TTFB</th>\n",
       "      <th>TotalDownloadTime</th>\n",
       "      <th>HttpResponse</th>\n",
       "      <th>Protocol</th>\n",
       "      <th>ASNo</th>\n",
       "      <th>ASName</th>\n",
       "      <th>Lat</th>\n",
       "      <th>Lon</th>\n",
       "    </tr>\n",
       "  </thead>\n",
       "  <tbody>\n",
       "    <tr>\n",
       "      <th>0</th>\n",
       "      <td>1.589587e+09</td>\n",
       "      <td>www.0dayrox2.blogspot.com</td>\n",
       "      <td>/</td>\n",
       "      <td>216.58.199.129</td>\n",
       "      <td>443</td>\n",
       "      <td>173.387</td>\n",
       "      <td>125.274</td>\n",
       "      <td>511.025</td>\n",
       "      <td>60.569</td>\n",
       "      <td>404.0</td>\n",
       "      <td>Q043</td>\n",
       "      <td>15169.0</td>\n",
       "      <td>GOOGLE - Google LLC</td>\n",
       "      <td>-122.0574</td>\n",
       "      <td>37.4192</td>\n",
       "    </tr>\n",
       "    <tr>\n",
       "      <th>1</th>\n",
       "      <td>1.589587e+09</td>\n",
       "      <td>www.0dayrox2.blogspot.com</td>\n",
       "      <td>/</td>\n",
       "      <td>216.58.199.129</td>\n",
       "      <td>443</td>\n",
       "      <td>0.693</td>\n",
       "      <td>125.736</td>\n",
       "      <td>579.538</td>\n",
       "      <td>878.539</td>\n",
       "      <td>404.0</td>\n",
       "      <td>Q046</td>\n",
       "      <td>15169.0</td>\n",
       "      <td>GOOGLE - Google LLC</td>\n",
       "      <td>-122.0574</td>\n",
       "      <td>37.4192</td>\n",
       "    </tr>\n",
       "    <tr>\n",
       "      <th>2</th>\n",
       "      <td>1.589587e+09</td>\n",
       "      <td>www.0dayrox2.blogspot.com</td>\n",
       "      <td>/</td>\n",
       "      <td>216.58.199.129</td>\n",
       "      <td>443</td>\n",
       "      <td>0.753</td>\n",
       "      <td>125.767</td>\n",
       "      <td>602.459</td>\n",
       "      <td>918.512</td>\n",
       "      <td>404.0</td>\n",
       "      <td>Q050</td>\n",
       "      <td>15169.0</td>\n",
       "      <td>GOOGLE - Google LLC</td>\n",
       "      <td>-122.0574</td>\n",
       "      <td>37.4192</td>\n",
       "    </tr>\n",
       "    <tr>\n",
       "      <th>8</th>\n",
       "      <td>1.589587e+09</td>\n",
       "      <td>www.0dayrox.blogspot.com</td>\n",
       "      <td>/</td>\n",
       "      <td>216.58.199.129</td>\n",
       "      <td>443</td>\n",
       "      <td>71.259</td>\n",
       "      <td>128.807</td>\n",
       "      <td>577.817</td>\n",
       "      <td>879.955</td>\n",
       "      <td>404.0</td>\n",
       "      <td>Q043</td>\n",
       "      <td>15169.0</td>\n",
       "      <td>GOOGLE - Google LLC</td>\n",
       "      <td>-122.0574</td>\n",
       "      <td>37.4192</td>\n",
       "    </tr>\n",
       "    <tr>\n",
       "      <th>9</th>\n",
       "      <td>1.589587e+09</td>\n",
       "      <td>www.0dayrox.blogspot.com</td>\n",
       "      <td>/</td>\n",
       "      <td>216.58.199.129</td>\n",
       "      <td>443</td>\n",
       "      <td>1.193</td>\n",
       "      <td>135.858</td>\n",
       "      <td>628.999</td>\n",
       "      <td>930.813</td>\n",
       "      <td>404.0</td>\n",
       "      <td>Q046</td>\n",
       "      <td>15169.0</td>\n",
       "      <td>GOOGLE - Google LLC</td>\n",
       "      <td>-122.0574</td>\n",
       "      <td>37.4192</td>\n",
       "    </tr>\n",
       "  </tbody>\n",
       "</table>\n",
       "</div>"
      ],
      "text/plain": [
       "   TimeOfMeasurement                        Url Path              Ip Port  \\\n",
       "0       1.589587e+09  www.0dayrox2.blogspot.com    /  216.58.199.129  443   \n",
       "1       1.589587e+09  www.0dayrox2.blogspot.com    /  216.58.199.129  443   \n",
       "2       1.589587e+09  www.0dayrox2.blogspot.com    /  216.58.199.129  443   \n",
       "8       1.589587e+09   www.0dayrox.blogspot.com    /  216.58.199.129  443   \n",
       "9       1.589587e+09   www.0dayrox.blogspot.com    /  216.58.199.129  443   \n",
       "\n",
       "   DNSTime  ConnectionEstablishmentTime     TTFB  TotalDownloadTime  \\\n",
       "0  173.387                      125.274  511.025             60.569   \n",
       "1    0.693                      125.736  579.538            878.539   \n",
       "2    0.753                      125.767  602.459            918.512   \n",
       "8   71.259                      128.807  577.817            879.955   \n",
       "9    1.193                      135.858  628.999            930.813   \n",
       "\n",
       "   HttpResponse Protocol     ASNo               ASName        Lat      Lon  \n",
       "0         404.0     Q043  15169.0  GOOGLE - Google LLC  -122.0574  37.4192  \n",
       "1         404.0     Q046  15169.0  GOOGLE - Google LLC  -122.0574  37.4192  \n",
       "2         404.0     Q050  15169.0  GOOGLE - Google LLC  -122.0574  37.4192  \n",
       "8         404.0     Q043  15169.0  GOOGLE - Google LLC  -122.0574  37.4192  \n",
       "9         404.0     Q046  15169.0  GOOGLE - Google LLC  -122.0574  37.4192  "
      ]
     },
     "execution_count": 18,
     "metadata": {},
     "output_type": "execute_result"
    }
   ],
   "source": [
    "t.head()"
   ]
  },
  {
   "cell_type": "code",
   "execution_count": 19,
   "metadata": {},
   "outputs": [],
   "source": [
    "def timestamp2human(timestamp):\n",
    "    return datetime.datetime.fromtimestamp(int(timestamp)).strftime('%c')"
   ]
  },
  {
   "cell_type": "code",
   "execution_count": 20,
   "metadata": {},
   "outputs": [],
   "source": [
    "#t['TimeOfMeasurement'] = t['TimeOfMeasurement'].apply(timestamp2human)"
   ]
  },
  {
   "cell_type": "code",
   "execution_count": 21,
   "metadata": {},
   "outputs": [
    {
     "data": {
      "text/html": [
       "<div>\n",
       "<style scoped>\n",
       "    .dataframe tbody tr th:only-of-type {\n",
       "        vertical-align: middle;\n",
       "    }\n",
       "\n",
       "    .dataframe tbody tr th {\n",
       "        vertical-align: top;\n",
       "    }\n",
       "\n",
       "    .dataframe thead th {\n",
       "        text-align: right;\n",
       "    }\n",
       "</style>\n",
       "<table border=\"1\" class=\"dataframe\">\n",
       "  <thead>\n",
       "    <tr style=\"text-align: right;\">\n",
       "      <th></th>\n",
       "      <th>TimeOfMeasurement</th>\n",
       "      <th>Url</th>\n",
       "      <th>Path</th>\n",
       "      <th>Ip</th>\n",
       "      <th>Port</th>\n",
       "      <th>DNSTime</th>\n",
       "      <th>ConnectionEstablishmentTime</th>\n",
       "      <th>TTFB</th>\n",
       "      <th>TotalDownloadTime</th>\n",
       "      <th>HttpResponse</th>\n",
       "      <th>Protocol</th>\n",
       "      <th>ASNo</th>\n",
       "      <th>ASName</th>\n",
       "      <th>Lat</th>\n",
       "      <th>Lon</th>\n",
       "    </tr>\n",
       "  </thead>\n",
       "  <tbody>\n",
       "    <tr>\n",
       "      <th>0</th>\n",
       "      <td>1.589587e+09</td>\n",
       "      <td>www.0dayrox2.blogspot.com</td>\n",
       "      <td>/</td>\n",
       "      <td>216.58.199.129</td>\n",
       "      <td>443</td>\n",
       "      <td>173.387</td>\n",
       "      <td>125.274</td>\n",
       "      <td>511.025</td>\n",
       "      <td>60.569</td>\n",
       "      <td>404.0</td>\n",
       "      <td>Q043</td>\n",
       "      <td>15169.0</td>\n",
       "      <td>GOOGLE - Google LLC</td>\n",
       "      <td>-122.0574</td>\n",
       "      <td>37.4192</td>\n",
       "    </tr>\n",
       "    <tr>\n",
       "      <th>1</th>\n",
       "      <td>1.589587e+09</td>\n",
       "      <td>www.0dayrox2.blogspot.com</td>\n",
       "      <td>/</td>\n",
       "      <td>216.58.199.129</td>\n",
       "      <td>443</td>\n",
       "      <td>0.693</td>\n",
       "      <td>125.736</td>\n",
       "      <td>579.538</td>\n",
       "      <td>878.539</td>\n",
       "      <td>404.0</td>\n",
       "      <td>Q046</td>\n",
       "      <td>15169.0</td>\n",
       "      <td>GOOGLE - Google LLC</td>\n",
       "      <td>-122.0574</td>\n",
       "      <td>37.4192</td>\n",
       "    </tr>\n",
       "    <tr>\n",
       "      <th>2</th>\n",
       "      <td>1.589587e+09</td>\n",
       "      <td>www.0dayrox2.blogspot.com</td>\n",
       "      <td>/</td>\n",
       "      <td>216.58.199.129</td>\n",
       "      <td>443</td>\n",
       "      <td>0.753</td>\n",
       "      <td>125.767</td>\n",
       "      <td>602.459</td>\n",
       "      <td>918.512</td>\n",
       "      <td>404.0</td>\n",
       "      <td>Q050</td>\n",
       "      <td>15169.0</td>\n",
       "      <td>GOOGLE - Google LLC</td>\n",
       "      <td>-122.0574</td>\n",
       "      <td>37.4192</td>\n",
       "    </tr>\n",
       "    <tr>\n",
       "      <th>8</th>\n",
       "      <td>1.589587e+09</td>\n",
       "      <td>www.0dayrox.blogspot.com</td>\n",
       "      <td>/</td>\n",
       "      <td>216.58.199.129</td>\n",
       "      <td>443</td>\n",
       "      <td>71.259</td>\n",
       "      <td>128.807</td>\n",
       "      <td>577.817</td>\n",
       "      <td>879.955</td>\n",
       "      <td>404.0</td>\n",
       "      <td>Q043</td>\n",
       "      <td>15169.0</td>\n",
       "      <td>GOOGLE - Google LLC</td>\n",
       "      <td>-122.0574</td>\n",
       "      <td>37.4192</td>\n",
       "    </tr>\n",
       "    <tr>\n",
       "      <th>9</th>\n",
       "      <td>1.589587e+09</td>\n",
       "      <td>www.0dayrox.blogspot.com</td>\n",
       "      <td>/</td>\n",
       "      <td>216.58.199.129</td>\n",
       "      <td>443</td>\n",
       "      <td>1.193</td>\n",
       "      <td>135.858</td>\n",
       "      <td>628.999</td>\n",
       "      <td>930.813</td>\n",
       "      <td>404.0</td>\n",
       "      <td>Q046</td>\n",
       "      <td>15169.0</td>\n",
       "      <td>GOOGLE - Google LLC</td>\n",
       "      <td>-122.0574</td>\n",
       "      <td>37.4192</td>\n",
       "    </tr>\n",
       "  </tbody>\n",
       "</table>\n",
       "</div>"
      ],
      "text/plain": [
       "   TimeOfMeasurement                        Url Path              Ip Port  \\\n",
       "0       1.589587e+09  www.0dayrox2.blogspot.com    /  216.58.199.129  443   \n",
       "1       1.589587e+09  www.0dayrox2.blogspot.com    /  216.58.199.129  443   \n",
       "2       1.589587e+09  www.0dayrox2.blogspot.com    /  216.58.199.129  443   \n",
       "8       1.589587e+09   www.0dayrox.blogspot.com    /  216.58.199.129  443   \n",
       "9       1.589587e+09   www.0dayrox.blogspot.com    /  216.58.199.129  443   \n",
       "\n",
       "   DNSTime  ConnectionEstablishmentTime     TTFB  TotalDownloadTime  \\\n",
       "0  173.387                      125.274  511.025             60.569   \n",
       "1    0.693                      125.736  579.538            878.539   \n",
       "2    0.753                      125.767  602.459            918.512   \n",
       "8   71.259                      128.807  577.817            879.955   \n",
       "9    1.193                      135.858  628.999            930.813   \n",
       "\n",
       "   HttpResponse Protocol     ASNo               ASName        Lat      Lon  \n",
       "0         404.0     Q043  15169.0  GOOGLE - Google LLC  -122.0574  37.4192  \n",
       "1         404.0     Q046  15169.0  GOOGLE - Google LLC  -122.0574  37.4192  \n",
       "2         404.0     Q050  15169.0  GOOGLE - Google LLC  -122.0574  37.4192  \n",
       "8         404.0     Q043  15169.0  GOOGLE - Google LLC  -122.0574  37.4192  \n",
       "9         404.0     Q046  15169.0  GOOGLE - Google LLC  -122.0574  37.4192  "
      ]
     },
     "execution_count": 21,
     "metadata": {},
     "output_type": "execute_result"
    }
   ],
   "source": [
    "t.head()"
   ]
  },
  {
   "cell_type": "code",
   "execution_count": 22,
   "metadata": {},
   "outputs": [
    {
     "data": {
      "text/html": [
       "<div>\n",
       "<style scoped>\n",
       "    .dataframe tbody tr th:only-of-type {\n",
       "        vertical-align: middle;\n",
       "    }\n",
       "\n",
       "    .dataframe tbody tr th {\n",
       "        vertical-align: top;\n",
       "    }\n",
       "\n",
       "    .dataframe thead th {\n",
       "        text-align: right;\n",
       "    }\n",
       "</style>\n",
       "<table border=\"1\" class=\"dataframe\">\n",
       "  <thead>\n",
       "    <tr style=\"text-align: right;\">\n",
       "      <th></th>\n",
       "      <th>TimeOfMeasurement</th>\n",
       "      <th>Url</th>\n",
       "      <th>Path</th>\n",
       "      <th>Ip</th>\n",
       "      <th>Port</th>\n",
       "      <th>DNSTime</th>\n",
       "      <th>ConnectionEstablishmentTime</th>\n",
       "      <th>TTFB</th>\n",
       "      <th>TotalDownloadTime</th>\n",
       "      <th>HttpResponse</th>\n",
       "      <th>Protocol</th>\n",
       "      <th>ASNo</th>\n",
       "      <th>ASName</th>\n",
       "      <th>Lat</th>\n",
       "      <th>Lon</th>\n",
       "    </tr>\n",
       "  </thead>\n",
       "  <tbody>\n",
       "    <tr>\n",
       "      <th>2050064</th>\n",
       "      <td>1.589990e+09</td>\n",
       "      <td>www.hqnetflixcookies.blogspot.com</td>\n",
       "      <td>/</td>\n",
       "      <td>216.58.203.161</td>\n",
       "      <td>443</td>\n",
       "      <td>120.259</td>\n",
       "      <td>166.214</td>\n",
       "      <td>819.493</td>\n",
       "      <td>819.552</td>\n",
       "      <td>301.0</td>\n",
       "      <td>Q046</td>\n",
       "      <td>15169.0</td>\n",
       "      <td>GOOGLE - Google LLC</td>\n",
       "      <td>-122.0574</td>\n",
       "      <td>37.4192</td>\n",
       "    </tr>\n",
       "    <tr>\n",
       "      <th>2050068</th>\n",
       "      <td>1.589990e+09</td>\n",
       "      <td>www.yyoossk.blogspot.com</td>\n",
       "      <td>/</td>\n",
       "      <td>216.58.203.161</td>\n",
       "      <td>443</td>\n",
       "      <td>84.050</td>\n",
       "      <td>162.605</td>\n",
       "      <td>491.129</td>\n",
       "      <td>491.186</td>\n",
       "      <td>301.0</td>\n",
       "      <td>Q046</td>\n",
       "      <td>15169.0</td>\n",
       "      <td>GOOGLE - Google LLC</td>\n",
       "      <td>-122.0574</td>\n",
       "      <td>37.4192</td>\n",
       "    </tr>\n",
       "    <tr>\n",
       "      <th>2050069</th>\n",
       "      <td>1.589990e+09</td>\n",
       "      <td>www.hqnetflixcookies.blogspot.com</td>\n",
       "      <td>/</td>\n",
       "      <td>216.58.203.161</td>\n",
       "      <td>443</td>\n",
       "      <td>36.078</td>\n",
       "      <td>205.196</td>\n",
       "      <td>574.523</td>\n",
       "      <td>574.576</td>\n",
       "      <td>301.0</td>\n",
       "      <td>Q050</td>\n",
       "      <td>15169.0</td>\n",
       "      <td>GOOGLE - Google LLC</td>\n",
       "      <td>-122.0574</td>\n",
       "      <td>37.4192</td>\n",
       "    </tr>\n",
       "    <tr>\n",
       "      <th>2050070</th>\n",
       "      <td>1.589990e+09</td>\n",
       "      <td>www.mexicocomic.blogspot.com</td>\n",
       "      <td>/</td>\n",
       "      <td>216.58.203.161</td>\n",
       "      <td>443</td>\n",
       "      <td>2.406</td>\n",
       "      <td>163.568</td>\n",
       "      <td>491.533</td>\n",
       "      <td>491.596</td>\n",
       "      <td>301.0</td>\n",
       "      <td>Q046</td>\n",
       "      <td>15169.0</td>\n",
       "      <td>GOOGLE - Google LLC</td>\n",
       "      <td>-122.0574</td>\n",
       "      <td>37.4192</td>\n",
       "    </tr>\n",
       "    <tr>\n",
       "      <th>2050071</th>\n",
       "      <td>1.589990e+09</td>\n",
       "      <td>www.yyoossk.blogspot.com</td>\n",
       "      <td>/</td>\n",
       "      <td>216.58.203.161</td>\n",
       "      <td>443</td>\n",
       "      <td>0.958</td>\n",
       "      <td>161.045</td>\n",
       "      <td>490.260</td>\n",
       "      <td>491.823</td>\n",
       "      <td>301.0</td>\n",
       "      <td>Q050</td>\n",
       "      <td>15169.0</td>\n",
       "      <td>GOOGLE - Google LLC</td>\n",
       "      <td>-122.0574</td>\n",
       "      <td>37.4192</td>\n",
       "    </tr>\n",
       "  </tbody>\n",
       "</table>\n",
       "</div>"
      ],
      "text/plain": [
       "         TimeOfMeasurement                                Url Path  \\\n",
       "2050064       1.589990e+09  www.hqnetflixcookies.blogspot.com    /   \n",
       "2050068       1.589990e+09           www.yyoossk.blogspot.com    /   \n",
       "2050069       1.589990e+09  www.hqnetflixcookies.blogspot.com    /   \n",
       "2050070       1.589990e+09       www.mexicocomic.blogspot.com    /   \n",
       "2050071       1.589990e+09           www.yyoossk.blogspot.com    /   \n",
       "\n",
       "                     Ip Port  DNSTime  ConnectionEstablishmentTime     TTFB  \\\n",
       "2050064  216.58.203.161  443  120.259                      166.214  819.493   \n",
       "2050068  216.58.203.161  443   84.050                      162.605  491.129   \n",
       "2050069  216.58.203.161  443   36.078                      205.196  574.523   \n",
       "2050070  216.58.203.161  443    2.406                      163.568  491.533   \n",
       "2050071  216.58.203.161  443    0.958                      161.045  490.260   \n",
       "\n",
       "         TotalDownloadTime  HttpResponse Protocol     ASNo  \\\n",
       "2050064            819.552         301.0     Q046  15169.0   \n",
       "2050068            491.186         301.0     Q046  15169.0   \n",
       "2050069            574.576         301.0     Q050  15169.0   \n",
       "2050070            491.596         301.0     Q046  15169.0   \n",
       "2050071            491.823         301.0     Q050  15169.0   \n",
       "\n",
       "                      ASName        Lat      Lon  \n",
       "2050064  GOOGLE - Google LLC  -122.0574  37.4192  \n",
       "2050068  GOOGLE - Google LLC  -122.0574  37.4192  \n",
       "2050069  GOOGLE - Google LLC  -122.0574  37.4192  \n",
       "2050070  GOOGLE - Google LLC  -122.0574  37.4192  \n",
       "2050071  GOOGLE - Google LLC  -122.0574  37.4192  "
      ]
     },
     "execution_count": 22,
     "metadata": {},
     "output_type": "execute_result"
    }
   ],
   "source": [
    "t.tail()"
   ]
  },
  {
   "cell_type": "code",
   "execution_count": 23,
   "metadata": {},
   "outputs": [],
   "source": [
    "def filter_by_ip(df, column):\n",
    "  \"\"\"reads a DataFrame, calls fbi.filter_v{4,6} to get DataFrames with rows\n",
    "     containing only v4, v6 endpoints. Returns the two DataFrame as a tuple\"\"\"\n",
    "\n",
    "  dfv6 = fbi.filter_v6(df, column)\n",
    "  dfv4 = fbi.filter_v4(df, column)\n",
    "  return dfv4, dfv6"
   ]
  },
  {
   "cell_type": "code",
   "execution_count": 24,
   "metadata": {},
   "outputs": [],
   "source": [
    "#quic4, quic6 = filter_by_ip(t, column = 'Ip')\n",
    "quic4 = t[t['Ip'].str.contains(\"\\.\")]\n",
    "quic6 = t[t['Ip'].str.contains(\"\\:\")]"
   ]
  },
  {
   "cell_type": "code",
   "execution_count": 25,
   "metadata": {},
   "outputs": [],
   "source": [
    "quic4 = quic4[quic4['HttpResponse'] == 200.0]\n",
    "quic6 = quic6[quic6['HttpResponse'] == 200.0]"
   ]
  },
  {
   "cell_type": "code",
   "execution_count": 26,
   "metadata": {},
   "outputs": [
    {
     "data": {
      "text/plain": [
       "TimeOfMeasurement              161310\n",
       "Url                            161310\n",
       "Path                           161310\n",
       "Ip                             161310\n",
       "Port                           161310\n",
       "DNSTime                        161310\n",
       "ConnectionEstablishmentTime    161310\n",
       "TTFB                           161310\n",
       "TotalDownloadTime              161310\n",
       "HttpResponse                   161310\n",
       "Protocol                       161310\n",
       "ASNo                           104562\n",
       "ASName                         104562\n",
       "Lat                            104562\n",
       "Lon                            104562\n",
       "dtype: int64"
      ]
     },
     "execution_count": 26,
     "metadata": {},
     "output_type": "execute_result"
    }
   ],
   "source": [
    "quic4.count()"
   ]
  },
  {
   "cell_type": "code",
   "execution_count": 27,
   "metadata": {},
   "outputs": [
    {
     "data": {
      "text/html": [
       "<div>\n",
       "<style scoped>\n",
       "    .dataframe tbody tr th:only-of-type {\n",
       "        vertical-align: middle;\n",
       "    }\n",
       "\n",
       "    .dataframe tbody tr th {\n",
       "        vertical-align: top;\n",
       "    }\n",
       "\n",
       "    .dataframe thead th {\n",
       "        text-align: right;\n",
       "    }\n",
       "</style>\n",
       "<table border=\"1\" class=\"dataframe\">\n",
       "  <thead>\n",
       "    <tr style=\"text-align: right;\">\n",
       "      <th></th>\n",
       "      <th>TimeOfMeasurement</th>\n",
       "      <th>Url</th>\n",
       "      <th>Path</th>\n",
       "      <th>Ip</th>\n",
       "      <th>Port</th>\n",
       "      <th>DNSTime</th>\n",
       "      <th>ConnectionEstablishmentTime</th>\n",
       "      <th>TTFB</th>\n",
       "      <th>TotalDownloadTime</th>\n",
       "      <th>HttpResponse</th>\n",
       "      <th>Protocol</th>\n",
       "      <th>ASNo</th>\n",
       "      <th>ASName</th>\n",
       "      <th>Lat</th>\n",
       "      <th>Lon</th>\n",
       "    </tr>\n",
       "  </thead>\n",
       "  <tbody>\n",
       "    <tr>\n",
       "      <th>24</th>\n",
       "      <td>1.589587e+09</td>\n",
       "      <td>www.100negocios.com</td>\n",
       "      <td>/</td>\n",
       "      <td>66.198.240.11</td>\n",
       "      <td>443</td>\n",
       "      <td>922.571</td>\n",
       "      <td>419.492</td>\n",
       "      <td>112.632</td>\n",
       "      <td>606.883</td>\n",
       "      <td>200.0</td>\n",
       "      <td>Q043</td>\n",
       "      <td>NaN</td>\n",
       "      <td>NaN</td>\n",
       "      <td>NaN</td>\n",
       "      <td>NaN</td>\n",
       "    </tr>\n",
       "    <tr>\n",
       "      <th>25</th>\n",
       "      <td>1.589587e+09</td>\n",
       "      <td>www.100negocios.com</td>\n",
       "      <td>/</td>\n",
       "      <td>66.198.240.11</td>\n",
       "      <td>443</td>\n",
       "      <td>3.666</td>\n",
       "      <td>415.011</td>\n",
       "      <td>144.847</td>\n",
       "      <td>632.249</td>\n",
       "      <td>200.0</td>\n",
       "      <td>Q046</td>\n",
       "      <td>NaN</td>\n",
       "      <td>NaN</td>\n",
       "      <td>NaN</td>\n",
       "      <td>NaN</td>\n",
       "    </tr>\n",
       "    <tr>\n",
       "      <th>26</th>\n",
       "      <td>1.589587e+09</td>\n",
       "      <td>www.100negocios.com</td>\n",
       "      <td>/</td>\n",
       "      <td>66.198.240.11</td>\n",
       "      <td>443</td>\n",
       "      <td>0.728</td>\n",
       "      <td>413.455</td>\n",
       "      <td>96.477</td>\n",
       "      <td>594.103</td>\n",
       "      <td>200.0</td>\n",
       "      <td>Q050</td>\n",
       "      <td>NaN</td>\n",
       "      <td>NaN</td>\n",
       "      <td>NaN</td>\n",
       "      <td>NaN</td>\n",
       "    </tr>\n",
       "    <tr>\n",
       "      <th>120</th>\n",
       "      <td>1.589587e+09</td>\n",
       "      <td>www.1-link.org</td>\n",
       "      <td>/</td>\n",
       "      <td>78.142.29.4</td>\n",
       "      <td>443</td>\n",
       "      <td>535.450</td>\n",
       "      <td>324.205</td>\n",
       "      <td>547.710</td>\n",
       "      <td>557.430</td>\n",
       "      <td>200.0</td>\n",
       "      <td>Q043</td>\n",
       "      <td>206349.0</td>\n",
       "      <td>BLUEANGELHOST - BlueAngelHost Pvt. Ltd</td>\n",
       "      <td>23.3333</td>\n",
       "      <td>42.7</td>\n",
       "    </tr>\n",
       "    <tr>\n",
       "      <th>121</th>\n",
       "      <td>1.589587e+09</td>\n",
       "      <td>www.1-link.org</td>\n",
       "      <td>/</td>\n",
       "      <td>78.142.29.4</td>\n",
       "      <td>443</td>\n",
       "      <td>0.672</td>\n",
       "      <td>351.892</td>\n",
       "      <td>569.269</td>\n",
       "      <td>579.629</td>\n",
       "      <td>200.0</td>\n",
       "      <td>Q046</td>\n",
       "      <td>206349.0</td>\n",
       "      <td>BLUEANGELHOST - BlueAngelHost Pvt. Ltd</td>\n",
       "      <td>23.3333</td>\n",
       "      <td>42.7</td>\n",
       "    </tr>\n",
       "  </tbody>\n",
       "</table>\n",
       "</div>"
      ],
      "text/plain": [
       "     TimeOfMeasurement                  Url Path             Ip Port  DNSTime  \\\n",
       "24        1.589587e+09  www.100negocios.com    /  66.198.240.11  443  922.571   \n",
       "25        1.589587e+09  www.100negocios.com    /  66.198.240.11  443    3.666   \n",
       "26        1.589587e+09  www.100negocios.com    /  66.198.240.11  443    0.728   \n",
       "120       1.589587e+09       www.1-link.org    /    78.142.29.4  443  535.450   \n",
       "121       1.589587e+09       www.1-link.org    /    78.142.29.4  443    0.672   \n",
       "\n",
       "     ConnectionEstablishmentTime     TTFB  TotalDownloadTime  HttpResponse  \\\n",
       "24                       419.492  112.632            606.883         200.0   \n",
       "25                       415.011  144.847            632.249         200.0   \n",
       "26                       413.455   96.477            594.103         200.0   \n",
       "120                      324.205  547.710            557.430         200.0   \n",
       "121                      351.892  569.269            579.629         200.0   \n",
       "\n",
       "    Protocol      ASNo                                  ASName      Lat   Lon  \n",
       "24      Q043       NaN                                     NaN      NaN   NaN  \n",
       "25      Q046       NaN                                     NaN      NaN   NaN  \n",
       "26      Q050       NaN                                     NaN      NaN   NaN  \n",
       "120     Q043  206349.0  BLUEANGELHOST - BlueAngelHost Pvt. Ltd  23.3333  42.7  \n",
       "121     Q046  206349.0  BLUEANGELHOST - BlueAngelHost Pvt. Ltd  23.3333  42.7  "
      ]
     },
     "execution_count": 27,
     "metadata": {},
     "output_type": "execute_result"
    }
   ],
   "source": [
    "quic4.head()"
   ]
  },
  {
   "cell_type": "code",
   "execution_count": 28,
   "metadata": {},
   "outputs": [
    {
     "data": {
      "text/plain": [
       "TimeOfMeasurement              0\n",
       "Url                            0\n",
       "Path                           0\n",
       "Ip                             0\n",
       "Port                           0\n",
       "DNSTime                        0\n",
       "ConnectionEstablishmentTime    0\n",
       "TTFB                           0\n",
       "TotalDownloadTime              0\n",
       "HttpResponse                   0\n",
       "Protocol                       0\n",
       "ASNo                           0\n",
       "ASName                         0\n",
       "Lat                            0\n",
       "Lon                            0\n",
       "dtype: int64"
      ]
     },
     "execution_count": 28,
     "metadata": {},
     "output_type": "execute_result"
    }
   ],
   "source": [
    "quic6.count()"
   ]
  },
  {
   "cell_type": "code",
   "execution_count": 29,
   "metadata": {
    "lines_to_next_cell": 2
   },
   "outputs": [
    {
     "data": {
      "text/html": [
       "<div>\n",
       "<style scoped>\n",
       "    .dataframe tbody tr th:only-of-type {\n",
       "        vertical-align: middle;\n",
       "    }\n",
       "\n",
       "    .dataframe tbody tr th {\n",
       "        vertical-align: top;\n",
       "    }\n",
       "\n",
       "    .dataframe thead th {\n",
       "        text-align: right;\n",
       "    }\n",
       "</style>\n",
       "<table border=\"1\" class=\"dataframe\">\n",
       "  <thead>\n",
       "    <tr style=\"text-align: right;\">\n",
       "      <th></th>\n",
       "      <th>TimeOfMeasurement</th>\n",
       "      <th>Url</th>\n",
       "      <th>Path</th>\n",
       "      <th>Ip</th>\n",
       "      <th>Port</th>\n",
       "      <th>DNSTime</th>\n",
       "      <th>ConnectionEstablishmentTime</th>\n",
       "      <th>TTFB</th>\n",
       "      <th>TotalDownloadTime</th>\n",
       "      <th>HttpResponse</th>\n",
       "      <th>Protocol</th>\n",
       "      <th>ASNo</th>\n",
       "      <th>ASName</th>\n",
       "      <th>Lat</th>\n",
       "      <th>Lon</th>\n",
       "    </tr>\n",
       "  </thead>\n",
       "  <tbody>\n",
       "  </tbody>\n",
       "</table>\n",
       "</div>"
      ],
      "text/plain": [
       "Empty DataFrame\n",
       "Columns: [TimeOfMeasurement, Url, Path, Ip, Port, DNSTime, ConnectionEstablishmentTime, TTFB, TotalDownloadTime, HttpResponse, Protocol, ASNo, ASName, Lat, Lon]\n",
       "Index: []"
      ]
     },
     "execution_count": 29,
     "metadata": {},
     "output_type": "execute_result"
    }
   ],
   "source": [
    "quic6.head()"
   ]
  },
  {
   "cell_type": "code",
   "execution_count": 30,
   "metadata": {},
   "outputs": [
    {
     "data": {
      "text/plain": [
       "ASNo      ASName                                   \n",
       "15169.0   GOOGLE - Google LLC                          442310\n",
       "15133.0   EDGECAST - MCI Communications Services        54480\n",
       "35415.0   WEBZILLA - Webzilla B.V.                       5083\n",
       "55293.0   A2HOSTING - A2 Hosting                         4873\n",
       "203226.0  IHCRU - Internet-Hosting Ltd                   4495\n",
       "                                                        ...  \n",
       "63408.0   SHOPIFYASN2 - Shopify                            56\n",
       "55720.0   GIGABIT-MY Gigabit Hosting Sdn Bhd               55\n",
       "43754.0   ASIATECH - Asiatech Data Transfer Inc PLC        50\n",
       "20473.0   AS-CHOOPA - Choopa                               27\n",
       "47748.0   DATICUM - Daticum JSC                            24\n",
       "Length: 85, dtype: int64"
      ]
     },
     "execution_count": 30,
     "metadata": {},
     "output_type": "execute_result"
    }
   ],
   "source": [
    "t.groupby(['ASNo', 'ASName']).size().sort_values(ascending=False)"
   ]
  },
  {
   "cell_type": "code",
   "execution_count": 31,
   "metadata": {},
   "outputs": [
    {
     "data": {
      "text/plain": [
       "ASNo      ASName                                   \n",
       "15169.0   GOOGLE - Google LLC                          442310\n",
       "15133.0   EDGECAST - MCI Communications Services        54480\n",
       "35415.0   WEBZILLA - Webzilla B.V.                       5083\n",
       "55293.0   A2HOSTING - A2 Hosting                         4873\n",
       "203226.0  IHCRU - Internet-Hosting Ltd                   4495\n",
       "                                                        ...  \n",
       "63408.0   SHOPIFYASN2 - Shopify                            56\n",
       "55720.0   GIGABIT-MY Gigabit Hosting Sdn Bhd               55\n",
       "43754.0   ASIATECH - Asiatech Data Transfer Inc PLC        50\n",
       "20473.0   AS-CHOOPA - Choopa                               27\n",
       "47748.0   DATICUM - Daticum JSC                            24\n",
       "Length: 85, dtype: int64"
      ]
     },
     "execution_count": 31,
     "metadata": {},
     "output_type": "execute_result"
    }
   ],
   "source": [
    "t.groupby(['ASNo', 'ASName']).size().sort_values(ascending=False)"
   ]
  },
  {
   "cell_type": "code",
   "execution_count": 32,
   "metadata": {},
   "outputs": [],
   "source": [
    "quic15169 = quic4.loc[t['ASNo'] == 15169]\n",
    "quic15133 = quic4.loc[t['ASNo'] == 15133]\n",
    "quic55293= quic4.loc[t['ASNo'] == 55293]\n",
    "quic35415 = quic4.loc[t['ASNo'] == 35415]\n",
    "quic203226 = quic4.loc[t['ASNo'] == 203226]"
   ]
  },
  {
   "cell_type": "code",
   "execution_count": 33,
   "metadata": {},
   "outputs": [
    {
     "data": {
      "text/plain": [
       "TimeOfMeasurement              41663\n",
       "Url                            41663\n",
       "Path                           41663\n",
       "Ip                             41663\n",
       "Port                           41663\n",
       "DNSTime                        41663\n",
       "ConnectionEstablishmentTime    41663\n",
       "TTFB                           41663\n",
       "TotalDownloadTime              41663\n",
       "HttpResponse                   41663\n",
       "Protocol                       41663\n",
       "ASNo                           41663\n",
       "ASName                         41663\n",
       "Lat                            41663\n",
       "Lon                            41663\n",
       "dtype: int64"
      ]
     },
     "execution_count": 33,
     "metadata": {},
     "output_type": "execute_result"
    }
   ],
   "source": [
    "quic15169.count()"
   ]
  },
  {
   "cell_type": "code",
   "execution_count": 34,
   "metadata": {},
   "outputs": [
    {
     "data": {
      "text/plain": [
       "TimeOfMeasurement              33226\n",
       "Url                            33226\n",
       "Path                           33226\n",
       "Ip                             33226\n",
       "Port                           33226\n",
       "DNSTime                        33226\n",
       "ConnectionEstablishmentTime    33226\n",
       "TTFB                           33226\n",
       "TotalDownloadTime              33226\n",
       "HttpResponse                   33226\n",
       "Protocol                       33226\n",
       "ASNo                           33226\n",
       "ASName                         33226\n",
       "Lat                            33226\n",
       "Lon                            33226\n",
       "dtype: int64"
      ]
     },
     "execution_count": 34,
     "metadata": {},
     "output_type": "execute_result"
    }
   ],
   "source": [
    "quic15133.count()"
   ]
  },
  {
   "cell_type": "code",
   "execution_count": 35,
   "metadata": {},
   "outputs": [
    {
     "data": {
      "text/plain": [
       "TimeOfMeasurement              33226\n",
       "Url                            33226\n",
       "Path                           33226\n",
       "Ip                             33226\n",
       "Port                           33226\n",
       "DNSTime                        33226\n",
       "ConnectionEstablishmentTime    33226\n",
       "TTFB                           33226\n",
       "TotalDownloadTime              33226\n",
       "HttpResponse                   33226\n",
       "Protocol                       33226\n",
       "ASNo                           33226\n",
       "ASName                         33226\n",
       "Lat                            33226\n",
       "Lon                            33226\n",
       "dtype: int64"
      ]
     },
     "execution_count": 35,
     "metadata": {},
     "output_type": "execute_result"
    }
   ],
   "source": [
    "quic15133.count()"
   ]
  },
  {
   "cell_type": "code",
   "execution_count": 36,
   "metadata": {},
   "outputs": [
    {
     "data": {
      "text/plain": [
       "TimeOfMeasurement              2760\n",
       "Url                            2760\n",
       "Path                           2760\n",
       "Ip                             2760\n",
       "Port                           2760\n",
       "DNSTime                        2760\n",
       "ConnectionEstablishmentTime    2760\n",
       "TTFB                           2760\n",
       "TotalDownloadTime              2760\n",
       "HttpResponse                   2760\n",
       "Protocol                       2760\n",
       "ASNo                           2760\n",
       "ASName                         2760\n",
       "Lat                            2760\n",
       "Lon                            2760\n",
       "dtype: int64"
      ]
     },
     "execution_count": 36,
     "metadata": {},
     "output_type": "execute_result"
    }
   ],
   "source": [
    "quic55293.count()"
   ]
  },
  {
   "cell_type": "code",
   "execution_count": 37,
   "metadata": {},
   "outputs": [
    {
     "data": {
      "text/plain": [
       "TimeOfMeasurement              1024\n",
       "Url                            1024\n",
       "Path                           1024\n",
       "Ip                             1024\n",
       "Port                           1024\n",
       "DNSTime                        1024\n",
       "ConnectionEstablishmentTime    1024\n",
       "TTFB                           1024\n",
       "TotalDownloadTime              1024\n",
       "HttpResponse                   1024\n",
       "Protocol                       1024\n",
       "ASNo                           1024\n",
       "ASName                         1024\n",
       "Lat                            1024\n",
       "Lon                            1024\n",
       "dtype: int64"
      ]
     },
     "execution_count": 37,
     "metadata": {},
     "output_type": "execute_result"
    }
   ],
   "source": [
    "quic35415.count()"
   ]
  },
  {
   "cell_type": "code",
   "execution_count": 38,
   "metadata": {},
   "outputs": [],
   "source": [
    "quic15169_6 = quic6.loc[t['ASNo'] == 15169]\n",
    "quic15133_6 = quic6.loc[t['ASNo'] == 15133]\n",
    "quic55293_6 = quic6.loc[t['ASNo'] == 55293]\n",
    "quic35415_6 = quic6.loc[t['ASNo'] == 35415]\n",
    "quic203226_6 = quic6.loc[t['ASNo'] == 203226]"
   ]
  },
  {
   "cell_type": "code",
   "execution_count": 39,
   "metadata": {},
   "outputs": [
    {
     "data": {
      "text/plain": [
       "TimeOfMeasurement              0\n",
       "Url                            0\n",
       "Path                           0\n",
       "Ip                             0\n",
       "Port                           0\n",
       "DNSTime                        0\n",
       "ConnectionEstablishmentTime    0\n",
       "TTFB                           0\n",
       "TotalDownloadTime              0\n",
       "HttpResponse                   0\n",
       "Protocol                       0\n",
       "ASNo                           0\n",
       "ASName                         0\n",
       "Lat                            0\n",
       "Lon                            0\n",
       "dtype: int64"
      ]
     },
     "execution_count": 39,
     "metadata": {},
     "output_type": "execute_result"
    }
   ],
   "source": [
    "quic15169_6.count()"
   ]
  },
  {
   "cell_type": "code",
   "execution_count": 40,
   "metadata": {},
   "outputs": [
    {
     "data": {
      "text/plain": [
       "TimeOfMeasurement              33226\n",
       "Url                            33226\n",
       "Path                           33226\n",
       "Ip                             33226\n",
       "Port                           33226\n",
       "DNSTime                        33226\n",
       "ConnectionEstablishmentTime    33226\n",
       "TTFB                           33226\n",
       "TotalDownloadTime              33226\n",
       "HttpResponse                   33226\n",
       "Protocol                       33226\n",
       "ASNo                           33226\n",
       "ASName                         33226\n",
       "Lat                            33226\n",
       "Lon                            33226\n",
       "dtype: int64"
      ]
     },
     "execution_count": 40,
     "metadata": {},
     "output_type": "execute_result"
    }
   ],
   "source": [
    "quic15133.count()"
   ]
  },
  {
   "cell_type": "code",
   "execution_count": 41,
   "metadata": {},
   "outputs": [],
   "source": [
    "x = Cdf.MakeCdfFromList(quic15169['ConnectionEstablishmentTime'].values)\n",
    "x1 =Cdf.MakeCdfFromList(quic15133['ConnectionEstablishmentTime'].values)\n",
    "x3 = Cdf.MakeCdfFromList(quic55293['ConnectionEstablishmentTime'].values)\n",
    "x4 = Cdf.MakeCdfFromList(quic35415['ConnectionEstablishmentTime'].values)\n",
    "x5 = Cdf.MakeCdfFromList(quic203226['ConnectionEstablishmentTime'].values)"
   ]
  },
  {
   "cell_type": "code",
   "execution_count": 42,
   "metadata": {},
   "outputs": [
    {
     "name": "stdout",
     "output_type": "stream",
     "text": [
      "-----------------------------\n",
      "\n",
      "percentile values distribution for quic15133\n",
      "\n",
      "50th Percentile:41.617000\n",
      "\n",
      "90th Percentile:193.970000\n",
      "\n",
      "99th Percentile:900.646000\n",
      "\n",
      "25th Percentile:8.199000\n",
      "\n",
      "75th Percentile:79.634000\n",
      "\n",
      "20th Percentile:41.617000\n",
      "\n",
      "40th Percentile:193.970000\n",
      "\n",
      "60th Percentile:900.646000\n",
      "\n",
      "80th Percentile:8.199000\n",
      "\n",
      "-----------------------------\n",
      "\n",
      "-----------------------------\n",
      "\n",
      "percentile values distribution for quic55293\n",
      "\n",
      "50th Percentile:413.041000\n",
      "\n",
      "90th Percentile:489.255000\n",
      "\n",
      "99th Percentile:800.052000\n",
      "\n",
      "25th Percentile:407.556000\n",
      "\n",
      "75th Percentile:449.883000\n",
      "\n",
      "20th Percentile:413.041000\n",
      "\n",
      "40th Percentile:489.255000\n",
      "\n",
      "60th Percentile:800.052000\n",
      "\n",
      "80th Percentile:407.556000\n",
      "\n",
      "-----------------------------\n",
      "\n",
      "-----------------------------\n",
      "\n",
      "percentile values distribution for quic35415\n",
      "\n",
      "50th Percentile:246.484000\n",
      "\n",
      "90th Percentile:288.184000\n",
      "\n",
      "99th Percentile:756.179000\n",
      "\n",
      "25th Percentile:240.581000\n",
      "\n",
      "75th Percentile:283.660000\n",
      "\n",
      "20th Percentile:246.484000\n",
      "\n",
      "40th Percentile:288.184000\n",
      "\n",
      "60th Percentile:756.179000\n",
      "\n",
      "80th Percentile:240.581000\n",
      "\n",
      "-----------------------------\n",
      "\n",
      "-----------------------------\n",
      "\n",
      "percentile values distribution for quic203226\n",
      "\n",
      "50th Percentile:326.161000\n",
      "\n",
      "90th Percentile:330.203000\n",
      "\n",
      "99th Percentile:721.297000\n",
      "\n",
      "25th Percentile:300.430000\n",
      "\n",
      "75th Percentile:328.338000\n",
      "\n",
      "20th Percentile:326.161000\n",
      "\n",
      "40th Percentile:330.203000\n",
      "\n",
      "60th Percentile:721.297000\n",
      "\n",
      "80th Percentile:300.430000\n",
      "\n",
      "-----------------------------\n",
      "\n",
      "-----------------------------\n",
      "\n",
      "percentile values distribution for quic15169\n",
      "\n",
      "50th Percentile:160.148000\n",
      "\n",
      "90th Percentile:166.374000\n",
      "\n",
      "99th Percentile:735.444000\n",
      "\n",
      "25th Percentile:124.636000\n",
      "\n",
      "75th Percentile:163.814000\n",
      "\n",
      "20th Percentile:160.148000\n",
      "\n",
      "40th Percentile:166.374000\n",
      "\n",
      "60th Percentile:735.444000\n",
      "\n",
      "80th Percentile:124.636000\n",
      "\n",
      "-----------------------------\n",
      "\n"
     ]
    }
   ],
   "source": [
    "print_percentiles(x1, 'quic15133')\n",
    "print_percentiles(x3, 'quic55293')\n",
    "print_percentiles(x4, 'quic35415')\n",
    "print_percentiles(x5, 'quic203226')\n",
    "print_percentiles(x, 'quic15169')"
   ]
  },
  {
   "cell_type": "code",
   "execution_count": 43,
   "metadata": {},
   "outputs": [
    {
     "name": "stderr",
     "output_type": "stream",
     "text": [
      "findfont: Font family ['monospace'] not found. Falling back to DejaVu Sans.\n",
      "findfont: Font family ['monospace'] not found. Falling back to DejaVu Sans.\n",
      "findfont: Font family ['monospace'] not found. Falling back to DejaVu Sans.\n",
      "findfont: Font family ['monospace'] not found. Falling back to DejaVu Sans.\n",
      "findfont: Font family ['monospace'] not found. Falling back to DejaVu Sans.\n",
      "findfont: Font family ['monospace'] not found. Falling back to DejaVu Sans.\n"
     ]
    },
    {
     "data": {
      "image/png": "[encoded data removed]",
      "text/plain": [
       "<Figure size 900x600 with 1 Axes>"
      ]
     },
     "metadata": {
      "needs_background": "light"
     },
     "output_type": "display_data"
    }
   ],
   "source": [
    "data = {'$\\\\bf{ASN}$': ['GOOGLE', 'EDGECAST', 'A2HOSTING', 'WEBZILLA', 'IHCRU'],\n",
    "\t'$\\\\bf{25th}$': [\"{:.2f}\".format(x.Percentile(25)), \"{:.2f}\".format(x1.Percentile(25)), \"{:.2f}\".format(x3.Percentile(25)), \"{:.2f}\".format(x4.Percentile(25)), \"{:.2f}\".format(x5.Percentile(25))],\n",
    "\t'$\\\\bf{50th}$': [\"{:.2f}\".format(x.Percentile(50)), \"{:.2f}\".format(x1.Percentile(50)), \"{:.2f}\".format(x3.Percentile(50)), \"{:.2f}\".format(x4.Percentile(50)), \"{:.2f}\".format(x5.Percentile(50))],\n",
    "\t'$\\\\bf{75th}$': [\"{:.2f}\".format(x.Percentile(75)), \"{:.2f}\".format(x1.Percentile(75)), \"{:.2f}\".format(x3.Percentile(75)), \"{:.2f}\".format(x4.Percentile(75)), \"{:.2f}\".format(x5.Percentile(75))],\n",
    "\t'$\\\\bf{80th}$': [\"{:.2f}\".format(x.Percentile(80)), \"{:.2f}\".format(x1.Percentile(80)), \"{:.2f}\".format(x3.Percentile(80)), \"{:.2f}\".format(x4.Percentile(80)), \"{:.2f}\".format(x5.Percentile(80))],\n",
    "    '$\\\\bf{90th}$': [\"{:.2f}\".format(x.Percentile(90)), \"{:.2f}\".format(x1.Percentile(90)), \"{:.2f}\".format(x3.Percentile(90)), \"{:.2f}\".format(x4.Percentile(90)), \"{:.2f}\".format(x5.Percentile(90))]\n",
    "        }    \n",
    "\n",
    "df_percentile = pd.DataFrame(data)\n",
    "\n",
    "fig, ax = plt.subplots(dpi=150)\n",
    "\n",
    " #hide axes\n",
    "fig.patch.set_visible(False)\n",
    "ax.axis('off')\n",
    "ax.axis('tight')\n",
    "\n",
    "ax.table(cellText=df_percentile.values, colLabels=df_percentile.columns, loc='center', cellLoc='center')\n",
    "\n",
    "#fig.tight_layout()\n",
    "plt.savefig('./AWS/Mumbai/ASN/handshake_times_IPv4_asno_percentile.png', format='png', bbox_inches='tight')\n"
   ]
  },
  {
   "cell_type": "code",
   "execution_count": 44,
   "metadata": {},
   "outputs": [],
   "source": [
    "write_percentiles('quic15133.csv', x1)\n",
    "write_percentiles('quic55293.csv', x3)\n",
    "write_percentiles('quic35415.csv', x4)\n",
    "write_percentiles('quic203226.csv', x5)\n",
    "write_percentiles('quic15169.csv', x)"
   ]
  },
  {
   "cell_type": "code",
   "execution_count": 45,
   "metadata": {
    "scrolled": false
   },
   "outputs": [
    {
     "name": "stderr",
     "output_type": "stream",
     "text": [
      "findfont: Font family ['monospace'] not found. Falling back to DejaVu Sans.\n",
      "findfont: Font family ['monospace'] not found. Falling back to DejaVu Sans.\n"
     ]
    },
    {
     "data": {
      "image/png": "[encoded data removed]",
      "text/plain": [
       "<Figure size 720x216 with 2 Axes>"
      ]
     },
     "metadata": {
      "needs_background": "light"
     },
     "output_type": "display_data"
    }
   ],
   "source": [
    "fig = plt.figure(figsize = (10,3))\n",
    "plt.rcParams['font.size'] = 12\n",
    "ax = plt.gca()\n",
    "yticks = np.arange(0,1.1,0.2)\n",
    "\n",
    "#15169\n",
    "plt.plot(x.xs, x.ps, marker='s', linewidth=0.3, markersize=5, fillstyle='none', color = 'orange')\n",
    "#15133\n",
    "plt.plot(x1.xs, x1.ps, marker='s', linewidth=0.3, markersize=5, fillstyle='none', color = 'red')\n",
    "#55293\n",
    "plt.plot(x3.xs, x3.ps, marker='s', linewidth=0.3, markersize=5, fillstyle='none', color = 'green')\n",
    "#35415\n",
    "plt.plot(x4.xs, x4.ps, marker='s', linewidth=0.3, markersize=5, fillstyle='none', color = 'black')\n",
    "#203226\n",
    "plt.plot(x5.xs, x5.ps, marker='s', linewidth=0.3, markersize=5, fillstyle='none', color = 'blue')\n",
    "\n",
    "\n",
    "\n",
    "ax = fig.axes[0]\n",
    "ax.grid(False)\n",
    "ax.set_yticks(yticks)\n",
    "ax.set_ylim([0,1.05])\n",
    "##ax.set_xlim([20,100])\n",
    "ax.set_xscale('log')\n",
    "ax.set_xlabel('latency (x-axis is cut)', fontsize=12)\n",
    "ax.set_ylabel('CDF', fontsize=12)\n",
    "\n",
    "plt.legend(['GOOGLE', 'EDGECAST', 'A2Hosting', 'Webzilla', 'IHCRU'], fontsize=11, loc='best')\n",
    "\n",
    "ax.spines['right'].set_color('none')\n",
    "ax.spines['top'].set_color('none')\n",
    "ax.yaxis.set_ticks_position('left')\n",
    "ax.xaxis.set_ticks_position('bottom')\n",
    "ax.spines['bottom'].set_position(('axes', -0.05))\n",
    "ax.spines['left'].set_position(('axes', -0.05))\n",
    "\n",
    "ax3 = ax.twinx()\n",
    "ax3.spines['right'].set_color('none')\n",
    "ax3.spines['top'].set_color('none')\n",
    "ax3.spines['left'].set_color('none')\n",
    "ax3.spines['bottom'].set_color('none')\n",
    "ax3.yaxis.set_ticks_position('none')\n",
    "plt.setp(ax3.get_yticklabels(), visible=False)\n",
    "\n",
    "plt.title('Handshake Times with IPv4', fontsize=12, y=1.05)\n",
    "plt.savefig('./AWS/Mumbai/ASN/handshake_times_IPv4_asno.png', format='png', bbox_inches='tight')\n"
   ]
  },
  {
   "cell_type": "code",
   "execution_count": null,
   "metadata": {},
   "outputs": [],
   "source": []
  },
  {
   "cell_type": "code",
   "execution_count": 46,
   "metadata": {},
   "outputs": [],
   "source": [
    "x = Cdf.MakeCdfFromList(quic15169['TTFB'].values)\n",
    "x1 =Cdf.MakeCdfFromList(quic15133['TTFB'].values)\n",
    "x3 = Cdf.MakeCdfFromList(quic55293['TTFB'].values)\n",
    "x4 = Cdf.MakeCdfFromList(quic35415['TTFB'].values)\n",
    "x5 = Cdf.MakeCdfFromList(quic203226['TTFB'].values)"
   ]
  },
  {
   "cell_type": "code",
   "execution_count": 47,
   "metadata": {},
   "outputs": [
    {
     "name": "stdout",
     "output_type": "stream",
     "text": [
      "-----------------------------\n",
      "\n",
      "percentile values distribution for quic15133\n",
      "\n",
      "50th Percentile:244.486000\n",
      "\n",
      "90th Percentile:739.194000\n",
      "\n",
      "99th Percentile:975.966000\n",
      "\n",
      "25th Percentile:80.665000\n",
      "\n",
      "75th Percentile:517.065000\n",
      "\n",
      "20th Percentile:244.486000\n",
      "\n",
      "40th Percentile:739.194000\n",
      "\n",
      "60th Percentile:975.966000\n",
      "\n",
      "80th Percentile:80.665000\n",
      "\n",
      "-----------------------------\n",
      "\n",
      "-----------------------------\n",
      "\n",
      "percentile values distribution for quic55293\n",
      "\n",
      "50th Percentile:618.585000\n",
      "\n",
      "90th Percentile:735.502000\n",
      "\n",
      "99th Percentile:960.112000\n",
      "\n",
      "25th Percentile:375.956000\n",
      "\n",
      "75th Percentile:658.358000\n",
      "\n",
      "20th Percentile:618.585000\n",
      "\n",
      "40th Percentile:735.502000\n",
      "\n",
      "60th Percentile:960.112000\n",
      "\n",
      "80th Percentile:375.956000\n",
      "\n",
      "-----------------------------\n",
      "\n",
      "-----------------------------\n",
      "\n",
      "percentile values distribution for quic35415\n",
      "\n",
      "50th Percentile:406.362000\n",
      "\n",
      "90th Percentile:455.580000\n",
      "\n",
      "99th Percentile:807.853000\n",
      "\n",
      "25th Percentile:367.661000\n",
      "\n",
      "75th Percentile:421.760000\n",
      "\n",
      "20th Percentile:406.362000\n",
      "\n",
      "40th Percentile:455.580000\n",
      "\n",
      "60th Percentile:807.853000\n",
      "\n",
      "80th Percentile:367.661000\n",
      "\n",
      "-----------------------------\n",
      "\n",
      "-----------------------------\n",
      "\n",
      "percentile values distribution for quic203226\n",
      "\n",
      "50th Percentile:490.846000\n",
      "\n",
      "90th Percentile:608.734000\n",
      "\n",
      "99th Percentile:904.852000\n",
      "\n",
      "25th Percentile:459.396000\n",
      "\n",
      "75th Percentile:529.491000\n",
      "\n",
      "20th Percentile:490.846000\n",
      "\n",
      "40th Percentile:608.734000\n",
      "\n",
      "60th Percentile:904.852000\n",
      "\n",
      "80th Percentile:459.396000\n",
      "\n",
      "-----------------------------\n",
      "\n",
      "-----------------------------\n",
      "\n",
      "percentile values distribution for quic15169\n",
      "\n",
      "50th Percentile:285.273000\n",
      "\n",
      "90th Percentile:491.231000\n",
      "\n",
      "99th Percentile:856.602000\n",
      "\n",
      "25th Percentile:228.924000\n",
      "\n",
      "75th Percentile:290.243000\n",
      "\n",
      "20th Percentile:285.273000\n",
      "\n",
      "40th Percentile:491.231000\n",
      "\n",
      "60th Percentile:856.602000\n",
      "\n",
      "80th Percentile:228.924000\n",
      "\n",
      "-----------------------------\n",
      "\n"
     ]
    }
   ],
   "source": [
    "print_percentiles(x1, 'quic15133')\n",
    "print_percentiles(x3, 'quic55293')\n",
    "print_percentiles(x4, 'quic35415')\n",
    "print_percentiles(x5, 'quic203226')\n",
    "print_percentiles(x, 'quic15169')"
   ]
  },
  {
   "cell_type": "code",
   "execution_count": 48,
   "metadata": {},
   "outputs": [],
   "source": [
    "write_percentiles('quic15133.csv', x1)\n",
    "write_percentiles('quic55293.csv', x3)\n",
    "write_percentiles('quic35415.csv', x4)\n",
    "write_percentiles('quic203226.csv', x5)\n",
    "write_percentiles('quic15169.csv', x)"
   ]
  },
  {
   "cell_type": "code",
   "execution_count": 49,
   "metadata": {},
   "outputs": [
    {
     "name": "stderr",
     "output_type": "stream",
     "text": [
      "findfont: Font family ['monospace'] not found. Falling back to DejaVu Sans.\n",
      "findfont: Font family ['monospace'] not found. Falling back to DejaVu Sans.\n",
      "findfont: Font family ['monospace'] not found. Falling back to DejaVu Sans.\n",
      "findfont: Font family ['monospace'] not found. Falling back to DejaVu Sans.\n",
      "findfont: Font family ['monospace'] not found. Falling back to DejaVu Sans.\n"
     ]
    },
    {
     "data": {
      "image/png": "[encoded data removed]",
      "text/plain": [
       "<Figure size 900x600 with 1 Axes>"
      ]
     },
     "metadata": {
      "needs_background": "light"
     },
     "output_type": "display_data"
    }
   ],
   "source": [
    "data = {'$\\\\bf{ASN}$': ['GOOGLE', 'EDGECAST', 'A2HOSTING', 'WEBZILLA', 'IHCRU'],\n",
    "\t'$\\\\bf{25th}$': [\"{:.2f}\".format(x.Percentile(25)), \"{:.2f}\".format(x1.Percentile(25)), \"{:.2f}\".format(x3.Percentile(25)), \"{:.2f}\".format(x4.Percentile(25)), \"{:.2f}\".format(x5.Percentile(25))],\n",
    "\t'$\\\\bf{50th}$': [\"{:.2f}\".format(x.Percentile(50)), \"{:.2f}\".format(x1.Percentile(50)), \"{:.2f}\".format(x3.Percentile(50)), \"{:.2f}\".format(x4.Percentile(50)), \"{:.2f}\".format(x5.Percentile(50))],\n",
    "\t'$\\\\bf{75th}$': [\"{:.2f}\".format(x.Percentile(75)), \"{:.2f}\".format(x1.Percentile(75)), \"{:.2f}\".format(x3.Percentile(75)), \"{:.2f}\".format(x4.Percentile(75)), \"{:.2f}\".format(x5.Percentile(75))],\n",
    "\t'$\\\\bf{80th}$': [\"{:.2f}\".format(x.Percentile(80)), \"{:.2f}\".format(x1.Percentile(80)), \"{:.2f}\".format(x3.Percentile(80)), \"{:.2f}\".format(x4.Percentile(80)), \"{:.2f}\".format(x5.Percentile(80))],\n",
    "    '$\\\\bf{90th}$': [\"{:.2f}\".format(x.Percentile(90)), \"{:.2f}\".format(x1.Percentile(90)), \"{:.2f}\".format(x3.Percentile(90)), \"{:.2f}\".format(x4.Percentile(90)), \"{:.2f}\".format(x5.Percentile(90))]\n",
    "        }    \n",
    "\n",
    "df_percentile = pd.DataFrame(data)\n",
    "\n",
    "fig, ax = plt.subplots(dpi=150)\n",
    "\n",
    " #hide axes\n",
    "fig.patch.set_visible(False)\n",
    "ax.axis('off')\n",
    "ax.axis('tight')\n",
    "\n",
    "ax.table(cellText=df_percentile.values, colLabels=df_percentile.columns, loc='center', cellLoc='center')\n",
    "\n",
    "#fig.tight_layout()\n",
    "plt.savefig('./AWS/Mumbai/ASN/TTFB_ipv4_asno_percentile.png', format='png', bbox_inches='tight')"
   ]
  },
  {
   "cell_type": "code",
   "execution_count": 50,
   "metadata": {},
   "outputs": [
    {
     "data": {
      "image/png": "[encoded data removed]",
      "text/plain": [
       "<Figure size 720x216 with 2 Axes>"
      ]
     },
     "metadata": {
      "needs_background": "light"
     },
     "output_type": "display_data"
    }
   ],
   "source": [
    "fig = plt.figure(figsize = (10,3))\n",
    "plt.rcParams['font.size'] = 12\n",
    "ax = plt.gca()\n",
    "yticks = np.arange(0,1.1,0.2)\n",
    "\n",
    "#15169\n",
    "plt.plot(x.xs, x.ps, marker='s', linewidth=0.3, markersize=5, fillstyle='none', color = 'orange')\n",
    "#15133\n",
    "plt.plot(x1.xs, x1.ps, marker='s', linewidth=0.3, markersize=5, fillstyle='none', color = 'red')\n",
    "#55293\n",
    "plt.plot(x3.xs, x3.ps, marker='s', linewidth=0.3, markersize=5, fillstyle='none', color = 'green')\n",
    "#35415\n",
    "plt.plot(x4.xs, x4.ps, marker='s', linewidth=0.3, markersize=5, fillstyle='none', color = 'black')\n",
    "#203226\n",
    "plt.plot(x5.xs, x5.ps, marker='s', linewidth=0.3, markersize=5, fillstyle='none', color = 'blue')\n",
    "\n",
    "\n",
    "ax = fig.axes[0]\n",
    "ax.grid(False)\n",
    "ax.set_yticks(yticks)\n",
    "ax.set_ylim([0,1.05])\n",
    "#ax.set_xlim([20,1000])\n",
    "ax.set_xscale('log')\n",
    "ax.set_xlabel('TTFB', fontsize=12)\n",
    "ax.set_ylabel('CDF', fontsize=12)\n",
    "\n",
    "plt.legend(['GOOGLE', 'EDGECAST', 'A2Hosting', 'Webzilla', 'IHCRU'], fontsize=11, loc='best')\n",
    "\n",
    "ax.spines['right'].set_color('none')\n",
    "ax.spines['top'].set_color('none')\n",
    "ax.yaxis.set_ticks_position('left')\n",
    "ax.xaxis.set_ticks_position('bottom')\n",
    "ax.spines['bottom'].set_position(('axes', -0.05))\n",
    "ax.spines['left'].set_position(('axes', -0.05))\n",
    "\n",
    "ax3 = ax.twinx()\n",
    "ax3.spines['right'].set_color('none')\n",
    "ax3.spines['top'].set_color('none')\n",
    "ax3.spines['left'].set_color('none')\n",
    "ax3.spines['bottom'].set_color('none')\n",
    "ax3.yaxis.set_ticks_position('none')\n",
    "plt.setp(ax3.get_yticklabels(), visible=False)\n",
    "\n",
    "plt.title('TTFB with IPv4', fontsize=12, y=1.05)\n",
    "plt.savefig('./AWS/Mumbai/ASN/TTFB_ipv4_asno.png', format='png', bbox_inches='tight')"
   ]
  },
  {
   "cell_type": "code",
   "execution_count": 51,
   "metadata": {},
   "outputs": [],
   "source": [
    "x = Cdf.MakeCdfFromList(quic15169['TotalDownloadTime'].values)\n",
    "x1 =Cdf.MakeCdfFromList(quic15133['TotalDownloadTime'].values)\n",
    "x3 = Cdf.MakeCdfFromList(quic55293['TotalDownloadTime'].values)\n",
    "x4 = Cdf.MakeCdfFromList(quic35415['TotalDownloadTime'].values)\n",
    "x5 = Cdf.MakeCdfFromList(quic203226['TotalDownloadTime'].values)"
   ]
  },
  {
   "cell_type": "code",
   "execution_count": 52,
   "metadata": {},
   "outputs": [
    {
     "name": "stdout",
     "output_type": "stream",
     "text": [
      "-----------------------------\n",
      "\n",
      "percentile values distribution for quic15133\n",
      "\n",
      "50th Percentile:284.869000\n",
      "\n",
      "90th Percentile:845.979000\n",
      "\n",
      "99th Percentile:983.017000\n",
      "\n",
      "25th Percentile:98.891000\n",
      "\n",
      "75th Percentile:613.959000\n",
      "\n",
      "20th Percentile:284.869000\n",
      "\n",
      "40th Percentile:845.979000\n",
      "\n",
      "60th Percentile:983.017000\n",
      "\n",
      "80th Percentile:98.891000\n",
      "\n",
      "-----------------------------\n",
      "\n",
      "-----------------------------\n",
      "\n",
      "percentile values distribution for quic55293\n",
      "\n",
      "50th Percentile:635.002000\n",
      "\n",
      "90th Percentile:900.967000\n",
      "\n",
      "99th Percentile:982.603000\n",
      "\n",
      "25th Percentile:287.387000\n",
      "\n",
      "75th Percentile:739.052000\n",
      "\n",
      "20th Percentile:635.002000\n",
      "\n",
      "40th Percentile:900.967000\n",
      "\n",
      "60th Percentile:982.603000\n",
      "\n",
      "80th Percentile:287.387000\n",
      "\n",
      "-----------------------------\n",
      "\n",
      "-----------------------------\n",
      "\n",
      "percentile values distribution for quic35415\n",
      "\n",
      "50th Percentile:482.551000\n",
      "\n",
      "90th Percentile:611.843000\n",
      "\n",
      "99th Percentile:873.736000\n",
      "\n",
      "25th Percentile:397.894000\n",
      "\n",
      "75th Percentile:536.068000\n",
      "\n",
      "20th Percentile:482.551000\n",
      "\n",
      "40th Percentile:611.843000\n",
      "\n",
      "60th Percentile:873.736000\n",
      "\n",
      "80th Percentile:397.894000\n",
      "\n",
      "-----------------------------\n",
      "\n",
      "-----------------------------\n",
      "\n",
      "percentile values distribution for quic203226\n",
      "\n",
      "50th Percentile:491.252000\n",
      "\n",
      "90th Percentile:573.807000\n",
      "\n",
      "99th Percentile:946.598000\n",
      "\n",
      "25th Percentile:461.443000\n",
      "\n",
      "75th Percentile:531.414000\n",
      "\n",
      "20th Percentile:491.252000\n",
      "\n",
      "40th Percentile:573.807000\n",
      "\n",
      "60th Percentile:946.598000\n",
      "\n",
      "80th Percentile:461.443000\n",
      "\n",
      "-----------------------------\n",
      "\n",
      "-----------------------------\n",
      "\n",
      "percentile values distribution for quic15169\n",
      "\n",
      "50th Percentile:285.469000\n",
      "\n",
      "90th Percentile:550.136000\n",
      "\n",
      "99th Percentile:933.235000\n",
      "\n",
      "25th Percentile:228.853000\n",
      "\n",
      "75th Percentile:315.632000\n",
      "\n",
      "20th Percentile:285.469000\n",
      "\n",
      "40th Percentile:550.136000\n",
      "\n",
      "60th Percentile:933.235000\n",
      "\n",
      "80th Percentile:228.853000\n",
      "\n",
      "-----------------------------\n",
      "\n"
     ]
    }
   ],
   "source": [
    "print_percentiles(x1, 'quic15133')\n",
    "print_percentiles(x3, 'quic55293')\n",
    "print_percentiles(x4, 'quic35415')\n",
    "print_percentiles(x5, 'quic203226')\n",
    "print_percentiles(x, 'quic15169')"
   ]
  },
  {
   "cell_type": "code",
   "execution_count": 53,
   "metadata": {},
   "outputs": [],
   "source": [
    "write_percentiles('quic15133.csv', x1)\n",
    "write_percentiles('quic55293.csv', x3)\n",
    "write_percentiles('quic35415.csv', x4)\n",
    "write_percentiles('quic203226.csv', x5)\n",
    "write_percentiles('quic15169.csv', x)"
   ]
  },
  {
   "cell_type": "code",
   "execution_count": 54,
   "metadata": {},
   "outputs": [
    {
     "name": "stderr",
     "output_type": "stream",
     "text": [
      "findfont: Font family ['monospace'] not found. Falling back to DejaVu Sans.\n",
      "findfont: Font family ['monospace'] not found. Falling back to DejaVu Sans.\n",
      "findfont: Font family ['monospace'] not found. Falling back to DejaVu Sans.\n",
      "findfont: Font family ['monospace'] not found. Falling back to DejaVu Sans.\n",
      "findfont: Font family ['monospace'] not found. Falling back to DejaVu Sans.\n"
     ]
    },
    {
     "data": {
      "image/png": "[encoded data removed]",
      "text/plain": [
       "<Figure size 900x600 with 1 Axes>"
      ]
     },
     "metadata": {
      "needs_background": "light"
     },
     "output_type": "display_data"
    }
   ],
   "source": [
    "data = {'$\\\\bf{ASN}$': ['GOOGLE', 'EDGECAST', 'A2HOSTING', 'WEBZILLA', 'IHCRU'],\n",
    "\t'$\\\\bf{25th}$': [\"{:.2f}\".format(x.Percentile(25)), \"{:.2f}\".format(x1.Percentile(25)), \"{:.2f}\".format(x3.Percentile(25)), \"{:.2f}\".format(x4.Percentile(25)), \"{:.2f}\".format(x5.Percentile(25))],\n",
    "\t'$\\\\bf{50th}$': [\"{:.2f}\".format(x.Percentile(50)), \"{:.2f}\".format(x1.Percentile(50)), \"{:.2f}\".format(x3.Percentile(50)), \"{:.2f}\".format(x4.Percentile(50)), \"{:.2f}\".format(x5.Percentile(50))],\n",
    "\t'$\\\\bf{75th}$': [\"{:.2f}\".format(x.Percentile(75)), \"{:.2f}\".format(x1.Percentile(75)), \"{:.2f}\".format(x3.Percentile(75)), \"{:.2f}\".format(x4.Percentile(75)), \"{:.2f}\".format(x5.Percentile(75))],\n",
    "\t'$\\\\bf{80th}$': [\"{:.2f}\".format(x.Percentile(80)), \"{:.2f}\".format(x1.Percentile(80)), \"{:.2f}\".format(x3.Percentile(80)), \"{:.2f}\".format(x4.Percentile(80)), \"{:.2f}\".format(x5.Percentile(80))],\n",
    "    '$\\\\bf{90th}$': [\"{:.2f}\".format(x.Percentile(90)), \"{:.2f}\".format(x1.Percentile(90)), \"{:.2f}\".format(x3.Percentile(90)), \"{:.2f}\".format(x4.Percentile(90)), \"{:.2f}\".format(x5.Percentile(90))]\n",
    "        }    \n",
    "\n",
    "df_percentile = pd.DataFrame(data)\n",
    "\n",
    "fig, ax = plt.subplots(dpi=150)\n",
    "\n",
    " #hide axes\n",
    "fig.patch.set_visible(False)\n",
    "ax.axis('off')\n",
    "ax.axis('tight')\n",
    "\n",
    "ax.table(cellText=df_percentile.values, colLabels=df_percentile.columns, loc='center', cellLoc='center')\n",
    "\n",
    "#fig.tight_layout()\n",
    "plt.savefig('./AWS/Mumbai/ASN/TotalDownloadTime_ipv4_asno_percentile.png', format='png', bbox_inches='tight')"
   ]
  },
  {
   "cell_type": "code",
   "execution_count": 55,
   "metadata": {},
   "outputs": [
    {
     "data": {
      "image/png": "[encoded data removed]",
      "text/plain": [
       "<Figure size 720x216 with 2 Axes>"
      ]
     },
     "metadata": {
      "needs_background": "light"
     },
     "output_type": "display_data"
    }
   ],
   "source": [
    "fig = plt.figure(figsize = (10,3))\n",
    "plt.rcParams['font.size'] = 12\n",
    "ax = plt.gca()\n",
    "yticks = np.arange(0,1.1,0.2)\n",
    "\n",
    "#15169\n",
    "plt.plot(x.xs, x.ps, marker='s', linewidth=0.3, markersize=5, fillstyle='none', color = 'orange')\n",
    "#15133\n",
    "plt.plot(x1.xs, x1.ps, marker='s', linewidth=0.3, markersize=5, fillstyle='none', color = 'red')\n",
    "#55293\n",
    "plt.plot(x3.xs, x3.ps, marker='s', linewidth=0.3, markersize=5, fillstyle='none', color = 'green')\n",
    "#35415\n",
    "plt.plot(x4.xs, x4.ps, marker='s', linewidth=0.3, markersize=5, fillstyle='none', color = 'black')\n",
    "#203226\n",
    "plt.plot(x5.xs, x5.ps, marker='s', linewidth=0.3, markersize=5, fillstyle='none', color = 'blue')\n",
    "\n",
    "\n",
    "ax = fig.axes[0]\n",
    "ax.grid(False)\n",
    "ax.set_yticks(yticks)\n",
    "ax.set_ylim([0,1.05])\n",
    "#ax.set_xlim([20,1000])\n",
    "ax.set_xscale('log')\n",
    "ax.set_xlabel('TotalDownloadTime', fontsize=12)\n",
    "ax.set_ylabel('CDF', fontsize=12)\n",
    "\n",
    "plt.legend(['GOOGLE', 'EDGECAST', 'A2Hosting', 'Webzilla', 'IHCRU'], fontsize=11, loc='best')\n",
    "\n",
    "ax.spines['right'].set_color('none')\n",
    "ax.spines['top'].set_color('none')\n",
    "ax.yaxis.set_ticks_position('left')\n",
    "ax.xaxis.set_ticks_position('bottom')\n",
    "ax.spines['bottom'].set_position(('axes', -0.05))\n",
    "ax.spines['left'].set_position(('axes', -0.05))\n",
    "\n",
    "ax3 = ax.twinx()\n",
    "ax3.spines['right'].set_color('none')\n",
    "ax3.spines['top'].set_color('none')\n",
    "ax3.spines['left'].set_color('none')\n",
    "ax3.spines['bottom'].set_color('none')\n",
    "ax3.yaxis.set_ticks_position('none')\n",
    "plt.setp(ax3.get_yticklabels(), visible=False)\n",
    "\n",
    "plt.title('TotalDownloadTime with IPv4', fontsize=12, y=1.05)\n",
    "plt.savefig('./AWS/Mumbai/ASN/TotalDownloadTime_ipv4_asno.png', format='png', bbox_inches='tight')"
   ]
  },
  {
   "cell_type": "code",
   "execution_count": 56,
   "metadata": {},
   "outputs": [],
   "source": [
    "#GOOGLE\n",
    "quic46 = quic15169.loc[t['Protocol'] == 'Q046']\n",
    "quic43 = quic15169.loc[t['Protocol'] == 'Q043']\n",
    "quic50 = quic15169.loc[t['Protocol'] == 'Q050']\n",
    "quich24 = quic15169.loc[t['Protocol'] == 'FF000018']"
   ]
  },
  {
   "cell_type": "code",
   "execution_count": 57,
   "metadata": {},
   "outputs": [],
   "source": [
    "x = Cdf.MakeCdfFromList(quic43['ConnectionEstablishmentTime'].values)\n",
    "x1 =Cdf.MakeCdfFromList(quic46['ConnectionEstablishmentTime'].values)\n",
    "x3 = Cdf.MakeCdfFromList(quic50['ConnectionEstablishmentTime'].values)\n",
    "x5 = Cdf.MakeCdfFromList(quich24['ConnectionEstablishmentTime'].values)"
   ]
  },
  {
   "cell_type": "code",
   "execution_count": 58,
   "metadata": {},
   "outputs": [
    {
     "name": "stdout",
     "output_type": "stream",
     "text": [
      "-----------------------------\n",
      "\n",
      "percentile values distribution for Q046\n",
      "\n",
      "50th Percentile:159.983000\n",
      "\n",
      "90th Percentile:166.284000\n",
      "\n",
      "99th Percentile:735.912000\n",
      "\n",
      "25th Percentile:124.604000\n",
      "\n",
      "75th Percentile:163.626000\n",
      "\n",
      "20th Percentile:159.983000\n",
      "\n",
      "40th Percentile:166.284000\n",
      "\n",
      "60th Percentile:735.912000\n",
      "\n",
      "80th Percentile:124.604000\n",
      "\n",
      "-----------------------------\n",
      "\n",
      "-----------------------------\n",
      "\n",
      "percentile values distribution for Q050\n",
      "\n",
      "50th Percentile:160.015000\n",
      "\n",
      "90th Percentile:166.355000\n",
      "\n",
      "99th Percentile:776.799000\n",
      "\n",
      "25th Percentile:124.652000\n",
      "\n",
      "75th Percentile:163.813000\n",
      "\n",
      "20th Percentile:160.015000\n",
      "\n",
      "40th Percentile:166.355000\n",
      "\n",
      "60th Percentile:776.799000\n",
      "\n",
      "80th Percentile:124.652000\n",
      "\n",
      "-----------------------------\n",
      "\n",
      "-----------------------------\n",
      "\n",
      "percentile values distribution for Q043\n",
      "\n",
      "50th Percentile:160.635000\n",
      "\n",
      "90th Percentile:166.444000\n",
      "\n",
      "99th Percentile:679.635000\n",
      "\n",
      "25th Percentile:124.664000\n",
      "\n",
      "75th Percentile:163.959000\n",
      "\n",
      "20th Percentile:160.635000\n",
      "\n",
      "40th Percentile:166.444000\n",
      "\n",
      "60th Percentile:679.635000\n",
      "\n",
      "80th Percentile:124.664000\n",
      "\n",
      "-----------------------------\n",
      "\n"
     ]
    }
   ],
   "source": [
    "print_percentiles(x1, 'Q046')\n",
    "print_percentiles(x3, 'Q050')\n",
    "#print_percentiles(x5, 'h24')\n",
    "print_percentiles(x, 'Q043')"
   ]
  },
  {
   "cell_type": "code",
   "execution_count": 59,
   "metadata": {},
   "outputs": [
    {
     "name": "stderr",
     "output_type": "stream",
     "text": [
      "findfont: Font family ['monospace'] not found. Falling back to DejaVu Sans.\n",
      "findfont: Font family ['monospace'] not found. Falling back to DejaVu Sans.\n"
     ]
    },
    {
     "data": {
      "image/png": "[encoded data removed]",
      "text/plain": [
       "<Figure size 900x600 with 1 Axes>"
      ]
     },
     "metadata": {
      "needs_background": "light"
     },
     "output_type": "display_data"
    }
   ],
   "source": [
    "data = {'$\\\\bf{Protocol}$': ['Q043', 'Q046', 'Q050'],\n",
    "\t'$\\\\bf{25th}$': [\"{:.2f}\".format(x.Percentile(25)), \"{:.2f}\".format(x1.Percentile(25)), \"{:.2f}\".format(x3.Percentile(25))],\n",
    "\t'$\\\\bf{50th}$': [\"{:.2f}\".format(x.Percentile(50)), \"{:.2f}\".format(x1.Percentile(50)), \"{:.2f}\".format(x3.Percentile(50))],\n",
    "\t'$\\\\bf{75th}$': [\"{:.2f}\".format(x.Percentile(75)), \"{:.2f}\".format(x1.Percentile(75)), \"{:.2f}\".format(x3.Percentile(75))],\n",
    "\t'$\\\\bf{80th}$': [\"{:.2f}\".format(x.Percentile(80)), \"{:.2f}\".format(x1.Percentile(80)), \"{:.2f}\".format(x3.Percentile(80))],\n",
    "    '$\\\\bf{90th}$': [\"{:.2f}\".format(x.Percentile(90)), \"{:.2f}\".format(x1.Percentile(90)), \"{:.2f}\".format(x3.Percentile(90))]\n",
    "        }    \n",
    "\n",
    "df_percentile = pd.DataFrame(data)\n",
    "\n",
    "fig, ax = plt.subplots(dpi=150)\n",
    "\n",
    " #hide axes\n",
    "fig.patch.set_visible(False)\n",
    "ax.axis('off')\n",
    "ax.axis('tight')\n",
    "\n",
    "ax.table(cellText=df_percentile.values, colLabels=df_percentile.columns, loc='center', cellLoc='center')\n",
    "\n",
    "#fig.tight_layout()\n",
    "plt.savefig('./AWS/Mumbai/ASN/handshake_times_ipv4_asn15169_percentile.png', format='png', bbox_inches='tight')"
   ]
  },
  {
   "cell_type": "code",
   "execution_count": 60,
   "metadata": {},
   "outputs": [
    {
     "data": {
      "image/png": "[encoded data removed]",
      "text/plain": [
       "<Figure size 720x216 with 2 Axes>"
      ]
     },
     "metadata": {
      "needs_background": "light"
     },
     "output_type": "display_data"
    }
   ],
   "source": [
    "fig = plt.figure(figsize = (10,3))\n",
    "plt.rcParams['font.size'] = 12\n",
    "ax = plt.gca()\n",
    "yticks = np.arange(0,1.1,0.2)\n",
    "\n",
    "#Q043\n",
    "plt.plot(x.xs, x.ps, marker='s', linewidth=0.3, markersize=5, fillstyle='none', color = 'orange')\n",
    "#Q046\n",
    "plt.plot(x1.xs, x1.ps, marker='s', linewidth=0.3, markersize=5, fillstyle='none', color = 'red')\n",
    "#Q050\n",
    "plt.plot(x3.xs, x3.ps, marker='s', linewidth=0.3, markersize=5, fillstyle='none', color = 'green')\n",
    "#Qh24\n",
    "plt.plot(x5.xs, x5.ps, marker='s', linewidth=0.3, markersize=5, fillstyle='none', color = 'blue')\n",
    "\n",
    "\n",
    "\n",
    "ax = fig.axes[0]\n",
    "ax.grid(False)\n",
    "ax.set_yticks(yticks)\n",
    "ax.set_ylim([0,1.05])\n",
    "#ax.set_xlim([20,100])\n",
    "ax.set_xscale('log')\n",
    "ax.set_xlabel('latency (x-axis is cut)', fontsize=12)\n",
    "ax.set_ylabel('CDF', fontsize=12)\n",
    "\n",
    "plt.legend(['Q043', 'Q046', 'Q050', 'IETF h-24'] , fontsize=11, loc='best')\n",
    "\n",
    "ax.spines['right'].set_color('none')\n",
    "ax.spines['top'].set_color('none')\n",
    "ax.yaxis.set_ticks_position('left')\n",
    "ax.xaxis.set_ticks_position('bottom')\n",
    "ax.spines['bottom'].set_position(('axes', -0.05))\n",
    "ax.spines['left'].set_position(('axes', -0.05))\n",
    "\n",
    "ax3 = ax.twinx()\n",
    "ax3.spines['right'].set_color('none')\n",
    "ax3.spines['top'].set_color('none')\n",
    "ax3.spines['left'].set_color('none')\n",
    "ax3.spines['bottom'].set_color('none')\n",
    "ax3.yaxis.set_ticks_position('none')\n",
    "plt.setp(ax3.get_yticklabels(), visible=False)\n",
    "\n",
    "plt.title('Handshake Times with IPv4', fontsize=12, y=1.05)\n",
    "plt.savefig('./AWS/Mumbai/ASN/handshake_times_ipv4_asn15169.png', format='png', bbox_inches='tight')\n"
   ]
  },
  {
   "cell_type": "code",
   "execution_count": 61,
   "metadata": {},
   "outputs": [],
   "source": [
    "x = Cdf.MakeCdfFromList(quic43['TTFB'].values)\n",
    "x1 =Cdf.MakeCdfFromList(quic46['TTFB'].values)\n",
    "x3 = Cdf.MakeCdfFromList(quic50['TTFB'].values)\n",
    "x5 = Cdf.MakeCdfFromList(quich24['TTFB'].values)"
   ]
  },
  {
   "cell_type": "code",
   "execution_count": 62,
   "metadata": {
    "lines_to_next_cell": 2
   },
   "outputs": [
    {
     "name": "stdout",
     "output_type": "stream",
     "text": [
      "-----------------------------\n",
      "\n",
      "percentile values distribution for Q046\n",
      "\n",
      "50th Percentile:284.936000\n",
      "\n",
      "90th Percentile:489.661000\n",
      "\n",
      "99th Percentile:856.319000\n",
      "\n",
      "25th Percentile:227.591000\n",
      "\n",
      "75th Percentile:288.577000\n",
      "\n",
      "20th Percentile:284.936000\n",
      "\n",
      "40th Percentile:489.661000\n",
      "\n",
      "60th Percentile:856.319000\n",
      "\n",
      "80th Percentile:227.591000\n",
      "\n",
      "-----------------------------\n",
      "\n",
      "-----------------------------\n",
      "\n",
      "percentile values distribution for Q050\n",
      "\n",
      "50th Percentile:284.907000\n",
      "\n",
      "90th Percentile:489.758000\n",
      "\n",
      "99th Percentile:855.659000\n",
      "\n",
      "25th Percentile:227.171000\n",
      "\n",
      "75th Percentile:288.472000\n",
      "\n",
      "20th Percentile:284.907000\n",
      "\n",
      "40th Percentile:489.758000\n",
      "\n",
      "60th Percentile:855.659000\n",
      "\n",
      "80th Percentile:227.171000\n",
      "\n",
      "-----------------------------\n",
      "\n",
      "-----------------------------\n",
      "\n",
      "percentile values distribution for Q043\n",
      "\n",
      "50th Percentile:285.966000\n",
      "\n",
      "90th Percentile:496.048000\n",
      "\n",
      "99th Percentile:859.123000\n",
      "\n",
      "25th Percentile:232.795000\n",
      "\n",
      "75th Percentile:328.177000\n",
      "\n",
      "20th Percentile:285.966000\n",
      "\n",
      "40th Percentile:496.048000\n",
      "\n",
      "60th Percentile:859.123000\n",
      "\n",
      "80th Percentile:232.795000\n",
      "\n",
      "-----------------------------\n",
      "\n"
     ]
    }
   ],
   "source": [
    "print_percentiles(x1, 'Q046')\n",
    "print_percentiles(x3, 'Q050')\n",
    "#print_percentiles(x5, 'h24')\n",
    "print_percentiles(x, 'Q043')"
   ]
  },
  {
   "cell_type": "code",
   "execution_count": 63,
   "metadata": {},
   "outputs": [
    {
     "name": "stderr",
     "output_type": "stream",
     "text": [
      "findfont: Font family ['monospace'] not found. Falling back to DejaVu Sans.\n"
     ]
    },
    {
     "data": {
      "image/png": "[encoded data removed]",
      "text/plain": [
       "<Figure size 900x600 with 1 Axes>"
      ]
     },
     "metadata": {
      "needs_background": "light"
     },
     "output_type": "display_data"
    }
   ],
   "source": [
    "data = {'$\\\\bf{Protocol}$': ['Q043', 'Q046', 'Q050'],\n",
    "\t'$\\\\bf{25th}$': [\"{:.2f}\".format(x.Percentile(25)), \"{:.2f}\".format(x1.Percentile(25)), \"{:.2f}\".format(x3.Percentile(25))],\n",
    "\t'$\\\\bf{50th}$': [\"{:.2f}\".format(x.Percentile(50)), \"{:.2f}\".format(x1.Percentile(50)), \"{:.2f}\".format(x3.Percentile(50))],\n",
    "\t'$\\\\bf{75th}$': [\"{:.2f}\".format(x.Percentile(75)), \"{:.2f}\".format(x1.Percentile(75)), \"{:.2f}\".format(x3.Percentile(75))],\n",
    "\t'$\\\\bf{80th}$': [\"{:.2f}\".format(x.Percentile(80)), \"{:.2f}\".format(x1.Percentile(80)), \"{:.2f}\".format(x3.Percentile(80))],\n",
    "    '$\\\\bf{90th}$': [\"{:.2f}\".format(x.Percentile(90)), \"{:.2f}\".format(x1.Percentile(90)), \"{:.2f}\".format(x3.Percentile(90))]\n",
    "        }   \n",
    "\n",
    "df_percentile = pd.DataFrame(data)\n",
    "\n",
    "fig, ax = plt.subplots(dpi=150)\n",
    "\n",
    " #hide axes\n",
    "fig.patch.set_visible(False)\n",
    "ax.axis('off')\n",
    "ax.axis('tight')\n",
    "\n",
    "ax.table(cellText=df_percentile.values, colLabels=df_percentile.columns, loc='center', cellLoc='center')\n",
    "\n",
    "#fig.tight_layout()\n",
    "plt.savefig('./AWS/Mumbai/ASN/handshake_times_ipv4_asn15169_percentile.png', format='png', bbox_inches='tight')"
   ]
  },
  {
   "cell_type": "code",
   "execution_count": 64,
   "metadata": {},
   "outputs": [
    {
     "data": {
      "image/png": "[encoded data removed]",
      "text/plain": [
       "<Figure size 720x216 with 2 Axes>"
      ]
     },
     "metadata": {
      "needs_background": "light"
     },
     "output_type": "display_data"
    }
   ],
   "source": [
    "fig = plt.figure(figsize = (10,3))\n",
    "plt.rcParams['font.size'] = 12\n",
    "ax = plt.gca()\n",
    "yticks = np.arange(0,1.1,0.2)\n",
    "\n",
    "#Q043\n",
    "plt.plot(x.xs, x.ps, marker='s', linewidth=0.3, markersize=5, fillstyle='none', color = 'orange')\n",
    "#Q046\n",
    "plt.plot(x1.xs, x1.ps, marker='s', linewidth=0.3, markersize=5, fillstyle='none', color = 'red')\n",
    "#Q050\n",
    "plt.plot(x3.xs, x3.ps, marker='s', linewidth=0.3, markersize=5, fillstyle='none', color = 'green')\n",
    "#h24\n",
    "#plt.plot(x5.xs, x5.ps, marker='s', linewidth=0.3, markersize=5, fillstyle='none', color = 'blue')\n",
    "\n",
    "\n",
    "\n",
    "ax = fig.axes[0]\n",
    "ax.grid(False)\n",
    "ax.set_yticks(yticks)\n",
    "ax.set_ylim([0,1.05])\n",
    "#ax.set_xlim([20,1000])\n",
    "ax.set_xscale('log')\n",
    "ax.set_xlabel('TTFB', fontsize=12)\n",
    "ax.set_ylabel('CDF', fontsize=12)\n",
    "\n",
    "plt.legend(['Q043', 'Q046', 'Q050'] , fontsize=11, loc='best')\n",
    "\n",
    "ax.spines['right'].set_color('none')\n",
    "ax.spines['top'].set_color('none')\n",
    "ax.yaxis.set_ticks_position('left')\n",
    "ax.xaxis.set_ticks_position('bottom')\n",
    "ax.spines['bottom'].set_position(('axes', -0.05))\n",
    "ax.spines['left'].set_position(('axes', -0.05))\n",
    "\n",
    "ax3 = ax.twinx()\n",
    "ax3.spines['right'].set_color('none')\n",
    "ax3.spines['top'].set_color('none')\n",
    "ax3.spines['left'].set_color('none')\n",
    "ax3.spines['bottom'].set_color('none')\n",
    "ax3.yaxis.set_ticks_position('none')\n",
    "plt.setp(ax3.get_yticklabels(), visible=False)\n",
    "\n",
    "plt.title('TTFB', fontsize=12, y=1.05)\n",
    "plt.savefig('./AWS/Mumbai/ASN/TTFB_ipv4_asn15169.png', format='png', bbox_inches='tight')\n"
   ]
  },
  {
   "cell_type": "code",
   "execution_count": 65,
   "metadata": {},
   "outputs": [],
   "source": [
    "x = Cdf.MakeCdfFromList(quic43['TotalDownloadTime'].values)\n",
    "x1 =Cdf.MakeCdfFromList(quic46['TotalDownloadTime'].values)\n",
    "x3 = Cdf.MakeCdfFromList(quic50['TotalDownloadTime'].values)\n",
    "x5 = Cdf.MakeCdfFromList(quich24['TotalDownloadTime'].values)"
   ]
  },
  {
   "cell_type": "code",
   "execution_count": 66,
   "metadata": {},
   "outputs": [
    {
     "name": "stdout",
     "output_type": "stream",
     "text": [
      "-----------------------------\n",
      "\n",
      "percentile values distribution for Q046\n",
      "\n",
      "50th Percentile:285.181000\n",
      "\n",
      "90th Percentile:540.961000\n",
      "\n",
      "99th Percentile:928.226000\n",
      "\n",
      "25th Percentile:227.717000\n",
      "\n",
      "75th Percentile:289.307000\n",
      "\n",
      "20th Percentile:285.181000\n",
      "\n",
      "40th Percentile:540.961000\n",
      "\n",
      "60th Percentile:928.226000\n",
      "\n",
      "80th Percentile:227.717000\n",
      "\n",
      "-----------------------------\n",
      "\n",
      "-----------------------------\n",
      "\n",
      "percentile values distribution for Q050\n",
      "\n",
      "50th Percentile:285.145000\n",
      "\n",
      "90th Percentile:534.148000\n",
      "\n",
      "99th Percentile:929.383000\n",
      "\n",
      "25th Percentile:227.228000\n",
      "\n",
      "75th Percentile:288.780000\n",
      "\n",
      "20th Percentile:285.145000\n",
      "\n",
      "40th Percentile:534.148000\n",
      "\n",
      "60th Percentile:929.383000\n",
      "\n",
      "80th Percentile:227.228000\n",
      "\n",
      "-----------------------------\n",
      "\n",
      "-----------------------------\n",
      "\n",
      "percentile values distribution for Q043\n",
      "\n",
      "50th Percentile:286.131000\n",
      "\n",
      "90th Percentile:571.223000\n",
      "\n",
      "99th Percentile:939.535000\n",
      "\n",
      "25th Percentile:232.116000\n",
      "\n",
      "75th Percentile:365.199000\n",
      "\n",
      "20th Percentile:286.131000\n",
      "\n",
      "40th Percentile:571.223000\n",
      "\n",
      "60th Percentile:939.535000\n",
      "\n",
      "80th Percentile:232.116000\n",
      "\n",
      "-----------------------------\n",
      "\n"
     ]
    }
   ],
   "source": [
    "print_percentiles(x1, 'Q046')\n",
    "print_percentiles(x3, 'Q050')\n",
    "#print_percentiles(x5, 'h24')\n",
    "print_percentiles(x, 'Q043')"
   ]
  },
  {
   "cell_type": "code",
   "execution_count": 67,
   "metadata": {},
   "outputs": [
    {
     "name": "stderr",
     "output_type": "stream",
     "text": [
      "findfont: Font family ['monospace'] not found. Falling back to DejaVu Sans.\n"
     ]
    },
    {
     "data": {
      "image/png": "[encoded data removed]",
      "text/plain": [
       "<Figure size 900x600 with 1 Axes>"
      ]
     },
     "metadata": {
      "needs_background": "light"
     },
     "output_type": "display_data"
    }
   ],
   "source": [
    "data = {'$\\\\bf{Protocol}$': ['Q043', 'Q046', 'Q050'],\n",
    "\t'$\\\\bf{25th}$': [\"{:.2f}\".format(x.Percentile(25)), \"{:.2f}\".format(x1.Percentile(25)), \"{:.2f}\".format(x3.Percentile(25))],\n",
    "\t'$\\\\bf{50th}$': [\"{:.2f}\".format(x.Percentile(50)), \"{:.2f}\".format(x1.Percentile(50)), \"{:.2f}\".format(x3.Percentile(50))],\n",
    "\t'$\\\\bf{75th}$': [\"{:.2f}\".format(x.Percentile(75)), \"{:.2f}\".format(x1.Percentile(75)), \"{:.2f}\".format(x3.Percentile(75))],\n",
    "\t'$\\\\bf{80th}$': [\"{:.2f}\".format(x.Percentile(80)), \"{:.2f}\".format(x1.Percentile(80)), \"{:.2f}\".format(x3.Percentile(80))],\n",
    "    '$\\\\bf{90th}$': [\"{:.2f}\".format(x.Percentile(90)), \"{:.2f}\".format(x1.Percentile(90)), \"{:.2f}\".format(x3.Percentile(90))]\n",
    "        }   \n",
    "\n",
    "df_percentile = pd.DataFrame(data)\n",
    "\n",
    "fig, ax = plt.subplots(dpi=150)\n",
    "\n",
    " #hide axes\n",
    "fig.patch.set_visible(False)\n",
    "ax.axis('off')\n",
    "ax.axis('tight')\n",
    "\n",
    "ax.table(cellText=df_percentile.values, colLabels=df_percentile.columns, loc='center', cellLoc='center')\n",
    "\n",
    "#fig.tight_layout()\n",
    "plt.savefig('./AWS/Mumbai/ASN/total_download_time_ipv4_asn15169_percentile.png', format='png', bbox_inches='tight')"
   ]
  },
  {
   "cell_type": "code",
   "execution_count": 68,
   "metadata": {},
   "outputs": [
    {
     "data": {
      "image/png": "[encoded data removed]",
      "text/plain": [
       "<Figure size 720x216 with 2 Axes>"
      ]
     },
     "metadata": {
      "needs_background": "light"
     },
     "output_type": "display_data"
    }
   ],
   "source": [
    "fig = plt.figure(figsize = (10,3))\n",
    "plt.rcParams['font.size'] = 12\n",
    "ax = plt.gca()\n",
    "yticks = np.arange(0,1.1,0.2)\n",
    "\n",
    "#Q043\n",
    "plt.plot(x.xs, x.ps, marker='s', linewidth=0.3, markersize=5, fillstyle='none', color = 'orange')\n",
    "#Q046\n",
    "plt.plot(x1.xs, x1.ps, marker='s', linewidth=0.3, markersize=5, fillstyle='none', color = 'red')\n",
    "#Q050\n",
    "plt.plot(x3.xs, x3.ps, marker='s', linewidth=0.3, markersize=5, fillstyle='none', color = 'green')\n",
    "#h24\n",
    "#plt.plot(x5.xs, x5.ps, marker='s', linewidth=0.3, markersize=5, fillstyle='none', color = 'blue')\n",
    "\n",
    "\n",
    "\n",
    "ax = fig.axes[0]\n",
    "ax.grid(False)\n",
    "ax.set_yticks(yticks)\n",
    "ax.set_ylim([0,1.05])\n",
    "#ax.set_xlim([20,1000])\n",
    "ax.set_xscale('log')\n",
    "ax.set_xlabel('TotalDownloadTime', fontsize=12)\n",
    "ax.set_ylabel('CDF', fontsize=12)\n",
    "\n",
    "plt.legend(['Q043', 'Q046', 'Q050'] , fontsize=11, loc='best')\n",
    "\n",
    "ax.spines['right'].set_color('none')\n",
    "ax.spines['top'].set_color('none')\n",
    "ax.yaxis.set_ticks_position('left')\n",
    "ax.xaxis.set_ticks_position('bottom')\n",
    "ax.spines['bottom'].set_position(('axes', -0.05))\n",
    "ax.spines['left'].set_position(('axes', -0.05))\n",
    "\n",
    "ax3 = ax.twinx()\n",
    "ax3.spines['right'].set_color('none')\n",
    "ax3.spines['top'].set_color('none')\n",
    "ax3.spines['left'].set_color('none')\n",
    "ax3.spines['bottom'].set_color('none')\n",
    "ax3.yaxis.set_ticks_position('none')\n",
    "plt.setp(ax3.get_yticklabels(), visible=False)\n",
    "\n",
    "plt.title('Total Download Time', fontsize=12, y=1.05)\n",
    "plt.savefig('./AWS/Mumbai/ASN/total_download_time_ipv4_asn15169.png', format='png', bbox_inches='tight')\n"
   ]
  },
  {
   "cell_type": "code",
   "execution_count": 69,
   "metadata": {},
   "outputs": [],
   "source": [
    "#Edgecast\n",
    "quic44 = quic15133.loc[t['Protocol'] == 'Q046']\n",
    "quic43 = quic15133.loc[t['Protocol'] == 'Q043']\n",
    "quic39 = quic15133.loc[t['Protocol'] == 'Q050']\n",
    "quic35 = quic15133.loc[t['Protocol'] == 'FF000018']"
   ]
  },
  {
   "cell_type": "code",
   "execution_count": 70,
   "metadata": {},
   "outputs": [],
   "source": [
    "x = Cdf.MakeCdfFromList(quic43['ConnectionEstablishmentTime'].values)\n",
    "x1 =Cdf.MakeCdfFromList(quic46['ConnectionEstablishmentTime'].values)\n",
    "x3 = Cdf.MakeCdfFromList(quic50['ConnectionEstablishmentTime'].values)\n",
    "x5 = Cdf.MakeCdfFromList(quich24['ConnectionEstablishmentTime'].values)"
   ]
  },
  {
   "cell_type": "code",
   "execution_count": 71,
   "metadata": {},
   "outputs": [
    {
     "name": "stdout",
     "output_type": "stream",
     "text": [
      "-----------------------------\n",
      "\n",
      "percentile values distribution for Q046\n",
      "\n",
      "50th Percentile:159.983000\n",
      "\n",
      "90th Percentile:166.284000\n",
      "\n",
      "99th Percentile:735.912000\n",
      "\n",
      "25th Percentile:124.604000\n",
      "\n",
      "75th Percentile:163.626000\n",
      "\n",
      "20th Percentile:159.983000\n",
      "\n",
      "40th Percentile:166.284000\n",
      "\n",
      "60th Percentile:735.912000\n",
      "\n",
      "80th Percentile:124.604000\n",
      "\n",
      "-----------------------------\n",
      "\n",
      "-----------------------------\n",
      "\n",
      "percentile values distribution for Q050\n",
      "\n",
      "50th Percentile:160.015000\n",
      "\n",
      "90th Percentile:166.355000\n",
      "\n",
      "99th Percentile:776.799000\n",
      "\n",
      "25th Percentile:124.652000\n",
      "\n",
      "75th Percentile:163.813000\n",
      "\n",
      "20th Percentile:160.015000\n",
      "\n",
      "40th Percentile:166.355000\n",
      "\n",
      "60th Percentile:776.799000\n",
      "\n",
      "80th Percentile:124.652000\n",
      "\n",
      "-----------------------------\n",
      "\n",
      "-----------------------------\n",
      "\n",
      "percentile values distribution for Q043\n",
      "\n",
      "50th Percentile:40.623000\n",
      "\n",
      "90th Percentile:149.892000\n",
      "\n",
      "99th Percentile:899.932000\n",
      "\n",
      "25th Percentile:8.243000\n",
      "\n",
      "75th Percentile:45.724000\n",
      "\n",
      "20th Percentile:40.623000\n",
      "\n",
      "40th Percentile:149.892000\n",
      "\n",
      "60th Percentile:899.932000\n",
      "\n",
      "80th Percentile:8.243000\n",
      "\n",
      "-----------------------------\n",
      "\n"
     ]
    }
   ],
   "source": [
    "print_percentiles(x1, 'Q046')\n",
    "print_percentiles(x3, 'Q050')\n",
    "#print_percentiles(x5, 'h24')\n",
    "print_percentiles(x, 'Q043')"
   ]
  },
  {
   "cell_type": "code",
   "execution_count": 72,
   "metadata": {},
   "outputs": [
    {
     "name": "stderr",
     "output_type": "stream",
     "text": [
      "findfont: Font family ['monospace'] not found. Falling back to DejaVu Sans.\n"
     ]
    },
    {
     "data": {
      "image/png": "[encoded data removed]",
      "text/plain": [
       "<Figure size 900x600 with 1 Axes>"
      ]
     },
     "metadata": {
      "needs_background": "light"
     },
     "output_type": "display_data"
    }
   ],
   "source": [
    "data = {'$\\\\bf{Protocol}$': ['Q043', 'Q046', 'Q050'],\n",
    "\t'$\\\\bf{25th}$': [\"{:.2f}\".format(x.Percentile(25)), \"{:.2f}\".format(x1.Percentile(25)), \"{:.2f}\".format(x3.Percentile(25))],\n",
    "\t'$\\\\bf{50th}$': [\"{:.2f}\".format(x.Percentile(50)), \"{:.2f}\".format(x1.Percentile(50)), \"{:.2f}\".format(x3.Percentile(50))],\n",
    "\t'$\\\\bf{75th}$': [\"{:.2f}\".format(x.Percentile(75)), \"{:.2f}\".format(x1.Percentile(75)), \"{:.2f}\".format(x3.Percentile(75))],\n",
    "\t'$\\\\bf{80th}$': [\"{:.2f}\".format(x.Percentile(80)), \"{:.2f}\".format(x1.Percentile(80)), \"{:.2f}\".format(x3.Percentile(80))],\n",
    "    '$\\\\bf{90th}$': [\"{:.2f}\".format(x.Percentile(90)), \"{:.2f}\".format(x1.Percentile(90)), \"{:.2f}\".format(x3.Percentile(90))]\n",
    "        }   \n",
    "\n",
    "df_percentile = pd.DataFrame(data)\n",
    "\n",
    "fig, ax = plt.subplots(dpi=150)\n",
    "\n",
    " #hide axes\n",
    "fig.patch.set_visible(False)\n",
    "ax.axis('off')\n",
    "ax.axis('tight')\n",
    "\n",
    "ax.table(cellText=df_percentile.values, colLabels=df_percentile.columns, loc='center', cellLoc='center')\n",
    "\n",
    "#fig.tight_layout()\n",
    "plt.savefig('./AWS/Mumbai/ASN/handshake_times_ipv4_asn15133_percentile.png', format='png', bbox_inches='tight')"
   ]
  },
  {
   "cell_type": "code",
   "execution_count": 73,
   "metadata": {},
   "outputs": [
    {
     "data": {
      "image/png": "[encoded data removed]",
      "text/plain": [
       "<Figure size 720x216 with 2 Axes>"
      ]
     },
     "metadata": {
      "needs_background": "light"
     },
     "output_type": "display_data"
    }
   ],
   "source": [
    "fig = plt.figure(figsize = (10,3))\n",
    "plt.rcParams['font.size'] = 12\n",
    "ax = plt.gca()\n",
    "yticks = np.arange(0,1.1,0.2)\n",
    "\n",
    "#Q043\n",
    "plt.plot(x.xs, x.ps, marker='s', linewidth=0.3, markersize=5, fillstyle='none', color = 'orange')\n",
    "#Q046\n",
    "plt.plot(x1.xs, x1.ps, marker='s', linewidth=0.3, markersize=5, fillstyle='none', color = 'red')\n",
    "#Q050\n",
    "plt.plot(x3.xs, x3.ps, marker='s', linewidth=0.3, markersize=5, fillstyle='none', color = 'green')\n",
    "#h24\n",
    "#plt.plot(x5.xs, x5.ps, marker='s', linewidth=0.3, markersize=5, fillstyle='none', color = 'blue')\n",
    "\n",
    "\n",
    "\n",
    "ax = fig.axes[0]\n",
    "ax.grid(False)\n",
    "ax.set_yticks(yticks)\n",
    "ax.set_ylim([0,1.05])\n",
    "#ax.set_xlim([20,100])\n",
    "ax.set_xscale('log')\n",
    "ax.set_xlabel('latency (x-axis is cut)', fontsize=12)\n",
    "ax.set_ylabel('CDF', fontsize=12)\n",
    "\n",
    "plt.legend(['Q043', 'Q046', 'Q050'] , fontsize=11, loc='best')\n",
    "\n",
    "ax.spines['right'].set_color('none')\n",
    "ax.spines['top'].set_color('none')\n",
    "ax.yaxis.set_ticks_position('left')\n",
    "ax.xaxis.set_ticks_position('bottom')\n",
    "ax.spines['bottom'].set_position(('axes', -0.05))\n",
    "ax.spines['left'].set_position(('axes', -0.05))\n",
    "\n",
    "ax3 = ax.twinx()\n",
    "ax3.spines['right'].set_color('none')\n",
    "ax3.spines['top'].set_color('none')\n",
    "ax3.spines['left'].set_color('none')\n",
    "ax3.spines['bottom'].set_color('none')\n",
    "ax3.yaxis.set_ticks_position('none')\n",
    "plt.setp(ax3.get_yticklabels(), visible=False)\n",
    "\n",
    "plt.title('Handshake Times with IPv4', fontsize=12, y=1.05)\n",
    "plt.savefig('./AWS/Mumbai/ASN/handshake_times_ipv4_asn15133.png', format='png', bbox_inches='tight')\n"
   ]
  },
  {
   "cell_type": "code",
   "execution_count": 74,
   "metadata": {},
   "outputs": [],
   "source": [
    "x = Cdf.MakeCdfFromList(quic43['TTFB'].values)\n",
    "x1 =Cdf.MakeCdfFromList(quic46['TTFB'].values)\n",
    "x3 = Cdf.MakeCdfFromList(quic50['TTFB'].values)\n",
    "x5 = Cdf.MakeCdfFromList(quich24['TTFB'].values)"
   ]
  },
  {
   "cell_type": "code",
   "execution_count": 75,
   "metadata": {
    "lines_to_next_cell": 2
   },
   "outputs": [
    {
     "name": "stdout",
     "output_type": "stream",
     "text": [
      "-----------------------------\n",
      "\n",
      "percentile values distribution for Q046\n",
      "\n",
      "50th Percentile:284.936000\n",
      "\n",
      "90th Percentile:489.661000\n",
      "\n",
      "99th Percentile:856.319000\n",
      "\n",
      "25th Percentile:227.591000\n",
      "\n",
      "75th Percentile:288.577000\n",
      "\n",
      "20th Percentile:284.936000\n",
      "\n",
      "40th Percentile:489.661000\n",
      "\n",
      "60th Percentile:856.319000\n",
      "\n",
      "80th Percentile:227.591000\n",
      "\n",
      "-----------------------------\n",
      "\n",
      "-----------------------------\n",
      "\n",
      "percentile values distribution for Q050\n",
      "\n",
      "50th Percentile:284.907000\n",
      "\n",
      "90th Percentile:489.758000\n",
      "\n",
      "99th Percentile:855.659000\n",
      "\n",
      "25th Percentile:227.171000\n",
      "\n",
      "75th Percentile:288.472000\n",
      "\n",
      "20th Percentile:284.907000\n",
      "\n",
      "40th Percentile:489.758000\n",
      "\n",
      "60th Percentile:855.659000\n",
      "\n",
      "80th Percentile:227.171000\n",
      "\n",
      "-----------------------------\n",
      "\n",
      "-----------------------------\n",
      "\n",
      "percentile values distribution for Q043\n",
      "\n",
      "50th Percentile:295.535000\n",
      "\n",
      "90th Percentile:780.892000\n",
      "\n",
      "99th Percentile:980.092000\n",
      "\n",
      "25th Percentile:108.181000\n",
      "\n",
      "75th Percentile:578.002000\n",
      "\n",
      "20th Percentile:295.535000\n",
      "\n",
      "40th Percentile:780.892000\n",
      "\n",
      "60th Percentile:980.092000\n",
      "\n",
      "80th Percentile:108.181000\n",
      "\n",
      "-----------------------------\n",
      "\n"
     ]
    }
   ],
   "source": [
    "print_percentiles(x1, 'Q046')\n",
    "print_percentiles(x3, 'Q050')\n",
    "#print_percentiles(x5, 'h24')\n",
    "print_percentiles(x, 'Q043')"
   ]
  },
  {
   "cell_type": "code",
   "execution_count": 76,
   "metadata": {},
   "outputs": [
    {
     "name": "stderr",
     "output_type": "stream",
     "text": [
      "findfont: Font family ['monospace'] not found. Falling back to DejaVu Sans.\n"
     ]
    },
    {
     "data": {
      "image/png": "[encoded data removed]",
      "text/plain": [
       "<Figure size 900x600 with 1 Axes>"
      ]
     },
     "metadata": {
      "needs_background": "light"
     },
     "output_type": "display_data"
    }
   ],
   "source": [
    "data = {'$\\\\bf{Protocol}$': ['Q043', 'Q046', 'Q050'],\n",
    "\t'$\\\\bf{25th}$': [\"{:.2f}\".format(x.Percentile(25)), \"{:.2f}\".format(x1.Percentile(25)), \"{:.2f}\".format(x3.Percentile(25))],\n",
    "\t'$\\\\bf{50th}$': [\"{:.2f}\".format(x.Percentile(50)), \"{:.2f}\".format(x1.Percentile(50)), \"{:.2f}\".format(x3.Percentile(50))],\n",
    "\t'$\\\\bf{75th}$': [\"{:.2f}\".format(x.Percentile(75)), \"{:.2f}\".format(x1.Percentile(75)), \"{:.2f}\".format(x3.Percentile(75))],\n",
    "\t'$\\\\bf{80th}$': [\"{:.2f}\".format(x.Percentile(80)), \"{:.2f}\".format(x1.Percentile(80)), \"{:.2f}\".format(x3.Percentile(80))],\n",
    "    '$\\\\bf{90th}$': [\"{:.2f}\".format(x.Percentile(90)), \"{:.2f}\".format(x1.Percentile(90)), \"{:.2f}\".format(x3.Percentile(90))]\n",
    "        }   \n",
    "\n",
    "df_percentile = pd.DataFrame(data)\n",
    "\n",
    "fig, ax = plt.subplots(dpi=150)\n",
    "\n",
    " #hide axes\n",
    "fig.patch.set_visible(False)\n",
    "ax.axis('off')\n",
    "ax.axis('tight')\n",
    "\n",
    "ax.table(cellText=df_percentile.values, colLabels=df_percentile.columns, loc='center', cellLoc='center')\n",
    "\n",
    "#fig.tight_layout()\n",
    "plt.savefig('./AWS/Mumbai/ASN/TTFB_ipv4_asn15133_percentile.png', format='png', bbox_inches='tight')\n"
   ]
  },
  {
   "cell_type": "code",
   "execution_count": 77,
   "metadata": {},
   "outputs": [
    {
     "data": {
      "image/png": "[encoded data removed]",
      "text/plain": [
       "<Figure size 720x216 with 2 Axes>"
      ]
     },
     "metadata": {
      "needs_background": "light"
     },
     "output_type": "display_data"
    }
   ],
   "source": [
    "fig = plt.figure(figsize = (10,3))\n",
    "plt.rcParams['font.size'] = 12\n",
    "ax = plt.gca()\n",
    "yticks = np.arange(0,1.1,0.2)\n",
    "\n",
    "#Q043\n",
    "plt.plot(x.xs, x.ps, marker='s', linewidth=0.3, markersize=5, fillstyle='none', color = 'orange')\n",
    "#Q046\n",
    "plt.plot(x1.xs, x1.ps, marker='s', linewidth=0.3, markersize=5, fillstyle='none', color = 'red')\n",
    "#Q050\n",
    "plt.plot(x3.xs, x3.ps, marker='s', linewidth=0.3, markersize=5, fillstyle='none', color = 'green')\n",
    "#h4\n",
    "plt.plot(x5.xs, x5.ps, marker='s', linewidth=0.3, markersize=5, fillstyle='none', color = 'blue')\n",
    "\n",
    "\n",
    "\n",
    "ax = fig.axes[0]\n",
    "ax.grid(False)\n",
    "ax.set_yticks(yticks)\n",
    "ax.set_ylim([0,1.05])\n",
    "#ax.set_xlim([20,1000])\n",
    "ax.set_xscale('log')\n",
    "ax.set_xlabel('TTFB', fontsize=12)\n",
    "ax.set_ylabel('CDF', fontsize=12)\n",
    "\n",
    "plt.legend(['Q043', 'Q046', 'Q050'] , fontsize=11, loc='best')\n",
    "\n",
    "ax.spines['right'].set_color('none')\n",
    "ax.spines['top'].set_color('none')\n",
    "ax.yaxis.set_ticks_position('left')\n",
    "ax.xaxis.set_ticks_position('bottom')\n",
    "ax.spines['bottom'].set_position(('axes', -0.05))\n",
    "ax.spines['left'].set_position(('axes', -0.05))\n",
    "\n",
    "ax3 = ax.twinx()\n",
    "ax3.spines['right'].set_color('none')\n",
    "ax3.spines['top'].set_color('none')\n",
    "ax3.spines['left'].set_color('none')\n",
    "ax3.spines['bottom'].set_color('none')\n",
    "ax3.yaxis.set_ticks_position('none')\n",
    "plt.setp(ax3.get_yticklabels(), visible=False)\n",
    "\n",
    "plt.title('TTFB', fontsize=12, y=1.05)\n",
    "plt.savefig('./AWS/Mumbai/ASN/TTFB_ipv4_asn15133.png', format='png', bbox_inches='tight')\n"
   ]
  },
  {
   "cell_type": "code",
   "execution_count": 78,
   "metadata": {},
   "outputs": [],
   "source": [
    "x = Cdf.MakeCdfFromList(quic43['TotalDownloadTime'].values)\n",
    "x1 =Cdf.MakeCdfFromList(quic46['TotalDownloadTime'].values)\n",
    "x3 = Cdf.MakeCdfFromList(quic50['TotalDownloadTime'].values)\n",
    "x5 = Cdf.MakeCdfFromList(quich24['TotalDownloadTime'].values)"
   ]
  },
  {
   "cell_type": "code",
   "execution_count": 79,
   "metadata": {
    "lines_to_next_cell": 2
   },
   "outputs": [
    {
     "name": "stdout",
     "output_type": "stream",
     "text": [
      "-----------------------------\n",
      "\n",
      "percentile values distribution for Q046\n",
      "\n",
      "50th Percentile:285.181000\n",
      "\n",
      "90th Percentile:540.961000\n",
      "\n",
      "99th Percentile:928.226000\n",
      "\n",
      "25th Percentile:227.717000\n",
      "\n",
      "75th Percentile:289.307000\n",
      "\n",
      "20th Percentile:285.181000\n",
      "\n",
      "40th Percentile:540.961000\n",
      "\n",
      "60th Percentile:928.226000\n",
      "\n",
      "80th Percentile:227.717000\n",
      "\n",
      "-----------------------------\n",
      "\n",
      "-----------------------------\n",
      "\n",
      "percentile values distribution for Q050\n",
      "\n",
      "50th Percentile:285.145000\n",
      "\n",
      "90th Percentile:534.148000\n",
      "\n",
      "99th Percentile:929.383000\n",
      "\n",
      "25th Percentile:227.228000\n",
      "\n",
      "75th Percentile:288.780000\n",
      "\n",
      "20th Percentile:285.145000\n",
      "\n",
      "40th Percentile:534.148000\n",
      "\n",
      "60th Percentile:929.383000\n",
      "\n",
      "80th Percentile:227.228000\n",
      "\n",
      "-----------------------------\n",
      "\n",
      "-----------------------------\n",
      "\n",
      "percentile values distribution for Q043\n",
      "\n",
      "50th Percentile:361.255000\n",
      "\n",
      "90th Percentile:863.330000\n",
      "\n",
      "99th Percentile:984.560000\n",
      "\n",
      "25th Percentile:125.866000\n",
      "\n",
      "75th Percentile:679.672000\n",
      "\n",
      "20th Percentile:361.255000\n",
      "\n",
      "40th Percentile:863.330000\n",
      "\n",
      "60th Percentile:984.560000\n",
      "\n",
      "80th Percentile:125.866000\n",
      "\n",
      "-----------------------------\n",
      "\n"
     ]
    }
   ],
   "source": [
    "print_percentiles(x1, 'Q046')\n",
    "print_percentiles(x3, 'Q050')\n",
    "#print_percentiles(x5, 'h24')\n",
    "print_percentiles(x, 'Q043')"
   ]
  },
  {
   "cell_type": "code",
   "execution_count": 80,
   "metadata": {},
   "outputs": [
    {
     "name": "stderr",
     "output_type": "stream",
     "text": [
      "findfont: Font family ['monospace'] not found. Falling back to DejaVu Sans.\n"
     ]
    },
    {
     "data": {
      "image/png": "[encoded data removed]",
      "text/plain": [
       "<Figure size 900x600 with 1 Axes>"
      ]
     },
     "metadata": {
      "needs_background": "light"
     },
     "output_type": "display_data"
    }
   ],
   "source": [
    "data = {'$\\\\bf{Protocol}$': ['Q043', 'Q046', 'Q050'],\n",
    "\t'$\\\\bf{25th}$': [\"{:.2f}\".format(x.Percentile(25)), \"{:.2f}\".format(x1.Percentile(25)), \"{:.2f}\".format(x3.Percentile(25))],\n",
    "\t'$\\\\bf{50th}$': [\"{:.2f}\".format(x.Percentile(50)), \"{:.2f}\".format(x1.Percentile(50)), \"{:.2f}\".format(x3.Percentile(50))],\n",
    "\t'$\\\\bf{75th}$': [\"{:.2f}\".format(x.Percentile(75)), \"{:.2f}\".format(x1.Percentile(75)), \"{:.2f}\".format(x3.Percentile(75))],\n",
    "\t'$\\\\bf{80th}$': [\"{:.2f}\".format(x.Percentile(80)), \"{:.2f}\".format(x1.Percentile(80)), \"{:.2f}\".format(x3.Percentile(80))],\n",
    "    '$\\\\bf{90th}$': [\"{:.2f}\".format(x.Percentile(90)), \"{:.2f}\".format(x1.Percentile(90)), \"{:.2f}\".format(x3.Percentile(90))]\n",
    "        }   \n",
    "\n",
    "df_percentile = pd.DataFrame(data)\n",
    "\n",
    "fig, ax = plt.subplots(dpi=150)\n",
    "\n",
    " #hide axes\n",
    "fig.patch.set_visible(False)\n",
    "ax.axis('off')\n",
    "ax.axis('tight')\n",
    "\n",
    "ax.table(cellText=df_percentile.values, colLabels=df_percentile.columns, loc='center', cellLoc='center')\n",
    "\n",
    "#fig.tight_layout()\n",
    "plt.savefig('./AWS/Mumbai/ASN/Total_Download_time_ipv4_asn15133_percentile.png', format='png', bbox_inches='tight')"
   ]
  },
  {
   "cell_type": "code",
   "execution_count": 81,
   "metadata": {},
   "outputs": [
    {
     "data": {
      "image/png": "[encoded data removed]",
      "text/plain": [
       "<Figure size 720x216 with 2 Axes>"
      ]
     },
     "metadata": {
      "needs_background": "light"
     },
     "output_type": "display_data"
    }
   ],
   "source": [
    "fig = plt.figure(figsize = (10,3))\n",
    "plt.rcParams['font.size'] = 12\n",
    "ax = plt.gca()\n",
    "yticks = np.arange(0,1.1,0.2)\n",
    "\n",
    "#Q043\n",
    "plt.plot(x.xs, x.ps, marker='s', linewidth=0.3, markersize=5, fillstyle='none', color = 'orange')\n",
    "#Q046\n",
    "plt.plot(x1.xs, x1.ps, marker='s', linewidth=0.3, markersize=5, fillstyle='none', color = 'red')\n",
    "#Q050\n",
    "plt.plot(x3.xs, x3.ps, marker='s', linewidth=0.3, markersize=5, fillstyle='none', color = 'green')\n",
    "#h24\n",
    "#plt.plot(x5.xs, x5.ps, marker='s', linewidth=0.3, markersize=5, fillstyle='none', color = 'blue')\n",
    "\n",
    "\n",
    "\n",
    "ax = fig.axes[0]\n",
    "ax.grid(False)\n",
    "ax.set_yticks(yticks)\n",
    "ax.set_ylim([0,1.05])\n",
    "#ax.set_xlim([20,1000])\n",
    "ax.set_xscale('log')\n",
    "ax.set_xlabel('TotalDownloadTime', fontsize=12)\n",
    "ax.set_ylabel('CDF', fontsize=12)\n",
    "\n",
    "plt.legend(['Q043', 'Q046', 'Q050'] , fontsize=11, loc='best')\n",
    "\n",
    "ax.spines['right'].set_color('none')\n",
    "ax.spines['top'].set_color('none')\n",
    "ax.yaxis.set_ticks_position('left')\n",
    "ax.xaxis.set_ticks_position('bottom')\n",
    "ax.spines['bottom'].set_position(('axes', -0.05))\n",
    "ax.spines['left'].set_position(('axes', -0.05))\n",
    "\n",
    "ax3 = ax.twinx()\n",
    "ax3.spines['right'].set_color('none')\n",
    "ax3.spines['top'].set_color('none')\n",
    "ax3.spines['left'].set_color('none')\n",
    "ax3.spines['bottom'].set_color('none')\n",
    "ax3.yaxis.set_ticks_position('none')\n",
    "plt.setp(ax3.get_yticklabels(), visible=False)\n",
    "\n",
    "plt.title('TotalDownloadTime', fontsize=12, y=1.05)\n",
    "plt.savefig('./AWS/Mumbai/ASN/Total_Download_time_ipv4_asn15133.png', format='png', bbox_inches='tight')\n",
    "\n"
   ]
  },
  {
   "cell_type": "code",
   "execution_count": 82,
   "metadata": {},
   "outputs": [],
   "source": [
    "# IHCRU - Internet-Hosting Ltd\n",
    "quic203226 = quic4.loc[t['ASNo'] == 203226]\n",
    "quic46 = quic203226.loc[t['Protocol'] == 'Q046']\n",
    "quic43 = quic203226.loc[t['Protocol'] == 'Q043']\n",
    "quic50 = quic203226.loc[t['Protocol'] == 'Q050']\n",
    "quich24 = quic203226.loc[t['Protocol'] == 'FF000018']"
   ]
  },
  {
   "cell_type": "code",
   "execution_count": 83,
   "metadata": {},
   "outputs": [],
   "source": [
    "x = Cdf.MakeCdfFromList(quic43['ConnectionEstablishmentTime'].values)\n",
    "x1 =Cdf.MakeCdfFromList(quic46['ConnectionEstablishmentTime'].values)\n",
    "x3 = Cdf.MakeCdfFromList(quic50['ConnectionEstablishmentTime'].values)\n",
    "x5 = Cdf.MakeCdfFromList(quich24['ConnectionEstablishmentTime'].values)"
   ]
  },
  {
   "cell_type": "markdown",
   "metadata": {
    "lines_to_next_cell": 2
   },
   "source": [
    "print_percentiles(x1, 'Q046')\n",
    "print_percentiles(x3, 'Q050')\n",
    "print_percentiles(x5, 'h24')\n",
    "print_percentiles(x, 'Q043')"
   ]
  },
  {
   "cell_type": "code",
   "execution_count": 84,
   "metadata": {},
   "outputs": [
    {
     "name": "stderr",
     "output_type": "stream",
     "text": [
      "findfont: Font family ['monospace'] not found. Falling back to DejaVu Sans.\n"
     ]
    },
    {
     "data": {
      "image/png": "[encoded data removed]",
      "text/plain": [
       "<Figure size 900x600 with 1 Axes>"
      ]
     },
     "metadata": {
      "needs_background": "light"
     },
     "output_type": "display_data"
    }
   ],
   "source": [
    "data = {'$\\\\bf{Protocol}$': ['Q043', 'Q046', 'Q050'],\n",
    "\t'$\\\\bf{25th}$': [\"{:.2f}\".format(x.Percentile(25)), \"{:.2f}\".format(x1.Percentile(25)), \"{:.2f}\".format(x3.Percentile(25))],\n",
    "\t'$\\\\bf{50th}$': [\"{:.2f}\".format(x.Percentile(50)), \"{:.2f}\".format(x1.Percentile(50)), \"{:.2f}\".format(x3.Percentile(50))],\n",
    "\t'$\\\\bf{75th}$': [\"{:.2f}\".format(x.Percentile(75)), \"{:.2f}\".format(x1.Percentile(75)), \"{:.2f}\".format(x3.Percentile(75))],\n",
    "\t'$\\\\bf{80th}$': [\"{:.2f}\".format(x.Percentile(80)), \"{:.2f}\".format(x1.Percentile(80)), \"{:.2f}\".format(x3.Percentile(80))],\n",
    "    '$\\\\bf{90th}$': [\"{:.2f}\".format(x.Percentile(90)), \"{:.2f}\".format(x1.Percentile(90)), \"{:.2f}\".format(x3.Percentile(90))]\n",
    "        }    \n",
    "\n",
    "df_percentile = pd.DataFrame(data)\n",
    "\n",
    "fig, ax = plt.subplots(dpi=150)\n",
    "\n",
    " #hide axes\n",
    "fig.patch.set_visible(False)\n",
    "ax.axis('off')\n",
    "ax.axis('tight')\n",
    "\n",
    "ax.table(cellText=df_percentile.values, colLabels=df_percentile.columns, loc='center', cellLoc='center')\n",
    "\n",
    "#fig.tight_layout()\n",
    "plt.savefig('./AWS/Mumbai/ASN/handshake_times_ipv4_asn203226_percentile.png', format='png', bbox_inches='tight')"
   ]
  },
  {
   "cell_type": "code",
   "execution_count": 85,
   "metadata": {},
   "outputs": [
    {
     "data": {
      "image/png": "[encoded data removed]",
      "text/plain": [
       "<Figure size 720x216 with 2 Axes>"
      ]
     },
     "metadata": {
      "needs_background": "light"
     },
     "output_type": "display_data"
    }
   ],
   "source": [
    "fig = plt.figure(figsize = (10,3))\n",
    "plt.rcParams['font.size'] = 12\n",
    "ax = plt.gca()\n",
    "yticks = np.arange(0,1.1,0.2)\n",
    "\n",
    "#Q043\n",
    "plt.plot(x.xs, x.ps, marker='s', linewidth=0.3, markersize=5, fillstyle='none', color = 'orange')\n",
    "#Q046\n",
    "plt.plot(x1.xs, x1.ps, marker='s', linewidth=0.3, markersize=5, fillstyle='none', color = 'red')\n",
    "#Q050\n",
    "plt.plot(x3.xs, x3.ps, marker='s', linewidth=0.3, markersize=5, fillstyle='none', color = 'green')\n",
    "#h24\n",
    "#plt.plot(x5.xs, x5.ps, marker='s', linewidth=0.3, markersize=5, fillstyle='none', color = 'blue')\n",
    "\n",
    "\n",
    "\n",
    "ax = fig.axes[0]\n",
    "ax.grid(False)\n",
    "ax.set_yticks(yticks)\n",
    "ax.set_ylim([0,1.05])\n",
    "#ax.set_xlim([20,100])\n",
    "ax.set_xscale('log')\n",
    "ax.set_xlabel('latency (x-axis is cut)', fontsize=12)\n",
    "ax.set_ylabel('CDF', fontsize=12)\n",
    "\n",
    "plt.legend(['Q043', 'Q046', 'Q050'] , fontsize=11, loc='best')\n",
    "\n",
    "ax.spines['right'].set_color('none')\n",
    "ax.spines['top'].set_color('none')\n",
    "ax.yaxis.set_ticks_position('left')\n",
    "ax.xaxis.set_ticks_position('bottom')\n",
    "ax.spines['bottom'].set_position(('axes', -0.05))\n",
    "ax.spines['left'].set_position(('axes', -0.05))\n",
    "\n",
    "ax3 = ax.twinx()\n",
    "ax3.spines['right'].set_color('none')\n",
    "ax3.spines['top'].set_color('none')\n",
    "ax3.spines['left'].set_color('none')\n",
    "ax3.spines['bottom'].set_color('none')\n",
    "ax3.yaxis.set_ticks_position('none')\n",
    "plt.setp(ax3.get_yticklabels(), visible=False)\n",
    "\n",
    "plt.title('Handshake Times with IPv4', fontsize=12, y=1.05)\n",
    "plt.savefig('./AWS/Mumbai/ASN/handshake_times_ipv4_asn203226.png', format='png', bbox_inches='tight')\n"
   ]
  },
  {
   "cell_type": "code",
   "execution_count": 86,
   "metadata": {},
   "outputs": [],
   "source": [
    "x = Cdf.MakeCdfFromList(quic43['TTFB'].values)\n",
    "x1 =Cdf.MakeCdfFromList(quic46['TTFB'].values)\n",
    "x3 = Cdf.MakeCdfFromList(quic50['TTFB'].values)\n",
    "x5 = Cdf.MakeCdfFromList(quich24['TTFB'].values)"
   ]
  },
  {
   "cell_type": "code",
   "execution_count": 87,
   "metadata": {
    "lines_to_next_cell": 2
   },
   "outputs": [
    {
     "name": "stdout",
     "output_type": "stream",
     "text": [
      "-----------------------------\n",
      "\n",
      "percentile values distribution for Q046\n",
      "\n",
      "50th Percentile:490.806000\n",
      "\n",
      "90th Percentile:576.616000\n",
      "\n",
      "99th Percentile:884.064000\n",
      "\n",
      "25th Percentile:463.746000\n",
      "\n",
      "75th Percentile:528.188000\n",
      "\n",
      "20th Percentile:490.806000\n",
      "\n",
      "40th Percentile:576.616000\n",
      "\n",
      "60th Percentile:884.064000\n",
      "\n",
      "80th Percentile:463.746000\n",
      "\n",
      "-----------------------------\n",
      "\n",
      "-----------------------------\n",
      "\n",
      "percentile values distribution for Q050\n",
      "\n",
      "50th Percentile:490.510000\n",
      "\n",
      "90th Percentile:610.576000\n",
      "\n",
      "99th Percentile:909.413000\n",
      "\n",
      "25th Percentile:459.338000\n",
      "\n",
      "75th Percentile:530.027000\n",
      "\n",
      "20th Percentile:490.510000\n",
      "\n",
      "40th Percentile:610.576000\n",
      "\n",
      "60th Percentile:909.413000\n",
      "\n",
      "80th Percentile:459.338000\n",
      "\n",
      "-----------------------------\n",
      "\n",
      "-----------------------------\n",
      "\n",
      "percentile values distribution for Q043\n",
      "\n",
      "50th Percentile:491.238000\n",
      "\n",
      "90th Percentile:656.850000\n",
      "\n",
      "99th Percentile:904.852000\n",
      "\n",
      "25th Percentile:458.794000\n",
      "\n",
      "75th Percentile:530.580000\n",
      "\n",
      "20th Percentile:491.238000\n",
      "\n",
      "40th Percentile:656.850000\n",
      "\n",
      "60th Percentile:904.852000\n",
      "\n",
      "80th Percentile:458.794000\n",
      "\n",
      "-----------------------------\n",
      "\n"
     ]
    }
   ],
   "source": [
    "print_percentiles(x1, 'Q046')\n",
    "print_percentiles(x3, 'Q050')\n",
    "#print_percentiles(x5, 'h24')\n",
    "print_percentiles(x, 'Q043')"
   ]
  },
  {
   "cell_type": "code",
   "execution_count": 88,
   "metadata": {},
   "outputs": [
    {
     "name": "stderr",
     "output_type": "stream",
     "text": [
      "findfont: Font family ['monospace'] not found. Falling back to DejaVu Sans.\n"
     ]
    },
    {
     "data": {
      "image/png": "[encoded data removed]",
      "text/plain": [
       "<Figure size 900x600 with 1 Axes>"
      ]
     },
     "metadata": {
      "needs_background": "light"
     },
     "output_type": "display_data"
    }
   ],
   "source": [
    "data = {'$\\\\bf{Protocol}$': ['Q043', 'Q046', 'Q050'],\n",
    "\t'$\\\\bf{25th}$': [\"{:.2f}\".format(x.Percentile(25)), \"{:.2f}\".format(x1.Percentile(25)), \"{:.2f}\".format(x3.Percentile(25))],\n",
    "\t'$\\\\bf{50th}$': [\"{:.2f}\".format(x.Percentile(50)), \"{:.2f}\".format(x1.Percentile(50)), \"{:.2f}\".format(x3.Percentile(50))],\n",
    "\t'$\\\\bf{75th}$': [\"{:.2f}\".format(x.Percentile(75)), \"{:.2f}\".format(x1.Percentile(75)), \"{:.2f}\".format(x3.Percentile(75))],\n",
    "\t'$\\\\bf{80th}$': [\"{:.2f}\".format(x.Percentile(80)), \"{:.2f}\".format(x1.Percentile(80)), \"{:.2f}\".format(x3.Percentile(80))],\n",
    "    '$\\\\bf{90th}$': [\"{:.2f}\".format(x.Percentile(90)), \"{:.2f}\".format(x1.Percentile(90)), \"{:.2f}\".format(x3.Percentile(90))]\n",
    "        }    \n",
    "\n",
    "df_percentile = pd.DataFrame(data)\n",
    "\n",
    "fig, ax = plt.subplots(dpi=150)\n",
    "\n",
    " #hide axes\n",
    "fig.patch.set_visible(False)\n",
    "ax.axis('off')\n",
    "ax.axis('tight')\n",
    "\n",
    "ax.table(cellText=df_percentile.values, colLabels=df_percentile.columns, loc='center', cellLoc='center')\n",
    "\n",
    "#fig.tight_layout()\n",
    "plt.savefig('./AWS/Mumbai/ASN/ttfb_ipv4_asn203226_percentile.png', format='png', bbox_inches='tight')"
   ]
  },
  {
   "cell_type": "code",
   "execution_count": 89,
   "metadata": {},
   "outputs": [
    {
     "data": {
      "image/png": "[encoded data removed]",
      "text/plain": [
       "<Figure size 720x216 with 2 Axes>"
      ]
     },
     "metadata": {
      "needs_background": "light"
     },
     "output_type": "display_data"
    }
   ],
   "source": [
    "fig = plt.figure(figsize = (10,3))\n",
    "plt.rcParams['font.size'] = 12\n",
    "ax = plt.gca()\n",
    "yticks = np.arange(0,1.1,0.2)\n",
    "\n",
    "#Q043\n",
    "plt.plot(x.xs, x.ps, marker='s', linewidth=0.3, markersize=5, fillstyle='none', color = 'orange')\n",
    "#Q046\n",
    "plt.plot(x1.xs, x1.ps, marker='s', linewidth=0.3, markersize=5, fillstyle='none', color = 'red')\n",
    "#Q050\n",
    "plt.plot(x3.xs, x3.ps, marker='s', linewidth=0.3, markersize=5, fillstyle='none', color = 'green')\n",
    "#Q=h24\n",
    "#plt.plot(x5.xs, x5.ps, marker='s', linewidth=0.3, markersize=5, fillstyle='none', color = 'blue')\n",
    "\n",
    "\n",
    "\n",
    "ax = fig.axes[0]\n",
    "ax.grid(False)\n",
    "ax.set_yticks(yticks)\n",
    "ax.set_ylim([0,1.05])\n",
    "#ax.set_xlim([20,600])\n",
    "ax.set_xscale('log')\n",
    "ax.set_xlabel('TTFB', fontsize=12)\n",
    "ax.set_ylabel('CDF', fontsize=12)\n",
    "\n",
    "plt.legend(['Q043', 'Q046', 'Q050'] , fontsize=11, loc='best')\n",
    "\n",
    "ax.spines['right'].set_color('none')\n",
    "ax.spines['top'].set_color('none')\n",
    "ax.yaxis.set_ticks_position('left')\n",
    "ax.xaxis.set_ticks_position('bottom')\n",
    "ax.spines['bottom'].set_position(('axes', -0.05))\n",
    "ax.spines['left'].set_position(('axes', -0.05))\n",
    "\n",
    "ax3 = ax.twinx()\n",
    "ax3.spines['right'].set_color('none')\n",
    "ax3.spines['top'].set_color('none')\n",
    "ax3.spines['left'].set_color('none')\n",
    "ax3.spines['bottom'].set_color('none')\n",
    "ax3.yaxis.set_ticks_position('none')\n",
    "plt.setp(ax3.get_yticklabels(), visible=False)\n",
    "\n",
    "plt.title('TTFB', fontsize=12, y=1.05)\n",
    "plt.savefig('./AWS/Mumbai/ASN/ttfb_ipv4_asn203226.png', format='png', bbox_inches='tight')\n"
   ]
  },
  {
   "cell_type": "code",
   "execution_count": 90,
   "metadata": {},
   "outputs": [],
   "source": [
    "x = Cdf.MakeCdfFromList(quic43['TotalDownloadTime'].values)\n",
    "x1 =Cdf.MakeCdfFromList(quic46['TotalDownloadTime'].values)\n",
    "x3 = Cdf.MakeCdfFromList(quic50['TotalDownloadTime'].values)\n",
    "x5 = Cdf.MakeCdfFromList(quich24['TotalDownloadTime'].values)"
   ]
  },
  {
   "cell_type": "code",
   "execution_count": 91,
   "metadata": {
    "lines_to_next_cell": 2
   },
   "outputs": [
    {
     "name": "stdout",
     "output_type": "stream",
     "text": [
      "-----------------------------\n",
      "\n",
      "percentile values distribution for Q046\n",
      "\n",
      "50th Percentile:491.079000\n",
      "\n",
      "90th Percentile:574.464000\n",
      "\n",
      "99th Percentile:884.098000\n",
      "\n",
      "25th Percentile:462.210000\n",
      "\n",
      "75th Percentile:530.833000\n",
      "\n",
      "20th Percentile:491.079000\n",
      "\n",
      "40th Percentile:574.464000\n",
      "\n",
      "60th Percentile:884.098000\n",
      "\n",
      "80th Percentile:462.210000\n",
      "\n",
      "-----------------------------\n",
      "\n",
      "-----------------------------\n",
      "\n",
      "percentile values distribution for Q050\n",
      "\n",
      "50th Percentile:490.982000\n",
      "\n",
      "90th Percentile:573.575000\n",
      "\n",
      "99th Percentile:946.598000\n",
      "\n",
      "25th Percentile:462.503000\n",
      "\n",
      "75th Percentile:532.155000\n",
      "\n",
      "20th Percentile:490.982000\n",
      "\n",
      "40th Percentile:573.575000\n",
      "\n",
      "60th Percentile:946.598000\n",
      "\n",
      "80th Percentile:462.503000\n",
      "\n",
      "-----------------------------\n",
      "\n",
      "-----------------------------\n",
      "\n",
      "percentile values distribution for Q043\n",
      "\n",
      "50th Percentile:491.543000\n",
      "\n",
      "90th Percentile:572.552000\n",
      "\n",
      "99th Percentile:980.912000\n",
      "\n",
      "25th Percentile:457.559000\n",
      "\n",
      "75th Percentile:531.500000\n",
      "\n",
      "20th Percentile:491.543000\n",
      "\n",
      "40th Percentile:572.552000\n",
      "\n",
      "60th Percentile:980.912000\n",
      "\n",
      "80th Percentile:457.559000\n",
      "\n",
      "-----------------------------\n",
      "\n"
     ]
    }
   ],
   "source": [
    "print_percentiles(x1, 'Q046')\n",
    "print_percentiles(x3, 'Q050')\n",
    "#print_percentiles(x5, 'h24')\n",
    "print_percentiles(x, 'Q043')"
   ]
  },
  {
   "cell_type": "code",
   "execution_count": 92,
   "metadata": {},
   "outputs": [
    {
     "name": "stderr",
     "output_type": "stream",
     "text": [
      "findfont: Font family ['monospace'] not found. Falling back to DejaVu Sans.\n"
     ]
    },
    {
     "data": {
      "image/png": "[encoded data removed]",
      "text/plain": [
       "<Figure size 900x600 with 1 Axes>"
      ]
     },
     "metadata": {
      "needs_background": "light"
     },
     "output_type": "display_data"
    }
   ],
   "source": [
    "data = {'$\\\\bf{Protocol}$': ['Q043', 'Q046', 'Q050'],\n",
    "\t'$\\\\bf{25th}$': [\"{:.2f}\".format(x.Percentile(25)), \"{:.2f}\".format(x1.Percentile(25)), \"{:.2f}\".format(x3.Percentile(25))],\n",
    "\t'$\\\\bf{50th}$': [\"{:.2f}\".format(x.Percentile(50)), \"{:.2f}\".format(x1.Percentile(50)), \"{:.2f}\".format(x3.Percentile(50))],\n",
    "\t'$\\\\bf{75th}$': [\"{:.2f}\".format(x.Percentile(75)), \"{:.2f}\".format(x1.Percentile(75)), \"{:.2f}\".format(x3.Percentile(75))],\n",
    "\t'$\\\\bf{80th}$': [\"{:.2f}\".format(x.Percentile(80)), \"{:.2f}\".format(x1.Percentile(80)), \"{:.2f}\".format(x3.Percentile(80))],\n",
    "    '$\\\\bf{90th}$': [\"{:.2f}\".format(x.Percentile(90)), \"{:.2f}\".format(x1.Percentile(90)), \"{:.2f}\".format(x3.Percentile(90))]\n",
    "        }    \n",
    "\n",
    "df_percentile = pd.DataFrame(data)\n",
    "\n",
    "fig, ax = plt.subplots(dpi=150)\n",
    "\n",
    " #hide axes\n",
    "fig.patch.set_visible(False)\n",
    "ax.axis('off')\n",
    "ax.axis('tight')\n",
    "\n",
    "ax.table(cellText=df_percentile.values, colLabels=df_percentile.columns, loc='center', cellLoc='center')\n",
    "\n",
    "#fig.tight_layout()\n",
    "plt.savefig('./AWS/Mumbai/ASN/totaldownloadtime_ipv4_asn203226_percentile.png', format='png', bbox_inches='tight')\n"
   ]
  },
  {
   "cell_type": "code",
   "execution_count": 93,
   "metadata": {},
   "outputs": [
    {
     "data": {
      "image/png": "[encoded data removed]",
      "text/plain": [
       "<Figure size 720x216 with 2 Axes>"
      ]
     },
     "metadata": {
      "needs_background": "light"
     },
     "output_type": "display_data"
    }
   ],
   "source": [
    "fig = plt.figure(figsize = (10,3))\n",
    "plt.rcParams['font.size'] = 12\n",
    "ax = plt.gca()\n",
    "yticks = np.arange(0,1.1,0.2)\n",
    "\n",
    "#Q043\n",
    "plt.plot(x.xs, x.ps, marker='s', linewidth=0.3, markersize=5, fillstyle='none', color = 'orange')\n",
    "#Q046\n",
    "plt.plot(x1.xs, x1.ps, marker='s', linewidth=0.3, markersize=5, fillstyle='none', color = 'red')\n",
    "#Q050\n",
    "plt.plot(x3.xs, x3.ps, marker='s', linewidth=0.3, markersize=5, fillstyle='none', color = 'green')\n",
    "#h24\n",
    "#plt.plot(x5.xs, x5.ps, marker='s', linewidth=0.3, markersize=5, fillstyle='none', color = 'blue')\n",
    "\n",
    "\n",
    "\n",
    "ax = fig.axes[0]\n",
    "ax.grid(False)\n",
    "ax.set_yticks(yticks)\n",
    "ax.set_ylim([0,1.05])\n",
    "#ax.set_xlim([20,600])\n",
    "ax.set_xscale('log')\n",
    "ax.set_xlabel('TotalDownloadTime', fontsize=12)\n",
    "ax.set_ylabel('CDF', fontsize=12)\n",
    "\n",
    "plt.legend(['Q043', 'Q046', 'Q050'] , fontsize=11, loc='best')\n",
    "\n",
    "ax.spines['right'].set_color('none')\n",
    "ax.spines['top'].set_color('none')\n",
    "ax.yaxis.set_ticks_position('left')\n",
    "ax.xaxis.set_ticks_position('bottom')\n",
    "ax.spines['bottom'].set_position(('axes', -0.05))\n",
    "ax.spines['left'].set_position(('axes', -0.05))\n",
    "\n",
    "ax3 = ax.twinx()\n",
    "ax3.spines['right'].set_color('none')\n",
    "ax3.spines['top'].set_color('none')\n",
    "ax3.spines['left'].set_color('none')\n",
    "ax3.spines['bottom'].set_color('none')\n",
    "ax3.yaxis.set_ticks_position('none')\n",
    "plt.setp(ax3.get_yticklabels(), visible=False)\n",
    "\n",
    "plt.title('TotalDownloadTime', fontsize=12, y=1.05)\n",
    "plt.savefig('./AWS/Mumbai/ASN/totaldownloadtime_ipv4_asn203226.png', format='png', bbox_inches='tight')\n"
   ]
  },
  {
   "cell_type": "code",
   "execution_count": null,
   "metadata": {},
   "outputs": [],
   "source": []
  },
  {
   "cell_type": "code",
   "execution_count": null,
   "metadata": {},
   "outputs": [],
   "source": []
  },
  {
   "cell_type": "code",
   "execution_count": null,
   "metadata": {},
   "outputs": [],
   "source": []
  },
  {
   "cell_type": "code",
   "execution_count": null,
   "metadata": {},
   "outputs": [],
   "source": []
  },
  {
   "cell_type": "code",
   "execution_count": null,
   "metadata": {},
   "outputs": [],
   "source": []
  },
  {
   "cell_type": "code",
   "execution_count": null,
   "metadata": {},
   "outputs": [],
   "source": []
  }
 ],
 "metadata": {
  "jupytext": {
   "formats": "ipynb,py:light",
   "text_representation": {
    "extension": ".py",
    "format_name": "light",
    "format_version": "1.3",
    "jupytext_version": "0.8.4"
   }
  },
  "kernelspec": {
   "display_name": "Python 3",
   "language": "python",
   "name": "python3"
  },
  "language_info": {
   "codemirror_mode": {
    "name": "ipython",
    "version": 3
   },
   "file_extension": ".py",
   "mimetype": "text/x-python",
   "name": "python",
   "nbconvert_exporter": "python",
   "pygments_lexer": "ipython3",
   "version": "3.7.5"
  }
 },
 "nbformat": 4,
 "nbformat_minor": 2
}
